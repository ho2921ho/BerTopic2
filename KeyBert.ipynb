{
 "cells": [
  {
   "cell_type": "code",
   "execution_count": 1,
   "id": "bf256a88",
   "metadata": {
    "collapsed": true
   },
   "outputs": [
    {
     "name": "stdout",
     "output_type": "stream",
     "text": [
      "Collecting keybert"
     ]
    },
    {
     "name": "stderr",
     "output_type": "stream",
     "text": [
      "WARNING: Ignoring invalid distribution -atplotlib (c:\\users\\user-pc\\miniconda3\\lib\\site-packages)\n",
      "WARNING: Ignoring invalid distribution -atplotlib (c:\\users\\user-pc\\miniconda3\\lib\\site-packages)\n",
      "WARNING: Ignoring invalid distribution -atplotlib (c:\\users\\user-pc\\miniconda3\\lib\\site-packages)\n",
      "WARNING: Ignoring invalid distribution -atplotlib (c:\\users\\user-pc\\miniconda3\\lib\\site-packages)\n",
      "WARNING: Ignoring invalid distribution -atplotlib (c:\\users\\user-pc\\miniconda3\\lib\\site-packages)\n",
      "WARNING: Ignoring invalid distribution -atplotlib (c:\\users\\user-pc\\miniconda3\\lib\\site-packages)\n",
      "WARNING: Ignoring invalid distribution -atplotlib (c:\\users\\user-pc\\miniconda3\\lib\\site-packages)\n",
      "WARNING: Ignoring invalid distribution -atplotlib (c:\\users\\user-pc\\miniconda3\\lib\\site-packages)\n",
      "WARNING: Ignoring invalid distribution -atplotlib (c:\\users\\user-pc\\miniconda3\\lib\\site-packages)\n",
      "WARNING: You are using pip version 22.0.4; however, version 22.2.2 is available.\n",
      "You should consider upgrading via the 'C:\\Users\\User-Pc\\miniconda3\\python.exe -m pip install --upgrade pip' command.\n"
     ]
    },
    {
     "name": "stdout",
     "output_type": "stream",
     "text": [
      "\n",
      "  Downloading keybert-0.6.0-py2.py3-none-any.whl (22 kB)\n",
      "Collecting rich>=10.4.0\n",
      "  Downloading rich-12.5.1-py3-none-any.whl (235 kB)\n",
      "     -------------------------------------- 235.6/235.6 KB 4.8 MB/s eta 0:00:00\n",
      "Requirement already satisfied: scikit-learn>=0.22.2 in c:\\users\\user-pc\\miniconda3\\lib\\site-packages (from keybert) (1.1.2)\n",
      "Requirement already satisfied: numpy>=1.18.5 in c:\\users\\user-pc\\miniconda3\\lib\\site-packages (from keybert) (1.21.5)\n",
      "Requirement already satisfied: sentence-transformers>=0.3.8 in c:\\users\\user-pc\\miniconda3\\lib\\site-packages (from keybert) (2.2.2)\n",
      "Collecting commonmark<0.10.0,>=0.9.0\n",
      "  Downloading commonmark-0.9.1-py2.py3-none-any.whl (51 kB)\n",
      "     ---------------------------------------- 51.1/51.1 KB 2.6 MB/s eta 0:00:00\n",
      "Requirement already satisfied: pygments<3.0.0,>=2.6.0 in c:\\users\\user-pc\\miniconda3\\lib\\site-packages (from rich>=10.4.0->keybert) (2.11.2)\n",
      "Requirement already satisfied: joblib>=1.0.0 in c:\\users\\user-pc\\miniconda3\\lib\\site-packages (from scikit-learn>=0.22.2->keybert) (1.1.0)\n",
      "Requirement already satisfied: threadpoolctl>=2.0.0 in c:\\users\\user-pc\\miniconda3\\lib\\site-packages (from scikit-learn>=0.22.2->keybert) (3.0.0)\n",
      "Requirement already satisfied: scipy>=1.3.2 in c:\\users\\user-pc\\miniconda3\\lib\\site-packages (from scikit-learn>=0.22.2->keybert) (1.9.0)\n",
      "Requirement already satisfied: transformers<5.0.0,>=4.6.0 in c:\\users\\user-pc\\miniconda3\\lib\\site-packages (from sentence-transformers>=0.3.8->keybert) (4.21.1)\n",
      "Requirement already satisfied: torchvision in c:\\users\\user-pc\\miniconda3\\lib\\site-packages (from sentence-transformers>=0.3.8->keybert) (0.12.0)\n",
      "Requirement already satisfied: tqdm in c:\\users\\user-pc\\miniconda3\\lib\\site-packages (from sentence-transformers>=0.3.8->keybert) (4.63.0)\n",
      "Requirement already satisfied: nltk in c:\\users\\user-pc\\miniconda3\\lib\\site-packages (from sentence-transformers>=0.3.8->keybert) (3.7)\n",
      "Requirement already satisfied: huggingface-hub>=0.4.0 in c:\\users\\user-pc\\miniconda3\\lib\\site-packages (from sentence-transformers>=0.3.8->keybert) (0.8.1)\n",
      "Requirement already satisfied: torch>=1.6.0 in c:\\users\\user-pc\\miniconda3\\lib\\site-packages (from sentence-transformers>=0.3.8->keybert) (1.11.0)\n",
      "Requirement already satisfied: sentencepiece in c:\\users\\user-pc\\miniconda3\\lib\\site-packages (from sentence-transformers>=0.3.8->keybert) (0.1.97)\n",
      "Requirement already satisfied: typing-extensions>=3.7.4.3 in c:\\users\\user-pc\\miniconda3\\lib\\site-packages (from huggingface-hub>=0.4.0->sentence-transformers>=0.3.8->keybert) (4.1.1)\n",
      "Requirement already satisfied: requests in c:\\users\\user-pc\\miniconda3\\lib\\site-packages (from huggingface-hub>=0.4.0->sentence-transformers>=0.3.8->keybert) (2.28.1)\n",
      "Requirement already satisfied: packaging>=20.9 in c:\\users\\user-pc\\miniconda3\\lib\\site-packages (from huggingface-hub>=0.4.0->sentence-transformers>=0.3.8->keybert) (21.3)\n",
      "Requirement already satisfied: pyyaml>=5.1 in c:\\users\\user-pc\\miniconda3\\lib\\site-packages (from huggingface-hub>=0.4.0->sentence-transformers>=0.3.8->keybert) (5.4.1)\n",
      "Requirement already satisfied: filelock in c:\\users\\user-pc\\miniconda3\\lib\\site-packages (from huggingface-hub>=0.4.0->sentence-transformers>=0.3.8->keybert) (3.6.0)\n",
      "Requirement already satisfied: tokenizers!=0.11.3,<0.13,>=0.11.1 in c:\\users\\user-pc\\miniconda3\\lib\\site-packages (from transformers<5.0.0,>=4.6.0->sentence-transformers>=0.3.8->keybert) (0.12.1)\n",
      "Requirement already satisfied: regex!=2019.12.17 in c:\\users\\user-pc\\miniconda3\\lib\\site-packages (from transformers<5.0.0,>=4.6.0->sentence-transformers>=0.3.8->keybert) (2022.4.24)\n",
      "Requirement already satisfied: colorama in c:\\users\\user-pc\\miniconda3\\lib\\site-packages (from tqdm->sentence-transformers>=0.3.8->keybert) (0.4.4)\n",
      "Requirement already satisfied: click in c:\\users\\user-pc\\miniconda3\\lib\\site-packages (from nltk->sentence-transformers>=0.3.8->keybert) (8.1.2)\n",
      "Requirement already satisfied: pillow!=8.3.*,>=5.3.0 in c:\\users\\user-pc\\miniconda3\\lib\\site-packages (from torchvision->sentence-transformers>=0.3.8->keybert) (9.1.0)\n",
      "Requirement already satisfied: pyparsing!=3.0.5,>=2.0.2 in c:\\users\\user-pc\\miniconda3\\lib\\site-packages (from packaging>=20.9->huggingface-hub>=0.4.0->sentence-transformers>=0.3.8->keybert) (3.0.4)\n",
      "Requirement already satisfied: idna<4,>=2.5 in c:\\users\\user-pc\\miniconda3\\lib\\site-packages (from requests->huggingface-hub>=0.4.0->sentence-transformers>=0.3.8->keybert) (2.6)\n",
      "Requirement already satisfied: urllib3<1.27,>=1.21.1 in c:\\users\\user-pc\\miniconda3\\lib\\site-packages (from requests->huggingface-hub>=0.4.0->sentence-transformers>=0.3.8->keybert) (1.26.11)\n",
      "Requirement already satisfied: charset-normalizer<3,>=2 in c:\\users\\user-pc\\miniconda3\\lib\\site-packages (from requests->huggingface-hub>=0.4.0->sentence-transformers>=0.3.8->keybert) (2.0.4)\n",
      "Requirement already satisfied: certifi>=2017.4.17 in c:\\users\\user-pc\\miniconda3\\lib\\site-packages (from requests->huggingface-hub>=0.4.0->sentence-transformers>=0.3.8->keybert) (2021.10.8)\n",
      "Installing collected packages: commonmark, rich, keybert\n",
      "Successfully installed commonmark-0.9.1 keybert-0.6.0 rich-12.5.1\n"
     ]
    }
   ],
   "source": [
    "!pip install keybert"
   ]
  },
  {
   "cell_type": "code",
   "execution_count": 2,
   "id": "b9778986",
   "metadata": {},
   "outputs": [],
   "source": [
    "from keybert import KeyBERT\n",
    "import pickle\n",
    "import re\n",
    "from tqdm import tqdm\n",
    "import pandas as pd"
   ]
  },
  {
   "cell_type": "code",
   "execution_count": 15,
   "id": "8a11ddff",
   "metadata": {
    "scrolled": true
   },
   "outputs": [],
   "source": [
    "name = 'news_final.pickle'\n",
    "with open('C:/Users/Notebiz003/BerTopic/news/' + name, 'rb') as f:\n",
    "    data = pickle.load(f)"
   ]
  },
  {
   "cell_type": "code",
   "execution_count": 16,
   "id": "3e88503a",
   "metadata": {},
   "outputs": [],
   "source": [
    "data = data.reset_index()"
   ]
  },
  {
   "cell_type": "code",
   "execution_count": 18,
   "id": "fe8be561",
   "metadata": {},
   "outputs": [],
   "source": [
    "idx = []\n",
    "for x in data['index']:\n",
    "    tmp = x.split('/')\n",
    "    if len(tmp[0]) == 1:\n",
    "        tmp[0] = '0'+tmp[0]\n",
    "    if len(tmp[1]) == 1:\n",
    "        tmp[1] = '0'+tmp[1]\n",
    "    tmp = tmp[2] + tmp[0] + tmp[1]\n",
    "    idx.append(''.join(tmp))"
   ]
  },
  {
   "cell_type": "code",
   "execution_count": 19,
   "id": "cc28588a",
   "metadata": {},
   "outputs": [],
   "source": [
    "data['index'] = idx\n",
    "data = data.rename({'index':'일자',0:'news'},axis = 1)"
   ]
  },
  {
   "cell_type": "code",
   "execution_count": 20,
   "id": "69a96c82",
   "metadata": {},
   "outputs": [],
   "source": [
    "def doc2key(cleaned_content):\n",
    "    \n",
    "    kw_model = KeyBERT(model='all-MiniLM-L6-v2')\n",
    "    keywords = kw_model.extract_keywords(doc)\n",
    "    \n",
    "    n2_kwd = kw_model.extract_keywords(cleaned_content, keyphrase_ngram_range=(2, 2), stop_words='english',\n",
    "                                  use_mmr=True, diversity=0.7, top_n=100)\n",
    "\n",
    "    n1_kwd = kw_model.extract_keywords(cleaned_content, keyphrase_ngram_range=(1, 1), stop_words='english',\n",
    "                                  use_mmr=True, diversity=0.7, top_n=50)\n",
    "    for idx,i in enumerate(n2_kwd):\n",
    "        n2_kwd[idx] = i[0]\n",
    "    for idx,i in enumerate(n1_kwd):\n",
    "        n1_kwd[idx] = i[0]  \n",
    "\n",
    "    n1_kwd.extend(n2_kwd)\n",
    "    kwd = n1_kwd\n",
    "    return kwd"
   ]
  },
  {
   "cell_type": "code",
   "execution_count": null,
   "id": "27039f31",
   "metadata": {
    "scrolled": true
   },
   "outputs": [
    {
     "name": "stderr",
     "output_type": "stream",
     "text": [
      "  4%|██▊                                                                           | 39/1095 [19:23<6:11:09, 21.09s/it]"
     ]
    }
   ],
   "source": [
    "tmp_dfs = []\n",
    "for idx in tqdm(range(len(data['일자']))):\n",
    "    news = data.iloc[idx,:]['news']\n",
    "    date = data.iloc[idx,:]['일자']\n",
    "    tmp_dict = dict()\n",
    "    tmp = []\n",
    "    for doc in news:\n",
    "        cleaned_content = re.sub(r'[^\\.\\?\\!\\w\\d\\s]','',doc) # 문장단위로 끊기\n",
    "        cleaned_content = cleaned_content.replace('\\n',' ')\n",
    "        cleaned_content = cleaned_content.lower()\n",
    "        kwd = doc2key(cleaned_content)\n",
    "        tmp.append(kwd)\n",
    "\n",
    "    tmp_dict[date] = tmp\n",
    "    tmp_df = pd.DataFrame(tmp_dict)\n",
    "    tmp_df['일자'] = [date for x in range(len(tmp))]\n",
    "    tmp_df = tmp_df.rename({date:'키워드'},axis = 1)\n",
    "    tmp_df = tmp_df[['일자','키워드']]\n",
    "    tmp_dfs.append(tmp_df)"
   ]
  },
  {
   "cell_type": "code",
   "execution_count": 8,
   "id": "923983c2",
   "metadata": {},
   "outputs": [],
   "source": [
    "df = pd.concat(tmp_dfs)"
   ]
  },
  {
   "cell_type": "code",
   "execution_count": 1,
   "id": "815bd390",
   "metadata": {
    "scrolled": true
   },
   "outputs": [
    {
     "ename": "NameError",
     "evalue": "name 'df' is not defined",
     "output_type": "error",
     "traceback": [
      "\u001b[1;31m---------------------------------------------------------------------------\u001b[0m",
      "\u001b[1;31mNameError\u001b[0m                                 Traceback (most recent call last)",
      "\u001b[1;32m<ipython-input-1-00cf07b74dcd>\u001b[0m in \u001b[0;36m<module>\u001b[1;34m\u001b[0m\n\u001b[1;32m----> 1\u001b[1;33m \u001b[0mdf\u001b[0m\u001b[1;33m\u001b[0m\u001b[1;33m\u001b[0m\u001b[0m\n\u001b[0m",
      "\u001b[1;31mNameError\u001b[0m: name 'df' is not defined"
     ]
    }
   ],
   "source": [
    "df"
   ]
  },
  {
   "cell_type": "code",
   "execution_count": 8,
   "id": "80706d63",
   "metadata": {},
   "outputs": [
    {
     "data": {
      "text/html": [
       "<div>\n",
       "<style scoped>\n",
       "    .dataframe tbody tr th:only-of-type {\n",
       "        vertical-align: middle;\n",
       "    }\n",
       "\n",
       "    .dataframe tbody tr th {\n",
       "        vertical-align: top;\n",
       "    }\n",
       "\n",
       "    .dataframe thead th {\n",
       "        text-align: right;\n",
       "    }\n",
       "</style>\n",
       "<table border=\"1\" class=\"dataframe\">\n",
       "  <thead>\n",
       "    <tr style=\"text-align: right;\">\n",
       "      <th></th>\n",
       "      <th>일자</th>\n",
       "      <th>news</th>\n",
       "    </tr>\n",
       "  </thead>\n",
       "  <tbody>\n",
       "    <tr>\n",
       "      <th>0</th>\n",
       "      <td>20190801</td>\n",
       "      <td>[Newspapers have lost about 57% of their ad an...</td>\n",
       "    </tr>\n",
       "    <tr>\n",
       "      <th>1</th>\n",
       "      <td>20190802</td>\n",
       "      <td>[Why did this happen?\\n\\nPlease make sure your...</td>\n",
       "    </tr>\n",
       "    <tr>\n",
       "      <th>2</th>\n",
       "      <td>20190803</td>\n",
       "      <td>[Become an FT subscriber to read:\\n\\nLeverage ...</td>\n",
       "    </tr>\n",
       "    <tr>\n",
       "      <th>3</th>\n",
       "      <td>20190804</td>\n",
       "      <td>[Make informed decisions with the FT\\n\\nKeep a...</td>\n",
       "    </tr>\n",
       "    <tr>\n",
       "      <th>4</th>\n",
       "      <td>20190805</td>\n",
       "      <td>[Today Standard Chartered announced it complet...</td>\n",
       "    </tr>\n",
       "    <tr>\n",
       "      <th>...</th>\n",
       "      <td>...</td>\n",
       "      <td>...</td>\n",
       "    </tr>\n",
       "    <tr>\n",
       "      <th>1090</th>\n",
       "      <td>20220727</td>\n",
       "      <td>[Dealing with the repercussions of the multibi...</td>\n",
       "    </tr>\n",
       "    <tr>\n",
       "      <th>1091</th>\n",
       "      <td>20220728</td>\n",
       "      <td>[A report produced by the Alliance for Financi...</td>\n",
       "    </tr>\n",
       "    <tr>\n",
       "      <th>1092</th>\n",
       "      <td>20220729</td>\n",
       "      <td>[For finance departments, the pursuit of great...</td>\n",
       "    </tr>\n",
       "    <tr>\n",
       "      <th>1093</th>\n",
       "      <td>20220730</td>\n",
       "      <td>[By Monish Anand\\n\\nIn India, a significant pa...</td>\n",
       "    </tr>\n",
       "    <tr>\n",
       "      <th>1094</th>\n",
       "      <td>20220731</td>\n",
       "      <td>[London, United Kingdom and Tunis, Tunisia – V...</td>\n",
       "    </tr>\n",
       "  </tbody>\n",
       "</table>\n",
       "<p>1095 rows × 2 columns</p>\n",
       "</div>"
      ],
      "text/plain": [
       "            일자                                               news\n",
       "0     20190801  [Newspapers have lost about 57% of their ad an...\n",
       "1     20190802  [Why did this happen?\\n\\nPlease make sure your...\n",
       "2     20190803  [Become an FT subscriber to read:\\n\\nLeverage ...\n",
       "3     20190804  [Make informed decisions with the FT\\n\\nKeep a...\n",
       "4     20190805  [Today Standard Chartered announced it complet...\n",
       "...        ...                                                ...\n",
       "1090  20220727  [Dealing with the repercussions of the multibi...\n",
       "1091  20220728  [A report produced by the Alliance for Financi...\n",
       "1092  20220729  [For finance departments, the pursuit of great...\n",
       "1093  20220730  [By Monish Anand\\n\\nIn India, a significant pa...\n",
       "1094  20220731  [London, United Kingdom and Tunis, Tunisia – V...\n",
       "\n",
       "[1095 rows x 2 columns]"
      ]
     },
     "execution_count": 8,
     "metadata": {},
     "output_type": "execute_result"
    }
   ],
   "source": [
    "data"
   ]
  }
 ],
 "metadata": {
  "kernelspec": {
   "display_name": "Python 3",
   "language": "python",
   "name": "python3"
  },
  "language_info": {
   "codemirror_mode": {
    "name": "ipython",
    "version": 3
   },
   "file_extension": ".py",
   "mimetype": "text/x-python",
   "name": "python",
   "nbconvert_exporter": "python",
   "pygments_lexer": "ipython3",
   "version": "3.9.12"
  }
 },
 "nbformat": 4,
 "nbformat_minor": 5
}
