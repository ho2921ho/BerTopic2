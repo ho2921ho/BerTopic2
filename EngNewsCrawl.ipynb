{
 "cells": [
  {
   "cell_type": "code",
   "execution_count": 1,
   "id": "51a9495e",
   "metadata": {
    "collapsed": true
   },
   "outputs": [
    {
     "name": "stdout",
     "output_type": "stream",
     "text": [
      "Requirement already satisfied: beautifulsoup4 in c:\\users\\user-pc\\miniconda3\\lib\\site-packages (4.10.0)\n",
      "Requirement already satisfied: soupsieve>1.2 in c:\\users\\user-pc\\miniconda3\\lib\\site-packages (from beautifulsoup4) (2.3.1)\n"
     ]
    },
    {
     "name": "stderr",
     "output_type": "stream",
     "text": [
      "WARNING: Ignoring invalid distribution -atplotlib (c:\\users\\user-pc\\miniconda3\\lib\\site-packages)\n",
      "WARNING: Ignoring invalid distribution -atplotlib (c:\\users\\user-pc\\miniconda3\\lib\\site-packages)\n",
      "WARNING: Ignoring invalid distribution -atplotlib (c:\\users\\user-pc\\miniconda3\\lib\\site-packages)\n",
      "WARNING: Ignoring invalid distribution -atplotlib (c:\\users\\user-pc\\miniconda3\\lib\\site-packages)\n",
      "WARNING: Ignoring invalid distribution -atplotlib (c:\\users\\user-pc\\miniconda3\\lib\\site-packages)\n",
      "WARNING: Ignoring invalid distribution -atplotlib (c:\\users\\user-pc\\miniconda3\\lib\\site-packages)\n",
      "WARNING: You are using pip version 22.0.4; however, version 22.2.2 is available.\n",
      "You should consider upgrading via the 'C:\\Users\\User-Pc\\miniconda3\\python.exe -m pip install --upgrade pip' command.\n"
     ]
    },
    {
     "name": "stdout",
     "output_type": "stream",
     "text": [
      "Requirement already satisfied: selenium in c:\\users\\user-pc\\miniconda3\\lib\\site-packages (4.4.3)\n",
      "Requirement already satisfied: trio-websocket~=0.9 in c:\\users\\user-pc\\miniconda3\\lib\\site-packages (from selenium) (0.9.2)\n",
      "Requirement already satisfied: certifi>=2021.10.8 in c:\\users\\user-pc\\miniconda3\\lib\\site-packages (from selenium) (2021.10.8)\n",
      "Requirement already satisfied: urllib3[socks]~=1.26 in c:\\users\\user-pc\\miniconda3\\lib\\site-packages (from selenium) (1.26.11)\n",
      "Requirement already satisfied: trio~=0.17 in c:\\users\\user-pc\\miniconda3\\lib\\site-packages (from selenium) (0.21.0)\n",
      "Requirement already satisfied: attrs>=19.2.0 in c:\\users\\user-pc\\miniconda3\\lib\\site-packages (from trio~=0.17->selenium) (21.4.0)\n",
      "Requirement already satisfied: outcome in c:\\users\\user-pc\\miniconda3\\lib\\site-packages (from trio~=0.17->selenium) (1.2.0)\n",
      "Requirement already satisfied: async-generator>=1.9 in c:\\users\\user-pc\\miniconda3\\lib\\site-packages (from trio~=0.17->selenium) (1.10)\n",
      "Requirement already satisfied: sortedcontainers in c:\\users\\user-pc\\miniconda3\\lib\\site-packages (from trio~=0.17->selenium) (2.4.0)\n",
      "Requirement already satisfied: cffi>=1.14 in c:\\users\\user-pc\\miniconda3\\lib\\site-packages (from trio~=0.17->selenium) (1.15.0)\n",
      "Requirement already satisfied: idna in c:\\users\\user-pc\\miniconda3\\lib\\site-packages (from trio~=0.17->selenium) (2.6)\n",
      "Requirement already satisfied: sniffio in c:\\users\\user-pc\\miniconda3\\lib\\site-packages (from trio~=0.17->selenium) (1.2.0)\n",
      "Requirement already satisfied: wsproto>=0.14 in c:\\users\\user-pc\\miniconda3\\lib\\site-packages (from trio-websocket~=0.9->selenium) (1.1.0)\n",
      "Requirement already satisfied: PySocks!=1.5.7,<2.0,>=1.5.6 in c:\\users\\user-pc\\miniconda3\\lib\\site-packages (from urllib3[socks]~=1.26->selenium) (1.7.1)\n",
      "Requirement already satisfied: pycparser in c:\\users\\user-pc\\miniconda3\\lib\\site-packages (from cffi>=1.14->trio~=0.17->selenium) (2.21)\n",
      "Requirement already satisfied: h11<1,>=0.9.0 in c:\\users\\user-pc\\miniconda3\\lib\\site-packages (from wsproto>=0.14->trio-websocket~=0.9->selenium) (0.13.0)\n"
     ]
    },
    {
     "name": "stderr",
     "output_type": "stream",
     "text": [
      "WARNING: Ignoring invalid distribution -atplotlib (c:\\users\\user-pc\\miniconda3\\lib\\site-packages)\n",
      "WARNING: Ignoring invalid distribution -atplotlib (c:\\users\\user-pc\\miniconda3\\lib\\site-packages)\n",
      "WARNING: Ignoring invalid distribution -atplotlib (c:\\users\\user-pc\\miniconda3\\lib\\site-packages)\n",
      "WARNING: Ignoring invalid distribution -atplotlib (c:\\users\\user-pc\\miniconda3\\lib\\site-packages)\n",
      "WARNING: Ignoring invalid distribution -atplotlib (c:\\users\\user-pc\\miniconda3\\lib\\site-packages)\n",
      "WARNING: Ignoring invalid distribution -atplotlib (c:\\users\\user-pc\\miniconda3\\lib\\site-packages)\n",
      "WARNING: You are using pip version 22.0.4; however, version 22.2.2 is available.\n",
      "You should consider upgrading via the 'C:\\Users\\User-Pc\\miniconda3\\python.exe -m pip install --upgrade pip' command.\n"
     ]
    }
   ],
   "source": [
    "!pip3 install beautifulsoup4\n",
    "!pip install selenium"
   ]
  },
  {
   "cell_type": "code",
   "execution_count": 1,
   "id": "42b0780e",
   "metadata": {},
   "outputs": [],
   "source": [
    "import requests \n",
    "from bs4 import BeautifulSoup\n",
    "import re\n",
    "from tqdm import tqdm\n",
    "import time\n",
    "import numpy\n",
    "import random\n",
    "import pickle\n",
    "import selenium\n",
    "from selenium import webdriver\n",
    "from selenium.webdriver.common.by import By\n",
    "from datetime import datetime\n",
    "import pandas as pd\n",
    "from newspaper import Article"
   ]
  },
  {
   "cell_type": "code",
   "execution_count": 3,
   "id": "2c15f622",
   "metadata": {
    "scrolled": false
   },
   "outputs": [],
   "source": [
    "# 1 키워드 검색 뉴스 url 수집\n",
    "def page2url(searching_word,date):\n",
    "    urls = []\n",
    "    for start in range(0, 360, 10):\n",
    "        main_url = 'https://www.google.co.kr/search?q={}&tbs=cdr:1,cd_min:{},cd_max:{}&tbm=nws&ei=dPP-Yu_eCJLL-Qb55bvQDA&start={}&sa=N&ved=2ahUKEwjv6Lvy69H5AhWSZd4KHfnyDso4ChDy0wN6BAgBEDk&biw=1536&bih=754&dpr=1.25'.format(searching_word,date,date,start)\n",
    "        driver.get(url=main_url)\n",
    "        elements = driver.find_elements(By.TAG_NAME, 'a')\n",
    "        lnks = []\n",
    "        for lnk in elements:\n",
    "            lnk = str(lnk.get_attribute('href'))\n",
    "            if 'google' not in lnk and lnk != 'None':\n",
    "                lnks.append(lnk)\n",
    "        if len(lnks) == 0:\n",
    "            print(date, ' 완료')\n",
    "            break\n",
    "        urls.extend(lnks)\n",
    "        rand_value =random.uniform(1, 4)\n",
    "        time.sleep(rand_value)\n",
    "        \n",
    "    return urls"
   ]
  },
  {
   "cell_type": "code",
   "execution_count": 4,
   "id": "da9c1f67",
   "metadata": {
    "scrolled": true
   },
   "outputs": [],
   "source": [
    "\n",
    "from_date = '2022-7-26'\n",
    "to_date = '2022-7-31'\n",
    "\n",
    "driver = webdriver.Chrome (executable_path=r\"C:\\Users\\Notebiz003\\Documents\\chromedriver_win32\\chromedriver.exe\")\n",
    "datelist = pd.date_range(start=from_date, end=to_date).tolist()\n",
    "dtlst = []\n",
    "for d_t in datelist:\n",
    "    d_t = str(d_t)[0:-9]\n",
    "    d = datetime.strptime(d_t, '%Y-%m-%d')\n",
    "    d = d.strftime('%m/%d/%Y')\n",
    "    d = d[0].replace('0','') + d[1:]\n",
    "    d = d[:-7] + d[-7].replace('0','') + d[-6:]\n",
    "    dtlst.append(d)"
   ]
  },
  {
   "cell_type": "code",
   "execution_count": 127,
   "id": "68bf1a52",
   "metadata": {
    "collapsed": true
   },
   "outputs": [
    {
     "name": "stderr",
     "output_type": "stream",
     "text": [
      " 17%|██████████████                                                                      | 1/6 [00:59<04:57, 59.48s/it]"
     ]
    },
    {
     "name": "stdout",
     "output_type": "stream",
     "text": [
      "7/26/2022  완료\n"
     ]
    },
    {
     "name": "stderr",
     "output_type": "stream",
     "text": [
      "\r",
      " 33%|████████████████████████████                                                        | 2/6 [02:16<04:38, 69.63s/it]"
     ]
    },
    {
     "name": "stdout",
     "output_type": "stream",
     "text": [
      "7/27/2022  완료\n"
     ]
    },
    {
     "name": "stderr",
     "output_type": "stream",
     "text": [
      "\r",
      " 50%|██████████████████████████████████████████                                          | 3/6 [03:15<03:14, 64.70s/it]"
     ]
    },
    {
     "name": "stdout",
     "output_type": "stream",
     "text": [
      "7/28/2022  완료\n"
     ]
    },
    {
     "name": "stderr",
     "output_type": "stream",
     "text": [
      "\r",
      " 67%|████████████████████████████████████████████████████████                            | 4/6 [04:06<01:58, 59.38s/it]"
     ]
    },
    {
     "name": "stdout",
     "output_type": "stream",
     "text": [
      "7/29/2022  완료\n"
     ]
    },
    {
     "name": "stderr",
     "output_type": "stream",
     "text": [
      "\r",
      " 83%|██████████████████████████████████████████████████████████████████████              | 5/6 [04:12<00:40, 40.31s/it]"
     ]
    },
    {
     "name": "stdout",
     "output_type": "stream",
     "text": [
      "7/30/2022  완료\n"
     ]
    },
    {
     "name": "stderr",
     "output_type": "stream",
     "text": [
      "100%|████████████████████████████████████████████████████████████████████████████████████| 6/6 [04:26<00:00, 44.40s/it]"
     ]
    },
    {
     "name": "stdout",
     "output_type": "stream",
     "text": [
      "7/31/2022  완료\n"
     ]
    },
    {
     "name": "stderr",
     "output_type": "stream",
     "text": [
      "\n"
     ]
    }
   ],
   "source": [
    "searching_word = 'digital+finance'\n",
    "Urls = dict()\n",
    "for date in tqdm(dtlst):\n",
    "    urls = page2url(searching_word,date)\n",
    "    Urls[date] = urls\n",
    "    \n",
    "name = \"Urls{}-{}.pickle\".format(from_date,r'2022-7-31')\n",
    "name = name.replace('/','.')\n",
    "\n",
    "with open(r'C:/Users/Notebiz003/BerTopic/' + name,'wb') as f:\n",
    "    pickle.dump(Urls,f)\n"
   ]
  },
  {
   "cell_type": "code",
   "execution_count": 260,
   "id": "3a81e8e5",
   "metadata": {},
   "outputs": [],
   "source": [
    "'''\n",
    "import os\n",
    "pickles= []\n",
    "\n",
    "path = \"C:/Users/Notebiz003/BerTopic/pickles/\"\n",
    "file_list = os.listdir(path) \n",
    "\n",
    "for name in file_list:\n",
    "    with open(r'C:/Users/Notebiz003/BerTopic/pickles/' + name, 'rb') as f:\n",
    "        data = pickle.load(f) # 단 한줄씩 읽어옴\n",
    "    pickles.append(data)\n",
    "    \n",
    "\n",
    "tmp = pd.concat([pd.Series(pickles[0])[:-28], pd.Series(pickles[4])[:8]])\n",
    "tmp = pd.concat([tmp,pd.Series(pickles[1])[1:]])\n",
    "tmp = pd.concat([tmp,pd.Series(pickles[2])[:7]])\n",
    "tmp = pd.concat([tmp,pd.Series(pickles[3])])\n",
    "\n",
    "name = \"Urls_final_{}_{}.pickle\".format(r'2019-8-1',r'2022-7-31')\n",
    "name = name.replace('/','.')\n",
    "\n",
    "tmp = pd.DataFrame(tmp)\n",
    "with open(r'C:/Users/Notebiz003/BerTopic/' + name,'wb') as f:\n",
    "    pickle.dump(tmp,f)\n",
    "'''"
   ]
  },
  {
   "cell_type": "code",
   "execution_count": 3,
   "id": "57aa4657",
   "metadata": {},
   "outputs": [],
   "source": [
    "name = 'Urls_final_2019-8-1_2022-7-31.pickle'\n",
    "with open(r'C:/Users/Notebiz003/BerTopic/' + name, 'rb') as f:\n",
    "    data = pickle.load(f)\n",
    "data = data.T"
   ]
  },
  {
   "cell_type": "code",
   "execution_count": 7,
   "id": "4e5f2d2a",
   "metadata": {},
   "outputs": [],
   "source": [
    "name = 'news-7-31-2022.pickle'\n",
    "with open(r'C:/Users/Notebiz003/BerTopic/news/' + name, 'rb') as f:\n",
    "    df_trans = pickle.load(f)"
   ]
  },
  {
   "cell_type": "code",
   "execution_count": 61,
   "id": "7df45c42",
   "metadata": {
    "scrolled": true
   },
   "outputs": [
    {
     "name": "stderr",
     "output_type": "stream",
     "text": [
      "\r",
      "  0%|                                                                                           | 0/15 [00:00<?, ?it/s]"
     ]
    },
    {
     "name": "stdout",
     "output_type": "stream",
     "text": [
      "https://siliconangle.com/2022/07/17/russia-bans-use-cryptocurrency-nfts-pay-goods-services/\n",
      "https://www.wsj.com/story/could-these-be-the-finance-jobs-of-the-future-0afbbc0e\n",
      "https://dailynewsegypt.com/2022/07/17/datwyler-offers-digital-infrastructure-services-for-egypts-public-private-sectors/\n",
      "https://dailynewsegypt.com/2022/07/17/egypts-climate-champion-discusses-singapores-support-africa-and-climate-finance-carbon-markets/\n",
      "https://www.thesundaily.my/home/digitising-wealth-management-enhances-client-experience-HB9461108\n",
      "https://www.crowdfundinsider.com/2022/07/193767-webbank-invests-250m-in-avant-to-support-credit-card-program/\n",
      "https://www.consultancy.com.au/news/5679/half-of-banks-not-ready-for-upcoming-esg-regulatory-reporting\n",
      "https://www.pymnts.com/cryptocurrency/2022/australian-financial-planners-group-backs-crypto-rule-book/\n",
      "https://dailynewsegypt.com/2022/07/17/banks-and-companies-injected-egp-46-368bn-in-egypt-under-the-real-estate-financing-initiative/\n",
      "https://thefintechtimes.com/fintech-landscape-of-south-africa-2022/\n",
      "https://www.crowdfundinsider.com/2022/07/193749-fintech-revolut-tops-20m-retail-customers/\n",
      "https://www.forbes.com/sites/bill_stone/2022/07/17/bank-earnings-provide-a-positive-start-to-earnings-season-despite-the-misses/\n",
      "https://www.handelsblatt.com/finanzen/steuern-recht/steuern/steuertipp-alltagstaugliche-kleidung-von-der-steuer-absetzen/28502648.html\n"
     ]
    },
    {
     "name": "stderr",
     "output_type": "stream",
     "text": [
      "\r",
      "  7%|█████▍                                                                            | 1/15 [01:46<24:54, 106.71s/it]"
     ]
    },
    {
     "name": "stdout",
     "output_type": "stream",
     "text": [
      "7-17-2022  완료\n",
      "https://thefintechtimes.com/bank-islam-launches-cloud-native-digital-bank-targeting-malaysias-younger-generations/\n",
      "https://financefeeds.com/ripple-survey-finds-most-finance-leaders-see-cbdcs-disrupting-fiat/\n",
      "https://thefintechtimes.com/cvent-the-financial-services-and-fintech-sectors-digital-event-management-evolution/\n",
      "https://www.forbes.com/sites/ronshevlin/2022/07/18/customer-experience-specialists-in-banks-need-to-find-a-new-job/\n",
      "https://charitydigital.org.uk/topics/topics/charity-report-shows-need-for-digital-strategy-10241\n",
      "https://www.pymnts.com/commerce-connected/2022/galileo-ceo-embedded-finance-gives-rise-to-a-b2b-brand-experience/\n",
      "https://www.pymnts.com/news/banking/2022/td-bank-meeting-smbs-digital-needs/\n",
      "https://www.coinspeaker.com/ioe-ai-launches-aifinancial-concept-services/\n",
      "https://www.pymnts.com/digital-first-banking/2022/truist-debuts-digital-consumer-accounts-with-no-overdraft-fees/\n",
      "https://financefeeds.com/revolut-expands-its-senior-team-in-india-adds-saleem-arshad-as-cto/\n",
      "https://financialpost.com/investing/half-a-trillion-dollars-wiped-from-once-high-flying-fintechs\n",
      "https://www.forbes.com/sites/patriciakemp/2022/07/18/fintech-is-driving-financial-inclusion-in-latin-america/\n",
      "https://www.forbes.com/sites/davidbirch/2022/07/18/whatever-the-public-think-about-digital-currency-it-is-coming/\n",
      "https://www.forbes.com/advisor/au/investing/cryptocurrency/what-is-cryptocurrency/\n",
      "https://screenrant.com/webtoon-digital-comics-creators-pay-millions-earned/\n",
      "https://www.forbes.com/advisor/au/investing/cryptocurrency/what-is-blockchain/\n",
      "https://www.pymnts.com/news/b2b-payments/2022/voice-of-the-cfo-finance-leaders-balance-spend-with-remote-employees-needs/\n",
      "https://www.crowdfundinsider.com/2022/07/193822-itau-unibanco-launches-digital-assets-platform-purchases-avenue-securities/\n",
      "https://thefintechtimes.com/tanzania-and-its-fintech-ecosystem-in-2022/\n",
      "https://www.coinspeaker.com/guides/what-is-harvest-finance-farm-and-how-to-use-it/\n",
      "https://www.crowdfundinsider.com/2022/07/193785-debt-collection-fintech-trueaccord-digitally-serves-20m-clients-on-path-to-financial-health/\n",
      "https://www.forbes.com/sites/jackkelly/2022/07/18/job-cuts-are-coming-to-wall-street/\n",
      "https://www.forbes.com/sites/forbestechcouncil/2022/07/18/how-banking-applications-can-achieve-five-star-reviews-with-aiops/\n",
      "https://www.pymnts.com/disbursements/2022/real-time-digital-disbursements-boost-long-term-loyalty-among-gig-workers/\n",
      "https://www.pymnts.com/consumer-finance/2022/new-survey-finds-3-in-4-consumers-with-strong-demand-for-super-apps/\n"
     ]
    },
    {
     "name": "stderr",
     "output_type": "stream",
     "text": [
      "\r",
      " 13%|██████████▉                                                                       | 2/15 [05:29<37:54, 174.94s/it]"
     ]
    },
    {
     "name": "stdout",
     "output_type": "stream",
     "text": [
      "7-18-2022  완료\n",
      "https://dailynewsegypt.com/2022/07/19/arab-financial-services-expands-its-digital-payments-solutions-into-egypt/\n",
      "https://thefintechtimes.com/uk-government-promotes-ai-innovation-with-more-flexible-approach-to-its-regulation/\n",
      "https://enterprisetalk.com/news/medimap-hires-thomas-jankowski-as-new-chief-executive-officer/\n",
      "https://thefintechtimes.com/how-millennials-and-gen-z-drive-ethical-banking/\n",
      "https://www.forbes.com/sites/forbestechcouncil/2022/07/19/the-secret-to-winning-amid-volatility-make-bold-digital-moves/\n",
      "https://thefintechtimes.com/fico-and-network-international-expand-digital-economy-with-fraud-and-credit-management-solutions/\n",
      "https://www.investors.com/research/defi-what-is-decentralized-finance/\n",
      "https://www.forbes.com/sites/pwc-cloud-and-digital-transformation/2022/07/19/how-tax-can-help-your-sap-transformation-deliver-more-value/\n",
      "https://www.pymnts.com/cbdc/2022/treasury-department-banks-cbdc-fears-are-overblown/\n",
      "https://www.cardrates.com/news/grasshopper-offers-digital-banking-built-for-smbs/\n",
      "https://www.forbes.com/sites/forbesfinancecouncil/2022/07/19/theres-a-better-way-to-de-risk-finance-and-run-your-supply-chain/\n",
      "https://www.crowdfundinsider.com/2022/07/193855-digital-banking-uks-atom-bank-expected-to-profit-from-low-cost-business-model/\n",
      "https://thefintechtimes.com/tag/zesty/\n",
      "https://thefintechtimes.com/fintech-landscape-of-tunisia-in-2022/\n",
      "https://financialpost.com/pmn/press-releases-pmn/business-wire-news-releases-pmn/hyosung-america-launches-four-new-products-set-to-empower-cash-management-and-enable-cash-to-digital-experiences\n",
      "https://www.forbes.com/sites/ericbrotman/2022/07/19/financial-planning-for-the-diyer-can-you-do-this-yourself/\n",
      "https://www.pymnts.com/news/banking/2022/pymnts-intelligence-smbs-turn-toward-banks-offering-digital-solutions/\n",
      "https://financialpost.com/globe-newswire/thrivedx-nightdragon-launch-the-worlds-first-cyber-talent-hub\n",
      "https://www.crowdfundinsider.com/2022/07/193851-fintech-zimpler-enters-norway-as-part-of-global-expansion-efforts/\n",
      "https://www.pna.gov.ph/articles/1179309\n",
      "https://financialpost.com/globe-newswire/goeasy-ltd-appoints-jonathan-tetrault-to-its-board-of-directors\n",
      "https://thefintechtimes.com/tag/data-protection-and-digital-information-bill/\n",
      "https://www.pymnts.com/digital-first-banking/2022/how-invisible-tech-is-revolutionizing-the-u-s-banking-system/\n",
      "https://dailynewsegypt.com/2022/07/19/abe-opens-new-business-development-service-centre-in-6th-of-october-to-support-youth-projects/\n",
      "https://www.forbes.com/sites/forbesfinancecouncil/2022/07/19/15-essential-factors-to-consider-when-analyzing-operational-cash-flow/\n",
      "https://financialpost.com/pmn/press-releases-pmn/business-wire-news-releases-pmn/innio-waukesha-and-detechtion-technologies-announce-technology-collaboration\n",
      "https://financialpost.com/globe-newswire/polysleep-1111-and-bloom-present-zzze-mattress\n",
      "https://www.pymnts.com/news/security-and-risk/2022/banks-increased-liabilities-on-p2p-fraud-may-have-silver-lining/\n",
      "https://www.forbes.com/advisor/ca/investing/is-inflation-making-restaurants-cheaper-than-groceries-heres-what-the-burrito-test-says/\n",
      "https://www.crowdfundinsider.com/2022/07/193841-d-wave-mastercard-take-quantum-leap-into-future-of-financial-services/\n",
      "https://financialpost.com/fp-answers/fp-answers-will-calgary-real-estate-prices-go-down\n",
      "https://www.crosstimbersgazette.com/2022/07/19/former-dallas-baptist-vp-named-president-at-coram-deo-academy/\n",
      "https://propakistani.pk/2022/07/19/imam-ul-haqs-wicket-sparks-new-controversy-in-world-of-cricket-video/\n",
      "https://businessmirror.com.ph/2022/07/19/los-angeles-olympics-to-begin-july-14-2028/\n"
     ]
    },
    {
     "name": "stderr",
     "output_type": "stream",
     "text": [
      "\r",
      " 20%|████████████████▍                                                                 | 3/15 [10:38<47:14, 236.25s/it]"
     ]
    },
    {
     "name": "stdout",
     "output_type": "stream",
     "text": [
      "7-19-2022  완료\n",
      "https://www.theedgesingapore.com/digitaledge/focus/paving-way-greener-future-banks-asia-pacific\n",
      "https://www.crowdfundinsider.com/2022/07/193911-eu-u-s-joint-financial-regulatory-forum-in-brussels-tackles-topics-like-aml-climate-risk-digital-finance/\n",
      "https://www.newswire.ca/news-releases/a-digital-banking-first-bmo-launches-innovative-pre-authorized-payments-manager-previewing-future-payments-to-help-canadians-stay-on-top-of-their-finances-873314897.html\n",
      "https://www.fnlondon.com/articles/first-mover-advantage-on-barrons-live-can-the-digital-asset-industry-beat-the-regulators-with-charles-allen-chairman-and-ceo-of-btcs-20220720\n",
      "https://financialpost.com/globe-newswire/fobi-launches-digital-marketing-agency-and-new-paas-platform-as-a-service-revenue-model\n",
      "https://thefintechtimes.com/fintech-landscape-of-turkey-in-2022/\n",
      "https://www.troutman.com/insights/troutman-pepper-advises-hcit-company-proscia-in-series-c-financing-to-scale-its-digital-pathology-technology.html\n",
      "https://www.arabianbusiness.com/culture-society/saudi-arabia-talks-digital-economy-cryptocurrency-digital-banks-and-smart-cities-twitter\n",
      "https://www.pymnts.com/emea/2022/pymnts-gcc-series-saudi-arabia-at-the-intersection-of-tech-and-islamic-finance/\n",
      "https://www.forbes.com/sites/dylansloan/2022/07/20/varo-cuts-10-of-staff-as-digital-bank-restructures-to-achieve-profitability/\n",
      "https://dailynewsegypt.com/2022/07/20/cib-succesfully-closes-egp-700m-on-balance-sheet-corporate-bond-issuance-as-part-of-egp-2bn-programme/\n",
      "https://www.forbes.com/sites/forbestechcouncil/2022/07/20/using-noand-low-code-solutions-for-faster-financial-services-deployment/\n",
      "https://thefintechtimes.com/tag/the-bankers-bank/\n",
      "https://www.forbes.com/sites/melissahouston/2022/07/20/a-financial-product-to-meet-the-needs-of-the-lgbtq-community/\n",
      "https://www.digitalstudiome.com/broadcast/cnbc-arabia-undergoes-comprehensive-transformation-to-upgrade-its-tv-channel-digital-platform-and-geographic-expansion\n",
      "https://financialpost.com/pmn/press-releases-pmn/business-wire-news-releases-pmn/balance-becomes-soc-2-certified-and-starts-serving-ni-31-103-individuals-and-firms\n",
      "https://www.forbes.com/sites/rosemariemiller/2022/07/20/digital-clothing-with-nfts-fab-or-fad-video/\n",
      "https://www.forbes.com/sites/forrester/2022/07/20/the-booming-advertising-talent-market-illustrates-a-belated-agency-transformation/\n",
      "https://financialpost.com/moneywise-pro/while-canadian-provinces-start-financial-literacy-programs-in-schools-trends-among-kids-show-theres-still-work-to-be-done\n",
      "https://www.forbes.com/sites/forbesfinancecouncil/2022/07/20/new-lease-accounting-requirements-and-the-impact-on-private-business-and-nonprofits/\n",
      "https://www.forbes.com/sites/forbesfinancecouncil/2022/07/20/public-and-soon-to-be-public-companies-how-to-meet-accounting-needs/\n",
      "https://www.businessworld.in/article/RBI-Mandate-Leads-To-Prepaid-Card-Business-Crash/20-07-2022-437918\n",
      "https://www.financialexpress.com/express-mobility/iphone-maker-foxconn-builds-ev-partnership-with-nxp-semiconductors/2600219/\n",
      "https://www.pymnts.com/news/security-and-risk/2022/competitors-become-collaborators-in-fight-against-financial-crime/\n",
      "https://www.forbes.com/sites/chuckbrooks/2022/07/20/the-quantum-era-is-arriving-and-it-will-be-transformational-/\n",
      "https://www.forbes.com/sites/davidjeans/2022/07/20/slync-ceo-chris-kirchner-goldman-sachs/\n",
      "https://financialpost.com/globe-newswire/hitachi-energy-and-h2-green-steel-partner-to-leverage-electrification-digitalization-and-hydrogen-for-green-steel-production\n",
      "https://www.forbes.com/sites/forbestechcouncil/2022/07/20/fintech-regulation-legal-and-regulatory-aspects/\n",
      "https://thefintechtimes.com/uk-fintechs-received-9-1bn-in-investment-in-h122-despite-81-less-deals-than-h121/\n",
      "https://propakistani.pk/2022/07/20/nepra-reserves-its-decision-on-govts-request-to-enhance-base-tariff-by-rs-7-91-per-unit/\n",
      "https://thehill.com/policy/finance/3566666-gop-ramps-up-efforts-to-rein-in-biden-on-student-debt/\n",
      "https://www.miamiherald.com/news/nation-world/world/article263648648.html\n",
      "https://www.handelsblatt.com/finanzen/banken-versicherungen/banken/studie-fast-15-milliarden-euro-im-jahr-2023-die-zinswende-treibt-die-ertraege-deutscher-banken/28521414.html\n"
     ]
    },
    {
     "name": "stderr",
     "output_type": "stream",
     "text": [
      "\r",
      " 27%|█████████████████████▊                                                            | 4/15 [16:55<53:31, 291.93s/it]"
     ]
    },
    {
     "name": "stdout",
     "output_type": "stream",
     "text": [
      "7-20-2022  완료\n",
      "https://thefintechtimes.com/al-rajhi-bank-malaysia-reinforces-its-digital-bank-with-feedzai-riskops-partnership/\n",
      "https://www.forbes.com/sites/forbesbusinesscouncil/2022/07/21/how-ewallets-can-help-address-financial-inclusion-challenges/\n",
      "https://www.forbes.com/sites/forbestechcouncil/2022/07/21/how-financial-services-can-enable-modern-data-platforms-for-digital-transformation/\n",
      "https://finance.yahoo.com/news/arv-krungthai-sign-mou-pilot-063800082.html\n",
      "https://www.forbes.com/sites/forbestechcouncil/2022/07/21/why-the-road-to-profitability-for-financial-institutions-is-data-driven/\n",
      "https://www.prnewswire.co.uk/news-releases/unionpay-international-and-postbank-uganda-reinforce-partnership-enhancing-digital-financial-inclusion-in-uganda-818105237.html\n",
      "https://www.pymnts.com/credit-unions/2022/credit-unions-keep-it-personal-to-attract-younger-members/\n",
      "https://customerthink.com/how-banks-can-tackle-the-fintech-threat/\n",
      "https://charitydigital.org.uk/topics/topics/how-to-fix-your-404s-10254\n",
      "https://www.pymnts.com/study/digital-economy-payments-diversity-consumer-finance-travel-fraud/\n",
      "https://financefeeds.com/sucden-financial-acquires-market-maker-atlantic-trading/\n",
      "https://www.pymnts.com/news/b2b-payments/2022/today-in-b2b-payments-ranpak-rolls-out-packaging-payments-could-speed-us-mexico-freight/\n",
      "https://financefeeds.com/speakerbus-adds-voice-trading-by-acquiring-imarket/\n",
      "https://www.crowdfundinsider.com/2022/07/193924-digital-asset-financial-services-firm-bitgo-becomes-first-qualified-custodian-to-support-near-protocol/\n",
      "https://www.pymnts.com/emea/2022/emea-daily-uks-financial-services-bill-will-make-stablecoins-a-form-of-payment-swedish-telehealth-company-kry-raises-160m/\n",
      "https://thehill.com/opinion/finance/3569047-blinded-by-the-light-7-red-flags-about-cryptocurrencies-that-we-completely-missed/\n",
      "https://www.forbes.com/sites/danielwebber/2022/07/21/inside-alipay-ant-groups-cross-border-payments-solution-with-global-ambitions/\n",
      "https://www.forbes.com/sites/forbesfinancecouncil/people/borisdus/\n",
      "https://www.fnlondon.com/articles/us-lawmakers-edge-closer-to-rules-for-stablecoins-20220721\n",
      "https://www.forbes.com/sites/patriciafersch/2022/07/21/financial-abuse-is-domestic-violence/\n",
      "https://www.nst.com.my/news/nation/2022/07/815331/asnb-digitalises-investment-functions-making-it-easier-users\n",
      "https://www.pymnts.com/news/financial-inclusion/2022/fintechs-resolve-banking-barriers-empower-egypts-unbanked-with-mobile-technology/\n",
      "https://www.forbes.com/sites/mikeozanian/2022/07/21/todd-boehlys-950-million-gambit-to-keep-chelsea-in-the-game/\n",
      "https://www.forbes.com/sites/forbeshumanresourcescouncil/2022/07/21/key-considerations-for-retaining-happy-supported-employees/\n",
      "https://www.forbes.com/sites/alexkonrad/2022/07/21/classdojo-tencent-backed-unicorn-launches-education-virtual-world/\n",
      "https://financialpost.com/pmn/press-releases-pmn/business-wire-news-releases-pmn/siemens-energy-takes-next-step-to-protect-critical-infrastructure\n",
      "https://www.forbes.com/sites/laurendebter/2022/07/21/livestream-shopping-stays-hot-as-whatnot-takes-on-ebay-valuation-more-than-doubles-to-37-billion/\n",
      "https://financialpost.com/pmn/press-releases-pmn/business-wire-news-releases-pmn/schneider-electric-wins-energy-efficient-solution-of-the-year-as-it-delivers-climate-friendly-and-energy-saving-innovations-to-the-market\n",
      "https://www.miamiherald.com/news/nation-world/world/article263708398.html\n",
      "https://www.bradenton.com/news/local/article263078743.html\n"
     ]
    },
    {
     "name": "stderr",
     "output_type": "stream",
     "text": [
      "\r",
      " 33%|███████████████████████████▎                                                      | 5/15 [23:19<54:11, 325.12s/it]"
     ]
    },
    {
     "name": "stdout",
     "output_type": "stream",
     "text": [
      "7-21-2022  완료\n",
      "https://www.orfonline.org/expert-speak/g20-and-the-gender-focus-on-the-digital-divide/\n",
      "https://www.bizjournals.com/philadelphia/news/2022/07/22/customers-bank-closing-half-of-its-pa-branches.html\n",
      "https://www.abc.net.au/news/programs/the-business/2022-07-22/1.6-million-aussie-households-predicted-to-be/13985396\n",
      "https://financefeeds.com/crypto-com-gets-cysec-nod-to-operate-regulated-business-in-cyprus/\n",
      "https://www.orfonline.org/expert-speak/elevating-the-india-africa-partnership-to-new-horizons/\n",
      "https://siliconangle.com/2022/07/22/expect-monaco-crypto-summit-join-thecube-july-29-monacocryptosummit/\n",
      "https://www.forbes.com/sites/franksorrentino/2022/07/22/regulatory-reform-in-a-new-era/\n",
      "https://www.forbes.com/sites/forbesfinancecouncil/2022/07/22/an-unequal-burden-measuring-financial-worry-in-developing-countries-during-the-pandemic/\n",
      "https://www.forbes.com/sites/forbesfinancecouncil/2022/07/22/the-psychology-of-finance-how-money-scripts-affect-decisions-and-actions-related-to-finances/\n",
      "https://www.iol.co.za/business-report/economy/demand-for-247-digital-access-to-banking-opens-the-door-to-fraud-and-security-breaches-3e24522f-5921-4d1f-990e-a97b0bc22d25\n",
      "https://www.pymnts.com/consumer-finance/2022/as-the-number-of-payment-methods-consumers-use-increases-so-do-two-key-problems/\n",
      "https://www.forbes.com/sites/theyec/2022/07/22/4-ways-to-improve-financial-operations/\n",
      "https://www.pymnts.com/real-estate/2022/italian-firms-digital-lending-proptech-innovation/\n",
      "https://www.forbes.com/sites/forbesfinancecouncil/2022/07/22/four-types-of-business-analytics/\n",
      "https://www.bizjournals.com/washington/news/2022/07/22/qed-investors-nigel-morris-fintech.html\n",
      "https://www.pymnts.com/supply-chain/2022/embedded-options-make-tracking-supplier-finance-programs-easier/\n",
      "https://www.pymnts.com/news/cfpb/2022/senators-to-cfpb-use-authority-to-protect-consumers-from-p2p-payment-scams/\n",
      "https://www.lightreading.com/digital-divide/rural-us-wireless-carriers-ask-for-more-5g-subsidies/d/d-id/779195\n",
      "https://www.barrons.com/articles/micron-western-digital-seagate-stock-price-earnings-51658483594\n",
      "https://www.forbes.com/sites/scottharkey/2022/07/22/the-decline-of-the-bank-starts-with-small-business/\n",
      "https://www.forbes.com/sites/forbesfinancecouncil/2022/07/22/buckle-up-for-a-bevy-of-banking-regulation/\n",
      "https://www.pymnts.com/news/regulation/2022/weekly-techreg-us-uk-lawmakers-move-stablecoin-bills-cfpb-could-force-banks-to-reimburse-scam-victims/\n",
      "https://www.forbes.com/sites/debgordon/2022/07/22/medical-billing-startup-raises-33m-in-seed-funding-as-medical-debt-increases/\n",
      "https://www.crowdfundinsider.com/2022/07/193965-financial-super-app-emma-introduces-commission-free-stock-trading/\n",
      "https://www.investors.com/news/technology/snap-earnings-could-rattle-social-media-stocks/\n",
      "https://www.miamiherald.com/news/nation-world/world/article263728478.html\n"
     ]
    },
    {
     "name": "stderr",
     "output_type": "stream",
     "text": [
      "\r",
      " 40%|████████████████████████████████▊                                                 | 6/15 [26:02<40:30, 270.02s/it]"
     ]
    },
    {
     "name": "stdout",
     "output_type": "stream",
     "text": [
      "7-22-2022  완료\n",
      "https://thefinancialbrand.com/news/secret-to-how-webank-outperforms-every-digital-bank-globally-149019/\n",
      "https://www.advisorperspectives.com/articles/2022/07/23/central-african-regional-bank-seeks-common-digital-currency\n",
      "https://thefintechtimes.com/no-more-queues-at-the-bank-as-commercial-bank-international-launches-virtual-location-in-metaverse/\n",
      "https://www.globaltimes.cn/page/202207/1271216.shtml?id=11\n",
      "https://thefintechtimes.com/he-us-is-the-holy-grail-for-uk-fintechs-but-they-must-navigate-harsh-headwinds-to-achieve-success/\n",
      "https://www.forbes.com/sites/jasonbrett/2022/07/23/a-new-stablecoin-bill-from-the-biden-administration-may-pass-quickly-in-congress/\n",
      "https://www.forbes.com/sites/jasonbrett/2022/07/23/chasing-bitcoin-why-north-korea-ransomware-attacks-target-us-health-care-providers/\n",
      "https://www.crowdfundinsider.com/2022/07/193971-data-management-ai-automation-tools-are-top-investment-for-financial-firms-broadridge-survey-reveals/\n",
      "https://www.forbes.com/sites/ramseyqubein/2022/07/23/turkish-airlines-ceo-us-flights-and-cargo-play-key-role-in-recovery/\n"
     ]
    },
    {
     "name": "stderr",
     "output_type": "stream",
     "text": [
      "\r",
      " 47%|██████████████████████████████████████▎                                           | 7/15 [28:29<30:37, 229.64s/it]"
     ]
    },
    {
     "name": "stdout",
     "output_type": "stream",
     "text": [
      "7-23-2022  완료\n",
      "https://dailynewsegypt.com/2022/07/24/fra-aims-to-increase-financing-for-non-banking-financial-activities-to-egp-820bn-by-2026/\n",
      "https://dailynewsegypt.com/2022/07/24/4-2m-cards-converted-to-meeza-in-cooperation-with-9-banks-and-egypt-post-finance-ministry/\n",
      "https://www.crowdfundinsider.com/2022/07/194010-oneconnect-financial-technology-announces-launch-of-virtual-banking-solutions-suite/\n",
      "https://www.equitybulls.com/category.php?id=316933\n",
      "https://www.forbes.com/sites/martinrivers/2022/07/24/bitcoin-is-knocking-on-10-downing-street/\n",
      "https://www.crowdfundinsider.com/2022/07/194022-moneyhub-partners-with-pennyworth-to-democratize-financial-planning/\n",
      "https://thefintechtimes.com/the-predominance-of-financial-services-in-the-gcc-to-accelerate-esg-practices/\n",
      "https://www.handelsblatt.com/finanzen/digital-finance/finanzierungen-private-kreditfonds-profitieren-von-strengeren-vorgaben-fuer-banken/28521294.html\n",
      "https://www.crowdfundinsider.com/2022/07/194026-kraken-is-offering-expanded-margin-pairs-for-btc-xrp-eth-matic-link-doge-sol-mana/\n",
      "https://www.forbes.com/sites/billybambrough/2022/07/24/all-bets-are-off-crypto-now-braced-for-a-89-trillion-earthquake-as-the-price-of-bitcoin-ethereum-bnb-xrp-solana-cardano-and-dogecoin-swing/\n",
      "https://thehill.com/homenews/ap/ap-international/milley-china-more-aggressive-dangerous-to-us-allies/\n"
     ]
    },
    {
     "name": "stderr",
     "output_type": "stream",
     "text": [
      "\r",
      " 53%|███████████████████████████████████████████▋                                      | 8/15 [30:12<22:05, 189.40s/it]"
     ]
    },
    {
     "name": "stdout",
     "output_type": "stream",
     "text": [
      "7-24-2022  완료\n",
      "https://financefeeds.com/oneconnect-launches-digital-banking-suite-powered-by-brazillian-fintech-pismo/\n",
      "https://financefeeds.com/sam-bankman-fried-voyager-lawyers-drain-funds-while-customers-get-fued/\n",
      "https://financefeeds.com/inca-digital-appoints-ex-cftc-commissioner-brian-quintenz-as-advisor/\n",
      "https://www.charlotteobserver.com/news/business/whats-in-store/article263731023.html\n",
      "https://www.vanguardngr.com/2022/07/digital-transformation-and-african-internet-economy/\n",
      "https://financefeeds.com/eqonex-appoints-apex-group-to-manage-its-physically-backed-bitcoin-etn/\n",
      "https://newsroom.accenture.com/news/accenture-acquires-solvera-solutions-to-grow-digital-transformation-capabilities-in-western-canada.htm\n",
      "https://www.smartcitiesworld.net/news/news/austrian-city-uses-digital-twin-to-manage-its-urban-trees-7922\n",
      "https://thefintechtimes.com/building-a-more-inclusive-economy-mastercard-announces-partnership-with-national-bank-of-bahrain/\n",
      "https://www.forbes.com/sites/rodberger/2022/07/25/educating-the-digital-space-with-community-oriented-messaging/\n",
      "https://financialpost.com/pmn/press-releases-pmn/business-wire-news-releases-pmn/fineos-and-new-york-life-group-benefit-solutions-issue-digital-transformation-case-study\n",
      "https://financefeeds.com/novia-renews-gbst-partnership-for-composer-platform/\n",
      "https://financialpost.com/pmn/press-releases-pmn/business-wire-news-releases-pmn/ncpers-reaches-agreement-on-pensionx-digital-platform\n",
      "https://www.forbes.com/sites/markcperna/2022/07/25/workforce-credentials-are-going-digital-heres-why-this-helps-everyone/\n",
      "https://charitydigital.org.uk/topics/topics/why-you-should-always-ask-supporters-for-feedback-10244\n",
      "https://financefeeds.com/binance-alums-fund-invests-in-pakistani-crypto-exchange-bitblaze/\n",
      "https://financefeeds.com/fiserv-partners-with-georgia-tech-for-insights-on-inflation/\n",
      "https://financialpost.com/pmn/press-releases-pmn/business-wire-news-releases-pmn/wedia-participates-in-henry-stewarts-dam-ny-2022-the-worlds-leading-event-dedicated-to-digital-asset-management\n",
      "https://www.forbes.com/sites/forbesbooksauthors/2022/07/25/understanding-the-true-burden-of-debt-to-your-financial-freedom/\n",
      "https://www.pymnts.com/cbdc/2022/algorand-adviser-says-digital-dollar-could-be-lifeline-not-a-threat-to-banks/\n",
      "https://thefintechtimes.com/iliad-solutions-iso20022-why-migration-is-about-more-than-compliance/\n",
      "https://thefintechtimes.com/tag/claus-christensen/\n",
      "https://www.inkworldmagazine.com/contents/view_breaking-news/2022-07-25/jbf-finance-sa-launches-public-tender-offer-for-bobst-group-sa/\n",
      "https://mhealthintelligence.com/news/aha-says-senate-should-codify-virtual-mental-health-in-telehealth\n",
      "https://financialpost.com/pmn/press-releases-pmn/business-wire-news-releases-pmn/the-solutions-to-todays-supply-chain-disruptions-intelligent-management\n",
      "https://www.forbes.com/sites/forbescommunicationscouncil/2022/07/25/cmo-and-cfos-an-alliance-forged-in-the-digital-revolution/\n",
      "https://www.forbes.com/sites/forbesfinancecouncil/2022/07/25/e-commerce-winning-back-consumer-trust/\n",
      "https://www.abc.net.au/news/2022-07-26/apra-boss-wayne-byres-to-leave-bank-regulator/101269554\n",
      "https://www.pymnts.com/bnpl/2022/b2b-buy-now-pay-later-rewriting-the-rules-of-trade-finance/\n",
      "https://www.pymnts.com/partnerships/2022/aspire-regtech-provider-know-your-customer-team-to-better-serve-smbs/\n",
      "https://www.forbes.com/sites/davidjeans/2022/07/25/slync-ceo-chris-kirchner-suspended/\n",
      "https://www.forbes.com/sites/sap/2022/07/25/myths-vs-reality-what-indian-growing-businesses-should-know-about-digital-procurement/\n",
      "https://www.modernghana.com/news/1173318/were-grateful-for-governments-digitization-polic.html\n",
      "https://www.pymnts.com/partnerships/2022/tradeteq-taps-xdc-network-to-launch-trade-finance-tokens/\n"
     ]
    },
    {
     "name": "stderr",
     "output_type": "stream",
     "text": [
      "\r",
      " 60%|█████████████████████████████████████████████████▏                                | 9/15 [35:48<23:30, 235.17s/it]"
     ]
    },
    {
     "name": "stdout",
     "output_type": "stream",
     "text": [
      "https://www.processexcellencenetwork.com/business-transformation/videos/discover-equifaxs-organizational-maturity-model\n",
      "7-25-2022  완료\n",
      "https://www.unescap.org/blog/digital-futures-driving-systemic-change-women-0\n",
      "https://www.pymnts.com/cbdc/2022/some-central-bankers-signal-support-for-private-sector-digital-currencies-over-cbdcs/\n",
      "https://financialpost.com/pmn/press-releases-pmn/business-wire-news-releases-pmn/the-lycra-company-accelerates-digital-transformation-through-partnership-with-browzwear\n",
      "https://www.globalgovernmentforum.com/fintech-in-developing-economies-paving-the-way-for-womens-financial-inclusion/\n",
      "https://www.newswire.ca/news-releases/galaxy-digital-to-participate-in-the-canaccord-42nd-annual-growth-conference-892531106.html\n",
      "https://financialpost.com/globe-newswire/retail-grocers-go-digital-to-embrace-online-grocery-shopping-trend\n",
      "https://financialpost.com/pmn/press-releases-pmn/business-wire-news-releases-pmn/tecnotree-announces-the-successful-go-live-of-its-digital-service-provisioning-platform-for-zain-ahead-of-time\n",
      "https://financialpost.com/globe-newswire/voxtur-adds-to-digital-technology-solutions\n",
      "https://www.forbes.com/sites/pwc-cloud-and-digital-transformation/2022/07/26/tech-enabling-your-esg-story/\n",
      "https://thefintechtimes.com/this-week-in-fintech-tft-bi-weekly-news-roundup-26-07/\n",
      "https://www.pymnts.com/financial-inclusion-3/2022/startups-use-tech-innovation-to-move-the-needle-on-financial-exclusion-in-egypt/\n",
      "https://www.pymnts.com/digital-payments/2022/walmarts-super-app-cashi-marries-digital-payments-and-cash-in-mexico/\n",
      "https://www.pymnts.com/cryptocurrency/2022/cftcs-chair-crypto-and-defi-have-outgrown-sandbox/\n",
      "https://propakistani.pk/2022/07/26/allied-bank-partners-with-haball-for-digitalization-of-b2b-payments-in-pakistan/\n",
      "https://themalaysianreserve.com/2022/07/26/financial-crimes-increased-significantly-during-pandemic/\n",
      "https://www.esi-africa.com/industry-sectors/business-and-markets/ifc-provided-a-record-9-4bn-financing-in-africa-in-the-2022-fiscal-year/\n",
      "https://www.pymnts.com/news/digital-banking/2022/uk-digital-banks-set-sights-on-underserved-mass-affluent-segment/\n",
      "https://www.forbes.com/advisor/investing/cryptocurrency/invest-in-cryptocurrency/\n",
      "https://www.pymnts.com/news/cross-border-commerce/cross-border-payments/2022/global-mass-payouts-get-an-accounting-and-finance-makeover/\n",
      "https://www.pymnts.com/technology/2022/monite-codat-team-to-allow-embedded-invoices-bill-payments-in-apps/\n",
      "https://financialpost.com/pmn/press-releases-pmn/business-wire-news-releases-pmn/omid-rahmat-joins-jon-peddie-research-as-evp\n",
      "https://enterprisetalk.com/news/joe-dalton-ceo-of-salt-this-start-up-is-ready-to-hit-the-ground-running/\n",
      "https://financialpost.com/globe-newswire/mltply-launches-stable-insurance-using-instandas-platform-in-ten-weeks\n",
      "https://newsroom.accenture.com/news/most-companies-struggling-to-be-relevant-to-their-customers-accenture-report-finds.htm\n",
      "https://www.crowdfundinsider.com/2022/07/194081-crif-introduces-open-banking-powered-consumer-credit-scoring-in-the-uk/\n"
     ]
    },
    {
     "name": "stderr",
     "output_type": "stream",
     "text": [
      "\r",
      " 67%|██████████████████████████████████████████████████████                           | 10/15 [39:24<19:06, 229.21s/it]"
     ]
    },
    {
     "name": "stdout",
     "output_type": "stream",
     "text": [
      "7-26-2022  완료\n",
      "https://dailynewsegypt.com/2022/07/27/nigeria-and-egypt-test-different-approaches-to-tax-digital-economy/\n",
      "https://financefeeds.com/eqonex-strengthens-asset-management-business-in-uk-and-asia/\n",
      "https://www.pymnts.com/nfts/2022/russia-plans-amendments-to-regulate-nfts/\n",
      "https://www.pymnts.com/cfo/2022/voices-of-the-cfo-finance-chiefs-say-automating-the-back-office-needs-to-move-to-the-front-burner/\n",
      "https://www.pymnts.com/digital-first-banking/2022/ncr-says-financial-literacy-should-be-left-to-community-banks-and-credit-unions-not-tiktok/\n",
      "https://financefeeds.com/cftc-renews-efforts-amid-explosion-in-retail-trading-of-futures-options-crypto/\n",
      "https://www.editorandpublisher.com/stories/money-announces-new-partnership-with-mcclatchy-in-exclusive-syndication-deal,235813\n",
      "https://www.pymnts.com/news/b2b-payments/2022/sesami-banking-partners-debut-efinancing-marketplace/\n",
      "https://financefeeds.com/coinmena-expands-crypto-exchange-to-egypt/\n",
      "https://www.newswire.ca/news-releases/igm-financial-selects-cgi-to-operate-and-modernize-its-transfer-agency-platform-886675465.html\n"
     ]
    },
    {
     "name": "stderr",
     "output_type": "stream",
     "text": [
      "C:\\Users\\Notebiz003\\anaconda3\\lib\\site-packages\\dateutil\\parser\\_parser.py:1207: UnknownTimezoneWarning: tzname EDT identified but not understood.  Pass `tzinfos` argument in order to correctly return a timezone-aware datetime.  In a future version, this will raise an exception.\n",
      "  warnings.warn(\"tzname {tzname} identified but not understood.  \"\n"
     ]
    },
    {
     "name": "stdout",
     "output_type": "stream",
     "text": [
      "https://financialpost.com/pmn/press-releases-pmn/business-wire-news-releases-pmn/triton-digital-releases-the-june-canada-podcast-report\n",
      "https://financialpost.com/globe-newswire/genui-acquires-majority-stake-in-magnolia-and-invests-in-future-growth\n",
      "https://financialpost.com/globe-newswire/trip-com-and-ctrip-celebrate-the-return-of-travel-by-announcing-their-strategic-partnership-with-hylink-digital\n",
      "https://www.crowdfundinsider.com/2022/07/194152-digital-securities-marketplace-addx-lists-private-credit-fund/\n",
      "https://www.orfonline.org/expert-speak/five-challenges-before-indias-g20-presidency/\n",
      "https://financialpost.com/pmn/press-releases-pmn/business-wire-news-releases-pmn/legible-announces-appointment-of-robyn-marshall-to-advisory-board\n",
      "https://www.pymnts.com/cryptocurrency/2022/european-banking-authority-chair-needs-staff-to-govern-crypto/\n",
      "https://www.pymnts.com/mobile-applications/2022/spotify-ends-production-car-thing-smart-player/\n",
      "https://www.forbes.com/sites/dushyantshahrawat/2022/07/27/claims-that-defi-is-unraveling-or-structurally-flawed-are-unfounded/\n",
      "https://www.pymnts.com/news/banking/2022/the-data-point-over-40-pct-millennials-would-switch-to-fis-supporting-local-charities/\n",
      "https://www.crowdfundinsider.com/2022/07/194130-worldpay-from-fis-expands-merchant-business-operations-to-south-korea/\n"
     ]
    },
    {
     "name": "stderr",
     "output_type": "stream",
     "text": [
      "\r",
      " 73%|███████████████████████████████████████████████████████████▍                     | 11/15 [45:13<17:43, 265.91s/it]"
     ]
    },
    {
     "name": "stdout",
     "output_type": "stream",
     "text": [
      "7-27-2022  완료\n"
     ]
    },
    {
     "name": "stderr",
     "output_type": "stream",
     "text": [
      "C:\\Users\\Notebiz003\\anaconda3\\lib\\site-packages\\dateutil\\parser\\_parser.py:1207: UnknownTimezoneWarning: tzname PST identified but not understood.  Pass `tzinfos` argument in order to correctly return a timezone-aware datetime.  In a future version, this will raise an exception.\n",
      "  warnings.warn(\"tzname {tzname} identified but not understood.  \"\n"
     ]
    },
    {
     "name": "stdout",
     "output_type": "stream",
     "text": [
      "https://financefeeds.com/p2p-lending-platform-clst-emerges-to-capitalize-on-celsius-and-terra-luna-collapse/\n",
      "https://www.forbes.com/sites/forbesfinancecouncil/2022/07/28/how-gen-zers-are-choosing-their-financial-services-provider-and-why-this-matters/\n",
      "https://thefintechtimes.com/this-week-in-fintech-tft-bi-weekly-news-roundup-28-07/\n",
      "https://www.forbes.com/sites/michaelashley/2022/07/28/can-fintech-turn-around-our-collapsing-economy/\n",
      "https://financialpost.com/pmn/press-releases-pmn/business-wire-news-releases-pmn/magnolia-communications-expands-digital-marketing-services-with-new-partnerships\n",
      "https://financefeeds.com/coinregtech-adds-support-to-cftc-registered-kors-sdr/\n",
      "https://financialpost.com/globe-newswire/vosbor-raises-7-million-for-the-first-digital-agricultural-commodities-exchange\n",
      "https://www.pymnts.com/smbs/2022/grant-program-offers-support-to-venmo-business-users/\n",
      "https://www.forbes.com/sites/jeffkauflin/2022/07/28/in-fintech-2022-is-becoming-the-year-of-layoffs/\n",
      "https://www.pymnts.com/partnerships/2022/mercadolibre-creditas-team-offer-used-car-loans-mexico/\n",
      "https://www.marketwatch.com/story/amtd-digital-up-146-271659037880\n",
      "https://financialpost.com/globe-newswire/goeasy-ltd-announces-timing-of-second-quarter-2022-conference-call-and-webcast\n",
      "https://www.pymnts.com/connectedeconomy/2022/jack-ma-gives-up-ant-control-super-app-now-belongs-government-as-jack-ma-gives-up-control/\n",
      "https://propakistani.pk/2022/07/28/medznmore-partners-with-bank-alfalah-to-empower-retailers-with-digital-solutions/\n",
      "https://financefeeds.com/etc-group-launches-btcetc-on-cboe-europe/\n",
      "https://www.pymnts.com/news/digital-banking/2022/lendingclub-names-former-bakkt-exec-drew-labenne-cfo/\n",
      "https://www.pymnts.com/blockchain/2022/gaming-industry-eyes-blockchain-payments-for-better-roi/\n",
      "https://www.jpost.com/business-and-innovation/banking-and-finance/article-713354\n",
      "https://financialpost.com/globe-newswire/bitfarms-completes-phase-2-at-its-bunker-location\n",
      "https://www.forbes.com/sites/forbescommunicationscouncil/2022/07/28/why-and-how-physicians-can-improve-their-practice-management-strategy-through-outsourcing/\n",
      "https://www.altcoinbuzz.io/cryptocurrency-news/partnerships/near-partners-with-institutional-crypto-custody-company-fireblocks/\n",
      "https://financialpost.com/pmn/press-releases-pmn/business-wire-news-releases-pmn/viq-solutions-to-report-second-quarter-2022-financial-results-on-wednesday-august-10-2022\n",
      "https://www.crowdfundinsider.com/2022/07/194159-temenos-wipro-to-accelerate-digital-transformation-in-banking/\n",
      "https://financialpost.com/pmn/press-releases-pmn/business-wire-news-releases-pmn/schneider-electric-makes-steady-progress-toward-2025-sustainability-targets-2\n",
      "https://financialpost.com/pmn/press-releases-pmn/business-wire-news-releases-pmn/stat-cto-juhwan-park-states-investment-strategy-can-be-digital-asset-by-incorporating-nft-to-social-trading\n",
      "https://financialpost.com/pmn/business-pmn/crypto-platform-zipmex-files-for-bankruptcy-protection-in-singapore\n",
      "https://www.pymnts.com/digital-first-banking/2022/uks-cma-warns-monzo-not-to-inhibit-current-account-holders-switching-accounts/\n",
      "https://www.forbes.com/sites/billhardekopf/2022/07/28/this-week-in-credit-card-news-inflation-interest-hikes-leading-to-soaring-card-debt-recession-fears/\n",
      "https://www.pymnts.com/personnel/2022/paypal-jim-magats-named-ceo-mx/\n",
      "https://www.pymnts.com/earnings/2022/apple-services-revenues-gain-12-as-paid-subscriptions-top-860m/\n"
     ]
    },
    {
     "name": "stderr",
     "output_type": "stream",
     "text": [
      "\r",
      " 80%|████████████████████████████████████████████████████████████████▊                | 12/15 [49:57<13:33, 271.31s/it]"
     ]
    },
    {
     "name": "stdout",
     "output_type": "stream",
     "text": [
      "7-28-2022  완료\n",
      "https://www.devex.com/news/can-social-entrepreneurs-make-africa-s-digital-boom-more-inclusive-103651\n",
      "https://siliconangle.com/2022/07/29/new-600m-financing-contentsquare-aims-humanize-digital-interactions/\n",
      "https://www.forbes.com/sites/forbeseq/2022/07/29/neobanking-is-here-to-stay-top-10-drivers-of-its-success/\n",
      "https://www.forbes.com/sites/forbesbusinesscouncil/2022/07/29/rise-of-the-digital-operator-in-bangladesh/\n",
      "https://www.pna.gov.ph/articles/1180163\n",
      "https://www.healthcarefinancenews.com/video/digital-transformation-care-indonesia\n",
      "https://www.forbes.com/sites/forbesbusinesscouncil/2022/07/29/the-rise-and-evolution-of-fintech-post-covid/\n",
      "https://www.eureporter.co/videos/cryptocurrency/2022/07/29/are-cryptocurrencies-about-to-make-fiat-money-obsolete/\n",
      "https://www.eureporter.co/videos/cryptocurrency/2022/07/29/are-cryptocurrencies-about-to-make-fiat-money-obsolete/\n",
      "https://www.bizjournals.com/jacksonville/news/2022/07/29/ufe_2022_darby_addison.html\n",
      "https://financefeeds.com/ing-veteran-elvira-kruger-appointed-head-of-transaction-services/\n",
      "https://www.pymnts.com/earnings/2022/pg-leverages-digital-to-drive-sales-internal-productivity/\n",
      "https://www.crowdfundinsider.com/2022/07/194212-pakistan-based-fintech-dbank-acquires-17-6m-via-round-led-by-sequoia-southeast-asia-kleiner-perkins/\n",
      "https://www.crowdfundinsider.com/tag/menai-financial-group/\n"
     ]
    },
    {
     "name": "stderr",
     "output_type": "stream",
     "text": [
      "\r",
      " 87%|██████████████████████████████████████████████████████████████████████▏          | 13/15 [54:18<08:56, 268.34s/it]"
     ]
    },
    {
     "name": "stdout",
     "output_type": "stream",
     "text": [
      "7-29-2022  완료\n",
      "https://www.crowdfundinsider.com/tag/bnz/\n"
     ]
    },
    {
     "name": "stderr",
     "output_type": "stream",
     "text": [
      "\r",
      " 93%|███████████████████████████████████████████████████████████████████████████▌     | 14/15 [54:37<03:12, 192.93s/it]"
     ]
    },
    {
     "name": "stdout",
     "output_type": "stream",
     "text": [
      "7-30-2022  완료\n",
      "https://www.pymnts.com/news/b2b-payments/2022/fintech-think-big-solutions-offers-tredx-digital-factoring-platform/\n",
      "https://www.forbes.com/sites/stevedenning/2022/07/31/how-novartis-is-finding-the-path-to-be-a-digital-winner/\n",
      "https://www.crowdfundinsider.com/2022/07/194260-id-finance-spain-releases-results-for-h1-2022/\n",
      "https://www.crowdfundinsider.com/2022/07/194200-veritran-glassbox-to-enhance-cx-in-the-financial-services-sector/\n",
      "https://www.pymnts.com/news/digital-banking/2022/as-macro-headwinds-mount-uk-neobanks-revisit-the-profit-vs-growth-debate/\n",
      "https://www.barrons.com/articles/stocks-to-watch-this-week-amd-paypal-starbucks-uber-paramount-51659294024\n"
     ]
    },
    {
     "name": "stderr",
     "output_type": "stream",
     "text": [
      "100%|█████████████████████████████████████████████████████████████████████████████████| 15/15 [55:17<00:00, 221.19s/it]"
     ]
    },
    {
     "name": "stdout",
     "output_type": "stream",
     "text": [
      "7-31-2022  완료\n"
     ]
    },
    {
     "name": "stderr",
     "output_type": "stream",
     "text": [
      "\n"
     ]
    }
   ],
   "source": [
    "restart = 1080\n",
    "for date in tqdm(list(data)[restart:]):\n",
    "    for idx,url in enumerate(data[date][0]):\n",
    "        try:\n",
    "            article = Article(url)\n",
    "            article.download()\n",
    "            article.parse()\n",
    "            v = article.text\n",
    "            df_trans[date][0][idx] = v\n",
    "\n",
    "        except:\n",
    "            print(url)\n",
    "    date = date.replace('/','-')\n",
    "    with open(r'C:/Users/Notebiz003/BerTopic/news/' + 'news-' + date + '.pickle','wb') as f:\n",
    "        pickle.dump(df_trans,f)\n",
    "    print(date,' 완료')"
   ]
  },
  {
   "cell_type": "code",
   "execution_count": 9,
   "id": "14a36a99",
   "metadata": {},
   "outputs": [],
   "source": [
    "name = 'news-7-31-2022.pickle'\n",
    "with open('C:/Users/Notebiz003/BerTopic/news/' + name, 'rb') as f:\n",
    "    data = pickle.load(f)"
   ]
  },
  {
   "cell_type": "code",
   "execution_count": 10,
   "id": "3496ccdf",
   "metadata": {},
   "outputs": [],
   "source": [
    "df_final = data.T"
   ]
  },
  {
   "cell_type": "code",
   "execution_count": 11,
   "id": "e10619f4",
   "metadata": {
    "scrolled": true
   },
   "outputs": [],
   "source": [
    "for idx, _ in enumerate(df_final[0]):\n",
    "    tmp = []\n",
    "    for i in df_final[0][idx]:\n",
    "        if 'https://' not in i:\n",
    "            tmp.append(i)\n",
    "    df_final[0][idx] = tmp"
   ]
  },
  {
   "cell_type": "code",
   "execution_count": 33,
   "id": "800cc6cc",
   "metadata": {},
   "outputs": [],
   "source": [
    "with open(r'C:/Users/Notebiz003/BerTopic/news/' + 'news_final.pickle','wb') as f:\n",
    "    pickle.dump(df_final,f)"
   ]
  }
 ],
 "metadata": {
  "kernelspec": {
   "display_name": "Python 3",
   "language": "python",
   "name": "python3"
  },
  "language_info": {
   "codemirror_mode": {
    "name": "ipython",
    "version": 3
   },
   "file_extension": ".py",
   "mimetype": "text/x-python",
   "name": "python",
   "nbconvert_exporter": "python",
   "pygments_lexer": "ipython3",
   "version": "3.9.12"
  }
 },
 "nbformat": 4,
 "nbformat_minor": 5
}
