{
 "cells": [
  {
   "cell_type": "code",
   "execution_count": 1,
   "id": "258413b9",
   "metadata": {
    "scrolled": true
   },
   "outputs": [
    {
     "name": "stdout",
     "output_type": "stream",
     "text": [
      "Python 3.9.12\n"
     ]
    }
   ],
   "source": [
    "!python --version"
   ]
  },
  {
   "cell_type": "code",
   "execution_count": null,
   "id": "db7af086",
   "metadata": {},
   "outputs": [],
   "source": [
    "!pip install pandas\n",
    "!pip install konlpy\n",
    "!pip install umap\n",
    "!pip install -U scikit-learn\n",
    "!pip install --upgrade pip\n",
    "!pip install matplotlib\n",
    "!pip3 install plotly"
   ]
  },
  {
   "cell_type": "code",
   "execution_count": 36,
   "id": "e25d485b",
   "metadata": {},
   "outputs": [],
   "source": [
    "import os\n",
    "os.getcwd()\n",
    "import pandas as pd\n",
    "path = \"C:/Users/Notebiz003/BerTopic/data/\"\n",
    "file_list = os.listdir(path)\n",
    "dfs = []"
   ]
  },
  {
   "cell_type": "code",
   "execution_count": 37,
   "id": "83bd32f9",
   "metadata": {
    "scrolled": true
   },
   "outputs": [
    {
     "name": "stderr",
     "output_type": "stream",
     "text": [
      "C:\\Users\\Notebiz003\\anaconda3\\lib\\site-packages\\openpyxl\\styles\\stylesheet.py:226: UserWarning:\n",
      "\n",
      "Workbook contains no default style, apply openpyxl's default\n",
      "\n"
     ]
    },
    {
     "name": "stdout",
     "output_type": "stream",
     "text": [
      "NewsResult_20180101-20181213.xlsx\n"
     ]
    },
    {
     "name": "stderr",
     "output_type": "stream",
     "text": [
      "C:\\Users\\Notebiz003\\anaconda3\\lib\\site-packages\\openpyxl\\styles\\stylesheet.py:226: UserWarning:\n",
      "\n",
      "Workbook contains no default style, apply openpyxl's default\n",
      "\n"
     ]
    },
    {
     "name": "stdout",
     "output_type": "stream",
     "text": [
      "NewsResult_20190101-20191231.xlsx\n"
     ]
    },
    {
     "name": "stderr",
     "output_type": "stream",
     "text": [
      "C:\\Users\\Notebiz003\\anaconda3\\lib\\site-packages\\openpyxl\\styles\\stylesheet.py:226: UserWarning:\n",
      "\n",
      "Workbook contains no default style, apply openpyxl's default\n",
      "\n"
     ]
    },
    {
     "name": "stdout",
     "output_type": "stream",
     "text": [
      "NewsResult_20200101-20201231.xlsx\n"
     ]
    },
    {
     "name": "stderr",
     "output_type": "stream",
     "text": [
      "C:\\Users\\Notebiz003\\anaconda3\\lib\\site-packages\\openpyxl\\styles\\stylesheet.py:226: UserWarning:\n",
      "\n",
      "Workbook contains no default style, apply openpyxl's default\n",
      "\n"
     ]
    },
    {
     "name": "stdout",
     "output_type": "stream",
     "text": [
      "NewsResult_20210101-20211231.xlsx\n"
     ]
    },
    {
     "name": "stderr",
     "output_type": "stream",
     "text": [
      "C:\\Users\\Notebiz003\\anaconda3\\lib\\site-packages\\openpyxl\\styles\\stylesheet.py:226: UserWarning:\n",
      "\n",
      "Workbook contains no default style, apply openpyxl's default\n",
      "\n"
     ]
    },
    {
     "name": "stdout",
     "output_type": "stream",
     "text": [
      "NewsResult_20220101-20220812.xlsx\n"
     ]
    }
   ],
   "source": [
    "for i in file_list:\n",
    "    df = pd.read_excel(path+i)\n",
    "    dfs.append(df)\n",
    "    print(i)"
   ]
  },
  {
   "cell_type": "code",
   "execution_count": 38,
   "id": "03e37241",
   "metadata": {},
   "outputs": [],
   "source": [
    "from datetime import datetime\n",
    "\n",
    "\n",
    "import logging\n",
    "import re\n",
    "\n",
    "import numpy as np\n",
    "import pandas as pd"
   ]
  },
  {
   "cell_type": "code",
   "execution_count": null,
   "id": "62d4e991",
   "metadata": {},
   "outputs": [],
   "source": []
  },
  {
   "cell_type": "code",
   "execution_count": 42,
   "id": "db4c6c6c",
   "metadata": {},
   "outputs": [
    {
     "name": "stderr",
     "output_type": "stream",
     "text": [
      "<ipython-input-42-0f7ba8fbab65>:10: SettingWithCopyWarning:\n",
      "\n",
      "\n",
      "A value is trying to be set on a copy of a slice from a DataFrame.\n",
      "Try using .loc[row_indexer,col_indexer] = value instead\n",
      "\n",
      "See the caveats in the documentation: https://pandas.pydata.org/pandas-docs/stable/user_guide/indexing.html#returning-a-view-versus-a-copy\n",
      "\n",
      "<ipython-input-42-0f7ba8fbab65>:11: SettingWithCopyWarning:\n",
      "\n",
      "\n",
      "A value is trying to be set on a copy of a slice from a DataFrame.\n",
      "Try using .loc[row_indexer,col_indexer] = value instead\n",
      "\n",
      "See the caveats in the documentation: https://pandas.pydata.org/pandas-docs/stable/user_guide/indexing.html#returning-a-view-versus-a-copy\n",
      "\n",
      "<ipython-input-42-0f7ba8fbab65>:47: FutureWarning:\n",
      "\n",
      "Passing 'suffixes' which cause duplicate columns {'cnt_x'} in the result is deprecated and will raise a MergeError in a future version.\n",
      "\n",
      "<ipython-input-42-0f7ba8fbab65>:47: FutureWarning:\n",
      "\n",
      "Passing 'suffixes' which cause duplicate columns {'cnt_x'} in the result is deprecated and will raise a MergeError in a future version.\n",
      "\n",
      "<ipython-input-42-0f7ba8fbab65>:47: FutureWarning:\n",
      "\n",
      "Passing 'suffixes' which cause duplicate columns {'cnt_x'} in the result is deprecated and will raise a MergeError in a future version.\n",
      "\n",
      "<ipython-input-42-0f7ba8fbab65>:47: FutureWarning:\n",
      "\n",
      "Passing 'suffixes' which cause duplicate columns {'cnt_x'} in the result is deprecated and will raise a MergeError in a future version.\n",
      "\n",
      "<ipython-input-42-0f7ba8fbab65>:47: FutureWarning:\n",
      "\n",
      "Passing 'suffixes' which cause duplicate columns {'cnt_x'} in the result is deprecated and will raise a MergeError in a future version.\n",
      "\n",
      "<ipython-input-42-0f7ba8fbab65>:47: FutureWarning:\n",
      "\n",
      "Passing 'suffixes' which cause duplicate columns {'cnt_x'} in the result is deprecated and will raise a MergeError in a future version.\n",
      "\n",
      "<ipython-input-42-0f7ba8fbab65>:47: FutureWarning:\n",
      "\n",
      "Passing 'suffixes' which cause duplicate columns {'cnt_x'} in the result is deprecated and will raise a MergeError in a future version.\n",
      "\n",
      "<ipython-input-42-0f7ba8fbab65>:47: FutureWarning:\n",
      "\n",
      "Passing 'suffixes' which cause duplicate columns {'cnt_x'} in the result is deprecated and will raise a MergeError in a future version.\n",
      "\n",
      "<ipython-input-42-0f7ba8fbab65>:47: FutureWarning:\n",
      "\n",
      "Passing 'suffixes' which cause duplicate columns {'cnt_x'} in the result is deprecated and will raise a MergeError in a future version.\n",
      "\n",
      "<ipython-input-42-0f7ba8fbab65>:47: FutureWarning:\n",
      "\n",
      "Passing 'suffixes' which cause duplicate columns {'cnt_x'} in the result is deprecated and will raise a MergeError in a future version.\n",
      "\n",
      "<ipython-input-42-0f7ba8fbab65>:47: FutureWarning:\n",
      "\n",
      "Passing 'suffixes' which cause duplicate columns {'cnt_x'} in the result is deprecated and will raise a MergeError in a future version.\n",
      "\n",
      "<ipython-input-42-0f7ba8fbab65>:47: FutureWarning:\n",
      "\n",
      "Passing 'suffixes' which cause duplicate columns {'cnt_x'} in the result is deprecated and will raise a MergeError in a future version.\n",
      "\n",
      "<ipython-input-42-0f7ba8fbab65>:47: FutureWarning:\n",
      "\n",
      "Passing 'suffixes' which cause duplicate columns {'cnt_x'} in the result is deprecated and will raise a MergeError in a future version.\n",
      "\n",
      "<ipython-input-42-0f7ba8fbab65>:47: FutureWarning:\n",
      "\n",
      "Passing 'suffixes' which cause duplicate columns {'cnt_x'} in the result is deprecated and will raise a MergeError in a future version.\n",
      "\n",
      "<ipython-input-42-0f7ba8fbab65>:47: FutureWarning:\n",
      "\n",
      "Passing 'suffixes' which cause duplicate columns {'cnt_x'} in the result is deprecated and will raise a MergeError in a future version.\n",
      "\n",
      "<ipython-input-42-0f7ba8fbab65>:47: FutureWarning:\n",
      "\n",
      "Passing 'suffixes' which cause duplicate columns {'cnt_x'} in the result is deprecated and will raise a MergeError in a future version.\n",
      "\n",
      "<ipython-input-42-0f7ba8fbab65>:47: FutureWarning:\n",
      "\n",
      "Passing 'suffixes' which cause duplicate columns {'cnt_x'} in the result is deprecated and will raise a MergeError in a future version.\n",
      "\n",
      "<ipython-input-42-0f7ba8fbab65>:47: FutureWarning:\n",
      "\n",
      "Passing 'suffixes' which cause duplicate columns {'cnt_x'} in the result is deprecated and will raise a MergeError in a future version.\n",
      "\n",
      "<ipython-input-42-0f7ba8fbab65>:47: FutureWarning:\n",
      "\n",
      "Passing 'suffixes' which cause duplicate columns {'cnt_x'} in the result is deprecated and will raise a MergeError in a future version.\n",
      "\n",
      "<ipython-input-42-0f7ba8fbab65>:47: FutureWarning:\n",
      "\n",
      "Passing 'suffixes' which cause duplicate columns {'cnt_x'} in the result is deprecated and will raise a MergeError in a future version.\n",
      "\n",
      "<ipython-input-42-0f7ba8fbab65>:47: FutureWarning:\n",
      "\n",
      "Passing 'suffixes' which cause duplicate columns {'cnt_x'} in the result is deprecated and will raise a MergeError in a future version.\n",
      "\n",
      "<ipython-input-42-0f7ba8fbab65>:47: FutureWarning:\n",
      "\n",
      "Passing 'suffixes' which cause duplicate columns {'cnt_x'} in the result is deprecated and will raise a MergeError in a future version.\n",
      "\n",
      "<ipython-input-42-0f7ba8fbab65>:47: FutureWarning:\n",
      "\n",
      "Passing 'suffixes' which cause duplicate columns {'cnt_x'} in the result is deprecated and will raise a MergeError in a future version.\n",
      "\n",
      "<ipython-input-42-0f7ba8fbab65>:47: FutureWarning:\n",
      "\n",
      "Passing 'suffixes' which cause duplicate columns {'cnt_x'} in the result is deprecated and will raise a MergeError in a future version.\n",
      "\n",
      "<ipython-input-42-0f7ba8fbab65>:47: FutureWarning:\n",
      "\n",
      "Passing 'suffixes' which cause duplicate columns {'cnt_x'} in the result is deprecated and will raise a MergeError in a future version.\n",
      "\n",
      "<ipython-input-42-0f7ba8fbab65>:47: FutureWarning:\n",
      "\n",
      "Passing 'suffixes' which cause duplicate columns {'cnt_x'} in the result is deprecated and will raise a MergeError in a future version.\n",
      "\n"
     ]
    },
    {
     "data": {
      "text/html": [
       "<div>\n",
       "<style scoped>\n",
       "    .dataframe tbody tr th:only-of-type {\n",
       "        vertical-align: middle;\n",
       "    }\n",
       "\n",
       "    .dataframe tbody tr th {\n",
       "        vertical-align: top;\n",
       "    }\n",
       "\n",
       "    .dataframe thead th {\n",
       "        text-align: right;\n",
       "    }\n",
       "</style>\n",
       "<table border=\"1\" class=\"dataframe\">\n",
       "  <thead>\n",
       "    <tr style=\"text-align: right;\">\n",
       "      <th></th>\n",
       "      <th>201801</th>\n",
       "      <th>201802</th>\n",
       "      <th>201803</th>\n",
       "      <th>201804</th>\n",
       "      <th>201805</th>\n",
       "      <th>201806</th>\n",
       "      <th>201807</th>\n",
       "      <th>201808</th>\n",
       "      <th>201809</th>\n",
       "      <th>201810</th>\n",
       "      <th>...</th>\n",
       "      <th>202111</th>\n",
       "      <th>202112</th>\n",
       "      <th>202201</th>\n",
       "      <th>202202</th>\n",
       "      <th>202203</th>\n",
       "      <th>202204</th>\n",
       "      <th>202205</th>\n",
       "      <th>202206</th>\n",
       "      <th>202207</th>\n",
       "      <th>tot_cnt</th>\n",
       "    </tr>\n",
       "    <tr>\n",
       "      <th>keyword</th>\n",
       "      <th></th>\n",
       "      <th></th>\n",
       "      <th></th>\n",
       "      <th></th>\n",
       "      <th></th>\n",
       "      <th></th>\n",
       "      <th></th>\n",
       "      <th></th>\n",
       "      <th></th>\n",
       "      <th></th>\n",
       "      <th></th>\n",
       "      <th></th>\n",
       "      <th></th>\n",
       "      <th></th>\n",
       "      <th></th>\n",
       "      <th></th>\n",
       "      <th></th>\n",
       "      <th></th>\n",
       "      <th></th>\n",
       "      <th></th>\n",
       "      <th></th>\n",
       "    </tr>\n",
       "  </thead>\n",
       "  <tbody>\n",
       "    <tr>\n",
       "      <th>협력사</th>\n",
       "      <td>2.0</td>\n",
       "      <td>0.0</td>\n",
       "      <td>4.0</td>\n",
       "      <td>0.0</td>\n",
       "      <td>1.0</td>\n",
       "      <td>4.0</td>\n",
       "      <td>0.0</td>\n",
       "      <td>0.0</td>\n",
       "      <td>9.0</td>\n",
       "      <td>9.0</td>\n",
       "      <td>...</td>\n",
       "      <td>2.0</td>\n",
       "      <td>0.0</td>\n",
       "      <td>7.0</td>\n",
       "      <td>10.0</td>\n",
       "      <td>6.0</td>\n",
       "      <td>8.0</td>\n",
       "      <td>3.0</td>\n",
       "      <td>1.0</td>\n",
       "      <td>5.0</td>\n",
       "      <td>206.0</td>\n",
       "    </tr>\n",
       "    <tr>\n",
       "      <th>결제대금</th>\n",
       "      <td>1.0</td>\n",
       "      <td>0.0</td>\n",
       "      <td>0.0</td>\n",
       "      <td>0.0</td>\n",
       "      <td>0.0</td>\n",
       "      <td>0.0</td>\n",
       "      <td>0.0</td>\n",
       "      <td>0.0</td>\n",
       "      <td>0.0</td>\n",
       "      <td>0.0</td>\n",
       "      <td>...</td>\n",
       "      <td>0.0</td>\n",
       "      <td>0.0</td>\n",
       "      <td>0.0</td>\n",
       "      <td>0.0</td>\n",
       "      <td>0.0</td>\n",
       "      <td>0.0</td>\n",
       "      <td>0.0</td>\n",
       "      <td>0.0</td>\n",
       "      <td>0.0</td>\n",
       "      <td>8.0</td>\n",
       "    </tr>\n",
       "    <tr>\n",
       "      <th>일본</th>\n",
       "      <td>52.0</td>\n",
       "      <td>17.0</td>\n",
       "      <td>39.0</td>\n",
       "      <td>28.0</td>\n",
       "      <td>14.0</td>\n",
       "      <td>16.0</td>\n",
       "      <td>23.0</td>\n",
       "      <td>26.0</td>\n",
       "      <td>26.0</td>\n",
       "      <td>34.0</td>\n",
       "      <td>...</td>\n",
       "      <td>29.0</td>\n",
       "      <td>42.0</td>\n",
       "      <td>38.0</td>\n",
       "      <td>13.0</td>\n",
       "      <td>16.0</td>\n",
       "      <td>37.0</td>\n",
       "      <td>29.0</td>\n",
       "      <td>36.0</td>\n",
       "      <td>37.0</td>\n",
       "      <td>1929.0</td>\n",
       "    </tr>\n",
       "    <tr>\n",
       "      <th>출연금</th>\n",
       "      <td>1.0</td>\n",
       "      <td>0.0</td>\n",
       "      <td>0.0</td>\n",
       "      <td>0.0</td>\n",
       "      <td>0.0</td>\n",
       "      <td>0.0</td>\n",
       "      <td>0.0</td>\n",
       "      <td>0.0</td>\n",
       "      <td>0.0</td>\n",
       "      <td>1.0</td>\n",
       "      <td>...</td>\n",
       "      <td>10.0</td>\n",
       "      <td>0.0</td>\n",
       "      <td>0.0</td>\n",
       "      <td>0.0</td>\n",
       "      <td>4.0</td>\n",
       "      <td>1.0</td>\n",
       "      <td>0.0</td>\n",
       "      <td>0.0</td>\n",
       "      <td>1.0</td>\n",
       "      <td>42.0</td>\n",
       "    </tr>\n",
       "    <tr>\n",
       "      <th>두산엔진</th>\n",
       "      <td>1.0</td>\n",
       "      <td>0.0</td>\n",
       "      <td>0.0</td>\n",
       "      <td>0.0</td>\n",
       "      <td>0.0</td>\n",
       "      <td>0.0</td>\n",
       "      <td>0.0</td>\n",
       "      <td>0.0</td>\n",
       "      <td>0.0</td>\n",
       "      <td>0.0</td>\n",
       "      <td>...</td>\n",
       "      <td>0.0</td>\n",
       "      <td>0.0</td>\n",
       "      <td>0.0</td>\n",
       "      <td>0.0</td>\n",
       "      <td>0.0</td>\n",
       "      <td>0.0</td>\n",
       "      <td>0.0</td>\n",
       "      <td>0.0</td>\n",
       "      <td>0.0</td>\n",
       "      <td>1.0</td>\n",
       "    </tr>\n",
       "    <tr>\n",
       "      <th>...</th>\n",
       "      <td>...</td>\n",
       "      <td>...</td>\n",
       "      <td>...</td>\n",
       "      <td>...</td>\n",
       "      <td>...</td>\n",
       "      <td>...</td>\n",
       "      <td>...</td>\n",
       "      <td>...</td>\n",
       "      <td>...</td>\n",
       "      <td>...</td>\n",
       "      <td>...</td>\n",
       "      <td>...</td>\n",
       "      <td>...</td>\n",
       "      <td>...</td>\n",
       "      <td>...</td>\n",
       "      <td>...</td>\n",
       "      <td>...</td>\n",
       "      <td>...</td>\n",
       "      <td>...</td>\n",
       "      <td>...</td>\n",
       "      <td>...</td>\n",
       "    </tr>\n",
       "    <tr>\n",
       "      <th>품질경영시스템</th>\n",
       "      <td>0.0</td>\n",
       "      <td>0.0</td>\n",
       "      <td>0.0</td>\n",
       "      <td>0.0</td>\n",
       "      <td>0.0</td>\n",
       "      <td>0.0</td>\n",
       "      <td>0.0</td>\n",
       "      <td>0.0</td>\n",
       "      <td>0.0</td>\n",
       "      <td>0.0</td>\n",
       "      <td>...</td>\n",
       "      <td>0.0</td>\n",
       "      <td>0.0</td>\n",
       "      <td>0.0</td>\n",
       "      <td>0.0</td>\n",
       "      <td>0.0</td>\n",
       "      <td>0.0</td>\n",
       "      <td>0.0</td>\n",
       "      <td>0.0</td>\n",
       "      <td>1.0</td>\n",
       "      <td>1.0</td>\n",
       "    </tr>\n",
       "    <tr>\n",
       "      <th>최홍훈</th>\n",
       "      <td>0.0</td>\n",
       "      <td>0.0</td>\n",
       "      <td>0.0</td>\n",
       "      <td>0.0</td>\n",
       "      <td>0.0</td>\n",
       "      <td>0.0</td>\n",
       "      <td>0.0</td>\n",
       "      <td>0.0</td>\n",
       "      <td>0.0</td>\n",
       "      <td>0.0</td>\n",
       "      <td>...</td>\n",
       "      <td>0.0</td>\n",
       "      <td>0.0</td>\n",
       "      <td>0.0</td>\n",
       "      <td>0.0</td>\n",
       "      <td>0.0</td>\n",
       "      <td>0.0</td>\n",
       "      <td>0.0</td>\n",
       "      <td>0.0</td>\n",
       "      <td>1.0</td>\n",
       "      <td>1.0</td>\n",
       "    </tr>\n",
       "    <tr>\n",
       "      <th>소비자보호시스템</th>\n",
       "      <td>0.0</td>\n",
       "      <td>0.0</td>\n",
       "      <td>0.0</td>\n",
       "      <td>0.0</td>\n",
       "      <td>0.0</td>\n",
       "      <td>0.0</td>\n",
       "      <td>0.0</td>\n",
       "      <td>0.0</td>\n",
       "      <td>0.0</td>\n",
       "      <td>0.0</td>\n",
       "      <td>...</td>\n",
       "      <td>0.0</td>\n",
       "      <td>0.0</td>\n",
       "      <td>0.0</td>\n",
       "      <td>0.0</td>\n",
       "      <td>0.0</td>\n",
       "      <td>0.0</td>\n",
       "      <td>0.0</td>\n",
       "      <td>0.0</td>\n",
       "      <td>1.0</td>\n",
       "      <td>1.0</td>\n",
       "    </tr>\n",
       "    <tr>\n",
       "      <th>고객배심원단</th>\n",
       "      <td>0.0</td>\n",
       "      <td>0.0</td>\n",
       "      <td>0.0</td>\n",
       "      <td>0.0</td>\n",
       "      <td>0.0</td>\n",
       "      <td>0.0</td>\n",
       "      <td>0.0</td>\n",
       "      <td>0.0</td>\n",
       "      <td>0.0</td>\n",
       "      <td>0.0</td>\n",
       "      <td>...</td>\n",
       "      <td>0.0</td>\n",
       "      <td>0.0</td>\n",
       "      <td>0.0</td>\n",
       "      <td>0.0</td>\n",
       "      <td>0.0</td>\n",
       "      <td>0.0</td>\n",
       "      <td>0.0</td>\n",
       "      <td>0.0</td>\n",
       "      <td>1.0</td>\n",
       "      <td>1.0</td>\n",
       "    </tr>\n",
       "    <tr>\n",
       "      <th>year_cnt</th>\n",
       "      <td>22843.0</td>\n",
       "      <td>11762.0</td>\n",
       "      <td>14440.0</td>\n",
       "      <td>16149.0</td>\n",
       "      <td>12550.0</td>\n",
       "      <td>9940.0</td>\n",
       "      <td>15820.0</td>\n",
       "      <td>11153.0</td>\n",
       "      <td>13031.0</td>\n",
       "      <td>14883.0</td>\n",
       "      <td>...</td>\n",
       "      <td>29928.0</td>\n",
       "      <td>42857.0</td>\n",
       "      <td>39443.0</td>\n",
       "      <td>25451.0</td>\n",
       "      <td>30015.0</td>\n",
       "      <td>27200.0</td>\n",
       "      <td>29278.0</td>\n",
       "      <td>23013.0</td>\n",
       "      <td>28363.0</td>\n",
       "      <td>1291713.0</td>\n",
       "    </tr>\n",
       "  </tbody>\n",
       "</table>\n",
       "<p>124694 rows × 56 columns</p>\n",
       "</div>"
      ],
      "text/plain": [
       "           201801   201802   201803   201804   201805  201806   201807  \\\n",
       "keyword                                                                  \n",
       "협력사           2.0      0.0      4.0      0.0      1.0     4.0      0.0   \n",
       "결제대금          1.0      0.0      0.0      0.0      0.0     0.0      0.0   \n",
       "일본           52.0     17.0     39.0     28.0     14.0    16.0     23.0   \n",
       "출연금           1.0      0.0      0.0      0.0      0.0     0.0      0.0   \n",
       "두산엔진          1.0      0.0      0.0      0.0      0.0     0.0      0.0   \n",
       "...           ...      ...      ...      ...      ...     ...      ...   \n",
       "품질경영시스템       0.0      0.0      0.0      0.0      0.0     0.0      0.0   \n",
       "최홍훈           0.0      0.0      0.0      0.0      0.0     0.0      0.0   \n",
       "소비자보호시스템      0.0      0.0      0.0      0.0      0.0     0.0      0.0   \n",
       "고객배심원단        0.0      0.0      0.0      0.0      0.0     0.0      0.0   \n",
       "year_cnt  22843.0  11762.0  14440.0  16149.0  12550.0  9940.0  15820.0   \n",
       "\n",
       "           201808   201809   201810  ...   202111   202112   202201   202202  \\\n",
       "keyword                              ...                                       \n",
       "협력사           0.0      9.0      9.0  ...      2.0      0.0      7.0     10.0   \n",
       "결제대금          0.0      0.0      0.0  ...      0.0      0.0      0.0      0.0   \n",
       "일본           26.0     26.0     34.0  ...     29.0     42.0     38.0     13.0   \n",
       "출연금           0.0      0.0      1.0  ...     10.0      0.0      0.0      0.0   \n",
       "두산엔진          0.0      0.0      0.0  ...      0.0      0.0      0.0      0.0   \n",
       "...           ...      ...      ...  ...      ...      ...      ...      ...   \n",
       "품질경영시스템       0.0      0.0      0.0  ...      0.0      0.0      0.0      0.0   \n",
       "최홍훈           0.0      0.0      0.0  ...      0.0      0.0      0.0      0.0   \n",
       "소비자보호시스템      0.0      0.0      0.0  ...      0.0      0.0      0.0      0.0   \n",
       "고객배심원단        0.0      0.0      0.0  ...      0.0      0.0      0.0      0.0   \n",
       "year_cnt  11153.0  13031.0  14883.0  ...  29928.0  42857.0  39443.0  25451.0   \n",
       "\n",
       "           202203   202204   202205   202206   202207    tot_cnt  \n",
       "keyword                                                           \n",
       "협력사           6.0      8.0      3.0      1.0      5.0      206.0  \n",
       "결제대금          0.0      0.0      0.0      0.0      0.0        8.0  \n",
       "일본           16.0     37.0     29.0     36.0     37.0     1929.0  \n",
       "출연금           4.0      1.0      0.0      0.0      1.0       42.0  \n",
       "두산엔진          0.0      0.0      0.0      0.0      0.0        1.0  \n",
       "...           ...      ...      ...      ...      ...        ...  \n",
       "품질경영시스템       0.0      0.0      0.0      0.0      1.0        1.0  \n",
       "최홍훈           0.0      0.0      0.0      0.0      1.0        1.0  \n",
       "소비자보호시스템      0.0      0.0      0.0      0.0      1.0        1.0  \n",
       "고객배심원단        0.0      0.0      0.0      0.0      1.0        1.0  \n",
       "year_cnt  30015.0  27200.0  29278.0  23013.0  28363.0  1291713.0  \n",
       "\n",
       "[124694 rows x 56 columns]"
      ]
     },
     "execution_count": 42,
     "metadata": {},
     "output_type": "execute_result"
    }
   ],
   "source": [
    "## 데이터 전처리\n",
    "data = pd.concat(dfs)\n",
    "data = data[['뉴스 식별자','일자','제목','키워드','특성추출(가중치순 상위 50개)']]\n",
    "cluster_mode = '특성추출(가중치순 상위 50개)'\n",
    "corpus = data[cluster_mode].values.tolist()\n",
    "\n",
    "for i, cp in enumerate(corpus):\n",
    "    corpus[i] = cp.split(',')\n",
    "df = data[['일자']]\n",
    "df['키워드'] = corpus\n",
    "df['일자'] = [str(x)[0:6] for x in df['일자']] \n",
    "\n",
    "\n",
    "from_date = '2018-1-1'\n",
    "to_date = '2022-7-31'\n",
    "datelist = pd.date_range(start=from_date, end=to_date, freq = 'M').tolist()\n",
    "dtlst = []\n",
    "\n",
    "for d_t in datelist:\n",
    "    d_t = str(d_t)[0:-9]\n",
    "    d = datetime.strptime(d_t, '%Y-%m-%d')\n",
    "    d = d.strftime('%Y%m')\n",
    "    dtlst.append(d)\n",
    "    \n",
    "# 키워드 사전 \n",
    "keyword_vocab = []\n",
    "for i in df['키워드']:\n",
    "    keyword_vocab.extend(i)\n",
    "keyword_vocab = list(set(keyword_vocab))\n",
    "\n",
    "# 월별 카운팅 후 병합\n",
    "from collections import Counter\n",
    "\n",
    "tmp_df_list = []\n",
    "for dt in dtlst:\n",
    "    tmp = []\n",
    "    for i in df[df['일자']== dt]['키워드']:\n",
    "        tmp.extend(i)\n",
    "    tmp_df = pd.DataFrame(pd.Series(Counter(tmp)))\n",
    "    tmp_df = tmp_df.reset_index()\n",
    "    tmp_df = tmp_df.rename(columns = {0:'cnt','index':'keyword'})\n",
    "    tmp_df_list.append(tmp_df)\n",
    "    \n",
    "df = tmp_df_list[0].merge(tmp_df_list[1], on = 'keyword', how = 'outer')\n",
    "for i in range(len(tmp_df_list)):\n",
    "    if i > 1:\n",
    "        df = df.merge(tmp_df_list[i], on = 'keyword', how = 'outer')\n",
    "col = ['keyword'] + dtlst\n",
    "df.columns = col\n",
    "\n",
    "# 합산 값 만들기\n",
    "df.index = df['keyword']\n",
    "df = df.drop('keyword', axis = 1)\n",
    "df['tot_cnt'] = df.sum(axis = 1)\n",
    "df = df.T\n",
    "df['year_cnt'] = df.sum(axis = 1)\n",
    "df = df.T\n",
    "df\n",
    "\n",
    "# 결측치 처리\n",
    "df =df.fillna(0)\n",
    "df"
   ]
  },
  {
   "cell_type": "code",
   "execution_count": 6,
   "id": "f3f49fee",
   "metadata": {},
   "outputs": [
    {
     "data": {
      "text/html": [
       "<div>\n",
       "<style scoped>\n",
       "    .dataframe tbody tr th:only-of-type {\n",
       "        vertical-align: middle;\n",
       "    }\n",
       "\n",
       "    .dataframe tbody tr th {\n",
       "        vertical-align: top;\n",
       "    }\n",
       "\n",
       "    .dataframe thead th {\n",
       "        text-align: right;\n",
       "    }\n",
       "</style>\n",
       "<table border=\"1\" class=\"dataframe\">\n",
       "  <thead>\n",
       "    <tr style=\"text-align: right;\">\n",
       "      <th></th>\n",
       "      <th>201801</th>\n",
       "      <th>201802</th>\n",
       "      <th>201803</th>\n",
       "      <th>201804</th>\n",
       "      <th>201805</th>\n",
       "      <th>201806</th>\n",
       "      <th>201807</th>\n",
       "      <th>201808</th>\n",
       "      <th>201809</th>\n",
       "      <th>201810</th>\n",
       "      <th>...</th>\n",
       "      <th>202111</th>\n",
       "      <th>202112</th>\n",
       "      <th>202201</th>\n",
       "      <th>202202</th>\n",
       "      <th>202203</th>\n",
       "      <th>202204</th>\n",
       "      <th>202205</th>\n",
       "      <th>202206</th>\n",
       "      <th>202207</th>\n",
       "      <th>tot_cnt</th>\n",
       "    </tr>\n",
       "    <tr>\n",
       "      <th>keyword</th>\n",
       "      <th></th>\n",
       "      <th></th>\n",
       "      <th></th>\n",
       "      <th></th>\n",
       "      <th></th>\n",
       "      <th></th>\n",
       "      <th></th>\n",
       "      <th></th>\n",
       "      <th></th>\n",
       "      <th></th>\n",
       "      <th></th>\n",
       "      <th></th>\n",
       "      <th></th>\n",
       "      <th></th>\n",
       "      <th></th>\n",
       "      <th></th>\n",
       "      <th></th>\n",
       "      <th></th>\n",
       "      <th></th>\n",
       "      <th></th>\n",
       "      <th></th>\n",
       "    </tr>\n",
       "  </thead>\n",
       "  <tbody>\n",
       "    <tr>\n",
       "      <th>ai</th>\n",
       "      <td>35.0</td>\n",
       "      <td>33.0</td>\n",
       "      <td>44.0</td>\n",
       "      <td>39.0</td>\n",
       "      <td>32.0</td>\n",
       "      <td>47.0</td>\n",
       "      <td>25.0</td>\n",
       "      <td>45.0</td>\n",
       "      <td>57.0</td>\n",
       "      <td>29.0</td>\n",
       "      <td>...</td>\n",
       "      <td>118.0</td>\n",
       "      <td>141.0</td>\n",
       "      <td>107.0</td>\n",
       "      <td>94.0</td>\n",
       "      <td>130.0</td>\n",
       "      <td>74.0</td>\n",
       "      <td>111.0</td>\n",
       "      <td>73.0</td>\n",
       "      <td>112.0</td>\n",
       "      <td>4453.0</td>\n",
       "    </tr>\n",
       "  </tbody>\n",
       "</table>\n",
       "<p>1 rows × 56 columns</p>\n",
       "</div>"
      ],
      "text/plain": [
       "         201801  201802  201803  201804  201805  201806  201807  201808  \\\n",
       "keyword                                                                   \n",
       "ai         35.0    33.0    44.0    39.0    32.0    47.0    25.0    45.0   \n",
       "\n",
       "         201809  201810  ...  202111  202112  202201  202202  202203  202204  \\\n",
       "keyword                  ...                                                   \n",
       "ai         57.0    29.0  ...   118.0   141.0   107.0    94.0   130.0    74.0   \n",
       "\n",
       "         202205  202206  202207  tot_cnt  \n",
       "keyword                                   \n",
       "ai        111.0    73.0   112.0   4453.0  \n",
       "\n",
       "[1 rows x 56 columns]"
      ]
     },
     "execution_count": 6,
     "metadata": {},
     "output_type": "execute_result"
    }
   ],
   "source": [
    "# 데이터 확인\n",
    "key = 'ai'\n",
    "df[df.index == key]"
   ]
  },
  {
   "cell_type": "code",
   "execution_count": 7,
   "id": "bca29432",
   "metadata": {},
   "outputs": [],
   "source": [
    "# 데이터 비교1 . 회귀선의 기울기\n",
    "# 연도별 건수 보정(normaliae)\n",
    "\n",
    "df2 = df.copy()\n",
    "for dt in dtlst:\n",
    "    df2[dt] = df2[dt][:-1]*10000 / df2[dt][-1]\n",
    "from scipy import stats\n",
    "\n",
    "x = [x + 1for x in range(0,len(dtlst))]\n",
    "\n",
    "slopes = []\n",
    "for i in list(df2.values):\n",
    "    y = i[:-1]\n",
    "    slope, intercept, r, p, std_err = stats.linregress(x, y)\n",
    "    slopes.append(slope)\n",
    "df2['slope'] = slopes"
   ]
  },
  {
   "cell_type": "code",
   "execution_count": 18,
   "id": "8934bd45",
   "metadata": {},
   "outputs": [
    {
     "data": {
      "text/html": [
       "<div>\n",
       "<style scoped>\n",
       "    .dataframe tbody tr th:only-of-type {\n",
       "        vertical-align: middle;\n",
       "    }\n",
       "\n",
       "    .dataframe tbody tr th {\n",
       "        vertical-align: top;\n",
       "    }\n",
       "\n",
       "    .dataframe thead th {\n",
       "        text-align: right;\n",
       "    }\n",
       "</style>\n",
       "<table border=\"1\" class=\"dataframe\">\n",
       "  <thead>\n",
       "    <tr style=\"text-align: right;\">\n",
       "      <th></th>\n",
       "      <th>201801</th>\n",
       "      <th>201802</th>\n",
       "      <th>201803</th>\n",
       "      <th>201804</th>\n",
       "      <th>201805</th>\n",
       "      <th>201806</th>\n",
       "      <th>201807</th>\n",
       "      <th>201808</th>\n",
       "      <th>201809</th>\n",
       "      <th>201810</th>\n",
       "      <th>...</th>\n",
       "      <th>202112</th>\n",
       "      <th>202201</th>\n",
       "      <th>202202</th>\n",
       "      <th>202203</th>\n",
       "      <th>202204</th>\n",
       "      <th>202205</th>\n",
       "      <th>202206</th>\n",
       "      <th>202207</th>\n",
       "      <th>tot_cnt</th>\n",
       "      <th>slope</th>\n",
       "    </tr>\n",
       "    <tr>\n",
       "      <th>keyword</th>\n",
       "      <th></th>\n",
       "      <th></th>\n",
       "      <th></th>\n",
       "      <th></th>\n",
       "      <th></th>\n",
       "      <th></th>\n",
       "      <th></th>\n",
       "      <th></th>\n",
       "      <th></th>\n",
       "      <th></th>\n",
       "      <th></th>\n",
       "      <th></th>\n",
       "      <th></th>\n",
       "      <th></th>\n",
       "      <th></th>\n",
       "      <th></th>\n",
       "      <th></th>\n",
       "      <th></th>\n",
       "      <th></th>\n",
       "      <th></th>\n",
       "      <th></th>\n",
       "    </tr>\n",
       "  </thead>\n",
       "  <tbody>\n",
       "    <tr>\n",
       "      <th>코로나19</th>\n",
       "      <td>0.0</td>\n",
       "      <td>0.0</td>\n",
       "      <td>0.0</td>\n",
       "      <td>0.0</td>\n",
       "      <td>0.000000</td>\n",
       "      <td>0.0</td>\n",
       "      <td>0.0</td>\n",
       "      <td>0.00000</td>\n",
       "      <td>0.000000</td>\n",
       "      <td>0.0</td>\n",
       "      <td>...</td>\n",
       "      <td>49.700166</td>\n",
       "      <td>80.369140</td>\n",
       "      <td>56.579309</td>\n",
       "      <td>60.303182</td>\n",
       "      <td>44.852941</td>\n",
       "      <td>33.813785</td>\n",
       "      <td>28.679442</td>\n",
       "      <td>37.020061</td>\n",
       "      <td>7897.0</td>\n",
       "      <td>1.868031</td>\n",
       "    </tr>\n",
       "    <tr>\n",
       "      <th>코로나</th>\n",
       "      <td>0.0</td>\n",
       "      <td>0.0</td>\n",
       "      <td>0.0</td>\n",
       "      <td>0.0</td>\n",
       "      <td>0.000000</td>\n",
       "      <td>0.0</td>\n",
       "      <td>0.0</td>\n",
       "      <td>0.00000</td>\n",
       "      <td>0.000000</td>\n",
       "      <td>0.0</td>\n",
       "      <td>...</td>\n",
       "      <td>18.900063</td>\n",
       "      <td>29.916588</td>\n",
       "      <td>28.682567</td>\n",
       "      <td>25.987006</td>\n",
       "      <td>21.323529</td>\n",
       "      <td>18.785436</td>\n",
       "      <td>11.297962</td>\n",
       "      <td>13.397736</td>\n",
       "      <td>3194.0</td>\n",
       "      <td>0.776734</td>\n",
       "    </tr>\n",
       "    <tr>\n",
       "      <th>메타버스</th>\n",
       "      <td>0.0</td>\n",
       "      <td>0.0</td>\n",
       "      <td>0.0</td>\n",
       "      <td>0.0</td>\n",
       "      <td>0.000000</td>\n",
       "      <td>0.0</td>\n",
       "      <td>0.0</td>\n",
       "      <td>0.00000</td>\n",
       "      <td>0.000000</td>\n",
       "      <td>0.0</td>\n",
       "      <td>...</td>\n",
       "      <td>36.866790</td>\n",
       "      <td>45.889004</td>\n",
       "      <td>32.611685</td>\n",
       "      <td>37.314676</td>\n",
       "      <td>31.250000</td>\n",
       "      <td>20.493203</td>\n",
       "      <td>22.161387</td>\n",
       "      <td>29.263477</td>\n",
       "      <td>1411.0</td>\n",
       "      <td>0.695995</td>\n",
       "    </tr>\n",
       "    <tr>\n",
       "      <th>빅테크</th>\n",
       "      <td>0.0</td>\n",
       "      <td>0.0</td>\n",
       "      <td>0.0</td>\n",
       "      <td>0.0</td>\n",
       "      <td>0.000000</td>\n",
       "      <td>0.0</td>\n",
       "      <td>0.0</td>\n",
       "      <td>0.89662</td>\n",
       "      <td>0.767401</td>\n",
       "      <td>0.0</td>\n",
       "      <td>...</td>\n",
       "      <td>28.233427</td>\n",
       "      <td>35.747788</td>\n",
       "      <td>19.645593</td>\n",
       "      <td>23.988006</td>\n",
       "      <td>34.191176</td>\n",
       "      <td>18.443883</td>\n",
       "      <td>21.292313</td>\n",
       "      <td>19.744033</td>\n",
       "      <td>2088.0</td>\n",
       "      <td>0.689092</td>\n",
       "    </tr>\n",
       "    <tr>\n",
       "      <th>가상자산</th>\n",
       "      <td>0.0</td>\n",
       "      <td>0.0</td>\n",
       "      <td>0.0</td>\n",
       "      <td>0.0</td>\n",
       "      <td>0.796813</td>\n",
       "      <td>0.0</td>\n",
       "      <td>0.0</td>\n",
       "      <td>0.00000</td>\n",
       "      <td>0.000000</td>\n",
       "      <td>0.0</td>\n",
       "      <td>...</td>\n",
       "      <td>21.233404</td>\n",
       "      <td>27.127754</td>\n",
       "      <td>22.003065</td>\n",
       "      <td>31.317674</td>\n",
       "      <td>26.102941</td>\n",
       "      <td>50.891454</td>\n",
       "      <td>40.411941</td>\n",
       "      <td>28.910905</td>\n",
       "      <td>1550.0</td>\n",
       "      <td>0.658254</td>\n",
       "    </tr>\n",
       "  </tbody>\n",
       "</table>\n",
       "<p>5 rows × 57 columns</p>\n",
       "</div>"
      ],
      "text/plain": [
       "         201801  201802  201803  201804    201805  201806  201807   201808  \\\n",
       "keyword                                                                      \n",
       "코로나19       0.0     0.0     0.0     0.0  0.000000     0.0     0.0  0.00000   \n",
       "코로나         0.0     0.0     0.0     0.0  0.000000     0.0     0.0  0.00000   \n",
       "메타버스        0.0     0.0     0.0     0.0  0.000000     0.0     0.0  0.00000   \n",
       "빅테크         0.0     0.0     0.0     0.0  0.000000     0.0     0.0  0.89662   \n",
       "가상자산        0.0     0.0     0.0     0.0  0.796813     0.0     0.0  0.00000   \n",
       "\n",
       "           201809  201810  ...     202112     202201     202202     202203  \\\n",
       "keyword                    ...                                               \n",
       "코로나19    0.000000     0.0  ...  49.700166  80.369140  56.579309  60.303182   \n",
       "코로나      0.000000     0.0  ...  18.900063  29.916588  28.682567  25.987006   \n",
       "메타버스     0.000000     0.0  ...  36.866790  45.889004  32.611685  37.314676   \n",
       "빅테크      0.767401     0.0  ...  28.233427  35.747788  19.645593  23.988006   \n",
       "가상자산     0.000000     0.0  ...  21.233404  27.127754  22.003065  31.317674   \n",
       "\n",
       "            202204     202205     202206     202207  tot_cnt     slope  \n",
       "keyword                                                                 \n",
       "코로나19    44.852941  33.813785  28.679442  37.020061   7897.0  1.868031  \n",
       "코로나      21.323529  18.785436  11.297962  13.397736   3194.0  0.776734  \n",
       "메타버스     31.250000  20.493203  22.161387  29.263477   1411.0  0.695995  \n",
       "빅테크      34.191176  18.443883  21.292313  19.744033   2088.0  0.689092  \n",
       "가상자산     26.102941  50.891454  40.411941  28.910905   1550.0  0.658254  \n",
       "\n",
       "[5 rows x 57 columns]"
      ]
     },
     "execution_count": 18,
     "metadata": {},
     "output_type": "execute_result"
    }
   ],
   "source": [
    "df2.sort_values(by = 'slope',ascending = False)[0:5]"
   ]
  },
  {
   "cell_type": "code",
   "execution_count": 17,
   "id": "a65c2a05",
   "metadata": {},
   "outputs": [
    {
     "data": {
      "text/html": [
       "<div>\n",
       "<style scoped>\n",
       "    .dataframe tbody tr th:only-of-type {\n",
       "        vertical-align: middle;\n",
       "    }\n",
       "\n",
       "    .dataframe tbody tr th {\n",
       "        vertical-align: top;\n",
       "    }\n",
       "\n",
       "    .dataframe thead th {\n",
       "        text-align: right;\n",
       "    }\n",
       "</style>\n",
       "<table border=\"1\" class=\"dataframe\">\n",
       "  <thead>\n",
       "    <tr style=\"text-align: right;\">\n",
       "      <th></th>\n",
       "      <th>201801</th>\n",
       "      <th>201802</th>\n",
       "      <th>201803</th>\n",
       "      <th>201804</th>\n",
       "      <th>201805</th>\n",
       "      <th>201806</th>\n",
       "      <th>201807</th>\n",
       "      <th>201808</th>\n",
       "      <th>201809</th>\n",
       "      <th>201810</th>\n",
       "      <th>...</th>\n",
       "      <th>202112</th>\n",
       "      <th>202201</th>\n",
       "      <th>202202</th>\n",
       "      <th>202203</th>\n",
       "      <th>202204</th>\n",
       "      <th>202205</th>\n",
       "      <th>202206</th>\n",
       "      <th>202207</th>\n",
       "      <th>tot_cnt</th>\n",
       "      <th>slope</th>\n",
       "    </tr>\n",
       "    <tr>\n",
       "      <th>keyword</th>\n",
       "      <th></th>\n",
       "      <th></th>\n",
       "      <th></th>\n",
       "      <th></th>\n",
       "      <th></th>\n",
       "      <th></th>\n",
       "      <th></th>\n",
       "      <th></th>\n",
       "      <th></th>\n",
       "      <th></th>\n",
       "      <th></th>\n",
       "      <th></th>\n",
       "      <th></th>\n",
       "      <th></th>\n",
       "      <th></th>\n",
       "      <th></th>\n",
       "      <th></th>\n",
       "      <th></th>\n",
       "      <th></th>\n",
       "      <th></th>\n",
       "      <th></th>\n",
       "    </tr>\n",
       "  </thead>\n",
       "  <tbody>\n",
       "    <tr>\n",
       "      <th>블록체인</th>\n",
       "      <td>69.167798</td>\n",
       "      <td>74.817208</td>\n",
       "      <td>76.869806</td>\n",
       "      <td>73.069540</td>\n",
       "      <td>60.557769</td>\n",
       "      <td>72.434608</td>\n",
       "      <td>50.568900</td>\n",
       "      <td>66.349861</td>\n",
       "      <td>59.089863</td>\n",
       "      <td>80.628905</td>\n",
       "      <td>...</td>\n",
       "      <td>19.600065</td>\n",
       "      <td>23.071267</td>\n",
       "      <td>23.181800</td>\n",
       "      <td>20.323172</td>\n",
       "      <td>26.102941</td>\n",
       "      <td>28.690484</td>\n",
       "      <td>21.726850</td>\n",
       "      <td>19.038889</td>\n",
       "      <td>3939.0</td>\n",
       "      <td>-0.921597</td>\n",
       "    </tr>\n",
       "    <tr>\n",
       "      <th>블록체</th>\n",
       "      <td>41.588233</td>\n",
       "      <td>62.064275</td>\n",
       "      <td>64.404432</td>\n",
       "      <td>61.923339</td>\n",
       "      <td>64.541833</td>\n",
       "      <td>74.446680</td>\n",
       "      <td>44.247788</td>\n",
       "      <td>64.556622</td>\n",
       "      <td>47.578850</td>\n",
       "      <td>77.941275</td>\n",
       "      <td>...</td>\n",
       "      <td>20.766736</td>\n",
       "      <td>20.535963</td>\n",
       "      <td>27.896743</td>\n",
       "      <td>31.650841</td>\n",
       "      <td>36.029412</td>\n",
       "      <td>26.299611</td>\n",
       "      <td>24.334072</td>\n",
       "      <td>30.673765</td>\n",
       "      <td>4192.0</td>\n",
       "      <td>-0.690907</td>\n",
       "    </tr>\n",
       "    <tr>\n",
       "      <th>빅데이터</th>\n",
       "      <td>23.201856</td>\n",
       "      <td>42.509777</td>\n",
       "      <td>67.174515</td>\n",
       "      <td>34.057836</td>\n",
       "      <td>50.996016</td>\n",
       "      <td>72.434608</td>\n",
       "      <td>55.625790</td>\n",
       "      <td>67.246481</td>\n",
       "      <td>69.833474</td>\n",
       "      <td>68.534570</td>\n",
       "      <td>...</td>\n",
       "      <td>26.133420</td>\n",
       "      <td>27.634815</td>\n",
       "      <td>12.180268</td>\n",
       "      <td>21.322672</td>\n",
       "      <td>20.220588</td>\n",
       "      <td>23.225630</td>\n",
       "      <td>16.077869</td>\n",
       "      <td>18.686317</td>\n",
       "      <td>4870.0</td>\n",
       "      <td>-0.587219</td>\n",
       "    </tr>\n",
       "    <tr>\n",
       "      <th>서울</th>\n",
       "      <td>64.790089</td>\n",
       "      <td>63.764666</td>\n",
       "      <td>59.556787</td>\n",
       "      <td>95.981175</td>\n",
       "      <td>77.290837</td>\n",
       "      <td>67.404427</td>\n",
       "      <td>75.853350</td>\n",
       "      <td>73.522819</td>\n",
       "      <td>64.461668</td>\n",
       "      <td>81.300813</td>\n",
       "      <td>...</td>\n",
       "      <td>54.833516</td>\n",
       "      <td>53.241386</td>\n",
       "      <td>44.791953</td>\n",
       "      <td>54.972514</td>\n",
       "      <td>56.985294</td>\n",
       "      <td>61.138056</td>\n",
       "      <td>65.615087</td>\n",
       "      <td>71.924691</td>\n",
       "      <td>7572.0</td>\n",
       "      <td>-0.463686</td>\n",
       "    </tr>\n",
       "    <tr>\n",
       "      <th>핀테크</th>\n",
       "      <td>31.081732</td>\n",
       "      <td>38.258800</td>\n",
       "      <td>58.864266</td>\n",
       "      <td>58.827172</td>\n",
       "      <td>44.621514</td>\n",
       "      <td>52.313883</td>\n",
       "      <td>46.144121</td>\n",
       "      <td>52.003945</td>\n",
       "      <td>51.415855</td>\n",
       "      <td>80.628905</td>\n",
       "      <td>...</td>\n",
       "      <td>35.233451</td>\n",
       "      <td>30.423649</td>\n",
       "      <td>26.325095</td>\n",
       "      <td>35.648842</td>\n",
       "      <td>48.161765</td>\n",
       "      <td>35.179999</td>\n",
       "      <td>43.019163</td>\n",
       "      <td>31.731481</td>\n",
       "      <td>6398.0</td>\n",
       "      <td>-0.461402</td>\n",
       "    </tr>\n",
       "  </tbody>\n",
       "</table>\n",
       "<p>5 rows × 57 columns</p>\n",
       "</div>"
      ],
      "text/plain": [
       "            201801     201802     201803     201804     201805     201806  \\\n",
       "keyword                                                                     \n",
       "블록체인     69.167798  74.817208  76.869806  73.069540  60.557769  72.434608   \n",
       "블록체      41.588233  62.064275  64.404432  61.923339  64.541833  74.446680   \n",
       "빅데이터     23.201856  42.509777  67.174515  34.057836  50.996016  72.434608   \n",
       "서울       64.790089  63.764666  59.556787  95.981175  77.290837  67.404427   \n",
       "핀테크      31.081732  38.258800  58.864266  58.827172  44.621514  52.313883   \n",
       "\n",
       "            201807     201808     201809     201810  ...     202112  \\\n",
       "keyword                                              ...              \n",
       "블록체인     50.568900  66.349861  59.089863  80.628905  ...  19.600065   \n",
       "블록체      44.247788  64.556622  47.578850  77.941275  ...  20.766736   \n",
       "빅데이터     55.625790  67.246481  69.833474  68.534570  ...  26.133420   \n",
       "서울       75.853350  73.522819  64.461668  81.300813  ...  54.833516   \n",
       "핀테크      46.144121  52.003945  51.415855  80.628905  ...  35.233451   \n",
       "\n",
       "            202201     202202     202203     202204     202205     202206  \\\n",
       "keyword                                                                     \n",
       "블록체인     23.071267  23.181800  20.323172  26.102941  28.690484  21.726850   \n",
       "블록체      20.535963  27.896743  31.650841  36.029412  26.299611  24.334072   \n",
       "빅데이터     27.634815  12.180268  21.322672  20.220588  23.225630  16.077869   \n",
       "서울       53.241386  44.791953  54.972514  56.985294  61.138056  65.615087   \n",
       "핀테크      30.423649  26.325095  35.648842  48.161765  35.179999  43.019163   \n",
       "\n",
       "            202207  tot_cnt     slope  \n",
       "keyword                                \n",
       "블록체인     19.038889   3939.0 -0.921597  \n",
       "블록체      30.673765   4192.0 -0.690907  \n",
       "빅데이터     18.686317   4870.0 -0.587219  \n",
       "서울       71.924691   7572.0 -0.463686  \n",
       "핀테크      31.731481   6398.0 -0.461402  \n",
       "\n",
       "[5 rows x 57 columns]"
      ]
     },
     "execution_count": 17,
     "metadata": {},
     "output_type": "execute_result"
    }
   ],
   "source": [
    "df2.sort_values(by = 'slope',ascending = True)[0:5]"
   ]
  },
  {
   "cell_type": "code",
   "execution_count": 10,
   "id": "d8133ac0",
   "metadata": {},
   "outputs": [],
   "source": [
    "import plotly.io as pio\n",
    "import plotly.express as px"
   ]
  },
  {
   "cell_type": "code",
   "execution_count": 19,
   "id": "e39d4744",
   "metadata": {},
   "outputs": [],
   "source": [
    "srch_wrd = ['메타버스','가상자산','가상통화','블록체인','빅테크','핀테크','nft','esg','마이데이터','mz',\n",
    "        '코로나19','가상화폐','공인인증서','오픈뱅킹','인공지능','디지털자산','암호화폐','공동인증서']\n",
    "\n",
    "def Df3(srch_wrd):\n",
    "    df3 = df.copy()\n",
    "    df3 = df3.iloc[:,:-1]\n",
    "    df3 = df3.loc[srch_wrd,:].reset_index()\n",
    "    df3 = pd.melt(df3, id_vars='keyword', value_vars=list(df3))\n",
    "    df3['variable'] = [x[:4] + '-' + x[4].replace('0','') + x[-1:] for x in df3['variable']]\n",
    "    df3[\"variable\"] = pd.to_datetime(df3.variable)\n",
    "    df3.rename(columns={\"variable\": \"Date\"}, inplace=True)\n",
    "    return df3"
   ]
  },
  {
   "cell_type": "code",
   "execution_count": 20,
   "id": "2db6cc44",
   "metadata": {},
   "outputs": [
    {
     "data": {
      "application/vnd.plotly.v1+json": {
       "config": {
        "plotlyServerURL": "https://plot.ly"
       },
       "data": [
        {
         "hovertemplate": "keyword=메타버스<br>Date=%{x}<br>value=%{y}<extra></extra>",
         "legendgroup": "메타버스",
         "line": {
          "color": "#636efa",
          "dash": "solid"
         },
         "marker": {
          "symbol": "circle"
         },
         "mode": "lines",
         "name": "메타버스",
         "orientation": "v",
         "showlegend": true,
         "type": "scatter",
         "x": [
          "2018-01-01T00:00:00",
          "2018-02-01T00:00:00",
          "2018-03-01T00:00:00",
          "2018-04-01T00:00:00",
          "2018-05-01T00:00:00",
          "2018-06-01T00:00:00",
          "2018-07-01T00:00:00",
          "2018-08-01T00:00:00",
          "2018-09-01T00:00:00",
          "2018-10-01T00:00:00",
          "2018-11-01T00:00:00",
          "2018-12-01T00:00:00",
          "2019-01-01T00:00:00",
          "2019-02-01T00:00:00",
          "2019-03-01T00:00:00",
          "2019-04-01T00:00:00",
          "2019-05-01T00:00:00",
          "2019-06-01T00:00:00",
          "2019-07-01T00:00:00",
          "2019-08-01T00:00:00",
          "2019-09-01T00:00:00",
          "2019-10-01T00:00:00",
          "2019-11-01T00:00:00",
          "2019-12-01T00:00:00",
          "2020-01-01T00:00:00",
          "2020-02-01T00:00:00",
          "2020-03-01T00:00:00",
          "2020-04-01T00:00:00",
          "2020-05-01T00:00:00",
          "2020-06-01T00:00:00",
          "2020-07-01T00:00:00",
          "2020-08-01T00:00:00",
          "2020-09-01T00:00:00",
          "2020-10-01T00:00:00",
          "2020-11-01T00:00:00",
          "2020-12-01T00:00:00",
          "2021-01-01T00:00:00",
          "2021-02-01T00:00:00",
          "2021-03-01T00:00:00",
          "2021-04-01T00:00:00",
          "2021-05-01T00:00:00",
          "2021-06-01T00:00:00",
          "2021-07-01T00:00:00",
          "2021-08-01T00:00:00",
          "2021-09-01T00:00:00",
          "2021-10-01T00:00:00",
          "2021-11-01T00:00:00",
          "2021-12-01T00:00:00",
          "2022-01-01T00:00:00",
          "2022-02-01T00:00:00",
          "2022-03-01T00:00:00",
          "2022-04-01T00:00:00",
          "2022-05-01T00:00:00",
          "2022-06-01T00:00:00",
          "2022-07-01T00:00:00"
         ],
         "xaxis": "x",
         "y": [
          0,
          0,
          0,
          0,
          0,
          0,
          0,
          0,
          0,
          0,
          0,
          0,
          0,
          0,
          1,
          0,
          0,
          0,
          0,
          0,
          0,
          0,
          0,
          0,
          0,
          0,
          0,
          0,
          0,
          0,
          0,
          0,
          0,
          0,
          0,
          0,
          0,
          1,
          17,
          11,
          22,
          31,
          66,
          87,
          104,
          97,
          161,
          158,
          181,
          83,
          112,
          85,
          60,
          51,
          83
         ],
         "yaxis": "y"
        },
        {
         "hovertemplate": "keyword=가상자산<br>Date=%{x}<br>value=%{y}<extra></extra>",
         "legendgroup": "가상자산",
         "line": {
          "color": "#EF553B",
          "dash": "solid"
         },
         "marker": {
          "symbol": "circle"
         },
         "mode": "lines",
         "name": "가상자산",
         "orientation": "v",
         "showlegend": true,
         "type": "scatter",
         "x": [
          "2018-01-01T00:00:00",
          "2018-02-01T00:00:00",
          "2018-03-01T00:00:00",
          "2018-04-01T00:00:00",
          "2018-05-01T00:00:00",
          "2018-06-01T00:00:00",
          "2018-07-01T00:00:00",
          "2018-08-01T00:00:00",
          "2018-09-01T00:00:00",
          "2018-10-01T00:00:00",
          "2018-11-01T00:00:00",
          "2018-12-01T00:00:00",
          "2019-01-01T00:00:00",
          "2019-02-01T00:00:00",
          "2019-03-01T00:00:00",
          "2019-04-01T00:00:00",
          "2019-05-01T00:00:00",
          "2019-06-01T00:00:00",
          "2019-07-01T00:00:00",
          "2019-08-01T00:00:00",
          "2019-09-01T00:00:00",
          "2019-10-01T00:00:00",
          "2019-11-01T00:00:00",
          "2019-12-01T00:00:00",
          "2020-01-01T00:00:00",
          "2020-02-01T00:00:00",
          "2020-03-01T00:00:00",
          "2020-04-01T00:00:00",
          "2020-05-01T00:00:00",
          "2020-06-01T00:00:00",
          "2020-07-01T00:00:00",
          "2020-08-01T00:00:00",
          "2020-09-01T00:00:00",
          "2020-10-01T00:00:00",
          "2020-11-01T00:00:00",
          "2020-12-01T00:00:00",
          "2021-01-01T00:00:00",
          "2021-02-01T00:00:00",
          "2021-03-01T00:00:00",
          "2021-04-01T00:00:00",
          "2021-05-01T00:00:00",
          "2021-06-01T00:00:00",
          "2021-07-01T00:00:00",
          "2021-08-01T00:00:00",
          "2021-09-01T00:00:00",
          "2021-10-01T00:00:00",
          "2021-11-01T00:00:00",
          "2021-12-01T00:00:00",
          "2022-01-01T00:00:00",
          "2022-02-01T00:00:00",
          "2022-03-01T00:00:00",
          "2022-04-01T00:00:00",
          "2022-05-01T00:00:00",
          "2022-06-01T00:00:00",
          "2022-07-01T00:00:00"
         ],
         "xaxis": "x",
         "y": [
          0,
          0,
          0,
          0,
          1,
          0,
          0,
          0,
          0,
          0,
          0,
          0,
          1,
          1,
          0,
          0,
          0,
          0,
          2,
          0,
          0,
          15,
          3,
          3,
          0,
          1,
          14,
          16,
          14,
          23,
          20,
          12,
          13,
          22,
          34,
          30,
          27,
          35,
          46,
          67,
          102,
          53,
          30,
          42,
          39,
          49,
          92,
          91,
          107,
          56,
          94,
          71,
          149,
          93,
          82
         ],
         "yaxis": "y"
        },
        {
         "hovertemplate": "keyword=가상통화<br>Date=%{x}<br>value=%{y}<extra></extra>",
         "legendgroup": "가상통화",
         "line": {
          "color": "#00cc96",
          "dash": "solid"
         },
         "marker": {
          "symbol": "circle"
         },
         "mode": "lines",
         "name": "가상통화",
         "orientation": "v",
         "showlegend": true,
         "type": "scatter",
         "x": [
          "2018-01-01T00:00:00",
          "2018-02-01T00:00:00",
          "2018-03-01T00:00:00",
          "2018-04-01T00:00:00",
          "2018-05-01T00:00:00",
          "2018-06-01T00:00:00",
          "2018-07-01T00:00:00",
          "2018-08-01T00:00:00",
          "2018-09-01T00:00:00",
          "2018-10-01T00:00:00",
          "2018-11-01T00:00:00",
          "2018-12-01T00:00:00",
          "2019-01-01T00:00:00",
          "2019-02-01T00:00:00",
          "2019-03-01T00:00:00",
          "2019-04-01T00:00:00",
          "2019-05-01T00:00:00",
          "2019-06-01T00:00:00",
          "2019-07-01T00:00:00",
          "2019-08-01T00:00:00",
          "2019-09-01T00:00:00",
          "2019-10-01T00:00:00",
          "2019-11-01T00:00:00",
          "2019-12-01T00:00:00",
          "2020-01-01T00:00:00",
          "2020-02-01T00:00:00",
          "2020-03-01T00:00:00",
          "2020-04-01T00:00:00",
          "2020-05-01T00:00:00",
          "2020-06-01T00:00:00",
          "2020-07-01T00:00:00",
          "2020-08-01T00:00:00",
          "2020-09-01T00:00:00",
          "2020-10-01T00:00:00",
          "2020-11-01T00:00:00",
          "2020-12-01T00:00:00",
          "2021-01-01T00:00:00",
          "2021-02-01T00:00:00",
          "2021-03-01T00:00:00",
          "2021-04-01T00:00:00",
          "2021-05-01T00:00:00",
          "2021-06-01T00:00:00",
          "2021-07-01T00:00:00",
          "2021-08-01T00:00:00",
          "2021-09-01T00:00:00",
          "2021-10-01T00:00:00",
          "2021-11-01T00:00:00",
          "2021-12-01T00:00:00",
          "2022-01-01T00:00:00",
          "2022-02-01T00:00:00",
          "2022-03-01T00:00:00",
          "2022-04-01T00:00:00",
          "2022-05-01T00:00:00",
          "2022-06-01T00:00:00",
          "2022-07-01T00:00:00"
         ],
         "xaxis": "x",
         "y": [
          67,
          14,
          14,
          7,
          10,
          5,
          8,
          5,
          17,
          6,
          8,
          3,
          13,
          3,
          2,
          3,
          3,
          4,
          8,
          1,
          1,
          3,
          1,
          0,
          0,
          1,
          2,
          0,
          1,
          0,
          1,
          2,
          0,
          1,
          2,
          1,
          3,
          2,
          8,
          3,
          7,
          3,
          1,
          0,
          0,
          0,
          0,
          1,
          1,
          0,
          0,
          1,
          0,
          1,
          2
         ],
         "yaxis": "y"
        },
        {
         "hovertemplate": "keyword=블록체인<br>Date=%{x}<br>value=%{y}<extra></extra>",
         "legendgroup": "블록체인",
         "line": {
          "color": "#ab63fa",
          "dash": "solid"
         },
         "marker": {
          "symbol": "circle"
         },
         "mode": "lines",
         "name": "블록체인",
         "orientation": "v",
         "showlegend": true,
         "type": "scatter",
         "x": [
          "2018-01-01T00:00:00",
          "2018-02-01T00:00:00",
          "2018-03-01T00:00:00",
          "2018-04-01T00:00:00",
          "2018-05-01T00:00:00",
          "2018-06-01T00:00:00",
          "2018-07-01T00:00:00",
          "2018-08-01T00:00:00",
          "2018-09-01T00:00:00",
          "2018-10-01T00:00:00",
          "2018-11-01T00:00:00",
          "2018-12-01T00:00:00",
          "2019-01-01T00:00:00",
          "2019-02-01T00:00:00",
          "2019-03-01T00:00:00",
          "2019-04-01T00:00:00",
          "2019-05-01T00:00:00",
          "2019-06-01T00:00:00",
          "2019-07-01T00:00:00",
          "2019-08-01T00:00:00",
          "2019-09-01T00:00:00",
          "2019-10-01T00:00:00",
          "2019-11-01T00:00:00",
          "2019-12-01T00:00:00",
          "2020-01-01T00:00:00",
          "2020-02-01T00:00:00",
          "2020-03-01T00:00:00",
          "2020-04-01T00:00:00",
          "2020-05-01T00:00:00",
          "2020-06-01T00:00:00",
          "2020-07-01T00:00:00",
          "2020-08-01T00:00:00",
          "2020-09-01T00:00:00",
          "2020-10-01T00:00:00",
          "2020-11-01T00:00:00",
          "2020-12-01T00:00:00",
          "2021-01-01T00:00:00",
          "2021-02-01T00:00:00",
          "2021-03-01T00:00:00",
          "2021-04-01T00:00:00",
          "2021-05-01T00:00:00",
          "2021-06-01T00:00:00",
          "2021-07-01T00:00:00",
          "2021-08-01T00:00:00",
          "2021-09-01T00:00:00",
          "2021-10-01T00:00:00",
          "2021-11-01T00:00:00",
          "2021-12-01T00:00:00",
          "2022-01-01T00:00:00",
          "2022-02-01T00:00:00",
          "2022-03-01T00:00:00",
          "2022-04-01T00:00:00",
          "2022-05-01T00:00:00",
          "2022-06-01T00:00:00",
          "2022-07-01T00:00:00"
         ],
         "xaxis": "x",
         "y": [
          158,
          88,
          111,
          118,
          76,
          72,
          80,
          74,
          77,
          120,
          62,
          32,
          114,
          70,
          52,
          61,
          68,
          102,
          97,
          75,
          65,
          116,
          95,
          80,
          69,
          59,
          41,
          44,
          39,
          61,
          52,
          47,
          45,
          43,
          60,
          82,
          45,
          25,
          51,
          84,
          108,
          70,
          50,
          57,
          54,
          36,
          100,
          84,
          91,
          59,
          61,
          71,
          84,
          50,
          54
         ],
         "yaxis": "y"
        },
        {
         "hovertemplate": "keyword=빅테크<br>Date=%{x}<br>value=%{y}<extra></extra>",
         "legendgroup": "빅테크",
         "line": {
          "color": "#FFA15A",
          "dash": "solid"
         },
         "marker": {
          "symbol": "circle"
         },
         "mode": "lines",
         "name": "빅테크",
         "orientation": "v",
         "showlegend": true,
         "type": "scatter",
         "x": [
          "2018-01-01T00:00:00",
          "2018-02-01T00:00:00",
          "2018-03-01T00:00:00",
          "2018-04-01T00:00:00",
          "2018-05-01T00:00:00",
          "2018-06-01T00:00:00",
          "2018-07-01T00:00:00",
          "2018-08-01T00:00:00",
          "2018-09-01T00:00:00",
          "2018-10-01T00:00:00",
          "2018-11-01T00:00:00",
          "2018-12-01T00:00:00",
          "2019-01-01T00:00:00",
          "2019-02-01T00:00:00",
          "2019-03-01T00:00:00",
          "2019-04-01T00:00:00",
          "2019-05-01T00:00:00",
          "2019-06-01T00:00:00",
          "2019-07-01T00:00:00",
          "2019-08-01T00:00:00",
          "2019-09-01T00:00:00",
          "2019-10-01T00:00:00",
          "2019-11-01T00:00:00",
          "2019-12-01T00:00:00",
          "2020-01-01T00:00:00",
          "2020-02-01T00:00:00",
          "2020-03-01T00:00:00",
          "2020-04-01T00:00:00",
          "2020-05-01T00:00:00",
          "2020-06-01T00:00:00",
          "2020-07-01T00:00:00",
          "2020-08-01T00:00:00",
          "2020-09-01T00:00:00",
          "2020-10-01T00:00:00",
          "2020-11-01T00:00:00",
          "2020-12-01T00:00:00",
          "2021-01-01T00:00:00",
          "2021-02-01T00:00:00",
          "2021-03-01T00:00:00",
          "2021-04-01T00:00:00",
          "2021-05-01T00:00:00",
          "2021-06-01T00:00:00",
          "2021-07-01T00:00:00",
          "2021-08-01T00:00:00",
          "2021-09-01T00:00:00",
          "2021-10-01T00:00:00",
          "2021-11-01T00:00:00",
          "2021-12-01T00:00:00",
          "2022-01-01T00:00:00",
          "2022-02-01T00:00:00",
          "2022-03-01T00:00:00",
          "2022-04-01T00:00:00",
          "2022-05-01T00:00:00",
          "2022-06-01T00:00:00",
          "2022-07-01T00:00:00"
         ],
         "xaxis": "x",
         "y": [
          0,
          0,
          0,
          0,
          0,
          0,
          0,
          1,
          1,
          0,
          0,
          0,
          0,
          2,
          3,
          2,
          3,
          1,
          7,
          0,
          4,
          1,
          7,
          6,
          13,
          3,
          2,
          13,
          5,
          22,
          126,
          54,
          105,
          63,
          88,
          89,
          134,
          82,
          42,
          58,
          59,
          87,
          66,
          77,
          77,
          86,
          63,
          121,
          141,
          50,
          72,
          93,
          54,
          49,
          56
         ],
         "yaxis": "y"
        },
        {
         "hovertemplate": "keyword=핀테크<br>Date=%{x}<br>value=%{y}<extra></extra>",
         "legendgroup": "핀테크",
         "line": {
          "color": "#19d3f3",
          "dash": "solid"
         },
         "marker": {
          "symbol": "circle"
         },
         "mode": "lines",
         "name": "핀테크",
         "orientation": "v",
         "showlegend": true,
         "type": "scatter",
         "x": [
          "2018-01-01T00:00:00",
          "2018-02-01T00:00:00",
          "2018-03-01T00:00:00",
          "2018-04-01T00:00:00",
          "2018-05-01T00:00:00",
          "2018-06-01T00:00:00",
          "2018-07-01T00:00:00",
          "2018-08-01T00:00:00",
          "2018-09-01T00:00:00",
          "2018-10-01T00:00:00",
          "2018-11-01T00:00:00",
          "2018-12-01T00:00:00",
          "2019-01-01T00:00:00",
          "2019-02-01T00:00:00",
          "2019-03-01T00:00:00",
          "2019-04-01T00:00:00",
          "2019-05-01T00:00:00",
          "2019-06-01T00:00:00",
          "2019-07-01T00:00:00",
          "2019-08-01T00:00:00",
          "2019-09-01T00:00:00",
          "2019-10-01T00:00:00",
          "2019-11-01T00:00:00",
          "2019-12-01T00:00:00",
          "2020-01-01T00:00:00",
          "2020-02-01T00:00:00",
          "2020-03-01T00:00:00",
          "2020-04-01T00:00:00",
          "2020-05-01T00:00:00",
          "2020-06-01T00:00:00",
          "2020-07-01T00:00:00",
          "2020-08-01T00:00:00",
          "2020-09-01T00:00:00",
          "2020-10-01T00:00:00",
          "2020-11-01T00:00:00",
          "2020-12-01T00:00:00",
          "2021-01-01T00:00:00",
          "2021-02-01T00:00:00",
          "2021-03-01T00:00:00",
          "2021-04-01T00:00:00",
          "2021-05-01T00:00:00",
          "2021-06-01T00:00:00",
          "2021-07-01T00:00:00",
          "2021-08-01T00:00:00",
          "2021-09-01T00:00:00",
          "2021-10-01T00:00:00",
          "2021-11-01T00:00:00",
          "2021-12-01T00:00:00",
          "2022-01-01T00:00:00",
          "2022-02-01T00:00:00",
          "2022-03-01T00:00:00",
          "2022-04-01T00:00:00",
          "2022-05-01T00:00:00",
          "2022-06-01T00:00:00",
          "2022-07-01T00:00:00"
         ],
         "xaxis": "x",
         "y": [
          71,
          45,
          85,
          95,
          56,
          52,
          73,
          58,
          67,
          120,
          88,
          34,
          103,
          165,
          148,
          193,
          231,
          147,
          174,
          81,
          142,
          124,
          161,
          139,
          97,
          106,
          70,
          92,
          125,
          100,
          170,
          73,
          176,
          139,
          154,
          170,
          148,
          120,
          119,
          139,
          151,
          162,
          132,
          111,
          113,
          97,
          114,
          151,
          120,
          67,
          107,
          131,
          103,
          99,
          90
         ],
         "yaxis": "y"
        },
        {
         "hovertemplate": "keyword=nft<br>Date=%{x}<br>value=%{y}<extra></extra>",
         "legendgroup": "nft",
         "line": {
          "color": "#FF6692",
          "dash": "solid"
         },
         "marker": {
          "symbol": "circle"
         },
         "mode": "lines",
         "name": "nft",
         "orientation": "v",
         "showlegend": true,
         "type": "scatter",
         "x": [
          "2018-01-01T00:00:00",
          "2018-02-01T00:00:00",
          "2018-03-01T00:00:00",
          "2018-04-01T00:00:00",
          "2018-05-01T00:00:00",
          "2018-06-01T00:00:00",
          "2018-07-01T00:00:00",
          "2018-08-01T00:00:00",
          "2018-09-01T00:00:00",
          "2018-10-01T00:00:00",
          "2018-11-01T00:00:00",
          "2018-12-01T00:00:00",
          "2019-01-01T00:00:00",
          "2019-02-01T00:00:00",
          "2019-03-01T00:00:00",
          "2019-04-01T00:00:00",
          "2019-05-01T00:00:00",
          "2019-06-01T00:00:00",
          "2019-07-01T00:00:00",
          "2019-08-01T00:00:00",
          "2019-09-01T00:00:00",
          "2019-10-01T00:00:00",
          "2019-11-01T00:00:00",
          "2019-12-01T00:00:00",
          "2020-01-01T00:00:00",
          "2020-02-01T00:00:00",
          "2020-03-01T00:00:00",
          "2020-04-01T00:00:00",
          "2020-05-01T00:00:00",
          "2020-06-01T00:00:00",
          "2020-07-01T00:00:00",
          "2020-08-01T00:00:00",
          "2020-09-01T00:00:00",
          "2020-10-01T00:00:00",
          "2020-11-01T00:00:00",
          "2020-12-01T00:00:00",
          "2021-01-01T00:00:00",
          "2021-02-01T00:00:00",
          "2021-03-01T00:00:00",
          "2021-04-01T00:00:00",
          "2021-05-01T00:00:00",
          "2021-06-01T00:00:00",
          "2021-07-01T00:00:00",
          "2021-08-01T00:00:00",
          "2021-09-01T00:00:00",
          "2021-10-01T00:00:00",
          "2021-11-01T00:00:00",
          "2021-12-01T00:00:00",
          "2022-01-01T00:00:00",
          "2022-02-01T00:00:00",
          "2022-03-01T00:00:00",
          "2022-04-01T00:00:00",
          "2022-05-01T00:00:00",
          "2022-06-01T00:00:00",
          "2022-07-01T00:00:00"
         ],
         "xaxis": "x",
         "y": [
          0,
          0,
          0,
          0,
          0,
          0,
          0,
          0,
          0,
          0,
          0,
          0,
          0,
          0,
          0,
          0,
          0,
          0,
          0,
          0,
          0,
          0,
          0,
          0,
          1,
          0,
          0,
          0,
          0,
          1,
          1,
          1,
          1,
          2,
          0,
          0,
          2,
          0,
          19,
          23,
          28,
          13,
          16,
          16,
          40,
          33,
          98,
          68,
          109,
          60,
          58,
          78,
          54,
          37,
          59
         ],
         "yaxis": "y"
        },
        {
         "hovertemplate": "keyword=esg<br>Date=%{x}<br>value=%{y}<extra></extra>",
         "legendgroup": "esg",
         "line": {
          "color": "#B6E880",
          "dash": "solid"
         },
         "marker": {
          "symbol": "circle"
         },
         "mode": "lines",
         "name": "esg",
         "orientation": "v",
         "showlegend": true,
         "type": "scatter",
         "x": [
          "2018-01-01T00:00:00",
          "2018-02-01T00:00:00",
          "2018-03-01T00:00:00",
          "2018-04-01T00:00:00",
          "2018-05-01T00:00:00",
          "2018-06-01T00:00:00",
          "2018-07-01T00:00:00",
          "2018-08-01T00:00:00",
          "2018-09-01T00:00:00",
          "2018-10-01T00:00:00",
          "2018-11-01T00:00:00",
          "2018-12-01T00:00:00",
          "2019-01-01T00:00:00",
          "2019-02-01T00:00:00",
          "2019-03-01T00:00:00",
          "2019-04-01T00:00:00",
          "2019-05-01T00:00:00",
          "2019-06-01T00:00:00",
          "2019-07-01T00:00:00",
          "2019-08-01T00:00:00",
          "2019-09-01T00:00:00",
          "2019-10-01T00:00:00",
          "2019-11-01T00:00:00",
          "2019-12-01T00:00:00",
          "2020-01-01T00:00:00",
          "2020-02-01T00:00:00",
          "2020-03-01T00:00:00",
          "2020-04-01T00:00:00",
          "2020-05-01T00:00:00",
          "2020-06-01T00:00:00",
          "2020-07-01T00:00:00",
          "2020-08-01T00:00:00",
          "2020-09-01T00:00:00",
          "2020-10-01T00:00:00",
          "2020-11-01T00:00:00",
          "2020-12-01T00:00:00",
          "2021-01-01T00:00:00",
          "2021-02-01T00:00:00",
          "2021-03-01T00:00:00",
          "2021-04-01T00:00:00",
          "2021-05-01T00:00:00",
          "2021-06-01T00:00:00",
          "2021-07-01T00:00:00",
          "2021-08-01T00:00:00",
          "2021-09-01T00:00:00",
          "2021-10-01T00:00:00",
          "2021-11-01T00:00:00",
          "2021-12-01T00:00:00",
          "2022-01-01T00:00:00",
          "2022-02-01T00:00:00",
          "2022-03-01T00:00:00",
          "2022-04-01T00:00:00",
          "2022-05-01T00:00:00",
          "2022-06-01T00:00:00",
          "2022-07-01T00:00:00"
         ],
         "xaxis": "x",
         "y": [
          0,
          0,
          0,
          0,
          0,
          0,
          0,
          0,
          0,
          0,
          1,
          0,
          0,
          0,
          0,
          8,
          0,
          0,
          5,
          0,
          10,
          0,
          4,
          6,
          10,
          4,
          1,
          0,
          9,
          8,
          12,
          10,
          23,
          5,
          18,
          55,
          123,
          52,
          99,
          74,
          53,
          56,
          119,
          59,
          51,
          56,
          59,
          82,
          155,
          57,
          89,
          54,
          52,
          40,
          77
         ],
         "yaxis": "y"
        },
        {
         "hovertemplate": "keyword=마이데이터<br>Date=%{x}<br>value=%{y}<extra></extra>",
         "legendgroup": "마이데이터",
         "line": {
          "color": "#FF97FF",
          "dash": "solid"
         },
         "marker": {
          "symbol": "circle"
         },
         "mode": "lines",
         "name": "마이데이터",
         "orientation": "v",
         "showlegend": true,
         "type": "scatter",
         "x": [
          "2018-01-01T00:00:00",
          "2018-02-01T00:00:00",
          "2018-03-01T00:00:00",
          "2018-04-01T00:00:00",
          "2018-05-01T00:00:00",
          "2018-06-01T00:00:00",
          "2018-07-01T00:00:00",
          "2018-08-01T00:00:00",
          "2018-09-01T00:00:00",
          "2018-10-01T00:00:00",
          "2018-11-01T00:00:00",
          "2018-12-01T00:00:00",
          "2019-01-01T00:00:00",
          "2019-02-01T00:00:00",
          "2019-03-01T00:00:00",
          "2019-04-01T00:00:00",
          "2019-05-01T00:00:00",
          "2019-06-01T00:00:00",
          "2019-07-01T00:00:00",
          "2019-08-01T00:00:00",
          "2019-09-01T00:00:00",
          "2019-10-01T00:00:00",
          "2019-11-01T00:00:00",
          "2019-12-01T00:00:00",
          "2020-01-01T00:00:00",
          "2020-02-01T00:00:00",
          "2020-03-01T00:00:00",
          "2020-04-01T00:00:00",
          "2020-05-01T00:00:00",
          "2020-06-01T00:00:00",
          "2020-07-01T00:00:00",
          "2020-08-01T00:00:00",
          "2020-09-01T00:00:00",
          "2020-10-01T00:00:00",
          "2020-11-01T00:00:00",
          "2020-12-01T00:00:00",
          "2021-01-01T00:00:00",
          "2021-02-01T00:00:00",
          "2021-03-01T00:00:00",
          "2021-04-01T00:00:00",
          "2021-05-01T00:00:00",
          "2021-06-01T00:00:00",
          "2021-07-01T00:00:00",
          "2021-08-01T00:00:00",
          "2021-09-01T00:00:00",
          "2021-10-01T00:00:00",
          "2021-11-01T00:00:00",
          "2021-12-01T00:00:00",
          "2022-01-01T00:00:00",
          "2022-02-01T00:00:00",
          "2022-03-01T00:00:00",
          "2022-04-01T00:00:00",
          "2022-05-01T00:00:00",
          "2022-06-01T00:00:00",
          "2022-07-01T00:00:00"
         ],
         "xaxis": "x",
         "y": [
          0,
          0,
          0,
          0,
          0,
          0,
          1,
          1,
          13,
          7,
          9,
          1,
          10,
          20,
          3,
          6,
          6,
          3,
          2,
          9,
          8,
          14,
          8,
          15,
          31,
          11,
          16,
          12,
          23,
          58,
          80,
          61,
          52,
          53,
          80,
          80,
          101,
          79,
          87,
          91,
          63,
          87,
          90,
          48,
          48,
          37,
          108,
          127,
          151,
          64,
          99,
          77,
          79,
          51,
          58
         ],
         "yaxis": "y"
        },
        {
         "hovertemplate": "keyword=mz<br>Date=%{x}<br>value=%{y}<extra></extra>",
         "legendgroup": "mz",
         "line": {
          "color": "#FECB52",
          "dash": "solid"
         },
         "marker": {
          "symbol": "circle"
         },
         "mode": "lines",
         "name": "mz",
         "orientation": "v",
         "showlegend": true,
         "type": "scatter",
         "x": [
          "2018-01-01T00:00:00",
          "2018-02-01T00:00:00",
          "2018-03-01T00:00:00",
          "2018-04-01T00:00:00",
          "2018-05-01T00:00:00",
          "2018-06-01T00:00:00",
          "2018-07-01T00:00:00",
          "2018-08-01T00:00:00",
          "2018-09-01T00:00:00",
          "2018-10-01T00:00:00",
          "2018-11-01T00:00:00",
          "2018-12-01T00:00:00",
          "2019-01-01T00:00:00",
          "2019-02-01T00:00:00",
          "2019-03-01T00:00:00",
          "2019-04-01T00:00:00",
          "2019-05-01T00:00:00",
          "2019-06-01T00:00:00",
          "2019-07-01T00:00:00",
          "2019-08-01T00:00:00",
          "2019-09-01T00:00:00",
          "2019-10-01T00:00:00",
          "2019-11-01T00:00:00",
          "2019-12-01T00:00:00",
          "2020-01-01T00:00:00",
          "2020-02-01T00:00:00",
          "2020-03-01T00:00:00",
          "2020-04-01T00:00:00",
          "2020-05-01T00:00:00",
          "2020-06-01T00:00:00",
          "2020-07-01T00:00:00",
          "2020-08-01T00:00:00",
          "2020-09-01T00:00:00",
          "2020-10-01T00:00:00",
          "2020-11-01T00:00:00",
          "2020-12-01T00:00:00",
          "2021-01-01T00:00:00",
          "2021-02-01T00:00:00",
          "2021-03-01T00:00:00",
          "2021-04-01T00:00:00",
          "2021-05-01T00:00:00",
          "2021-06-01T00:00:00",
          "2021-07-01T00:00:00",
          "2021-08-01T00:00:00",
          "2021-09-01T00:00:00",
          "2021-10-01T00:00:00",
          "2021-11-01T00:00:00",
          "2021-12-01T00:00:00",
          "2022-01-01T00:00:00",
          "2022-02-01T00:00:00",
          "2022-03-01T00:00:00",
          "2022-04-01T00:00:00",
          "2022-05-01T00:00:00",
          "2022-06-01T00:00:00",
          "2022-07-01T00:00:00"
         ],
         "xaxis": "x",
         "y": [
          0,
          0,
          0,
          0,
          0,
          0,
          0,
          0,
          0,
          0,
          0,
          0,
          0,
          0,
          0,
          0,
          0,
          0,
          0,
          0,
          0,
          0,
          1,
          0,
          0,
          0,
          1,
          0,
          1,
          0,
          0,
          2,
          0,
          2,
          2,
          5,
          3,
          2,
          8,
          11,
          17,
          15,
          40,
          45,
          26,
          24,
          29,
          31,
          27,
          18,
          31,
          21,
          23,
          17,
          15
         ],
         "yaxis": "y"
        },
        {
         "hovertemplate": "keyword=코로나19<br>Date=%{x}<br>value=%{y}<extra></extra>",
         "legendgroup": "코로나19",
         "line": {
          "color": "#636efa",
          "dash": "solid"
         },
         "marker": {
          "symbol": "circle"
         },
         "mode": "lines",
         "name": "코로나19",
         "orientation": "v",
         "showlegend": true,
         "type": "scatter",
         "x": [
          "2018-01-01T00:00:00",
          "2018-02-01T00:00:00",
          "2018-03-01T00:00:00",
          "2018-04-01T00:00:00",
          "2018-05-01T00:00:00",
          "2018-06-01T00:00:00",
          "2018-07-01T00:00:00",
          "2018-08-01T00:00:00",
          "2018-09-01T00:00:00",
          "2018-10-01T00:00:00",
          "2018-11-01T00:00:00",
          "2018-12-01T00:00:00",
          "2019-01-01T00:00:00",
          "2019-02-01T00:00:00",
          "2019-03-01T00:00:00",
          "2019-04-01T00:00:00",
          "2019-05-01T00:00:00",
          "2019-06-01T00:00:00",
          "2019-07-01T00:00:00",
          "2019-08-01T00:00:00",
          "2019-09-01T00:00:00",
          "2019-10-01T00:00:00",
          "2019-11-01T00:00:00",
          "2019-12-01T00:00:00",
          "2020-01-01T00:00:00",
          "2020-02-01T00:00:00",
          "2020-03-01T00:00:00",
          "2020-04-01T00:00:00",
          "2020-05-01T00:00:00",
          "2020-06-01T00:00:00",
          "2020-07-01T00:00:00",
          "2020-08-01T00:00:00",
          "2020-09-01T00:00:00",
          "2020-10-01T00:00:00",
          "2020-11-01T00:00:00",
          "2020-12-01T00:00:00",
          "2021-01-01T00:00:00",
          "2021-02-01T00:00:00",
          "2021-03-01T00:00:00",
          "2021-04-01T00:00:00",
          "2021-05-01T00:00:00",
          "2021-06-01T00:00:00",
          "2021-07-01T00:00:00",
          "2021-08-01T00:00:00",
          "2021-09-01T00:00:00",
          "2021-10-01T00:00:00",
          "2021-11-01T00:00:00",
          "2021-12-01T00:00:00",
          "2022-01-01T00:00:00",
          "2022-02-01T00:00:00",
          "2022-03-01T00:00:00",
          "2022-04-01T00:00:00",
          "2022-05-01T00:00:00",
          "2022-06-01T00:00:00",
          "2022-07-01T00:00:00"
         ],
         "xaxis": "x",
         "y": [
          0,
          0,
          0,
          0,
          0,
          0,
          0,
          0,
          0,
          0,
          0,
          0,
          0,
          0,
          0,
          0,
          0,
          0,
          0,
          0,
          0,
          0,
          0,
          0,
          0,
          45,
          209,
          413,
          480,
          495,
          470,
          286,
          448,
          327,
          351,
          493,
          487,
          290,
          323,
          189,
          189,
          182,
          240,
          212,
          198,
          164,
          159,
          213,
          317,
          144,
          181,
          122,
          99,
          66,
          105
         ],
         "yaxis": "y"
        },
        {
         "hovertemplate": "keyword=가상화폐<br>Date=%{x}<br>value=%{y}<extra></extra>",
         "legendgroup": "가상화폐",
         "line": {
          "color": "#EF553B",
          "dash": "solid"
         },
         "marker": {
          "symbol": "circle"
         },
         "mode": "lines",
         "name": "가상화폐",
         "orientation": "v",
         "showlegend": true,
         "type": "scatter",
         "x": [
          "2018-01-01T00:00:00",
          "2018-02-01T00:00:00",
          "2018-03-01T00:00:00",
          "2018-04-01T00:00:00",
          "2018-05-01T00:00:00",
          "2018-06-01T00:00:00",
          "2018-07-01T00:00:00",
          "2018-08-01T00:00:00",
          "2018-09-01T00:00:00",
          "2018-10-01T00:00:00",
          "2018-11-01T00:00:00",
          "2018-12-01T00:00:00",
          "2019-01-01T00:00:00",
          "2019-02-01T00:00:00",
          "2019-03-01T00:00:00",
          "2019-04-01T00:00:00",
          "2019-05-01T00:00:00",
          "2019-06-01T00:00:00",
          "2019-07-01T00:00:00",
          "2019-08-01T00:00:00",
          "2019-09-01T00:00:00",
          "2019-10-01T00:00:00",
          "2019-11-01T00:00:00",
          "2019-12-01T00:00:00",
          "2020-01-01T00:00:00",
          "2020-02-01T00:00:00",
          "2020-03-01T00:00:00",
          "2020-04-01T00:00:00",
          "2020-05-01T00:00:00",
          "2020-06-01T00:00:00",
          "2020-07-01T00:00:00",
          "2020-08-01T00:00:00",
          "2020-09-01T00:00:00",
          "2020-10-01T00:00:00",
          "2020-11-01T00:00:00",
          "2020-12-01T00:00:00",
          "2021-01-01T00:00:00",
          "2021-02-01T00:00:00",
          "2021-03-01T00:00:00",
          "2021-04-01T00:00:00",
          "2021-05-01T00:00:00",
          "2021-06-01T00:00:00",
          "2021-07-01T00:00:00",
          "2021-08-01T00:00:00",
          "2021-09-01T00:00:00",
          "2021-10-01T00:00:00",
          "2021-11-01T00:00:00",
          "2021-12-01T00:00:00",
          "2022-01-01T00:00:00",
          "2022-02-01T00:00:00",
          "2022-03-01T00:00:00",
          "2022-04-01T00:00:00",
          "2022-05-01T00:00:00",
          "2022-06-01T00:00:00",
          "2022-07-01T00:00:00"
         ],
         "xaxis": "x",
         "y": [
          145,
          48,
          37,
          21,
          16,
          10,
          8,
          12,
          20,
          10,
          10,
          5,
          12,
          5,
          6,
          8,
          4,
          12,
          23,
          13,
          11,
          19,
          9,
          9,
          8,
          9,
          10,
          20,
          5,
          2,
          3,
          8,
          0,
          6,
          16,
          24,
          27,
          60,
          34,
          74,
          121,
          65,
          52,
          33,
          41,
          38,
          33,
          15,
          29,
          14,
          40,
          21,
          91,
          48,
          14
         ],
         "yaxis": "y"
        },
        {
         "hovertemplate": "keyword=공인인증서<br>Date=%{x}<br>value=%{y}<extra></extra>",
         "legendgroup": "공인인증서",
         "line": {
          "color": "#00cc96",
          "dash": "solid"
         },
         "marker": {
          "symbol": "circle"
         },
         "mode": "lines",
         "name": "공인인증서",
         "orientation": "v",
         "showlegend": true,
         "type": "scatter",
         "x": [
          "2018-01-01T00:00:00",
          "2018-02-01T00:00:00",
          "2018-03-01T00:00:00",
          "2018-04-01T00:00:00",
          "2018-05-01T00:00:00",
          "2018-06-01T00:00:00",
          "2018-07-01T00:00:00",
          "2018-08-01T00:00:00",
          "2018-09-01T00:00:00",
          "2018-10-01T00:00:00",
          "2018-11-01T00:00:00",
          "2018-12-01T00:00:00",
          "2019-01-01T00:00:00",
          "2019-02-01T00:00:00",
          "2019-03-01T00:00:00",
          "2019-04-01T00:00:00",
          "2019-05-01T00:00:00",
          "2019-06-01T00:00:00",
          "2019-07-01T00:00:00",
          "2019-08-01T00:00:00",
          "2019-09-01T00:00:00",
          "2019-10-01T00:00:00",
          "2019-11-01T00:00:00",
          "2019-12-01T00:00:00",
          "2020-01-01T00:00:00",
          "2020-02-01T00:00:00",
          "2020-03-01T00:00:00",
          "2020-04-01T00:00:00",
          "2020-05-01T00:00:00",
          "2020-06-01T00:00:00",
          "2020-07-01T00:00:00",
          "2020-08-01T00:00:00",
          "2020-09-01T00:00:00",
          "2020-10-01T00:00:00",
          "2020-11-01T00:00:00",
          "2020-12-01T00:00:00",
          "2021-01-01T00:00:00",
          "2021-02-01T00:00:00",
          "2021-03-01T00:00:00",
          "2021-04-01T00:00:00",
          "2021-05-01T00:00:00",
          "2021-06-01T00:00:00",
          "2021-07-01T00:00:00",
          "2021-08-01T00:00:00",
          "2021-09-01T00:00:00",
          "2021-10-01T00:00:00",
          "2021-11-01T00:00:00",
          "2021-12-01T00:00:00",
          "2022-01-01T00:00:00",
          "2022-02-01T00:00:00",
          "2022-03-01T00:00:00",
          "2022-04-01T00:00:00",
          "2022-05-01T00:00:00",
          "2022-06-01T00:00:00",
          "2022-07-01T00:00:00"
         ],
         "xaxis": "x",
         "y": [
          9,
          15,
          6,
          29,
          18,
          10,
          5,
          2,
          4,
          4,
          7,
          2,
          3,
          4,
          10,
          9,
          9,
          9,
          9,
          7,
          15,
          8,
          20,
          9,
          4,
          2,
          4,
          10,
          13,
          14,
          31,
          3,
          8,
          7,
          9,
          27,
          6,
          12,
          3,
          8,
          0,
          1,
          1,
          1,
          0,
          2,
          1,
          6,
          0,
          0,
          3,
          0,
          0,
          1,
          0
         ],
         "yaxis": "y"
        },
        {
         "hovertemplate": "keyword=오픈뱅킹<br>Date=%{x}<br>value=%{y}<extra></extra>",
         "legendgroup": "오픈뱅킹",
         "line": {
          "color": "#ab63fa",
          "dash": "solid"
         },
         "marker": {
          "symbol": "circle"
         },
         "mode": "lines",
         "name": "오픈뱅킹",
         "orientation": "v",
         "showlegend": true,
         "type": "scatter",
         "x": [
          "2018-01-01T00:00:00",
          "2018-02-01T00:00:00",
          "2018-03-01T00:00:00",
          "2018-04-01T00:00:00",
          "2018-05-01T00:00:00",
          "2018-06-01T00:00:00",
          "2018-07-01T00:00:00",
          "2018-08-01T00:00:00",
          "2018-09-01T00:00:00",
          "2018-10-01T00:00:00",
          "2018-11-01T00:00:00",
          "2018-12-01T00:00:00",
          "2019-01-01T00:00:00",
          "2019-02-01T00:00:00",
          "2019-03-01T00:00:00",
          "2019-04-01T00:00:00",
          "2019-05-01T00:00:00",
          "2019-06-01T00:00:00",
          "2019-07-01T00:00:00",
          "2019-08-01T00:00:00",
          "2019-09-01T00:00:00",
          "2019-10-01T00:00:00",
          "2019-11-01T00:00:00",
          "2019-12-01T00:00:00",
          "2020-01-01T00:00:00",
          "2020-02-01T00:00:00",
          "2020-03-01T00:00:00",
          "2020-04-01T00:00:00",
          "2020-05-01T00:00:00",
          "2020-06-01T00:00:00",
          "2020-07-01T00:00:00",
          "2020-08-01T00:00:00",
          "2020-09-01T00:00:00",
          "2020-10-01T00:00:00",
          "2020-11-01T00:00:00",
          "2020-12-01T00:00:00",
          "2021-01-01T00:00:00",
          "2021-02-01T00:00:00",
          "2021-03-01T00:00:00",
          "2021-04-01T00:00:00",
          "2021-05-01T00:00:00",
          "2021-06-01T00:00:00",
          "2021-07-01T00:00:00",
          "2021-08-01T00:00:00",
          "2021-09-01T00:00:00",
          "2021-10-01T00:00:00",
          "2021-11-01T00:00:00",
          "2021-12-01T00:00:00",
          "2022-01-01T00:00:00",
          "2022-02-01T00:00:00",
          "2022-03-01T00:00:00",
          "2022-04-01T00:00:00",
          "2022-05-01T00:00:00",
          "2022-06-01T00:00:00",
          "2022-07-01T00:00:00"
         ],
         "xaxis": "x",
         "y": [
          0,
          0,
          1,
          0,
          0,
          0,
          0,
          1,
          0,
          0,
          0,
          0,
          1,
          11,
          2,
          6,
          4,
          11,
          8,
          3,
          7,
          35,
          31,
          29,
          23,
          16,
          8,
          8,
          8,
          11,
          37,
          13,
          6,
          38,
          15,
          25,
          13,
          15,
          17,
          33,
          21,
          17,
          3,
          2,
          4,
          2,
          10,
          18,
          10,
          4,
          6,
          7,
          14,
          6,
          11
         ],
         "yaxis": "y"
        },
        {
         "hovertemplate": "keyword=인공지능<br>Date=%{x}<br>value=%{y}<extra></extra>",
         "legendgroup": "인공지능",
         "line": {
          "color": "#FFA15A",
          "dash": "solid"
         },
         "marker": {
          "symbol": "circle"
         },
         "mode": "lines",
         "name": "인공지능",
         "orientation": "v",
         "showlegend": true,
         "type": "scatter",
         "x": [
          "2018-01-01T00:00:00",
          "2018-02-01T00:00:00",
          "2018-03-01T00:00:00",
          "2018-04-01T00:00:00",
          "2018-05-01T00:00:00",
          "2018-06-01T00:00:00",
          "2018-07-01T00:00:00",
          "2018-08-01T00:00:00",
          "2018-09-01T00:00:00",
          "2018-10-01T00:00:00",
          "2018-11-01T00:00:00",
          "2018-12-01T00:00:00",
          "2019-01-01T00:00:00",
          "2019-02-01T00:00:00",
          "2019-03-01T00:00:00",
          "2019-04-01T00:00:00",
          "2019-05-01T00:00:00",
          "2019-06-01T00:00:00",
          "2019-07-01T00:00:00",
          "2019-08-01T00:00:00",
          "2019-09-01T00:00:00",
          "2019-10-01T00:00:00",
          "2019-11-01T00:00:00",
          "2019-12-01T00:00:00",
          "2020-01-01T00:00:00",
          "2020-02-01T00:00:00",
          "2020-03-01T00:00:00",
          "2020-04-01T00:00:00",
          "2020-05-01T00:00:00",
          "2020-06-01T00:00:00",
          "2020-07-01T00:00:00",
          "2020-08-01T00:00:00",
          "2020-09-01T00:00:00",
          "2020-10-01T00:00:00",
          "2020-11-01T00:00:00",
          "2020-12-01T00:00:00",
          "2021-01-01T00:00:00",
          "2021-02-01T00:00:00",
          "2021-03-01T00:00:00",
          "2021-04-01T00:00:00",
          "2021-05-01T00:00:00",
          "2021-06-01T00:00:00",
          "2021-07-01T00:00:00",
          "2021-08-01T00:00:00",
          "2021-09-01T00:00:00",
          "2021-10-01T00:00:00",
          "2021-11-01T00:00:00",
          "2021-12-01T00:00:00",
          "2022-01-01T00:00:00",
          "2022-02-01T00:00:00",
          "2022-03-01T00:00:00",
          "2022-04-01T00:00:00",
          "2022-05-01T00:00:00",
          "2022-06-01T00:00:00",
          "2022-07-01T00:00:00"
         ],
         "xaxis": "x",
         "y": [
          52,
          55,
          58,
          41,
          35,
          30,
          51,
          28,
          42,
          40,
          55,
          17,
          51,
          36,
          41,
          65,
          43,
          50,
          54,
          32,
          58,
          79,
          72,
          43,
          48,
          28,
          55,
          46,
          60,
          115,
          104,
          88,
          86,
          94,
          93,
          79,
          79,
          69,
          70,
          104,
          89,
          93,
          75,
          58,
          48,
          57,
          73,
          97,
          65,
          53,
          66,
          57,
          59,
          47,
          72
         ],
         "yaxis": "y"
        },
        {
         "hovertemplate": "keyword=디지털자산<br>Date=%{x}<br>value=%{y}<extra></extra>",
         "legendgroup": "디지털자산",
         "line": {
          "color": "#19d3f3",
          "dash": "solid"
         },
         "marker": {
          "symbol": "circle"
         },
         "mode": "lines",
         "name": "디지털자산",
         "orientation": "v",
         "showlegend": true,
         "type": "scatter",
         "x": [
          "2018-01-01T00:00:00",
          "2018-02-01T00:00:00",
          "2018-03-01T00:00:00",
          "2018-04-01T00:00:00",
          "2018-05-01T00:00:00",
          "2018-06-01T00:00:00",
          "2018-07-01T00:00:00",
          "2018-08-01T00:00:00",
          "2018-09-01T00:00:00",
          "2018-10-01T00:00:00",
          "2018-11-01T00:00:00",
          "2018-12-01T00:00:00",
          "2019-01-01T00:00:00",
          "2019-02-01T00:00:00",
          "2019-03-01T00:00:00",
          "2019-04-01T00:00:00",
          "2019-05-01T00:00:00",
          "2019-06-01T00:00:00",
          "2019-07-01T00:00:00",
          "2019-08-01T00:00:00",
          "2019-09-01T00:00:00",
          "2019-10-01T00:00:00",
          "2019-11-01T00:00:00",
          "2019-12-01T00:00:00",
          "2020-01-01T00:00:00",
          "2020-02-01T00:00:00",
          "2020-03-01T00:00:00",
          "2020-04-01T00:00:00",
          "2020-05-01T00:00:00",
          "2020-06-01T00:00:00",
          "2020-07-01T00:00:00",
          "2020-08-01T00:00:00",
          "2020-09-01T00:00:00",
          "2020-10-01T00:00:00",
          "2020-11-01T00:00:00",
          "2020-12-01T00:00:00",
          "2021-01-01T00:00:00",
          "2021-02-01T00:00:00",
          "2021-03-01T00:00:00",
          "2021-04-01T00:00:00",
          "2021-05-01T00:00:00",
          "2021-06-01T00:00:00",
          "2021-07-01T00:00:00",
          "2021-08-01T00:00:00",
          "2021-09-01T00:00:00",
          "2021-10-01T00:00:00",
          "2021-11-01T00:00:00",
          "2021-12-01T00:00:00",
          "2022-01-01T00:00:00",
          "2022-02-01T00:00:00",
          "2022-03-01T00:00:00",
          "2022-04-01T00:00:00",
          "2022-05-01T00:00:00",
          "2022-06-01T00:00:00",
          "2022-07-01T00:00:00"
         ],
         "xaxis": "x",
         "y": [
          2,
          4,
          0,
          0,
          0,
          0,
          0,
          0,
          0,
          1,
          0,
          0,
          2,
          2,
          2,
          4,
          2,
          0,
          0,
          1,
          0,
          2,
          2,
          0,
          3,
          3,
          1,
          2,
          0,
          5,
          3,
          5,
          2,
          2,
          16,
          3,
          12,
          10,
          5,
          5,
          11,
          0,
          20,
          4,
          9,
          4,
          10,
          3,
          14,
          0,
          22,
          50,
          29,
          32,
          16
         ],
         "yaxis": "y"
        },
        {
         "hovertemplate": "keyword=암호화폐<br>Date=%{x}<br>value=%{y}<extra></extra>",
         "legendgroup": "암호화폐",
         "line": {
          "color": "#FF6692",
          "dash": "solid"
         },
         "marker": {
          "symbol": "circle"
         },
         "mode": "lines",
         "name": "암호화폐",
         "orientation": "v",
         "showlegend": true,
         "type": "scatter",
         "x": [
          "2018-01-01T00:00:00",
          "2018-02-01T00:00:00",
          "2018-03-01T00:00:00",
          "2018-04-01T00:00:00",
          "2018-05-01T00:00:00",
          "2018-06-01T00:00:00",
          "2018-07-01T00:00:00",
          "2018-08-01T00:00:00",
          "2018-09-01T00:00:00",
          "2018-10-01T00:00:00",
          "2018-11-01T00:00:00",
          "2018-12-01T00:00:00",
          "2019-01-01T00:00:00",
          "2019-02-01T00:00:00",
          "2019-03-01T00:00:00",
          "2019-04-01T00:00:00",
          "2019-05-01T00:00:00",
          "2019-06-01T00:00:00",
          "2019-07-01T00:00:00",
          "2019-08-01T00:00:00",
          "2019-09-01T00:00:00",
          "2019-10-01T00:00:00",
          "2019-11-01T00:00:00",
          "2019-12-01T00:00:00",
          "2020-01-01T00:00:00",
          "2020-02-01T00:00:00",
          "2020-03-01T00:00:00",
          "2020-04-01T00:00:00",
          "2020-05-01T00:00:00",
          "2020-06-01T00:00:00",
          "2020-07-01T00:00:00",
          "2020-08-01T00:00:00",
          "2020-09-01T00:00:00",
          "2020-10-01T00:00:00",
          "2020-11-01T00:00:00",
          "2020-12-01T00:00:00",
          "2021-01-01T00:00:00",
          "2021-02-01T00:00:00",
          "2021-03-01T00:00:00",
          "2021-04-01T00:00:00",
          "2021-05-01T00:00:00",
          "2021-06-01T00:00:00",
          "2021-07-01T00:00:00",
          "2021-08-01T00:00:00",
          "2021-09-01T00:00:00",
          "2021-10-01T00:00:00",
          "2021-11-01T00:00:00",
          "2021-12-01T00:00:00",
          "2022-01-01T00:00:00",
          "2022-02-01T00:00:00",
          "2022-03-01T00:00:00",
          "2022-04-01T00:00:00",
          "2022-05-01T00:00:00",
          "2022-06-01T00:00:00",
          "2022-07-01T00:00:00"
         ],
         "xaxis": "x",
         "y": [
          46,
          28,
          39,
          53,
          29,
          29,
          30,
          24,
          34,
          62,
          55,
          17,
          53,
          30,
          48,
          32,
          37,
          52,
          73,
          42,
          60,
          76,
          43,
          46,
          38,
          24,
          22,
          22,
          23,
          19,
          19,
          6,
          18,
          13,
          17,
          33,
          21,
          88,
          64,
          98,
          129,
          57,
          48,
          31,
          37,
          39,
          43,
          24,
          43,
          29,
          62,
          40,
          71,
          47,
          30
         ],
         "yaxis": "y"
        },
        {
         "hovertemplate": "keyword=공동인증서<br>Date=%{x}<br>value=%{y}<extra></extra>",
         "legendgroup": "공동인증서",
         "line": {
          "color": "#B6E880",
          "dash": "solid"
         },
         "marker": {
          "symbol": "circle"
         },
         "mode": "lines",
         "name": "공동인증서",
         "orientation": "v",
         "showlegend": true,
         "type": "scatter",
         "x": [
          "2018-01-01T00:00:00",
          "2018-02-01T00:00:00",
          "2018-03-01T00:00:00",
          "2018-04-01T00:00:00",
          "2018-05-01T00:00:00",
          "2018-06-01T00:00:00",
          "2018-07-01T00:00:00",
          "2018-08-01T00:00:00",
          "2018-09-01T00:00:00",
          "2018-10-01T00:00:00",
          "2018-11-01T00:00:00",
          "2018-12-01T00:00:00",
          "2019-01-01T00:00:00",
          "2019-02-01T00:00:00",
          "2019-03-01T00:00:00",
          "2019-04-01T00:00:00",
          "2019-05-01T00:00:00",
          "2019-06-01T00:00:00",
          "2019-07-01T00:00:00",
          "2019-08-01T00:00:00",
          "2019-09-01T00:00:00",
          "2019-10-01T00:00:00",
          "2019-11-01T00:00:00",
          "2019-12-01T00:00:00",
          "2020-01-01T00:00:00",
          "2020-02-01T00:00:00",
          "2020-03-01T00:00:00",
          "2020-04-01T00:00:00",
          "2020-05-01T00:00:00",
          "2020-06-01T00:00:00",
          "2020-07-01T00:00:00",
          "2020-08-01T00:00:00",
          "2020-09-01T00:00:00",
          "2020-10-01T00:00:00",
          "2020-11-01T00:00:00",
          "2020-12-01T00:00:00",
          "2021-01-01T00:00:00",
          "2021-02-01T00:00:00",
          "2021-03-01T00:00:00",
          "2021-04-01T00:00:00",
          "2021-05-01T00:00:00",
          "2021-06-01T00:00:00",
          "2021-07-01T00:00:00",
          "2021-08-01T00:00:00",
          "2021-09-01T00:00:00",
          "2021-10-01T00:00:00",
          "2021-11-01T00:00:00",
          "2021-12-01T00:00:00",
          "2022-01-01T00:00:00",
          "2022-02-01T00:00:00",
          "2022-03-01T00:00:00",
          "2022-04-01T00:00:00",
          "2022-05-01T00:00:00",
          "2022-06-01T00:00:00",
          "2022-07-01T00:00:00"
         ],
         "xaxis": "x",
         "y": [
          0,
          0,
          0,
          0,
          0,
          0,
          0,
          5,
          0,
          0,
          0,
          0,
          0,
          0,
          0,
          0,
          0,
          0,
          0,
          0,
          0,
          0,
          0,
          0,
          0,
          0,
          0,
          0,
          0,
          0,
          0,
          0,
          0,
          1,
          1,
          4,
          0,
          9,
          0,
          2,
          0,
          1,
          3,
          1,
          1,
          4,
          1,
          0,
          0,
          1,
          1,
          4,
          8,
          1,
          0
         ],
         "yaxis": "y"
        }
       ],
       "layout": {
        "legend": {
         "title": {
          "text": "keyword"
         },
         "tracegroupgap": 0
        },
        "template": {
         "data": {
          "bar": [
           {
            "error_x": {
             "color": "#2a3f5f"
            },
            "error_y": {
             "color": "#2a3f5f"
            },
            "marker": {
             "line": {
              "color": "#E5ECF6",
              "width": 0.5
             },
             "pattern": {
              "fillmode": "overlay",
              "size": 10,
              "solidity": 0.2
             }
            },
            "type": "bar"
           }
          ],
          "barpolar": [
           {
            "marker": {
             "line": {
              "color": "#E5ECF6",
              "width": 0.5
             },
             "pattern": {
              "fillmode": "overlay",
              "size": 10,
              "solidity": 0.2
             }
            },
            "type": "barpolar"
           }
          ],
          "carpet": [
           {
            "aaxis": {
             "endlinecolor": "#2a3f5f",
             "gridcolor": "white",
             "linecolor": "white",
             "minorgridcolor": "white",
             "startlinecolor": "#2a3f5f"
            },
            "baxis": {
             "endlinecolor": "#2a3f5f",
             "gridcolor": "white",
             "linecolor": "white",
             "minorgridcolor": "white",
             "startlinecolor": "#2a3f5f"
            },
            "type": "carpet"
           }
          ],
          "choropleth": [
           {
            "colorbar": {
             "outlinewidth": 0,
             "ticks": ""
            },
            "type": "choropleth"
           }
          ],
          "contour": [
           {
            "colorbar": {
             "outlinewidth": 0,
             "ticks": ""
            },
            "colorscale": [
             [
              0,
              "#0d0887"
             ],
             [
              0.1111111111111111,
              "#46039f"
             ],
             [
              0.2222222222222222,
              "#7201a8"
             ],
             [
              0.3333333333333333,
              "#9c179e"
             ],
             [
              0.4444444444444444,
              "#bd3786"
             ],
             [
              0.5555555555555556,
              "#d8576b"
             ],
             [
              0.6666666666666666,
              "#ed7953"
             ],
             [
              0.7777777777777778,
              "#fb9f3a"
             ],
             [
              0.8888888888888888,
              "#fdca26"
             ],
             [
              1,
              "#f0f921"
             ]
            ],
            "type": "contour"
           }
          ],
          "contourcarpet": [
           {
            "colorbar": {
             "outlinewidth": 0,
             "ticks": ""
            },
            "type": "contourcarpet"
           }
          ],
          "heatmap": [
           {
            "colorbar": {
             "outlinewidth": 0,
             "ticks": ""
            },
            "colorscale": [
             [
              0,
              "#0d0887"
             ],
             [
              0.1111111111111111,
              "#46039f"
             ],
             [
              0.2222222222222222,
              "#7201a8"
             ],
             [
              0.3333333333333333,
              "#9c179e"
             ],
             [
              0.4444444444444444,
              "#bd3786"
             ],
             [
              0.5555555555555556,
              "#d8576b"
             ],
             [
              0.6666666666666666,
              "#ed7953"
             ],
             [
              0.7777777777777778,
              "#fb9f3a"
             ],
             [
              0.8888888888888888,
              "#fdca26"
             ],
             [
              1,
              "#f0f921"
             ]
            ],
            "type": "heatmap"
           }
          ],
          "heatmapgl": [
           {
            "colorbar": {
             "outlinewidth": 0,
             "ticks": ""
            },
            "colorscale": [
             [
              0,
              "#0d0887"
             ],
             [
              0.1111111111111111,
              "#46039f"
             ],
             [
              0.2222222222222222,
              "#7201a8"
             ],
             [
              0.3333333333333333,
              "#9c179e"
             ],
             [
              0.4444444444444444,
              "#bd3786"
             ],
             [
              0.5555555555555556,
              "#d8576b"
             ],
             [
              0.6666666666666666,
              "#ed7953"
             ],
             [
              0.7777777777777778,
              "#fb9f3a"
             ],
             [
              0.8888888888888888,
              "#fdca26"
             ],
             [
              1,
              "#f0f921"
             ]
            ],
            "type": "heatmapgl"
           }
          ],
          "histogram": [
           {
            "marker": {
             "pattern": {
              "fillmode": "overlay",
              "size": 10,
              "solidity": 0.2
             }
            },
            "type": "histogram"
           }
          ],
          "histogram2d": [
           {
            "colorbar": {
             "outlinewidth": 0,
             "ticks": ""
            },
            "colorscale": [
             [
              0,
              "#0d0887"
             ],
             [
              0.1111111111111111,
              "#46039f"
             ],
             [
              0.2222222222222222,
              "#7201a8"
             ],
             [
              0.3333333333333333,
              "#9c179e"
             ],
             [
              0.4444444444444444,
              "#bd3786"
             ],
             [
              0.5555555555555556,
              "#d8576b"
             ],
             [
              0.6666666666666666,
              "#ed7953"
             ],
             [
              0.7777777777777778,
              "#fb9f3a"
             ],
             [
              0.8888888888888888,
              "#fdca26"
             ],
             [
              1,
              "#f0f921"
             ]
            ],
            "type": "histogram2d"
           }
          ],
          "histogram2dcontour": [
           {
            "colorbar": {
             "outlinewidth": 0,
             "ticks": ""
            },
            "colorscale": [
             [
              0,
              "#0d0887"
             ],
             [
              0.1111111111111111,
              "#46039f"
             ],
             [
              0.2222222222222222,
              "#7201a8"
             ],
             [
              0.3333333333333333,
              "#9c179e"
             ],
             [
              0.4444444444444444,
              "#bd3786"
             ],
             [
              0.5555555555555556,
              "#d8576b"
             ],
             [
              0.6666666666666666,
              "#ed7953"
             ],
             [
              0.7777777777777778,
              "#fb9f3a"
             ],
             [
              0.8888888888888888,
              "#fdca26"
             ],
             [
              1,
              "#f0f921"
             ]
            ],
            "type": "histogram2dcontour"
           }
          ],
          "mesh3d": [
           {
            "colorbar": {
             "outlinewidth": 0,
             "ticks": ""
            },
            "type": "mesh3d"
           }
          ],
          "parcoords": [
           {
            "line": {
             "colorbar": {
              "outlinewidth": 0,
              "ticks": ""
             }
            },
            "type": "parcoords"
           }
          ],
          "pie": [
           {
            "automargin": true,
            "type": "pie"
           }
          ],
          "scatter": [
           {
            "marker": {
             "colorbar": {
              "outlinewidth": 0,
              "ticks": ""
             }
            },
            "type": "scatter"
           }
          ],
          "scatter3d": [
           {
            "line": {
             "colorbar": {
              "outlinewidth": 0,
              "ticks": ""
             }
            },
            "marker": {
             "colorbar": {
              "outlinewidth": 0,
              "ticks": ""
             }
            },
            "type": "scatter3d"
           }
          ],
          "scattercarpet": [
           {
            "marker": {
             "colorbar": {
              "outlinewidth": 0,
              "ticks": ""
             }
            },
            "type": "scattercarpet"
           }
          ],
          "scattergeo": [
           {
            "marker": {
             "colorbar": {
              "outlinewidth": 0,
              "ticks": ""
             }
            },
            "type": "scattergeo"
           }
          ],
          "scattergl": [
           {
            "marker": {
             "colorbar": {
              "outlinewidth": 0,
              "ticks": ""
             }
            },
            "type": "scattergl"
           }
          ],
          "scattermapbox": [
           {
            "marker": {
             "colorbar": {
              "outlinewidth": 0,
              "ticks": ""
             }
            },
            "type": "scattermapbox"
           }
          ],
          "scatterpolar": [
           {
            "marker": {
             "colorbar": {
              "outlinewidth": 0,
              "ticks": ""
             }
            },
            "type": "scatterpolar"
           }
          ],
          "scatterpolargl": [
           {
            "marker": {
             "colorbar": {
              "outlinewidth": 0,
              "ticks": ""
             }
            },
            "type": "scatterpolargl"
           }
          ],
          "scatterternary": [
           {
            "marker": {
             "colorbar": {
              "outlinewidth": 0,
              "ticks": ""
             }
            },
            "type": "scatterternary"
           }
          ],
          "surface": [
           {
            "colorbar": {
             "outlinewidth": 0,
             "ticks": ""
            },
            "colorscale": [
             [
              0,
              "#0d0887"
             ],
             [
              0.1111111111111111,
              "#46039f"
             ],
             [
              0.2222222222222222,
              "#7201a8"
             ],
             [
              0.3333333333333333,
              "#9c179e"
             ],
             [
              0.4444444444444444,
              "#bd3786"
             ],
             [
              0.5555555555555556,
              "#d8576b"
             ],
             [
              0.6666666666666666,
              "#ed7953"
             ],
             [
              0.7777777777777778,
              "#fb9f3a"
             ],
             [
              0.8888888888888888,
              "#fdca26"
             ],
             [
              1,
              "#f0f921"
             ]
            ],
            "type": "surface"
           }
          ],
          "table": [
           {
            "cells": {
             "fill": {
              "color": "#EBF0F8"
             },
             "line": {
              "color": "white"
             }
            },
            "header": {
             "fill": {
              "color": "#C8D4E3"
             },
             "line": {
              "color": "white"
             }
            },
            "type": "table"
           }
          ]
         },
         "layout": {
          "annotationdefaults": {
           "arrowcolor": "#2a3f5f",
           "arrowhead": 0,
           "arrowwidth": 1
          },
          "autotypenumbers": "strict",
          "coloraxis": {
           "colorbar": {
            "outlinewidth": 0,
            "ticks": ""
           }
          },
          "colorscale": {
           "diverging": [
            [
             0,
             "#8e0152"
            ],
            [
             0.1,
             "#c51b7d"
            ],
            [
             0.2,
             "#de77ae"
            ],
            [
             0.3,
             "#f1b6da"
            ],
            [
             0.4,
             "#fde0ef"
            ],
            [
             0.5,
             "#f7f7f7"
            ],
            [
             0.6,
             "#e6f5d0"
            ],
            [
             0.7,
             "#b8e186"
            ],
            [
             0.8,
             "#7fbc41"
            ],
            [
             0.9,
             "#4d9221"
            ],
            [
             1,
             "#276419"
            ]
           ],
           "sequential": [
            [
             0,
             "#0d0887"
            ],
            [
             0.1111111111111111,
             "#46039f"
            ],
            [
             0.2222222222222222,
             "#7201a8"
            ],
            [
             0.3333333333333333,
             "#9c179e"
            ],
            [
             0.4444444444444444,
             "#bd3786"
            ],
            [
             0.5555555555555556,
             "#d8576b"
            ],
            [
             0.6666666666666666,
             "#ed7953"
            ],
            [
             0.7777777777777778,
             "#fb9f3a"
            ],
            [
             0.8888888888888888,
             "#fdca26"
            ],
            [
             1,
             "#f0f921"
            ]
           ],
           "sequentialminus": [
            [
             0,
             "#0d0887"
            ],
            [
             0.1111111111111111,
             "#46039f"
            ],
            [
             0.2222222222222222,
             "#7201a8"
            ],
            [
             0.3333333333333333,
             "#9c179e"
            ],
            [
             0.4444444444444444,
             "#bd3786"
            ],
            [
             0.5555555555555556,
             "#d8576b"
            ],
            [
             0.6666666666666666,
             "#ed7953"
            ],
            [
             0.7777777777777778,
             "#fb9f3a"
            ],
            [
             0.8888888888888888,
             "#fdca26"
            ],
            [
             1,
             "#f0f921"
            ]
           ]
          },
          "colorway": [
           "#636efa",
           "#EF553B",
           "#00cc96",
           "#ab63fa",
           "#FFA15A",
           "#19d3f3",
           "#FF6692",
           "#B6E880",
           "#FF97FF",
           "#FECB52"
          ],
          "font": {
           "color": "#2a3f5f"
          },
          "geo": {
           "bgcolor": "white",
           "lakecolor": "white",
           "landcolor": "#E5ECF6",
           "showlakes": true,
           "showland": true,
           "subunitcolor": "white"
          },
          "hoverlabel": {
           "align": "left"
          },
          "hovermode": "closest",
          "mapbox": {
           "style": "light"
          },
          "paper_bgcolor": "white",
          "plot_bgcolor": "#E5ECF6",
          "polar": {
           "angularaxis": {
            "gridcolor": "white",
            "linecolor": "white",
            "ticks": ""
           },
           "bgcolor": "#E5ECF6",
           "radialaxis": {
            "gridcolor": "white",
            "linecolor": "white",
            "ticks": ""
           }
          },
          "scene": {
           "xaxis": {
            "backgroundcolor": "#E5ECF6",
            "gridcolor": "white",
            "gridwidth": 2,
            "linecolor": "white",
            "showbackground": true,
            "ticks": "",
            "zerolinecolor": "white"
           },
           "yaxis": {
            "backgroundcolor": "#E5ECF6",
            "gridcolor": "white",
            "gridwidth": 2,
            "linecolor": "white",
            "showbackground": true,
            "ticks": "",
            "zerolinecolor": "white"
           },
           "zaxis": {
            "backgroundcolor": "#E5ECF6",
            "gridcolor": "white",
            "gridwidth": 2,
            "linecolor": "white",
            "showbackground": true,
            "ticks": "",
            "zerolinecolor": "white"
           }
          },
          "shapedefaults": {
           "line": {
            "color": "#2a3f5f"
           }
          },
          "ternary": {
           "aaxis": {
            "gridcolor": "white",
            "linecolor": "white",
            "ticks": ""
           },
           "baxis": {
            "gridcolor": "white",
            "linecolor": "white",
            "ticks": ""
           },
           "bgcolor": "#E5ECF6",
           "caxis": {
            "gridcolor": "white",
            "linecolor": "white",
            "ticks": ""
           }
          },
          "title": {
           "x": 0.05
          },
          "xaxis": {
           "automargin": true,
           "gridcolor": "white",
           "linecolor": "white",
           "ticks": "",
           "title": {
            "standoff": 15
           },
           "zerolinecolor": "white",
           "zerolinewidth": 2
          },
          "yaxis": {
           "automargin": true,
           "gridcolor": "white",
           "linecolor": "white",
           "ticks": "",
           "title": {
            "standoff": 15
           },
           "zerolinecolor": "white",
           "zerolinewidth": 2
          }
         }
        },
        "title": {
         "text": "Key Word (2018.1 - 2022.7)"
        },
        "xaxis": {
         "anchor": "y",
         "domain": [
          0,
          1
         ],
         "title": {
          "text": "Date"
         }
        },
        "yaxis": {
         "anchor": "x",
         "domain": [
          0,
          1
         ],
         "title": {
          "text": "value"
         }
        }
       }
      },
      "text/html": [
       "<div>                            <div id=\"b9e1e202-2ac9-49e1-a398-7936ca9f9dc9\" class=\"plotly-graph-div\" style=\"height:525px; width:100%;\"></div>            <script type=\"text/javascript\">                require([\"plotly\"], function(Plotly) {                    window.PLOTLYENV=window.PLOTLYENV || {};                                    if (document.getElementById(\"b9e1e202-2ac9-49e1-a398-7936ca9f9dc9\")) {                    Plotly.newPlot(                        \"b9e1e202-2ac9-49e1-a398-7936ca9f9dc9\",                        [{\"hovertemplate\":\"keyword=\\uba54\\ud0c0\\ubc84\\uc2a4<br>Date=%{x}<br>value=%{y}<extra></extra>\",\"legendgroup\":\"\\uba54\\ud0c0\\ubc84\\uc2a4\",\"line\":{\"color\":\"#636efa\",\"dash\":\"solid\"},\"marker\":{\"symbol\":\"circle\"},\"mode\":\"lines\",\"name\":\"\\uba54\\ud0c0\\ubc84\\uc2a4\",\"orientation\":\"v\",\"showlegend\":true,\"x\":[\"2018-01-01T00:00:00\",\"2018-02-01T00:00:00\",\"2018-03-01T00:00:00\",\"2018-04-01T00:00:00\",\"2018-05-01T00:00:00\",\"2018-06-01T00:00:00\",\"2018-07-01T00:00:00\",\"2018-08-01T00:00:00\",\"2018-09-01T00:00:00\",\"2018-10-01T00:00:00\",\"2018-11-01T00:00:00\",\"2018-12-01T00:00:00\",\"2019-01-01T00:00:00\",\"2019-02-01T00:00:00\",\"2019-03-01T00:00:00\",\"2019-04-01T00:00:00\",\"2019-05-01T00:00:00\",\"2019-06-01T00:00:00\",\"2019-07-01T00:00:00\",\"2019-08-01T00:00:00\",\"2019-09-01T00:00:00\",\"2019-10-01T00:00:00\",\"2019-11-01T00:00:00\",\"2019-12-01T00:00:00\",\"2020-01-01T00:00:00\",\"2020-02-01T00:00:00\",\"2020-03-01T00:00:00\",\"2020-04-01T00:00:00\",\"2020-05-01T00:00:00\",\"2020-06-01T00:00:00\",\"2020-07-01T00:00:00\",\"2020-08-01T00:00:00\",\"2020-09-01T00:00:00\",\"2020-10-01T00:00:00\",\"2020-11-01T00:00:00\",\"2020-12-01T00:00:00\",\"2021-01-01T00:00:00\",\"2021-02-01T00:00:00\",\"2021-03-01T00:00:00\",\"2021-04-01T00:00:00\",\"2021-05-01T00:00:00\",\"2021-06-01T00:00:00\",\"2021-07-01T00:00:00\",\"2021-08-01T00:00:00\",\"2021-09-01T00:00:00\",\"2021-10-01T00:00:00\",\"2021-11-01T00:00:00\",\"2021-12-01T00:00:00\",\"2022-01-01T00:00:00\",\"2022-02-01T00:00:00\",\"2022-03-01T00:00:00\",\"2022-04-01T00:00:00\",\"2022-05-01T00:00:00\",\"2022-06-01T00:00:00\",\"2022-07-01T00:00:00\"],\"xaxis\":\"x\",\"y\":[0.0,0.0,0.0,0.0,0.0,0.0,0.0,0.0,0.0,0.0,0.0,0.0,0.0,0.0,1.0,0.0,0.0,0.0,0.0,0.0,0.0,0.0,0.0,0.0,0.0,0.0,0.0,0.0,0.0,0.0,0.0,0.0,0.0,0.0,0.0,0.0,0.0,1.0,17.0,11.0,22.0,31.0,66.0,87.0,104.0,97.0,161.0,158.0,181.0,83.0,112.0,85.0,60.0,51.0,83.0],\"yaxis\":\"y\",\"type\":\"scatter\"},{\"hovertemplate\":\"keyword=\\uac00\\uc0c1\\uc790\\uc0b0<br>Date=%{x}<br>value=%{y}<extra></extra>\",\"legendgroup\":\"\\uac00\\uc0c1\\uc790\\uc0b0\",\"line\":{\"color\":\"#EF553B\",\"dash\":\"solid\"},\"marker\":{\"symbol\":\"circle\"},\"mode\":\"lines\",\"name\":\"\\uac00\\uc0c1\\uc790\\uc0b0\",\"orientation\":\"v\",\"showlegend\":true,\"x\":[\"2018-01-01T00:00:00\",\"2018-02-01T00:00:00\",\"2018-03-01T00:00:00\",\"2018-04-01T00:00:00\",\"2018-05-01T00:00:00\",\"2018-06-01T00:00:00\",\"2018-07-01T00:00:00\",\"2018-08-01T00:00:00\",\"2018-09-01T00:00:00\",\"2018-10-01T00:00:00\",\"2018-11-01T00:00:00\",\"2018-12-01T00:00:00\",\"2019-01-01T00:00:00\",\"2019-02-01T00:00:00\",\"2019-03-01T00:00:00\",\"2019-04-01T00:00:00\",\"2019-05-01T00:00:00\",\"2019-06-01T00:00:00\",\"2019-07-01T00:00:00\",\"2019-08-01T00:00:00\",\"2019-09-01T00:00:00\",\"2019-10-01T00:00:00\",\"2019-11-01T00:00:00\",\"2019-12-01T00:00:00\",\"2020-01-01T00:00:00\",\"2020-02-01T00:00:00\",\"2020-03-01T00:00:00\",\"2020-04-01T00:00:00\",\"2020-05-01T00:00:00\",\"2020-06-01T00:00:00\",\"2020-07-01T00:00:00\",\"2020-08-01T00:00:00\",\"2020-09-01T00:00:00\",\"2020-10-01T00:00:00\",\"2020-11-01T00:00:00\",\"2020-12-01T00:00:00\",\"2021-01-01T00:00:00\",\"2021-02-01T00:00:00\",\"2021-03-01T00:00:00\",\"2021-04-01T00:00:00\",\"2021-05-01T00:00:00\",\"2021-06-01T00:00:00\",\"2021-07-01T00:00:00\",\"2021-08-01T00:00:00\",\"2021-09-01T00:00:00\",\"2021-10-01T00:00:00\",\"2021-11-01T00:00:00\",\"2021-12-01T00:00:00\",\"2022-01-01T00:00:00\",\"2022-02-01T00:00:00\",\"2022-03-01T00:00:00\",\"2022-04-01T00:00:00\",\"2022-05-01T00:00:00\",\"2022-06-01T00:00:00\",\"2022-07-01T00:00:00\"],\"xaxis\":\"x\",\"y\":[0.0,0.0,0.0,0.0,1.0,0.0,0.0,0.0,0.0,0.0,0.0,0.0,1.0,1.0,0.0,0.0,0.0,0.0,2.0,0.0,0.0,15.0,3.0,3.0,0.0,1.0,14.0,16.0,14.0,23.0,20.0,12.0,13.0,22.0,34.0,30.0,27.0,35.0,46.0,67.0,102.0,53.0,30.0,42.0,39.0,49.0,92.0,91.0,107.0,56.0,94.0,71.0,149.0,93.0,82.0],\"yaxis\":\"y\",\"type\":\"scatter\"},{\"hovertemplate\":\"keyword=\\uac00\\uc0c1\\ud1b5\\ud654<br>Date=%{x}<br>value=%{y}<extra></extra>\",\"legendgroup\":\"\\uac00\\uc0c1\\ud1b5\\ud654\",\"line\":{\"color\":\"#00cc96\",\"dash\":\"solid\"},\"marker\":{\"symbol\":\"circle\"},\"mode\":\"lines\",\"name\":\"\\uac00\\uc0c1\\ud1b5\\ud654\",\"orientation\":\"v\",\"showlegend\":true,\"x\":[\"2018-01-01T00:00:00\",\"2018-02-01T00:00:00\",\"2018-03-01T00:00:00\",\"2018-04-01T00:00:00\",\"2018-05-01T00:00:00\",\"2018-06-01T00:00:00\",\"2018-07-01T00:00:00\",\"2018-08-01T00:00:00\",\"2018-09-01T00:00:00\",\"2018-10-01T00:00:00\",\"2018-11-01T00:00:00\",\"2018-12-01T00:00:00\",\"2019-01-01T00:00:00\",\"2019-02-01T00:00:00\",\"2019-03-01T00:00:00\",\"2019-04-01T00:00:00\",\"2019-05-01T00:00:00\",\"2019-06-01T00:00:00\",\"2019-07-01T00:00:00\",\"2019-08-01T00:00:00\",\"2019-09-01T00:00:00\",\"2019-10-01T00:00:00\",\"2019-11-01T00:00:00\",\"2019-12-01T00:00:00\",\"2020-01-01T00:00:00\",\"2020-02-01T00:00:00\",\"2020-03-01T00:00:00\",\"2020-04-01T00:00:00\",\"2020-05-01T00:00:00\",\"2020-06-01T00:00:00\",\"2020-07-01T00:00:00\",\"2020-08-01T00:00:00\",\"2020-09-01T00:00:00\",\"2020-10-01T00:00:00\",\"2020-11-01T00:00:00\",\"2020-12-01T00:00:00\",\"2021-01-01T00:00:00\",\"2021-02-01T00:00:00\",\"2021-03-01T00:00:00\",\"2021-04-01T00:00:00\",\"2021-05-01T00:00:00\",\"2021-06-01T00:00:00\",\"2021-07-01T00:00:00\",\"2021-08-01T00:00:00\",\"2021-09-01T00:00:00\",\"2021-10-01T00:00:00\",\"2021-11-01T00:00:00\",\"2021-12-01T00:00:00\",\"2022-01-01T00:00:00\",\"2022-02-01T00:00:00\",\"2022-03-01T00:00:00\",\"2022-04-01T00:00:00\",\"2022-05-01T00:00:00\",\"2022-06-01T00:00:00\",\"2022-07-01T00:00:00\"],\"xaxis\":\"x\",\"y\":[67.0,14.0,14.0,7.0,10.0,5.0,8.0,5.0,17.0,6.0,8.0,3.0,13.0,3.0,2.0,3.0,3.0,4.0,8.0,1.0,1.0,3.0,1.0,0.0,0.0,1.0,2.0,0.0,1.0,0.0,1.0,2.0,0.0,1.0,2.0,1.0,3.0,2.0,8.0,3.0,7.0,3.0,1.0,0.0,0.0,0.0,0.0,1.0,1.0,0.0,0.0,1.0,0.0,1.0,2.0],\"yaxis\":\"y\",\"type\":\"scatter\"},{\"hovertemplate\":\"keyword=\\ube14\\ub85d\\uccb4\\uc778<br>Date=%{x}<br>value=%{y}<extra></extra>\",\"legendgroup\":\"\\ube14\\ub85d\\uccb4\\uc778\",\"line\":{\"color\":\"#ab63fa\",\"dash\":\"solid\"},\"marker\":{\"symbol\":\"circle\"},\"mode\":\"lines\",\"name\":\"\\ube14\\ub85d\\uccb4\\uc778\",\"orientation\":\"v\",\"showlegend\":true,\"x\":[\"2018-01-01T00:00:00\",\"2018-02-01T00:00:00\",\"2018-03-01T00:00:00\",\"2018-04-01T00:00:00\",\"2018-05-01T00:00:00\",\"2018-06-01T00:00:00\",\"2018-07-01T00:00:00\",\"2018-08-01T00:00:00\",\"2018-09-01T00:00:00\",\"2018-10-01T00:00:00\",\"2018-11-01T00:00:00\",\"2018-12-01T00:00:00\",\"2019-01-01T00:00:00\",\"2019-02-01T00:00:00\",\"2019-03-01T00:00:00\",\"2019-04-01T00:00:00\",\"2019-05-01T00:00:00\",\"2019-06-01T00:00:00\",\"2019-07-01T00:00:00\",\"2019-08-01T00:00:00\",\"2019-09-01T00:00:00\",\"2019-10-01T00:00:00\",\"2019-11-01T00:00:00\",\"2019-12-01T00:00:00\",\"2020-01-01T00:00:00\",\"2020-02-01T00:00:00\",\"2020-03-01T00:00:00\",\"2020-04-01T00:00:00\",\"2020-05-01T00:00:00\",\"2020-06-01T00:00:00\",\"2020-07-01T00:00:00\",\"2020-08-01T00:00:00\",\"2020-09-01T00:00:00\",\"2020-10-01T00:00:00\",\"2020-11-01T00:00:00\",\"2020-12-01T00:00:00\",\"2021-01-01T00:00:00\",\"2021-02-01T00:00:00\",\"2021-03-01T00:00:00\",\"2021-04-01T00:00:00\",\"2021-05-01T00:00:00\",\"2021-06-01T00:00:00\",\"2021-07-01T00:00:00\",\"2021-08-01T00:00:00\",\"2021-09-01T00:00:00\",\"2021-10-01T00:00:00\",\"2021-11-01T00:00:00\",\"2021-12-01T00:00:00\",\"2022-01-01T00:00:00\",\"2022-02-01T00:00:00\",\"2022-03-01T00:00:00\",\"2022-04-01T00:00:00\",\"2022-05-01T00:00:00\",\"2022-06-01T00:00:00\",\"2022-07-01T00:00:00\"],\"xaxis\":\"x\",\"y\":[158.0,88.0,111.0,118.0,76.0,72.0,80.0,74.0,77.0,120.0,62.0,32.0,114.0,70.0,52.0,61.0,68.0,102.0,97.0,75.0,65.0,116.0,95.0,80.0,69.0,59.0,41.0,44.0,39.0,61.0,52.0,47.0,45.0,43.0,60.0,82.0,45.0,25.0,51.0,84.0,108.0,70.0,50.0,57.0,54.0,36.0,100.0,84.0,91.0,59.0,61.0,71.0,84.0,50.0,54.0],\"yaxis\":\"y\",\"type\":\"scatter\"},{\"hovertemplate\":\"keyword=\\ube45\\ud14c\\ud06c<br>Date=%{x}<br>value=%{y}<extra></extra>\",\"legendgroup\":\"\\ube45\\ud14c\\ud06c\",\"line\":{\"color\":\"#FFA15A\",\"dash\":\"solid\"},\"marker\":{\"symbol\":\"circle\"},\"mode\":\"lines\",\"name\":\"\\ube45\\ud14c\\ud06c\",\"orientation\":\"v\",\"showlegend\":true,\"x\":[\"2018-01-01T00:00:00\",\"2018-02-01T00:00:00\",\"2018-03-01T00:00:00\",\"2018-04-01T00:00:00\",\"2018-05-01T00:00:00\",\"2018-06-01T00:00:00\",\"2018-07-01T00:00:00\",\"2018-08-01T00:00:00\",\"2018-09-01T00:00:00\",\"2018-10-01T00:00:00\",\"2018-11-01T00:00:00\",\"2018-12-01T00:00:00\",\"2019-01-01T00:00:00\",\"2019-02-01T00:00:00\",\"2019-03-01T00:00:00\",\"2019-04-01T00:00:00\",\"2019-05-01T00:00:00\",\"2019-06-01T00:00:00\",\"2019-07-01T00:00:00\",\"2019-08-01T00:00:00\",\"2019-09-01T00:00:00\",\"2019-10-01T00:00:00\",\"2019-11-01T00:00:00\",\"2019-12-01T00:00:00\",\"2020-01-01T00:00:00\",\"2020-02-01T00:00:00\",\"2020-03-01T00:00:00\",\"2020-04-01T00:00:00\",\"2020-05-01T00:00:00\",\"2020-06-01T00:00:00\",\"2020-07-01T00:00:00\",\"2020-08-01T00:00:00\",\"2020-09-01T00:00:00\",\"2020-10-01T00:00:00\",\"2020-11-01T00:00:00\",\"2020-12-01T00:00:00\",\"2021-01-01T00:00:00\",\"2021-02-01T00:00:00\",\"2021-03-01T00:00:00\",\"2021-04-01T00:00:00\",\"2021-05-01T00:00:00\",\"2021-06-01T00:00:00\",\"2021-07-01T00:00:00\",\"2021-08-01T00:00:00\",\"2021-09-01T00:00:00\",\"2021-10-01T00:00:00\",\"2021-11-01T00:00:00\",\"2021-12-01T00:00:00\",\"2022-01-01T00:00:00\",\"2022-02-01T00:00:00\",\"2022-03-01T00:00:00\",\"2022-04-01T00:00:00\",\"2022-05-01T00:00:00\",\"2022-06-01T00:00:00\",\"2022-07-01T00:00:00\"],\"xaxis\":\"x\",\"y\":[0.0,0.0,0.0,0.0,0.0,0.0,0.0,1.0,1.0,0.0,0.0,0.0,0.0,2.0,3.0,2.0,3.0,1.0,7.0,0.0,4.0,1.0,7.0,6.0,13.0,3.0,2.0,13.0,5.0,22.0,126.0,54.0,105.0,63.0,88.0,89.0,134.0,82.0,42.0,58.0,59.0,87.0,66.0,77.0,77.0,86.0,63.0,121.0,141.0,50.0,72.0,93.0,54.0,49.0,56.0],\"yaxis\":\"y\",\"type\":\"scatter\"},{\"hovertemplate\":\"keyword=\\ud540\\ud14c\\ud06c<br>Date=%{x}<br>value=%{y}<extra></extra>\",\"legendgroup\":\"\\ud540\\ud14c\\ud06c\",\"line\":{\"color\":\"#19d3f3\",\"dash\":\"solid\"},\"marker\":{\"symbol\":\"circle\"},\"mode\":\"lines\",\"name\":\"\\ud540\\ud14c\\ud06c\",\"orientation\":\"v\",\"showlegend\":true,\"x\":[\"2018-01-01T00:00:00\",\"2018-02-01T00:00:00\",\"2018-03-01T00:00:00\",\"2018-04-01T00:00:00\",\"2018-05-01T00:00:00\",\"2018-06-01T00:00:00\",\"2018-07-01T00:00:00\",\"2018-08-01T00:00:00\",\"2018-09-01T00:00:00\",\"2018-10-01T00:00:00\",\"2018-11-01T00:00:00\",\"2018-12-01T00:00:00\",\"2019-01-01T00:00:00\",\"2019-02-01T00:00:00\",\"2019-03-01T00:00:00\",\"2019-04-01T00:00:00\",\"2019-05-01T00:00:00\",\"2019-06-01T00:00:00\",\"2019-07-01T00:00:00\",\"2019-08-01T00:00:00\",\"2019-09-01T00:00:00\",\"2019-10-01T00:00:00\",\"2019-11-01T00:00:00\",\"2019-12-01T00:00:00\",\"2020-01-01T00:00:00\",\"2020-02-01T00:00:00\",\"2020-03-01T00:00:00\",\"2020-04-01T00:00:00\",\"2020-05-01T00:00:00\",\"2020-06-01T00:00:00\",\"2020-07-01T00:00:00\",\"2020-08-01T00:00:00\",\"2020-09-01T00:00:00\",\"2020-10-01T00:00:00\",\"2020-11-01T00:00:00\",\"2020-12-01T00:00:00\",\"2021-01-01T00:00:00\",\"2021-02-01T00:00:00\",\"2021-03-01T00:00:00\",\"2021-04-01T00:00:00\",\"2021-05-01T00:00:00\",\"2021-06-01T00:00:00\",\"2021-07-01T00:00:00\",\"2021-08-01T00:00:00\",\"2021-09-01T00:00:00\",\"2021-10-01T00:00:00\",\"2021-11-01T00:00:00\",\"2021-12-01T00:00:00\",\"2022-01-01T00:00:00\",\"2022-02-01T00:00:00\",\"2022-03-01T00:00:00\",\"2022-04-01T00:00:00\",\"2022-05-01T00:00:00\",\"2022-06-01T00:00:00\",\"2022-07-01T00:00:00\"],\"xaxis\":\"x\",\"y\":[71.0,45.0,85.0,95.0,56.0,52.0,73.0,58.0,67.0,120.0,88.0,34.0,103.0,165.0,148.0,193.0,231.0,147.0,174.0,81.0,142.0,124.0,161.0,139.0,97.0,106.0,70.0,92.0,125.0,100.0,170.0,73.0,176.0,139.0,154.0,170.0,148.0,120.0,119.0,139.0,151.0,162.0,132.0,111.0,113.0,97.0,114.0,151.0,120.0,67.0,107.0,131.0,103.0,99.0,90.0],\"yaxis\":\"y\",\"type\":\"scatter\"},{\"hovertemplate\":\"keyword=nft<br>Date=%{x}<br>value=%{y}<extra></extra>\",\"legendgroup\":\"nft\",\"line\":{\"color\":\"#FF6692\",\"dash\":\"solid\"},\"marker\":{\"symbol\":\"circle\"},\"mode\":\"lines\",\"name\":\"nft\",\"orientation\":\"v\",\"showlegend\":true,\"x\":[\"2018-01-01T00:00:00\",\"2018-02-01T00:00:00\",\"2018-03-01T00:00:00\",\"2018-04-01T00:00:00\",\"2018-05-01T00:00:00\",\"2018-06-01T00:00:00\",\"2018-07-01T00:00:00\",\"2018-08-01T00:00:00\",\"2018-09-01T00:00:00\",\"2018-10-01T00:00:00\",\"2018-11-01T00:00:00\",\"2018-12-01T00:00:00\",\"2019-01-01T00:00:00\",\"2019-02-01T00:00:00\",\"2019-03-01T00:00:00\",\"2019-04-01T00:00:00\",\"2019-05-01T00:00:00\",\"2019-06-01T00:00:00\",\"2019-07-01T00:00:00\",\"2019-08-01T00:00:00\",\"2019-09-01T00:00:00\",\"2019-10-01T00:00:00\",\"2019-11-01T00:00:00\",\"2019-12-01T00:00:00\",\"2020-01-01T00:00:00\",\"2020-02-01T00:00:00\",\"2020-03-01T00:00:00\",\"2020-04-01T00:00:00\",\"2020-05-01T00:00:00\",\"2020-06-01T00:00:00\",\"2020-07-01T00:00:00\",\"2020-08-01T00:00:00\",\"2020-09-01T00:00:00\",\"2020-10-01T00:00:00\",\"2020-11-01T00:00:00\",\"2020-12-01T00:00:00\",\"2021-01-01T00:00:00\",\"2021-02-01T00:00:00\",\"2021-03-01T00:00:00\",\"2021-04-01T00:00:00\",\"2021-05-01T00:00:00\",\"2021-06-01T00:00:00\",\"2021-07-01T00:00:00\",\"2021-08-01T00:00:00\",\"2021-09-01T00:00:00\",\"2021-10-01T00:00:00\",\"2021-11-01T00:00:00\",\"2021-12-01T00:00:00\",\"2022-01-01T00:00:00\",\"2022-02-01T00:00:00\",\"2022-03-01T00:00:00\",\"2022-04-01T00:00:00\",\"2022-05-01T00:00:00\",\"2022-06-01T00:00:00\",\"2022-07-01T00:00:00\"],\"xaxis\":\"x\",\"y\":[0.0,0.0,0.0,0.0,0.0,0.0,0.0,0.0,0.0,0.0,0.0,0.0,0.0,0.0,0.0,0.0,0.0,0.0,0.0,0.0,0.0,0.0,0.0,0.0,1.0,0.0,0.0,0.0,0.0,1.0,1.0,1.0,1.0,2.0,0.0,0.0,2.0,0.0,19.0,23.0,28.0,13.0,16.0,16.0,40.0,33.0,98.0,68.0,109.0,60.0,58.0,78.0,54.0,37.0,59.0],\"yaxis\":\"y\",\"type\":\"scatter\"},{\"hovertemplate\":\"keyword=esg<br>Date=%{x}<br>value=%{y}<extra></extra>\",\"legendgroup\":\"esg\",\"line\":{\"color\":\"#B6E880\",\"dash\":\"solid\"},\"marker\":{\"symbol\":\"circle\"},\"mode\":\"lines\",\"name\":\"esg\",\"orientation\":\"v\",\"showlegend\":true,\"x\":[\"2018-01-01T00:00:00\",\"2018-02-01T00:00:00\",\"2018-03-01T00:00:00\",\"2018-04-01T00:00:00\",\"2018-05-01T00:00:00\",\"2018-06-01T00:00:00\",\"2018-07-01T00:00:00\",\"2018-08-01T00:00:00\",\"2018-09-01T00:00:00\",\"2018-10-01T00:00:00\",\"2018-11-01T00:00:00\",\"2018-12-01T00:00:00\",\"2019-01-01T00:00:00\",\"2019-02-01T00:00:00\",\"2019-03-01T00:00:00\",\"2019-04-01T00:00:00\",\"2019-05-01T00:00:00\",\"2019-06-01T00:00:00\",\"2019-07-01T00:00:00\",\"2019-08-01T00:00:00\",\"2019-09-01T00:00:00\",\"2019-10-01T00:00:00\",\"2019-11-01T00:00:00\",\"2019-12-01T00:00:00\",\"2020-01-01T00:00:00\",\"2020-02-01T00:00:00\",\"2020-03-01T00:00:00\",\"2020-04-01T00:00:00\",\"2020-05-01T00:00:00\",\"2020-06-01T00:00:00\",\"2020-07-01T00:00:00\",\"2020-08-01T00:00:00\",\"2020-09-01T00:00:00\",\"2020-10-01T00:00:00\",\"2020-11-01T00:00:00\",\"2020-12-01T00:00:00\",\"2021-01-01T00:00:00\",\"2021-02-01T00:00:00\",\"2021-03-01T00:00:00\",\"2021-04-01T00:00:00\",\"2021-05-01T00:00:00\",\"2021-06-01T00:00:00\",\"2021-07-01T00:00:00\",\"2021-08-01T00:00:00\",\"2021-09-01T00:00:00\",\"2021-10-01T00:00:00\",\"2021-11-01T00:00:00\",\"2021-12-01T00:00:00\",\"2022-01-01T00:00:00\",\"2022-02-01T00:00:00\",\"2022-03-01T00:00:00\",\"2022-04-01T00:00:00\",\"2022-05-01T00:00:00\",\"2022-06-01T00:00:00\",\"2022-07-01T00:00:00\"],\"xaxis\":\"x\",\"y\":[0.0,0.0,0.0,0.0,0.0,0.0,0.0,0.0,0.0,0.0,1.0,0.0,0.0,0.0,0.0,8.0,0.0,0.0,5.0,0.0,10.0,0.0,4.0,6.0,10.0,4.0,1.0,0.0,9.0,8.0,12.0,10.0,23.0,5.0,18.0,55.0,123.0,52.0,99.0,74.0,53.0,56.0,119.0,59.0,51.0,56.0,59.0,82.0,155.0,57.0,89.0,54.0,52.0,40.0,77.0],\"yaxis\":\"y\",\"type\":\"scatter\"},{\"hovertemplate\":\"keyword=\\ub9c8\\uc774\\ub370\\uc774\\ud130<br>Date=%{x}<br>value=%{y}<extra></extra>\",\"legendgroup\":\"\\ub9c8\\uc774\\ub370\\uc774\\ud130\",\"line\":{\"color\":\"#FF97FF\",\"dash\":\"solid\"},\"marker\":{\"symbol\":\"circle\"},\"mode\":\"lines\",\"name\":\"\\ub9c8\\uc774\\ub370\\uc774\\ud130\",\"orientation\":\"v\",\"showlegend\":true,\"x\":[\"2018-01-01T00:00:00\",\"2018-02-01T00:00:00\",\"2018-03-01T00:00:00\",\"2018-04-01T00:00:00\",\"2018-05-01T00:00:00\",\"2018-06-01T00:00:00\",\"2018-07-01T00:00:00\",\"2018-08-01T00:00:00\",\"2018-09-01T00:00:00\",\"2018-10-01T00:00:00\",\"2018-11-01T00:00:00\",\"2018-12-01T00:00:00\",\"2019-01-01T00:00:00\",\"2019-02-01T00:00:00\",\"2019-03-01T00:00:00\",\"2019-04-01T00:00:00\",\"2019-05-01T00:00:00\",\"2019-06-01T00:00:00\",\"2019-07-01T00:00:00\",\"2019-08-01T00:00:00\",\"2019-09-01T00:00:00\",\"2019-10-01T00:00:00\",\"2019-11-01T00:00:00\",\"2019-12-01T00:00:00\",\"2020-01-01T00:00:00\",\"2020-02-01T00:00:00\",\"2020-03-01T00:00:00\",\"2020-04-01T00:00:00\",\"2020-05-01T00:00:00\",\"2020-06-01T00:00:00\",\"2020-07-01T00:00:00\",\"2020-08-01T00:00:00\",\"2020-09-01T00:00:00\",\"2020-10-01T00:00:00\",\"2020-11-01T00:00:00\",\"2020-12-01T00:00:00\",\"2021-01-01T00:00:00\",\"2021-02-01T00:00:00\",\"2021-03-01T00:00:00\",\"2021-04-01T00:00:00\",\"2021-05-01T00:00:00\",\"2021-06-01T00:00:00\",\"2021-07-01T00:00:00\",\"2021-08-01T00:00:00\",\"2021-09-01T00:00:00\",\"2021-10-01T00:00:00\",\"2021-11-01T00:00:00\",\"2021-12-01T00:00:00\",\"2022-01-01T00:00:00\",\"2022-02-01T00:00:00\",\"2022-03-01T00:00:00\",\"2022-04-01T00:00:00\",\"2022-05-01T00:00:00\",\"2022-06-01T00:00:00\",\"2022-07-01T00:00:00\"],\"xaxis\":\"x\",\"y\":[0.0,0.0,0.0,0.0,0.0,0.0,1.0,1.0,13.0,7.0,9.0,1.0,10.0,20.0,3.0,6.0,6.0,3.0,2.0,9.0,8.0,14.0,8.0,15.0,31.0,11.0,16.0,12.0,23.0,58.0,80.0,61.0,52.0,53.0,80.0,80.0,101.0,79.0,87.0,91.0,63.0,87.0,90.0,48.0,48.0,37.0,108.0,127.0,151.0,64.0,99.0,77.0,79.0,51.0,58.0],\"yaxis\":\"y\",\"type\":\"scatter\"},{\"hovertemplate\":\"keyword=mz<br>Date=%{x}<br>value=%{y}<extra></extra>\",\"legendgroup\":\"mz\",\"line\":{\"color\":\"#FECB52\",\"dash\":\"solid\"},\"marker\":{\"symbol\":\"circle\"},\"mode\":\"lines\",\"name\":\"mz\",\"orientation\":\"v\",\"showlegend\":true,\"x\":[\"2018-01-01T00:00:00\",\"2018-02-01T00:00:00\",\"2018-03-01T00:00:00\",\"2018-04-01T00:00:00\",\"2018-05-01T00:00:00\",\"2018-06-01T00:00:00\",\"2018-07-01T00:00:00\",\"2018-08-01T00:00:00\",\"2018-09-01T00:00:00\",\"2018-10-01T00:00:00\",\"2018-11-01T00:00:00\",\"2018-12-01T00:00:00\",\"2019-01-01T00:00:00\",\"2019-02-01T00:00:00\",\"2019-03-01T00:00:00\",\"2019-04-01T00:00:00\",\"2019-05-01T00:00:00\",\"2019-06-01T00:00:00\",\"2019-07-01T00:00:00\",\"2019-08-01T00:00:00\",\"2019-09-01T00:00:00\",\"2019-10-01T00:00:00\",\"2019-11-01T00:00:00\",\"2019-12-01T00:00:00\",\"2020-01-01T00:00:00\",\"2020-02-01T00:00:00\",\"2020-03-01T00:00:00\",\"2020-04-01T00:00:00\",\"2020-05-01T00:00:00\",\"2020-06-01T00:00:00\",\"2020-07-01T00:00:00\",\"2020-08-01T00:00:00\",\"2020-09-01T00:00:00\",\"2020-10-01T00:00:00\",\"2020-11-01T00:00:00\",\"2020-12-01T00:00:00\",\"2021-01-01T00:00:00\",\"2021-02-01T00:00:00\",\"2021-03-01T00:00:00\",\"2021-04-01T00:00:00\",\"2021-05-01T00:00:00\",\"2021-06-01T00:00:00\",\"2021-07-01T00:00:00\",\"2021-08-01T00:00:00\",\"2021-09-01T00:00:00\",\"2021-10-01T00:00:00\",\"2021-11-01T00:00:00\",\"2021-12-01T00:00:00\",\"2022-01-01T00:00:00\",\"2022-02-01T00:00:00\",\"2022-03-01T00:00:00\",\"2022-04-01T00:00:00\",\"2022-05-01T00:00:00\",\"2022-06-01T00:00:00\",\"2022-07-01T00:00:00\"],\"xaxis\":\"x\",\"y\":[0.0,0.0,0.0,0.0,0.0,0.0,0.0,0.0,0.0,0.0,0.0,0.0,0.0,0.0,0.0,0.0,0.0,0.0,0.0,0.0,0.0,0.0,1.0,0.0,0.0,0.0,1.0,0.0,1.0,0.0,0.0,2.0,0.0,2.0,2.0,5.0,3.0,2.0,8.0,11.0,17.0,15.0,40.0,45.0,26.0,24.0,29.0,31.0,27.0,18.0,31.0,21.0,23.0,17.0,15.0],\"yaxis\":\"y\",\"type\":\"scatter\"},{\"hovertemplate\":\"keyword=\\ucf54\\ub85c\\ub09819<br>Date=%{x}<br>value=%{y}<extra></extra>\",\"legendgroup\":\"\\ucf54\\ub85c\\ub09819\",\"line\":{\"color\":\"#636efa\",\"dash\":\"solid\"},\"marker\":{\"symbol\":\"circle\"},\"mode\":\"lines\",\"name\":\"\\ucf54\\ub85c\\ub09819\",\"orientation\":\"v\",\"showlegend\":true,\"x\":[\"2018-01-01T00:00:00\",\"2018-02-01T00:00:00\",\"2018-03-01T00:00:00\",\"2018-04-01T00:00:00\",\"2018-05-01T00:00:00\",\"2018-06-01T00:00:00\",\"2018-07-01T00:00:00\",\"2018-08-01T00:00:00\",\"2018-09-01T00:00:00\",\"2018-10-01T00:00:00\",\"2018-11-01T00:00:00\",\"2018-12-01T00:00:00\",\"2019-01-01T00:00:00\",\"2019-02-01T00:00:00\",\"2019-03-01T00:00:00\",\"2019-04-01T00:00:00\",\"2019-05-01T00:00:00\",\"2019-06-01T00:00:00\",\"2019-07-01T00:00:00\",\"2019-08-01T00:00:00\",\"2019-09-01T00:00:00\",\"2019-10-01T00:00:00\",\"2019-11-01T00:00:00\",\"2019-12-01T00:00:00\",\"2020-01-01T00:00:00\",\"2020-02-01T00:00:00\",\"2020-03-01T00:00:00\",\"2020-04-01T00:00:00\",\"2020-05-01T00:00:00\",\"2020-06-01T00:00:00\",\"2020-07-01T00:00:00\",\"2020-08-01T00:00:00\",\"2020-09-01T00:00:00\",\"2020-10-01T00:00:00\",\"2020-11-01T00:00:00\",\"2020-12-01T00:00:00\",\"2021-01-01T00:00:00\",\"2021-02-01T00:00:00\",\"2021-03-01T00:00:00\",\"2021-04-01T00:00:00\",\"2021-05-01T00:00:00\",\"2021-06-01T00:00:00\",\"2021-07-01T00:00:00\",\"2021-08-01T00:00:00\",\"2021-09-01T00:00:00\",\"2021-10-01T00:00:00\",\"2021-11-01T00:00:00\",\"2021-12-01T00:00:00\",\"2022-01-01T00:00:00\",\"2022-02-01T00:00:00\",\"2022-03-01T00:00:00\",\"2022-04-01T00:00:00\",\"2022-05-01T00:00:00\",\"2022-06-01T00:00:00\",\"2022-07-01T00:00:00\"],\"xaxis\":\"x\",\"y\":[0.0,0.0,0.0,0.0,0.0,0.0,0.0,0.0,0.0,0.0,0.0,0.0,0.0,0.0,0.0,0.0,0.0,0.0,0.0,0.0,0.0,0.0,0.0,0.0,0.0,45.0,209.0,413.0,480.0,495.0,470.0,286.0,448.0,327.0,351.0,493.0,487.0,290.0,323.0,189.0,189.0,182.0,240.0,212.0,198.0,164.0,159.0,213.0,317.0,144.0,181.0,122.0,99.0,66.0,105.0],\"yaxis\":\"y\",\"type\":\"scatter\"},{\"hovertemplate\":\"keyword=\\uac00\\uc0c1\\ud654\\ud3d0<br>Date=%{x}<br>value=%{y}<extra></extra>\",\"legendgroup\":\"\\uac00\\uc0c1\\ud654\\ud3d0\",\"line\":{\"color\":\"#EF553B\",\"dash\":\"solid\"},\"marker\":{\"symbol\":\"circle\"},\"mode\":\"lines\",\"name\":\"\\uac00\\uc0c1\\ud654\\ud3d0\",\"orientation\":\"v\",\"showlegend\":true,\"x\":[\"2018-01-01T00:00:00\",\"2018-02-01T00:00:00\",\"2018-03-01T00:00:00\",\"2018-04-01T00:00:00\",\"2018-05-01T00:00:00\",\"2018-06-01T00:00:00\",\"2018-07-01T00:00:00\",\"2018-08-01T00:00:00\",\"2018-09-01T00:00:00\",\"2018-10-01T00:00:00\",\"2018-11-01T00:00:00\",\"2018-12-01T00:00:00\",\"2019-01-01T00:00:00\",\"2019-02-01T00:00:00\",\"2019-03-01T00:00:00\",\"2019-04-01T00:00:00\",\"2019-05-01T00:00:00\",\"2019-06-01T00:00:00\",\"2019-07-01T00:00:00\",\"2019-08-01T00:00:00\",\"2019-09-01T00:00:00\",\"2019-10-01T00:00:00\",\"2019-11-01T00:00:00\",\"2019-12-01T00:00:00\",\"2020-01-01T00:00:00\",\"2020-02-01T00:00:00\",\"2020-03-01T00:00:00\",\"2020-04-01T00:00:00\",\"2020-05-01T00:00:00\",\"2020-06-01T00:00:00\",\"2020-07-01T00:00:00\",\"2020-08-01T00:00:00\",\"2020-09-01T00:00:00\",\"2020-10-01T00:00:00\",\"2020-11-01T00:00:00\",\"2020-12-01T00:00:00\",\"2021-01-01T00:00:00\",\"2021-02-01T00:00:00\",\"2021-03-01T00:00:00\",\"2021-04-01T00:00:00\",\"2021-05-01T00:00:00\",\"2021-06-01T00:00:00\",\"2021-07-01T00:00:00\",\"2021-08-01T00:00:00\",\"2021-09-01T00:00:00\",\"2021-10-01T00:00:00\",\"2021-11-01T00:00:00\",\"2021-12-01T00:00:00\",\"2022-01-01T00:00:00\",\"2022-02-01T00:00:00\",\"2022-03-01T00:00:00\",\"2022-04-01T00:00:00\",\"2022-05-01T00:00:00\",\"2022-06-01T00:00:00\",\"2022-07-01T00:00:00\"],\"xaxis\":\"x\",\"y\":[145.0,48.0,37.0,21.0,16.0,10.0,8.0,12.0,20.0,10.0,10.0,5.0,12.0,5.0,6.0,8.0,4.0,12.0,23.0,13.0,11.0,19.0,9.0,9.0,8.0,9.0,10.0,20.0,5.0,2.0,3.0,8.0,0.0,6.0,16.0,24.0,27.0,60.0,34.0,74.0,121.0,65.0,52.0,33.0,41.0,38.0,33.0,15.0,29.0,14.0,40.0,21.0,91.0,48.0,14.0],\"yaxis\":\"y\",\"type\":\"scatter\"},{\"hovertemplate\":\"keyword=\\uacf5\\uc778\\uc778\\uc99d\\uc11c<br>Date=%{x}<br>value=%{y}<extra></extra>\",\"legendgroup\":\"\\uacf5\\uc778\\uc778\\uc99d\\uc11c\",\"line\":{\"color\":\"#00cc96\",\"dash\":\"solid\"},\"marker\":{\"symbol\":\"circle\"},\"mode\":\"lines\",\"name\":\"\\uacf5\\uc778\\uc778\\uc99d\\uc11c\",\"orientation\":\"v\",\"showlegend\":true,\"x\":[\"2018-01-01T00:00:00\",\"2018-02-01T00:00:00\",\"2018-03-01T00:00:00\",\"2018-04-01T00:00:00\",\"2018-05-01T00:00:00\",\"2018-06-01T00:00:00\",\"2018-07-01T00:00:00\",\"2018-08-01T00:00:00\",\"2018-09-01T00:00:00\",\"2018-10-01T00:00:00\",\"2018-11-01T00:00:00\",\"2018-12-01T00:00:00\",\"2019-01-01T00:00:00\",\"2019-02-01T00:00:00\",\"2019-03-01T00:00:00\",\"2019-04-01T00:00:00\",\"2019-05-01T00:00:00\",\"2019-06-01T00:00:00\",\"2019-07-01T00:00:00\",\"2019-08-01T00:00:00\",\"2019-09-01T00:00:00\",\"2019-10-01T00:00:00\",\"2019-11-01T00:00:00\",\"2019-12-01T00:00:00\",\"2020-01-01T00:00:00\",\"2020-02-01T00:00:00\",\"2020-03-01T00:00:00\",\"2020-04-01T00:00:00\",\"2020-05-01T00:00:00\",\"2020-06-01T00:00:00\",\"2020-07-01T00:00:00\",\"2020-08-01T00:00:00\",\"2020-09-01T00:00:00\",\"2020-10-01T00:00:00\",\"2020-11-01T00:00:00\",\"2020-12-01T00:00:00\",\"2021-01-01T00:00:00\",\"2021-02-01T00:00:00\",\"2021-03-01T00:00:00\",\"2021-04-01T00:00:00\",\"2021-05-01T00:00:00\",\"2021-06-01T00:00:00\",\"2021-07-01T00:00:00\",\"2021-08-01T00:00:00\",\"2021-09-01T00:00:00\",\"2021-10-01T00:00:00\",\"2021-11-01T00:00:00\",\"2021-12-01T00:00:00\",\"2022-01-01T00:00:00\",\"2022-02-01T00:00:00\",\"2022-03-01T00:00:00\",\"2022-04-01T00:00:00\",\"2022-05-01T00:00:00\",\"2022-06-01T00:00:00\",\"2022-07-01T00:00:00\"],\"xaxis\":\"x\",\"y\":[9.0,15.0,6.0,29.0,18.0,10.0,5.0,2.0,4.0,4.0,7.0,2.0,3.0,4.0,10.0,9.0,9.0,9.0,9.0,7.0,15.0,8.0,20.0,9.0,4.0,2.0,4.0,10.0,13.0,14.0,31.0,3.0,8.0,7.0,9.0,27.0,6.0,12.0,3.0,8.0,0.0,1.0,1.0,1.0,0.0,2.0,1.0,6.0,0.0,0.0,3.0,0.0,0.0,1.0,0.0],\"yaxis\":\"y\",\"type\":\"scatter\"},{\"hovertemplate\":\"keyword=\\uc624\\ud508\\ubc45\\ud0b9<br>Date=%{x}<br>value=%{y}<extra></extra>\",\"legendgroup\":\"\\uc624\\ud508\\ubc45\\ud0b9\",\"line\":{\"color\":\"#ab63fa\",\"dash\":\"solid\"},\"marker\":{\"symbol\":\"circle\"},\"mode\":\"lines\",\"name\":\"\\uc624\\ud508\\ubc45\\ud0b9\",\"orientation\":\"v\",\"showlegend\":true,\"x\":[\"2018-01-01T00:00:00\",\"2018-02-01T00:00:00\",\"2018-03-01T00:00:00\",\"2018-04-01T00:00:00\",\"2018-05-01T00:00:00\",\"2018-06-01T00:00:00\",\"2018-07-01T00:00:00\",\"2018-08-01T00:00:00\",\"2018-09-01T00:00:00\",\"2018-10-01T00:00:00\",\"2018-11-01T00:00:00\",\"2018-12-01T00:00:00\",\"2019-01-01T00:00:00\",\"2019-02-01T00:00:00\",\"2019-03-01T00:00:00\",\"2019-04-01T00:00:00\",\"2019-05-01T00:00:00\",\"2019-06-01T00:00:00\",\"2019-07-01T00:00:00\",\"2019-08-01T00:00:00\",\"2019-09-01T00:00:00\",\"2019-10-01T00:00:00\",\"2019-11-01T00:00:00\",\"2019-12-01T00:00:00\",\"2020-01-01T00:00:00\",\"2020-02-01T00:00:00\",\"2020-03-01T00:00:00\",\"2020-04-01T00:00:00\",\"2020-05-01T00:00:00\",\"2020-06-01T00:00:00\",\"2020-07-01T00:00:00\",\"2020-08-01T00:00:00\",\"2020-09-01T00:00:00\",\"2020-10-01T00:00:00\",\"2020-11-01T00:00:00\",\"2020-12-01T00:00:00\",\"2021-01-01T00:00:00\",\"2021-02-01T00:00:00\",\"2021-03-01T00:00:00\",\"2021-04-01T00:00:00\",\"2021-05-01T00:00:00\",\"2021-06-01T00:00:00\",\"2021-07-01T00:00:00\",\"2021-08-01T00:00:00\",\"2021-09-01T00:00:00\",\"2021-10-01T00:00:00\",\"2021-11-01T00:00:00\",\"2021-12-01T00:00:00\",\"2022-01-01T00:00:00\",\"2022-02-01T00:00:00\",\"2022-03-01T00:00:00\",\"2022-04-01T00:00:00\",\"2022-05-01T00:00:00\",\"2022-06-01T00:00:00\",\"2022-07-01T00:00:00\"],\"xaxis\":\"x\",\"y\":[0.0,0.0,1.0,0.0,0.0,0.0,0.0,1.0,0.0,0.0,0.0,0.0,1.0,11.0,2.0,6.0,4.0,11.0,8.0,3.0,7.0,35.0,31.0,29.0,23.0,16.0,8.0,8.0,8.0,11.0,37.0,13.0,6.0,38.0,15.0,25.0,13.0,15.0,17.0,33.0,21.0,17.0,3.0,2.0,4.0,2.0,10.0,18.0,10.0,4.0,6.0,7.0,14.0,6.0,11.0],\"yaxis\":\"y\",\"type\":\"scatter\"},{\"hovertemplate\":\"keyword=\\uc778\\uacf5\\uc9c0\\ub2a5<br>Date=%{x}<br>value=%{y}<extra></extra>\",\"legendgroup\":\"\\uc778\\uacf5\\uc9c0\\ub2a5\",\"line\":{\"color\":\"#FFA15A\",\"dash\":\"solid\"},\"marker\":{\"symbol\":\"circle\"},\"mode\":\"lines\",\"name\":\"\\uc778\\uacf5\\uc9c0\\ub2a5\",\"orientation\":\"v\",\"showlegend\":true,\"x\":[\"2018-01-01T00:00:00\",\"2018-02-01T00:00:00\",\"2018-03-01T00:00:00\",\"2018-04-01T00:00:00\",\"2018-05-01T00:00:00\",\"2018-06-01T00:00:00\",\"2018-07-01T00:00:00\",\"2018-08-01T00:00:00\",\"2018-09-01T00:00:00\",\"2018-10-01T00:00:00\",\"2018-11-01T00:00:00\",\"2018-12-01T00:00:00\",\"2019-01-01T00:00:00\",\"2019-02-01T00:00:00\",\"2019-03-01T00:00:00\",\"2019-04-01T00:00:00\",\"2019-05-01T00:00:00\",\"2019-06-01T00:00:00\",\"2019-07-01T00:00:00\",\"2019-08-01T00:00:00\",\"2019-09-01T00:00:00\",\"2019-10-01T00:00:00\",\"2019-11-01T00:00:00\",\"2019-12-01T00:00:00\",\"2020-01-01T00:00:00\",\"2020-02-01T00:00:00\",\"2020-03-01T00:00:00\",\"2020-04-01T00:00:00\",\"2020-05-01T00:00:00\",\"2020-06-01T00:00:00\",\"2020-07-01T00:00:00\",\"2020-08-01T00:00:00\",\"2020-09-01T00:00:00\",\"2020-10-01T00:00:00\",\"2020-11-01T00:00:00\",\"2020-12-01T00:00:00\",\"2021-01-01T00:00:00\",\"2021-02-01T00:00:00\",\"2021-03-01T00:00:00\",\"2021-04-01T00:00:00\",\"2021-05-01T00:00:00\",\"2021-06-01T00:00:00\",\"2021-07-01T00:00:00\",\"2021-08-01T00:00:00\",\"2021-09-01T00:00:00\",\"2021-10-01T00:00:00\",\"2021-11-01T00:00:00\",\"2021-12-01T00:00:00\",\"2022-01-01T00:00:00\",\"2022-02-01T00:00:00\",\"2022-03-01T00:00:00\",\"2022-04-01T00:00:00\",\"2022-05-01T00:00:00\",\"2022-06-01T00:00:00\",\"2022-07-01T00:00:00\"],\"xaxis\":\"x\",\"y\":[52.0,55.0,58.0,41.0,35.0,30.0,51.0,28.0,42.0,40.0,55.0,17.0,51.0,36.0,41.0,65.0,43.0,50.0,54.0,32.0,58.0,79.0,72.0,43.0,48.0,28.0,55.0,46.0,60.0,115.0,104.0,88.0,86.0,94.0,93.0,79.0,79.0,69.0,70.0,104.0,89.0,93.0,75.0,58.0,48.0,57.0,73.0,97.0,65.0,53.0,66.0,57.0,59.0,47.0,72.0],\"yaxis\":\"y\",\"type\":\"scatter\"},{\"hovertemplate\":\"keyword=\\ub514\\uc9c0\\ud138\\uc790\\uc0b0<br>Date=%{x}<br>value=%{y}<extra></extra>\",\"legendgroup\":\"\\ub514\\uc9c0\\ud138\\uc790\\uc0b0\",\"line\":{\"color\":\"#19d3f3\",\"dash\":\"solid\"},\"marker\":{\"symbol\":\"circle\"},\"mode\":\"lines\",\"name\":\"\\ub514\\uc9c0\\ud138\\uc790\\uc0b0\",\"orientation\":\"v\",\"showlegend\":true,\"x\":[\"2018-01-01T00:00:00\",\"2018-02-01T00:00:00\",\"2018-03-01T00:00:00\",\"2018-04-01T00:00:00\",\"2018-05-01T00:00:00\",\"2018-06-01T00:00:00\",\"2018-07-01T00:00:00\",\"2018-08-01T00:00:00\",\"2018-09-01T00:00:00\",\"2018-10-01T00:00:00\",\"2018-11-01T00:00:00\",\"2018-12-01T00:00:00\",\"2019-01-01T00:00:00\",\"2019-02-01T00:00:00\",\"2019-03-01T00:00:00\",\"2019-04-01T00:00:00\",\"2019-05-01T00:00:00\",\"2019-06-01T00:00:00\",\"2019-07-01T00:00:00\",\"2019-08-01T00:00:00\",\"2019-09-01T00:00:00\",\"2019-10-01T00:00:00\",\"2019-11-01T00:00:00\",\"2019-12-01T00:00:00\",\"2020-01-01T00:00:00\",\"2020-02-01T00:00:00\",\"2020-03-01T00:00:00\",\"2020-04-01T00:00:00\",\"2020-05-01T00:00:00\",\"2020-06-01T00:00:00\",\"2020-07-01T00:00:00\",\"2020-08-01T00:00:00\",\"2020-09-01T00:00:00\",\"2020-10-01T00:00:00\",\"2020-11-01T00:00:00\",\"2020-12-01T00:00:00\",\"2021-01-01T00:00:00\",\"2021-02-01T00:00:00\",\"2021-03-01T00:00:00\",\"2021-04-01T00:00:00\",\"2021-05-01T00:00:00\",\"2021-06-01T00:00:00\",\"2021-07-01T00:00:00\",\"2021-08-01T00:00:00\",\"2021-09-01T00:00:00\",\"2021-10-01T00:00:00\",\"2021-11-01T00:00:00\",\"2021-12-01T00:00:00\",\"2022-01-01T00:00:00\",\"2022-02-01T00:00:00\",\"2022-03-01T00:00:00\",\"2022-04-01T00:00:00\",\"2022-05-01T00:00:00\",\"2022-06-01T00:00:00\",\"2022-07-01T00:00:00\"],\"xaxis\":\"x\",\"y\":[2.0,4.0,0.0,0.0,0.0,0.0,0.0,0.0,0.0,1.0,0.0,0.0,2.0,2.0,2.0,4.0,2.0,0.0,0.0,1.0,0.0,2.0,2.0,0.0,3.0,3.0,1.0,2.0,0.0,5.0,3.0,5.0,2.0,2.0,16.0,3.0,12.0,10.0,5.0,5.0,11.0,0.0,20.0,4.0,9.0,4.0,10.0,3.0,14.0,0.0,22.0,50.0,29.0,32.0,16.0],\"yaxis\":\"y\",\"type\":\"scatter\"},{\"hovertemplate\":\"keyword=\\uc554\\ud638\\ud654\\ud3d0<br>Date=%{x}<br>value=%{y}<extra></extra>\",\"legendgroup\":\"\\uc554\\ud638\\ud654\\ud3d0\",\"line\":{\"color\":\"#FF6692\",\"dash\":\"solid\"},\"marker\":{\"symbol\":\"circle\"},\"mode\":\"lines\",\"name\":\"\\uc554\\ud638\\ud654\\ud3d0\",\"orientation\":\"v\",\"showlegend\":true,\"x\":[\"2018-01-01T00:00:00\",\"2018-02-01T00:00:00\",\"2018-03-01T00:00:00\",\"2018-04-01T00:00:00\",\"2018-05-01T00:00:00\",\"2018-06-01T00:00:00\",\"2018-07-01T00:00:00\",\"2018-08-01T00:00:00\",\"2018-09-01T00:00:00\",\"2018-10-01T00:00:00\",\"2018-11-01T00:00:00\",\"2018-12-01T00:00:00\",\"2019-01-01T00:00:00\",\"2019-02-01T00:00:00\",\"2019-03-01T00:00:00\",\"2019-04-01T00:00:00\",\"2019-05-01T00:00:00\",\"2019-06-01T00:00:00\",\"2019-07-01T00:00:00\",\"2019-08-01T00:00:00\",\"2019-09-01T00:00:00\",\"2019-10-01T00:00:00\",\"2019-11-01T00:00:00\",\"2019-12-01T00:00:00\",\"2020-01-01T00:00:00\",\"2020-02-01T00:00:00\",\"2020-03-01T00:00:00\",\"2020-04-01T00:00:00\",\"2020-05-01T00:00:00\",\"2020-06-01T00:00:00\",\"2020-07-01T00:00:00\",\"2020-08-01T00:00:00\",\"2020-09-01T00:00:00\",\"2020-10-01T00:00:00\",\"2020-11-01T00:00:00\",\"2020-12-01T00:00:00\",\"2021-01-01T00:00:00\",\"2021-02-01T00:00:00\",\"2021-03-01T00:00:00\",\"2021-04-01T00:00:00\",\"2021-05-01T00:00:00\",\"2021-06-01T00:00:00\",\"2021-07-01T00:00:00\",\"2021-08-01T00:00:00\",\"2021-09-01T00:00:00\",\"2021-10-01T00:00:00\",\"2021-11-01T00:00:00\",\"2021-12-01T00:00:00\",\"2022-01-01T00:00:00\",\"2022-02-01T00:00:00\",\"2022-03-01T00:00:00\",\"2022-04-01T00:00:00\",\"2022-05-01T00:00:00\",\"2022-06-01T00:00:00\",\"2022-07-01T00:00:00\"],\"xaxis\":\"x\",\"y\":[46.0,28.0,39.0,53.0,29.0,29.0,30.0,24.0,34.0,62.0,55.0,17.0,53.0,30.0,48.0,32.0,37.0,52.0,73.0,42.0,60.0,76.0,43.0,46.0,38.0,24.0,22.0,22.0,23.0,19.0,19.0,6.0,18.0,13.0,17.0,33.0,21.0,88.0,64.0,98.0,129.0,57.0,48.0,31.0,37.0,39.0,43.0,24.0,43.0,29.0,62.0,40.0,71.0,47.0,30.0],\"yaxis\":\"y\",\"type\":\"scatter\"},{\"hovertemplate\":\"keyword=\\uacf5\\ub3d9\\uc778\\uc99d\\uc11c<br>Date=%{x}<br>value=%{y}<extra></extra>\",\"legendgroup\":\"\\uacf5\\ub3d9\\uc778\\uc99d\\uc11c\",\"line\":{\"color\":\"#B6E880\",\"dash\":\"solid\"},\"marker\":{\"symbol\":\"circle\"},\"mode\":\"lines\",\"name\":\"\\uacf5\\ub3d9\\uc778\\uc99d\\uc11c\",\"orientation\":\"v\",\"showlegend\":true,\"x\":[\"2018-01-01T00:00:00\",\"2018-02-01T00:00:00\",\"2018-03-01T00:00:00\",\"2018-04-01T00:00:00\",\"2018-05-01T00:00:00\",\"2018-06-01T00:00:00\",\"2018-07-01T00:00:00\",\"2018-08-01T00:00:00\",\"2018-09-01T00:00:00\",\"2018-10-01T00:00:00\",\"2018-11-01T00:00:00\",\"2018-12-01T00:00:00\",\"2019-01-01T00:00:00\",\"2019-02-01T00:00:00\",\"2019-03-01T00:00:00\",\"2019-04-01T00:00:00\",\"2019-05-01T00:00:00\",\"2019-06-01T00:00:00\",\"2019-07-01T00:00:00\",\"2019-08-01T00:00:00\",\"2019-09-01T00:00:00\",\"2019-10-01T00:00:00\",\"2019-11-01T00:00:00\",\"2019-12-01T00:00:00\",\"2020-01-01T00:00:00\",\"2020-02-01T00:00:00\",\"2020-03-01T00:00:00\",\"2020-04-01T00:00:00\",\"2020-05-01T00:00:00\",\"2020-06-01T00:00:00\",\"2020-07-01T00:00:00\",\"2020-08-01T00:00:00\",\"2020-09-01T00:00:00\",\"2020-10-01T00:00:00\",\"2020-11-01T00:00:00\",\"2020-12-01T00:00:00\",\"2021-01-01T00:00:00\",\"2021-02-01T00:00:00\",\"2021-03-01T00:00:00\",\"2021-04-01T00:00:00\",\"2021-05-01T00:00:00\",\"2021-06-01T00:00:00\",\"2021-07-01T00:00:00\",\"2021-08-01T00:00:00\",\"2021-09-01T00:00:00\",\"2021-10-01T00:00:00\",\"2021-11-01T00:00:00\",\"2021-12-01T00:00:00\",\"2022-01-01T00:00:00\",\"2022-02-01T00:00:00\",\"2022-03-01T00:00:00\",\"2022-04-01T00:00:00\",\"2022-05-01T00:00:00\",\"2022-06-01T00:00:00\",\"2022-07-01T00:00:00\"],\"xaxis\":\"x\",\"y\":[0.0,0.0,0.0,0.0,0.0,0.0,0.0,5.0,0.0,0.0,0.0,0.0,0.0,0.0,0.0,0.0,0.0,0.0,0.0,0.0,0.0,0.0,0.0,0.0,0.0,0.0,0.0,0.0,0.0,0.0,0.0,0.0,0.0,1.0,1.0,4.0,0.0,9.0,0.0,2.0,0.0,1.0,3.0,1.0,1.0,4.0,1.0,0.0,0.0,1.0,1.0,4.0,8.0,1.0,0.0],\"yaxis\":\"y\",\"type\":\"scatter\"}],                        {\"template\":{\"data\":{\"bar\":[{\"error_x\":{\"color\":\"#2a3f5f\"},\"error_y\":{\"color\":\"#2a3f5f\"},\"marker\":{\"line\":{\"color\":\"#E5ECF6\",\"width\":0.5},\"pattern\":{\"fillmode\":\"overlay\",\"size\":10,\"solidity\":0.2}},\"type\":\"bar\"}],\"barpolar\":[{\"marker\":{\"line\":{\"color\":\"#E5ECF6\",\"width\":0.5},\"pattern\":{\"fillmode\":\"overlay\",\"size\":10,\"solidity\":0.2}},\"type\":\"barpolar\"}],\"carpet\":[{\"aaxis\":{\"endlinecolor\":\"#2a3f5f\",\"gridcolor\":\"white\",\"linecolor\":\"white\",\"minorgridcolor\":\"white\",\"startlinecolor\":\"#2a3f5f\"},\"baxis\":{\"endlinecolor\":\"#2a3f5f\",\"gridcolor\":\"white\",\"linecolor\":\"white\",\"minorgridcolor\":\"white\",\"startlinecolor\":\"#2a3f5f\"},\"type\":\"carpet\"}],\"choropleth\":[{\"colorbar\":{\"outlinewidth\":0,\"ticks\":\"\"},\"type\":\"choropleth\"}],\"contour\":[{\"colorbar\":{\"outlinewidth\":0,\"ticks\":\"\"},\"colorscale\":[[0.0,\"#0d0887\"],[0.1111111111111111,\"#46039f\"],[0.2222222222222222,\"#7201a8\"],[0.3333333333333333,\"#9c179e\"],[0.4444444444444444,\"#bd3786\"],[0.5555555555555556,\"#d8576b\"],[0.6666666666666666,\"#ed7953\"],[0.7777777777777778,\"#fb9f3a\"],[0.8888888888888888,\"#fdca26\"],[1.0,\"#f0f921\"]],\"type\":\"contour\"}],\"contourcarpet\":[{\"colorbar\":{\"outlinewidth\":0,\"ticks\":\"\"},\"type\":\"contourcarpet\"}],\"heatmap\":[{\"colorbar\":{\"outlinewidth\":0,\"ticks\":\"\"},\"colorscale\":[[0.0,\"#0d0887\"],[0.1111111111111111,\"#46039f\"],[0.2222222222222222,\"#7201a8\"],[0.3333333333333333,\"#9c179e\"],[0.4444444444444444,\"#bd3786\"],[0.5555555555555556,\"#d8576b\"],[0.6666666666666666,\"#ed7953\"],[0.7777777777777778,\"#fb9f3a\"],[0.8888888888888888,\"#fdca26\"],[1.0,\"#f0f921\"]],\"type\":\"heatmap\"}],\"heatmapgl\":[{\"colorbar\":{\"outlinewidth\":0,\"ticks\":\"\"},\"colorscale\":[[0.0,\"#0d0887\"],[0.1111111111111111,\"#46039f\"],[0.2222222222222222,\"#7201a8\"],[0.3333333333333333,\"#9c179e\"],[0.4444444444444444,\"#bd3786\"],[0.5555555555555556,\"#d8576b\"],[0.6666666666666666,\"#ed7953\"],[0.7777777777777778,\"#fb9f3a\"],[0.8888888888888888,\"#fdca26\"],[1.0,\"#f0f921\"]],\"type\":\"heatmapgl\"}],\"histogram\":[{\"marker\":{\"pattern\":{\"fillmode\":\"overlay\",\"size\":10,\"solidity\":0.2}},\"type\":\"histogram\"}],\"histogram2d\":[{\"colorbar\":{\"outlinewidth\":0,\"ticks\":\"\"},\"colorscale\":[[0.0,\"#0d0887\"],[0.1111111111111111,\"#46039f\"],[0.2222222222222222,\"#7201a8\"],[0.3333333333333333,\"#9c179e\"],[0.4444444444444444,\"#bd3786\"],[0.5555555555555556,\"#d8576b\"],[0.6666666666666666,\"#ed7953\"],[0.7777777777777778,\"#fb9f3a\"],[0.8888888888888888,\"#fdca26\"],[1.0,\"#f0f921\"]],\"type\":\"histogram2d\"}],\"histogram2dcontour\":[{\"colorbar\":{\"outlinewidth\":0,\"ticks\":\"\"},\"colorscale\":[[0.0,\"#0d0887\"],[0.1111111111111111,\"#46039f\"],[0.2222222222222222,\"#7201a8\"],[0.3333333333333333,\"#9c179e\"],[0.4444444444444444,\"#bd3786\"],[0.5555555555555556,\"#d8576b\"],[0.6666666666666666,\"#ed7953\"],[0.7777777777777778,\"#fb9f3a\"],[0.8888888888888888,\"#fdca26\"],[1.0,\"#f0f921\"]],\"type\":\"histogram2dcontour\"}],\"mesh3d\":[{\"colorbar\":{\"outlinewidth\":0,\"ticks\":\"\"},\"type\":\"mesh3d\"}],\"parcoords\":[{\"line\":{\"colorbar\":{\"outlinewidth\":0,\"ticks\":\"\"}},\"type\":\"parcoords\"}],\"pie\":[{\"automargin\":true,\"type\":\"pie\"}],\"scatter\":[{\"marker\":{\"colorbar\":{\"outlinewidth\":0,\"ticks\":\"\"}},\"type\":\"scatter\"}],\"scatter3d\":[{\"line\":{\"colorbar\":{\"outlinewidth\":0,\"ticks\":\"\"}},\"marker\":{\"colorbar\":{\"outlinewidth\":0,\"ticks\":\"\"}},\"type\":\"scatter3d\"}],\"scattercarpet\":[{\"marker\":{\"colorbar\":{\"outlinewidth\":0,\"ticks\":\"\"}},\"type\":\"scattercarpet\"}],\"scattergeo\":[{\"marker\":{\"colorbar\":{\"outlinewidth\":0,\"ticks\":\"\"}},\"type\":\"scattergeo\"}],\"scattergl\":[{\"marker\":{\"colorbar\":{\"outlinewidth\":0,\"ticks\":\"\"}},\"type\":\"scattergl\"}],\"scattermapbox\":[{\"marker\":{\"colorbar\":{\"outlinewidth\":0,\"ticks\":\"\"}},\"type\":\"scattermapbox\"}],\"scatterpolar\":[{\"marker\":{\"colorbar\":{\"outlinewidth\":0,\"ticks\":\"\"}},\"type\":\"scatterpolar\"}],\"scatterpolargl\":[{\"marker\":{\"colorbar\":{\"outlinewidth\":0,\"ticks\":\"\"}},\"type\":\"scatterpolargl\"}],\"scatterternary\":[{\"marker\":{\"colorbar\":{\"outlinewidth\":0,\"ticks\":\"\"}},\"type\":\"scatterternary\"}],\"surface\":[{\"colorbar\":{\"outlinewidth\":0,\"ticks\":\"\"},\"colorscale\":[[0.0,\"#0d0887\"],[0.1111111111111111,\"#46039f\"],[0.2222222222222222,\"#7201a8\"],[0.3333333333333333,\"#9c179e\"],[0.4444444444444444,\"#bd3786\"],[0.5555555555555556,\"#d8576b\"],[0.6666666666666666,\"#ed7953\"],[0.7777777777777778,\"#fb9f3a\"],[0.8888888888888888,\"#fdca26\"],[1.0,\"#f0f921\"]],\"type\":\"surface\"}],\"table\":[{\"cells\":{\"fill\":{\"color\":\"#EBF0F8\"},\"line\":{\"color\":\"white\"}},\"header\":{\"fill\":{\"color\":\"#C8D4E3\"},\"line\":{\"color\":\"white\"}},\"type\":\"table\"}]},\"layout\":{\"annotationdefaults\":{\"arrowcolor\":\"#2a3f5f\",\"arrowhead\":0,\"arrowwidth\":1},\"autotypenumbers\":\"strict\",\"coloraxis\":{\"colorbar\":{\"outlinewidth\":0,\"ticks\":\"\"}},\"colorscale\":{\"diverging\":[[0,\"#8e0152\"],[0.1,\"#c51b7d\"],[0.2,\"#de77ae\"],[0.3,\"#f1b6da\"],[0.4,\"#fde0ef\"],[0.5,\"#f7f7f7\"],[0.6,\"#e6f5d0\"],[0.7,\"#b8e186\"],[0.8,\"#7fbc41\"],[0.9,\"#4d9221\"],[1,\"#276419\"]],\"sequential\":[[0.0,\"#0d0887\"],[0.1111111111111111,\"#46039f\"],[0.2222222222222222,\"#7201a8\"],[0.3333333333333333,\"#9c179e\"],[0.4444444444444444,\"#bd3786\"],[0.5555555555555556,\"#d8576b\"],[0.6666666666666666,\"#ed7953\"],[0.7777777777777778,\"#fb9f3a\"],[0.8888888888888888,\"#fdca26\"],[1.0,\"#f0f921\"]],\"sequentialminus\":[[0.0,\"#0d0887\"],[0.1111111111111111,\"#46039f\"],[0.2222222222222222,\"#7201a8\"],[0.3333333333333333,\"#9c179e\"],[0.4444444444444444,\"#bd3786\"],[0.5555555555555556,\"#d8576b\"],[0.6666666666666666,\"#ed7953\"],[0.7777777777777778,\"#fb9f3a\"],[0.8888888888888888,\"#fdca26\"],[1.0,\"#f0f921\"]]},\"colorway\":[\"#636efa\",\"#EF553B\",\"#00cc96\",\"#ab63fa\",\"#FFA15A\",\"#19d3f3\",\"#FF6692\",\"#B6E880\",\"#FF97FF\",\"#FECB52\"],\"font\":{\"color\":\"#2a3f5f\"},\"geo\":{\"bgcolor\":\"white\",\"lakecolor\":\"white\",\"landcolor\":\"#E5ECF6\",\"showlakes\":true,\"showland\":true,\"subunitcolor\":\"white\"},\"hoverlabel\":{\"align\":\"left\"},\"hovermode\":\"closest\",\"mapbox\":{\"style\":\"light\"},\"paper_bgcolor\":\"white\",\"plot_bgcolor\":\"#E5ECF6\",\"polar\":{\"angularaxis\":{\"gridcolor\":\"white\",\"linecolor\":\"white\",\"ticks\":\"\"},\"bgcolor\":\"#E5ECF6\",\"radialaxis\":{\"gridcolor\":\"white\",\"linecolor\":\"white\",\"ticks\":\"\"}},\"scene\":{\"xaxis\":{\"backgroundcolor\":\"#E5ECF6\",\"gridcolor\":\"white\",\"gridwidth\":2,\"linecolor\":\"white\",\"showbackground\":true,\"ticks\":\"\",\"zerolinecolor\":\"white\"},\"yaxis\":{\"backgroundcolor\":\"#E5ECF6\",\"gridcolor\":\"white\",\"gridwidth\":2,\"linecolor\":\"white\",\"showbackground\":true,\"ticks\":\"\",\"zerolinecolor\":\"white\"},\"zaxis\":{\"backgroundcolor\":\"#E5ECF6\",\"gridcolor\":\"white\",\"gridwidth\":2,\"linecolor\":\"white\",\"showbackground\":true,\"ticks\":\"\",\"zerolinecolor\":\"white\"}},\"shapedefaults\":{\"line\":{\"color\":\"#2a3f5f\"}},\"ternary\":{\"aaxis\":{\"gridcolor\":\"white\",\"linecolor\":\"white\",\"ticks\":\"\"},\"baxis\":{\"gridcolor\":\"white\",\"linecolor\":\"white\",\"ticks\":\"\"},\"bgcolor\":\"#E5ECF6\",\"caxis\":{\"gridcolor\":\"white\",\"linecolor\":\"white\",\"ticks\":\"\"}},\"title\":{\"x\":0.05},\"xaxis\":{\"automargin\":true,\"gridcolor\":\"white\",\"linecolor\":\"white\",\"ticks\":\"\",\"title\":{\"standoff\":15},\"zerolinecolor\":\"white\",\"zerolinewidth\":2},\"yaxis\":{\"automargin\":true,\"gridcolor\":\"white\",\"linecolor\":\"white\",\"ticks\":\"\",\"title\":{\"standoff\":15},\"zerolinecolor\":\"white\",\"zerolinewidth\":2}}},\"xaxis\":{\"anchor\":\"y\",\"domain\":[0.0,1.0],\"title\":{\"text\":\"Date\"}},\"yaxis\":{\"anchor\":\"x\",\"domain\":[0.0,1.0],\"title\":{\"text\":\"value\"}},\"legend\":{\"title\":{\"text\":\"keyword\"},\"tracegroupgap\":0},\"title\":{\"text\":\"Key Word (2018.1 - 2022.7)\"}},                        {\"responsive\": true}                    ).then(function(){\n",
       "                            \n",
       "var gd = document.getElementById('b9e1e202-2ac9-49e1-a398-7936ca9f9dc9');\n",
       "var x = new MutationObserver(function (mutations, observer) {{\n",
       "        var display = window.getComputedStyle(gd).display;\n",
       "        if (!display || display === 'none') {{\n",
       "            console.log([gd, 'removed!']);\n",
       "            Plotly.purge(gd);\n",
       "            observer.disconnect();\n",
       "        }}\n",
       "}});\n",
       "\n",
       "// Listen for the removal of the full notebook cells\n",
       "var notebookContainer = gd.closest('#notebook-container');\n",
       "if (notebookContainer) {{\n",
       "    x.observe(notebookContainer, {childList: true});\n",
       "}}\n",
       "\n",
       "// Listen for the clearing of the current output cell\n",
       "var outputEl = gd.closest('.output');\n",
       "if (outputEl) {{\n",
       "    x.observe(outputEl, {childList: true});\n",
       "}}\n",
       "\n",
       "                        })                };                });            </script>        </div>"
      ]
     },
     "metadata": {},
     "output_type": "display_data"
    }
   ],
   "source": [
    "# 꺽은선 그래프\n",
    "df3 = Df3(srch_wrd)\n",
    "fig = px.line(\n",
    "    df3, x=\"Date\", y='value', color=\"keyword\", title=\"Key Word (2018.1 - 2022.7)\"\n",
    ")\n",
    "fig.show()"
   ]
  },
  {
   "cell_type": "code",
   "execution_count": 13,
   "id": "56aa8a6b",
   "metadata": {},
   "outputs": [
    {
     "data": {
      "application/vnd.plotly.v1+json": {
       "config": {
        "plotlyServerURL": "https://plot.ly"
       },
       "data": [
        {
         "alignmentgroup": "True",
         "hovertemplate": "keyword=%{text}<br>Date=%{x}<br>value=%{y}<extra></extra>",
         "legendgroup": "가상자산",
         "marker": {
          "color": "#636efa",
          "pattern": {
           "shape": ""
          }
         },
         "name": "가상자산",
         "offsetgroup": "가상자산",
         "orientation": "v",
         "showlegend": true,
         "text": [
          "가상자산",
          "가상자산",
          "가상자산",
          "가상자산",
          "가상자산",
          "가상자산",
          "가상자산",
          "가상자산",
          "가상자산",
          "가상자산",
          "가상자산",
          "가상자산",
          "가상자산",
          "가상자산",
          "가상자산",
          "가상자산",
          "가상자산",
          "가상자산",
          "가상자산",
          "가상자산",
          "가상자산",
          "가상자산",
          "가상자산",
          "가상자산",
          "가상자산",
          "가상자산",
          "가상자산",
          "가상자산",
          "가상자산",
          "가상자산",
          "가상자산",
          "가상자산",
          "가상자산",
          "가상자산",
          "가상자산",
          "가상자산",
          "가상자산",
          "가상자산",
          "가상자산",
          "가상자산",
          "가상자산",
          "가상자산",
          "가상자산",
          "가상자산",
          "가상자산",
          "가상자산",
          "가상자산",
          "가상자산",
          "가상자산",
          "가상자산",
          "가상자산",
          "가상자산",
          "가상자산",
          "가상자산",
          "가상자산"
         ],
         "textposition": "auto",
         "type": "bar",
         "x": [
          "2018-01-01T00:00:00",
          "2018-02-01T00:00:00",
          "2018-03-01T00:00:00",
          "2018-04-01T00:00:00",
          "2018-05-01T00:00:00",
          "2018-06-01T00:00:00",
          "2018-07-01T00:00:00",
          "2018-08-01T00:00:00",
          "2018-09-01T00:00:00",
          "2018-10-01T00:00:00",
          "2018-11-01T00:00:00",
          "2018-12-01T00:00:00",
          "2019-01-01T00:00:00",
          "2019-02-01T00:00:00",
          "2019-03-01T00:00:00",
          "2019-04-01T00:00:00",
          "2019-05-01T00:00:00",
          "2019-06-01T00:00:00",
          "2019-07-01T00:00:00",
          "2019-08-01T00:00:00",
          "2019-09-01T00:00:00",
          "2019-10-01T00:00:00",
          "2019-11-01T00:00:00",
          "2019-12-01T00:00:00",
          "2020-01-01T00:00:00",
          "2020-02-01T00:00:00",
          "2020-03-01T00:00:00",
          "2020-04-01T00:00:00",
          "2020-05-01T00:00:00",
          "2020-06-01T00:00:00",
          "2020-07-01T00:00:00",
          "2020-08-01T00:00:00",
          "2020-09-01T00:00:00",
          "2020-10-01T00:00:00",
          "2020-11-01T00:00:00",
          "2020-12-01T00:00:00",
          "2021-01-01T00:00:00",
          "2021-02-01T00:00:00",
          "2021-03-01T00:00:00",
          "2021-04-01T00:00:00",
          "2021-05-01T00:00:00",
          "2021-06-01T00:00:00",
          "2021-07-01T00:00:00",
          "2021-08-01T00:00:00",
          "2021-09-01T00:00:00",
          "2021-10-01T00:00:00",
          "2021-11-01T00:00:00",
          "2021-12-01T00:00:00",
          "2022-01-01T00:00:00",
          "2022-02-01T00:00:00",
          "2022-03-01T00:00:00",
          "2022-04-01T00:00:00",
          "2022-05-01T00:00:00",
          "2022-06-01T00:00:00",
          "2022-07-01T00:00:00"
         ],
         "xaxis": "x",
         "y": [
          0,
          0,
          0,
          0,
          1,
          0,
          0,
          0,
          0,
          0,
          0,
          0,
          1,
          1,
          0,
          0,
          0,
          0,
          2,
          0,
          0,
          15,
          3,
          3,
          0,
          1,
          14,
          16,
          14,
          23,
          20,
          12,
          13,
          22,
          34,
          30,
          27,
          35,
          46,
          67,
          102,
          53,
          30,
          42,
          39,
          49,
          92,
          91,
          107,
          56,
          94,
          71,
          149,
          93,
          82
         ],
         "yaxis": "y"
        },
        {
         "alignmentgroup": "True",
         "hovertemplate": "keyword=%{text}<br>Date=%{x}<br>value=%{y}<extra></extra>",
         "legendgroup": "가상통화",
         "marker": {
          "color": "#EF553B",
          "pattern": {
           "shape": ""
          }
         },
         "name": "가상통화",
         "offsetgroup": "가상통화",
         "orientation": "v",
         "showlegend": true,
         "text": [
          "가상통화",
          "가상통화",
          "가상통화",
          "가상통화",
          "가상통화",
          "가상통화",
          "가상통화",
          "가상통화",
          "가상통화",
          "가상통화",
          "가상통화",
          "가상통화",
          "가상통화",
          "가상통화",
          "가상통화",
          "가상통화",
          "가상통화",
          "가상통화",
          "가상통화",
          "가상통화",
          "가상통화",
          "가상통화",
          "가상통화",
          "가상통화",
          "가상통화",
          "가상통화",
          "가상통화",
          "가상통화",
          "가상통화",
          "가상통화",
          "가상통화",
          "가상통화",
          "가상통화",
          "가상통화",
          "가상통화",
          "가상통화",
          "가상통화",
          "가상통화",
          "가상통화",
          "가상통화",
          "가상통화",
          "가상통화",
          "가상통화",
          "가상통화",
          "가상통화",
          "가상통화",
          "가상통화",
          "가상통화",
          "가상통화",
          "가상통화",
          "가상통화",
          "가상통화",
          "가상통화",
          "가상통화",
          "가상통화"
         ],
         "textposition": "auto",
         "type": "bar",
         "x": [
          "2018-01-01T00:00:00",
          "2018-02-01T00:00:00",
          "2018-03-01T00:00:00",
          "2018-04-01T00:00:00",
          "2018-05-01T00:00:00",
          "2018-06-01T00:00:00",
          "2018-07-01T00:00:00",
          "2018-08-01T00:00:00",
          "2018-09-01T00:00:00",
          "2018-10-01T00:00:00",
          "2018-11-01T00:00:00",
          "2018-12-01T00:00:00",
          "2019-01-01T00:00:00",
          "2019-02-01T00:00:00",
          "2019-03-01T00:00:00",
          "2019-04-01T00:00:00",
          "2019-05-01T00:00:00",
          "2019-06-01T00:00:00",
          "2019-07-01T00:00:00",
          "2019-08-01T00:00:00",
          "2019-09-01T00:00:00",
          "2019-10-01T00:00:00",
          "2019-11-01T00:00:00",
          "2019-12-01T00:00:00",
          "2020-01-01T00:00:00",
          "2020-02-01T00:00:00",
          "2020-03-01T00:00:00",
          "2020-04-01T00:00:00",
          "2020-05-01T00:00:00",
          "2020-06-01T00:00:00",
          "2020-07-01T00:00:00",
          "2020-08-01T00:00:00",
          "2020-09-01T00:00:00",
          "2020-10-01T00:00:00",
          "2020-11-01T00:00:00",
          "2020-12-01T00:00:00",
          "2021-01-01T00:00:00",
          "2021-02-01T00:00:00",
          "2021-03-01T00:00:00",
          "2021-04-01T00:00:00",
          "2021-05-01T00:00:00",
          "2021-06-01T00:00:00",
          "2021-07-01T00:00:00",
          "2021-08-01T00:00:00",
          "2021-09-01T00:00:00",
          "2021-10-01T00:00:00",
          "2021-11-01T00:00:00",
          "2021-12-01T00:00:00",
          "2022-01-01T00:00:00",
          "2022-02-01T00:00:00",
          "2022-03-01T00:00:00",
          "2022-04-01T00:00:00",
          "2022-05-01T00:00:00",
          "2022-06-01T00:00:00",
          "2022-07-01T00:00:00"
         ],
         "xaxis": "x",
         "y": [
          67,
          14,
          14,
          7,
          10,
          5,
          8,
          5,
          17,
          6,
          8,
          3,
          13,
          3,
          2,
          3,
          3,
          4,
          8,
          1,
          1,
          3,
          1,
          0,
          0,
          1,
          2,
          0,
          1,
          0,
          1,
          2,
          0,
          1,
          2,
          1,
          3,
          2,
          8,
          3,
          7,
          3,
          1,
          0,
          0,
          0,
          0,
          1,
          1,
          0,
          0,
          1,
          0,
          1,
          2
         ],
         "yaxis": "y"
        },
        {
         "alignmentgroup": "True",
         "hovertemplate": "keyword=%{text}<br>Date=%{x}<br>value=%{y}<extra></extra>",
         "legendgroup": "가상화폐",
         "marker": {
          "color": "#00cc96",
          "pattern": {
           "shape": ""
          }
         },
         "name": "가상화폐",
         "offsetgroup": "가상화폐",
         "orientation": "v",
         "showlegend": true,
         "text": [
          "가상화폐",
          "가상화폐",
          "가상화폐",
          "가상화폐",
          "가상화폐",
          "가상화폐",
          "가상화폐",
          "가상화폐",
          "가상화폐",
          "가상화폐",
          "가상화폐",
          "가상화폐",
          "가상화폐",
          "가상화폐",
          "가상화폐",
          "가상화폐",
          "가상화폐",
          "가상화폐",
          "가상화폐",
          "가상화폐",
          "가상화폐",
          "가상화폐",
          "가상화폐",
          "가상화폐",
          "가상화폐",
          "가상화폐",
          "가상화폐",
          "가상화폐",
          "가상화폐",
          "가상화폐",
          "가상화폐",
          "가상화폐",
          "가상화폐",
          "가상화폐",
          "가상화폐",
          "가상화폐",
          "가상화폐",
          "가상화폐",
          "가상화폐",
          "가상화폐",
          "가상화폐",
          "가상화폐",
          "가상화폐",
          "가상화폐",
          "가상화폐",
          "가상화폐",
          "가상화폐",
          "가상화폐",
          "가상화폐",
          "가상화폐",
          "가상화폐",
          "가상화폐",
          "가상화폐",
          "가상화폐",
          "가상화폐"
         ],
         "textposition": "auto",
         "type": "bar",
         "x": [
          "2018-01-01T00:00:00",
          "2018-02-01T00:00:00",
          "2018-03-01T00:00:00",
          "2018-04-01T00:00:00",
          "2018-05-01T00:00:00",
          "2018-06-01T00:00:00",
          "2018-07-01T00:00:00",
          "2018-08-01T00:00:00",
          "2018-09-01T00:00:00",
          "2018-10-01T00:00:00",
          "2018-11-01T00:00:00",
          "2018-12-01T00:00:00",
          "2019-01-01T00:00:00",
          "2019-02-01T00:00:00",
          "2019-03-01T00:00:00",
          "2019-04-01T00:00:00",
          "2019-05-01T00:00:00",
          "2019-06-01T00:00:00",
          "2019-07-01T00:00:00",
          "2019-08-01T00:00:00",
          "2019-09-01T00:00:00",
          "2019-10-01T00:00:00",
          "2019-11-01T00:00:00",
          "2019-12-01T00:00:00",
          "2020-01-01T00:00:00",
          "2020-02-01T00:00:00",
          "2020-03-01T00:00:00",
          "2020-04-01T00:00:00",
          "2020-05-01T00:00:00",
          "2020-06-01T00:00:00",
          "2020-07-01T00:00:00",
          "2020-08-01T00:00:00",
          "2020-09-01T00:00:00",
          "2020-10-01T00:00:00",
          "2020-11-01T00:00:00",
          "2020-12-01T00:00:00",
          "2021-01-01T00:00:00",
          "2021-02-01T00:00:00",
          "2021-03-01T00:00:00",
          "2021-04-01T00:00:00",
          "2021-05-01T00:00:00",
          "2021-06-01T00:00:00",
          "2021-07-01T00:00:00",
          "2021-08-01T00:00:00",
          "2021-09-01T00:00:00",
          "2021-10-01T00:00:00",
          "2021-11-01T00:00:00",
          "2021-12-01T00:00:00",
          "2022-01-01T00:00:00",
          "2022-02-01T00:00:00",
          "2022-03-01T00:00:00",
          "2022-04-01T00:00:00",
          "2022-05-01T00:00:00",
          "2022-06-01T00:00:00",
          "2022-07-01T00:00:00"
         ],
         "xaxis": "x",
         "y": [
          145,
          48,
          37,
          21,
          16,
          10,
          8,
          12,
          20,
          10,
          10,
          5,
          12,
          5,
          6,
          8,
          4,
          12,
          23,
          13,
          11,
          19,
          9,
          9,
          8,
          9,
          10,
          20,
          5,
          2,
          3,
          8,
          0,
          6,
          16,
          24,
          27,
          60,
          34,
          74,
          121,
          65,
          52,
          33,
          41,
          38,
          33,
          15,
          29,
          14,
          40,
          21,
          91,
          48,
          14
         ],
         "yaxis": "y"
        },
        {
         "alignmentgroup": "True",
         "hovertemplate": "keyword=%{text}<br>Date=%{x}<br>value=%{y}<extra></extra>",
         "legendgroup": "암호화폐",
         "marker": {
          "color": "#ab63fa",
          "pattern": {
           "shape": ""
          }
         },
         "name": "암호화폐",
         "offsetgroup": "암호화폐",
         "orientation": "v",
         "showlegend": true,
         "text": [
          "암호화폐",
          "암호화폐",
          "암호화폐",
          "암호화폐",
          "암호화폐",
          "암호화폐",
          "암호화폐",
          "암호화폐",
          "암호화폐",
          "암호화폐",
          "암호화폐",
          "암호화폐",
          "암호화폐",
          "암호화폐",
          "암호화폐",
          "암호화폐",
          "암호화폐",
          "암호화폐",
          "암호화폐",
          "암호화폐",
          "암호화폐",
          "암호화폐",
          "암호화폐",
          "암호화폐",
          "암호화폐",
          "암호화폐",
          "암호화폐",
          "암호화폐",
          "암호화폐",
          "암호화폐",
          "암호화폐",
          "암호화폐",
          "암호화폐",
          "암호화폐",
          "암호화폐",
          "암호화폐",
          "암호화폐",
          "암호화폐",
          "암호화폐",
          "암호화폐",
          "암호화폐",
          "암호화폐",
          "암호화폐",
          "암호화폐",
          "암호화폐",
          "암호화폐",
          "암호화폐",
          "암호화폐",
          "암호화폐",
          "암호화폐",
          "암호화폐",
          "암호화폐",
          "암호화폐",
          "암호화폐",
          "암호화폐"
         ],
         "textposition": "auto",
         "type": "bar",
         "x": [
          "2018-01-01T00:00:00",
          "2018-02-01T00:00:00",
          "2018-03-01T00:00:00",
          "2018-04-01T00:00:00",
          "2018-05-01T00:00:00",
          "2018-06-01T00:00:00",
          "2018-07-01T00:00:00",
          "2018-08-01T00:00:00",
          "2018-09-01T00:00:00",
          "2018-10-01T00:00:00",
          "2018-11-01T00:00:00",
          "2018-12-01T00:00:00",
          "2019-01-01T00:00:00",
          "2019-02-01T00:00:00",
          "2019-03-01T00:00:00",
          "2019-04-01T00:00:00",
          "2019-05-01T00:00:00",
          "2019-06-01T00:00:00",
          "2019-07-01T00:00:00",
          "2019-08-01T00:00:00",
          "2019-09-01T00:00:00",
          "2019-10-01T00:00:00",
          "2019-11-01T00:00:00",
          "2019-12-01T00:00:00",
          "2020-01-01T00:00:00",
          "2020-02-01T00:00:00",
          "2020-03-01T00:00:00",
          "2020-04-01T00:00:00",
          "2020-05-01T00:00:00",
          "2020-06-01T00:00:00",
          "2020-07-01T00:00:00",
          "2020-08-01T00:00:00",
          "2020-09-01T00:00:00",
          "2020-10-01T00:00:00",
          "2020-11-01T00:00:00",
          "2020-12-01T00:00:00",
          "2021-01-01T00:00:00",
          "2021-02-01T00:00:00",
          "2021-03-01T00:00:00",
          "2021-04-01T00:00:00",
          "2021-05-01T00:00:00",
          "2021-06-01T00:00:00",
          "2021-07-01T00:00:00",
          "2021-08-01T00:00:00",
          "2021-09-01T00:00:00",
          "2021-10-01T00:00:00",
          "2021-11-01T00:00:00",
          "2021-12-01T00:00:00",
          "2022-01-01T00:00:00",
          "2022-02-01T00:00:00",
          "2022-03-01T00:00:00",
          "2022-04-01T00:00:00",
          "2022-05-01T00:00:00",
          "2022-06-01T00:00:00",
          "2022-07-01T00:00:00"
         ],
         "xaxis": "x",
         "y": [
          46,
          28,
          39,
          53,
          29,
          29,
          30,
          24,
          34,
          62,
          55,
          17,
          53,
          30,
          48,
          32,
          37,
          52,
          73,
          42,
          60,
          76,
          43,
          46,
          38,
          24,
          22,
          22,
          23,
          19,
          19,
          6,
          18,
          13,
          17,
          33,
          21,
          88,
          64,
          98,
          129,
          57,
          48,
          31,
          37,
          39,
          43,
          24,
          43,
          29,
          62,
          40,
          71,
          47,
          30
         ],
         "yaxis": "y"
        }
       ],
       "layout": {
        "barmode": "relative",
        "legend": {
         "title": {
          "text": "keyword"
         },
         "tracegroupgap": 0
        },
        "margin": {
         "t": 60
        },
        "template": {
         "data": {
          "bar": [
           {
            "error_x": {
             "color": "#2a3f5f"
            },
            "error_y": {
             "color": "#2a3f5f"
            },
            "marker": {
             "line": {
              "color": "#E5ECF6",
              "width": 0.5
             },
             "pattern": {
              "fillmode": "overlay",
              "size": 10,
              "solidity": 0.2
             }
            },
            "type": "bar"
           }
          ],
          "barpolar": [
           {
            "marker": {
             "line": {
              "color": "#E5ECF6",
              "width": 0.5
             },
             "pattern": {
              "fillmode": "overlay",
              "size": 10,
              "solidity": 0.2
             }
            },
            "type": "barpolar"
           }
          ],
          "carpet": [
           {
            "aaxis": {
             "endlinecolor": "#2a3f5f",
             "gridcolor": "white",
             "linecolor": "white",
             "minorgridcolor": "white",
             "startlinecolor": "#2a3f5f"
            },
            "baxis": {
             "endlinecolor": "#2a3f5f",
             "gridcolor": "white",
             "linecolor": "white",
             "minorgridcolor": "white",
             "startlinecolor": "#2a3f5f"
            },
            "type": "carpet"
           }
          ],
          "choropleth": [
           {
            "colorbar": {
             "outlinewidth": 0,
             "ticks": ""
            },
            "type": "choropleth"
           }
          ],
          "contour": [
           {
            "colorbar": {
             "outlinewidth": 0,
             "ticks": ""
            },
            "colorscale": [
             [
              0,
              "#0d0887"
             ],
             [
              0.1111111111111111,
              "#46039f"
             ],
             [
              0.2222222222222222,
              "#7201a8"
             ],
             [
              0.3333333333333333,
              "#9c179e"
             ],
             [
              0.4444444444444444,
              "#bd3786"
             ],
             [
              0.5555555555555556,
              "#d8576b"
             ],
             [
              0.6666666666666666,
              "#ed7953"
             ],
             [
              0.7777777777777778,
              "#fb9f3a"
             ],
             [
              0.8888888888888888,
              "#fdca26"
             ],
             [
              1,
              "#f0f921"
             ]
            ],
            "type": "contour"
           }
          ],
          "contourcarpet": [
           {
            "colorbar": {
             "outlinewidth": 0,
             "ticks": ""
            },
            "type": "contourcarpet"
           }
          ],
          "heatmap": [
           {
            "colorbar": {
             "outlinewidth": 0,
             "ticks": ""
            },
            "colorscale": [
             [
              0,
              "#0d0887"
             ],
             [
              0.1111111111111111,
              "#46039f"
             ],
             [
              0.2222222222222222,
              "#7201a8"
             ],
             [
              0.3333333333333333,
              "#9c179e"
             ],
             [
              0.4444444444444444,
              "#bd3786"
             ],
             [
              0.5555555555555556,
              "#d8576b"
             ],
             [
              0.6666666666666666,
              "#ed7953"
             ],
             [
              0.7777777777777778,
              "#fb9f3a"
             ],
             [
              0.8888888888888888,
              "#fdca26"
             ],
             [
              1,
              "#f0f921"
             ]
            ],
            "type": "heatmap"
           }
          ],
          "heatmapgl": [
           {
            "colorbar": {
             "outlinewidth": 0,
             "ticks": ""
            },
            "colorscale": [
             [
              0,
              "#0d0887"
             ],
             [
              0.1111111111111111,
              "#46039f"
             ],
             [
              0.2222222222222222,
              "#7201a8"
             ],
             [
              0.3333333333333333,
              "#9c179e"
             ],
             [
              0.4444444444444444,
              "#bd3786"
             ],
             [
              0.5555555555555556,
              "#d8576b"
             ],
             [
              0.6666666666666666,
              "#ed7953"
             ],
             [
              0.7777777777777778,
              "#fb9f3a"
             ],
             [
              0.8888888888888888,
              "#fdca26"
             ],
             [
              1,
              "#f0f921"
             ]
            ],
            "type": "heatmapgl"
           }
          ],
          "histogram": [
           {
            "marker": {
             "pattern": {
              "fillmode": "overlay",
              "size": 10,
              "solidity": 0.2
             }
            },
            "type": "histogram"
           }
          ],
          "histogram2d": [
           {
            "colorbar": {
             "outlinewidth": 0,
             "ticks": ""
            },
            "colorscale": [
             [
              0,
              "#0d0887"
             ],
             [
              0.1111111111111111,
              "#46039f"
             ],
             [
              0.2222222222222222,
              "#7201a8"
             ],
             [
              0.3333333333333333,
              "#9c179e"
             ],
             [
              0.4444444444444444,
              "#bd3786"
             ],
             [
              0.5555555555555556,
              "#d8576b"
             ],
             [
              0.6666666666666666,
              "#ed7953"
             ],
             [
              0.7777777777777778,
              "#fb9f3a"
             ],
             [
              0.8888888888888888,
              "#fdca26"
             ],
             [
              1,
              "#f0f921"
             ]
            ],
            "type": "histogram2d"
           }
          ],
          "histogram2dcontour": [
           {
            "colorbar": {
             "outlinewidth": 0,
             "ticks": ""
            },
            "colorscale": [
             [
              0,
              "#0d0887"
             ],
             [
              0.1111111111111111,
              "#46039f"
             ],
             [
              0.2222222222222222,
              "#7201a8"
             ],
             [
              0.3333333333333333,
              "#9c179e"
             ],
             [
              0.4444444444444444,
              "#bd3786"
             ],
             [
              0.5555555555555556,
              "#d8576b"
             ],
             [
              0.6666666666666666,
              "#ed7953"
             ],
             [
              0.7777777777777778,
              "#fb9f3a"
             ],
             [
              0.8888888888888888,
              "#fdca26"
             ],
             [
              1,
              "#f0f921"
             ]
            ],
            "type": "histogram2dcontour"
           }
          ],
          "mesh3d": [
           {
            "colorbar": {
             "outlinewidth": 0,
             "ticks": ""
            },
            "type": "mesh3d"
           }
          ],
          "parcoords": [
           {
            "line": {
             "colorbar": {
              "outlinewidth": 0,
              "ticks": ""
             }
            },
            "type": "parcoords"
           }
          ],
          "pie": [
           {
            "automargin": true,
            "type": "pie"
           }
          ],
          "scatter": [
           {
            "marker": {
             "colorbar": {
              "outlinewidth": 0,
              "ticks": ""
             }
            },
            "type": "scatter"
           }
          ],
          "scatter3d": [
           {
            "line": {
             "colorbar": {
              "outlinewidth": 0,
              "ticks": ""
             }
            },
            "marker": {
             "colorbar": {
              "outlinewidth": 0,
              "ticks": ""
             }
            },
            "type": "scatter3d"
           }
          ],
          "scattercarpet": [
           {
            "marker": {
             "colorbar": {
              "outlinewidth": 0,
              "ticks": ""
             }
            },
            "type": "scattercarpet"
           }
          ],
          "scattergeo": [
           {
            "marker": {
             "colorbar": {
              "outlinewidth": 0,
              "ticks": ""
             }
            },
            "type": "scattergeo"
           }
          ],
          "scattergl": [
           {
            "marker": {
             "colorbar": {
              "outlinewidth": 0,
              "ticks": ""
             }
            },
            "type": "scattergl"
           }
          ],
          "scattermapbox": [
           {
            "marker": {
             "colorbar": {
              "outlinewidth": 0,
              "ticks": ""
             }
            },
            "type": "scattermapbox"
           }
          ],
          "scatterpolar": [
           {
            "marker": {
             "colorbar": {
              "outlinewidth": 0,
              "ticks": ""
             }
            },
            "type": "scatterpolar"
           }
          ],
          "scatterpolargl": [
           {
            "marker": {
             "colorbar": {
              "outlinewidth": 0,
              "ticks": ""
             }
            },
            "type": "scatterpolargl"
           }
          ],
          "scatterternary": [
           {
            "marker": {
             "colorbar": {
              "outlinewidth": 0,
              "ticks": ""
             }
            },
            "type": "scatterternary"
           }
          ],
          "surface": [
           {
            "colorbar": {
             "outlinewidth": 0,
             "ticks": ""
            },
            "colorscale": [
             [
              0,
              "#0d0887"
             ],
             [
              0.1111111111111111,
              "#46039f"
             ],
             [
              0.2222222222222222,
              "#7201a8"
             ],
             [
              0.3333333333333333,
              "#9c179e"
             ],
             [
              0.4444444444444444,
              "#bd3786"
             ],
             [
              0.5555555555555556,
              "#d8576b"
             ],
             [
              0.6666666666666666,
              "#ed7953"
             ],
             [
              0.7777777777777778,
              "#fb9f3a"
             ],
             [
              0.8888888888888888,
              "#fdca26"
             ],
             [
              1,
              "#f0f921"
             ]
            ],
            "type": "surface"
           }
          ],
          "table": [
           {
            "cells": {
             "fill": {
              "color": "#EBF0F8"
             },
             "line": {
              "color": "white"
             }
            },
            "header": {
             "fill": {
              "color": "#C8D4E3"
             },
             "line": {
              "color": "white"
             }
            },
            "type": "table"
           }
          ]
         },
         "layout": {
          "annotationdefaults": {
           "arrowcolor": "#2a3f5f",
           "arrowhead": 0,
           "arrowwidth": 1
          },
          "autotypenumbers": "strict",
          "coloraxis": {
           "colorbar": {
            "outlinewidth": 0,
            "ticks": ""
           }
          },
          "colorscale": {
           "diverging": [
            [
             0,
             "#8e0152"
            ],
            [
             0.1,
             "#c51b7d"
            ],
            [
             0.2,
             "#de77ae"
            ],
            [
             0.3,
             "#f1b6da"
            ],
            [
             0.4,
             "#fde0ef"
            ],
            [
             0.5,
             "#f7f7f7"
            ],
            [
             0.6,
             "#e6f5d0"
            ],
            [
             0.7,
             "#b8e186"
            ],
            [
             0.8,
             "#7fbc41"
            ],
            [
             0.9,
             "#4d9221"
            ],
            [
             1,
             "#276419"
            ]
           ],
           "sequential": [
            [
             0,
             "#0d0887"
            ],
            [
             0.1111111111111111,
             "#46039f"
            ],
            [
             0.2222222222222222,
             "#7201a8"
            ],
            [
             0.3333333333333333,
             "#9c179e"
            ],
            [
             0.4444444444444444,
             "#bd3786"
            ],
            [
             0.5555555555555556,
             "#d8576b"
            ],
            [
             0.6666666666666666,
             "#ed7953"
            ],
            [
             0.7777777777777778,
             "#fb9f3a"
            ],
            [
             0.8888888888888888,
             "#fdca26"
            ],
            [
             1,
             "#f0f921"
            ]
           ],
           "sequentialminus": [
            [
             0,
             "#0d0887"
            ],
            [
             0.1111111111111111,
             "#46039f"
            ],
            [
             0.2222222222222222,
             "#7201a8"
            ],
            [
             0.3333333333333333,
             "#9c179e"
            ],
            [
             0.4444444444444444,
             "#bd3786"
            ],
            [
             0.5555555555555556,
             "#d8576b"
            ],
            [
             0.6666666666666666,
             "#ed7953"
            ],
            [
             0.7777777777777778,
             "#fb9f3a"
            ],
            [
             0.8888888888888888,
             "#fdca26"
            ],
            [
             1,
             "#f0f921"
            ]
           ]
          },
          "colorway": [
           "#636efa",
           "#EF553B",
           "#00cc96",
           "#ab63fa",
           "#FFA15A",
           "#19d3f3",
           "#FF6692",
           "#B6E880",
           "#FF97FF",
           "#FECB52"
          ],
          "font": {
           "color": "#2a3f5f"
          },
          "geo": {
           "bgcolor": "white",
           "lakecolor": "white",
           "landcolor": "#E5ECF6",
           "showlakes": true,
           "showland": true,
           "subunitcolor": "white"
          },
          "hoverlabel": {
           "align": "left"
          },
          "hovermode": "closest",
          "mapbox": {
           "style": "light"
          },
          "paper_bgcolor": "white",
          "plot_bgcolor": "#E5ECF6",
          "polar": {
           "angularaxis": {
            "gridcolor": "white",
            "linecolor": "white",
            "ticks": ""
           },
           "bgcolor": "#E5ECF6",
           "radialaxis": {
            "gridcolor": "white",
            "linecolor": "white",
            "ticks": ""
           }
          },
          "scene": {
           "xaxis": {
            "backgroundcolor": "#E5ECF6",
            "gridcolor": "white",
            "gridwidth": 2,
            "linecolor": "white",
            "showbackground": true,
            "ticks": "",
            "zerolinecolor": "white"
           },
           "yaxis": {
            "backgroundcolor": "#E5ECF6",
            "gridcolor": "white",
            "gridwidth": 2,
            "linecolor": "white",
            "showbackground": true,
            "ticks": "",
            "zerolinecolor": "white"
           },
           "zaxis": {
            "backgroundcolor": "#E5ECF6",
            "gridcolor": "white",
            "gridwidth": 2,
            "linecolor": "white",
            "showbackground": true,
            "ticks": "",
            "zerolinecolor": "white"
           }
          },
          "shapedefaults": {
           "line": {
            "color": "#2a3f5f"
           }
          },
          "ternary": {
           "aaxis": {
            "gridcolor": "white",
            "linecolor": "white",
            "ticks": ""
           },
           "baxis": {
            "gridcolor": "white",
            "linecolor": "white",
            "ticks": ""
           },
           "bgcolor": "#E5ECF6",
           "caxis": {
            "gridcolor": "white",
            "linecolor": "white",
            "ticks": ""
           }
          },
          "title": {
           "x": 0.05
          },
          "xaxis": {
           "automargin": true,
           "gridcolor": "white",
           "linecolor": "white",
           "ticks": "",
           "title": {
            "standoff": 15
           },
           "zerolinecolor": "white",
           "zerolinewidth": 2
          },
          "yaxis": {
           "automargin": true,
           "gridcolor": "white",
           "linecolor": "white",
           "ticks": "",
           "title": {
            "standoff": 15
           },
           "zerolinecolor": "white",
           "zerolinewidth": 2
          }
         }
        },
        "xaxis": {
         "anchor": "y",
         "domain": [
          0,
          1
         ],
         "title": {
          "text": "Date"
         }
        },
        "yaxis": {
         "anchor": "x",
         "domain": [
          0,
          1
         ],
         "title": {
          "text": "value"
         }
        }
       }
      },
      "text/html": [
       "<div>                            <div id=\"dbc48342-0e4b-42e0-94d8-8554e0b7652e\" class=\"plotly-graph-div\" style=\"height:525px; width:100%;\"></div>            <script type=\"text/javascript\">                require([\"plotly\"], function(Plotly) {                    window.PLOTLYENV=window.PLOTLYENV || {};                                    if (document.getElementById(\"dbc48342-0e4b-42e0-94d8-8554e0b7652e\")) {                    Plotly.newPlot(                        \"dbc48342-0e4b-42e0-94d8-8554e0b7652e\",                        [{\"alignmentgroup\":\"True\",\"hovertemplate\":\"keyword=%{text}<br>Date=%{x}<br>value=%{y}<extra></extra>\",\"legendgroup\":\"\\uac00\\uc0c1\\uc790\\uc0b0\",\"marker\":{\"color\":\"#636efa\",\"pattern\":{\"shape\":\"\"}},\"name\":\"\\uac00\\uc0c1\\uc790\\uc0b0\",\"offsetgroup\":\"\\uac00\\uc0c1\\uc790\\uc0b0\",\"orientation\":\"v\",\"showlegend\":true,\"text\":[\"\\uac00\\uc0c1\\uc790\\uc0b0\",\"\\uac00\\uc0c1\\uc790\\uc0b0\",\"\\uac00\\uc0c1\\uc790\\uc0b0\",\"\\uac00\\uc0c1\\uc790\\uc0b0\",\"\\uac00\\uc0c1\\uc790\\uc0b0\",\"\\uac00\\uc0c1\\uc790\\uc0b0\",\"\\uac00\\uc0c1\\uc790\\uc0b0\",\"\\uac00\\uc0c1\\uc790\\uc0b0\",\"\\uac00\\uc0c1\\uc790\\uc0b0\",\"\\uac00\\uc0c1\\uc790\\uc0b0\",\"\\uac00\\uc0c1\\uc790\\uc0b0\",\"\\uac00\\uc0c1\\uc790\\uc0b0\",\"\\uac00\\uc0c1\\uc790\\uc0b0\",\"\\uac00\\uc0c1\\uc790\\uc0b0\",\"\\uac00\\uc0c1\\uc790\\uc0b0\",\"\\uac00\\uc0c1\\uc790\\uc0b0\",\"\\uac00\\uc0c1\\uc790\\uc0b0\",\"\\uac00\\uc0c1\\uc790\\uc0b0\",\"\\uac00\\uc0c1\\uc790\\uc0b0\",\"\\uac00\\uc0c1\\uc790\\uc0b0\",\"\\uac00\\uc0c1\\uc790\\uc0b0\",\"\\uac00\\uc0c1\\uc790\\uc0b0\",\"\\uac00\\uc0c1\\uc790\\uc0b0\",\"\\uac00\\uc0c1\\uc790\\uc0b0\",\"\\uac00\\uc0c1\\uc790\\uc0b0\",\"\\uac00\\uc0c1\\uc790\\uc0b0\",\"\\uac00\\uc0c1\\uc790\\uc0b0\",\"\\uac00\\uc0c1\\uc790\\uc0b0\",\"\\uac00\\uc0c1\\uc790\\uc0b0\",\"\\uac00\\uc0c1\\uc790\\uc0b0\",\"\\uac00\\uc0c1\\uc790\\uc0b0\",\"\\uac00\\uc0c1\\uc790\\uc0b0\",\"\\uac00\\uc0c1\\uc790\\uc0b0\",\"\\uac00\\uc0c1\\uc790\\uc0b0\",\"\\uac00\\uc0c1\\uc790\\uc0b0\",\"\\uac00\\uc0c1\\uc790\\uc0b0\",\"\\uac00\\uc0c1\\uc790\\uc0b0\",\"\\uac00\\uc0c1\\uc790\\uc0b0\",\"\\uac00\\uc0c1\\uc790\\uc0b0\",\"\\uac00\\uc0c1\\uc790\\uc0b0\",\"\\uac00\\uc0c1\\uc790\\uc0b0\",\"\\uac00\\uc0c1\\uc790\\uc0b0\",\"\\uac00\\uc0c1\\uc790\\uc0b0\",\"\\uac00\\uc0c1\\uc790\\uc0b0\",\"\\uac00\\uc0c1\\uc790\\uc0b0\",\"\\uac00\\uc0c1\\uc790\\uc0b0\",\"\\uac00\\uc0c1\\uc790\\uc0b0\",\"\\uac00\\uc0c1\\uc790\\uc0b0\",\"\\uac00\\uc0c1\\uc790\\uc0b0\",\"\\uac00\\uc0c1\\uc790\\uc0b0\",\"\\uac00\\uc0c1\\uc790\\uc0b0\",\"\\uac00\\uc0c1\\uc790\\uc0b0\",\"\\uac00\\uc0c1\\uc790\\uc0b0\",\"\\uac00\\uc0c1\\uc790\\uc0b0\",\"\\uac00\\uc0c1\\uc790\\uc0b0\"],\"textposition\":\"auto\",\"x\":[\"2018-01-01T00:00:00\",\"2018-02-01T00:00:00\",\"2018-03-01T00:00:00\",\"2018-04-01T00:00:00\",\"2018-05-01T00:00:00\",\"2018-06-01T00:00:00\",\"2018-07-01T00:00:00\",\"2018-08-01T00:00:00\",\"2018-09-01T00:00:00\",\"2018-10-01T00:00:00\",\"2018-11-01T00:00:00\",\"2018-12-01T00:00:00\",\"2019-01-01T00:00:00\",\"2019-02-01T00:00:00\",\"2019-03-01T00:00:00\",\"2019-04-01T00:00:00\",\"2019-05-01T00:00:00\",\"2019-06-01T00:00:00\",\"2019-07-01T00:00:00\",\"2019-08-01T00:00:00\",\"2019-09-01T00:00:00\",\"2019-10-01T00:00:00\",\"2019-11-01T00:00:00\",\"2019-12-01T00:00:00\",\"2020-01-01T00:00:00\",\"2020-02-01T00:00:00\",\"2020-03-01T00:00:00\",\"2020-04-01T00:00:00\",\"2020-05-01T00:00:00\",\"2020-06-01T00:00:00\",\"2020-07-01T00:00:00\",\"2020-08-01T00:00:00\",\"2020-09-01T00:00:00\",\"2020-10-01T00:00:00\",\"2020-11-01T00:00:00\",\"2020-12-01T00:00:00\",\"2021-01-01T00:00:00\",\"2021-02-01T00:00:00\",\"2021-03-01T00:00:00\",\"2021-04-01T00:00:00\",\"2021-05-01T00:00:00\",\"2021-06-01T00:00:00\",\"2021-07-01T00:00:00\",\"2021-08-01T00:00:00\",\"2021-09-01T00:00:00\",\"2021-10-01T00:00:00\",\"2021-11-01T00:00:00\",\"2021-12-01T00:00:00\",\"2022-01-01T00:00:00\",\"2022-02-01T00:00:00\",\"2022-03-01T00:00:00\",\"2022-04-01T00:00:00\",\"2022-05-01T00:00:00\",\"2022-06-01T00:00:00\",\"2022-07-01T00:00:00\"],\"xaxis\":\"x\",\"y\":[0.0,0.0,0.0,0.0,1.0,0.0,0.0,0.0,0.0,0.0,0.0,0.0,1.0,1.0,0.0,0.0,0.0,0.0,2.0,0.0,0.0,15.0,3.0,3.0,0.0,1.0,14.0,16.0,14.0,23.0,20.0,12.0,13.0,22.0,34.0,30.0,27.0,35.0,46.0,67.0,102.0,53.0,30.0,42.0,39.0,49.0,92.0,91.0,107.0,56.0,94.0,71.0,149.0,93.0,82.0],\"yaxis\":\"y\",\"type\":\"bar\"},{\"alignmentgroup\":\"True\",\"hovertemplate\":\"keyword=%{text}<br>Date=%{x}<br>value=%{y}<extra></extra>\",\"legendgroup\":\"\\uac00\\uc0c1\\ud1b5\\ud654\",\"marker\":{\"color\":\"#EF553B\",\"pattern\":{\"shape\":\"\"}},\"name\":\"\\uac00\\uc0c1\\ud1b5\\ud654\",\"offsetgroup\":\"\\uac00\\uc0c1\\ud1b5\\ud654\",\"orientation\":\"v\",\"showlegend\":true,\"text\":[\"\\uac00\\uc0c1\\ud1b5\\ud654\",\"\\uac00\\uc0c1\\ud1b5\\ud654\",\"\\uac00\\uc0c1\\ud1b5\\ud654\",\"\\uac00\\uc0c1\\ud1b5\\ud654\",\"\\uac00\\uc0c1\\ud1b5\\ud654\",\"\\uac00\\uc0c1\\ud1b5\\ud654\",\"\\uac00\\uc0c1\\ud1b5\\ud654\",\"\\uac00\\uc0c1\\ud1b5\\ud654\",\"\\uac00\\uc0c1\\ud1b5\\ud654\",\"\\uac00\\uc0c1\\ud1b5\\ud654\",\"\\uac00\\uc0c1\\ud1b5\\ud654\",\"\\uac00\\uc0c1\\ud1b5\\ud654\",\"\\uac00\\uc0c1\\ud1b5\\ud654\",\"\\uac00\\uc0c1\\ud1b5\\ud654\",\"\\uac00\\uc0c1\\ud1b5\\ud654\",\"\\uac00\\uc0c1\\ud1b5\\ud654\",\"\\uac00\\uc0c1\\ud1b5\\ud654\",\"\\uac00\\uc0c1\\ud1b5\\ud654\",\"\\uac00\\uc0c1\\ud1b5\\ud654\",\"\\uac00\\uc0c1\\ud1b5\\ud654\",\"\\uac00\\uc0c1\\ud1b5\\ud654\",\"\\uac00\\uc0c1\\ud1b5\\ud654\",\"\\uac00\\uc0c1\\ud1b5\\ud654\",\"\\uac00\\uc0c1\\ud1b5\\ud654\",\"\\uac00\\uc0c1\\ud1b5\\ud654\",\"\\uac00\\uc0c1\\ud1b5\\ud654\",\"\\uac00\\uc0c1\\ud1b5\\ud654\",\"\\uac00\\uc0c1\\ud1b5\\ud654\",\"\\uac00\\uc0c1\\ud1b5\\ud654\",\"\\uac00\\uc0c1\\ud1b5\\ud654\",\"\\uac00\\uc0c1\\ud1b5\\ud654\",\"\\uac00\\uc0c1\\ud1b5\\ud654\",\"\\uac00\\uc0c1\\ud1b5\\ud654\",\"\\uac00\\uc0c1\\ud1b5\\ud654\",\"\\uac00\\uc0c1\\ud1b5\\ud654\",\"\\uac00\\uc0c1\\ud1b5\\ud654\",\"\\uac00\\uc0c1\\ud1b5\\ud654\",\"\\uac00\\uc0c1\\ud1b5\\ud654\",\"\\uac00\\uc0c1\\ud1b5\\ud654\",\"\\uac00\\uc0c1\\ud1b5\\ud654\",\"\\uac00\\uc0c1\\ud1b5\\ud654\",\"\\uac00\\uc0c1\\ud1b5\\ud654\",\"\\uac00\\uc0c1\\ud1b5\\ud654\",\"\\uac00\\uc0c1\\ud1b5\\ud654\",\"\\uac00\\uc0c1\\ud1b5\\ud654\",\"\\uac00\\uc0c1\\ud1b5\\ud654\",\"\\uac00\\uc0c1\\ud1b5\\ud654\",\"\\uac00\\uc0c1\\ud1b5\\ud654\",\"\\uac00\\uc0c1\\ud1b5\\ud654\",\"\\uac00\\uc0c1\\ud1b5\\ud654\",\"\\uac00\\uc0c1\\ud1b5\\ud654\",\"\\uac00\\uc0c1\\ud1b5\\ud654\",\"\\uac00\\uc0c1\\ud1b5\\ud654\",\"\\uac00\\uc0c1\\ud1b5\\ud654\",\"\\uac00\\uc0c1\\ud1b5\\ud654\"],\"textposition\":\"auto\",\"x\":[\"2018-01-01T00:00:00\",\"2018-02-01T00:00:00\",\"2018-03-01T00:00:00\",\"2018-04-01T00:00:00\",\"2018-05-01T00:00:00\",\"2018-06-01T00:00:00\",\"2018-07-01T00:00:00\",\"2018-08-01T00:00:00\",\"2018-09-01T00:00:00\",\"2018-10-01T00:00:00\",\"2018-11-01T00:00:00\",\"2018-12-01T00:00:00\",\"2019-01-01T00:00:00\",\"2019-02-01T00:00:00\",\"2019-03-01T00:00:00\",\"2019-04-01T00:00:00\",\"2019-05-01T00:00:00\",\"2019-06-01T00:00:00\",\"2019-07-01T00:00:00\",\"2019-08-01T00:00:00\",\"2019-09-01T00:00:00\",\"2019-10-01T00:00:00\",\"2019-11-01T00:00:00\",\"2019-12-01T00:00:00\",\"2020-01-01T00:00:00\",\"2020-02-01T00:00:00\",\"2020-03-01T00:00:00\",\"2020-04-01T00:00:00\",\"2020-05-01T00:00:00\",\"2020-06-01T00:00:00\",\"2020-07-01T00:00:00\",\"2020-08-01T00:00:00\",\"2020-09-01T00:00:00\",\"2020-10-01T00:00:00\",\"2020-11-01T00:00:00\",\"2020-12-01T00:00:00\",\"2021-01-01T00:00:00\",\"2021-02-01T00:00:00\",\"2021-03-01T00:00:00\",\"2021-04-01T00:00:00\",\"2021-05-01T00:00:00\",\"2021-06-01T00:00:00\",\"2021-07-01T00:00:00\",\"2021-08-01T00:00:00\",\"2021-09-01T00:00:00\",\"2021-10-01T00:00:00\",\"2021-11-01T00:00:00\",\"2021-12-01T00:00:00\",\"2022-01-01T00:00:00\",\"2022-02-01T00:00:00\",\"2022-03-01T00:00:00\",\"2022-04-01T00:00:00\",\"2022-05-01T00:00:00\",\"2022-06-01T00:00:00\",\"2022-07-01T00:00:00\"],\"xaxis\":\"x\",\"y\":[67.0,14.0,14.0,7.0,10.0,5.0,8.0,5.0,17.0,6.0,8.0,3.0,13.0,3.0,2.0,3.0,3.0,4.0,8.0,1.0,1.0,3.0,1.0,0.0,0.0,1.0,2.0,0.0,1.0,0.0,1.0,2.0,0.0,1.0,2.0,1.0,3.0,2.0,8.0,3.0,7.0,3.0,1.0,0.0,0.0,0.0,0.0,1.0,1.0,0.0,0.0,1.0,0.0,1.0,2.0],\"yaxis\":\"y\",\"type\":\"bar\"},{\"alignmentgroup\":\"True\",\"hovertemplate\":\"keyword=%{text}<br>Date=%{x}<br>value=%{y}<extra></extra>\",\"legendgroup\":\"\\uac00\\uc0c1\\ud654\\ud3d0\",\"marker\":{\"color\":\"#00cc96\",\"pattern\":{\"shape\":\"\"}},\"name\":\"\\uac00\\uc0c1\\ud654\\ud3d0\",\"offsetgroup\":\"\\uac00\\uc0c1\\ud654\\ud3d0\",\"orientation\":\"v\",\"showlegend\":true,\"text\":[\"\\uac00\\uc0c1\\ud654\\ud3d0\",\"\\uac00\\uc0c1\\ud654\\ud3d0\",\"\\uac00\\uc0c1\\ud654\\ud3d0\",\"\\uac00\\uc0c1\\ud654\\ud3d0\",\"\\uac00\\uc0c1\\ud654\\ud3d0\",\"\\uac00\\uc0c1\\ud654\\ud3d0\",\"\\uac00\\uc0c1\\ud654\\ud3d0\",\"\\uac00\\uc0c1\\ud654\\ud3d0\",\"\\uac00\\uc0c1\\ud654\\ud3d0\",\"\\uac00\\uc0c1\\ud654\\ud3d0\",\"\\uac00\\uc0c1\\ud654\\ud3d0\",\"\\uac00\\uc0c1\\ud654\\ud3d0\",\"\\uac00\\uc0c1\\ud654\\ud3d0\",\"\\uac00\\uc0c1\\ud654\\ud3d0\",\"\\uac00\\uc0c1\\ud654\\ud3d0\",\"\\uac00\\uc0c1\\ud654\\ud3d0\",\"\\uac00\\uc0c1\\ud654\\ud3d0\",\"\\uac00\\uc0c1\\ud654\\ud3d0\",\"\\uac00\\uc0c1\\ud654\\ud3d0\",\"\\uac00\\uc0c1\\ud654\\ud3d0\",\"\\uac00\\uc0c1\\ud654\\ud3d0\",\"\\uac00\\uc0c1\\ud654\\ud3d0\",\"\\uac00\\uc0c1\\ud654\\ud3d0\",\"\\uac00\\uc0c1\\ud654\\ud3d0\",\"\\uac00\\uc0c1\\ud654\\ud3d0\",\"\\uac00\\uc0c1\\ud654\\ud3d0\",\"\\uac00\\uc0c1\\ud654\\ud3d0\",\"\\uac00\\uc0c1\\ud654\\ud3d0\",\"\\uac00\\uc0c1\\ud654\\ud3d0\",\"\\uac00\\uc0c1\\ud654\\ud3d0\",\"\\uac00\\uc0c1\\ud654\\ud3d0\",\"\\uac00\\uc0c1\\ud654\\ud3d0\",\"\\uac00\\uc0c1\\ud654\\ud3d0\",\"\\uac00\\uc0c1\\ud654\\ud3d0\",\"\\uac00\\uc0c1\\ud654\\ud3d0\",\"\\uac00\\uc0c1\\ud654\\ud3d0\",\"\\uac00\\uc0c1\\ud654\\ud3d0\",\"\\uac00\\uc0c1\\ud654\\ud3d0\",\"\\uac00\\uc0c1\\ud654\\ud3d0\",\"\\uac00\\uc0c1\\ud654\\ud3d0\",\"\\uac00\\uc0c1\\ud654\\ud3d0\",\"\\uac00\\uc0c1\\ud654\\ud3d0\",\"\\uac00\\uc0c1\\ud654\\ud3d0\",\"\\uac00\\uc0c1\\ud654\\ud3d0\",\"\\uac00\\uc0c1\\ud654\\ud3d0\",\"\\uac00\\uc0c1\\ud654\\ud3d0\",\"\\uac00\\uc0c1\\ud654\\ud3d0\",\"\\uac00\\uc0c1\\ud654\\ud3d0\",\"\\uac00\\uc0c1\\ud654\\ud3d0\",\"\\uac00\\uc0c1\\ud654\\ud3d0\",\"\\uac00\\uc0c1\\ud654\\ud3d0\",\"\\uac00\\uc0c1\\ud654\\ud3d0\",\"\\uac00\\uc0c1\\ud654\\ud3d0\",\"\\uac00\\uc0c1\\ud654\\ud3d0\",\"\\uac00\\uc0c1\\ud654\\ud3d0\"],\"textposition\":\"auto\",\"x\":[\"2018-01-01T00:00:00\",\"2018-02-01T00:00:00\",\"2018-03-01T00:00:00\",\"2018-04-01T00:00:00\",\"2018-05-01T00:00:00\",\"2018-06-01T00:00:00\",\"2018-07-01T00:00:00\",\"2018-08-01T00:00:00\",\"2018-09-01T00:00:00\",\"2018-10-01T00:00:00\",\"2018-11-01T00:00:00\",\"2018-12-01T00:00:00\",\"2019-01-01T00:00:00\",\"2019-02-01T00:00:00\",\"2019-03-01T00:00:00\",\"2019-04-01T00:00:00\",\"2019-05-01T00:00:00\",\"2019-06-01T00:00:00\",\"2019-07-01T00:00:00\",\"2019-08-01T00:00:00\",\"2019-09-01T00:00:00\",\"2019-10-01T00:00:00\",\"2019-11-01T00:00:00\",\"2019-12-01T00:00:00\",\"2020-01-01T00:00:00\",\"2020-02-01T00:00:00\",\"2020-03-01T00:00:00\",\"2020-04-01T00:00:00\",\"2020-05-01T00:00:00\",\"2020-06-01T00:00:00\",\"2020-07-01T00:00:00\",\"2020-08-01T00:00:00\",\"2020-09-01T00:00:00\",\"2020-10-01T00:00:00\",\"2020-11-01T00:00:00\",\"2020-12-01T00:00:00\",\"2021-01-01T00:00:00\",\"2021-02-01T00:00:00\",\"2021-03-01T00:00:00\",\"2021-04-01T00:00:00\",\"2021-05-01T00:00:00\",\"2021-06-01T00:00:00\",\"2021-07-01T00:00:00\",\"2021-08-01T00:00:00\",\"2021-09-01T00:00:00\",\"2021-10-01T00:00:00\",\"2021-11-01T00:00:00\",\"2021-12-01T00:00:00\",\"2022-01-01T00:00:00\",\"2022-02-01T00:00:00\",\"2022-03-01T00:00:00\",\"2022-04-01T00:00:00\",\"2022-05-01T00:00:00\",\"2022-06-01T00:00:00\",\"2022-07-01T00:00:00\"],\"xaxis\":\"x\",\"y\":[145.0,48.0,37.0,21.0,16.0,10.0,8.0,12.0,20.0,10.0,10.0,5.0,12.0,5.0,6.0,8.0,4.0,12.0,23.0,13.0,11.0,19.0,9.0,9.0,8.0,9.0,10.0,20.0,5.0,2.0,3.0,8.0,0.0,6.0,16.0,24.0,27.0,60.0,34.0,74.0,121.0,65.0,52.0,33.0,41.0,38.0,33.0,15.0,29.0,14.0,40.0,21.0,91.0,48.0,14.0],\"yaxis\":\"y\",\"type\":\"bar\"},{\"alignmentgroup\":\"True\",\"hovertemplate\":\"keyword=%{text}<br>Date=%{x}<br>value=%{y}<extra></extra>\",\"legendgroup\":\"\\uc554\\ud638\\ud654\\ud3d0\",\"marker\":{\"color\":\"#ab63fa\",\"pattern\":{\"shape\":\"\"}},\"name\":\"\\uc554\\ud638\\ud654\\ud3d0\",\"offsetgroup\":\"\\uc554\\ud638\\ud654\\ud3d0\",\"orientation\":\"v\",\"showlegend\":true,\"text\":[\"\\uc554\\ud638\\ud654\\ud3d0\",\"\\uc554\\ud638\\ud654\\ud3d0\",\"\\uc554\\ud638\\ud654\\ud3d0\",\"\\uc554\\ud638\\ud654\\ud3d0\",\"\\uc554\\ud638\\ud654\\ud3d0\",\"\\uc554\\ud638\\ud654\\ud3d0\",\"\\uc554\\ud638\\ud654\\ud3d0\",\"\\uc554\\ud638\\ud654\\ud3d0\",\"\\uc554\\ud638\\ud654\\ud3d0\",\"\\uc554\\ud638\\ud654\\ud3d0\",\"\\uc554\\ud638\\ud654\\ud3d0\",\"\\uc554\\ud638\\ud654\\ud3d0\",\"\\uc554\\ud638\\ud654\\ud3d0\",\"\\uc554\\ud638\\ud654\\ud3d0\",\"\\uc554\\ud638\\ud654\\ud3d0\",\"\\uc554\\ud638\\ud654\\ud3d0\",\"\\uc554\\ud638\\ud654\\ud3d0\",\"\\uc554\\ud638\\ud654\\ud3d0\",\"\\uc554\\ud638\\ud654\\ud3d0\",\"\\uc554\\ud638\\ud654\\ud3d0\",\"\\uc554\\ud638\\ud654\\ud3d0\",\"\\uc554\\ud638\\ud654\\ud3d0\",\"\\uc554\\ud638\\ud654\\ud3d0\",\"\\uc554\\ud638\\ud654\\ud3d0\",\"\\uc554\\ud638\\ud654\\ud3d0\",\"\\uc554\\ud638\\ud654\\ud3d0\",\"\\uc554\\ud638\\ud654\\ud3d0\",\"\\uc554\\ud638\\ud654\\ud3d0\",\"\\uc554\\ud638\\ud654\\ud3d0\",\"\\uc554\\ud638\\ud654\\ud3d0\",\"\\uc554\\ud638\\ud654\\ud3d0\",\"\\uc554\\ud638\\ud654\\ud3d0\",\"\\uc554\\ud638\\ud654\\ud3d0\",\"\\uc554\\ud638\\ud654\\ud3d0\",\"\\uc554\\ud638\\ud654\\ud3d0\",\"\\uc554\\ud638\\ud654\\ud3d0\",\"\\uc554\\ud638\\ud654\\ud3d0\",\"\\uc554\\ud638\\ud654\\ud3d0\",\"\\uc554\\ud638\\ud654\\ud3d0\",\"\\uc554\\ud638\\ud654\\ud3d0\",\"\\uc554\\ud638\\ud654\\ud3d0\",\"\\uc554\\ud638\\ud654\\ud3d0\",\"\\uc554\\ud638\\ud654\\ud3d0\",\"\\uc554\\ud638\\ud654\\ud3d0\",\"\\uc554\\ud638\\ud654\\ud3d0\",\"\\uc554\\ud638\\ud654\\ud3d0\",\"\\uc554\\ud638\\ud654\\ud3d0\",\"\\uc554\\ud638\\ud654\\ud3d0\",\"\\uc554\\ud638\\ud654\\ud3d0\",\"\\uc554\\ud638\\ud654\\ud3d0\",\"\\uc554\\ud638\\ud654\\ud3d0\",\"\\uc554\\ud638\\ud654\\ud3d0\",\"\\uc554\\ud638\\ud654\\ud3d0\",\"\\uc554\\ud638\\ud654\\ud3d0\",\"\\uc554\\ud638\\ud654\\ud3d0\"],\"textposition\":\"auto\",\"x\":[\"2018-01-01T00:00:00\",\"2018-02-01T00:00:00\",\"2018-03-01T00:00:00\",\"2018-04-01T00:00:00\",\"2018-05-01T00:00:00\",\"2018-06-01T00:00:00\",\"2018-07-01T00:00:00\",\"2018-08-01T00:00:00\",\"2018-09-01T00:00:00\",\"2018-10-01T00:00:00\",\"2018-11-01T00:00:00\",\"2018-12-01T00:00:00\",\"2019-01-01T00:00:00\",\"2019-02-01T00:00:00\",\"2019-03-01T00:00:00\",\"2019-04-01T00:00:00\",\"2019-05-01T00:00:00\",\"2019-06-01T00:00:00\",\"2019-07-01T00:00:00\",\"2019-08-01T00:00:00\",\"2019-09-01T00:00:00\",\"2019-10-01T00:00:00\",\"2019-11-01T00:00:00\",\"2019-12-01T00:00:00\",\"2020-01-01T00:00:00\",\"2020-02-01T00:00:00\",\"2020-03-01T00:00:00\",\"2020-04-01T00:00:00\",\"2020-05-01T00:00:00\",\"2020-06-01T00:00:00\",\"2020-07-01T00:00:00\",\"2020-08-01T00:00:00\",\"2020-09-01T00:00:00\",\"2020-10-01T00:00:00\",\"2020-11-01T00:00:00\",\"2020-12-01T00:00:00\",\"2021-01-01T00:00:00\",\"2021-02-01T00:00:00\",\"2021-03-01T00:00:00\",\"2021-04-01T00:00:00\",\"2021-05-01T00:00:00\",\"2021-06-01T00:00:00\",\"2021-07-01T00:00:00\",\"2021-08-01T00:00:00\",\"2021-09-01T00:00:00\",\"2021-10-01T00:00:00\",\"2021-11-01T00:00:00\",\"2021-12-01T00:00:00\",\"2022-01-01T00:00:00\",\"2022-02-01T00:00:00\",\"2022-03-01T00:00:00\",\"2022-04-01T00:00:00\",\"2022-05-01T00:00:00\",\"2022-06-01T00:00:00\",\"2022-07-01T00:00:00\"],\"xaxis\":\"x\",\"y\":[46.0,28.0,39.0,53.0,29.0,29.0,30.0,24.0,34.0,62.0,55.0,17.0,53.0,30.0,48.0,32.0,37.0,52.0,73.0,42.0,60.0,76.0,43.0,46.0,38.0,24.0,22.0,22.0,23.0,19.0,19.0,6.0,18.0,13.0,17.0,33.0,21.0,88.0,64.0,98.0,129.0,57.0,48.0,31.0,37.0,39.0,43.0,24.0,43.0,29.0,62.0,40.0,71.0,47.0,30.0],\"yaxis\":\"y\",\"type\":\"bar\"}],                        {\"template\":{\"data\":{\"bar\":[{\"error_x\":{\"color\":\"#2a3f5f\"},\"error_y\":{\"color\":\"#2a3f5f\"},\"marker\":{\"line\":{\"color\":\"#E5ECF6\",\"width\":0.5},\"pattern\":{\"fillmode\":\"overlay\",\"size\":10,\"solidity\":0.2}},\"type\":\"bar\"}],\"barpolar\":[{\"marker\":{\"line\":{\"color\":\"#E5ECF6\",\"width\":0.5},\"pattern\":{\"fillmode\":\"overlay\",\"size\":10,\"solidity\":0.2}},\"type\":\"barpolar\"}],\"carpet\":[{\"aaxis\":{\"endlinecolor\":\"#2a3f5f\",\"gridcolor\":\"white\",\"linecolor\":\"white\",\"minorgridcolor\":\"white\",\"startlinecolor\":\"#2a3f5f\"},\"baxis\":{\"endlinecolor\":\"#2a3f5f\",\"gridcolor\":\"white\",\"linecolor\":\"white\",\"minorgridcolor\":\"white\",\"startlinecolor\":\"#2a3f5f\"},\"type\":\"carpet\"}],\"choropleth\":[{\"colorbar\":{\"outlinewidth\":0,\"ticks\":\"\"},\"type\":\"choropleth\"}],\"contour\":[{\"colorbar\":{\"outlinewidth\":0,\"ticks\":\"\"},\"colorscale\":[[0.0,\"#0d0887\"],[0.1111111111111111,\"#46039f\"],[0.2222222222222222,\"#7201a8\"],[0.3333333333333333,\"#9c179e\"],[0.4444444444444444,\"#bd3786\"],[0.5555555555555556,\"#d8576b\"],[0.6666666666666666,\"#ed7953\"],[0.7777777777777778,\"#fb9f3a\"],[0.8888888888888888,\"#fdca26\"],[1.0,\"#f0f921\"]],\"type\":\"contour\"}],\"contourcarpet\":[{\"colorbar\":{\"outlinewidth\":0,\"ticks\":\"\"},\"type\":\"contourcarpet\"}],\"heatmap\":[{\"colorbar\":{\"outlinewidth\":0,\"ticks\":\"\"},\"colorscale\":[[0.0,\"#0d0887\"],[0.1111111111111111,\"#46039f\"],[0.2222222222222222,\"#7201a8\"],[0.3333333333333333,\"#9c179e\"],[0.4444444444444444,\"#bd3786\"],[0.5555555555555556,\"#d8576b\"],[0.6666666666666666,\"#ed7953\"],[0.7777777777777778,\"#fb9f3a\"],[0.8888888888888888,\"#fdca26\"],[1.0,\"#f0f921\"]],\"type\":\"heatmap\"}],\"heatmapgl\":[{\"colorbar\":{\"outlinewidth\":0,\"ticks\":\"\"},\"colorscale\":[[0.0,\"#0d0887\"],[0.1111111111111111,\"#46039f\"],[0.2222222222222222,\"#7201a8\"],[0.3333333333333333,\"#9c179e\"],[0.4444444444444444,\"#bd3786\"],[0.5555555555555556,\"#d8576b\"],[0.6666666666666666,\"#ed7953\"],[0.7777777777777778,\"#fb9f3a\"],[0.8888888888888888,\"#fdca26\"],[1.0,\"#f0f921\"]],\"type\":\"heatmapgl\"}],\"histogram\":[{\"marker\":{\"pattern\":{\"fillmode\":\"overlay\",\"size\":10,\"solidity\":0.2}},\"type\":\"histogram\"}],\"histogram2d\":[{\"colorbar\":{\"outlinewidth\":0,\"ticks\":\"\"},\"colorscale\":[[0.0,\"#0d0887\"],[0.1111111111111111,\"#46039f\"],[0.2222222222222222,\"#7201a8\"],[0.3333333333333333,\"#9c179e\"],[0.4444444444444444,\"#bd3786\"],[0.5555555555555556,\"#d8576b\"],[0.6666666666666666,\"#ed7953\"],[0.7777777777777778,\"#fb9f3a\"],[0.8888888888888888,\"#fdca26\"],[1.0,\"#f0f921\"]],\"type\":\"histogram2d\"}],\"histogram2dcontour\":[{\"colorbar\":{\"outlinewidth\":0,\"ticks\":\"\"},\"colorscale\":[[0.0,\"#0d0887\"],[0.1111111111111111,\"#46039f\"],[0.2222222222222222,\"#7201a8\"],[0.3333333333333333,\"#9c179e\"],[0.4444444444444444,\"#bd3786\"],[0.5555555555555556,\"#d8576b\"],[0.6666666666666666,\"#ed7953\"],[0.7777777777777778,\"#fb9f3a\"],[0.8888888888888888,\"#fdca26\"],[1.0,\"#f0f921\"]],\"type\":\"histogram2dcontour\"}],\"mesh3d\":[{\"colorbar\":{\"outlinewidth\":0,\"ticks\":\"\"},\"type\":\"mesh3d\"}],\"parcoords\":[{\"line\":{\"colorbar\":{\"outlinewidth\":0,\"ticks\":\"\"}},\"type\":\"parcoords\"}],\"pie\":[{\"automargin\":true,\"type\":\"pie\"}],\"scatter\":[{\"marker\":{\"colorbar\":{\"outlinewidth\":0,\"ticks\":\"\"}},\"type\":\"scatter\"}],\"scatter3d\":[{\"line\":{\"colorbar\":{\"outlinewidth\":0,\"ticks\":\"\"}},\"marker\":{\"colorbar\":{\"outlinewidth\":0,\"ticks\":\"\"}},\"type\":\"scatter3d\"}],\"scattercarpet\":[{\"marker\":{\"colorbar\":{\"outlinewidth\":0,\"ticks\":\"\"}},\"type\":\"scattercarpet\"}],\"scattergeo\":[{\"marker\":{\"colorbar\":{\"outlinewidth\":0,\"ticks\":\"\"}},\"type\":\"scattergeo\"}],\"scattergl\":[{\"marker\":{\"colorbar\":{\"outlinewidth\":0,\"ticks\":\"\"}},\"type\":\"scattergl\"}],\"scattermapbox\":[{\"marker\":{\"colorbar\":{\"outlinewidth\":0,\"ticks\":\"\"}},\"type\":\"scattermapbox\"}],\"scatterpolar\":[{\"marker\":{\"colorbar\":{\"outlinewidth\":0,\"ticks\":\"\"}},\"type\":\"scatterpolar\"}],\"scatterpolargl\":[{\"marker\":{\"colorbar\":{\"outlinewidth\":0,\"ticks\":\"\"}},\"type\":\"scatterpolargl\"}],\"scatterternary\":[{\"marker\":{\"colorbar\":{\"outlinewidth\":0,\"ticks\":\"\"}},\"type\":\"scatterternary\"}],\"surface\":[{\"colorbar\":{\"outlinewidth\":0,\"ticks\":\"\"},\"colorscale\":[[0.0,\"#0d0887\"],[0.1111111111111111,\"#46039f\"],[0.2222222222222222,\"#7201a8\"],[0.3333333333333333,\"#9c179e\"],[0.4444444444444444,\"#bd3786\"],[0.5555555555555556,\"#d8576b\"],[0.6666666666666666,\"#ed7953\"],[0.7777777777777778,\"#fb9f3a\"],[0.8888888888888888,\"#fdca26\"],[1.0,\"#f0f921\"]],\"type\":\"surface\"}],\"table\":[{\"cells\":{\"fill\":{\"color\":\"#EBF0F8\"},\"line\":{\"color\":\"white\"}},\"header\":{\"fill\":{\"color\":\"#C8D4E3\"},\"line\":{\"color\":\"white\"}},\"type\":\"table\"}]},\"layout\":{\"annotationdefaults\":{\"arrowcolor\":\"#2a3f5f\",\"arrowhead\":0,\"arrowwidth\":1},\"autotypenumbers\":\"strict\",\"coloraxis\":{\"colorbar\":{\"outlinewidth\":0,\"ticks\":\"\"}},\"colorscale\":{\"diverging\":[[0,\"#8e0152\"],[0.1,\"#c51b7d\"],[0.2,\"#de77ae\"],[0.3,\"#f1b6da\"],[0.4,\"#fde0ef\"],[0.5,\"#f7f7f7\"],[0.6,\"#e6f5d0\"],[0.7,\"#b8e186\"],[0.8,\"#7fbc41\"],[0.9,\"#4d9221\"],[1,\"#276419\"]],\"sequential\":[[0.0,\"#0d0887\"],[0.1111111111111111,\"#46039f\"],[0.2222222222222222,\"#7201a8\"],[0.3333333333333333,\"#9c179e\"],[0.4444444444444444,\"#bd3786\"],[0.5555555555555556,\"#d8576b\"],[0.6666666666666666,\"#ed7953\"],[0.7777777777777778,\"#fb9f3a\"],[0.8888888888888888,\"#fdca26\"],[1.0,\"#f0f921\"]],\"sequentialminus\":[[0.0,\"#0d0887\"],[0.1111111111111111,\"#46039f\"],[0.2222222222222222,\"#7201a8\"],[0.3333333333333333,\"#9c179e\"],[0.4444444444444444,\"#bd3786\"],[0.5555555555555556,\"#d8576b\"],[0.6666666666666666,\"#ed7953\"],[0.7777777777777778,\"#fb9f3a\"],[0.8888888888888888,\"#fdca26\"],[1.0,\"#f0f921\"]]},\"colorway\":[\"#636efa\",\"#EF553B\",\"#00cc96\",\"#ab63fa\",\"#FFA15A\",\"#19d3f3\",\"#FF6692\",\"#B6E880\",\"#FF97FF\",\"#FECB52\"],\"font\":{\"color\":\"#2a3f5f\"},\"geo\":{\"bgcolor\":\"white\",\"lakecolor\":\"white\",\"landcolor\":\"#E5ECF6\",\"showlakes\":true,\"showland\":true,\"subunitcolor\":\"white\"},\"hoverlabel\":{\"align\":\"left\"},\"hovermode\":\"closest\",\"mapbox\":{\"style\":\"light\"},\"paper_bgcolor\":\"white\",\"plot_bgcolor\":\"#E5ECF6\",\"polar\":{\"angularaxis\":{\"gridcolor\":\"white\",\"linecolor\":\"white\",\"ticks\":\"\"},\"bgcolor\":\"#E5ECF6\",\"radialaxis\":{\"gridcolor\":\"white\",\"linecolor\":\"white\",\"ticks\":\"\"}},\"scene\":{\"xaxis\":{\"backgroundcolor\":\"#E5ECF6\",\"gridcolor\":\"white\",\"gridwidth\":2,\"linecolor\":\"white\",\"showbackground\":true,\"ticks\":\"\",\"zerolinecolor\":\"white\"},\"yaxis\":{\"backgroundcolor\":\"#E5ECF6\",\"gridcolor\":\"white\",\"gridwidth\":2,\"linecolor\":\"white\",\"showbackground\":true,\"ticks\":\"\",\"zerolinecolor\":\"white\"},\"zaxis\":{\"backgroundcolor\":\"#E5ECF6\",\"gridcolor\":\"white\",\"gridwidth\":2,\"linecolor\":\"white\",\"showbackground\":true,\"ticks\":\"\",\"zerolinecolor\":\"white\"}},\"shapedefaults\":{\"line\":{\"color\":\"#2a3f5f\"}},\"ternary\":{\"aaxis\":{\"gridcolor\":\"white\",\"linecolor\":\"white\",\"ticks\":\"\"},\"baxis\":{\"gridcolor\":\"white\",\"linecolor\":\"white\",\"ticks\":\"\"},\"bgcolor\":\"#E5ECF6\",\"caxis\":{\"gridcolor\":\"white\",\"linecolor\":\"white\",\"ticks\":\"\"}},\"title\":{\"x\":0.05},\"xaxis\":{\"automargin\":true,\"gridcolor\":\"white\",\"linecolor\":\"white\",\"ticks\":\"\",\"title\":{\"standoff\":15},\"zerolinecolor\":\"white\",\"zerolinewidth\":2},\"yaxis\":{\"automargin\":true,\"gridcolor\":\"white\",\"linecolor\":\"white\",\"ticks\":\"\",\"title\":{\"standoff\":15},\"zerolinecolor\":\"white\",\"zerolinewidth\":2}}},\"xaxis\":{\"anchor\":\"y\",\"domain\":[0.0,1.0],\"title\":{\"text\":\"Date\"}},\"yaxis\":{\"anchor\":\"x\",\"domain\":[0.0,1.0],\"title\":{\"text\":\"value\"}},\"legend\":{\"title\":{\"text\":\"keyword\"},\"tracegroupgap\":0},\"margin\":{\"t\":60},\"barmode\":\"relative\"},                        {\"responsive\": true}                    ).then(function(){\n",
       "                            \n",
       "var gd = document.getElementById('dbc48342-0e4b-42e0-94d8-8554e0b7652e');\n",
       "var x = new MutationObserver(function (mutations, observer) {{\n",
       "        var display = window.getComputedStyle(gd).display;\n",
       "        if (!display || display === 'none') {{\n",
       "            console.log([gd, 'removed!']);\n",
       "            Plotly.purge(gd);\n",
       "            observer.disconnect();\n",
       "        }}\n",
       "}});\n",
       "\n",
       "// Listen for the removal of the full notebook cells\n",
       "var notebookContainer = gd.closest('#notebook-container');\n",
       "if (notebookContainer) {{\n",
       "    x.observe(notebookContainer, {childList: true});\n",
       "}}\n",
       "\n",
       "// Listen for the clearing of the current output cell\n",
       "var outputEl = gd.closest('.output');\n",
       "if (outputEl) {{\n",
       "    x.observe(outputEl, {childList: true});\n",
       "}}\n",
       "\n",
       "                        })                };                });            </script>        </div>"
      ]
     },
     "metadata": {},
     "output_type": "display_data"
    }
   ],
   "source": [
    "srch_wrd = ['가상자산','가상통화','가상화폐','암호화폐']\n",
    "df3 =Df3(srch_wrd)\n",
    "fig = px.bar(df3, x=\"Date\", y=\"value\", color=\"keyword\", text=\"keyword\")\n",
    "fig.show()"
   ]
  },
  {
   "cell_type": "code",
   "execution_count": 16,
   "id": "dece480d",
   "metadata": {
    "scrolled": true
   },
   "outputs": [
    {
     "data": {
      "application/vnd.plotly.v1+json": {
       "config": {
        "plotlyServerURL": "https://plot.ly"
       },
       "data": [
        {
         "alignmentgroup": "True",
         "hovertemplate": "keyword=%{text}<br>Date=%{x}<br>Percent=%{y}<extra></extra>",
         "legendgroup": "가상자산",
         "marker": {
          "color": "#636efa",
          "pattern": {
           "shape": ""
          }
         },
         "name": "가상자산",
         "offsetgroup": "가상자산",
         "orientation": "v",
         "showlegend": true,
         "text": [
          "가상자산",
          "가상자산",
          "가상자산",
          "가상자산",
          "가상자산",
          "가상자산",
          "가상자산",
          "가상자산",
          "가상자산",
          "가상자산",
          "가상자산",
          "가상자산",
          "가상자산",
          "가상자산",
          "가상자산",
          "가상자산",
          "가상자산",
          "가상자산",
          "가상자산",
          "가상자산",
          "가상자산",
          "가상자산",
          "가상자산",
          "가상자산",
          "가상자산",
          "가상자산",
          "가상자산",
          "가상자산",
          "가상자산",
          "가상자산",
          "가상자산",
          "가상자산",
          "가상자산",
          "가상자산",
          "가상자산",
          "가상자산",
          "가상자산",
          "가상자산",
          "가상자산",
          "가상자산",
          "가상자산",
          "가상자산",
          "가상자산",
          "가상자산",
          "가상자산",
          "가상자산",
          "가상자산",
          "가상자산",
          "가상자산",
          "가상자산",
          "가상자산",
          "가상자산",
          "가상자산",
          "가상자산",
          "가상자산"
         ],
         "textposition": "auto",
         "type": "bar",
         "x": [
          "2018-01-01T00:00:00",
          "2018-02-01T00:00:00",
          "2018-03-01T00:00:00",
          "2018-04-01T00:00:00",
          "2018-05-01T00:00:00",
          "2018-06-01T00:00:00",
          "2018-07-01T00:00:00",
          "2018-08-01T00:00:00",
          "2018-09-01T00:00:00",
          "2018-10-01T00:00:00",
          "2018-11-01T00:00:00",
          "2018-12-01T00:00:00",
          "2019-01-01T00:00:00",
          "2019-02-01T00:00:00",
          "2019-03-01T00:00:00",
          "2019-04-01T00:00:00",
          "2019-05-01T00:00:00",
          "2019-06-01T00:00:00",
          "2019-07-01T00:00:00",
          "2019-08-01T00:00:00",
          "2019-09-01T00:00:00",
          "2019-10-01T00:00:00",
          "2019-11-01T00:00:00",
          "2019-12-01T00:00:00",
          "2020-01-01T00:00:00",
          "2020-02-01T00:00:00",
          "2020-03-01T00:00:00",
          "2020-04-01T00:00:00",
          "2020-05-01T00:00:00",
          "2020-06-01T00:00:00",
          "2020-07-01T00:00:00",
          "2020-08-01T00:00:00",
          "2020-09-01T00:00:00",
          "2020-10-01T00:00:00",
          "2020-11-01T00:00:00",
          "2020-12-01T00:00:00",
          "2021-01-01T00:00:00",
          "2021-02-01T00:00:00",
          "2021-03-01T00:00:00",
          "2021-04-01T00:00:00",
          "2021-05-01T00:00:00",
          "2021-06-01T00:00:00",
          "2021-07-01T00:00:00",
          "2021-08-01T00:00:00",
          "2021-09-01T00:00:00",
          "2021-10-01T00:00:00",
          "2021-11-01T00:00:00",
          "2021-12-01T00:00:00",
          "2022-01-01T00:00:00",
          "2022-02-01T00:00:00",
          "2022-03-01T00:00:00",
          "2022-04-01T00:00:00",
          "2022-05-01T00:00:00",
          "2022-06-01T00:00:00",
          "2022-07-01T00:00:00"
         ],
         "xaxis": "x",
         "y": [
          0,
          0,
          0,
          0,
          0.017857142857142856,
          0,
          0,
          0,
          0,
          0,
          0,
          0,
          0.012658227848101266,
          0.02564102564102564,
          0,
          0,
          0,
          0,
          0.018867924528301886,
          0,
          0,
          0.13274336283185842,
          0.05357142857142857,
          0.05172413793103448,
          0,
          0.02857142857142857,
          0.2916666666666667,
          0.27586206896551724,
          0.32558139534883723,
          0.5227272727272727,
          0.46511627906976744,
          0.42857142857142855,
          0.41935483870967744,
          0.5238095238095238,
          0.4927536231884058,
          0.3409090909090909,
          0.34615384615384615,
          0.1891891891891892,
          0.3026315789473684,
          0.2768595041322314,
          0.2841225626740947,
          0.29775280898876405,
          0.22900763358778625,
          0.39622641509433965,
          0.3333333333333333,
          0.3888888888888889,
          0.5476190476190477,
          0.6946564885496184,
          0.5944444444444444,
          0.5656565656565656,
          0.47959183673469385,
          0.5338345864661654,
          0.4790996784565916,
          0.49206349206349204,
          0.640625
         ],
         "yaxis": "y"
        },
        {
         "alignmentgroup": "True",
         "hovertemplate": "keyword=%{text}<br>Date=%{x}<br>Percent=%{y}<extra></extra>",
         "legendgroup": "가상통화",
         "marker": {
          "color": "#EF553B",
          "pattern": {
           "shape": ""
          }
         },
         "name": "가상통화",
         "offsetgroup": "가상통화",
         "orientation": "v",
         "showlegend": true,
         "text": [
          "가상통화",
          "가상통화",
          "가상통화",
          "가상통화",
          "가상통화",
          "가상통화",
          "가상통화",
          "가상통화",
          "가상통화",
          "가상통화",
          "가상통화",
          "가상통화",
          "가상통화",
          "가상통화",
          "가상통화",
          "가상통화",
          "가상통화",
          "가상통화",
          "가상통화",
          "가상통화",
          "가상통화",
          "가상통화",
          "가상통화",
          "가상통화",
          "가상통화",
          "가상통화",
          "가상통화",
          "가상통화",
          "가상통화",
          "가상통화",
          "가상통화",
          "가상통화",
          "가상통화",
          "가상통화",
          "가상통화",
          "가상통화",
          "가상통화",
          "가상통화",
          "가상통화",
          "가상통화",
          "가상통화",
          "가상통화",
          "가상통화",
          "가상통화",
          "가상통화",
          "가상통화",
          "가상통화",
          "가상통화",
          "가상통화",
          "가상통화",
          "가상통화",
          "가상통화",
          "가상통화",
          "가상통화",
          "가상통화"
         ],
         "textposition": "auto",
         "type": "bar",
         "x": [
          "2018-01-01T00:00:00",
          "2018-02-01T00:00:00",
          "2018-03-01T00:00:00",
          "2018-04-01T00:00:00",
          "2018-05-01T00:00:00",
          "2018-06-01T00:00:00",
          "2018-07-01T00:00:00",
          "2018-08-01T00:00:00",
          "2018-09-01T00:00:00",
          "2018-10-01T00:00:00",
          "2018-11-01T00:00:00",
          "2018-12-01T00:00:00",
          "2019-01-01T00:00:00",
          "2019-02-01T00:00:00",
          "2019-03-01T00:00:00",
          "2019-04-01T00:00:00",
          "2019-05-01T00:00:00",
          "2019-06-01T00:00:00",
          "2019-07-01T00:00:00",
          "2019-08-01T00:00:00",
          "2019-09-01T00:00:00",
          "2019-10-01T00:00:00",
          "2019-11-01T00:00:00",
          "2019-12-01T00:00:00",
          "2020-01-01T00:00:00",
          "2020-02-01T00:00:00",
          "2020-03-01T00:00:00",
          "2020-04-01T00:00:00",
          "2020-05-01T00:00:00",
          "2020-06-01T00:00:00",
          "2020-07-01T00:00:00",
          "2020-08-01T00:00:00",
          "2020-09-01T00:00:00",
          "2020-10-01T00:00:00",
          "2020-11-01T00:00:00",
          "2020-12-01T00:00:00",
          "2021-01-01T00:00:00",
          "2021-02-01T00:00:00",
          "2021-03-01T00:00:00",
          "2021-04-01T00:00:00",
          "2021-05-01T00:00:00",
          "2021-06-01T00:00:00",
          "2021-07-01T00:00:00",
          "2021-08-01T00:00:00",
          "2021-09-01T00:00:00",
          "2021-10-01T00:00:00",
          "2021-11-01T00:00:00",
          "2021-12-01T00:00:00",
          "2022-01-01T00:00:00",
          "2022-02-01T00:00:00",
          "2022-03-01T00:00:00",
          "2022-04-01T00:00:00",
          "2022-05-01T00:00:00",
          "2022-06-01T00:00:00",
          "2022-07-01T00:00:00"
         ],
         "xaxis": "x",
         "y": [
          0.2596899224806202,
          0.15555555555555556,
          0.15555555555555556,
          0.08641975308641975,
          0.17857142857142858,
          0.11363636363636363,
          0.17391304347826086,
          0.12195121951219512,
          0.23943661971830985,
          0.07692307692307693,
          0.1095890410958904,
          0.12,
          0.16455696202531644,
          0.07692307692307693,
          0.03571428571428571,
          0.06976744186046512,
          0.06818181818181818,
          0.058823529411764705,
          0.07547169811320754,
          0.017857142857142856,
          0.013888888888888888,
          0.02654867256637168,
          0.017857142857142856,
          0,
          0,
          0.02857142857142857,
          0.041666666666666664,
          0,
          0.023255813953488372,
          0,
          0.023255813953488372,
          0.07142857142857142,
          0,
          0.023809523809523808,
          0.028985507246376812,
          0.011363636363636364,
          0.038461538461538464,
          0.010810810810810811,
          0.05263157894736842,
          0.012396694214876033,
          0.019498607242339833,
          0.016853932584269662,
          0.007633587786259542,
          0,
          0,
          0,
          0,
          0.007633587786259542,
          0.005555555555555556,
          0,
          0,
          0.007518796992481203,
          0,
          0.005291005291005291,
          0.015625
         ],
         "yaxis": "y"
        },
        {
         "alignmentgroup": "True",
         "hovertemplate": "keyword=%{text}<br>Date=%{x}<br>Percent=%{y}<extra></extra>",
         "legendgroup": "가상화폐",
         "marker": {
          "color": "#00cc96",
          "pattern": {
           "shape": ""
          }
         },
         "name": "가상화폐",
         "offsetgroup": "가상화폐",
         "orientation": "v",
         "showlegend": true,
         "text": [
          "가상화폐",
          "가상화폐",
          "가상화폐",
          "가상화폐",
          "가상화폐",
          "가상화폐",
          "가상화폐",
          "가상화폐",
          "가상화폐",
          "가상화폐",
          "가상화폐",
          "가상화폐",
          "가상화폐",
          "가상화폐",
          "가상화폐",
          "가상화폐",
          "가상화폐",
          "가상화폐",
          "가상화폐",
          "가상화폐",
          "가상화폐",
          "가상화폐",
          "가상화폐",
          "가상화폐",
          "가상화폐",
          "가상화폐",
          "가상화폐",
          "가상화폐",
          "가상화폐",
          "가상화폐",
          "가상화폐",
          "가상화폐",
          "가상화폐",
          "가상화폐",
          "가상화폐",
          "가상화폐",
          "가상화폐",
          "가상화폐",
          "가상화폐",
          "가상화폐",
          "가상화폐",
          "가상화폐",
          "가상화폐",
          "가상화폐",
          "가상화폐",
          "가상화폐",
          "가상화폐",
          "가상화폐",
          "가상화폐",
          "가상화폐",
          "가상화폐",
          "가상화폐",
          "가상화폐",
          "가상화폐",
          "가상화폐"
         ],
         "textposition": "auto",
         "type": "bar",
         "x": [
          "2018-01-01T00:00:00",
          "2018-02-01T00:00:00",
          "2018-03-01T00:00:00",
          "2018-04-01T00:00:00",
          "2018-05-01T00:00:00",
          "2018-06-01T00:00:00",
          "2018-07-01T00:00:00",
          "2018-08-01T00:00:00",
          "2018-09-01T00:00:00",
          "2018-10-01T00:00:00",
          "2018-11-01T00:00:00",
          "2018-12-01T00:00:00",
          "2019-01-01T00:00:00",
          "2019-02-01T00:00:00",
          "2019-03-01T00:00:00",
          "2019-04-01T00:00:00",
          "2019-05-01T00:00:00",
          "2019-06-01T00:00:00",
          "2019-07-01T00:00:00",
          "2019-08-01T00:00:00",
          "2019-09-01T00:00:00",
          "2019-10-01T00:00:00",
          "2019-11-01T00:00:00",
          "2019-12-01T00:00:00",
          "2020-01-01T00:00:00",
          "2020-02-01T00:00:00",
          "2020-03-01T00:00:00",
          "2020-04-01T00:00:00",
          "2020-05-01T00:00:00",
          "2020-06-01T00:00:00",
          "2020-07-01T00:00:00",
          "2020-08-01T00:00:00",
          "2020-09-01T00:00:00",
          "2020-10-01T00:00:00",
          "2020-11-01T00:00:00",
          "2020-12-01T00:00:00",
          "2021-01-01T00:00:00",
          "2021-02-01T00:00:00",
          "2021-03-01T00:00:00",
          "2021-04-01T00:00:00",
          "2021-05-01T00:00:00",
          "2021-06-01T00:00:00",
          "2021-07-01T00:00:00",
          "2021-08-01T00:00:00",
          "2021-09-01T00:00:00",
          "2021-10-01T00:00:00",
          "2021-11-01T00:00:00",
          "2021-12-01T00:00:00",
          "2022-01-01T00:00:00",
          "2022-02-01T00:00:00",
          "2022-03-01T00:00:00",
          "2022-04-01T00:00:00",
          "2022-05-01T00:00:00",
          "2022-06-01T00:00:00",
          "2022-07-01T00:00:00"
         ],
         "xaxis": "x",
         "y": [
          0.562015503875969,
          0.5333333333333333,
          0.4111111111111111,
          0.25925925925925924,
          0.2857142857142857,
          0.22727272727272727,
          0.17391304347826086,
          0.2926829268292683,
          0.28169014084507044,
          0.1282051282051282,
          0.136986301369863,
          0.2,
          0.1518987341772152,
          0.1282051282051282,
          0.10714285714285714,
          0.18604651162790697,
          0.09090909090909091,
          0.17647058823529413,
          0.2169811320754717,
          0.23214285714285715,
          0.1527777777777778,
          0.168141592920354,
          0.16071428571428573,
          0.15517241379310345,
          0.17391304347826086,
          0.2571428571428571,
          0.20833333333333334,
          0.3448275862068966,
          0.11627906976744186,
          0.045454545454545456,
          0.06976744186046512,
          0.2857142857142857,
          0,
          0.14285714285714285,
          0.2318840579710145,
          0.2727272727272727,
          0.34615384615384615,
          0.32432432432432434,
          0.2236842105263158,
          0.30578512396694213,
          0.3370473537604457,
          0.3651685393258427,
          0.3969465648854962,
          0.3113207547169811,
          0.3504273504273504,
          0.30158730158730157,
          0.19642857142857142,
          0.11450381679389313,
          0.16111111111111112,
          0.1414141414141414,
          0.20408163265306123,
          0.15789473684210525,
          0.29260450160771706,
          0.25396825396825395,
          0.109375
         ],
         "yaxis": "y"
        },
        {
         "alignmentgroup": "True",
         "hovertemplate": "keyword=%{text}<br>Date=%{x}<br>Percent=%{y}<extra></extra>",
         "legendgroup": "암호화폐",
         "marker": {
          "color": "#ab63fa",
          "pattern": {
           "shape": ""
          }
         },
         "name": "암호화폐",
         "offsetgroup": "암호화폐",
         "orientation": "v",
         "showlegend": true,
         "text": [
          "암호화폐",
          "암호화폐",
          "암호화폐",
          "암호화폐",
          "암호화폐",
          "암호화폐",
          "암호화폐",
          "암호화폐",
          "암호화폐",
          "암호화폐",
          "암호화폐",
          "암호화폐",
          "암호화폐",
          "암호화폐",
          "암호화폐",
          "암호화폐",
          "암호화폐",
          "암호화폐",
          "암호화폐",
          "암호화폐",
          "암호화폐",
          "암호화폐",
          "암호화폐",
          "암호화폐",
          "암호화폐",
          "암호화폐",
          "암호화폐",
          "암호화폐",
          "암호화폐",
          "암호화폐",
          "암호화폐",
          "암호화폐",
          "암호화폐",
          "암호화폐",
          "암호화폐",
          "암호화폐",
          "암호화폐",
          "암호화폐",
          "암호화폐",
          "암호화폐",
          "암호화폐",
          "암호화폐",
          "암호화폐",
          "암호화폐",
          "암호화폐",
          "암호화폐",
          "암호화폐",
          "암호화폐",
          "암호화폐",
          "암호화폐",
          "암호화폐",
          "암호화폐",
          "암호화폐",
          "암호화폐",
          "암호화폐"
         ],
         "textposition": "auto",
         "type": "bar",
         "x": [
          "2018-01-01T00:00:00",
          "2018-02-01T00:00:00",
          "2018-03-01T00:00:00",
          "2018-04-01T00:00:00",
          "2018-05-01T00:00:00",
          "2018-06-01T00:00:00",
          "2018-07-01T00:00:00",
          "2018-08-01T00:00:00",
          "2018-09-01T00:00:00",
          "2018-10-01T00:00:00",
          "2018-11-01T00:00:00",
          "2018-12-01T00:00:00",
          "2019-01-01T00:00:00",
          "2019-02-01T00:00:00",
          "2019-03-01T00:00:00",
          "2019-04-01T00:00:00",
          "2019-05-01T00:00:00",
          "2019-06-01T00:00:00",
          "2019-07-01T00:00:00",
          "2019-08-01T00:00:00",
          "2019-09-01T00:00:00",
          "2019-10-01T00:00:00",
          "2019-11-01T00:00:00",
          "2019-12-01T00:00:00",
          "2020-01-01T00:00:00",
          "2020-02-01T00:00:00",
          "2020-03-01T00:00:00",
          "2020-04-01T00:00:00",
          "2020-05-01T00:00:00",
          "2020-06-01T00:00:00",
          "2020-07-01T00:00:00",
          "2020-08-01T00:00:00",
          "2020-09-01T00:00:00",
          "2020-10-01T00:00:00",
          "2020-11-01T00:00:00",
          "2020-12-01T00:00:00",
          "2021-01-01T00:00:00",
          "2021-02-01T00:00:00",
          "2021-03-01T00:00:00",
          "2021-04-01T00:00:00",
          "2021-05-01T00:00:00",
          "2021-06-01T00:00:00",
          "2021-07-01T00:00:00",
          "2021-08-01T00:00:00",
          "2021-09-01T00:00:00",
          "2021-10-01T00:00:00",
          "2021-11-01T00:00:00",
          "2021-12-01T00:00:00",
          "2022-01-01T00:00:00",
          "2022-02-01T00:00:00",
          "2022-03-01T00:00:00",
          "2022-04-01T00:00:00",
          "2022-05-01T00:00:00",
          "2022-06-01T00:00:00",
          "2022-07-01T00:00:00"
         ],
         "xaxis": "x",
         "y": [
          0.17829457364341086,
          0.3111111111111111,
          0.43333333333333335,
          0.654320987654321,
          0.5178571428571429,
          0.6590909090909091,
          0.6521739130434783,
          0.5853658536585366,
          0.4788732394366197,
          0.7948717948717948,
          0.7534246575342466,
          0.68,
          0.6708860759493671,
          0.7692307692307693,
          0.8571428571428571,
          0.7441860465116279,
          0.8409090909090909,
          0.7647058823529411,
          0.6886792452830188,
          0.75,
          0.8333333333333334,
          0.672566371681416,
          0.7678571428571429,
          0.7931034482758621,
          0.8260869565217391,
          0.6857142857142857,
          0.4583333333333333,
          0.3793103448275862,
          0.5348837209302325,
          0.4318181818181818,
          0.4418604651162791,
          0.21428571428571427,
          0.5806451612903226,
          0.30952380952380953,
          0.2463768115942029,
          0.375,
          0.2692307692307692,
          0.4756756756756757,
          0.42105263157894735,
          0.4049586776859504,
          0.3593314763231198,
          0.3202247191011236,
          0.366412213740458,
          0.29245283018867924,
          0.3162393162393162,
          0.30952380952380953,
          0.25595238095238093,
          0.183206106870229,
          0.2388888888888889,
          0.29292929292929293,
          0.3163265306122449,
          0.3007518796992481,
          0.2282958199356913,
          0.24867724867724866,
          0.234375
         ],
         "yaxis": "y"
        }
       ],
       "layout": {
        "bargap": 0,
        "barmode": "relative",
        "legend": {
         "title": {
          "text": "keyword"
         },
         "tracegroupgap": 0
        },
        "margin": {
         "t": 60
        },
        "template": {
         "data": {
          "bar": [
           {
            "error_x": {
             "color": "#2a3f5f"
            },
            "error_y": {
             "color": "#2a3f5f"
            },
            "marker": {
             "line": {
              "color": "#E5ECF6",
              "width": 0.5
             },
             "pattern": {
              "fillmode": "overlay",
              "size": 10,
              "solidity": 0.2
             }
            },
            "type": "bar"
           }
          ],
          "barpolar": [
           {
            "marker": {
             "line": {
              "color": "#E5ECF6",
              "width": 0.5
             },
             "pattern": {
              "fillmode": "overlay",
              "size": 10,
              "solidity": 0.2
             }
            },
            "type": "barpolar"
           }
          ],
          "carpet": [
           {
            "aaxis": {
             "endlinecolor": "#2a3f5f",
             "gridcolor": "white",
             "linecolor": "white",
             "minorgridcolor": "white",
             "startlinecolor": "#2a3f5f"
            },
            "baxis": {
             "endlinecolor": "#2a3f5f",
             "gridcolor": "white",
             "linecolor": "white",
             "minorgridcolor": "white",
             "startlinecolor": "#2a3f5f"
            },
            "type": "carpet"
           }
          ],
          "choropleth": [
           {
            "colorbar": {
             "outlinewidth": 0,
             "ticks": ""
            },
            "type": "choropleth"
           }
          ],
          "contour": [
           {
            "colorbar": {
             "outlinewidth": 0,
             "ticks": ""
            },
            "colorscale": [
             [
              0,
              "#0d0887"
             ],
             [
              0.1111111111111111,
              "#46039f"
             ],
             [
              0.2222222222222222,
              "#7201a8"
             ],
             [
              0.3333333333333333,
              "#9c179e"
             ],
             [
              0.4444444444444444,
              "#bd3786"
             ],
             [
              0.5555555555555556,
              "#d8576b"
             ],
             [
              0.6666666666666666,
              "#ed7953"
             ],
             [
              0.7777777777777778,
              "#fb9f3a"
             ],
             [
              0.8888888888888888,
              "#fdca26"
             ],
             [
              1,
              "#f0f921"
             ]
            ],
            "type": "contour"
           }
          ],
          "contourcarpet": [
           {
            "colorbar": {
             "outlinewidth": 0,
             "ticks": ""
            },
            "type": "contourcarpet"
           }
          ],
          "heatmap": [
           {
            "colorbar": {
             "outlinewidth": 0,
             "ticks": ""
            },
            "colorscale": [
             [
              0,
              "#0d0887"
             ],
             [
              0.1111111111111111,
              "#46039f"
             ],
             [
              0.2222222222222222,
              "#7201a8"
             ],
             [
              0.3333333333333333,
              "#9c179e"
             ],
             [
              0.4444444444444444,
              "#bd3786"
             ],
             [
              0.5555555555555556,
              "#d8576b"
             ],
             [
              0.6666666666666666,
              "#ed7953"
             ],
             [
              0.7777777777777778,
              "#fb9f3a"
             ],
             [
              0.8888888888888888,
              "#fdca26"
             ],
             [
              1,
              "#f0f921"
             ]
            ],
            "type": "heatmap"
           }
          ],
          "heatmapgl": [
           {
            "colorbar": {
             "outlinewidth": 0,
             "ticks": ""
            },
            "colorscale": [
             [
              0,
              "#0d0887"
             ],
             [
              0.1111111111111111,
              "#46039f"
             ],
             [
              0.2222222222222222,
              "#7201a8"
             ],
             [
              0.3333333333333333,
              "#9c179e"
             ],
             [
              0.4444444444444444,
              "#bd3786"
             ],
             [
              0.5555555555555556,
              "#d8576b"
             ],
             [
              0.6666666666666666,
              "#ed7953"
             ],
             [
              0.7777777777777778,
              "#fb9f3a"
             ],
             [
              0.8888888888888888,
              "#fdca26"
             ],
             [
              1,
              "#f0f921"
             ]
            ],
            "type": "heatmapgl"
           }
          ],
          "histogram": [
           {
            "marker": {
             "pattern": {
              "fillmode": "overlay",
              "size": 10,
              "solidity": 0.2
             }
            },
            "type": "histogram"
           }
          ],
          "histogram2d": [
           {
            "colorbar": {
             "outlinewidth": 0,
             "ticks": ""
            },
            "colorscale": [
             [
              0,
              "#0d0887"
             ],
             [
              0.1111111111111111,
              "#46039f"
             ],
             [
              0.2222222222222222,
              "#7201a8"
             ],
             [
              0.3333333333333333,
              "#9c179e"
             ],
             [
              0.4444444444444444,
              "#bd3786"
             ],
             [
              0.5555555555555556,
              "#d8576b"
             ],
             [
              0.6666666666666666,
              "#ed7953"
             ],
             [
              0.7777777777777778,
              "#fb9f3a"
             ],
             [
              0.8888888888888888,
              "#fdca26"
             ],
             [
              1,
              "#f0f921"
             ]
            ],
            "type": "histogram2d"
           }
          ],
          "histogram2dcontour": [
           {
            "colorbar": {
             "outlinewidth": 0,
             "ticks": ""
            },
            "colorscale": [
             [
              0,
              "#0d0887"
             ],
             [
              0.1111111111111111,
              "#46039f"
             ],
             [
              0.2222222222222222,
              "#7201a8"
             ],
             [
              0.3333333333333333,
              "#9c179e"
             ],
             [
              0.4444444444444444,
              "#bd3786"
             ],
             [
              0.5555555555555556,
              "#d8576b"
             ],
             [
              0.6666666666666666,
              "#ed7953"
             ],
             [
              0.7777777777777778,
              "#fb9f3a"
             ],
             [
              0.8888888888888888,
              "#fdca26"
             ],
             [
              1,
              "#f0f921"
             ]
            ],
            "type": "histogram2dcontour"
           }
          ],
          "mesh3d": [
           {
            "colorbar": {
             "outlinewidth": 0,
             "ticks": ""
            },
            "type": "mesh3d"
           }
          ],
          "parcoords": [
           {
            "line": {
             "colorbar": {
              "outlinewidth": 0,
              "ticks": ""
             }
            },
            "type": "parcoords"
           }
          ],
          "pie": [
           {
            "automargin": true,
            "type": "pie"
           }
          ],
          "scatter": [
           {
            "marker": {
             "colorbar": {
              "outlinewidth": 0,
              "ticks": ""
             }
            },
            "type": "scatter"
           }
          ],
          "scatter3d": [
           {
            "line": {
             "colorbar": {
              "outlinewidth": 0,
              "ticks": ""
             }
            },
            "marker": {
             "colorbar": {
              "outlinewidth": 0,
              "ticks": ""
             }
            },
            "type": "scatter3d"
           }
          ],
          "scattercarpet": [
           {
            "marker": {
             "colorbar": {
              "outlinewidth": 0,
              "ticks": ""
             }
            },
            "type": "scattercarpet"
           }
          ],
          "scattergeo": [
           {
            "marker": {
             "colorbar": {
              "outlinewidth": 0,
              "ticks": ""
             }
            },
            "type": "scattergeo"
           }
          ],
          "scattergl": [
           {
            "marker": {
             "colorbar": {
              "outlinewidth": 0,
              "ticks": ""
             }
            },
            "type": "scattergl"
           }
          ],
          "scattermapbox": [
           {
            "marker": {
             "colorbar": {
              "outlinewidth": 0,
              "ticks": ""
             }
            },
            "type": "scattermapbox"
           }
          ],
          "scatterpolar": [
           {
            "marker": {
             "colorbar": {
              "outlinewidth": 0,
              "ticks": ""
             }
            },
            "type": "scatterpolar"
           }
          ],
          "scatterpolargl": [
           {
            "marker": {
             "colorbar": {
              "outlinewidth": 0,
              "ticks": ""
             }
            },
            "type": "scatterpolargl"
           }
          ],
          "scatterternary": [
           {
            "marker": {
             "colorbar": {
              "outlinewidth": 0,
              "ticks": ""
             }
            },
            "type": "scatterternary"
           }
          ],
          "surface": [
           {
            "colorbar": {
             "outlinewidth": 0,
             "ticks": ""
            },
            "colorscale": [
             [
              0,
              "#0d0887"
             ],
             [
              0.1111111111111111,
              "#46039f"
             ],
             [
              0.2222222222222222,
              "#7201a8"
             ],
             [
              0.3333333333333333,
              "#9c179e"
             ],
             [
              0.4444444444444444,
              "#bd3786"
             ],
             [
              0.5555555555555556,
              "#d8576b"
             ],
             [
              0.6666666666666666,
              "#ed7953"
             ],
             [
              0.7777777777777778,
              "#fb9f3a"
             ],
             [
              0.8888888888888888,
              "#fdca26"
             ],
             [
              1,
              "#f0f921"
             ]
            ],
            "type": "surface"
           }
          ],
          "table": [
           {
            "cells": {
             "fill": {
              "color": "#EBF0F8"
             },
             "line": {
              "color": "white"
             }
            },
            "header": {
             "fill": {
              "color": "#C8D4E3"
             },
             "line": {
              "color": "white"
             }
            },
            "type": "table"
           }
          ]
         },
         "layout": {
          "annotationdefaults": {
           "arrowcolor": "#2a3f5f",
           "arrowhead": 0,
           "arrowwidth": 1
          },
          "autotypenumbers": "strict",
          "coloraxis": {
           "colorbar": {
            "outlinewidth": 0,
            "ticks": ""
           }
          },
          "colorscale": {
           "diverging": [
            [
             0,
             "#8e0152"
            ],
            [
             0.1,
             "#c51b7d"
            ],
            [
             0.2,
             "#de77ae"
            ],
            [
             0.3,
             "#f1b6da"
            ],
            [
             0.4,
             "#fde0ef"
            ],
            [
             0.5,
             "#f7f7f7"
            ],
            [
             0.6,
             "#e6f5d0"
            ],
            [
             0.7,
             "#b8e186"
            ],
            [
             0.8,
             "#7fbc41"
            ],
            [
             0.9,
             "#4d9221"
            ],
            [
             1,
             "#276419"
            ]
           ],
           "sequential": [
            [
             0,
             "#0d0887"
            ],
            [
             0.1111111111111111,
             "#46039f"
            ],
            [
             0.2222222222222222,
             "#7201a8"
            ],
            [
             0.3333333333333333,
             "#9c179e"
            ],
            [
             0.4444444444444444,
             "#bd3786"
            ],
            [
             0.5555555555555556,
             "#d8576b"
            ],
            [
             0.6666666666666666,
             "#ed7953"
            ],
            [
             0.7777777777777778,
             "#fb9f3a"
            ],
            [
             0.8888888888888888,
             "#fdca26"
            ],
            [
             1,
             "#f0f921"
            ]
           ],
           "sequentialminus": [
            [
             0,
             "#0d0887"
            ],
            [
             0.1111111111111111,
             "#46039f"
            ],
            [
             0.2222222222222222,
             "#7201a8"
            ],
            [
             0.3333333333333333,
             "#9c179e"
            ],
            [
             0.4444444444444444,
             "#bd3786"
            ],
            [
             0.5555555555555556,
             "#d8576b"
            ],
            [
             0.6666666666666666,
             "#ed7953"
            ],
            [
             0.7777777777777778,
             "#fb9f3a"
            ],
            [
             0.8888888888888888,
             "#fdca26"
            ],
            [
             1,
             "#f0f921"
            ]
           ]
          },
          "colorway": [
           "#636efa",
           "#EF553B",
           "#00cc96",
           "#ab63fa",
           "#FFA15A",
           "#19d3f3",
           "#FF6692",
           "#B6E880",
           "#FF97FF",
           "#FECB52"
          ],
          "font": {
           "color": "#2a3f5f"
          },
          "geo": {
           "bgcolor": "white",
           "lakecolor": "white",
           "landcolor": "#E5ECF6",
           "showlakes": true,
           "showland": true,
           "subunitcolor": "white"
          },
          "hoverlabel": {
           "align": "left"
          },
          "hovermode": "closest",
          "mapbox": {
           "style": "light"
          },
          "paper_bgcolor": "white",
          "plot_bgcolor": "#E5ECF6",
          "polar": {
           "angularaxis": {
            "gridcolor": "white",
            "linecolor": "white",
            "ticks": ""
           },
           "bgcolor": "#E5ECF6",
           "radialaxis": {
            "gridcolor": "white",
            "linecolor": "white",
            "ticks": ""
           }
          },
          "scene": {
           "xaxis": {
            "backgroundcolor": "#E5ECF6",
            "gridcolor": "white",
            "gridwidth": 2,
            "linecolor": "white",
            "showbackground": true,
            "ticks": "",
            "zerolinecolor": "white"
           },
           "yaxis": {
            "backgroundcolor": "#E5ECF6",
            "gridcolor": "white",
            "gridwidth": 2,
            "linecolor": "white",
            "showbackground": true,
            "ticks": "",
            "zerolinecolor": "white"
           },
           "zaxis": {
            "backgroundcolor": "#E5ECF6",
            "gridcolor": "white",
            "gridwidth": 2,
            "linecolor": "white",
            "showbackground": true,
            "ticks": "",
            "zerolinecolor": "white"
           }
          },
          "shapedefaults": {
           "line": {
            "color": "#2a3f5f"
           }
          },
          "ternary": {
           "aaxis": {
            "gridcolor": "white",
            "linecolor": "white",
            "ticks": ""
           },
           "baxis": {
            "gridcolor": "white",
            "linecolor": "white",
            "ticks": ""
           },
           "bgcolor": "#E5ECF6",
           "caxis": {
            "gridcolor": "white",
            "linecolor": "white",
            "ticks": ""
           }
          },
          "title": {
           "x": 0.05
          },
          "xaxis": {
           "automargin": true,
           "gridcolor": "white",
           "linecolor": "white",
           "ticks": "",
           "title": {
            "standoff": 15
           },
           "zerolinecolor": "white",
           "zerolinewidth": 2
          },
          "yaxis": {
           "automargin": true,
           "gridcolor": "white",
           "linecolor": "white",
           "ticks": "",
           "title": {
            "standoff": 15
           },
           "zerolinecolor": "white",
           "zerolinewidth": 2
          }
         }
        },
        "xaxis": {
         "anchor": "y",
         "domain": [
          0,
          1
         ],
         "title": {
          "text": "Date"
         }
        },
        "yaxis": {
         "anchor": "x",
         "domain": [
          0,
          1
         ],
         "title": {
          "text": "Percent"
         }
        }
       }
      },
      "text/html": [
       "<div>                            <div id=\"729f21a5-966f-42ac-8933-9dcf23af0c11\" class=\"plotly-graph-div\" style=\"height:525px; width:100%;\"></div>            <script type=\"text/javascript\">                require([\"plotly\"], function(Plotly) {                    window.PLOTLYENV=window.PLOTLYENV || {};                                    if (document.getElementById(\"729f21a5-966f-42ac-8933-9dcf23af0c11\")) {                    Plotly.newPlot(                        \"729f21a5-966f-42ac-8933-9dcf23af0c11\",                        [{\"alignmentgroup\":\"True\",\"hovertemplate\":\"keyword=%{text}<br>Date=%{x}<br>Percent=%{y}<extra></extra>\",\"legendgroup\":\"\\uac00\\uc0c1\\uc790\\uc0b0\",\"marker\":{\"color\":\"#636efa\",\"pattern\":{\"shape\":\"\"}},\"name\":\"\\uac00\\uc0c1\\uc790\\uc0b0\",\"offsetgroup\":\"\\uac00\\uc0c1\\uc790\\uc0b0\",\"orientation\":\"v\",\"showlegend\":true,\"text\":[\"\\uac00\\uc0c1\\uc790\\uc0b0\",\"\\uac00\\uc0c1\\uc790\\uc0b0\",\"\\uac00\\uc0c1\\uc790\\uc0b0\",\"\\uac00\\uc0c1\\uc790\\uc0b0\",\"\\uac00\\uc0c1\\uc790\\uc0b0\",\"\\uac00\\uc0c1\\uc790\\uc0b0\",\"\\uac00\\uc0c1\\uc790\\uc0b0\",\"\\uac00\\uc0c1\\uc790\\uc0b0\",\"\\uac00\\uc0c1\\uc790\\uc0b0\",\"\\uac00\\uc0c1\\uc790\\uc0b0\",\"\\uac00\\uc0c1\\uc790\\uc0b0\",\"\\uac00\\uc0c1\\uc790\\uc0b0\",\"\\uac00\\uc0c1\\uc790\\uc0b0\",\"\\uac00\\uc0c1\\uc790\\uc0b0\",\"\\uac00\\uc0c1\\uc790\\uc0b0\",\"\\uac00\\uc0c1\\uc790\\uc0b0\",\"\\uac00\\uc0c1\\uc790\\uc0b0\",\"\\uac00\\uc0c1\\uc790\\uc0b0\",\"\\uac00\\uc0c1\\uc790\\uc0b0\",\"\\uac00\\uc0c1\\uc790\\uc0b0\",\"\\uac00\\uc0c1\\uc790\\uc0b0\",\"\\uac00\\uc0c1\\uc790\\uc0b0\",\"\\uac00\\uc0c1\\uc790\\uc0b0\",\"\\uac00\\uc0c1\\uc790\\uc0b0\",\"\\uac00\\uc0c1\\uc790\\uc0b0\",\"\\uac00\\uc0c1\\uc790\\uc0b0\",\"\\uac00\\uc0c1\\uc790\\uc0b0\",\"\\uac00\\uc0c1\\uc790\\uc0b0\",\"\\uac00\\uc0c1\\uc790\\uc0b0\",\"\\uac00\\uc0c1\\uc790\\uc0b0\",\"\\uac00\\uc0c1\\uc790\\uc0b0\",\"\\uac00\\uc0c1\\uc790\\uc0b0\",\"\\uac00\\uc0c1\\uc790\\uc0b0\",\"\\uac00\\uc0c1\\uc790\\uc0b0\",\"\\uac00\\uc0c1\\uc790\\uc0b0\",\"\\uac00\\uc0c1\\uc790\\uc0b0\",\"\\uac00\\uc0c1\\uc790\\uc0b0\",\"\\uac00\\uc0c1\\uc790\\uc0b0\",\"\\uac00\\uc0c1\\uc790\\uc0b0\",\"\\uac00\\uc0c1\\uc790\\uc0b0\",\"\\uac00\\uc0c1\\uc790\\uc0b0\",\"\\uac00\\uc0c1\\uc790\\uc0b0\",\"\\uac00\\uc0c1\\uc790\\uc0b0\",\"\\uac00\\uc0c1\\uc790\\uc0b0\",\"\\uac00\\uc0c1\\uc790\\uc0b0\",\"\\uac00\\uc0c1\\uc790\\uc0b0\",\"\\uac00\\uc0c1\\uc790\\uc0b0\",\"\\uac00\\uc0c1\\uc790\\uc0b0\",\"\\uac00\\uc0c1\\uc790\\uc0b0\",\"\\uac00\\uc0c1\\uc790\\uc0b0\",\"\\uac00\\uc0c1\\uc790\\uc0b0\",\"\\uac00\\uc0c1\\uc790\\uc0b0\",\"\\uac00\\uc0c1\\uc790\\uc0b0\",\"\\uac00\\uc0c1\\uc790\\uc0b0\",\"\\uac00\\uc0c1\\uc790\\uc0b0\"],\"textposition\":\"auto\",\"x\":[\"2018-01-01T00:00:00\",\"2018-02-01T00:00:00\",\"2018-03-01T00:00:00\",\"2018-04-01T00:00:00\",\"2018-05-01T00:00:00\",\"2018-06-01T00:00:00\",\"2018-07-01T00:00:00\",\"2018-08-01T00:00:00\",\"2018-09-01T00:00:00\",\"2018-10-01T00:00:00\",\"2018-11-01T00:00:00\",\"2018-12-01T00:00:00\",\"2019-01-01T00:00:00\",\"2019-02-01T00:00:00\",\"2019-03-01T00:00:00\",\"2019-04-01T00:00:00\",\"2019-05-01T00:00:00\",\"2019-06-01T00:00:00\",\"2019-07-01T00:00:00\",\"2019-08-01T00:00:00\",\"2019-09-01T00:00:00\",\"2019-10-01T00:00:00\",\"2019-11-01T00:00:00\",\"2019-12-01T00:00:00\",\"2020-01-01T00:00:00\",\"2020-02-01T00:00:00\",\"2020-03-01T00:00:00\",\"2020-04-01T00:00:00\",\"2020-05-01T00:00:00\",\"2020-06-01T00:00:00\",\"2020-07-01T00:00:00\",\"2020-08-01T00:00:00\",\"2020-09-01T00:00:00\",\"2020-10-01T00:00:00\",\"2020-11-01T00:00:00\",\"2020-12-01T00:00:00\",\"2021-01-01T00:00:00\",\"2021-02-01T00:00:00\",\"2021-03-01T00:00:00\",\"2021-04-01T00:00:00\",\"2021-05-01T00:00:00\",\"2021-06-01T00:00:00\",\"2021-07-01T00:00:00\",\"2021-08-01T00:00:00\",\"2021-09-01T00:00:00\",\"2021-10-01T00:00:00\",\"2021-11-01T00:00:00\",\"2021-12-01T00:00:00\",\"2022-01-01T00:00:00\",\"2022-02-01T00:00:00\",\"2022-03-01T00:00:00\",\"2022-04-01T00:00:00\",\"2022-05-01T00:00:00\",\"2022-06-01T00:00:00\",\"2022-07-01T00:00:00\"],\"xaxis\":\"x\",\"y\":[0.0,0.0,0.0,0.0,0.017857142857142856,0.0,0.0,0.0,0.0,0.0,0.0,0.0,0.012658227848101266,0.02564102564102564,0.0,0.0,0.0,0.0,0.018867924528301886,0.0,0.0,0.13274336283185842,0.05357142857142857,0.05172413793103448,0.0,0.02857142857142857,0.2916666666666667,0.27586206896551724,0.32558139534883723,0.5227272727272727,0.46511627906976744,0.42857142857142855,0.41935483870967744,0.5238095238095238,0.4927536231884058,0.3409090909090909,0.34615384615384615,0.1891891891891892,0.3026315789473684,0.2768595041322314,0.2841225626740947,0.29775280898876405,0.22900763358778625,0.39622641509433965,0.3333333333333333,0.3888888888888889,0.5476190476190477,0.6946564885496184,0.5944444444444444,0.5656565656565656,0.47959183673469385,0.5338345864661654,0.4790996784565916,0.49206349206349204,0.640625],\"yaxis\":\"y\",\"type\":\"bar\"},{\"alignmentgroup\":\"True\",\"hovertemplate\":\"keyword=%{text}<br>Date=%{x}<br>Percent=%{y}<extra></extra>\",\"legendgroup\":\"\\uac00\\uc0c1\\ud1b5\\ud654\",\"marker\":{\"color\":\"#EF553B\",\"pattern\":{\"shape\":\"\"}},\"name\":\"\\uac00\\uc0c1\\ud1b5\\ud654\",\"offsetgroup\":\"\\uac00\\uc0c1\\ud1b5\\ud654\",\"orientation\":\"v\",\"showlegend\":true,\"text\":[\"\\uac00\\uc0c1\\ud1b5\\ud654\",\"\\uac00\\uc0c1\\ud1b5\\ud654\",\"\\uac00\\uc0c1\\ud1b5\\ud654\",\"\\uac00\\uc0c1\\ud1b5\\ud654\",\"\\uac00\\uc0c1\\ud1b5\\ud654\",\"\\uac00\\uc0c1\\ud1b5\\ud654\",\"\\uac00\\uc0c1\\ud1b5\\ud654\",\"\\uac00\\uc0c1\\ud1b5\\ud654\",\"\\uac00\\uc0c1\\ud1b5\\ud654\",\"\\uac00\\uc0c1\\ud1b5\\ud654\",\"\\uac00\\uc0c1\\ud1b5\\ud654\",\"\\uac00\\uc0c1\\ud1b5\\ud654\",\"\\uac00\\uc0c1\\ud1b5\\ud654\",\"\\uac00\\uc0c1\\ud1b5\\ud654\",\"\\uac00\\uc0c1\\ud1b5\\ud654\",\"\\uac00\\uc0c1\\ud1b5\\ud654\",\"\\uac00\\uc0c1\\ud1b5\\ud654\",\"\\uac00\\uc0c1\\ud1b5\\ud654\",\"\\uac00\\uc0c1\\ud1b5\\ud654\",\"\\uac00\\uc0c1\\ud1b5\\ud654\",\"\\uac00\\uc0c1\\ud1b5\\ud654\",\"\\uac00\\uc0c1\\ud1b5\\ud654\",\"\\uac00\\uc0c1\\ud1b5\\ud654\",\"\\uac00\\uc0c1\\ud1b5\\ud654\",\"\\uac00\\uc0c1\\ud1b5\\ud654\",\"\\uac00\\uc0c1\\ud1b5\\ud654\",\"\\uac00\\uc0c1\\ud1b5\\ud654\",\"\\uac00\\uc0c1\\ud1b5\\ud654\",\"\\uac00\\uc0c1\\ud1b5\\ud654\",\"\\uac00\\uc0c1\\ud1b5\\ud654\",\"\\uac00\\uc0c1\\ud1b5\\ud654\",\"\\uac00\\uc0c1\\ud1b5\\ud654\",\"\\uac00\\uc0c1\\ud1b5\\ud654\",\"\\uac00\\uc0c1\\ud1b5\\ud654\",\"\\uac00\\uc0c1\\ud1b5\\ud654\",\"\\uac00\\uc0c1\\ud1b5\\ud654\",\"\\uac00\\uc0c1\\ud1b5\\ud654\",\"\\uac00\\uc0c1\\ud1b5\\ud654\",\"\\uac00\\uc0c1\\ud1b5\\ud654\",\"\\uac00\\uc0c1\\ud1b5\\ud654\",\"\\uac00\\uc0c1\\ud1b5\\ud654\",\"\\uac00\\uc0c1\\ud1b5\\ud654\",\"\\uac00\\uc0c1\\ud1b5\\ud654\",\"\\uac00\\uc0c1\\ud1b5\\ud654\",\"\\uac00\\uc0c1\\ud1b5\\ud654\",\"\\uac00\\uc0c1\\ud1b5\\ud654\",\"\\uac00\\uc0c1\\ud1b5\\ud654\",\"\\uac00\\uc0c1\\ud1b5\\ud654\",\"\\uac00\\uc0c1\\ud1b5\\ud654\",\"\\uac00\\uc0c1\\ud1b5\\ud654\",\"\\uac00\\uc0c1\\ud1b5\\ud654\",\"\\uac00\\uc0c1\\ud1b5\\ud654\",\"\\uac00\\uc0c1\\ud1b5\\ud654\",\"\\uac00\\uc0c1\\ud1b5\\ud654\",\"\\uac00\\uc0c1\\ud1b5\\ud654\"],\"textposition\":\"auto\",\"x\":[\"2018-01-01T00:00:00\",\"2018-02-01T00:00:00\",\"2018-03-01T00:00:00\",\"2018-04-01T00:00:00\",\"2018-05-01T00:00:00\",\"2018-06-01T00:00:00\",\"2018-07-01T00:00:00\",\"2018-08-01T00:00:00\",\"2018-09-01T00:00:00\",\"2018-10-01T00:00:00\",\"2018-11-01T00:00:00\",\"2018-12-01T00:00:00\",\"2019-01-01T00:00:00\",\"2019-02-01T00:00:00\",\"2019-03-01T00:00:00\",\"2019-04-01T00:00:00\",\"2019-05-01T00:00:00\",\"2019-06-01T00:00:00\",\"2019-07-01T00:00:00\",\"2019-08-01T00:00:00\",\"2019-09-01T00:00:00\",\"2019-10-01T00:00:00\",\"2019-11-01T00:00:00\",\"2019-12-01T00:00:00\",\"2020-01-01T00:00:00\",\"2020-02-01T00:00:00\",\"2020-03-01T00:00:00\",\"2020-04-01T00:00:00\",\"2020-05-01T00:00:00\",\"2020-06-01T00:00:00\",\"2020-07-01T00:00:00\",\"2020-08-01T00:00:00\",\"2020-09-01T00:00:00\",\"2020-10-01T00:00:00\",\"2020-11-01T00:00:00\",\"2020-12-01T00:00:00\",\"2021-01-01T00:00:00\",\"2021-02-01T00:00:00\",\"2021-03-01T00:00:00\",\"2021-04-01T00:00:00\",\"2021-05-01T00:00:00\",\"2021-06-01T00:00:00\",\"2021-07-01T00:00:00\",\"2021-08-01T00:00:00\",\"2021-09-01T00:00:00\",\"2021-10-01T00:00:00\",\"2021-11-01T00:00:00\",\"2021-12-01T00:00:00\",\"2022-01-01T00:00:00\",\"2022-02-01T00:00:00\",\"2022-03-01T00:00:00\",\"2022-04-01T00:00:00\",\"2022-05-01T00:00:00\",\"2022-06-01T00:00:00\",\"2022-07-01T00:00:00\"],\"xaxis\":\"x\",\"y\":[0.2596899224806202,0.15555555555555556,0.15555555555555556,0.08641975308641975,0.17857142857142858,0.11363636363636363,0.17391304347826086,0.12195121951219512,0.23943661971830985,0.07692307692307693,0.1095890410958904,0.12,0.16455696202531644,0.07692307692307693,0.03571428571428571,0.06976744186046512,0.06818181818181818,0.058823529411764705,0.07547169811320754,0.017857142857142856,0.013888888888888888,0.02654867256637168,0.017857142857142856,0.0,0.0,0.02857142857142857,0.041666666666666664,0.0,0.023255813953488372,0.0,0.023255813953488372,0.07142857142857142,0.0,0.023809523809523808,0.028985507246376812,0.011363636363636364,0.038461538461538464,0.010810810810810811,0.05263157894736842,0.012396694214876033,0.019498607242339833,0.016853932584269662,0.007633587786259542,0.0,0.0,0.0,0.0,0.007633587786259542,0.005555555555555556,0.0,0.0,0.007518796992481203,0.0,0.005291005291005291,0.015625],\"yaxis\":\"y\",\"type\":\"bar\"},{\"alignmentgroup\":\"True\",\"hovertemplate\":\"keyword=%{text}<br>Date=%{x}<br>Percent=%{y}<extra></extra>\",\"legendgroup\":\"\\uac00\\uc0c1\\ud654\\ud3d0\",\"marker\":{\"color\":\"#00cc96\",\"pattern\":{\"shape\":\"\"}},\"name\":\"\\uac00\\uc0c1\\ud654\\ud3d0\",\"offsetgroup\":\"\\uac00\\uc0c1\\ud654\\ud3d0\",\"orientation\":\"v\",\"showlegend\":true,\"text\":[\"\\uac00\\uc0c1\\ud654\\ud3d0\",\"\\uac00\\uc0c1\\ud654\\ud3d0\",\"\\uac00\\uc0c1\\ud654\\ud3d0\",\"\\uac00\\uc0c1\\ud654\\ud3d0\",\"\\uac00\\uc0c1\\ud654\\ud3d0\",\"\\uac00\\uc0c1\\ud654\\ud3d0\",\"\\uac00\\uc0c1\\ud654\\ud3d0\",\"\\uac00\\uc0c1\\ud654\\ud3d0\",\"\\uac00\\uc0c1\\ud654\\ud3d0\",\"\\uac00\\uc0c1\\ud654\\ud3d0\",\"\\uac00\\uc0c1\\ud654\\ud3d0\",\"\\uac00\\uc0c1\\ud654\\ud3d0\",\"\\uac00\\uc0c1\\ud654\\ud3d0\",\"\\uac00\\uc0c1\\ud654\\ud3d0\",\"\\uac00\\uc0c1\\ud654\\ud3d0\",\"\\uac00\\uc0c1\\ud654\\ud3d0\",\"\\uac00\\uc0c1\\ud654\\ud3d0\",\"\\uac00\\uc0c1\\ud654\\ud3d0\",\"\\uac00\\uc0c1\\ud654\\ud3d0\",\"\\uac00\\uc0c1\\ud654\\ud3d0\",\"\\uac00\\uc0c1\\ud654\\ud3d0\",\"\\uac00\\uc0c1\\ud654\\ud3d0\",\"\\uac00\\uc0c1\\ud654\\ud3d0\",\"\\uac00\\uc0c1\\ud654\\ud3d0\",\"\\uac00\\uc0c1\\ud654\\ud3d0\",\"\\uac00\\uc0c1\\ud654\\ud3d0\",\"\\uac00\\uc0c1\\ud654\\ud3d0\",\"\\uac00\\uc0c1\\ud654\\ud3d0\",\"\\uac00\\uc0c1\\ud654\\ud3d0\",\"\\uac00\\uc0c1\\ud654\\ud3d0\",\"\\uac00\\uc0c1\\ud654\\ud3d0\",\"\\uac00\\uc0c1\\ud654\\ud3d0\",\"\\uac00\\uc0c1\\ud654\\ud3d0\",\"\\uac00\\uc0c1\\ud654\\ud3d0\",\"\\uac00\\uc0c1\\ud654\\ud3d0\",\"\\uac00\\uc0c1\\ud654\\ud3d0\",\"\\uac00\\uc0c1\\ud654\\ud3d0\",\"\\uac00\\uc0c1\\ud654\\ud3d0\",\"\\uac00\\uc0c1\\ud654\\ud3d0\",\"\\uac00\\uc0c1\\ud654\\ud3d0\",\"\\uac00\\uc0c1\\ud654\\ud3d0\",\"\\uac00\\uc0c1\\ud654\\ud3d0\",\"\\uac00\\uc0c1\\ud654\\ud3d0\",\"\\uac00\\uc0c1\\ud654\\ud3d0\",\"\\uac00\\uc0c1\\ud654\\ud3d0\",\"\\uac00\\uc0c1\\ud654\\ud3d0\",\"\\uac00\\uc0c1\\ud654\\ud3d0\",\"\\uac00\\uc0c1\\ud654\\ud3d0\",\"\\uac00\\uc0c1\\ud654\\ud3d0\",\"\\uac00\\uc0c1\\ud654\\ud3d0\",\"\\uac00\\uc0c1\\ud654\\ud3d0\",\"\\uac00\\uc0c1\\ud654\\ud3d0\",\"\\uac00\\uc0c1\\ud654\\ud3d0\",\"\\uac00\\uc0c1\\ud654\\ud3d0\",\"\\uac00\\uc0c1\\ud654\\ud3d0\"],\"textposition\":\"auto\",\"x\":[\"2018-01-01T00:00:00\",\"2018-02-01T00:00:00\",\"2018-03-01T00:00:00\",\"2018-04-01T00:00:00\",\"2018-05-01T00:00:00\",\"2018-06-01T00:00:00\",\"2018-07-01T00:00:00\",\"2018-08-01T00:00:00\",\"2018-09-01T00:00:00\",\"2018-10-01T00:00:00\",\"2018-11-01T00:00:00\",\"2018-12-01T00:00:00\",\"2019-01-01T00:00:00\",\"2019-02-01T00:00:00\",\"2019-03-01T00:00:00\",\"2019-04-01T00:00:00\",\"2019-05-01T00:00:00\",\"2019-06-01T00:00:00\",\"2019-07-01T00:00:00\",\"2019-08-01T00:00:00\",\"2019-09-01T00:00:00\",\"2019-10-01T00:00:00\",\"2019-11-01T00:00:00\",\"2019-12-01T00:00:00\",\"2020-01-01T00:00:00\",\"2020-02-01T00:00:00\",\"2020-03-01T00:00:00\",\"2020-04-01T00:00:00\",\"2020-05-01T00:00:00\",\"2020-06-01T00:00:00\",\"2020-07-01T00:00:00\",\"2020-08-01T00:00:00\",\"2020-09-01T00:00:00\",\"2020-10-01T00:00:00\",\"2020-11-01T00:00:00\",\"2020-12-01T00:00:00\",\"2021-01-01T00:00:00\",\"2021-02-01T00:00:00\",\"2021-03-01T00:00:00\",\"2021-04-01T00:00:00\",\"2021-05-01T00:00:00\",\"2021-06-01T00:00:00\",\"2021-07-01T00:00:00\",\"2021-08-01T00:00:00\",\"2021-09-01T00:00:00\",\"2021-10-01T00:00:00\",\"2021-11-01T00:00:00\",\"2021-12-01T00:00:00\",\"2022-01-01T00:00:00\",\"2022-02-01T00:00:00\",\"2022-03-01T00:00:00\",\"2022-04-01T00:00:00\",\"2022-05-01T00:00:00\",\"2022-06-01T00:00:00\",\"2022-07-01T00:00:00\"],\"xaxis\":\"x\",\"y\":[0.562015503875969,0.5333333333333333,0.4111111111111111,0.25925925925925924,0.2857142857142857,0.22727272727272727,0.17391304347826086,0.2926829268292683,0.28169014084507044,0.1282051282051282,0.136986301369863,0.2,0.1518987341772152,0.1282051282051282,0.10714285714285714,0.18604651162790697,0.09090909090909091,0.17647058823529413,0.2169811320754717,0.23214285714285715,0.1527777777777778,0.168141592920354,0.16071428571428573,0.15517241379310345,0.17391304347826086,0.2571428571428571,0.20833333333333334,0.3448275862068966,0.11627906976744186,0.045454545454545456,0.06976744186046512,0.2857142857142857,0.0,0.14285714285714285,0.2318840579710145,0.2727272727272727,0.34615384615384615,0.32432432432432434,0.2236842105263158,0.30578512396694213,0.3370473537604457,0.3651685393258427,0.3969465648854962,0.3113207547169811,0.3504273504273504,0.30158730158730157,0.19642857142857142,0.11450381679389313,0.16111111111111112,0.1414141414141414,0.20408163265306123,0.15789473684210525,0.29260450160771706,0.25396825396825395,0.109375],\"yaxis\":\"y\",\"type\":\"bar\"},{\"alignmentgroup\":\"True\",\"hovertemplate\":\"keyword=%{text}<br>Date=%{x}<br>Percent=%{y}<extra></extra>\",\"legendgroup\":\"\\uc554\\ud638\\ud654\\ud3d0\",\"marker\":{\"color\":\"#ab63fa\",\"pattern\":{\"shape\":\"\"}},\"name\":\"\\uc554\\ud638\\ud654\\ud3d0\",\"offsetgroup\":\"\\uc554\\ud638\\ud654\\ud3d0\",\"orientation\":\"v\",\"showlegend\":true,\"text\":[\"\\uc554\\ud638\\ud654\\ud3d0\",\"\\uc554\\ud638\\ud654\\ud3d0\",\"\\uc554\\ud638\\ud654\\ud3d0\",\"\\uc554\\ud638\\ud654\\ud3d0\",\"\\uc554\\ud638\\ud654\\ud3d0\",\"\\uc554\\ud638\\ud654\\ud3d0\",\"\\uc554\\ud638\\ud654\\ud3d0\",\"\\uc554\\ud638\\ud654\\ud3d0\",\"\\uc554\\ud638\\ud654\\ud3d0\",\"\\uc554\\ud638\\ud654\\ud3d0\",\"\\uc554\\ud638\\ud654\\ud3d0\",\"\\uc554\\ud638\\ud654\\ud3d0\",\"\\uc554\\ud638\\ud654\\ud3d0\",\"\\uc554\\ud638\\ud654\\ud3d0\",\"\\uc554\\ud638\\ud654\\ud3d0\",\"\\uc554\\ud638\\ud654\\ud3d0\",\"\\uc554\\ud638\\ud654\\ud3d0\",\"\\uc554\\ud638\\ud654\\ud3d0\",\"\\uc554\\ud638\\ud654\\ud3d0\",\"\\uc554\\ud638\\ud654\\ud3d0\",\"\\uc554\\ud638\\ud654\\ud3d0\",\"\\uc554\\ud638\\ud654\\ud3d0\",\"\\uc554\\ud638\\ud654\\ud3d0\",\"\\uc554\\ud638\\ud654\\ud3d0\",\"\\uc554\\ud638\\ud654\\ud3d0\",\"\\uc554\\ud638\\ud654\\ud3d0\",\"\\uc554\\ud638\\ud654\\ud3d0\",\"\\uc554\\ud638\\ud654\\ud3d0\",\"\\uc554\\ud638\\ud654\\ud3d0\",\"\\uc554\\ud638\\ud654\\ud3d0\",\"\\uc554\\ud638\\ud654\\ud3d0\",\"\\uc554\\ud638\\ud654\\ud3d0\",\"\\uc554\\ud638\\ud654\\ud3d0\",\"\\uc554\\ud638\\ud654\\ud3d0\",\"\\uc554\\ud638\\ud654\\ud3d0\",\"\\uc554\\ud638\\ud654\\ud3d0\",\"\\uc554\\ud638\\ud654\\ud3d0\",\"\\uc554\\ud638\\ud654\\ud3d0\",\"\\uc554\\ud638\\ud654\\ud3d0\",\"\\uc554\\ud638\\ud654\\ud3d0\",\"\\uc554\\ud638\\ud654\\ud3d0\",\"\\uc554\\ud638\\ud654\\ud3d0\",\"\\uc554\\ud638\\ud654\\ud3d0\",\"\\uc554\\ud638\\ud654\\ud3d0\",\"\\uc554\\ud638\\ud654\\ud3d0\",\"\\uc554\\ud638\\ud654\\ud3d0\",\"\\uc554\\ud638\\ud654\\ud3d0\",\"\\uc554\\ud638\\ud654\\ud3d0\",\"\\uc554\\ud638\\ud654\\ud3d0\",\"\\uc554\\ud638\\ud654\\ud3d0\",\"\\uc554\\ud638\\ud654\\ud3d0\",\"\\uc554\\ud638\\ud654\\ud3d0\",\"\\uc554\\ud638\\ud654\\ud3d0\",\"\\uc554\\ud638\\ud654\\ud3d0\",\"\\uc554\\ud638\\ud654\\ud3d0\"],\"textposition\":\"auto\",\"x\":[\"2018-01-01T00:00:00\",\"2018-02-01T00:00:00\",\"2018-03-01T00:00:00\",\"2018-04-01T00:00:00\",\"2018-05-01T00:00:00\",\"2018-06-01T00:00:00\",\"2018-07-01T00:00:00\",\"2018-08-01T00:00:00\",\"2018-09-01T00:00:00\",\"2018-10-01T00:00:00\",\"2018-11-01T00:00:00\",\"2018-12-01T00:00:00\",\"2019-01-01T00:00:00\",\"2019-02-01T00:00:00\",\"2019-03-01T00:00:00\",\"2019-04-01T00:00:00\",\"2019-05-01T00:00:00\",\"2019-06-01T00:00:00\",\"2019-07-01T00:00:00\",\"2019-08-01T00:00:00\",\"2019-09-01T00:00:00\",\"2019-10-01T00:00:00\",\"2019-11-01T00:00:00\",\"2019-12-01T00:00:00\",\"2020-01-01T00:00:00\",\"2020-02-01T00:00:00\",\"2020-03-01T00:00:00\",\"2020-04-01T00:00:00\",\"2020-05-01T00:00:00\",\"2020-06-01T00:00:00\",\"2020-07-01T00:00:00\",\"2020-08-01T00:00:00\",\"2020-09-01T00:00:00\",\"2020-10-01T00:00:00\",\"2020-11-01T00:00:00\",\"2020-12-01T00:00:00\",\"2021-01-01T00:00:00\",\"2021-02-01T00:00:00\",\"2021-03-01T00:00:00\",\"2021-04-01T00:00:00\",\"2021-05-01T00:00:00\",\"2021-06-01T00:00:00\",\"2021-07-01T00:00:00\",\"2021-08-01T00:00:00\",\"2021-09-01T00:00:00\",\"2021-10-01T00:00:00\",\"2021-11-01T00:00:00\",\"2021-12-01T00:00:00\",\"2022-01-01T00:00:00\",\"2022-02-01T00:00:00\",\"2022-03-01T00:00:00\",\"2022-04-01T00:00:00\",\"2022-05-01T00:00:00\",\"2022-06-01T00:00:00\",\"2022-07-01T00:00:00\"],\"xaxis\":\"x\",\"y\":[0.17829457364341086,0.3111111111111111,0.43333333333333335,0.654320987654321,0.5178571428571429,0.6590909090909091,0.6521739130434783,0.5853658536585366,0.4788732394366197,0.7948717948717948,0.7534246575342466,0.68,0.6708860759493671,0.7692307692307693,0.8571428571428571,0.7441860465116279,0.8409090909090909,0.7647058823529411,0.6886792452830188,0.75,0.8333333333333334,0.672566371681416,0.7678571428571429,0.7931034482758621,0.8260869565217391,0.6857142857142857,0.4583333333333333,0.3793103448275862,0.5348837209302325,0.4318181818181818,0.4418604651162791,0.21428571428571427,0.5806451612903226,0.30952380952380953,0.2463768115942029,0.375,0.2692307692307692,0.4756756756756757,0.42105263157894735,0.4049586776859504,0.3593314763231198,0.3202247191011236,0.366412213740458,0.29245283018867924,0.3162393162393162,0.30952380952380953,0.25595238095238093,0.183206106870229,0.2388888888888889,0.29292929292929293,0.3163265306122449,0.3007518796992481,0.2282958199356913,0.24867724867724866,0.234375],\"yaxis\":\"y\",\"type\":\"bar\"}],                        {\"template\":{\"data\":{\"bar\":[{\"error_x\":{\"color\":\"#2a3f5f\"},\"error_y\":{\"color\":\"#2a3f5f\"},\"marker\":{\"line\":{\"color\":\"#E5ECF6\",\"width\":0.5},\"pattern\":{\"fillmode\":\"overlay\",\"size\":10,\"solidity\":0.2}},\"type\":\"bar\"}],\"barpolar\":[{\"marker\":{\"line\":{\"color\":\"#E5ECF6\",\"width\":0.5},\"pattern\":{\"fillmode\":\"overlay\",\"size\":10,\"solidity\":0.2}},\"type\":\"barpolar\"}],\"carpet\":[{\"aaxis\":{\"endlinecolor\":\"#2a3f5f\",\"gridcolor\":\"white\",\"linecolor\":\"white\",\"minorgridcolor\":\"white\",\"startlinecolor\":\"#2a3f5f\"},\"baxis\":{\"endlinecolor\":\"#2a3f5f\",\"gridcolor\":\"white\",\"linecolor\":\"white\",\"minorgridcolor\":\"white\",\"startlinecolor\":\"#2a3f5f\"},\"type\":\"carpet\"}],\"choropleth\":[{\"colorbar\":{\"outlinewidth\":0,\"ticks\":\"\"},\"type\":\"choropleth\"}],\"contour\":[{\"colorbar\":{\"outlinewidth\":0,\"ticks\":\"\"},\"colorscale\":[[0.0,\"#0d0887\"],[0.1111111111111111,\"#46039f\"],[0.2222222222222222,\"#7201a8\"],[0.3333333333333333,\"#9c179e\"],[0.4444444444444444,\"#bd3786\"],[0.5555555555555556,\"#d8576b\"],[0.6666666666666666,\"#ed7953\"],[0.7777777777777778,\"#fb9f3a\"],[0.8888888888888888,\"#fdca26\"],[1.0,\"#f0f921\"]],\"type\":\"contour\"}],\"contourcarpet\":[{\"colorbar\":{\"outlinewidth\":0,\"ticks\":\"\"},\"type\":\"contourcarpet\"}],\"heatmap\":[{\"colorbar\":{\"outlinewidth\":0,\"ticks\":\"\"},\"colorscale\":[[0.0,\"#0d0887\"],[0.1111111111111111,\"#46039f\"],[0.2222222222222222,\"#7201a8\"],[0.3333333333333333,\"#9c179e\"],[0.4444444444444444,\"#bd3786\"],[0.5555555555555556,\"#d8576b\"],[0.6666666666666666,\"#ed7953\"],[0.7777777777777778,\"#fb9f3a\"],[0.8888888888888888,\"#fdca26\"],[1.0,\"#f0f921\"]],\"type\":\"heatmap\"}],\"heatmapgl\":[{\"colorbar\":{\"outlinewidth\":0,\"ticks\":\"\"},\"colorscale\":[[0.0,\"#0d0887\"],[0.1111111111111111,\"#46039f\"],[0.2222222222222222,\"#7201a8\"],[0.3333333333333333,\"#9c179e\"],[0.4444444444444444,\"#bd3786\"],[0.5555555555555556,\"#d8576b\"],[0.6666666666666666,\"#ed7953\"],[0.7777777777777778,\"#fb9f3a\"],[0.8888888888888888,\"#fdca26\"],[1.0,\"#f0f921\"]],\"type\":\"heatmapgl\"}],\"histogram\":[{\"marker\":{\"pattern\":{\"fillmode\":\"overlay\",\"size\":10,\"solidity\":0.2}},\"type\":\"histogram\"}],\"histogram2d\":[{\"colorbar\":{\"outlinewidth\":0,\"ticks\":\"\"},\"colorscale\":[[0.0,\"#0d0887\"],[0.1111111111111111,\"#46039f\"],[0.2222222222222222,\"#7201a8\"],[0.3333333333333333,\"#9c179e\"],[0.4444444444444444,\"#bd3786\"],[0.5555555555555556,\"#d8576b\"],[0.6666666666666666,\"#ed7953\"],[0.7777777777777778,\"#fb9f3a\"],[0.8888888888888888,\"#fdca26\"],[1.0,\"#f0f921\"]],\"type\":\"histogram2d\"}],\"histogram2dcontour\":[{\"colorbar\":{\"outlinewidth\":0,\"ticks\":\"\"},\"colorscale\":[[0.0,\"#0d0887\"],[0.1111111111111111,\"#46039f\"],[0.2222222222222222,\"#7201a8\"],[0.3333333333333333,\"#9c179e\"],[0.4444444444444444,\"#bd3786\"],[0.5555555555555556,\"#d8576b\"],[0.6666666666666666,\"#ed7953\"],[0.7777777777777778,\"#fb9f3a\"],[0.8888888888888888,\"#fdca26\"],[1.0,\"#f0f921\"]],\"type\":\"histogram2dcontour\"}],\"mesh3d\":[{\"colorbar\":{\"outlinewidth\":0,\"ticks\":\"\"},\"type\":\"mesh3d\"}],\"parcoords\":[{\"line\":{\"colorbar\":{\"outlinewidth\":0,\"ticks\":\"\"}},\"type\":\"parcoords\"}],\"pie\":[{\"automargin\":true,\"type\":\"pie\"}],\"scatter\":[{\"marker\":{\"colorbar\":{\"outlinewidth\":0,\"ticks\":\"\"}},\"type\":\"scatter\"}],\"scatter3d\":[{\"line\":{\"colorbar\":{\"outlinewidth\":0,\"ticks\":\"\"}},\"marker\":{\"colorbar\":{\"outlinewidth\":0,\"ticks\":\"\"}},\"type\":\"scatter3d\"}],\"scattercarpet\":[{\"marker\":{\"colorbar\":{\"outlinewidth\":0,\"ticks\":\"\"}},\"type\":\"scattercarpet\"}],\"scattergeo\":[{\"marker\":{\"colorbar\":{\"outlinewidth\":0,\"ticks\":\"\"}},\"type\":\"scattergeo\"}],\"scattergl\":[{\"marker\":{\"colorbar\":{\"outlinewidth\":0,\"ticks\":\"\"}},\"type\":\"scattergl\"}],\"scattermapbox\":[{\"marker\":{\"colorbar\":{\"outlinewidth\":0,\"ticks\":\"\"}},\"type\":\"scattermapbox\"}],\"scatterpolar\":[{\"marker\":{\"colorbar\":{\"outlinewidth\":0,\"ticks\":\"\"}},\"type\":\"scatterpolar\"}],\"scatterpolargl\":[{\"marker\":{\"colorbar\":{\"outlinewidth\":0,\"ticks\":\"\"}},\"type\":\"scatterpolargl\"}],\"scatterternary\":[{\"marker\":{\"colorbar\":{\"outlinewidth\":0,\"ticks\":\"\"}},\"type\":\"scatterternary\"}],\"surface\":[{\"colorbar\":{\"outlinewidth\":0,\"ticks\":\"\"},\"colorscale\":[[0.0,\"#0d0887\"],[0.1111111111111111,\"#46039f\"],[0.2222222222222222,\"#7201a8\"],[0.3333333333333333,\"#9c179e\"],[0.4444444444444444,\"#bd3786\"],[0.5555555555555556,\"#d8576b\"],[0.6666666666666666,\"#ed7953\"],[0.7777777777777778,\"#fb9f3a\"],[0.8888888888888888,\"#fdca26\"],[1.0,\"#f0f921\"]],\"type\":\"surface\"}],\"table\":[{\"cells\":{\"fill\":{\"color\":\"#EBF0F8\"},\"line\":{\"color\":\"white\"}},\"header\":{\"fill\":{\"color\":\"#C8D4E3\"},\"line\":{\"color\":\"white\"}},\"type\":\"table\"}]},\"layout\":{\"annotationdefaults\":{\"arrowcolor\":\"#2a3f5f\",\"arrowhead\":0,\"arrowwidth\":1},\"autotypenumbers\":\"strict\",\"coloraxis\":{\"colorbar\":{\"outlinewidth\":0,\"ticks\":\"\"}},\"colorscale\":{\"diverging\":[[0,\"#8e0152\"],[0.1,\"#c51b7d\"],[0.2,\"#de77ae\"],[0.3,\"#f1b6da\"],[0.4,\"#fde0ef\"],[0.5,\"#f7f7f7\"],[0.6,\"#e6f5d0\"],[0.7,\"#b8e186\"],[0.8,\"#7fbc41\"],[0.9,\"#4d9221\"],[1,\"#276419\"]],\"sequential\":[[0.0,\"#0d0887\"],[0.1111111111111111,\"#46039f\"],[0.2222222222222222,\"#7201a8\"],[0.3333333333333333,\"#9c179e\"],[0.4444444444444444,\"#bd3786\"],[0.5555555555555556,\"#d8576b\"],[0.6666666666666666,\"#ed7953\"],[0.7777777777777778,\"#fb9f3a\"],[0.8888888888888888,\"#fdca26\"],[1.0,\"#f0f921\"]],\"sequentialminus\":[[0.0,\"#0d0887\"],[0.1111111111111111,\"#46039f\"],[0.2222222222222222,\"#7201a8\"],[0.3333333333333333,\"#9c179e\"],[0.4444444444444444,\"#bd3786\"],[0.5555555555555556,\"#d8576b\"],[0.6666666666666666,\"#ed7953\"],[0.7777777777777778,\"#fb9f3a\"],[0.8888888888888888,\"#fdca26\"],[1.0,\"#f0f921\"]]},\"colorway\":[\"#636efa\",\"#EF553B\",\"#00cc96\",\"#ab63fa\",\"#FFA15A\",\"#19d3f3\",\"#FF6692\",\"#B6E880\",\"#FF97FF\",\"#FECB52\"],\"font\":{\"color\":\"#2a3f5f\"},\"geo\":{\"bgcolor\":\"white\",\"lakecolor\":\"white\",\"landcolor\":\"#E5ECF6\",\"showlakes\":true,\"showland\":true,\"subunitcolor\":\"white\"},\"hoverlabel\":{\"align\":\"left\"},\"hovermode\":\"closest\",\"mapbox\":{\"style\":\"light\"},\"paper_bgcolor\":\"white\",\"plot_bgcolor\":\"#E5ECF6\",\"polar\":{\"angularaxis\":{\"gridcolor\":\"white\",\"linecolor\":\"white\",\"ticks\":\"\"},\"bgcolor\":\"#E5ECF6\",\"radialaxis\":{\"gridcolor\":\"white\",\"linecolor\":\"white\",\"ticks\":\"\"}},\"scene\":{\"xaxis\":{\"backgroundcolor\":\"#E5ECF6\",\"gridcolor\":\"white\",\"gridwidth\":2,\"linecolor\":\"white\",\"showbackground\":true,\"ticks\":\"\",\"zerolinecolor\":\"white\"},\"yaxis\":{\"backgroundcolor\":\"#E5ECF6\",\"gridcolor\":\"white\",\"gridwidth\":2,\"linecolor\":\"white\",\"showbackground\":true,\"ticks\":\"\",\"zerolinecolor\":\"white\"},\"zaxis\":{\"backgroundcolor\":\"#E5ECF6\",\"gridcolor\":\"white\",\"gridwidth\":2,\"linecolor\":\"white\",\"showbackground\":true,\"ticks\":\"\",\"zerolinecolor\":\"white\"}},\"shapedefaults\":{\"line\":{\"color\":\"#2a3f5f\"}},\"ternary\":{\"aaxis\":{\"gridcolor\":\"white\",\"linecolor\":\"white\",\"ticks\":\"\"},\"baxis\":{\"gridcolor\":\"white\",\"linecolor\":\"white\",\"ticks\":\"\"},\"bgcolor\":\"#E5ECF6\",\"caxis\":{\"gridcolor\":\"white\",\"linecolor\":\"white\",\"ticks\":\"\"}},\"title\":{\"x\":0.05},\"xaxis\":{\"automargin\":true,\"gridcolor\":\"white\",\"linecolor\":\"white\",\"ticks\":\"\",\"title\":{\"standoff\":15},\"zerolinecolor\":\"white\",\"zerolinewidth\":2},\"yaxis\":{\"automargin\":true,\"gridcolor\":\"white\",\"linecolor\":\"white\",\"ticks\":\"\",\"title\":{\"standoff\":15},\"zerolinecolor\":\"white\",\"zerolinewidth\":2}}},\"xaxis\":{\"anchor\":\"y\",\"domain\":[0.0,1.0],\"title\":{\"text\":\"Date\"}},\"yaxis\":{\"anchor\":\"x\",\"domain\":[0.0,1.0],\"title\":{\"text\":\"Percent\"}},\"legend\":{\"title\":{\"text\":\"keyword\"},\"tracegroupgap\":0},\"margin\":{\"t\":60},\"barmode\":\"relative\",\"bargap\":0},                        {\"responsive\": true}                    ).then(function(){\n",
       "                            \n",
       "var gd = document.getElementById('729f21a5-966f-42ac-8933-9dcf23af0c11');\n",
       "var x = new MutationObserver(function (mutations, observer) {{\n",
       "        var display = window.getComputedStyle(gd).display;\n",
       "        if (!display || display === 'none') {{\n",
       "            console.log([gd, 'removed!']);\n",
       "            Plotly.purge(gd);\n",
       "            observer.disconnect();\n",
       "        }}\n",
       "}});\n",
       "\n",
       "// Listen for the removal of the full notebook cells\n",
       "var notebookContainer = gd.closest('#notebook-container');\n",
       "if (notebookContainer) {{\n",
       "    x.observe(notebookContainer, {childList: true});\n",
       "}}\n",
       "\n",
       "// Listen for the clearing of the current output cell\n",
       "var outputEl = gd.closest('.output');\n",
       "if (outputEl) {{\n",
       "    x.observe(outputEl, {childList: true});\n",
       "}}\n",
       "\n",
       "                        })                };                });            </script>        </div>"
      ]
     },
     "metadata": {},
     "output_type": "display_data"
    }
   ],
   "source": [
    "df3 = Df[['공인인증서','공동인증서']]\n",
    "df3['Percent'] = df3.groupby(['Date'])['value'].transform(lambda x: x/x.sum())\n",
    "fig = px.bar(df3, x=\"Date\", y=\"Percent\", color=\"keyword\", text=\"keyword\")\n",
    "fig.update_layout(bargap =0)\n",
    "fig.show()"
   ]
  },
  {
   "cell_type": "code",
   "execution_count": 23,
   "id": "a056a4fa",
   "metadata": {},
   "outputs": [
    {
     "data": {
      "application/vnd.plotly.v1+json": {
       "config": {
        "plotlyServerURL": "https://plot.ly"
       },
       "data": [
        {
         "alignmentgroup": "True",
         "hovertemplate": "keyword=%{text}<br>Date=%{x}<br>Percent=%{y}<extra></extra>",
         "legendgroup": "공인인증서",
         "marker": {
          "color": "#636efa",
          "pattern": {
           "shape": ""
          }
         },
         "name": "공인인증서",
         "offsetgroup": "공인인증서",
         "orientation": "v",
         "showlegend": true,
         "text": [
          "공인인증서",
          "공인인증서",
          "공인인증서",
          "공인인증서",
          "공인인증서",
          "공인인증서",
          "공인인증서",
          "공인인증서",
          "공인인증서",
          "공인인증서",
          "공인인증서",
          "공인인증서",
          "공인인증서",
          "공인인증서",
          "공인인증서",
          "공인인증서",
          "공인인증서",
          "공인인증서",
          "공인인증서",
          "공인인증서",
          "공인인증서",
          "공인인증서",
          "공인인증서",
          "공인인증서",
          "공인인증서",
          "공인인증서",
          "공인인증서",
          "공인인증서",
          "공인인증서",
          "공인인증서",
          "공인인증서",
          "공인인증서",
          "공인인증서",
          "공인인증서",
          "공인인증서",
          "공인인증서",
          "공인인증서",
          "공인인증서",
          "공인인증서",
          "공인인증서",
          "공인인증서",
          "공인인증서",
          "공인인증서",
          "공인인증서",
          "공인인증서",
          "공인인증서",
          "공인인증서",
          "공인인증서",
          "공인인증서",
          "공인인증서",
          "공인인증서",
          "공인인증서",
          "공인인증서",
          "공인인증서",
          "공인인증서"
         ],
         "textposition": "auto",
         "type": "bar",
         "x": [
          "2018-01-01T00:00:00",
          "2018-02-01T00:00:00",
          "2018-03-01T00:00:00",
          "2018-04-01T00:00:00",
          "2018-05-01T00:00:00",
          "2018-06-01T00:00:00",
          "2018-07-01T00:00:00",
          "2018-08-01T00:00:00",
          "2018-09-01T00:00:00",
          "2018-10-01T00:00:00",
          "2018-11-01T00:00:00",
          "2018-12-01T00:00:00",
          "2019-01-01T00:00:00",
          "2019-02-01T00:00:00",
          "2019-03-01T00:00:00",
          "2019-04-01T00:00:00",
          "2019-05-01T00:00:00",
          "2019-06-01T00:00:00",
          "2019-07-01T00:00:00",
          "2019-08-01T00:00:00",
          "2019-09-01T00:00:00",
          "2019-10-01T00:00:00",
          "2019-11-01T00:00:00",
          "2019-12-01T00:00:00",
          "2020-01-01T00:00:00",
          "2020-02-01T00:00:00",
          "2020-03-01T00:00:00",
          "2020-04-01T00:00:00",
          "2020-05-01T00:00:00",
          "2020-06-01T00:00:00",
          "2020-07-01T00:00:00",
          "2020-08-01T00:00:00",
          "2020-09-01T00:00:00",
          "2020-10-01T00:00:00",
          "2020-11-01T00:00:00",
          "2020-12-01T00:00:00",
          "2021-01-01T00:00:00",
          "2021-02-01T00:00:00",
          "2021-03-01T00:00:00",
          "2021-04-01T00:00:00",
          "2021-05-01T00:00:00",
          "2021-06-01T00:00:00",
          "2021-07-01T00:00:00",
          "2021-08-01T00:00:00",
          "2021-09-01T00:00:00",
          "2021-10-01T00:00:00",
          "2021-11-01T00:00:00",
          "2021-12-01T00:00:00",
          "2022-01-01T00:00:00",
          "2022-02-01T00:00:00",
          "2022-03-01T00:00:00",
          "2022-04-01T00:00:00",
          "2022-05-01T00:00:00",
          "2022-06-01T00:00:00",
          "2022-07-01T00:00:00"
         ],
         "xaxis": "x",
         "y": [
          1,
          1,
          1,
          1,
          1,
          1,
          1,
          0.2857142857142857,
          1,
          1,
          1,
          1,
          1,
          1,
          1,
          1,
          1,
          1,
          1,
          1,
          1,
          1,
          1,
          1,
          1,
          1,
          1,
          1,
          1,
          1,
          1,
          1,
          1,
          0.875,
          0.9,
          0.8709677419354839,
          1,
          0.5714285714285714,
          1,
          0.8,
          null,
          0.5,
          0.25,
          0.5,
          0,
          0.3333333333333333,
          0.5,
          1,
          null,
          0,
          0.75,
          0,
          0,
          0.5,
          null
         ],
         "yaxis": "y"
        },
        {
         "alignmentgroup": "True",
         "hovertemplate": "keyword=%{text}<br>Date=%{x}<br>Percent=%{y}<extra></extra>",
         "legendgroup": "공동인증서",
         "marker": {
          "color": "#EF553B",
          "pattern": {
           "shape": ""
          }
         },
         "name": "공동인증서",
         "offsetgroup": "공동인증서",
         "orientation": "v",
         "showlegend": true,
         "text": [
          "공동인증서",
          "공동인증서",
          "공동인증서",
          "공동인증서",
          "공동인증서",
          "공동인증서",
          "공동인증서",
          "공동인증서",
          "공동인증서",
          "공동인증서",
          "공동인증서",
          "공동인증서",
          "공동인증서",
          "공동인증서",
          "공동인증서",
          "공동인증서",
          "공동인증서",
          "공동인증서",
          "공동인증서",
          "공동인증서",
          "공동인증서",
          "공동인증서",
          "공동인증서",
          "공동인증서",
          "공동인증서",
          "공동인증서",
          "공동인증서",
          "공동인증서",
          "공동인증서",
          "공동인증서",
          "공동인증서",
          "공동인증서",
          "공동인증서",
          "공동인증서",
          "공동인증서",
          "공동인증서",
          "공동인증서",
          "공동인증서",
          "공동인증서",
          "공동인증서",
          "공동인증서",
          "공동인증서",
          "공동인증서",
          "공동인증서",
          "공동인증서",
          "공동인증서",
          "공동인증서",
          "공동인증서",
          "공동인증서",
          "공동인증서",
          "공동인증서",
          "공동인증서",
          "공동인증서",
          "공동인증서",
          "공동인증서"
         ],
         "textposition": "auto",
         "type": "bar",
         "x": [
          "2018-01-01T00:00:00",
          "2018-02-01T00:00:00",
          "2018-03-01T00:00:00",
          "2018-04-01T00:00:00",
          "2018-05-01T00:00:00",
          "2018-06-01T00:00:00",
          "2018-07-01T00:00:00",
          "2018-08-01T00:00:00",
          "2018-09-01T00:00:00",
          "2018-10-01T00:00:00",
          "2018-11-01T00:00:00",
          "2018-12-01T00:00:00",
          "2019-01-01T00:00:00",
          "2019-02-01T00:00:00",
          "2019-03-01T00:00:00",
          "2019-04-01T00:00:00",
          "2019-05-01T00:00:00",
          "2019-06-01T00:00:00",
          "2019-07-01T00:00:00",
          "2019-08-01T00:00:00",
          "2019-09-01T00:00:00",
          "2019-10-01T00:00:00",
          "2019-11-01T00:00:00",
          "2019-12-01T00:00:00",
          "2020-01-01T00:00:00",
          "2020-02-01T00:00:00",
          "2020-03-01T00:00:00",
          "2020-04-01T00:00:00",
          "2020-05-01T00:00:00",
          "2020-06-01T00:00:00",
          "2020-07-01T00:00:00",
          "2020-08-01T00:00:00",
          "2020-09-01T00:00:00",
          "2020-10-01T00:00:00",
          "2020-11-01T00:00:00",
          "2020-12-01T00:00:00",
          "2021-01-01T00:00:00",
          "2021-02-01T00:00:00",
          "2021-03-01T00:00:00",
          "2021-04-01T00:00:00",
          "2021-05-01T00:00:00",
          "2021-06-01T00:00:00",
          "2021-07-01T00:00:00",
          "2021-08-01T00:00:00",
          "2021-09-01T00:00:00",
          "2021-10-01T00:00:00",
          "2021-11-01T00:00:00",
          "2021-12-01T00:00:00",
          "2022-01-01T00:00:00",
          "2022-02-01T00:00:00",
          "2022-03-01T00:00:00",
          "2022-04-01T00:00:00",
          "2022-05-01T00:00:00",
          "2022-06-01T00:00:00",
          "2022-07-01T00:00:00"
         ],
         "xaxis": "x",
         "y": [
          0,
          0,
          0,
          0,
          0,
          0,
          0,
          0.7142857142857143,
          0,
          0,
          0,
          0,
          0,
          0,
          0,
          0,
          0,
          0,
          0,
          0,
          0,
          0,
          0,
          0,
          0,
          0,
          0,
          0,
          0,
          0,
          0,
          0,
          0,
          0.125,
          0.1,
          0.12903225806451613,
          0,
          0.42857142857142855,
          0,
          0.2,
          null,
          0.5,
          0.75,
          0.5,
          1,
          0.6666666666666666,
          0.5,
          0,
          null,
          1,
          0.25,
          1,
          1,
          0.5,
          null
         ],
         "yaxis": "y"
        }
       ],
       "layout": {
        "bargap": 0,
        "barmode": "relative",
        "legend": {
         "title": {
          "text": "keyword"
         },
         "tracegroupgap": 0
        },
        "margin": {
         "t": 60
        },
        "template": {
         "data": {
          "bar": [
           {
            "error_x": {
             "color": "#2a3f5f"
            },
            "error_y": {
             "color": "#2a3f5f"
            },
            "marker": {
             "line": {
              "color": "#E5ECF6",
              "width": 0.5
             },
             "pattern": {
              "fillmode": "overlay",
              "size": 10,
              "solidity": 0.2
             }
            },
            "type": "bar"
           }
          ],
          "barpolar": [
           {
            "marker": {
             "line": {
              "color": "#E5ECF6",
              "width": 0.5
             },
             "pattern": {
              "fillmode": "overlay",
              "size": 10,
              "solidity": 0.2
             }
            },
            "type": "barpolar"
           }
          ],
          "carpet": [
           {
            "aaxis": {
             "endlinecolor": "#2a3f5f",
             "gridcolor": "white",
             "linecolor": "white",
             "minorgridcolor": "white",
             "startlinecolor": "#2a3f5f"
            },
            "baxis": {
             "endlinecolor": "#2a3f5f",
             "gridcolor": "white",
             "linecolor": "white",
             "minorgridcolor": "white",
             "startlinecolor": "#2a3f5f"
            },
            "type": "carpet"
           }
          ],
          "choropleth": [
           {
            "colorbar": {
             "outlinewidth": 0,
             "ticks": ""
            },
            "type": "choropleth"
           }
          ],
          "contour": [
           {
            "colorbar": {
             "outlinewidth": 0,
             "ticks": ""
            },
            "colorscale": [
             [
              0,
              "#0d0887"
             ],
             [
              0.1111111111111111,
              "#46039f"
             ],
             [
              0.2222222222222222,
              "#7201a8"
             ],
             [
              0.3333333333333333,
              "#9c179e"
             ],
             [
              0.4444444444444444,
              "#bd3786"
             ],
             [
              0.5555555555555556,
              "#d8576b"
             ],
             [
              0.6666666666666666,
              "#ed7953"
             ],
             [
              0.7777777777777778,
              "#fb9f3a"
             ],
             [
              0.8888888888888888,
              "#fdca26"
             ],
             [
              1,
              "#f0f921"
             ]
            ],
            "type": "contour"
           }
          ],
          "contourcarpet": [
           {
            "colorbar": {
             "outlinewidth": 0,
             "ticks": ""
            },
            "type": "contourcarpet"
           }
          ],
          "heatmap": [
           {
            "colorbar": {
             "outlinewidth": 0,
             "ticks": ""
            },
            "colorscale": [
             [
              0,
              "#0d0887"
             ],
             [
              0.1111111111111111,
              "#46039f"
             ],
             [
              0.2222222222222222,
              "#7201a8"
             ],
             [
              0.3333333333333333,
              "#9c179e"
             ],
             [
              0.4444444444444444,
              "#bd3786"
             ],
             [
              0.5555555555555556,
              "#d8576b"
             ],
             [
              0.6666666666666666,
              "#ed7953"
             ],
             [
              0.7777777777777778,
              "#fb9f3a"
             ],
             [
              0.8888888888888888,
              "#fdca26"
             ],
             [
              1,
              "#f0f921"
             ]
            ],
            "type": "heatmap"
           }
          ],
          "heatmapgl": [
           {
            "colorbar": {
             "outlinewidth": 0,
             "ticks": ""
            },
            "colorscale": [
             [
              0,
              "#0d0887"
             ],
             [
              0.1111111111111111,
              "#46039f"
             ],
             [
              0.2222222222222222,
              "#7201a8"
             ],
             [
              0.3333333333333333,
              "#9c179e"
             ],
             [
              0.4444444444444444,
              "#bd3786"
             ],
             [
              0.5555555555555556,
              "#d8576b"
             ],
             [
              0.6666666666666666,
              "#ed7953"
             ],
             [
              0.7777777777777778,
              "#fb9f3a"
             ],
             [
              0.8888888888888888,
              "#fdca26"
             ],
             [
              1,
              "#f0f921"
             ]
            ],
            "type": "heatmapgl"
           }
          ],
          "histogram": [
           {
            "marker": {
             "pattern": {
              "fillmode": "overlay",
              "size": 10,
              "solidity": 0.2
             }
            },
            "type": "histogram"
           }
          ],
          "histogram2d": [
           {
            "colorbar": {
             "outlinewidth": 0,
             "ticks": ""
            },
            "colorscale": [
             [
              0,
              "#0d0887"
             ],
             [
              0.1111111111111111,
              "#46039f"
             ],
             [
              0.2222222222222222,
              "#7201a8"
             ],
             [
              0.3333333333333333,
              "#9c179e"
             ],
             [
              0.4444444444444444,
              "#bd3786"
             ],
             [
              0.5555555555555556,
              "#d8576b"
             ],
             [
              0.6666666666666666,
              "#ed7953"
             ],
             [
              0.7777777777777778,
              "#fb9f3a"
             ],
             [
              0.8888888888888888,
              "#fdca26"
             ],
             [
              1,
              "#f0f921"
             ]
            ],
            "type": "histogram2d"
           }
          ],
          "histogram2dcontour": [
           {
            "colorbar": {
             "outlinewidth": 0,
             "ticks": ""
            },
            "colorscale": [
             [
              0,
              "#0d0887"
             ],
             [
              0.1111111111111111,
              "#46039f"
             ],
             [
              0.2222222222222222,
              "#7201a8"
             ],
             [
              0.3333333333333333,
              "#9c179e"
             ],
             [
              0.4444444444444444,
              "#bd3786"
             ],
             [
              0.5555555555555556,
              "#d8576b"
             ],
             [
              0.6666666666666666,
              "#ed7953"
             ],
             [
              0.7777777777777778,
              "#fb9f3a"
             ],
             [
              0.8888888888888888,
              "#fdca26"
             ],
             [
              1,
              "#f0f921"
             ]
            ],
            "type": "histogram2dcontour"
           }
          ],
          "mesh3d": [
           {
            "colorbar": {
             "outlinewidth": 0,
             "ticks": ""
            },
            "type": "mesh3d"
           }
          ],
          "parcoords": [
           {
            "line": {
             "colorbar": {
              "outlinewidth": 0,
              "ticks": ""
             }
            },
            "type": "parcoords"
           }
          ],
          "pie": [
           {
            "automargin": true,
            "type": "pie"
           }
          ],
          "scatter": [
           {
            "marker": {
             "colorbar": {
              "outlinewidth": 0,
              "ticks": ""
             }
            },
            "type": "scatter"
           }
          ],
          "scatter3d": [
           {
            "line": {
             "colorbar": {
              "outlinewidth": 0,
              "ticks": ""
             }
            },
            "marker": {
             "colorbar": {
              "outlinewidth": 0,
              "ticks": ""
             }
            },
            "type": "scatter3d"
           }
          ],
          "scattercarpet": [
           {
            "marker": {
             "colorbar": {
              "outlinewidth": 0,
              "ticks": ""
             }
            },
            "type": "scattercarpet"
           }
          ],
          "scattergeo": [
           {
            "marker": {
             "colorbar": {
              "outlinewidth": 0,
              "ticks": ""
             }
            },
            "type": "scattergeo"
           }
          ],
          "scattergl": [
           {
            "marker": {
             "colorbar": {
              "outlinewidth": 0,
              "ticks": ""
             }
            },
            "type": "scattergl"
           }
          ],
          "scattermapbox": [
           {
            "marker": {
             "colorbar": {
              "outlinewidth": 0,
              "ticks": ""
             }
            },
            "type": "scattermapbox"
           }
          ],
          "scatterpolar": [
           {
            "marker": {
             "colorbar": {
              "outlinewidth": 0,
              "ticks": ""
             }
            },
            "type": "scatterpolar"
           }
          ],
          "scatterpolargl": [
           {
            "marker": {
             "colorbar": {
              "outlinewidth": 0,
              "ticks": ""
             }
            },
            "type": "scatterpolargl"
           }
          ],
          "scatterternary": [
           {
            "marker": {
             "colorbar": {
              "outlinewidth": 0,
              "ticks": ""
             }
            },
            "type": "scatterternary"
           }
          ],
          "surface": [
           {
            "colorbar": {
             "outlinewidth": 0,
             "ticks": ""
            },
            "colorscale": [
             [
              0,
              "#0d0887"
             ],
             [
              0.1111111111111111,
              "#46039f"
             ],
             [
              0.2222222222222222,
              "#7201a8"
             ],
             [
              0.3333333333333333,
              "#9c179e"
             ],
             [
              0.4444444444444444,
              "#bd3786"
             ],
             [
              0.5555555555555556,
              "#d8576b"
             ],
             [
              0.6666666666666666,
              "#ed7953"
             ],
             [
              0.7777777777777778,
              "#fb9f3a"
             ],
             [
              0.8888888888888888,
              "#fdca26"
             ],
             [
              1,
              "#f0f921"
             ]
            ],
            "type": "surface"
           }
          ],
          "table": [
           {
            "cells": {
             "fill": {
              "color": "#EBF0F8"
             },
             "line": {
              "color": "white"
             }
            },
            "header": {
             "fill": {
              "color": "#C8D4E3"
             },
             "line": {
              "color": "white"
             }
            },
            "type": "table"
           }
          ]
         },
         "layout": {
          "annotationdefaults": {
           "arrowcolor": "#2a3f5f",
           "arrowhead": 0,
           "arrowwidth": 1
          },
          "autotypenumbers": "strict",
          "coloraxis": {
           "colorbar": {
            "outlinewidth": 0,
            "ticks": ""
           }
          },
          "colorscale": {
           "diverging": [
            [
             0,
             "#8e0152"
            ],
            [
             0.1,
             "#c51b7d"
            ],
            [
             0.2,
             "#de77ae"
            ],
            [
             0.3,
             "#f1b6da"
            ],
            [
             0.4,
             "#fde0ef"
            ],
            [
             0.5,
             "#f7f7f7"
            ],
            [
             0.6,
             "#e6f5d0"
            ],
            [
             0.7,
             "#b8e186"
            ],
            [
             0.8,
             "#7fbc41"
            ],
            [
             0.9,
             "#4d9221"
            ],
            [
             1,
             "#276419"
            ]
           ],
           "sequential": [
            [
             0,
             "#0d0887"
            ],
            [
             0.1111111111111111,
             "#46039f"
            ],
            [
             0.2222222222222222,
             "#7201a8"
            ],
            [
             0.3333333333333333,
             "#9c179e"
            ],
            [
             0.4444444444444444,
             "#bd3786"
            ],
            [
             0.5555555555555556,
             "#d8576b"
            ],
            [
             0.6666666666666666,
             "#ed7953"
            ],
            [
             0.7777777777777778,
             "#fb9f3a"
            ],
            [
             0.8888888888888888,
             "#fdca26"
            ],
            [
             1,
             "#f0f921"
            ]
           ],
           "sequentialminus": [
            [
             0,
             "#0d0887"
            ],
            [
             0.1111111111111111,
             "#46039f"
            ],
            [
             0.2222222222222222,
             "#7201a8"
            ],
            [
             0.3333333333333333,
             "#9c179e"
            ],
            [
             0.4444444444444444,
             "#bd3786"
            ],
            [
             0.5555555555555556,
             "#d8576b"
            ],
            [
             0.6666666666666666,
             "#ed7953"
            ],
            [
             0.7777777777777778,
             "#fb9f3a"
            ],
            [
             0.8888888888888888,
             "#fdca26"
            ],
            [
             1,
             "#f0f921"
            ]
           ]
          },
          "colorway": [
           "#636efa",
           "#EF553B",
           "#00cc96",
           "#ab63fa",
           "#FFA15A",
           "#19d3f3",
           "#FF6692",
           "#B6E880",
           "#FF97FF",
           "#FECB52"
          ],
          "font": {
           "color": "#2a3f5f"
          },
          "geo": {
           "bgcolor": "white",
           "lakecolor": "white",
           "landcolor": "#E5ECF6",
           "showlakes": true,
           "showland": true,
           "subunitcolor": "white"
          },
          "hoverlabel": {
           "align": "left"
          },
          "hovermode": "closest",
          "mapbox": {
           "style": "light"
          },
          "paper_bgcolor": "white",
          "plot_bgcolor": "#E5ECF6",
          "polar": {
           "angularaxis": {
            "gridcolor": "white",
            "linecolor": "white",
            "ticks": ""
           },
           "bgcolor": "#E5ECF6",
           "radialaxis": {
            "gridcolor": "white",
            "linecolor": "white",
            "ticks": ""
           }
          },
          "scene": {
           "xaxis": {
            "backgroundcolor": "#E5ECF6",
            "gridcolor": "white",
            "gridwidth": 2,
            "linecolor": "white",
            "showbackground": true,
            "ticks": "",
            "zerolinecolor": "white"
           },
           "yaxis": {
            "backgroundcolor": "#E5ECF6",
            "gridcolor": "white",
            "gridwidth": 2,
            "linecolor": "white",
            "showbackground": true,
            "ticks": "",
            "zerolinecolor": "white"
           },
           "zaxis": {
            "backgroundcolor": "#E5ECF6",
            "gridcolor": "white",
            "gridwidth": 2,
            "linecolor": "white",
            "showbackground": true,
            "ticks": "",
            "zerolinecolor": "white"
           }
          },
          "shapedefaults": {
           "line": {
            "color": "#2a3f5f"
           }
          },
          "ternary": {
           "aaxis": {
            "gridcolor": "white",
            "linecolor": "white",
            "ticks": ""
           },
           "baxis": {
            "gridcolor": "white",
            "linecolor": "white",
            "ticks": ""
           },
           "bgcolor": "#E5ECF6",
           "caxis": {
            "gridcolor": "white",
            "linecolor": "white",
            "ticks": ""
           }
          },
          "title": {
           "x": 0.05
          },
          "xaxis": {
           "automargin": true,
           "gridcolor": "white",
           "linecolor": "white",
           "ticks": "",
           "title": {
            "standoff": 15
           },
           "zerolinecolor": "white",
           "zerolinewidth": 2
          },
          "yaxis": {
           "automargin": true,
           "gridcolor": "white",
           "linecolor": "white",
           "ticks": "",
           "title": {
            "standoff": 15
           },
           "zerolinecolor": "white",
           "zerolinewidth": 2
          }
         }
        },
        "xaxis": {
         "anchor": "y",
         "domain": [
          0,
          1
         ],
         "title": {
          "text": "Date"
         }
        },
        "yaxis": {
         "anchor": "x",
         "domain": [
          0,
          1
         ],
         "title": {
          "text": "Percent"
         }
        }
       }
      },
      "text/html": [
       "<div>                            <div id=\"aaa11363-a419-4bf7-b04c-b64267793be0\" class=\"plotly-graph-div\" style=\"height:525px; width:100%;\"></div>            <script type=\"text/javascript\">                require([\"plotly\"], function(Plotly) {                    window.PLOTLYENV=window.PLOTLYENV || {};                                    if (document.getElementById(\"aaa11363-a419-4bf7-b04c-b64267793be0\")) {                    Plotly.newPlot(                        \"aaa11363-a419-4bf7-b04c-b64267793be0\",                        [{\"alignmentgroup\":\"True\",\"hovertemplate\":\"keyword=%{text}<br>Date=%{x}<br>Percent=%{y}<extra></extra>\",\"legendgroup\":\"\\uacf5\\uc778\\uc778\\uc99d\\uc11c\",\"marker\":{\"color\":\"#636efa\",\"pattern\":{\"shape\":\"\"}},\"name\":\"\\uacf5\\uc778\\uc778\\uc99d\\uc11c\",\"offsetgroup\":\"\\uacf5\\uc778\\uc778\\uc99d\\uc11c\",\"orientation\":\"v\",\"showlegend\":true,\"text\":[\"\\uacf5\\uc778\\uc778\\uc99d\\uc11c\",\"\\uacf5\\uc778\\uc778\\uc99d\\uc11c\",\"\\uacf5\\uc778\\uc778\\uc99d\\uc11c\",\"\\uacf5\\uc778\\uc778\\uc99d\\uc11c\",\"\\uacf5\\uc778\\uc778\\uc99d\\uc11c\",\"\\uacf5\\uc778\\uc778\\uc99d\\uc11c\",\"\\uacf5\\uc778\\uc778\\uc99d\\uc11c\",\"\\uacf5\\uc778\\uc778\\uc99d\\uc11c\",\"\\uacf5\\uc778\\uc778\\uc99d\\uc11c\",\"\\uacf5\\uc778\\uc778\\uc99d\\uc11c\",\"\\uacf5\\uc778\\uc778\\uc99d\\uc11c\",\"\\uacf5\\uc778\\uc778\\uc99d\\uc11c\",\"\\uacf5\\uc778\\uc778\\uc99d\\uc11c\",\"\\uacf5\\uc778\\uc778\\uc99d\\uc11c\",\"\\uacf5\\uc778\\uc778\\uc99d\\uc11c\",\"\\uacf5\\uc778\\uc778\\uc99d\\uc11c\",\"\\uacf5\\uc778\\uc778\\uc99d\\uc11c\",\"\\uacf5\\uc778\\uc778\\uc99d\\uc11c\",\"\\uacf5\\uc778\\uc778\\uc99d\\uc11c\",\"\\uacf5\\uc778\\uc778\\uc99d\\uc11c\",\"\\uacf5\\uc778\\uc778\\uc99d\\uc11c\",\"\\uacf5\\uc778\\uc778\\uc99d\\uc11c\",\"\\uacf5\\uc778\\uc778\\uc99d\\uc11c\",\"\\uacf5\\uc778\\uc778\\uc99d\\uc11c\",\"\\uacf5\\uc778\\uc778\\uc99d\\uc11c\",\"\\uacf5\\uc778\\uc778\\uc99d\\uc11c\",\"\\uacf5\\uc778\\uc778\\uc99d\\uc11c\",\"\\uacf5\\uc778\\uc778\\uc99d\\uc11c\",\"\\uacf5\\uc778\\uc778\\uc99d\\uc11c\",\"\\uacf5\\uc778\\uc778\\uc99d\\uc11c\",\"\\uacf5\\uc778\\uc778\\uc99d\\uc11c\",\"\\uacf5\\uc778\\uc778\\uc99d\\uc11c\",\"\\uacf5\\uc778\\uc778\\uc99d\\uc11c\",\"\\uacf5\\uc778\\uc778\\uc99d\\uc11c\",\"\\uacf5\\uc778\\uc778\\uc99d\\uc11c\",\"\\uacf5\\uc778\\uc778\\uc99d\\uc11c\",\"\\uacf5\\uc778\\uc778\\uc99d\\uc11c\",\"\\uacf5\\uc778\\uc778\\uc99d\\uc11c\",\"\\uacf5\\uc778\\uc778\\uc99d\\uc11c\",\"\\uacf5\\uc778\\uc778\\uc99d\\uc11c\",\"\\uacf5\\uc778\\uc778\\uc99d\\uc11c\",\"\\uacf5\\uc778\\uc778\\uc99d\\uc11c\",\"\\uacf5\\uc778\\uc778\\uc99d\\uc11c\",\"\\uacf5\\uc778\\uc778\\uc99d\\uc11c\",\"\\uacf5\\uc778\\uc778\\uc99d\\uc11c\",\"\\uacf5\\uc778\\uc778\\uc99d\\uc11c\",\"\\uacf5\\uc778\\uc778\\uc99d\\uc11c\",\"\\uacf5\\uc778\\uc778\\uc99d\\uc11c\",\"\\uacf5\\uc778\\uc778\\uc99d\\uc11c\",\"\\uacf5\\uc778\\uc778\\uc99d\\uc11c\",\"\\uacf5\\uc778\\uc778\\uc99d\\uc11c\",\"\\uacf5\\uc778\\uc778\\uc99d\\uc11c\",\"\\uacf5\\uc778\\uc778\\uc99d\\uc11c\",\"\\uacf5\\uc778\\uc778\\uc99d\\uc11c\",\"\\uacf5\\uc778\\uc778\\uc99d\\uc11c\"],\"textposition\":\"auto\",\"x\":[\"2018-01-01T00:00:00\",\"2018-02-01T00:00:00\",\"2018-03-01T00:00:00\",\"2018-04-01T00:00:00\",\"2018-05-01T00:00:00\",\"2018-06-01T00:00:00\",\"2018-07-01T00:00:00\",\"2018-08-01T00:00:00\",\"2018-09-01T00:00:00\",\"2018-10-01T00:00:00\",\"2018-11-01T00:00:00\",\"2018-12-01T00:00:00\",\"2019-01-01T00:00:00\",\"2019-02-01T00:00:00\",\"2019-03-01T00:00:00\",\"2019-04-01T00:00:00\",\"2019-05-01T00:00:00\",\"2019-06-01T00:00:00\",\"2019-07-01T00:00:00\",\"2019-08-01T00:00:00\",\"2019-09-01T00:00:00\",\"2019-10-01T00:00:00\",\"2019-11-01T00:00:00\",\"2019-12-01T00:00:00\",\"2020-01-01T00:00:00\",\"2020-02-01T00:00:00\",\"2020-03-01T00:00:00\",\"2020-04-01T00:00:00\",\"2020-05-01T00:00:00\",\"2020-06-01T00:00:00\",\"2020-07-01T00:00:00\",\"2020-08-01T00:00:00\",\"2020-09-01T00:00:00\",\"2020-10-01T00:00:00\",\"2020-11-01T00:00:00\",\"2020-12-01T00:00:00\",\"2021-01-01T00:00:00\",\"2021-02-01T00:00:00\",\"2021-03-01T00:00:00\",\"2021-04-01T00:00:00\",\"2021-05-01T00:00:00\",\"2021-06-01T00:00:00\",\"2021-07-01T00:00:00\",\"2021-08-01T00:00:00\",\"2021-09-01T00:00:00\",\"2021-10-01T00:00:00\",\"2021-11-01T00:00:00\",\"2021-12-01T00:00:00\",\"2022-01-01T00:00:00\",\"2022-02-01T00:00:00\",\"2022-03-01T00:00:00\",\"2022-04-01T00:00:00\",\"2022-05-01T00:00:00\",\"2022-06-01T00:00:00\",\"2022-07-01T00:00:00\"],\"xaxis\":\"x\",\"y\":[1.0,1.0,1.0,1.0,1.0,1.0,1.0,0.2857142857142857,1.0,1.0,1.0,1.0,1.0,1.0,1.0,1.0,1.0,1.0,1.0,1.0,1.0,1.0,1.0,1.0,1.0,1.0,1.0,1.0,1.0,1.0,1.0,1.0,1.0,0.875,0.9,0.8709677419354839,1.0,0.5714285714285714,1.0,0.8,null,0.5,0.25,0.5,0.0,0.3333333333333333,0.5,1.0,null,0.0,0.75,0.0,0.0,0.5,null],\"yaxis\":\"y\",\"type\":\"bar\"},{\"alignmentgroup\":\"True\",\"hovertemplate\":\"keyword=%{text}<br>Date=%{x}<br>Percent=%{y}<extra></extra>\",\"legendgroup\":\"\\uacf5\\ub3d9\\uc778\\uc99d\\uc11c\",\"marker\":{\"color\":\"#EF553B\",\"pattern\":{\"shape\":\"\"}},\"name\":\"\\uacf5\\ub3d9\\uc778\\uc99d\\uc11c\",\"offsetgroup\":\"\\uacf5\\ub3d9\\uc778\\uc99d\\uc11c\",\"orientation\":\"v\",\"showlegend\":true,\"text\":[\"\\uacf5\\ub3d9\\uc778\\uc99d\\uc11c\",\"\\uacf5\\ub3d9\\uc778\\uc99d\\uc11c\",\"\\uacf5\\ub3d9\\uc778\\uc99d\\uc11c\",\"\\uacf5\\ub3d9\\uc778\\uc99d\\uc11c\",\"\\uacf5\\ub3d9\\uc778\\uc99d\\uc11c\",\"\\uacf5\\ub3d9\\uc778\\uc99d\\uc11c\",\"\\uacf5\\ub3d9\\uc778\\uc99d\\uc11c\",\"\\uacf5\\ub3d9\\uc778\\uc99d\\uc11c\",\"\\uacf5\\ub3d9\\uc778\\uc99d\\uc11c\",\"\\uacf5\\ub3d9\\uc778\\uc99d\\uc11c\",\"\\uacf5\\ub3d9\\uc778\\uc99d\\uc11c\",\"\\uacf5\\ub3d9\\uc778\\uc99d\\uc11c\",\"\\uacf5\\ub3d9\\uc778\\uc99d\\uc11c\",\"\\uacf5\\ub3d9\\uc778\\uc99d\\uc11c\",\"\\uacf5\\ub3d9\\uc778\\uc99d\\uc11c\",\"\\uacf5\\ub3d9\\uc778\\uc99d\\uc11c\",\"\\uacf5\\ub3d9\\uc778\\uc99d\\uc11c\",\"\\uacf5\\ub3d9\\uc778\\uc99d\\uc11c\",\"\\uacf5\\ub3d9\\uc778\\uc99d\\uc11c\",\"\\uacf5\\ub3d9\\uc778\\uc99d\\uc11c\",\"\\uacf5\\ub3d9\\uc778\\uc99d\\uc11c\",\"\\uacf5\\ub3d9\\uc778\\uc99d\\uc11c\",\"\\uacf5\\ub3d9\\uc778\\uc99d\\uc11c\",\"\\uacf5\\ub3d9\\uc778\\uc99d\\uc11c\",\"\\uacf5\\ub3d9\\uc778\\uc99d\\uc11c\",\"\\uacf5\\ub3d9\\uc778\\uc99d\\uc11c\",\"\\uacf5\\ub3d9\\uc778\\uc99d\\uc11c\",\"\\uacf5\\ub3d9\\uc778\\uc99d\\uc11c\",\"\\uacf5\\ub3d9\\uc778\\uc99d\\uc11c\",\"\\uacf5\\ub3d9\\uc778\\uc99d\\uc11c\",\"\\uacf5\\ub3d9\\uc778\\uc99d\\uc11c\",\"\\uacf5\\ub3d9\\uc778\\uc99d\\uc11c\",\"\\uacf5\\ub3d9\\uc778\\uc99d\\uc11c\",\"\\uacf5\\ub3d9\\uc778\\uc99d\\uc11c\",\"\\uacf5\\ub3d9\\uc778\\uc99d\\uc11c\",\"\\uacf5\\ub3d9\\uc778\\uc99d\\uc11c\",\"\\uacf5\\ub3d9\\uc778\\uc99d\\uc11c\",\"\\uacf5\\ub3d9\\uc778\\uc99d\\uc11c\",\"\\uacf5\\ub3d9\\uc778\\uc99d\\uc11c\",\"\\uacf5\\ub3d9\\uc778\\uc99d\\uc11c\",\"\\uacf5\\ub3d9\\uc778\\uc99d\\uc11c\",\"\\uacf5\\ub3d9\\uc778\\uc99d\\uc11c\",\"\\uacf5\\ub3d9\\uc778\\uc99d\\uc11c\",\"\\uacf5\\ub3d9\\uc778\\uc99d\\uc11c\",\"\\uacf5\\ub3d9\\uc778\\uc99d\\uc11c\",\"\\uacf5\\ub3d9\\uc778\\uc99d\\uc11c\",\"\\uacf5\\ub3d9\\uc778\\uc99d\\uc11c\",\"\\uacf5\\ub3d9\\uc778\\uc99d\\uc11c\",\"\\uacf5\\ub3d9\\uc778\\uc99d\\uc11c\",\"\\uacf5\\ub3d9\\uc778\\uc99d\\uc11c\",\"\\uacf5\\ub3d9\\uc778\\uc99d\\uc11c\",\"\\uacf5\\ub3d9\\uc778\\uc99d\\uc11c\",\"\\uacf5\\ub3d9\\uc778\\uc99d\\uc11c\",\"\\uacf5\\ub3d9\\uc778\\uc99d\\uc11c\",\"\\uacf5\\ub3d9\\uc778\\uc99d\\uc11c\"],\"textposition\":\"auto\",\"x\":[\"2018-01-01T00:00:00\",\"2018-02-01T00:00:00\",\"2018-03-01T00:00:00\",\"2018-04-01T00:00:00\",\"2018-05-01T00:00:00\",\"2018-06-01T00:00:00\",\"2018-07-01T00:00:00\",\"2018-08-01T00:00:00\",\"2018-09-01T00:00:00\",\"2018-10-01T00:00:00\",\"2018-11-01T00:00:00\",\"2018-12-01T00:00:00\",\"2019-01-01T00:00:00\",\"2019-02-01T00:00:00\",\"2019-03-01T00:00:00\",\"2019-04-01T00:00:00\",\"2019-05-01T00:00:00\",\"2019-06-01T00:00:00\",\"2019-07-01T00:00:00\",\"2019-08-01T00:00:00\",\"2019-09-01T00:00:00\",\"2019-10-01T00:00:00\",\"2019-11-01T00:00:00\",\"2019-12-01T00:00:00\",\"2020-01-01T00:00:00\",\"2020-02-01T00:00:00\",\"2020-03-01T00:00:00\",\"2020-04-01T00:00:00\",\"2020-05-01T00:00:00\",\"2020-06-01T00:00:00\",\"2020-07-01T00:00:00\",\"2020-08-01T00:00:00\",\"2020-09-01T00:00:00\",\"2020-10-01T00:00:00\",\"2020-11-01T00:00:00\",\"2020-12-01T00:00:00\",\"2021-01-01T00:00:00\",\"2021-02-01T00:00:00\",\"2021-03-01T00:00:00\",\"2021-04-01T00:00:00\",\"2021-05-01T00:00:00\",\"2021-06-01T00:00:00\",\"2021-07-01T00:00:00\",\"2021-08-01T00:00:00\",\"2021-09-01T00:00:00\",\"2021-10-01T00:00:00\",\"2021-11-01T00:00:00\",\"2021-12-01T00:00:00\",\"2022-01-01T00:00:00\",\"2022-02-01T00:00:00\",\"2022-03-01T00:00:00\",\"2022-04-01T00:00:00\",\"2022-05-01T00:00:00\",\"2022-06-01T00:00:00\",\"2022-07-01T00:00:00\"],\"xaxis\":\"x\",\"y\":[0.0,0.0,0.0,0.0,0.0,0.0,0.0,0.7142857142857143,0.0,0.0,0.0,0.0,0.0,0.0,0.0,0.0,0.0,0.0,0.0,0.0,0.0,0.0,0.0,0.0,0.0,0.0,0.0,0.0,0.0,0.0,0.0,0.0,0.0,0.125,0.1,0.12903225806451613,0.0,0.42857142857142855,0.0,0.2,null,0.5,0.75,0.5,1.0,0.6666666666666666,0.5,0.0,null,1.0,0.25,1.0,1.0,0.5,null],\"yaxis\":\"y\",\"type\":\"bar\"}],                        {\"template\":{\"data\":{\"bar\":[{\"error_x\":{\"color\":\"#2a3f5f\"},\"error_y\":{\"color\":\"#2a3f5f\"},\"marker\":{\"line\":{\"color\":\"#E5ECF6\",\"width\":0.5},\"pattern\":{\"fillmode\":\"overlay\",\"size\":10,\"solidity\":0.2}},\"type\":\"bar\"}],\"barpolar\":[{\"marker\":{\"line\":{\"color\":\"#E5ECF6\",\"width\":0.5},\"pattern\":{\"fillmode\":\"overlay\",\"size\":10,\"solidity\":0.2}},\"type\":\"barpolar\"}],\"carpet\":[{\"aaxis\":{\"endlinecolor\":\"#2a3f5f\",\"gridcolor\":\"white\",\"linecolor\":\"white\",\"minorgridcolor\":\"white\",\"startlinecolor\":\"#2a3f5f\"},\"baxis\":{\"endlinecolor\":\"#2a3f5f\",\"gridcolor\":\"white\",\"linecolor\":\"white\",\"minorgridcolor\":\"white\",\"startlinecolor\":\"#2a3f5f\"},\"type\":\"carpet\"}],\"choropleth\":[{\"colorbar\":{\"outlinewidth\":0,\"ticks\":\"\"},\"type\":\"choropleth\"}],\"contour\":[{\"colorbar\":{\"outlinewidth\":0,\"ticks\":\"\"},\"colorscale\":[[0.0,\"#0d0887\"],[0.1111111111111111,\"#46039f\"],[0.2222222222222222,\"#7201a8\"],[0.3333333333333333,\"#9c179e\"],[0.4444444444444444,\"#bd3786\"],[0.5555555555555556,\"#d8576b\"],[0.6666666666666666,\"#ed7953\"],[0.7777777777777778,\"#fb9f3a\"],[0.8888888888888888,\"#fdca26\"],[1.0,\"#f0f921\"]],\"type\":\"contour\"}],\"contourcarpet\":[{\"colorbar\":{\"outlinewidth\":0,\"ticks\":\"\"},\"type\":\"contourcarpet\"}],\"heatmap\":[{\"colorbar\":{\"outlinewidth\":0,\"ticks\":\"\"},\"colorscale\":[[0.0,\"#0d0887\"],[0.1111111111111111,\"#46039f\"],[0.2222222222222222,\"#7201a8\"],[0.3333333333333333,\"#9c179e\"],[0.4444444444444444,\"#bd3786\"],[0.5555555555555556,\"#d8576b\"],[0.6666666666666666,\"#ed7953\"],[0.7777777777777778,\"#fb9f3a\"],[0.8888888888888888,\"#fdca26\"],[1.0,\"#f0f921\"]],\"type\":\"heatmap\"}],\"heatmapgl\":[{\"colorbar\":{\"outlinewidth\":0,\"ticks\":\"\"},\"colorscale\":[[0.0,\"#0d0887\"],[0.1111111111111111,\"#46039f\"],[0.2222222222222222,\"#7201a8\"],[0.3333333333333333,\"#9c179e\"],[0.4444444444444444,\"#bd3786\"],[0.5555555555555556,\"#d8576b\"],[0.6666666666666666,\"#ed7953\"],[0.7777777777777778,\"#fb9f3a\"],[0.8888888888888888,\"#fdca26\"],[1.0,\"#f0f921\"]],\"type\":\"heatmapgl\"}],\"histogram\":[{\"marker\":{\"pattern\":{\"fillmode\":\"overlay\",\"size\":10,\"solidity\":0.2}},\"type\":\"histogram\"}],\"histogram2d\":[{\"colorbar\":{\"outlinewidth\":0,\"ticks\":\"\"},\"colorscale\":[[0.0,\"#0d0887\"],[0.1111111111111111,\"#46039f\"],[0.2222222222222222,\"#7201a8\"],[0.3333333333333333,\"#9c179e\"],[0.4444444444444444,\"#bd3786\"],[0.5555555555555556,\"#d8576b\"],[0.6666666666666666,\"#ed7953\"],[0.7777777777777778,\"#fb9f3a\"],[0.8888888888888888,\"#fdca26\"],[1.0,\"#f0f921\"]],\"type\":\"histogram2d\"}],\"histogram2dcontour\":[{\"colorbar\":{\"outlinewidth\":0,\"ticks\":\"\"},\"colorscale\":[[0.0,\"#0d0887\"],[0.1111111111111111,\"#46039f\"],[0.2222222222222222,\"#7201a8\"],[0.3333333333333333,\"#9c179e\"],[0.4444444444444444,\"#bd3786\"],[0.5555555555555556,\"#d8576b\"],[0.6666666666666666,\"#ed7953\"],[0.7777777777777778,\"#fb9f3a\"],[0.8888888888888888,\"#fdca26\"],[1.0,\"#f0f921\"]],\"type\":\"histogram2dcontour\"}],\"mesh3d\":[{\"colorbar\":{\"outlinewidth\":0,\"ticks\":\"\"},\"type\":\"mesh3d\"}],\"parcoords\":[{\"line\":{\"colorbar\":{\"outlinewidth\":0,\"ticks\":\"\"}},\"type\":\"parcoords\"}],\"pie\":[{\"automargin\":true,\"type\":\"pie\"}],\"scatter\":[{\"marker\":{\"colorbar\":{\"outlinewidth\":0,\"ticks\":\"\"}},\"type\":\"scatter\"}],\"scatter3d\":[{\"line\":{\"colorbar\":{\"outlinewidth\":0,\"ticks\":\"\"}},\"marker\":{\"colorbar\":{\"outlinewidth\":0,\"ticks\":\"\"}},\"type\":\"scatter3d\"}],\"scattercarpet\":[{\"marker\":{\"colorbar\":{\"outlinewidth\":0,\"ticks\":\"\"}},\"type\":\"scattercarpet\"}],\"scattergeo\":[{\"marker\":{\"colorbar\":{\"outlinewidth\":0,\"ticks\":\"\"}},\"type\":\"scattergeo\"}],\"scattergl\":[{\"marker\":{\"colorbar\":{\"outlinewidth\":0,\"ticks\":\"\"}},\"type\":\"scattergl\"}],\"scattermapbox\":[{\"marker\":{\"colorbar\":{\"outlinewidth\":0,\"ticks\":\"\"}},\"type\":\"scattermapbox\"}],\"scatterpolar\":[{\"marker\":{\"colorbar\":{\"outlinewidth\":0,\"ticks\":\"\"}},\"type\":\"scatterpolar\"}],\"scatterpolargl\":[{\"marker\":{\"colorbar\":{\"outlinewidth\":0,\"ticks\":\"\"}},\"type\":\"scatterpolargl\"}],\"scatterternary\":[{\"marker\":{\"colorbar\":{\"outlinewidth\":0,\"ticks\":\"\"}},\"type\":\"scatterternary\"}],\"surface\":[{\"colorbar\":{\"outlinewidth\":0,\"ticks\":\"\"},\"colorscale\":[[0.0,\"#0d0887\"],[0.1111111111111111,\"#46039f\"],[0.2222222222222222,\"#7201a8\"],[0.3333333333333333,\"#9c179e\"],[0.4444444444444444,\"#bd3786\"],[0.5555555555555556,\"#d8576b\"],[0.6666666666666666,\"#ed7953\"],[0.7777777777777778,\"#fb9f3a\"],[0.8888888888888888,\"#fdca26\"],[1.0,\"#f0f921\"]],\"type\":\"surface\"}],\"table\":[{\"cells\":{\"fill\":{\"color\":\"#EBF0F8\"},\"line\":{\"color\":\"white\"}},\"header\":{\"fill\":{\"color\":\"#C8D4E3\"},\"line\":{\"color\":\"white\"}},\"type\":\"table\"}]},\"layout\":{\"annotationdefaults\":{\"arrowcolor\":\"#2a3f5f\",\"arrowhead\":0,\"arrowwidth\":1},\"autotypenumbers\":\"strict\",\"coloraxis\":{\"colorbar\":{\"outlinewidth\":0,\"ticks\":\"\"}},\"colorscale\":{\"diverging\":[[0,\"#8e0152\"],[0.1,\"#c51b7d\"],[0.2,\"#de77ae\"],[0.3,\"#f1b6da\"],[0.4,\"#fde0ef\"],[0.5,\"#f7f7f7\"],[0.6,\"#e6f5d0\"],[0.7,\"#b8e186\"],[0.8,\"#7fbc41\"],[0.9,\"#4d9221\"],[1,\"#276419\"]],\"sequential\":[[0.0,\"#0d0887\"],[0.1111111111111111,\"#46039f\"],[0.2222222222222222,\"#7201a8\"],[0.3333333333333333,\"#9c179e\"],[0.4444444444444444,\"#bd3786\"],[0.5555555555555556,\"#d8576b\"],[0.6666666666666666,\"#ed7953\"],[0.7777777777777778,\"#fb9f3a\"],[0.8888888888888888,\"#fdca26\"],[1.0,\"#f0f921\"]],\"sequentialminus\":[[0.0,\"#0d0887\"],[0.1111111111111111,\"#46039f\"],[0.2222222222222222,\"#7201a8\"],[0.3333333333333333,\"#9c179e\"],[0.4444444444444444,\"#bd3786\"],[0.5555555555555556,\"#d8576b\"],[0.6666666666666666,\"#ed7953\"],[0.7777777777777778,\"#fb9f3a\"],[0.8888888888888888,\"#fdca26\"],[1.0,\"#f0f921\"]]},\"colorway\":[\"#636efa\",\"#EF553B\",\"#00cc96\",\"#ab63fa\",\"#FFA15A\",\"#19d3f3\",\"#FF6692\",\"#B6E880\",\"#FF97FF\",\"#FECB52\"],\"font\":{\"color\":\"#2a3f5f\"},\"geo\":{\"bgcolor\":\"white\",\"lakecolor\":\"white\",\"landcolor\":\"#E5ECF6\",\"showlakes\":true,\"showland\":true,\"subunitcolor\":\"white\"},\"hoverlabel\":{\"align\":\"left\"},\"hovermode\":\"closest\",\"mapbox\":{\"style\":\"light\"},\"paper_bgcolor\":\"white\",\"plot_bgcolor\":\"#E5ECF6\",\"polar\":{\"angularaxis\":{\"gridcolor\":\"white\",\"linecolor\":\"white\",\"ticks\":\"\"},\"bgcolor\":\"#E5ECF6\",\"radialaxis\":{\"gridcolor\":\"white\",\"linecolor\":\"white\",\"ticks\":\"\"}},\"scene\":{\"xaxis\":{\"backgroundcolor\":\"#E5ECF6\",\"gridcolor\":\"white\",\"gridwidth\":2,\"linecolor\":\"white\",\"showbackground\":true,\"ticks\":\"\",\"zerolinecolor\":\"white\"},\"yaxis\":{\"backgroundcolor\":\"#E5ECF6\",\"gridcolor\":\"white\",\"gridwidth\":2,\"linecolor\":\"white\",\"showbackground\":true,\"ticks\":\"\",\"zerolinecolor\":\"white\"},\"zaxis\":{\"backgroundcolor\":\"#E5ECF6\",\"gridcolor\":\"white\",\"gridwidth\":2,\"linecolor\":\"white\",\"showbackground\":true,\"ticks\":\"\",\"zerolinecolor\":\"white\"}},\"shapedefaults\":{\"line\":{\"color\":\"#2a3f5f\"}},\"ternary\":{\"aaxis\":{\"gridcolor\":\"white\",\"linecolor\":\"white\",\"ticks\":\"\"},\"baxis\":{\"gridcolor\":\"white\",\"linecolor\":\"white\",\"ticks\":\"\"},\"bgcolor\":\"#E5ECF6\",\"caxis\":{\"gridcolor\":\"white\",\"linecolor\":\"white\",\"ticks\":\"\"}},\"title\":{\"x\":0.05},\"xaxis\":{\"automargin\":true,\"gridcolor\":\"white\",\"linecolor\":\"white\",\"ticks\":\"\",\"title\":{\"standoff\":15},\"zerolinecolor\":\"white\",\"zerolinewidth\":2},\"yaxis\":{\"automargin\":true,\"gridcolor\":\"white\",\"linecolor\":\"white\",\"ticks\":\"\",\"title\":{\"standoff\":15},\"zerolinecolor\":\"white\",\"zerolinewidth\":2}}},\"xaxis\":{\"anchor\":\"y\",\"domain\":[0.0,1.0],\"title\":{\"text\":\"Date\"}},\"yaxis\":{\"anchor\":\"x\",\"domain\":[0.0,1.0],\"title\":{\"text\":\"Percent\"}},\"legend\":{\"title\":{\"text\":\"keyword\"},\"tracegroupgap\":0},\"margin\":{\"t\":60},\"barmode\":\"relative\",\"bargap\":0},                        {\"responsive\": true}                    ).then(function(){\n",
       "                            \n",
       "var gd = document.getElementById('aaa11363-a419-4bf7-b04c-b64267793be0');\n",
       "var x = new MutationObserver(function (mutations, observer) {{\n",
       "        var display = window.getComputedStyle(gd).display;\n",
       "        if (!display || display === 'none') {{\n",
       "            console.log([gd, 'removed!']);\n",
       "            Plotly.purge(gd);\n",
       "            observer.disconnect();\n",
       "        }}\n",
       "}});\n",
       "\n",
       "// Listen for the removal of the full notebook cells\n",
       "var notebookContainer = gd.closest('#notebook-container');\n",
       "if (notebookContainer) {{\n",
       "    x.observe(notebookContainer, {childList: true});\n",
       "}}\n",
       "\n",
       "// Listen for the clearing of the current output cell\n",
       "var outputEl = gd.closest('.output');\n",
       "if (outputEl) {{\n",
       "    x.observe(outputEl, {childList: true});\n",
       "}}\n",
       "\n",
       "                        })                };                });            </script>        </div>"
      ]
     },
     "metadata": {},
     "output_type": "display_data"
    }
   ],
   "source": [
    "df3 = Df3(['공인인증서','공동인증서'])\n",
    "df3['Percent'] = df3.groupby(['Date'])['value'].transform(lambda x: x/x.sum())\n",
    "fig = px.bar(df3, x=\"Date\", y=\"Percent\", color=\"keyword\", text=\"keyword\")\n",
    "fig.update_layout(bargap =0)\n",
    "fig.show()"
   ]
  },
  {
   "cell_type": "code",
   "execution_count": 14,
   "id": "b0c9d0c3",
   "metadata": {},
   "outputs": [],
   "source": [
    "\n",
    "'''\n",
    "# 시각화 비교 남는 시간 방법\n",
    "x = []\n",
    "y = []\n",
    "keys = []\n",
    "min_cnt = 300\n",
    "for i in keyword_vocab:\n",
    "    word = i\n",
    "    if df['2021'][word] > min_cnt and df['2022'][word] > min_cnt:\n",
    "        conf_2021 = df['2021'][word]/df['2021'][-1]\n",
    "        conf_2022 = df['2022'][word]/df['2022'][-1]\n",
    "        ratio_2022 = conf_2022 / conf_2021\n",
    "        ratio_2021 = conf_2021 / conf_2022\n",
    "        key = word\n",
    "        x.append(ratio_2021)\n",
    "        y.append(ratio_2022)\n",
    "        keys.append(key)\n",
    "df3 = pd.DataFrame({'key2021':x,'key2022':y}, index = keys)\n",
    "df3 = df3.dropna()\n",
    "import numpy as np\n",
    "df3 = df3.dropna()\n",
    "df3 = df3[df3.sum(axis = 1) != np.inf]\n",
    "df2.sum(axis = 1)[0]\n",
    "df3.sort_values(by = 'key2021',ascending = False).head(10)\n",
    "df3.sort_values(by = 'key2022',ascending = False).head(10)\n",
    "# 데이터 확인\n",
    "key = '농협은행'\n",
    "df[df.index == key]\n",
    "'''"
   ]
  }
 ],
 "metadata": {
  "kernelspec": {
   "display_name": "Python 3",
   "language": "python",
   "name": "python3"
  },
  "language_info": {
   "codemirror_mode": {
    "name": "ipython",
    "version": 3
   },
   "file_extension": ".py",
   "mimetype": "text/x-python",
   "name": "python",
   "nbconvert_exporter": "python",
   "pygments_lexer": "ipython3",
   "version": "3.9.12"
  }
 },
 "nbformat": 4,
 "nbformat_minor": 5
}
