{
 "cells": [
  {
   "cell_type": "code",
   "execution_count": null,
   "id": "bf256a88",
   "metadata": {
    "scrolled": true
   },
   "outputs": [],
   "source": [
    "!pip3 install keybert"
   ]
  },
  {
   "cell_type": "code",
   "execution_count": null,
   "id": "b9778986",
   "metadata": {},
   "outputs": [],
   "source": [
    "from keybert import KeyBERT\n",
    "import pickle\n",
    "import re\n",
    "from tqdm import tqdm\n",
    "import pandas as pd"
   ]
  },
  {
   "cell_type": "code",
   "execution_count": 3,
   "id": "8a11ddff",
   "metadata": {
    "scrolled": false
   },
   "outputs": [],
   "source": [
    "data = pd.read_csv('C:/Users/User-Pc/Desktop/df_final.csv')"
   ]
  },
  {
   "cell_type": "code",
   "execution_count": 4,
   "id": "c5225d95",
   "metadata": {},
   "outputs": [],
   "source": [
    "data = data.reset_index()"
   ]
  },
  {
   "cell_type": "code",
   "execution_count": 5,
   "id": "fe8be561",
   "metadata": {},
   "outputs": [],
   "source": [
    "idx = []\n",
    "for x in data['date']:\n",
    "    tmp = x.split('/')\n",
    "    if len(tmp[0]) == 1:\n",
    "        tmp[0] = '0'+tmp[0]\n",
    "    if len(tmp[1]) == 1:\n",
    "        tmp[1] = '0'+tmp[1]\n",
    "    tmp = tmp[2] + tmp[0] + tmp[1]\n",
    "    idx.append(''.join(tmp))"
   ]
  },
  {
   "cell_type": "code",
   "execution_count": 6,
   "id": "3efb4788",
   "metadata": {},
   "outputs": [],
   "source": [
    "data['date'] = idx\n",
    "data = data.rename({'date':'일자'},axis = 1)"
   ]
  },
  {
   "cell_type": "code",
   "execution_count": 7,
   "id": "69a96c82",
   "metadata": {},
   "outputs": [],
   "source": [
    "def doc2key(cleaned_content):\n",
    "    \n",
    "    kw_model = KeyBERT(model='all-MiniLM-L6-v2')\n",
    "    keywords = kw_model.extract_keywords(doc)\n",
    "    \n",
    "    n2_kwd = kw_model.extract_keywords(cleaned_content, keyphrase_ngram_range=(2, 2), stop_words='english',\n",
    "                                  use_mmr=True, diversity=0.7, top_n=100)\n",
    "\n",
    "    n1_kwd = kw_model.extract_keywords(cleaned_content, keyphrase_ngram_range=(1, 1), stop_words='english',\n",
    "                                  use_mmr=True, diversity=0.7, top_n=50)\n",
    "    for idx,i in enumerate(n2_kwd):\n",
    "        n2_kwd[idx] = i[0]\n",
    "    for idx,i in enumerate(n1_kwd):\n",
    "        n1_kwd[idx] = i[0]  \n",
    "\n",
    "    n1_kwd.extend(n2_kwd)\n",
    "    kwd = n1_kwd\n",
    "    return kwd"
   ]
  },
  {
   "cell_type": "code",
   "execution_count": 8,
   "id": "27039f31",
   "metadata": {
    "scrolled": true
   },
   "outputs": [
    {
     "name": "stderr",
     "output_type": "stream",
     "text": [
      "  0%|                                                                                            | 0/2 [00:00<?, ?it/s]\n",
      "  0%|                                                                                           | 0/27 [00:00<?, ?it/s]\u001b[A\n",
      "  4%|███                                                                                | 1/27 [00:01<00:31,  1.19s/it]\u001b[A\n",
      "  7%|██████▏                                                                            | 2/27 [00:02<00:33,  1.35s/it]\u001b[A\n",
      " 11%|█████████▏                                                                         | 3/27 [00:03<00:31,  1.31s/it]\u001b[A\n",
      " 15%|████████████▎                                                                      | 4/27 [00:04<00:27,  1.18s/it]\u001b[A\n",
      " 19%|███████████████▎                                                                   | 5/27 [00:05<00:22,  1.03s/it]\u001b[A\n",
      " 22%|██████████████████▍                                                                | 6/27 [00:06<00:18,  1.14it/s]\u001b[A\n",
      " 26%|█████████████████████▌                                                             | 7/27 [00:06<00:16,  1.21it/s]\u001b[A\n",
      " 30%|████████████████████████▌                                                          | 8/27 [00:07<00:16,  1.15it/s]\u001b[A\n",
      " 33%|███████████████████████████▋                                                       | 9/27 [00:08<00:15,  1.18it/s]\u001b[A\n",
      " 37%|██████████████████████████████▎                                                   | 10/27 [00:09<00:15,  1.06it/s]\u001b[A\n",
      " 41%|█████████████████████████████████▍                                                | 11/27 [00:11<00:16,  1.04s/it]\u001b[A\n",
      " 44%|████████████████████████████████████▍                                             | 12/27 [00:12<00:16,  1.08s/it]\u001b[A\n",
      " 48%|███████████████████████████████████████▍                                          | 13/27 [00:13<00:14,  1.04s/it]\u001b[A\n",
      " 52%|██████████████████████████████████████████▌                                       | 14/27 [00:13<00:10,  1.21it/s]\u001b[A\n",
      " 56%|█████████████████████████████████████████████▌                                    | 15/27 [00:14<00:09,  1.26it/s]\u001b[A\n",
      " 59%|████████████████████████████████████████████████▌                                 | 16/27 [00:15<00:09,  1.18it/s]\u001b[A\n",
      " 63%|███████████████████████████████████████████████████▋                              | 17/27 [00:19<00:17,  1.74s/it]\u001b[A\n",
      " 67%|██████████████████████████████████████████████████████▋                           | 18/27 [00:19<00:13,  1.48s/it]\u001b[A\n",
      " 70%|█████████████████████████████████████████████████████████▋                        | 19/27 [00:20<00:09,  1.14s/it]\u001b[A\n",
      " 74%|████████████████████████████████████████████████████████████▋                     | 20/27 [00:21<00:08,  1.28s/it]\u001b[A\n",
      " 78%|███████████████████████████████████████████████████████████████▊                  | 21/27 [00:22<00:07,  1.21s/it]\u001b[A\n",
      " 81%|██████████████████████████████████████████████████████████████████▊               | 22/27 [00:23<00:05,  1.08s/it]\u001b[A\n",
      " 85%|█████████████████████████████████████████████████████████████████████▊            | 23/27 [00:24<00:03,  1.03it/s]\u001b[A\n",
      " 89%|████████████████████████████████████████████████████████████████████████▉         | 24/27 [00:25<00:02,  1.03it/s]\u001b[A\n",
      " 93%|███████████████████████████████████████████████████████████████████████████▉      | 25/27 [00:26<00:01,  1.05it/s]\u001b[A\n",
      " 96%|██████████████████████████████████████████████████████████████████████████████▉   | 26/27 [00:27<00:00,  1.07it/s]\u001b[A\n",
      "100%|██████████████████████████████████████████████████████████████████████████████████| 27/27 [00:28<00:00,  1.04s/it]\u001b[A\n",
      " 50%|██████████████████████████████████████████                                          | 1/2 [00:28<00:28, 28.06s/it]\n",
      "  0%|                                                                                           | 0/17 [00:00<?, ?it/s]\u001b[A\n",
      "  6%|████▉                                                                              | 1/17 [00:00<00:05,  2.93it/s]\u001b[A\n",
      " 12%|█████████▊                                                                         | 2/17 [00:00<00:05,  2.82it/s]\u001b[A\n",
      " 18%|██████████████▋                                                                    | 3/17 [00:01<00:10,  1.37it/s]\u001b[A\n",
      " 24%|███████████████████▌                                                               | 4/17 [00:02<00:10,  1.23it/s]\u001b[A\n",
      " 29%|████████████████████████▍                                                          | 5/17 [00:03<00:09,  1.24it/s]\u001b[A\n",
      " 35%|█████████████████████████████▎                                                     | 6/17 [00:04<00:08,  1.36it/s]\u001b[A\n",
      " 41%|██████████████████████████████████▏                                                | 7/17 [00:05<00:08,  1.16it/s]\u001b[A\n",
      " 47%|███████████████████████████████████████                                            | 8/17 [00:05<00:06,  1.44it/s]\u001b[A\n",
      " 53%|███████████████████████████████████████████▉                                       | 9/17 [00:07<00:07,  1.07it/s]\u001b[A\n",
      " 59%|████████████████████████████████████████████████▏                                 | 10/17 [00:07<00:05,  1.18it/s]\u001b[A\n",
      " 65%|█████████████████████████████████████████████████████                             | 11/17 [00:09<00:06,  1.01s/it]\u001b[A\n",
      " 71%|█████████████████████████████████████████████████████████▉                        | 12/17 [00:09<00:04,  1.21it/s]\u001b[A\n",
      " 76%|██████████████████████████████████████████████████████████████▋                   | 13/17 [00:09<00:02,  1.49it/s]\u001b[A\n",
      " 82%|███████████████████████████████████████████████████████████████████▌              | 14/17 [00:10<00:01,  1.78it/s]\u001b[A\n",
      " 88%|████████████████████████████████████████████████████████████████████████▎         | 15/17 [00:11<00:01,  1.49it/s]\u001b[A\n",
      " 94%|█████████████████████████████████████████████████████████████████████████████▏    | 16/17 [00:11<00:00,  1.64it/s]\u001b[A\n",
      "100%|██████████████████████████████████████████████████████████████████████████████████| 17/17 [00:11<00:00,  1.42it/s]\u001b[A\n",
      "100%|████████████████████████████████████████████████████████████████████████████████████| 2/2 [00:40<00:00, 20.02s/it]\n"
     ]
    }
   ],
   "source": [
    "kwds = []\n",
    "for doc in tqdm(data['news']):\n",
    "    try:\n",
    "        cleaned_content = re.sub(r'[^\\.\\?\\!\\w\\d\\s]','',doc) # 문장단위로 끊기\n",
    "        cleaned_content = cleaned_content.replace('\\n',' ')\n",
    "        cleaned_content = cleaned_content.lower()\n",
    "        kwd = doc2key(cleaned_content)\n",
    "        kwds.append(kwd)\n",
    "    except:\n",
    "        print(doc)"
   ]
  },
  {
   "cell_type": "code",
   "execution_count": null,
   "id": "923983c2",
   "metadata": {},
   "outputs": [],
   "source": [
    "data = data.dropna()"
   ]
  },
  {
   "cell_type": "code",
   "execution_count": null,
   "id": "815bd390",
   "metadata": {
    "scrolled": true
   },
   "outputs": [],
   "source": [
    "data['kwd'] = kwds"
   ]
  },
  {
   "cell_type": "code",
   "execution_count": 8,
   "id": "80706d63",
   "metadata": {},
   "outputs": [
    {
     "data": {
      "text/html": [
       "<div>\n",
       "<style scoped>\n",
       "    .dataframe tbody tr th:only-of-type {\n",
       "        vertical-align: middle;\n",
       "    }\n",
       "\n",
       "    .dataframe tbody tr th {\n",
       "        vertical-align: top;\n",
       "    }\n",
       "\n",
       "    .dataframe thead th {\n",
       "        text-align: right;\n",
       "    }\n",
       "</style>\n",
       "<table border=\"1\" class=\"dataframe\">\n",
       "  <thead>\n",
       "    <tr style=\"text-align: right;\">\n",
       "      <th></th>\n",
       "      <th>일자</th>\n",
       "      <th>news</th>\n",
       "    </tr>\n",
       "  </thead>\n",
       "  <tbody>\n",
       "    <tr>\n",
       "      <th>0</th>\n",
       "      <td>20190801</td>\n",
       "      <td>[Newspapers have lost about 57% of their ad an...</td>\n",
       "    </tr>\n",
       "    <tr>\n",
       "      <th>1</th>\n",
       "      <td>20190802</td>\n",
       "      <td>[Why did this happen?\\n\\nPlease make sure your...</td>\n",
       "    </tr>\n",
       "    <tr>\n",
       "      <th>2</th>\n",
       "      <td>20190803</td>\n",
       "      <td>[Become an FT subscriber to read:\\n\\nLeverage ...</td>\n",
       "    </tr>\n",
       "    <tr>\n",
       "      <th>3</th>\n",
       "      <td>20190804</td>\n",
       "      <td>[Make informed decisions with the FT\\n\\nKeep a...</td>\n",
       "    </tr>\n",
       "    <tr>\n",
       "      <th>4</th>\n",
       "      <td>20190805</td>\n",
       "      <td>[Today Standard Chartered announced it complet...</td>\n",
       "    </tr>\n",
       "    <tr>\n",
       "      <th>...</th>\n",
       "      <td>...</td>\n",
       "      <td>...</td>\n",
       "    </tr>\n",
       "    <tr>\n",
       "      <th>1090</th>\n",
       "      <td>20220727</td>\n",
       "      <td>[Dealing with the repercussions of the multibi...</td>\n",
       "    </tr>\n",
       "    <tr>\n",
       "      <th>1091</th>\n",
       "      <td>20220728</td>\n",
       "      <td>[A report produced by the Alliance for Financi...</td>\n",
       "    </tr>\n",
       "    <tr>\n",
       "      <th>1092</th>\n",
       "      <td>20220729</td>\n",
       "      <td>[For finance departments, the pursuit of great...</td>\n",
       "    </tr>\n",
       "    <tr>\n",
       "      <th>1093</th>\n",
       "      <td>20220730</td>\n",
       "      <td>[By Monish Anand\\n\\nIn India, a significant pa...</td>\n",
       "    </tr>\n",
       "    <tr>\n",
       "      <th>1094</th>\n",
       "      <td>20220731</td>\n",
       "      <td>[London, United Kingdom and Tunis, Tunisia – V...</td>\n",
       "    </tr>\n",
       "  </tbody>\n",
       "</table>\n",
       "<p>1095 rows × 2 columns</p>\n",
       "</div>"
      ],
      "text/plain": [
       "            일자                                               news\n",
       "0     20190801  [Newspapers have lost about 57% of their ad an...\n",
       "1     20190802  [Why did this happen?\\n\\nPlease make sure your...\n",
       "2     20190803  [Become an FT subscriber to read:\\n\\nLeverage ...\n",
       "3     20190804  [Make informed decisions with the FT\\n\\nKeep a...\n",
       "4     20190805  [Today Standard Chartered announced it complet...\n",
       "...        ...                                                ...\n",
       "1090  20220727  [Dealing with the repercussions of the multibi...\n",
       "1091  20220728  [A report produced by the Alliance for Financi...\n",
       "1092  20220729  [For finance departments, the pursuit of great...\n",
       "1093  20220730  [By Monish Anand\\n\\nIn India, a significant pa...\n",
       "1094  20220731  [London, United Kingdom and Tunis, Tunisia – V...\n",
       "\n",
       "[1095 rows x 2 columns]"
      ]
     },
     "execution_count": 8,
     "metadata": {},
     "output_type": "execute_result"
    }
   ],
   "source": [
    "data.to_csv('C:/Users/User-Pc/BerTopic/news_english.csv')"
   ]
  }
 ],
 "metadata": {
  "kernelspec": {
   "display_name": "Python 3 (ipykernel)",
   "language": "python",
   "name": "python3"
  },
  "language_info": {
   "codemirror_mode": {
    "name": "ipython",
    "version": 3
   },
   "file_extension": ".py",
   "mimetype": "text/x-python",
   "name": "python",
   "nbconvert_exporter": "python",
   "pygments_lexer": "ipython3",
   "version": "3.7.13"
  }
 },
 "nbformat": 4,
 "nbformat_minor": 5
}
