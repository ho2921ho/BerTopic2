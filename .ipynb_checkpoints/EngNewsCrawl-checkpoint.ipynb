{
 "cells": [
  {
   "cell_type": "code",
   "execution_count": 1,
   "id": "51a9495e",
   "metadata": {
    "collapsed": true
   },
   "outputs": [
    {
     "name": "stdout",
     "output_type": "stream",
     "text": [
      "Requirement already satisfied: beautifulsoup4 in c:\\users\\user-pc\\miniconda3\\lib\\site-packages (4.10.0)\n",
      "Requirement already satisfied: soupsieve>1.2 in c:\\users\\user-pc\\miniconda3\\lib\\site-packages (from beautifulsoup4) (2.3.1)\n"
     ]
    },
    {
     "name": "stderr",
     "output_type": "stream",
     "text": [
      "WARNING: Ignoring invalid distribution -atplotlib (c:\\users\\user-pc\\miniconda3\\lib\\site-packages)\n",
      "WARNING: Ignoring invalid distribution -atplotlib (c:\\users\\user-pc\\miniconda3\\lib\\site-packages)\n",
      "WARNING: Ignoring invalid distribution -atplotlib (c:\\users\\user-pc\\miniconda3\\lib\\site-packages)\n",
      "WARNING: Ignoring invalid distribution -atplotlib (c:\\users\\user-pc\\miniconda3\\lib\\site-packages)\n",
      "WARNING: Ignoring invalid distribution -atplotlib (c:\\users\\user-pc\\miniconda3\\lib\\site-packages)\n",
      "WARNING: Ignoring invalid distribution -atplotlib (c:\\users\\user-pc\\miniconda3\\lib\\site-packages)\n",
      "WARNING: You are using pip version 22.0.4; however, version 22.2.2 is available.\n",
      "You should consider upgrading via the 'C:\\Users\\User-Pc\\miniconda3\\python.exe -m pip install --upgrade pip' command.\n"
     ]
    },
    {
     "name": "stdout",
     "output_type": "stream",
     "text": [
      "Requirement already satisfied: selenium in c:\\users\\user-pc\\miniconda3\\lib\\site-packages (4.4.3)\n",
      "Requirement already satisfied: trio-websocket~=0.9 in c:\\users\\user-pc\\miniconda3\\lib\\site-packages (from selenium) (0.9.2)\n",
      "Requirement already satisfied: certifi>=2021.10.8 in c:\\users\\user-pc\\miniconda3\\lib\\site-packages (from selenium) (2021.10.8)\n",
      "Requirement already satisfied: urllib3[socks]~=1.26 in c:\\users\\user-pc\\miniconda3\\lib\\site-packages (from selenium) (1.26.11)\n",
      "Requirement already satisfied: trio~=0.17 in c:\\users\\user-pc\\miniconda3\\lib\\site-packages (from selenium) (0.21.0)\n",
      "Requirement already satisfied: attrs>=19.2.0 in c:\\users\\user-pc\\miniconda3\\lib\\site-packages (from trio~=0.17->selenium) (21.4.0)\n",
      "Requirement already satisfied: outcome in c:\\users\\user-pc\\miniconda3\\lib\\site-packages (from trio~=0.17->selenium) (1.2.0)\n",
      "Requirement already satisfied: async-generator>=1.9 in c:\\users\\user-pc\\miniconda3\\lib\\site-packages (from trio~=0.17->selenium) (1.10)\n",
      "Requirement already satisfied: sortedcontainers in c:\\users\\user-pc\\miniconda3\\lib\\site-packages (from trio~=0.17->selenium) (2.4.0)\n",
      "Requirement already satisfied: cffi>=1.14 in c:\\users\\user-pc\\miniconda3\\lib\\site-packages (from trio~=0.17->selenium) (1.15.0)\n",
      "Requirement already satisfied: idna in c:\\users\\user-pc\\miniconda3\\lib\\site-packages (from trio~=0.17->selenium) (2.6)\n",
      "Requirement already satisfied: sniffio in c:\\users\\user-pc\\miniconda3\\lib\\site-packages (from trio~=0.17->selenium) (1.2.0)\n",
      "Requirement already satisfied: wsproto>=0.14 in c:\\users\\user-pc\\miniconda3\\lib\\site-packages (from trio-websocket~=0.9->selenium) (1.1.0)\n",
      "Requirement already satisfied: PySocks!=1.5.7,<2.0,>=1.5.6 in c:\\users\\user-pc\\miniconda3\\lib\\site-packages (from urllib3[socks]~=1.26->selenium) (1.7.1)\n",
      "Requirement already satisfied: pycparser in c:\\users\\user-pc\\miniconda3\\lib\\site-packages (from cffi>=1.14->trio~=0.17->selenium) (2.21)\n",
      "Requirement already satisfied: h11<1,>=0.9.0 in c:\\users\\user-pc\\miniconda3\\lib\\site-packages (from wsproto>=0.14->trio-websocket~=0.9->selenium) (0.13.0)\n"
     ]
    },
    {
     "name": "stderr",
     "output_type": "stream",
     "text": [
      "WARNING: Ignoring invalid distribution -atplotlib (c:\\users\\user-pc\\miniconda3\\lib\\site-packages)\n",
      "WARNING: Ignoring invalid distribution -atplotlib (c:\\users\\user-pc\\miniconda3\\lib\\site-packages)\n",
      "WARNING: Ignoring invalid distribution -atplotlib (c:\\users\\user-pc\\miniconda3\\lib\\site-packages)\n",
      "WARNING: Ignoring invalid distribution -atplotlib (c:\\users\\user-pc\\miniconda3\\lib\\site-packages)\n",
      "WARNING: Ignoring invalid distribution -atplotlib (c:\\users\\user-pc\\miniconda3\\lib\\site-packages)\n",
      "WARNING: Ignoring invalid distribution -atplotlib (c:\\users\\user-pc\\miniconda3\\lib\\site-packages)\n",
      "WARNING: You are using pip version 22.0.4; however, version 22.2.2 is available.\n",
      "You should consider upgrading via the 'C:\\Users\\User-Pc\\miniconda3\\python.exe -m pip install --upgrade pip' command.\n"
     ]
    }
   ],
   "source": [
    "!pip3 install beautifulsoup4\n",
    "!pip install selenium"
   ]
  },
  {
   "cell_type": "code",
   "execution_count": 1,
   "id": "42b0780e",
   "metadata": {},
   "outputs": [],
   "source": [
    "import requests \n",
    "from bs4 import BeautifulSoup\n",
    "import re\n",
    "from tqdm import tqdm\n",
    "import time\n",
    "import numpy\n",
    "import random\n",
    "import pickle\n",
    "import selenium\n",
    "from selenium import webdriver\n",
    "from selenium.webdriver.common.by import By\n",
    "from datetime import datetime\n",
    "import pandas as pd\n",
    "from newspaper import Article"
   ]
  },
  {
   "cell_type": "code",
   "execution_count": 3,
   "id": "2c15f622",
   "metadata": {
    "scrolled": false
   },
   "outputs": [],
   "source": [
    "# 1 키워드 검색 뉴스 url 수집\n",
    "def page2url(searching_word,date):\n",
    "    urls = []\n",
    "    for start in range(0, 360, 10):\n",
    "        main_url = 'https://www.google.co.kr/search?q={}&tbs=cdr:1,cd_min:{},cd_max:{}&tbm=nws&ei=dPP-Yu_eCJLL-Qb55bvQDA&start={}&sa=N&ved=2ahUKEwjv6Lvy69H5AhWSZd4KHfnyDso4ChDy0wN6BAgBEDk&biw=1536&bih=754&dpr=1.25'.format(searching_word,date,date,start)\n",
    "        driver.get(url=main_url)\n",
    "        elements = driver.find_elements(By.TAG_NAME, 'a')\n",
    "        lnks = []\n",
    "        for lnk in elements:\n",
    "            lnk = str(lnk.get_attribute('href'))\n",
    "            if 'google' not in lnk and lnk != 'None':\n",
    "                lnks.append(lnk)\n",
    "        if len(lnks) == 0:\n",
    "            print(date, ' 완료')\n",
    "            break\n",
    "        urls.extend(lnks)\n",
    "        rand_value =random.uniform(1, 4)\n",
    "        time.sleep(rand_value)\n",
    "        \n",
    "    return urls"
   ]
  },
  {
   "cell_type": "code",
   "execution_count": 4,
   "id": "da9c1f67",
   "metadata": {
    "scrolled": true
   },
   "outputs": [],
   "source": [
    "from_date = '2022-7-26'\n",
    "to_date = '2022-7-31'\n",
    "\n",
    "driver = webdriver.Chrome (executable_path=r\"C:\\Users\\Notebiz003\\Documents\\chromedriver_win32\\chromedriver.exe\")\n",
    "datelist = pd.date_range(start=from_date, end=to_date).tolist()\n",
    "dtlst = []\n",
    "for d_t in datelist:\n",
    "    d_t = str(d_t)[0:-9]\n",
    "    d = datetime.strptime(d_t, '%Y-%m-%d')\n",
    "    d = d.strftime('%m/%d/%Y')\n",
    "    d = d[0].replace('0','') + d[1:]\n",
    "    d = d[:-7] + d[-7].replace('0','') + d[-6:]\n",
    "    dtlst.append(d)"
   ]
  },
  {
   "cell_type": "code",
   "execution_count": 127,
   "id": "68bf1a52",
   "metadata": {
    "collapsed": true
   },
   "outputs": [
    {
     "name": "stderr",
     "output_type": "stream",
     "text": [
      " 17%|██████████████                                                                      | 1/6 [00:59<04:57, 59.48s/it]"
     ]
    },
    {
     "name": "stdout",
     "output_type": "stream",
     "text": [
      "7/26/2022  완료\n"
     ]
    },
    {
     "name": "stderr",
     "output_type": "stream",
     "text": [
      "\r",
      " 33%|████████████████████████████                                                        | 2/6 [02:16<04:38, 69.63s/it]"
     ]
    },
    {
     "name": "stdout",
     "output_type": "stream",
     "text": [
      "7/27/2022  완료\n"
     ]
    },
    {
     "name": "stderr",
     "output_type": "stream",
     "text": [
      "\r",
      " 50%|██████████████████████████████████████████                                          | 3/6 [03:15<03:14, 64.70s/it]"
     ]
    },
    {
     "name": "stdout",
     "output_type": "stream",
     "text": [
      "7/28/2022  완료\n"
     ]
    },
    {
     "name": "stderr",
     "output_type": "stream",
     "text": [
      "\r",
      " 67%|████████████████████████████████████████████████████████                            | 4/6 [04:06<01:58, 59.38s/it]"
     ]
    },
    {
     "name": "stdout",
     "output_type": "stream",
     "text": [
      "7/29/2022  완료\n"
     ]
    },
    {
     "name": "stderr",
     "output_type": "stream",
     "text": [
      "\r",
      " 83%|██████████████████████████████████████████████████████████████████████              | 5/6 [04:12<00:40, 40.31s/it]"
     ]
    },
    {
     "name": "stdout",
     "output_type": "stream",
     "text": [
      "7/30/2022  완료\n"
     ]
    },
    {
     "name": "stderr",
     "output_type": "stream",
     "text": [
      "100%|████████████████████████████████████████████████████████████████████████████████████| 6/6 [04:26<00:00, 44.40s/it]"
     ]
    },
    {
     "name": "stdout",
     "output_type": "stream",
     "text": [
      "7/31/2022  완료\n"
     ]
    },
    {
     "name": "stderr",
     "output_type": "stream",
     "text": [
      "\n"
     ]
    }
   ],
   "source": [
    "searching_word = 'digital+finance'\n",
    "Urls = dict()\n",
    "for date in tqdm(dtlst):\n",
    "    urls = page2url(searching_word,date)\n",
    "    Urls[date] = urls"
   ]
  },
  {
   "cell_type": "code",
   "execution_count": 129,
   "id": "c6cf22e7",
   "metadata": {},
   "outputs": [],
   "source": [
    "name = \"Urls{}-{}.pickle\".format(from_date,r'2022-7-31')\n",
    "name = name.replace('/','.')\n",
    "\n",
    "with open(r'C:/Users/Notebiz003/BerTopic/' + name,'wb') as f:\n",
    "    pickle.dump(Urls,f)"
   ]
  },
  {
   "cell_type": "code",
   "execution_count": 260,
   "id": "3a81e8e5",
   "metadata": {},
   "outputs": [],
   "source": [
    "'''\n",
    "import os\n",
    "pickles= []\n",
    "\n",
    "path = \"C:/Users/Notebiz003/BerTopic/pickles/\"\n",
    "file_list = os.listdir(path) \n",
    "\n",
    "for name in file_list:\n",
    "    with open(r'C:/Users/Notebiz003/BerTopic/pickles/' + name, 'rb') as f:\n",
    "        data = pickle.load(f) # 단 한줄씩 읽어옴\n",
    "    pickles.append(data)\n",
    "    \n",
    "\n",
    "tmp = pd.concat([pd.Series(pickles[0])[:-28], pd.Series(pickles[4])[:8]])\n",
    "tmp = pd.concat([tmp,pd.Series(pickles[1])[1:]])\n",
    "tmp = pd.concat([tmp,pd.Series(pickles[2])[:7]])\n",
    "tmp = pd.concat([tmp,pd.Series(pickles[3])])\n",
    "\n",
    "name = \"Urls_final_{}_{}.pickle\".format(r'2019-8-1',r'2022-7-31')\n",
    "name = name.replace('/','.')\n",
    "\n",
    "tmp = pd.DataFrame(tmp)\n",
    "with open(r'C:/Users/Notebiz003/BerTopic/' + name,'wb') as f:\n",
    "    pickle.dump(tmp,f)\n",
    "'''"
   ]
  },
  {
   "cell_type": "code",
   "execution_count": 3,
   "id": "57aa4657",
   "metadata": {},
   "outputs": [],
   "source": [
    "name = 'Urls_final_2019-8-1_2022-7-31.pickle'\n",
    "with open(r'C:/Users/Notebiz003/BerTopic/' + name, 'rb') as f:\n",
    "    data = pickle.load(f)\n",
    "data = data.T"
   ]
  },
  {
   "cell_type": "code",
   "execution_count": 5,
   "id": "4e5f2d2a",
   "metadata": {},
   "outputs": [
    {
     "ename": "FileNotFoundError",
     "evalue": "[Errno 2] No such file or directory: 'C:/Users/Notebiz003/BerTopic/news/news-7-16-2022.pickle'",
     "output_type": "error",
     "traceback": [
      "\u001b[1;31m---------------------------------------------------------------------------\u001b[0m",
      "\u001b[1;31mFileNotFoundError\u001b[0m                         Traceback (most recent call last)",
      "\u001b[1;32m<ipython-input-5-4226090abfb2>\u001b[0m in \u001b[0;36m<module>\u001b[1;34m\u001b[0m\n\u001b[0;32m      1\u001b[0m \u001b[0mname\u001b[0m \u001b[1;33m=\u001b[0m \u001b[1;34m'news-7-16-2022.pickle'\u001b[0m\u001b[1;33m\u001b[0m\u001b[1;33m\u001b[0m\u001b[0m\n\u001b[1;32m----> 2\u001b[1;33m \u001b[1;32mwith\u001b[0m \u001b[0mopen\u001b[0m\u001b[1;33m(\u001b[0m\u001b[1;34mr'C:/Users/Notebiz003/BerTopic/news/'\u001b[0m \u001b[1;33m+\u001b[0m \u001b[0mname\u001b[0m\u001b[1;33m,\u001b[0m \u001b[1;34m'rb'\u001b[0m\u001b[1;33m)\u001b[0m \u001b[1;32mas\u001b[0m \u001b[0mf\u001b[0m\u001b[1;33m:\u001b[0m\u001b[1;33m\u001b[0m\u001b[1;33m\u001b[0m\u001b[0m\n\u001b[0m\u001b[0;32m      3\u001b[0m     \u001b[0mdf_trans\u001b[0m \u001b[1;33m=\u001b[0m \u001b[0mpickle\u001b[0m\u001b[1;33m.\u001b[0m\u001b[0mload\u001b[0m\u001b[1;33m(\u001b[0m\u001b[0mf\u001b[0m\u001b[1;33m)\u001b[0m\u001b[1;33m\u001b[0m\u001b[1;33m\u001b[0m\u001b[0m\n",
      "\u001b[1;31mFileNotFoundError\u001b[0m: [Errno 2] No such file or directory: 'C:/Users/Notebiz003/BerTopic/news/news-7-16-2022.pickle'"
     ]
    }
   ],
   "source": [
    "name = 'news-7-16-2022.pickle'\n",
    "with open(r'C:/Users/Notebiz003/BerTopic/news/' + name, 'rb') as f:\n",
    "    df_trans = pickle.load(f)"
   ]
  },
  {
   "cell_type": "code",
   "execution_count": 53,
   "id": "4a8aa1c7",
   "metadata": {},
   "outputs": [],
   "source": [
    "df_trans = pd.concat([df_trans.T.iloc[:-26],df_trans.T.iloc[-13:]]).T"
   ]
  },
  {
   "cell_type": "code",
   "execution_count": 54,
   "id": "f72bafcf",
   "metadata": {},
   "outputs": [
    {
     "data": {
      "text/html": [
       "<div>\n",
       "<style scoped>\n",
       "    .dataframe tbody tr th:only-of-type {\n",
       "        vertical-align: middle;\n",
       "    }\n",
       "\n",
       "    .dataframe tbody tr th {\n",
       "        vertical-align: top;\n",
       "    }\n",
       "\n",
       "    .dataframe thead th {\n",
       "        text-align: right;\n",
       "    }\n",
       "</style>\n",
       "<table border=\"1\" class=\"dataframe\">\n",
       "  <thead>\n",
       "    <tr style=\"text-align: right;\">\n",
       "      <th></th>\n",
       "      <th>8/1/2019</th>\n",
       "      <th>8/2/2019</th>\n",
       "      <th>8/3/2019</th>\n",
       "      <th>8/4/2019</th>\n",
       "      <th>8/5/2019</th>\n",
       "      <th>8/6/2019</th>\n",
       "      <th>8/7/2019</th>\n",
       "      <th>8/8/2019</th>\n",
       "      <th>8/9/2019</th>\n",
       "      <th>8/10/2019</th>\n",
       "      <th>...</th>\n",
       "      <th>7/22/2022</th>\n",
       "      <th>7/23/2022</th>\n",
       "      <th>7/24/2022</th>\n",
       "      <th>7/25/2022</th>\n",
       "      <th>7/26/2022</th>\n",
       "      <th>7/27/2022</th>\n",
       "      <th>7/28/2022</th>\n",
       "      <th>7/29/2022</th>\n",
       "      <th>7/30/2022</th>\n",
       "      <th>7/31/2022</th>\n",
       "    </tr>\n",
       "  </thead>\n",
       "  <tbody>\n",
       "    <tr>\n",
       "      <th>0</th>\n",
       "      <td>[Newspapers have lost about 57% of their ad an...</td>\n",
       "      <td>[Why did this happen?\\n\\nPlease make sure your...</td>\n",
       "      <td>[Become an FT subscriber to read:\\n\\nLeverage ...</td>\n",
       "      <td>[Make informed decisions with the FT\\n\\nKeep a...</td>\n",
       "      <td>[Today Standard Chartered announced it complet...</td>\n",
       "      <td>[Central bankers, finance ministers and lawmak...</td>\n",
       "      <td>[The Co-operators and BDC Capital co-lead inve...</td>\n",
       "      <td>[CommonSpirit Health has appointed its first s...</td>\n",
       "      <td>[Inspired by finews’ list of the hottest banke...</td>\n",
       "      <td>[, VATICAN CITY (Reuters) - Pope Francis has a...</td>\n",
       "      <td>...</td>\n",
       "      <td>[https://en.prnasia.com/releases/apac/huawei-s...</td>\n",
       "      <td>[https://news.bitcoin.com/bank-indonesia-prepa...</td>\n",
       "      <td>[https://www.koreatimes.co.kr/www/biz/2022/07/...</td>\n",
       "      <td>[https://www.prnewswire.com/in/news-releases/s...</td>\n",
       "      <td>[https://www.iflr.com/article/2aeqzh78pcaamrcs...</td>\n",
       "      <td>[https://forkast.news/south-korea-passes-by-te...</td>\n",
       "      <td>[https://www.biometricupdate.com/202207/report...</td>\n",
       "      <td>[https://techmonitor.ai/leadership/what-financ...</td>\n",
       "      <td>[https://www.financialexpress.com/industry/sme...</td>\n",
       "      <td>[https://www.zawya.com/en/press-release/compan...</td>\n",
       "    </tr>\n",
       "  </tbody>\n",
       "</table>\n",
       "<p>1 rows × 1095 columns</p>\n",
       "</div>"
      ],
      "text/plain": [
       "                                            8/1/2019  \\\n",
       "0  [Newspapers have lost about 57% of their ad an...   \n",
       "\n",
       "                                            8/2/2019  \\\n",
       "0  [Why did this happen?\\n\\nPlease make sure your...   \n",
       "\n",
       "                                            8/3/2019  \\\n",
       "0  [Become an FT subscriber to read:\\n\\nLeverage ...   \n",
       "\n",
       "                                            8/4/2019  \\\n",
       "0  [Make informed decisions with the FT\\n\\nKeep a...   \n",
       "\n",
       "                                            8/5/2019  \\\n",
       "0  [Today Standard Chartered announced it complet...   \n",
       "\n",
       "                                            8/6/2019  \\\n",
       "0  [Central bankers, finance ministers and lawmak...   \n",
       "\n",
       "                                            8/7/2019  \\\n",
       "0  [The Co-operators and BDC Capital co-lead inve...   \n",
       "\n",
       "                                            8/8/2019  \\\n",
       "0  [CommonSpirit Health has appointed its first s...   \n",
       "\n",
       "                                            8/9/2019  \\\n",
       "0  [Inspired by finews’ list of the hottest banke...   \n",
       "\n",
       "                                           8/10/2019  ...  \\\n",
       "0  [, VATICAN CITY (Reuters) - Pope Francis has a...  ...   \n",
       "\n",
       "                                           7/22/2022  \\\n",
       "0  [https://en.prnasia.com/releases/apac/huawei-s...   \n",
       "\n",
       "                                           7/23/2022  \\\n",
       "0  [https://news.bitcoin.com/bank-indonesia-prepa...   \n",
       "\n",
       "                                           7/24/2022  \\\n",
       "0  [https://www.koreatimes.co.kr/www/biz/2022/07/...   \n",
       "\n",
       "                                           7/25/2022  \\\n",
       "0  [https://www.prnewswire.com/in/news-releases/s...   \n",
       "\n",
       "                                           7/26/2022  \\\n",
       "0  [https://www.iflr.com/article/2aeqzh78pcaamrcs...   \n",
       "\n",
       "                                           7/27/2022  \\\n",
       "0  [https://forkast.news/south-korea-passes-by-te...   \n",
       "\n",
       "                                           7/28/2022  \\\n",
       "0  [https://www.biometricupdate.com/202207/report...   \n",
       "\n",
       "                                           7/29/2022  \\\n",
       "0  [https://techmonitor.ai/leadership/what-financ...   \n",
       "\n",
       "                                           7/30/2022  \\\n",
       "0  [https://www.financialexpress.com/industry/sme...   \n",
       "\n",
       "                                           7/31/2022  \n",
       "0  [https://www.zawya.com/en/press-release/compan...  \n",
       "\n",
       "[1 rows x 1095 columns]"
      ]
     },
     "execution_count": 54,
     "metadata": {},
     "output_type": "execute_result"
    }
   ],
   "source": [
    "df_trans"
   ]
  },
  {
   "cell_type": "code",
   "execution_count": 55,
   "id": "5740c604",
   "metadata": {},
   "outputs": [],
   "source": [
    "data =  pd.concat([data .T.iloc[:-26],data .T.iloc[-13:]]).T"
   ]
  },
  {
   "cell_type": "code",
   "execution_count": 56,
   "id": "58c6909e",
   "metadata": {},
   "outputs": [
    {
     "data": {
      "text/html": [
       "<div>\n",
       "<style scoped>\n",
       "    .dataframe tbody tr th:only-of-type {\n",
       "        vertical-align: middle;\n",
       "    }\n",
       "\n",
       "    .dataframe tbody tr th {\n",
       "        vertical-align: top;\n",
       "    }\n",
       "\n",
       "    .dataframe thead th {\n",
       "        text-align: right;\n",
       "    }\n",
       "</style>\n",
       "<table border=\"1\" class=\"dataframe\">\n",
       "  <thead>\n",
       "    <tr style=\"text-align: right;\">\n",
       "      <th></th>\n",
       "      <th>8/1/2019</th>\n",
       "      <th>8/2/2019</th>\n",
       "      <th>8/3/2019</th>\n",
       "      <th>8/4/2019</th>\n",
       "      <th>8/5/2019</th>\n",
       "      <th>8/6/2019</th>\n",
       "      <th>8/7/2019</th>\n",
       "      <th>8/8/2019</th>\n",
       "      <th>8/9/2019</th>\n",
       "      <th>8/10/2019</th>\n",
       "      <th>...</th>\n",
       "      <th>7/22/2022</th>\n",
       "      <th>7/23/2022</th>\n",
       "      <th>7/24/2022</th>\n",
       "      <th>7/25/2022</th>\n",
       "      <th>7/26/2022</th>\n",
       "      <th>7/27/2022</th>\n",
       "      <th>7/28/2022</th>\n",
       "      <th>7/29/2022</th>\n",
       "      <th>7/30/2022</th>\n",
       "      <th>7/31/2022</th>\n",
       "    </tr>\n",
       "  </thead>\n",
       "  <tbody>\n",
       "    <tr>\n",
       "      <th>0</th>\n",
       "      <td>[https://www.usatoday.com/story/money/2019/08/...</td>\n",
       "      <td>[https://www.bloomberg.com/news/articles/2019-...</td>\n",
       "      <td>[https://www.ft.com/content/47e2208a-b2a6-11e9...</td>\n",
       "      <td>[https://www.ft.com/content/8dc7ec28-b531-11e9...</td>\n",
       "      <td>[https://www.ledgerinsights.com/standard-chart...</td>\n",
       "      <td>[https://www.cnbc.com/2019/08/06/facebook-libr...</td>\n",
       "      <td>[https://www.prnewswire.com/news-releases/digi...</td>\n",
       "      <td>[https://www.modernhealthcare.com/people/commo...</td>\n",
       "      <td>[https://fintechnews.ch/fintech/the-10-hottest...</td>\n",
       "      <td>[https://bravenewcoin.com/insights/place-your-...</td>\n",
       "      <td>...</td>\n",
       "      <td>[https://en.prnasia.com/releases/apac/huawei-s...</td>\n",
       "      <td>[https://news.bitcoin.com/bank-indonesia-prepa...</td>\n",
       "      <td>[https://www.koreatimes.co.kr/www/biz/2022/07/...</td>\n",
       "      <td>[https://www.prnewswire.com/in/news-releases/s...</td>\n",
       "      <td>[https://www.iflr.com/article/2aeqzh78pcaamrcs...</td>\n",
       "      <td>[https://forkast.news/south-korea-passes-by-te...</td>\n",
       "      <td>[https://www.biometricupdate.com/202207/report...</td>\n",
       "      <td>[https://techmonitor.ai/leadership/what-financ...</td>\n",
       "      <td>[https://www.financialexpress.com/industry/sme...</td>\n",
       "      <td>[https://www.zawya.com/en/press-release/compan...</td>\n",
       "    </tr>\n",
       "  </tbody>\n",
       "</table>\n",
       "<p>1 rows × 1095 columns</p>\n",
       "</div>"
      ],
      "text/plain": [
       "                                            8/1/2019  \\\n",
       "0  [https://www.usatoday.com/story/money/2019/08/...   \n",
       "\n",
       "                                            8/2/2019  \\\n",
       "0  [https://www.bloomberg.com/news/articles/2019-...   \n",
       "\n",
       "                                            8/3/2019  \\\n",
       "0  [https://www.ft.com/content/47e2208a-b2a6-11e9...   \n",
       "\n",
       "                                            8/4/2019  \\\n",
       "0  [https://www.ft.com/content/8dc7ec28-b531-11e9...   \n",
       "\n",
       "                                            8/5/2019  \\\n",
       "0  [https://www.ledgerinsights.com/standard-chart...   \n",
       "\n",
       "                                            8/6/2019  \\\n",
       "0  [https://www.cnbc.com/2019/08/06/facebook-libr...   \n",
       "\n",
       "                                            8/7/2019  \\\n",
       "0  [https://www.prnewswire.com/news-releases/digi...   \n",
       "\n",
       "                                            8/8/2019  \\\n",
       "0  [https://www.modernhealthcare.com/people/commo...   \n",
       "\n",
       "                                            8/9/2019  \\\n",
       "0  [https://fintechnews.ch/fintech/the-10-hottest...   \n",
       "\n",
       "                                           8/10/2019  ...  \\\n",
       "0  [https://bravenewcoin.com/insights/place-your-...  ...   \n",
       "\n",
       "                                           7/22/2022  \\\n",
       "0  [https://en.prnasia.com/releases/apac/huawei-s...   \n",
       "\n",
       "                                           7/23/2022  \\\n",
       "0  [https://news.bitcoin.com/bank-indonesia-prepa...   \n",
       "\n",
       "                                           7/24/2022  \\\n",
       "0  [https://www.koreatimes.co.kr/www/biz/2022/07/...   \n",
       "\n",
       "                                           7/25/2022  \\\n",
       "0  [https://www.prnewswire.com/in/news-releases/s...   \n",
       "\n",
       "                                           7/26/2022  \\\n",
       "0  [https://www.iflr.com/article/2aeqzh78pcaamrcs...   \n",
       "\n",
       "                                           7/27/2022  \\\n",
       "0  [https://forkast.news/south-korea-passes-by-te...   \n",
       "\n",
       "                                           7/28/2022  \\\n",
       "0  [https://www.biometricupdate.com/202207/report...   \n",
       "\n",
       "                                           7/29/2022  \\\n",
       "0  [https://techmonitor.ai/leadership/what-financ...   \n",
       "\n",
       "                                           7/30/2022  \\\n",
       "0  [https://www.financialexpress.com/industry/sme...   \n",
       "\n",
       "                                           7/31/2022  \n",
       "0  [https://www.zawya.com/en/press-release/compan...  \n",
       "\n",
       "[1 rows x 1095 columns]"
      ]
     },
     "execution_count": 56,
     "metadata": {},
     "output_type": "execute_result"
    }
   ],
   "source": [
    "data"
   ]
  },
  {
   "cell_type": "code",
   "execution_count": 60,
   "id": "c3427e4f",
   "metadata": {},
   "outputs": [
    {
     "data": {
      "text/plain": [
       "['7/17/2022',\n",
       " '7/18/2022',\n",
       " '7/19/2022',\n",
       " '7/20/2022',\n",
       " '7/21/2022',\n",
       " '7/22/2022',\n",
       " '7/23/2022',\n",
       " '7/24/2022',\n",
       " '7/25/2022',\n",
       " '7/26/2022',\n",
       " '7/27/2022',\n",
       " '7/28/2022',\n",
       " '7/29/2022',\n",
       " '7/30/2022',\n",
       " '7/31/2022']"
      ]
     },
     "execution_count": 60,
     "metadata": {},
     "output_type": "execute_result"
    }
   ],
   "source": [
    "restart = 1080\n",
    "list(data)[restart:]"
   ]
  },
  {
   "cell_type": "code",
   "execution_count": 61,
   "id": "7df45c42",
   "metadata": {
    "scrolled": true
   },
   "outputs": [
    {
     "name": "stderr",
     "output_type": "stream",
     "text": [
      "\r",
      "  0%|                                                                                           | 0/15 [00:00<?, ?it/s]"
     ]
    },
    {
     "name": "stdout",
     "output_type": "stream",
     "text": [
      "https://siliconangle.com/2022/07/17/russia-bans-use-cryptocurrency-nfts-pay-goods-services/\n",
      "https://www.wsj.com/story/could-these-be-the-finance-jobs-of-the-future-0afbbc0e\n",
      "https://dailynewsegypt.com/2022/07/17/datwyler-offers-digital-infrastructure-services-for-egypts-public-private-sectors/\n",
      "https://dailynewsegypt.com/2022/07/17/egypts-climate-champion-discusses-singapores-support-africa-and-climate-finance-carbon-markets/\n",
      "https://www.thesundaily.my/home/digitising-wealth-management-enhances-client-experience-HB9461108\n",
      "https://www.crowdfundinsider.com/2022/07/193767-webbank-invests-250m-in-avant-to-support-credit-card-program/\n",
      "https://www.consultancy.com.au/news/5679/half-of-banks-not-ready-for-upcoming-esg-regulatory-reporting\n",
      "https://www.pymnts.com/cryptocurrency/2022/australian-financial-planners-group-backs-crypto-rule-book/\n",
      "https://dailynewsegypt.com/2022/07/17/banks-and-companies-injected-egp-46-368bn-in-egypt-under-the-real-estate-financing-initiative/\n",
      "https://thefintechtimes.com/fintech-landscape-of-south-africa-2022/\n",
      "https://www.crowdfundinsider.com/2022/07/193749-fintech-revolut-tops-20m-retail-customers/\n",
      "https://www.forbes.com/sites/bill_stone/2022/07/17/bank-earnings-provide-a-positive-start-to-earnings-season-despite-the-misses/\n",
      "https://www.handelsblatt.com/finanzen/steuern-recht/steuern/steuertipp-alltagstaugliche-kleidung-von-der-steuer-absetzen/28502648.html\n"
     ]
    },
    {
     "name": "stderr",
     "output_type": "stream",
     "text": [
      "\r",
      "  7%|█████▍                                                                            | 1/15 [01:46<24:54, 106.71s/it]"
     ]
    },
    {
     "name": "stdout",
     "output_type": "stream",
     "text": [
      "7-17-2022  완료\n",
      "https://thefintechtimes.com/bank-islam-launches-cloud-native-digital-bank-targeting-malaysias-younger-generations/\n",
      "https://financefeeds.com/ripple-survey-finds-most-finance-leaders-see-cbdcs-disrupting-fiat/\n",
      "https://thefintechtimes.com/cvent-the-financial-services-and-fintech-sectors-digital-event-management-evolution/\n",
      "https://www.forbes.com/sites/ronshevlin/2022/07/18/customer-experience-specialists-in-banks-need-to-find-a-new-job/\n",
      "https://charitydigital.org.uk/topics/topics/charity-report-shows-need-for-digital-strategy-10241\n",
      "https://www.pymnts.com/commerce-connected/2022/galileo-ceo-embedded-finance-gives-rise-to-a-b2b-brand-experience/\n",
      "https://www.pymnts.com/news/banking/2022/td-bank-meeting-smbs-digital-needs/\n",
      "https://www.coinspeaker.com/ioe-ai-launches-aifinancial-concept-services/\n",
      "https://www.pymnts.com/digital-first-banking/2022/truist-debuts-digital-consumer-accounts-with-no-overdraft-fees/\n",
      "https://financefeeds.com/revolut-expands-its-senior-team-in-india-adds-saleem-arshad-as-cto/\n",
      "https://financialpost.com/investing/half-a-trillion-dollars-wiped-from-once-high-flying-fintechs\n",
      "https://www.forbes.com/sites/patriciakemp/2022/07/18/fintech-is-driving-financial-inclusion-in-latin-america/\n",
      "https://www.forbes.com/sites/davidbirch/2022/07/18/whatever-the-public-think-about-digital-currency-it-is-coming/\n",
      "https://www.forbes.com/advisor/au/investing/cryptocurrency/what-is-cryptocurrency/\n",
      "https://screenrant.com/webtoon-digital-comics-creators-pay-millions-earned/\n",
      "https://www.forbes.com/advisor/au/investing/cryptocurrency/what-is-blockchain/\n",
      "https://www.pymnts.com/news/b2b-payments/2022/voice-of-the-cfo-finance-leaders-balance-spend-with-remote-employees-needs/\n",
      "https://www.crowdfundinsider.com/2022/07/193822-itau-unibanco-launches-digital-assets-platform-purchases-avenue-securities/\n",
      "https://thefintechtimes.com/tanzania-and-its-fintech-ecosystem-in-2022/\n",
      "https://www.coinspeaker.com/guides/what-is-harvest-finance-farm-and-how-to-use-it/\n",
      "https://www.crowdfundinsider.com/2022/07/193785-debt-collection-fintech-trueaccord-digitally-serves-20m-clients-on-path-to-financial-health/\n",
      "https://www.forbes.com/sites/jackkelly/2022/07/18/job-cuts-are-coming-to-wall-street/\n",
      "https://www.forbes.com/sites/forbestechcouncil/2022/07/18/how-banking-applications-can-achieve-five-star-reviews-with-aiops/\n",
      "https://www.pymnts.com/disbursements/2022/real-time-digital-disbursements-boost-long-term-loyalty-among-gig-workers/\n",
      "https://www.pymnts.com/consumer-finance/2022/new-survey-finds-3-in-4-consumers-with-strong-demand-for-super-apps/\n"
     ]
    },
    {
     "name": "stderr",
     "output_type": "stream",
     "text": [
      "\r",
      " 13%|██████████▉                                                                       | 2/15 [05:29<37:54, 174.94s/it]"
     ]
    },
    {
     "name": "stdout",
     "output_type": "stream",
     "text": [
      "7-18-2022  완료\n",
      "https://dailynewsegypt.com/2022/07/19/arab-financial-services-expands-its-digital-payments-solutions-into-egypt/\n",
      "https://thefintechtimes.com/uk-government-promotes-ai-innovation-with-more-flexible-approach-to-its-regulation/\n",
      "https://enterprisetalk.com/news/medimap-hires-thomas-jankowski-as-new-chief-executive-officer/\n",
      "https://thefintechtimes.com/how-millennials-and-gen-z-drive-ethical-banking/\n",
      "https://www.forbes.com/sites/forbestechcouncil/2022/07/19/the-secret-to-winning-amid-volatility-make-bold-digital-moves/\n",
      "https://thefintechtimes.com/fico-and-network-international-expand-digital-economy-with-fraud-and-credit-management-solutions/\n",
      "https://www.investors.com/research/defi-what-is-decentralized-finance/\n",
      "https://www.forbes.com/sites/pwc-cloud-and-digital-transformation/2022/07/19/how-tax-can-help-your-sap-transformation-deliver-more-value/\n",
      "https://www.pymnts.com/cbdc/2022/treasury-department-banks-cbdc-fears-are-overblown/\n",
      "https://www.cardrates.com/news/grasshopper-offers-digital-banking-built-for-smbs/\n",
      "https://www.forbes.com/sites/forbesfinancecouncil/2022/07/19/theres-a-better-way-to-de-risk-finance-and-run-your-supply-chain/\n",
      "https://www.crowdfundinsider.com/2022/07/193855-digital-banking-uks-atom-bank-expected-to-profit-from-low-cost-business-model/\n",
      "https://thefintechtimes.com/tag/zesty/\n",
      "https://thefintechtimes.com/fintech-landscape-of-tunisia-in-2022/\n",
      "https://financialpost.com/pmn/press-releases-pmn/business-wire-news-releases-pmn/hyosung-america-launches-four-new-products-set-to-empower-cash-management-and-enable-cash-to-digital-experiences\n",
      "https://www.forbes.com/sites/ericbrotman/2022/07/19/financial-planning-for-the-diyer-can-you-do-this-yourself/\n",
      "https://www.pymnts.com/news/banking/2022/pymnts-intelligence-smbs-turn-toward-banks-offering-digital-solutions/\n",
      "https://financialpost.com/globe-newswire/thrivedx-nightdragon-launch-the-worlds-first-cyber-talent-hub\n",
      "https://www.crowdfundinsider.com/2022/07/193851-fintech-zimpler-enters-norway-as-part-of-global-expansion-efforts/\n",
      "https://www.pna.gov.ph/articles/1179309\n",
      "https://financialpost.com/globe-newswire/goeasy-ltd-appoints-jonathan-tetrault-to-its-board-of-directors\n",
      "https://thefintechtimes.com/tag/data-protection-and-digital-information-bill/\n",
      "https://www.pymnts.com/digital-first-banking/2022/how-invisible-tech-is-revolutionizing-the-u-s-banking-system/\n",
      "https://dailynewsegypt.com/2022/07/19/abe-opens-new-business-development-service-centre-in-6th-of-october-to-support-youth-projects/\n",
      "https://www.forbes.com/sites/forbesfinancecouncil/2022/07/19/15-essential-factors-to-consider-when-analyzing-operational-cash-flow/\n",
      "https://financialpost.com/pmn/press-releases-pmn/business-wire-news-releases-pmn/innio-waukesha-and-detechtion-technologies-announce-technology-collaboration\n",
      "https://financialpost.com/globe-newswire/polysleep-1111-and-bloom-present-zzze-mattress\n",
      "https://www.pymnts.com/news/security-and-risk/2022/banks-increased-liabilities-on-p2p-fraud-may-have-silver-lining/\n",
      "https://www.forbes.com/advisor/ca/investing/is-inflation-making-restaurants-cheaper-than-groceries-heres-what-the-burrito-test-says/\n",
      "https://www.crowdfundinsider.com/2022/07/193841-d-wave-mastercard-take-quantum-leap-into-future-of-financial-services/\n",
      "https://financialpost.com/fp-answers/fp-answers-will-calgary-real-estate-prices-go-down\n",
      "https://www.crosstimbersgazette.com/2022/07/19/former-dallas-baptist-vp-named-president-at-coram-deo-academy/\n",
      "https://propakistani.pk/2022/07/19/imam-ul-haqs-wicket-sparks-new-controversy-in-world-of-cricket-video/\n",
      "https://businessmirror.com.ph/2022/07/19/los-angeles-olympics-to-begin-july-14-2028/\n"
     ]
    },
    {
     "name": "stderr",
     "output_type": "stream",
     "text": [
      "\r",
      " 20%|████████████████▍                                                                 | 3/15 [10:38<47:14, 236.25s/it]"
     ]
    },
    {
     "name": "stdout",
     "output_type": "stream",
     "text": [
      "7-19-2022  완료\n",
      "https://www.theedgesingapore.com/digitaledge/focus/paving-way-greener-future-banks-asia-pacific\n",
      "https://www.crowdfundinsider.com/2022/07/193911-eu-u-s-joint-financial-regulatory-forum-in-brussels-tackles-topics-like-aml-climate-risk-digital-finance/\n",
      "https://www.newswire.ca/news-releases/a-digital-banking-first-bmo-launches-innovative-pre-authorized-payments-manager-previewing-future-payments-to-help-canadians-stay-on-top-of-their-finances-873314897.html\n",
      "https://www.fnlondon.com/articles/first-mover-advantage-on-barrons-live-can-the-digital-asset-industry-beat-the-regulators-with-charles-allen-chairman-and-ceo-of-btcs-20220720\n",
      "https://financialpost.com/globe-newswire/fobi-launches-digital-marketing-agency-and-new-paas-platform-as-a-service-revenue-model\n",
      "https://thefintechtimes.com/fintech-landscape-of-turkey-in-2022/\n",
      "https://www.troutman.com/insights/troutman-pepper-advises-hcit-company-proscia-in-series-c-financing-to-scale-its-digital-pathology-technology.html\n",
      "https://www.arabianbusiness.com/culture-society/saudi-arabia-talks-digital-economy-cryptocurrency-digital-banks-and-smart-cities-twitter\n",
      "https://www.pymnts.com/emea/2022/pymnts-gcc-series-saudi-arabia-at-the-intersection-of-tech-and-islamic-finance/\n",
      "https://www.forbes.com/sites/dylansloan/2022/07/20/varo-cuts-10-of-staff-as-digital-bank-restructures-to-achieve-profitability/\n",
      "https://dailynewsegypt.com/2022/07/20/cib-succesfully-closes-egp-700m-on-balance-sheet-corporate-bond-issuance-as-part-of-egp-2bn-programme/\n",
      "https://www.forbes.com/sites/forbestechcouncil/2022/07/20/using-noand-low-code-solutions-for-faster-financial-services-deployment/\n",
      "https://thefintechtimes.com/tag/the-bankers-bank/\n",
      "https://www.forbes.com/sites/melissahouston/2022/07/20/a-financial-product-to-meet-the-needs-of-the-lgbtq-community/\n",
      "https://www.digitalstudiome.com/broadcast/cnbc-arabia-undergoes-comprehensive-transformation-to-upgrade-its-tv-channel-digital-platform-and-geographic-expansion\n",
      "https://financialpost.com/pmn/press-releases-pmn/business-wire-news-releases-pmn/balance-becomes-soc-2-certified-and-starts-serving-ni-31-103-individuals-and-firms\n",
      "https://www.forbes.com/sites/rosemariemiller/2022/07/20/digital-clothing-with-nfts-fab-or-fad-video/\n",
      "https://www.forbes.com/sites/forrester/2022/07/20/the-booming-advertising-talent-market-illustrates-a-belated-agency-transformation/\n",
      "https://financialpost.com/moneywise-pro/while-canadian-provinces-start-financial-literacy-programs-in-schools-trends-among-kids-show-theres-still-work-to-be-done\n",
      "https://www.forbes.com/sites/forbesfinancecouncil/2022/07/20/new-lease-accounting-requirements-and-the-impact-on-private-business-and-nonprofits/\n",
      "https://www.forbes.com/sites/forbesfinancecouncil/2022/07/20/public-and-soon-to-be-public-companies-how-to-meet-accounting-needs/\n",
      "https://www.businessworld.in/article/RBI-Mandate-Leads-To-Prepaid-Card-Business-Crash/20-07-2022-437918\n",
      "https://www.financialexpress.com/express-mobility/iphone-maker-foxconn-builds-ev-partnership-with-nxp-semiconductors/2600219/\n",
      "https://www.pymnts.com/news/security-and-risk/2022/competitors-become-collaborators-in-fight-against-financial-crime/\n",
      "https://www.forbes.com/sites/chuckbrooks/2022/07/20/the-quantum-era-is-arriving-and-it-will-be-transformational-/\n",
      "https://www.forbes.com/sites/davidjeans/2022/07/20/slync-ceo-chris-kirchner-goldman-sachs/\n",
      "https://financialpost.com/globe-newswire/hitachi-energy-and-h2-green-steel-partner-to-leverage-electrification-digitalization-and-hydrogen-for-green-steel-production\n",
      "https://www.forbes.com/sites/forbestechcouncil/2022/07/20/fintech-regulation-legal-and-regulatory-aspects/\n",
      "https://thefintechtimes.com/uk-fintechs-received-9-1bn-in-investment-in-h122-despite-81-less-deals-than-h121/\n",
      "https://propakistani.pk/2022/07/20/nepra-reserves-its-decision-on-govts-request-to-enhance-base-tariff-by-rs-7-91-per-unit/\n",
      "https://thehill.com/policy/finance/3566666-gop-ramps-up-efforts-to-rein-in-biden-on-student-debt/\n",
      "https://www.miamiherald.com/news/nation-world/world/article263648648.html\n",
      "https://www.handelsblatt.com/finanzen/banken-versicherungen/banken/studie-fast-15-milliarden-euro-im-jahr-2023-die-zinswende-treibt-die-ertraege-deutscher-banken/28521414.html\n"
     ]
    },
    {
     "name": "stderr",
     "output_type": "stream",
     "text": [
      "\r",
      " 27%|█████████████████████▊                                                            | 4/15 [16:55<53:31, 291.93s/it]"
     ]
    },
    {
     "name": "stdout",
     "output_type": "stream",
     "text": [
      "7-20-2022  완료\n",
      "https://thefintechtimes.com/al-rajhi-bank-malaysia-reinforces-its-digital-bank-with-feedzai-riskops-partnership/\n",
      "https://www.forbes.com/sites/forbesbusinesscouncil/2022/07/21/how-ewallets-can-help-address-financial-inclusion-challenges/\n",
      "https://www.forbes.com/sites/forbestechcouncil/2022/07/21/how-financial-services-can-enable-modern-data-platforms-for-digital-transformation/\n",
      "https://finance.yahoo.com/news/arv-krungthai-sign-mou-pilot-063800082.html\n",
      "https://www.forbes.com/sites/forbestechcouncil/2022/07/21/why-the-road-to-profitability-for-financial-institutions-is-data-driven/\n",
      "https://www.prnewswire.co.uk/news-releases/unionpay-international-and-postbank-uganda-reinforce-partnership-enhancing-digital-financial-inclusion-in-uganda-818105237.html\n",
      "https://www.pymnts.com/credit-unions/2022/credit-unions-keep-it-personal-to-attract-younger-members/\n",
      "https://customerthink.com/how-banks-can-tackle-the-fintech-threat/\n",
      "https://charitydigital.org.uk/topics/topics/how-to-fix-your-404s-10254\n",
      "https://www.pymnts.com/study/digital-economy-payments-diversity-consumer-finance-travel-fraud/\n",
      "https://financefeeds.com/sucden-financial-acquires-market-maker-atlantic-trading/\n",
      "https://www.pymnts.com/news/b2b-payments/2022/today-in-b2b-payments-ranpak-rolls-out-packaging-payments-could-speed-us-mexico-freight/\n",
      "https://financefeeds.com/speakerbus-adds-voice-trading-by-acquiring-imarket/\n",
      "https://www.crowdfundinsider.com/2022/07/193924-digital-asset-financial-services-firm-bitgo-becomes-first-qualified-custodian-to-support-near-protocol/\n",
      "https://www.pymnts.com/emea/2022/emea-daily-uks-financial-services-bill-will-make-stablecoins-a-form-of-payment-swedish-telehealth-company-kry-raises-160m/\n",
      "https://thehill.com/opinion/finance/3569047-blinded-by-the-light-7-red-flags-about-cryptocurrencies-that-we-completely-missed/\n",
      "https://www.forbes.com/sites/danielwebber/2022/07/21/inside-alipay-ant-groups-cross-border-payments-solution-with-global-ambitions/\n",
      "https://www.forbes.com/sites/forbesfinancecouncil/people/borisdus/\n",
      "https://www.fnlondon.com/articles/us-lawmakers-edge-closer-to-rules-for-stablecoins-20220721\n",
      "https://www.forbes.com/sites/patriciafersch/2022/07/21/financial-abuse-is-domestic-violence/\n",
      "https://www.nst.com.my/news/nation/2022/07/815331/asnb-digitalises-investment-functions-making-it-easier-users\n",
      "https://www.pymnts.com/news/financial-inclusion/2022/fintechs-resolve-banking-barriers-empower-egypts-unbanked-with-mobile-technology/\n",
      "https://www.forbes.com/sites/mikeozanian/2022/07/21/todd-boehlys-950-million-gambit-to-keep-chelsea-in-the-game/\n",
      "https://www.forbes.com/sites/forbeshumanresourcescouncil/2022/07/21/key-considerations-for-retaining-happy-supported-employees/\n",
      "https://www.forbes.com/sites/alexkonrad/2022/07/21/classdojo-tencent-backed-unicorn-launches-education-virtual-world/\n",
      "https://financialpost.com/pmn/press-releases-pmn/business-wire-news-releases-pmn/siemens-energy-takes-next-step-to-protect-critical-infrastructure\n",
      "https://www.forbes.com/sites/laurendebter/2022/07/21/livestream-shopping-stays-hot-as-whatnot-takes-on-ebay-valuation-more-than-doubles-to-37-billion/\n",
      "https://financialpost.com/pmn/press-releases-pmn/business-wire-news-releases-pmn/schneider-electric-wins-energy-efficient-solution-of-the-year-as-it-delivers-climate-friendly-and-energy-saving-innovations-to-the-market\n",
      "https://www.miamiherald.com/news/nation-world/world/article263708398.html\n",
      "https://www.bradenton.com/news/local/article263078743.html\n"
     ]
    },
    {
     "name": "stderr",
     "output_type": "stream",
     "text": [
      "\r",
      " 33%|███████████████████████████▎                                                      | 5/15 [23:19<54:11, 325.12s/it]"
     ]
    },
    {
     "name": "stdout",
     "output_type": "stream",
     "text": [
      "7-21-2022  완료\n",
      "https://www.orfonline.org/expert-speak/g20-and-the-gender-focus-on-the-digital-divide/\n",
      "https://www.bizjournals.com/philadelphia/news/2022/07/22/customers-bank-closing-half-of-its-pa-branches.html\n",
      "https://www.abc.net.au/news/programs/the-business/2022-07-22/1.6-million-aussie-households-predicted-to-be/13985396\n",
      "https://financefeeds.com/crypto-com-gets-cysec-nod-to-operate-regulated-business-in-cyprus/\n",
      "https://www.orfonline.org/expert-speak/elevating-the-india-africa-partnership-to-new-horizons/\n",
      "https://siliconangle.com/2022/07/22/expect-monaco-crypto-summit-join-thecube-july-29-monacocryptosummit/\n",
      "https://www.forbes.com/sites/franksorrentino/2022/07/22/regulatory-reform-in-a-new-era/\n",
      "https://www.forbes.com/sites/forbesfinancecouncil/2022/07/22/an-unequal-burden-measuring-financial-worry-in-developing-countries-during-the-pandemic/\n",
      "https://www.forbes.com/sites/forbesfinancecouncil/2022/07/22/the-psychology-of-finance-how-money-scripts-affect-decisions-and-actions-related-to-finances/\n",
      "https://www.iol.co.za/business-report/economy/demand-for-247-digital-access-to-banking-opens-the-door-to-fraud-and-security-breaches-3e24522f-5921-4d1f-990e-a97b0bc22d25\n",
      "https://www.pymnts.com/consumer-finance/2022/as-the-number-of-payment-methods-consumers-use-increases-so-do-two-key-problems/\n",
      "https://www.forbes.com/sites/theyec/2022/07/22/4-ways-to-improve-financial-operations/\n",
      "https://www.pymnts.com/real-estate/2022/italian-firms-digital-lending-proptech-innovation/\n",
      "https://www.forbes.com/sites/forbesfinancecouncil/2022/07/22/four-types-of-business-analytics/\n",
      "https://www.bizjournals.com/washington/news/2022/07/22/qed-investors-nigel-morris-fintech.html\n",
      "https://www.pymnts.com/supply-chain/2022/embedded-options-make-tracking-supplier-finance-programs-easier/\n",
      "https://www.pymnts.com/news/cfpb/2022/senators-to-cfpb-use-authority-to-protect-consumers-from-p2p-payment-scams/\n",
      "https://www.lightreading.com/digital-divide/rural-us-wireless-carriers-ask-for-more-5g-subsidies/d/d-id/779195\n",
      "https://www.barrons.com/articles/micron-western-digital-seagate-stock-price-earnings-51658483594\n",
      "https://www.forbes.com/sites/scottharkey/2022/07/22/the-decline-of-the-bank-starts-with-small-business/\n",
      "https://www.forbes.com/sites/forbesfinancecouncil/2022/07/22/buckle-up-for-a-bevy-of-banking-regulation/\n",
      "https://www.pymnts.com/news/regulation/2022/weekly-techreg-us-uk-lawmakers-move-stablecoin-bills-cfpb-could-force-banks-to-reimburse-scam-victims/\n",
      "https://www.forbes.com/sites/debgordon/2022/07/22/medical-billing-startup-raises-33m-in-seed-funding-as-medical-debt-increases/\n",
      "https://www.crowdfundinsider.com/2022/07/193965-financial-super-app-emma-introduces-commission-free-stock-trading/\n",
      "https://www.investors.com/news/technology/snap-earnings-could-rattle-social-media-stocks/\n",
      "https://www.miamiherald.com/news/nation-world/world/article263728478.html\n"
     ]
    },
    {
     "name": "stderr",
     "output_type": "stream",
     "text": [
      "\r",
      " 40%|████████████████████████████████▊                                                 | 6/15 [26:02<40:30, 270.02s/it]"
     ]
    },
    {
     "name": "stdout",
     "output_type": "stream",
     "text": [
      "7-22-2022  완료\n",
      "https://thefinancialbrand.com/news/secret-to-how-webank-outperforms-every-digital-bank-globally-149019/\n",
      "https://www.advisorperspectives.com/articles/2022/07/23/central-african-regional-bank-seeks-common-digital-currency\n",
      "https://thefintechtimes.com/no-more-queues-at-the-bank-as-commercial-bank-international-launches-virtual-location-in-metaverse/\n",
      "https://www.globaltimes.cn/page/202207/1271216.shtml?id=11\n",
      "https://thefintechtimes.com/he-us-is-the-holy-grail-for-uk-fintechs-but-they-must-navigate-harsh-headwinds-to-achieve-success/\n",
      "https://www.forbes.com/sites/jasonbrett/2022/07/23/a-new-stablecoin-bill-from-the-biden-administration-may-pass-quickly-in-congress/\n",
      "https://www.forbes.com/sites/jasonbrett/2022/07/23/chasing-bitcoin-why-north-korea-ransomware-attacks-target-us-health-care-providers/\n",
      "https://www.crowdfundinsider.com/2022/07/193971-data-management-ai-automation-tools-are-top-investment-for-financial-firms-broadridge-survey-reveals/\n",
      "https://www.forbes.com/sites/ramseyqubein/2022/07/23/turkish-airlines-ceo-us-flights-and-cargo-play-key-role-in-recovery/\n"
     ]
    },
    {
     "name": "stderr",
     "output_type": "stream",
     "text": [
      "\r",
      " 47%|██████████████████████████████████████▎                                           | 7/15 [28:29<30:37, 229.64s/it]"
     ]
    },
    {
     "name": "stdout",
     "output_type": "stream",
     "text": [
      "7-23-2022  완료\n",
      "https://dailynewsegypt.com/2022/07/24/fra-aims-to-increase-financing-for-non-banking-financial-activities-to-egp-820bn-by-2026/\n",
      "https://dailynewsegypt.com/2022/07/24/4-2m-cards-converted-to-meeza-in-cooperation-with-9-banks-and-egypt-post-finance-ministry/\n",
      "https://www.crowdfundinsider.com/2022/07/194010-oneconnect-financial-technology-announces-launch-of-virtual-banking-solutions-suite/\n",
      "https://www.equitybulls.com/category.php?id=316933\n",
      "https://www.forbes.com/sites/martinrivers/2022/07/24/bitcoin-is-knocking-on-10-downing-street/\n",
      "https://www.crowdfundinsider.com/2022/07/194022-moneyhub-partners-with-pennyworth-to-democratize-financial-planning/\n",
      "https://thefintechtimes.com/the-predominance-of-financial-services-in-the-gcc-to-accelerate-esg-practices/\n",
      "https://www.handelsblatt.com/finanzen/digital-finance/finanzierungen-private-kreditfonds-profitieren-von-strengeren-vorgaben-fuer-banken/28521294.html\n",
      "https://www.crowdfundinsider.com/2022/07/194026-kraken-is-offering-expanded-margin-pairs-for-btc-xrp-eth-matic-link-doge-sol-mana/\n",
      "https://www.forbes.com/sites/billybambrough/2022/07/24/all-bets-are-off-crypto-now-braced-for-a-89-trillion-earthquake-as-the-price-of-bitcoin-ethereum-bnb-xrp-solana-cardano-and-dogecoin-swing/\n",
      "https://thehill.com/homenews/ap/ap-international/milley-china-more-aggressive-dangerous-to-us-allies/\n"
     ]
    },
    {
     "name": "stderr",
     "output_type": "stream",
     "text": [
      "\r",
      " 53%|███████████████████████████████████████████▋                                      | 8/15 [30:12<22:05, 189.40s/it]"
     ]
    },
    {
     "name": "stdout",
     "output_type": "stream",
     "text": [
      "7-24-2022  완료\n",
      "https://financefeeds.com/oneconnect-launches-digital-banking-suite-powered-by-brazillian-fintech-pismo/\n",
      "https://financefeeds.com/sam-bankman-fried-voyager-lawyers-drain-funds-while-customers-get-fued/\n",
      "https://financefeeds.com/inca-digital-appoints-ex-cftc-commissioner-brian-quintenz-as-advisor/\n",
      "https://www.charlotteobserver.com/news/business/whats-in-store/article263731023.html\n",
      "https://www.vanguardngr.com/2022/07/digital-transformation-and-african-internet-economy/\n",
      "https://financefeeds.com/eqonex-appoints-apex-group-to-manage-its-physically-backed-bitcoin-etn/\n",
      "https://newsroom.accenture.com/news/accenture-acquires-solvera-solutions-to-grow-digital-transformation-capabilities-in-western-canada.htm\n",
      "https://www.smartcitiesworld.net/news/news/austrian-city-uses-digital-twin-to-manage-its-urban-trees-7922\n",
      "https://thefintechtimes.com/building-a-more-inclusive-economy-mastercard-announces-partnership-with-national-bank-of-bahrain/\n",
      "https://www.forbes.com/sites/rodberger/2022/07/25/educating-the-digital-space-with-community-oriented-messaging/\n",
      "https://financialpost.com/pmn/press-releases-pmn/business-wire-news-releases-pmn/fineos-and-new-york-life-group-benefit-solutions-issue-digital-transformation-case-study\n",
      "https://financefeeds.com/novia-renews-gbst-partnership-for-composer-platform/\n",
      "https://financialpost.com/pmn/press-releases-pmn/business-wire-news-releases-pmn/ncpers-reaches-agreement-on-pensionx-digital-platform\n",
      "https://www.forbes.com/sites/markcperna/2022/07/25/workforce-credentials-are-going-digital-heres-why-this-helps-everyone/\n",
      "https://charitydigital.org.uk/topics/topics/why-you-should-always-ask-supporters-for-feedback-10244\n",
      "https://financefeeds.com/binance-alums-fund-invests-in-pakistani-crypto-exchange-bitblaze/\n",
      "https://financefeeds.com/fiserv-partners-with-georgia-tech-for-insights-on-inflation/\n",
      "https://financialpost.com/pmn/press-releases-pmn/business-wire-news-releases-pmn/wedia-participates-in-henry-stewarts-dam-ny-2022-the-worlds-leading-event-dedicated-to-digital-asset-management\n",
      "https://www.forbes.com/sites/forbesbooksauthors/2022/07/25/understanding-the-true-burden-of-debt-to-your-financial-freedom/\n",
      "https://www.pymnts.com/cbdc/2022/algorand-adviser-says-digital-dollar-could-be-lifeline-not-a-threat-to-banks/\n",
      "https://thefintechtimes.com/iliad-solutions-iso20022-why-migration-is-about-more-than-compliance/\n",
      "https://thefintechtimes.com/tag/claus-christensen/\n",
      "https://www.inkworldmagazine.com/contents/view_breaking-news/2022-07-25/jbf-finance-sa-launches-public-tender-offer-for-bobst-group-sa/\n",
      "https://mhealthintelligence.com/news/aha-says-senate-should-codify-virtual-mental-health-in-telehealth\n",
      "https://financialpost.com/pmn/press-releases-pmn/business-wire-news-releases-pmn/the-solutions-to-todays-supply-chain-disruptions-intelligent-management\n",
      "https://www.forbes.com/sites/forbescommunicationscouncil/2022/07/25/cmo-and-cfos-an-alliance-forged-in-the-digital-revolution/\n",
      "https://www.forbes.com/sites/forbesfinancecouncil/2022/07/25/e-commerce-winning-back-consumer-trust/\n",
      "https://www.abc.net.au/news/2022-07-26/apra-boss-wayne-byres-to-leave-bank-regulator/101269554\n",
      "https://www.pymnts.com/bnpl/2022/b2b-buy-now-pay-later-rewriting-the-rules-of-trade-finance/\n",
      "https://www.pymnts.com/partnerships/2022/aspire-regtech-provider-know-your-customer-team-to-better-serve-smbs/\n",
      "https://www.forbes.com/sites/davidjeans/2022/07/25/slync-ceo-chris-kirchner-suspended/\n",
      "https://www.forbes.com/sites/sap/2022/07/25/myths-vs-reality-what-indian-growing-businesses-should-know-about-digital-procurement/\n",
      "https://www.modernghana.com/news/1173318/were-grateful-for-governments-digitization-polic.html\n",
      "https://www.pymnts.com/partnerships/2022/tradeteq-taps-xdc-network-to-launch-trade-finance-tokens/\n"
     ]
    },
    {
     "name": "stderr",
     "output_type": "stream",
     "text": [
      "\r",
      " 60%|█████████████████████████████████████████████████▏                                | 9/15 [35:48<23:30, 235.17s/it]"
     ]
    },
    {
     "name": "stdout",
     "output_type": "stream",
     "text": [
      "https://www.processexcellencenetwork.com/business-transformation/videos/discover-equifaxs-organizational-maturity-model\n",
      "7-25-2022  완료\n",
      "https://www.unescap.org/blog/digital-futures-driving-systemic-change-women-0\n",
      "https://www.pymnts.com/cbdc/2022/some-central-bankers-signal-support-for-private-sector-digital-currencies-over-cbdcs/\n",
      "https://financialpost.com/pmn/press-releases-pmn/business-wire-news-releases-pmn/the-lycra-company-accelerates-digital-transformation-through-partnership-with-browzwear\n",
      "https://www.globalgovernmentforum.com/fintech-in-developing-economies-paving-the-way-for-womens-financial-inclusion/\n",
      "https://www.newswire.ca/news-releases/galaxy-digital-to-participate-in-the-canaccord-42nd-annual-growth-conference-892531106.html\n",
      "https://financialpost.com/globe-newswire/retail-grocers-go-digital-to-embrace-online-grocery-shopping-trend\n",
      "https://financialpost.com/pmn/press-releases-pmn/business-wire-news-releases-pmn/tecnotree-announces-the-successful-go-live-of-its-digital-service-provisioning-platform-for-zain-ahead-of-time\n",
      "https://financialpost.com/globe-newswire/voxtur-adds-to-digital-technology-solutions\n",
      "https://www.forbes.com/sites/pwc-cloud-and-digital-transformation/2022/07/26/tech-enabling-your-esg-story/\n",
      "https://thefintechtimes.com/this-week-in-fintech-tft-bi-weekly-news-roundup-26-07/\n",
      "https://www.pymnts.com/financial-inclusion-3/2022/startups-use-tech-innovation-to-move-the-needle-on-financial-exclusion-in-egypt/\n",
      "https://www.pymnts.com/digital-payments/2022/walmarts-super-app-cashi-marries-digital-payments-and-cash-in-mexico/\n",
      "https://www.pymnts.com/cryptocurrency/2022/cftcs-chair-crypto-and-defi-have-outgrown-sandbox/\n",
      "https://propakistani.pk/2022/07/26/allied-bank-partners-with-haball-for-digitalization-of-b2b-payments-in-pakistan/\n",
      "https://themalaysianreserve.com/2022/07/26/financial-crimes-increased-significantly-during-pandemic/\n",
      "https://www.esi-africa.com/industry-sectors/business-and-markets/ifc-provided-a-record-9-4bn-financing-in-africa-in-the-2022-fiscal-year/\n",
      "https://www.pymnts.com/news/digital-banking/2022/uk-digital-banks-set-sights-on-underserved-mass-affluent-segment/\n",
      "https://www.forbes.com/advisor/investing/cryptocurrency/invest-in-cryptocurrency/\n",
      "https://www.pymnts.com/news/cross-border-commerce/cross-border-payments/2022/global-mass-payouts-get-an-accounting-and-finance-makeover/\n",
      "https://www.pymnts.com/technology/2022/monite-codat-team-to-allow-embedded-invoices-bill-payments-in-apps/\n",
      "https://financialpost.com/pmn/press-releases-pmn/business-wire-news-releases-pmn/omid-rahmat-joins-jon-peddie-research-as-evp\n",
      "https://enterprisetalk.com/news/joe-dalton-ceo-of-salt-this-start-up-is-ready-to-hit-the-ground-running/\n",
      "https://financialpost.com/globe-newswire/mltply-launches-stable-insurance-using-instandas-platform-in-ten-weeks\n",
      "https://newsroom.accenture.com/news/most-companies-struggling-to-be-relevant-to-their-customers-accenture-report-finds.htm\n",
      "https://www.crowdfundinsider.com/2022/07/194081-crif-introduces-open-banking-powered-consumer-credit-scoring-in-the-uk/\n"
     ]
    },
    {
     "name": "stderr",
     "output_type": "stream",
     "text": [
      "\r",
      " 67%|██████████████████████████████████████████████████████                           | 10/15 [39:24<19:06, 229.21s/it]"
     ]
    },
    {
     "name": "stdout",
     "output_type": "stream",
     "text": [
      "7-26-2022  완료\n",
      "https://dailynewsegypt.com/2022/07/27/nigeria-and-egypt-test-different-approaches-to-tax-digital-economy/\n",
      "https://financefeeds.com/eqonex-strengthens-asset-management-business-in-uk-and-asia/\n",
      "https://www.pymnts.com/nfts/2022/russia-plans-amendments-to-regulate-nfts/\n",
      "https://www.pymnts.com/cfo/2022/voices-of-the-cfo-finance-chiefs-say-automating-the-back-office-needs-to-move-to-the-front-burner/\n",
      "https://www.pymnts.com/digital-first-banking/2022/ncr-says-financial-literacy-should-be-left-to-community-banks-and-credit-unions-not-tiktok/\n",
      "https://financefeeds.com/cftc-renews-efforts-amid-explosion-in-retail-trading-of-futures-options-crypto/\n",
      "https://www.editorandpublisher.com/stories/money-announces-new-partnership-with-mcclatchy-in-exclusive-syndication-deal,235813\n",
      "https://www.pymnts.com/news/b2b-payments/2022/sesami-banking-partners-debut-efinancing-marketplace/\n",
      "https://financefeeds.com/coinmena-expands-crypto-exchange-to-egypt/\n",
      "https://www.newswire.ca/news-releases/igm-financial-selects-cgi-to-operate-and-modernize-its-transfer-agency-platform-886675465.html\n"
     ]
    },
    {
     "name": "stderr",
     "output_type": "stream",
     "text": [
      "C:\\Users\\Notebiz003\\anaconda3\\lib\\site-packages\\dateutil\\parser\\_parser.py:1207: UnknownTimezoneWarning: tzname EDT identified but not understood.  Pass `tzinfos` argument in order to correctly return a timezone-aware datetime.  In a future version, this will raise an exception.\n",
      "  warnings.warn(\"tzname {tzname} identified but not understood.  \"\n"
     ]
    },
    {
     "name": "stdout",
     "output_type": "stream",
     "text": [
      "https://financialpost.com/pmn/press-releases-pmn/business-wire-news-releases-pmn/triton-digital-releases-the-june-canada-podcast-report\n",
      "https://financialpost.com/globe-newswire/genui-acquires-majority-stake-in-magnolia-and-invests-in-future-growth\n",
      "https://financialpost.com/globe-newswire/trip-com-and-ctrip-celebrate-the-return-of-travel-by-announcing-their-strategic-partnership-with-hylink-digital\n",
      "https://www.crowdfundinsider.com/2022/07/194152-digital-securities-marketplace-addx-lists-private-credit-fund/\n",
      "https://www.orfonline.org/expert-speak/five-challenges-before-indias-g20-presidency/\n",
      "https://financialpost.com/pmn/press-releases-pmn/business-wire-news-releases-pmn/legible-announces-appointment-of-robyn-marshall-to-advisory-board\n",
      "https://www.pymnts.com/cryptocurrency/2022/european-banking-authority-chair-needs-staff-to-govern-crypto/\n",
      "https://www.pymnts.com/mobile-applications/2022/spotify-ends-production-car-thing-smart-player/\n",
      "https://www.forbes.com/sites/dushyantshahrawat/2022/07/27/claims-that-defi-is-unraveling-or-structurally-flawed-are-unfounded/\n",
      "https://www.pymnts.com/news/banking/2022/the-data-point-over-40-pct-millennials-would-switch-to-fis-supporting-local-charities/\n",
      "https://www.crowdfundinsider.com/2022/07/194130-worldpay-from-fis-expands-merchant-business-operations-to-south-korea/\n"
     ]
    },
    {
     "name": "stderr",
     "output_type": "stream",
     "text": [
      "\r",
      " 73%|███████████████████████████████████████████████████████████▍                     | 11/15 [45:13<17:43, 265.91s/it]"
     ]
    },
    {
     "name": "stdout",
     "output_type": "stream",
     "text": [
      "7-27-2022  완료\n"
     ]
    },
    {
     "name": "stderr",
     "output_type": "stream",
     "text": [
      "C:\\Users\\Notebiz003\\anaconda3\\lib\\site-packages\\dateutil\\parser\\_parser.py:1207: UnknownTimezoneWarning: tzname PST identified but not understood.  Pass `tzinfos` argument in order to correctly return a timezone-aware datetime.  In a future version, this will raise an exception.\n",
      "  warnings.warn(\"tzname {tzname} identified but not understood.  \"\n"
     ]
    },
    {
     "name": "stdout",
     "output_type": "stream",
     "text": [
      "https://financefeeds.com/p2p-lending-platform-clst-emerges-to-capitalize-on-celsius-and-terra-luna-collapse/\n",
      "https://www.forbes.com/sites/forbesfinancecouncil/2022/07/28/how-gen-zers-are-choosing-their-financial-services-provider-and-why-this-matters/\n",
      "https://thefintechtimes.com/this-week-in-fintech-tft-bi-weekly-news-roundup-28-07/\n",
      "https://www.forbes.com/sites/michaelashley/2022/07/28/can-fintech-turn-around-our-collapsing-economy/\n",
      "https://financialpost.com/pmn/press-releases-pmn/business-wire-news-releases-pmn/magnolia-communications-expands-digital-marketing-services-with-new-partnerships\n",
      "https://financefeeds.com/coinregtech-adds-support-to-cftc-registered-kors-sdr/\n",
      "https://financialpost.com/globe-newswire/vosbor-raises-7-million-for-the-first-digital-agricultural-commodities-exchange\n",
      "https://www.pymnts.com/smbs/2022/grant-program-offers-support-to-venmo-business-users/\n",
      "https://www.forbes.com/sites/jeffkauflin/2022/07/28/in-fintech-2022-is-becoming-the-year-of-layoffs/\n",
      "https://www.pymnts.com/partnerships/2022/mercadolibre-creditas-team-offer-used-car-loans-mexico/\n",
      "https://www.marketwatch.com/story/amtd-digital-up-146-271659037880\n",
      "https://financialpost.com/globe-newswire/goeasy-ltd-announces-timing-of-second-quarter-2022-conference-call-and-webcast\n",
      "https://www.pymnts.com/connectedeconomy/2022/jack-ma-gives-up-ant-control-super-app-now-belongs-government-as-jack-ma-gives-up-control/\n",
      "https://propakistani.pk/2022/07/28/medznmore-partners-with-bank-alfalah-to-empower-retailers-with-digital-solutions/\n",
      "https://financefeeds.com/etc-group-launches-btcetc-on-cboe-europe/\n",
      "https://www.pymnts.com/news/digital-banking/2022/lendingclub-names-former-bakkt-exec-drew-labenne-cfo/\n",
      "https://www.pymnts.com/blockchain/2022/gaming-industry-eyes-blockchain-payments-for-better-roi/\n",
      "https://www.jpost.com/business-and-innovation/banking-and-finance/article-713354\n",
      "https://financialpost.com/globe-newswire/bitfarms-completes-phase-2-at-its-bunker-location\n",
      "https://www.forbes.com/sites/forbescommunicationscouncil/2022/07/28/why-and-how-physicians-can-improve-their-practice-management-strategy-through-outsourcing/\n",
      "https://www.altcoinbuzz.io/cryptocurrency-news/partnerships/near-partners-with-institutional-crypto-custody-company-fireblocks/\n",
      "https://financialpost.com/pmn/press-releases-pmn/business-wire-news-releases-pmn/viq-solutions-to-report-second-quarter-2022-financial-results-on-wednesday-august-10-2022\n",
      "https://www.crowdfundinsider.com/2022/07/194159-temenos-wipro-to-accelerate-digital-transformation-in-banking/\n",
      "https://financialpost.com/pmn/press-releases-pmn/business-wire-news-releases-pmn/schneider-electric-makes-steady-progress-toward-2025-sustainability-targets-2\n",
      "https://financialpost.com/pmn/press-releases-pmn/business-wire-news-releases-pmn/stat-cto-juhwan-park-states-investment-strategy-can-be-digital-asset-by-incorporating-nft-to-social-trading\n",
      "https://financialpost.com/pmn/business-pmn/crypto-platform-zipmex-files-for-bankruptcy-protection-in-singapore\n",
      "https://www.pymnts.com/digital-first-banking/2022/uks-cma-warns-monzo-not-to-inhibit-current-account-holders-switching-accounts/\n",
      "https://www.forbes.com/sites/billhardekopf/2022/07/28/this-week-in-credit-card-news-inflation-interest-hikes-leading-to-soaring-card-debt-recession-fears/\n",
      "https://www.pymnts.com/personnel/2022/paypal-jim-magats-named-ceo-mx/\n",
      "https://www.pymnts.com/earnings/2022/apple-services-revenues-gain-12-as-paid-subscriptions-top-860m/\n"
     ]
    },
    {
     "name": "stderr",
     "output_type": "stream",
     "text": [
      "\r",
      " 80%|████████████████████████████████████████████████████████████████▊                | 12/15 [49:57<13:33, 271.31s/it]"
     ]
    },
    {
     "name": "stdout",
     "output_type": "stream",
     "text": [
      "7-28-2022  완료\n",
      "https://www.devex.com/news/can-social-entrepreneurs-make-africa-s-digital-boom-more-inclusive-103651\n",
      "https://siliconangle.com/2022/07/29/new-600m-financing-contentsquare-aims-humanize-digital-interactions/\n",
      "https://www.forbes.com/sites/forbeseq/2022/07/29/neobanking-is-here-to-stay-top-10-drivers-of-its-success/\n",
      "https://www.forbes.com/sites/forbesbusinesscouncil/2022/07/29/rise-of-the-digital-operator-in-bangladesh/\n",
      "https://www.pna.gov.ph/articles/1180163\n",
      "https://www.healthcarefinancenews.com/video/digital-transformation-care-indonesia\n",
      "https://www.forbes.com/sites/forbesbusinesscouncil/2022/07/29/the-rise-and-evolution-of-fintech-post-covid/\n",
      "https://www.eureporter.co/videos/cryptocurrency/2022/07/29/are-cryptocurrencies-about-to-make-fiat-money-obsolete/\n",
      "https://www.eureporter.co/videos/cryptocurrency/2022/07/29/are-cryptocurrencies-about-to-make-fiat-money-obsolete/\n",
      "https://www.bizjournals.com/jacksonville/news/2022/07/29/ufe_2022_darby_addison.html\n",
      "https://financefeeds.com/ing-veteran-elvira-kruger-appointed-head-of-transaction-services/\n",
      "https://www.pymnts.com/earnings/2022/pg-leverages-digital-to-drive-sales-internal-productivity/\n",
      "https://www.crowdfundinsider.com/2022/07/194212-pakistan-based-fintech-dbank-acquires-17-6m-via-round-led-by-sequoia-southeast-asia-kleiner-perkins/\n",
      "https://www.crowdfundinsider.com/tag/menai-financial-group/\n"
     ]
    },
    {
     "name": "stderr",
     "output_type": "stream",
     "text": [
      "\r",
      " 87%|██████████████████████████████████████████████████████████████████████▏          | 13/15 [54:18<08:56, 268.34s/it]"
     ]
    },
    {
     "name": "stdout",
     "output_type": "stream",
     "text": [
      "7-29-2022  완료\n",
      "https://www.crowdfundinsider.com/tag/bnz/\n"
     ]
    },
    {
     "name": "stderr",
     "output_type": "stream",
     "text": [
      "\r",
      " 93%|███████████████████████████████████████████████████████████████████████████▌     | 14/15 [54:37<03:12, 192.93s/it]"
     ]
    },
    {
     "name": "stdout",
     "output_type": "stream",
     "text": [
      "7-30-2022  완료\n",
      "https://www.pymnts.com/news/b2b-payments/2022/fintech-think-big-solutions-offers-tredx-digital-factoring-platform/\n",
      "https://www.forbes.com/sites/stevedenning/2022/07/31/how-novartis-is-finding-the-path-to-be-a-digital-winner/\n",
      "https://www.crowdfundinsider.com/2022/07/194260-id-finance-spain-releases-results-for-h1-2022/\n",
      "https://www.crowdfundinsider.com/2022/07/194200-veritran-glassbox-to-enhance-cx-in-the-financial-services-sector/\n",
      "https://www.pymnts.com/news/digital-banking/2022/as-macro-headwinds-mount-uk-neobanks-revisit-the-profit-vs-growth-debate/\n",
      "https://www.barrons.com/articles/stocks-to-watch-this-week-amd-paypal-starbucks-uber-paramount-51659294024\n"
     ]
    },
    {
     "name": "stderr",
     "output_type": "stream",
     "text": [
      "100%|█████████████████████████████████████████████████████████████████████████████████| 15/15 [55:17<00:00, 221.19s/it]"
     ]
    },
    {
     "name": "stdout",
     "output_type": "stream",
     "text": [
      "7-31-2022  완료\n"
     ]
    },
    {
     "name": "stderr",
     "output_type": "stream",
     "text": [
      "\n"
     ]
    }
   ],
   "source": [
    "restart = 1080\n",
    "for date in tqdm(list(data)[restart:]):\n",
    "    for idx,url in enumerate(data[date][0]):\n",
    "        try:\n",
    "            article = Article(url)\n",
    "            article.download()\n",
    "            article.parse()\n",
    "            v = article.text\n",
    "            df_trans[date][0][idx] = v\n",
    "\n",
    "        except:\n",
    "            print(url)\n",
    "    date = date.replace('/','-')\n",
    "    with open(r'C:/Users/Notebiz003/BerTopic/news/' + 'news-' + date + '.pickle','wb') as f:\n",
    "        pickle.dump(df_trans,f)\n",
    "    print(date,' 완료')"
   ]
  },
  {
   "cell_type": "code",
   "execution_count": 2,
   "id": "50aed3b4",
   "metadata": {
    "scrolled": true
   },
   "outputs": [
    {
     "ename": "NameError",
     "evalue": "name 'df_trans' is not defined",
     "output_type": "error",
     "traceback": [
      "\u001b[1;31m---------------------------------------------------------------------------\u001b[0m",
      "\u001b[1;31mNameError\u001b[0m                                 Traceback (most recent call last)",
      "\u001b[1;32m<ipython-input-2-f055dc1ba60f>\u001b[0m in \u001b[0;36m<module>\u001b[1;34m\u001b[0m\n\u001b[1;32m----> 1\u001b[1;33m \u001b[0mdf_final\u001b[0m \u001b[1;33m=\u001b[0m \u001b[0mdf_trans\u001b[0m\u001b[1;33m.\u001b[0m\u001b[0mT\u001b[0m\u001b[1;33m.\u001b[0m\u001b[0mcopy\u001b[0m\u001b[1;33m(\u001b[0m\u001b[1;33m)\u001b[0m\u001b[1;33m\u001b[0m\u001b[1;33m\u001b[0m\u001b[0m\n\u001b[0m\u001b[0;32m      2\u001b[0m \u001b[1;33m\u001b[0m\u001b[0m\n\u001b[0;32m      3\u001b[0m \u001b[0mi\u001b[0m \u001b[1;33m=\u001b[0m \u001b[1;36m0\u001b[0m\u001b[1;33m\u001b[0m\u001b[1;33m\u001b[0m\u001b[0m\n\u001b[0;32m      4\u001b[0m \u001b[0mj\u001b[0m \u001b[1;33m=\u001b[0m \u001b[1;36m2\u001b[0m\u001b[1;33m\u001b[0m\u001b[1;33m\u001b[0m\u001b[0m\n\u001b[0;32m      5\u001b[0m \u001b[0mdf_final\u001b[0m\u001b[1;33m[\u001b[0m\u001b[1;36m0\u001b[0m\u001b[1;33m]\u001b[0m\u001b[1;33m[\u001b[0m\u001b[0mi\u001b[0m\u001b[1;33m]\u001b[0m\u001b[1;33m[\u001b[0m\u001b[0mj\u001b[0m\u001b[1;33m]\u001b[0m\u001b[1;33m\u001b[0m\u001b[1;33m\u001b[0m\u001b[0m\n",
      "\u001b[1;31mNameError\u001b[0m: name 'df_trans' is not defined"
     ]
    }
   ],
   "source": [
    "df_final = df_trans.T.copy()\n",
    "\n",
    "i = 0\n",
    "j = 2\n",
    "df_final[0][i][j]"
   ]
  },
  {
   "cell_type": "code",
   "execution_count": 93,
   "id": "2b2d37d2",
   "metadata": {},
   "outputs": [
    {
     "ename": "SyntaxError",
     "evalue": "invalid syntax (<ipython-input-93-47f40dd341c4>, line 1)",
     "output_type": "error",
     "traceback": [
      "\u001b[1;36m  File \u001b[1;32m\"<ipython-input-93-47f40dd341c4>\"\u001b[1;36m, line \u001b[1;32m1\u001b[0m\n\u001b[1;33m    [x if 'https://www.' in x for x in df_final[0][0]]\u001b[0m\n\u001b[1;37m                              ^\u001b[0m\n\u001b[1;31mSyntaxError\u001b[0m\u001b[1;31m:\u001b[0m invalid syntax\n"
     ]
    }
   ],
   "source": [
    "[x if 'https://www.' in x for x in df_final[0][0]]"
   ]
  },
  {
   "cell_type": "code",
   "execution_count": 31,
   "id": "1f8c31be",
   "metadata": {},
   "outputs": [],
   "source": [
    "name = 'news-7-31-2022.pickle'\n",
    "with open('C:/Users/Notebiz003/BerTopic/news/' + name, 'rb') as f:\n",
    "    data = pickle.load(f)"
   ]
  },
  {
   "cell_type": "code",
   "execution_count": 32,
   "id": "571eeef1",
   "metadata": {},
   "outputs": [],
   "source": [
    "df_final = data.T"
   ]
  },
  {
   "cell_type": "code",
   "execution_count": 55,
   "id": "0d5c28a3",
   "metadata": {
    "scrolled": true
   },
   "outputs": [],
   "source": [
    "for idx, _ in enumerate(df_final[0]):\n",
    "    tmp = []\n",
    "    for i in df_final[0][idx]:\n",
    "        if 'https://' not in i:\n",
    "            tmp.append(i)\n",
    "    df_final[0][idx] = tmp"
   ]
  },
  {
   "cell_type": "code",
   "execution_count": 20,
   "id": "5cf17510",
   "metadata": {},
   "outputs": [
    {
     "name": "stdout",
     "output_type": "stream",
     "text": [
      "https://www.forbes.com/sites/lizfrazierpeck/2019/08/01/want-to-teach-your-young-child-about-finance-here-are-five-simple-activities-to-get-you-started/\n",
      "https://www.pymnts.com/news/partnerships-acquisitions/2019/amex-digital-payments-firm/\n",
      "https://www.forbes.com/sites/suzannerowankelleher/2019/08/01/everyones-social-security-number-has-been-compromised-heres-how-to-protect-yourself/\n"
     ]
    }
   ],
   "source": [
    "for i in df_final[0][0]:\n",
    "    if 'https:' in i:\n",
    "        print(i)"
   ]
  },
  {
   "cell_type": "code",
   "execution_count": 17,
   "id": "16dc2168",
   "metadata": {},
   "outputs": [
    {
     "data": {
      "text/plain": [
       "30"
      ]
     },
     "execution_count": 17,
     "metadata": {},
     "output_type": "execute_result"
    }
   ],
   "source": [
    "len()"
   ]
  },
  {
   "cell_type": "code",
   "execution_count": 18,
   "id": "848cae22",
   "metadata": {},
   "outputs": [
    {
     "data": {
      "text/plain": [
       "['Newspapers have lost about 57% of their ad and circulation revenue.\\n\\nOf newspapers that did cuts in 2018, 31% did so at least twice.\\n\\nAbout 1 in 10 newspapers tracked by Pew had layoffs in 2017 and 2018.\\n\\nAbout 1 in 4 American newspapers did layoffs in 2018 as they continued to grapple with declining revenue amid the rise of online news, smartphones and social media.\\n\\nA new report by the Pew Research Center found that midsize newspapers were most likely to cut jobs last year.\\n\\nBut digital news outlets aren\\'t immune either. About 1 in 7 digital outlets also did layoffs.\\n\\nTaken together, the results illustrate how the press is staggering as it continues its quest for financial sustainability in the digital age.\\n\\n\"Newspapers are continuing to be pummeled by layoffs,\" said Elizabeth Grieco, senior writer and editor at the Pew Research Center and author of a statistical analysis on the study.\\n\\nFaced with the loss of ad dollars to companies like Google and Facebook, many news companies have been gasping for air. Newspapers lost about 57% of their advertising and circulation revenue and about 49% of their weekday print circulation from 2000 to 2018, according to the Pew Research Center.\\n\\nUSA TODAY is among the news organizations that have done layoffs in recent years as its parent company, Gannett, pursues a digital transformation. Gannett is reportedly considering a merger with newspaper chain GateHouse Media, which has also done rounds of layoffs, in a bid to cut costs and gain scale in competition for digital revenue.\\n\\nAnalysts say the deal could give the combined company a chance to reinvest in newsgathering to attract readers to paid digital subscriptions and bolster online ad dollars.\\n\\nOther news organizations that have reportedly laid off workers recently have included the Cleveland Plain Dealer, the Dallas Morning News, the New Orleans Times-Picayune, BuzzFeed, HuffPost and CNN.\\n\\nShould Gannett, GateHouse make a deal?:Is consolidation the key to a digital journalism transformation?\\n\\nFirst-quarter earnings:Gannett revenue falls, digital subscriptions rise as fight continues with MNG\\n\\nThe Pew study, which examined newspapers with Sunday circulation of at least 50,000, found that 27% of newspapers did layoffs in 2018. That was down from 32% in 2017.\\n\\nBut places with multiple rounds of job cuts increased. Of the newspapers that experienced layoffs, 31% did so at least twice in 2018, compared with 17% in 2017, Pew reported. And of the places where Pew was able to determine how many jobs were cut, 62% laid off more than 10 employees in 2018, compared with 42% in 2017.\\n\\nAbout 1 in 10 newspapers tracked by Pew in this study had layoffs in both 2017 and 2018.\\n\\n\"In other words, the papers that experienced staff losses in 2018 were for the most part different from those that did in 2017, widening the span of outlets with depleted staff,\" Pew reported.\\n\\nAmong newspapers with a circulation of 100,000 to 249,999, 35% did layoffs, while 29% of newspapers with at least 250,000 did the same.\\n\\nPew relied upon public reports to gather its data, which suggests there may have been more cuts.\\n\\nFollow USA TODAY reporter Nathan Bomey on Twitter @NathanBomey.',\n",
       " 'HOUSTON--(BUSINESS WIRE)--Consumers are paying with debit more often, and in a wider variety of ways, including e-commerce purchases, online bill payments and person-to-person (P2P) payments. This was a key finding of the 2019 Debit Issuer Study, commissioned by Discover Financial Services’ PULSE® debit network and conducted by Oliver Wyman.\\n\\nConsumer debit use continues to grow, driven primarily by purchases made without physical cards, according to the 14th annual installment of the study. E-commerce and other digital transactions grew nearly 24 percent year-over-year – more than five times faster than debit transactions initiated with a physical card. One in four debit transactions took place without the presence of a card in 2018, compared to one in five in 2017.\\n\\nConsumers are increasingly using debit for P2P transfers, business-to-consumer “push” payments and cardless consumer-to-business payments, most of which take place in mobile apps or online. Push payments are used for the disbursement of funds in cases such as paying gig-economy workers and settling insurance claims.\\n\\nAs a result of shifting payment patterns, debit use climbed to an average of 24.8 transactions per month per active card in 2018, compared to 23.7 in 2017. Annual spend per active card averaged $11,684, a nearly 8 percent increase year-over-year.\\n\\n“People are increasingly turning to debit whether they’re inserting a card at the point of sale, using an app or shopping online,” said Steve Sievert, executive vice president of Marketing and Brand Communications at PULSE. “Looking ahead, we expect the debit landscape to continue to evolve as issuers enhance anti-fraud measures, respond to changing consumer payments behavior and meet the consumer expectation of a frictionless payments experience.”\\n\\nAdditional study findings include growing interest in issuing contactless debit cards and developing digital customer-service capabilities.\\n\\nGrowth in Funds Transfer Services\\n\\nAlthough P2P transfers, push payments and other funds transfers account for just 6 percent of all debit payments made without a physical card, according to the study, the numbers are beginning to add up. An estimated 1.2 billion such payments were completed via debit cards in 2018, nearly all of which was incremental growth.\\n\\n“These are truly ‘faster payments’ that enable individuals and companies to send and receive funds quickly and easily,” said Judith McGuire, executive vice president of Product Management at PULSE. “We’ve had tremendous success with our account credit transfer service, for example, which uses a debit transaction to push money to consumer accounts.”\\n\\nInterest in Contactless Cards\\n\\nThe percentage of debit issuers that say they are interested in offering contactless cards nearly doubled year-over-year, with 70 percent planning to issue contactless cards by the end of 2020. Another 10 percent already issue some contactless debit cards. Only 20 percent of respondents said they have no plans to offer contactless cards.\\n\\n“Merchant acceptance of contactless cards has increased since the introduction of mobile wallets a few years ago,” said Tony Hayes, partner at Oliver Wyman and study principal. “Many issuers also said they don’t want to risk being left behind when it comes to contactless.”\\n\\nContactless cards are projected to represent as much as 60 percent of U.S. debit cards by the end of 2021 if financial institutions replace their existing card bases at their expected rates.\\n\\nFocus on Digital Transformation\\n\\nEnhancing digital capabilities is an important area of focus for issuers. When asked about their digital strategies, issuers reported offering, or planning to offer, an array of digital services that fall into four categories:\\n\\nProviding effective, uninterrupted access to funds through offerings such as self-service card replacement and issuance of virtual cards into mobile wallets upon account opening.\\n\\nDriving debit use and wallet share through services such as cardless ATMs, P2P payments and a listing of merchants with which a cardholder has stored his or her card data.\\n\\nEnhancing customer engagement through services that include self-service transaction disputes and card freezes.\\n\\nIncreasing security and controls by providing real-time account holder alerts and implementing multi-factor authentication for online or mobile purchases.\\n\\nDecline in Fraud Losses\\n\\nFor the third consecutive year, debit issuers’ average net fraud loss per debit transaction declined, sinking to 1.1 cents from 1.3 cents in 2017. Issuers’ average net fraud loss per active card declined to $3.24 per year in 2018 – about 10 percent less than in 2017.\\n\\nFraudsters are focusing on transactions initiated without a physical card, which accounted for 69 percent of fraud claims but only 24 percent of debit transactions in 2018. This compares to 66 percent of claims and 20 percent of transactions in 2017.\\n\\n“Effective fraud mitigation requires a layered approach that encompasses products, processes and people,” said McGuire. “We’re working internally, and with others in the payments ecosystem, to employ a range of solutions to help financial institutions identify and block fraud on a broader range of debit transactions.”\\n\\nFurther study details are available here.\\n\\nAbout the Study\\n\\nThe 2019 Debit Issuer Study is the 14th installment in the study series, commissioned by PULSE and conducted by Oliver Wyman, an independent management consulting firm. The study provides an objective fact base on debit issuer performance and financial institutions’ outlook for the debit business. Sixty-three institutions – including large banks, credit unions and community banks – participated in the study. The participants collectively issue approximately 158 million debit cards and represent 44 percent of the U.S. debit market. The sample is representative of the U.S. debit market in terms of institution type, geography and debit network participation.\\n\\nAbout PULSE\\n\\nPULSE, a Discover Financial Services (NYSE: DFS) company, is one of the nation’s leading debit/ATM networks. Financial institutions, merchants, processors and ATM deployers across the United States and around the world depend on PULSE’s comprehensive suite of products and services and its commitment to providing exceptional client service, flexibility, security and superior economics. PULSE serves as a resource for debit education, research and knowledge drawn from more than three decades of industry experience. For more information, visit pulsenetwork.com. For insights into the latest payments industry trends, visit Payments & You.',\n",
       " 'The UK has become something of a laboratory for newfangled digital banks, which are attracting thousands of new customers each day. But there are some big questions: Will bigger legacy banks eventually learn the fintech firms’ tricks? And will the so-called neobanks ever become profitable?\\n\\nTalking about profit when these companies are growing so quickly may seem gauche to some investors, but there’s a lot of venture capital money riding on the answers to these questions. London-based Monzo raised about $145 million last month, while Revolut is looking to take in $500 million or more from investors this year. Berlin-based N26, which also operates in the UK, has raised $470 million so far this year.\\n\\nLondon’s business circles were atwitter after an N26 executive told the Financial Times (paywall) that profitability isn’t a “core metric.” Young fintech firms are bleeding cash now as they spend on marketing and licenses for new markets, but some could potentially be profitable on a per-user basis if they weren’t spending so much on customer acquisition. Instead, they’re aiming to become big, global challenger banks.\\n\\nProfits aside, heady valuations suggest that investors are counting on rapid user growth to continue:\\n\\nMonzo $2.45 billion 2 million $1,225 per user N26 3.5 3.5 1,000 Revolut* 1.7 1.8 944 Facebook* 566 2,400 236 *Monthly active users\\n\\nCritics argue that digital upstarts are surging thanks to a small number of novel features—things like freezing and unfreezing a card if it’s misplaced—that older banks will copy, if they haven’t already. Traditional banks are also adding thousands of customers to their own apps: Barclays UK says it has 7.6 million (pdf) active mobile users as of April, up from 7.3 million at the end of 2018.\\n\\nBig banks have been slow to catch up, but they’re getting there. And when they do, the thinking goes, these institutions will roll out whizzy features inspired by fintech competitors to their millions of customers.\\n\\n“If they can do it before the challenger banks get to the mass market, then there will be less incentive for people to leave if the features are the same,” said Deborah O’Neill, a partner and UK head of digital at consulting firm Oliver Wyman.\\n\\nWill Sorby, the UK general manager at N26, points out that the digital bank is still launching new features, like making its savings product called Spaces more versatile and sophisticated. Likewise, rival Revolut began rolling out commission-free stock brokerage to European customers today.\\n\\nDeath by COBOL\\n\\nThe entrepreneurs behind the digital banks counter that older rivals rely on obsolete tech that may well run on COBOL, a programming language that made its debut in 1959. Even if the banks catch up to where the fintechs were years ago, the upstarts say, their tech will be too clunky to make the leap when the next round of innovation comes along. N26 claims its costs are one-sixth of the incumbent banks because its tech is more efficient and it doesn’t have to support the cost of bank branches. (The COBOL issue is a real problem, O’Neill said.)\\n\\n“I’ve heard of situations where core banking platforms are written in COBOL and the coders are starting to die out,” said Michael Kent, CEO of money transfer startup Azimo and a founder of Tandem, a neobank. “They’re spending billions and billion and billions to try to fix that huge technical debt.”\\n\\nFor institutions running on older technology, there are also startups that want to sell them neobank-style systems to help them catch up. ”Some of them are big bags of poorly designed spaghetti code that are going to cause their customers all sorts of headaches,” said Kent. “Some of them are fantastic, and they’re going to make a big difference to those banks who cant afford to build the technology themselves.”\\n\\nZeta, an Indian startup that was recently valued at $300 million (pdf), is one of the companies that sells this tech. Founder Bhavin Turakhia thinks shifts in digital banking will resemble the evolution of the internet, where banks are sort of like ISPs (providing lending and other core services involving the measurement of financial risk), and new fintechs provide an over-the-top service with a slick user interface, becoming more like a Facebook for money.\\n\\nAutomatic money\\n\\nThe holy grail for fintechs like N26 and Revolut is a kind of automated money, in which apps anticipate their users’ financial needs, notifying them when it’s time to refinance a mortgage, when they are overspending on their mobile phone bill, or not saving enough for retirement.\\n\\nIt may sound starry-eyed, but people who work in the industry say it is only a matter of time. For startups burning through cash to acquire legions of customers, this could help provide a path to profitability, whether that’s through a subscription service, broker-style fees for making recommendations, or some other way of making money based on the reams of data that their systems could collect. The trick is getting there before the venture capital money runs out, or someone else does it first.\\n\\n“AI in financial services is not bullshit,” Kent said. “If you’re not doing it you’re going to miss the boat.”',\n",
       " 'In life it is important to distinguish between marketing and reality. When it comes to invoice finance, one marketing myth that has persisted is that non-recourse invoice finance shifts payment risk from seller to funder.\\n\\nUnfortunately, non-recourse factoring is one of the most misunderstood subjects in commercial lending. As a result, companies undertaking some form of invoice finance, receivable finance or factoring tend to have the wrong expectation about this product, potentially incurring unnecessary costs and not truly understanding the credit-risk relationship.\\n\\nBefore we talk about non-recourse, let’s define recourse factoring. In recourse factoring, contract language can state that in the event any purchased account is not paid and collected within 120 days of invoice for any reason, then the Factor shall have the right to charge back such account to seller.\\n\\nEssentially, recourse finance refers to if the funder purchases the invoice and the account debtor does not pay, or pays less than the full amount due to dilution (see Predicting Dilution is Key for Invoice Finance Solutions), the funder can then cover the deficit. They typically do this with the second installment payment. Note that in most factoring transactions, the invoice is purchased in two installments in an advanced amount (70-90% of invoice value), and the final payment costs less when the account debtor pays.\\n\\nMost factoring companies (though not all) define non-recourse factoring along the lines of:\\n\\nNon-recourse factoring is a type factoring facility in which the factoring company assumes the risk of non-payment if the customer does not pay the invoice due to an insolvency during the factoring period.\\n\\nNon-recourse factoring only offers payment protection for the advance portion of the transaction. If the invoice defaults, you do not have to return the advance to the factoring company.\\n\\nBut non recourse factoring has been “sold” as a total shift of risk. Lets look at an example. An invoice is issued on 15 July, bought on a non recourse basis on 20 July, and to be paid by Account Debtor on 25 Aug. If the Account Debtor goes insolvent in that time period, the customer still receives the advance payment by the funding institution. But the risk of insolvency of the Account Debtor during this time period is highly unlikely in such a short time span. It is easy to predict bankruptcy in the next 45 to 90 days, because of that, risk is low.\\n\\nWhat non recourse doesn’t cover is dilution, and that’s why non recourse is marketing spin. The risk for the invoice finance, or factoring or Asset based lender is during day 20 July to 25 Aug. After that, the lender has recourse, because non payment can happen for many reasons besides insolvency.\\n\\nCompanies typically pay more for non-recourse financing as a supplier because the factor is assuming more risk. The reality as shown above is the risk is very low. There are new forms of factoring, call it digital invoice finance or factoring 2.0, where an invoice or portfolio of invoices are purchased from the sellers accounting system, so it is issued and “verified” but not approved by his customer (or buyer). The advantages of digital invoice finance are many compared to traditional invoice finance, such as no application fees or additional charges, no long-term commitments and, of course, no confusion around recourse and non-recourse.\\n\\nRemember, definitions on the internet about non-recourse factoring tend to make it look like the company has no liability with any uncollected invoices coming from the account obligor and the factor absorbs all the payment risk. Non-recourse typically just applies during the period of time until payment due date from the account debtor.\\n\\nAs usual, the devil is ALWAYS in the detail!\\n\\nDavid Gustin runs a research and advisory practice centered on helping financial institutions, vendors and corporations understand the intersection of trade credit, payments and the financial supply chain. This post was written while David worked on a special project with The Interface Financial Group.',\n",
       " 'New Delhi: The postal department said it has decided to convert the India Post Payments Bank into a small finance bank, enabling it to offer small loans to customers.\\n\\nBesides, the department looks to open one crore accounts for IPPB in 100 days.\\n\\nThe decisions were taken at the annual Heads of Circles Conference held at Srinagar in Jammu and Kashmir from July 29-31, 2019 to adopt a 100-day action plan and a five-year vision to align the Department of Posts with the Prime Minister\\'s “New India\" initiative, a statement from the postal department said.\\n\\nThe decision included \"Converting the India Post Payments Bank (IPPB) into a Small Finance Bank (SFB) to provide micro credit at the doorsteps to individuals and SME’s. Targeting the milestone of one crore accounts for IPPB in 100 days\" among several other steps.\\n\\nIndia Post will partner with Common Service Centre to provide a suite of citizen centric services such as banking, remittance, insurance, DBT, bill and tax payments etc at post offices, the statement said.\\n\\nThe postal department has decided to develop infrastructure to extend the reach of the e-commerce industry to tier 2 and 3 town as well as to rural areas by investing in 190 parcel hubs, 80 Nodal Delivery Centers and a Pan India Road Transport Network.\\n\\nTelecom Minister Ravi Shankar Prasad at the conference urged the officers of the Department at all levels to think to reform and perform in order to transform.\\n\\n\"In particular, he asked the Heads of Circles to leverage technology to strengthen Digital India by adopting Artificial intelligence, IOT and Cloud computing for citizen centric services,\" the statement said.\\n\\nThis story has been published from a wire agency feed without modifications to the text. Only the headline has been changed.\\n\\nSubscribe to Mint Newsletters * Enter a valid email * Thank you for subscribing to our newsletter.\\n\\nTopics',\n",
       " \"Digital-only banks are redefining retail banking in major markets around the world. Spurred on by consumer frustrations with incumbents and growing willingness to use digital channels for accessing financial services, these tech-savvy players have acquired customers at pace and ramped up pressure on established firms.\\n\\nIn the US, these challengers got off to a slower start than elsewhere, especially compared with Europe. But they've begun gaining traction in the last year.\\n\\nOne of the most unique players at the forefront of this disruption, though, is challenger brand Marcus, launched not by a startup, but by Wall Street giant Goldman Sachs.\\n\\nTo understand why Goldman launched Marcus and how it's disrupting retail banking in the US, Insider Intelligence spoke with Omer Ismail, US head of consumer digital finance in the Americas for Goldman Sachs. From this discussion, we created a full case study on the challenges, strategies, and results of Marcus’ launch.\\n\\nSimply enter your email address to receive a download of our full case study on Goldman Sachs and Marcus completely FREE!\",\n",
       " '5. The Right It\\n\\nby Alberto Savoia:\\n\\nRecommended by John Mullins, Associate Professor of Management Practice\\n\\nNobody changes the world more than entrepreneurs, whether that means inventing automobiles instead of faster horses (Henry Ford); putting computing technology on desks instead of on the floor (Steve Jobs) – and then in our pockets as smartphones (Jobs, again); creating mobile wallets in Kenya (Nick Hughes, M-PESA); and more.\\n\\n\\n\\nBut the “Law of Market Failure” reminds us that 70-90% of new products and new ventures fail. What, then, are would-be changemakers to do to improve upon these dismal odds? v Alberto Savoia’s new book provides a proven set of tools to flip those odds. Citing examples of companies that built The Wrong It (New Coke, the Ford Edsel, and more), he argues that it’s vitally important that you “make sure you are building The Right It before you build it right.” Savoia, the first Director of Engineering at Google, says the key to doing so lies in his notion of “pretotyping”, that is, creating an artifact that precedes a prototype and facilitates the gathering of Your Own real-world Data (YODA) that indicates whether one’s new venture idea is likely to be The Right It – or not.\\n\\n\\n\\n“But isn’t that a prototype?” one might ask. Prototypes, Savoia points out, exist largely to determine whether an idea for a product or service can be built, how, what’s the best configuration, and so on. A pretotype, on the other hand, is intended to validate, quickly and extremely cheaply, whether an idea is worth pursuing in the first place.\\n\\n\\n\\nChock full of examples of sometimes brilliant, sometimes goofy ideas (Second Day Sushi, anyone?), this practical and easy-to-read book should be required reading for every aspiring entrepreneur.',\n",
       " 'The Spanish publication ABC reported last week that Maduro’s administration has devised a new scheme to convert payment for airline taxes into Bitcoin and eventually dollars. The report cites airport sources who say that government officials use digital wallets to transfer the digital currency to exchanges in Hong Kong, Russia, China, and Hungary, where they convert them into dollars and then transfer the cash to Venezuelan government accounts in those countries. This gets them around US sanctions that block Venezuelan government accounts from the dollar-based system.\\n\\nVenezuela’s leaders aren’t the only ones who seem convinced that blockchain technology could form the foundation of a new financial system that operates outside America’s reach. According to a new report, Iran, Russia, and China may soon join them in the league of “crypto rogues.”\\n\\nThe dollar is broadly accepted as the world’s reserve currency, meaning that foreign governments stockpile dollars and use them to participate in international trade. What this means is that much of global trade must run through US banks, and the US government can gain leverage during a conflict by cutting off adversaries’ access to dollars. For decades, there hasn’t been a good way to “conduct significant international commerce without moving through the pipes of the US-led global financial system,” write the authors of the new report from the Foundation for Defense of Democracies (FDD), a think tank in Washington. Now, they say, “new pipelines are being built” using blockchain technology.\\n\\nIn the near term, we’re likely to see small-scale sanctions-evasion operations (as in Venezuela) that use existing coins and cryptocurrency exchanges, says Yaya Fanusie, coauthor of the report. In fact, we’ve already seen it from North Korea: in March, a panel of experts reported to the United Nations that North Korean state-sponsored hackers stole more than half a billion dollars’ worth of cryptocurrency from online trading platforms between 2017 and 2018.\\n\\nBut Fanusie and his coauthor Trevor Logan argue that the four “crypto rogue” nations on which they focus—Russia, Iran, and China in addition to Venezuela—are actively exploring the long-term potential of blockchains to help them engage in trade without having to rely on US dollars. Today’s cryptocurrency infrastructure is too slow and inefficient to be a legitimate competitor to the US-led system. If these nations can find ways to overcome these technical roadblocks, however, this could change.\\n\\nCritics have described the national-security-focused FDD as hawkish, particularly toward Iran. But the authors’ arguments are generally supported by government statements and news reports.\\n\\nRussia\\n\\n“Moscow is prioritizing blockchain technology advancement as a long-term economic and national security goal to lessen the impact of US sanctions and diversify its foreign currency reserves,” write Fanusie and Logan. In 2017, according to the New York Times, a Russian intelligence officer told attendees at an international blockchain meeting: “The internet belonged to America. The blockchain will belong to the Russians.” President Vladimir Putin has said that Russia should explore the use of blockchain technology, in part to “avoid various limitations in global finance trade.”',\n",
       " 'Hedge fund manager turned cryptocurrency investor Michael Novogratz cautioned that the stock market is nearing the end of its historic rally.\\n\\nBased on the broader global environment, the former Fortress fund manager said he\\'s skeptical of the risk-reward payoff for stocks.\\n\\n\"I think we\\'re long in the cycle,\" Novogratz, head of cryptocurrency merchant bank Galaxy Digital, told CNBC\\'s \"Squawk Box\" Thursday. \"This could be the last leg of this giant, decade-long liquidity driven rally. When you really step back, the macro is dangerous and you\\'re going to surf this last leg of the rally.\"\\n\\nNovogratz pointed to Hedge fund kingpin Ray Dalio\\'s recent LinkedIn post that made a case for gold and described a \"paradigm shift\" in markets. The Bridegewater Associates leader said the value of money is \"being depreciated and domestic and international conflicts are significant, such as gold.\"\\n\\nMuch of that \"paradigm shift\" has to do with monetary policy, he said. The Federal Reserve cut its benchmark interest rate by a quarter point on Wednesday, following a three-year cycle of raising rates from the near-zero levels implemented during the financial crisis.\\n\\n\"We\\'re in a strange paradigm for investing in general,\" Novogratz, who is also a former Goldman Sachs macro trader, said. \"It\\'s why lots of guys are buying gold, a lot of guys are skeptical of the equity market.\"\\n\\nNovogratz also highlighted negative bond yields in Europe, the flattening yield curve and risk premiums coming off as a bid for buying gold. Novogratz was an early bitcoin investor and has argued that it has similar safe-haven investment qualities. He also started a cryptocurrency-focused merchant bank Galaxy Digital, which went public on a Canadian stock exchange last year.\\n\\n\"Bitcoin is not going to be a payment currency — it\\'s going to be just like gold,\" Michael Novogratz told CNBC in May. \"It won that lane.\"',\n",
       " 'Hardskills co-founders (l-r) Anthony Hayward, Shoba Purushothaman, and Krish Menon.\\n\\nShoba Purushothaman, a founder of multiple startups in the last 18 years, used to dislike the idea of special programs designed give women a leg-up in the startup world. “I grew up in Malaysia,” Purushothaman told Yahoo Finance UK. “For my entire childhood I had a negative view on anything that was affirmative action.”\\n\\nHowever, in 2001, she was trying to get her digital news-video platform The NewsMarket off the ground and decided to participate in a women entrepreneurs forum called The Springboard and raised $3 million from it. “That was a game changer for me because I realised the benefits you can get,” she said.\\n\\nPurushothaman’s fund-raising experience mirrors that of hundreds of other women founders. According to Pitchbook, just over 2% of a total of $130 billion in venture capital invested in the US last year went to female founders. Things are no better in Europe: Atomico’s State of European Tech 2018 report said all-male-founded startups scooped 93% of capital investment and accounted for 85% of the deals.\\n\\n“Not a social initiative”\\n\\nFor the past three months, Purushothaman and her co-founders at Hardskills — an online platform that helps companies train their workforce in behavioural skills—have been one of six startups in SAP’s new B2B diversity accelerator in Berlin.\\n\\nThe German giant, a market leader in enterprise application software, launched the SAP.iO No Boundaries initiative in January, with the goal of incubating underrepresented entrepreneurs to drive inclusive entrepreneurship and level the playing field. It plans to boost 200 such startups by 2023.\\n\\nSAP chief strategy officer Deepak Krishnamurthy told Yahoo Finance UK that their goal is to help the startups be successful and “create an ecosystem that makes our solutions more valuable for our customers.”\\n\\nSAP does not take equity in the startups in the program, or own their intellectual property; they remain independent and can sell their products to whoever they like.\\n\\nStory continues\\n\\nThe strategy chief views the investment in the diversity program as a financial opportunity for the company.\\n\\n“If we are able to identify teams that other people are not investing in or accelerating, it’s going to help us transform into a growth company and an innovation company, and this is a huge part of our strategic focus,” he said.\\n\\nSAP.io No Boundaries accelerator.\\n\\nKrishnamurthy emphasised that the diversity accelerator is “not a social initiative.” SAP has learned from programs they have already run in New York and San Francisco that the quality of the startups led by women or minorities was “at par or even better compared to the all-male founding teams,” in terms of performing better, being more inclusive in the way they hire, and being able to create much more value.\\n\\nA 2018 Boston Consulting study of 1,700 companies of various sizes, and sectors across eight countries found that firms with above-average diversity on their leadership teams reported better overall financial performance.\\n\\n“At the end of the day, SAP is a big company, we are for-profit, and this is still a business initiative for us,” Krishnamurthy said. “We think that these are great companies that we would love to work with and having a program like this helps us bring them to our ecosystem, rather than going to some other ecosystem.”\\n\\nHe adds that ultimately nurturing the best of diverse startups helps both parties grow: “They’re not getting a break from us — they have to be at the same level that any other company needs to meet to be an SAP.io company.”\\n\\nCredibility and clout\\n\\nWith her time at the accelerator almost up, Purushothaman said it has been “definitely one of the best decisions we have made as founders.” The key advantages for Hardskills has been getting their software integrated with SAP, the validation and credibility that comes with being in the SAP app center, and access to its “gold mine” of partners and customers—it has around 400,000 customers.\\n\\n“We have gotten in front of several of SAP’s biggest customers, these are DAX top 10 companies, and we been integrated within Success Factors [SAP’s human resource management software], so SAP clients will be able to use us more easily and establish business relationships with us,” she said.\\n\\nFrom the other side, Purushothaman has noticed that the startups have brought fresh ideas and approaches into SAP too. “I certainly felt that they [the SAP people] get emboldened by the fact that it is possible to be unconventional,” she said. “I think there is definitely a recognition that ‘startups are going straight to our customers, we need to understand and learn from this because we need to be at the very least informed about what they are selling our customers’.”',\n",
       " 'https://www.forbes.com/sites/lizfrazierpeck/2019/08/01/want-to-teach-your-young-child-about-finance-here-are-five-simple-activities-to-get-you-started/',\n",
       " 'Four Senegalese start-ups have received coaching and help in drawing up business growth plans from Ernst & Young (EY), as part of the AgriHack Talent initiative. Here, we look back at a successful pilot project that bodes well for fruitful collaboration among CTA, a leading international consulting firm, and promising new businesses.\\n\\nCTA and EY joined forces to deliver entrepreneurship and business management training and support to four Senegalese start-ups, three of which took part in the Pitch AgriHack competition in 2016 and 2017:\\n\\nSooretul, an online retailer of locally grown food that also provides IT support services to women’s farming cooperatives;\\n\\nBaySeddo, a digital platform to boost investment and support agricultural production;\\n\\nAywajieune, a platform specialising in fish and seafood trading;\\n\\nMlouma, which uses digital technology to connect farmers and buyers.\\n\\nSupporting business growth and entrepreneurship\\n\\nThe start-ups each received five days’ worth of coaching. The package included a performance assessment using SMEAT, EY’s SME assessment tool. EY consultants reviewed each company’s strengths, weaknesses and degree of maturity, looking at five indicators:\\n\\nTeam (team-member engagement, diversity, distribution of tasks);\\n\\nValue proposition, how the start-up formulates its offering, and the extent to which it matches target-market demand;\\n\\nMastery of business processes (operations management);\\n\\nAccounting and financial management, operating expenses (OpEx), capital expenditure (CapEx), pricing policy, business value, fund-raising strategies to support business growth, etc.;\\n\\nMarket/customer dynamics, including existing customer relationships, customer acquisition, marketing, and the legal environment.\\n\\nThe consultants helped the start-ups draw up a one-year business growth plan – including recommendations on business practices, business models, revenue growth and sustainable profit growth – along with an online plan to track progress.\\n\\nAll four companies received above-average scores in the assessment on account of their success to date and their potential going forward. EY rated their performance as being on a par with start-ups it had assessed in other countries, but judged that they were in urgent need of support because they were operating in difficult business conditions. The consulting firm pointed in particular to the challenges they faced in accessing funding – a problem that could hinder efforts to execute their growth plans – and proposed areas where strategy could be improved.\\n\\nThe collaboration is a prime example of how, in addition to one-off competitions, the AgriHack Talent initiative encompasses a wide range of capacity-building activities, including financial management and business development support.\\n\\nEasing access to finance\\n\\nThe initiative includes several schemes to help businesses access finance, including the Pitch AgriHack, where start-ups compete for between €5,000 and €15,000 of seed capital. Direct financial awards aside, AgriHack Talent offers a range of other benefits. Start-ups – including non-pitch winners – are featured in publications, gain networking opportunities, and have a chance to attend regional, international and B2B events where they can connect with investors and other potential business partners.\\n\\nPositive outcomes\\n\\nWorking with EY proved an incredible opportunity for the start-ups to get insights from experts specialising in the West African business environment.\\n\\nThe companies are already reaping the benefits of the support they received. BaySeddo’s business growth plan, drawn up with EY’s support, has helped the start-up map out its future trajectory and secure a €100,000 investment from the DER, a business growth accelerator set up by the President of Senegal. “We now have a clearer picture of our business model and the wider market,” says Mamadou Sall, founder of BaySeddo. “We’ve been able to better segment our customer base, and we know exactly what our recruitment needs are. With EY’s support, we’ve also developed a more scalable model and added some clearer timings to our next steps.” Meanwhile, Sooretul CEO Awa Caba has used the growth plan she developed with EY to apply for various funding opportunities. In 2018, she won $100,000 (around €89,000) through the African Entrepreneurship Award (AEA), organised by BMCE Bank of Africa.\\n\\nEY’s methodology is particularly beneficial because it assesses performance against a set of metrics relevant to the challenges that any start-up faces when operating in a competitive market. For CTA, meanwhile, the tool gives us a clearer picture of the start-ups we work with – what their weaknesses are, where their potential lies, and what support they need. We hope to build on this successful pilot and bring the benefits of EY’s expertise to more start-ups, including the Pitch AgriHack winners in 2018 and 2019.',\n",
       " 'Data center News\\n\\nMichael Dell: 2008 Financial Crisis Delayed Dell EMC Merger\\n\\nMark Haranas\\n\\nDell Technologies CEO Michael Dell talks to CRN about the history and execution of his blockbuster $67 billion acquisition of EMC.\\n\\nShare this\\n\\nDell Technologies CEO and founder Michael Dell said the market-shattering $67 billion acquisition of EMC by Dell in 2016 might have happened years earlier, but the 2008 U.S. financial crisis postponed the merger of the two IT titans.\\n\\n“In 2001, we had created this alliance that we called Dell-EMC to bring EMC storage technology and Dell server technology together and it worked really well to the point where we were talking about combining the company in 2008-2009. But with the financial crisis in 2009, we couldn’t do that,” said Dell in an interview with CRN.\\n\\nDell said his company’s relationship with EMC took off in 2001, when Joe Tucci – who Dell had known since the 1990s -- was appointed president and CEO of EMC. Later that year, EMC and Dell formed a successful multi-year alliance by selling Dell servers together with EMC storage.\\n\\n[Related: Michael Dell On AI Innovation, 5G And His Vision For Dell Technologies]\\n\\nThe two CEOs began privately discussing the possibility of merging together in 2008 but the Great Recession that year delayed any potential deal from moving forward, according to Dell.\\n\\nFlashing forward to 2012, Dell was striving to evolve and transform his company by investing in new software capabilities which proved difficult due to “short-term” shareholders, he said.\\n\\n“Why was it hard? I think among our shareholder base, there were short-term oriented shareholders and long-term oriented shareholder. I’ll represent the long-term oriented ones because I’m kind of the ultimate long-term shareholder,” said Dell. “If you go back and read the analysts’ reports at that time, they weren’t too excited about the new things that we were doing. They certainly weren’t as excited as we were. We thought that by becoming a private company again, we could accelerate the transformation.”\\n\\nDespite concerns from shareholders, including activist investor Carl Icahn, Dell took his company private in 2013 with the goal of significantly investing in R&D, product innovation and sales. Dell said the plan worked out “extremely well.”\\n\\n“After going private was done, I called Joe Tucci – I’ve known Joe a long time, way before he joined EMC, I met him in 1994 – and said, ‘Let’s re-explore what we talked about back in 2008-2009?’” said Dell. “So fast forward to 2014, I’m talking to Joe Tucci saying, ‘Hey lets re-explore this.’ Because I knew if we could combine the No. 1 in servers, the No. 1 in storage, the No. 1 in all things software-defined infrastructure – VMware – that you’d have the essential infrastructure company and an incredibly powerful juggernaut. It wasn’t a quick decision. We started that discussion with Joe and we worked on it for more than a year in secret.”\\n\\nIn October 2015, Dell unveiled to the world its plan to buy EMC. The deal closed nearly a year later in September 2016.\\n\\nPrior to the Dell acquisition, solution providers said the messaging and culture across the EMC Federation – which included EMC, VMware, Pivotal and RSA -- was lacking clarity and comradery.\\n\\n“I know EMC was struggling with the messaging of the EMC Federation and how they were going to get everybody to work together,” said Vinu Thomas, CTO of New York-based Presidio, a $2.8 billion Dell EMC partner ranked No. 23 on CRN’s 2019 Solution Provider 500 list. “I knew that [putting it] in the hands of somebody like Michael, that’s going to be an easy way to get this fixed. … It was a really brilliant move when he decided to buy EMC in 2016. The acquisition of EMC purely from a storage perspective was brilliant. But in my mind, the acquisition of EMC was all the more greater for the hidden gem of VMware.”\\n\\nDell said both the technical and operational integration between Dell and EMC took some time but turned out to be a huge success. “There was tons of technical collaboration, tons of new products created, tons of innovation, we combined the channel programs together and there was lots of growth,” he said.\\n\\nThe merger spawned the formation of Dell Technologies which is currently a $91 billion infrastructure giant leading the worldwide market in servers, storage and hyper-converged infrastructure.\\n\\nThe Round Rock, Texas-based company generated $4 billion in server revenue in the first quarter of 2019, up 9 percent year over year, leading the global market with 20.2 percent share, according to research firm IDC. Dell is now the worldwide leader in storage with nearly $3 billion in sales, capturing 22.2 percent market share in first quarter 2019. In the rapidly growing hyper-converged infrastructure market, Dell dominated in the first quarter by capturing 32.2 percent share, with hyper-converged sales of $587 million, up 64 percent year over year.\\n\\nDell reentered the public market late last year, debuting on the New York Stock Exchange on Dec. 28, 2018. For Dell Technologies’ recent first fiscal quarter 2020, the company reported $21.9 billion in revenue, up 3 percent year over year.\\n\\n“So you put a plan out there, you execute behind it and do what you said you’re going to do – it creates a lot of momentum,” said Dell.',\n",
       " 'Utah’s governor recently signed into law H.B. 378, which created a sandbox program for companies providing “innovative financial products or services” in the state. The program, run by Utah’s Department of Commerce, requires companies to apply and meet certain requirements in order to participate in the sandbox. Importantly, H.B. 378 specifically includes “blockchain technology” within its scope.\\n\\nThe Utah Sandbox\\n\\nCompanies accepted into Utah’s sandbox are permitted to test their business models without any state license or authorization that might otherwise be required, including any federal law requiring state licensure, on a limited basis (i.e., up to 24 months).\\n\\nIn order to participate in Utah’s program, an applicant must have a physical location in Utah where testing of the product or service takes place, and the product or service may only be tested with Utah residents. Applicants must also provide information describing how the product or service will benefit consumers and is different from existing products or services, what risks consumers may face, and how the applicant plans to test the product or service.\\n\\nComparable Programs\\n\\nUtah is the third U.S. state to pass legislation establishing a sandbox for Fintech companies. Arizona passed its sandbox legislation in March 2018 and Wyoming enacted sandbox legislation in February of this year (see our post regarding Wyoming here).\\n\\nAt the federal level, regulatory sandboxes has been considered, though none have been implemented thus far. For example, Rep. Patrick McHenry (R-NC) introduced H.R. 6118, the Financial Services Innovation Act of 2016, which would have allowed innovative financial product and service companies to apply to federal agencies for exemptions from statutory or regulatory requirements, subject to terms approved by the applicable agencies. Last year, the Consumer Financial Protection Bureau created its Office of Innovation to identify certain areas, such as no-action letters and product sandboxes, that could help foster innovation.\\n\\nThere are also headwinds against the adoption of sandboxes, however. Securities and Exchange Commissioner Hester M. Peirce (who has been referred to as “crypto mom” for her support of innovation in the blockchain and digital asset space), spoke in May last year about regulatory sandboxes at a conference in Los Angeles, CA. In her speech, entitled “Beaches and Bitcoin,” Commissioner Peirce expressed skepticism about the effectiveness of regulatory sandbox programs:\\n\\n“My fear that regulators will grab hold of the shovels and buckets is why I am often wary of so-called regulatory sandboxes. I am entirely in favor of finding ways to make appropriate regulatory allowances that clear the way for innovation to flourish. What troubles me about sandboxes, however, is that the regulator is typically sitting right there next to the entrepreneurs. The regulator is facilitating and hosting the sandbox.”\\n\\nIn light of such concerns, companies operating in the blockchain and digital asset industry may opt to continue holding on to their own “shovels and buckets” rather than participating in a state-sanctioned sandbox, unless and until the advantages of participation become more clear. Others, however, may find that these sandboxes offer a period of light touch regulatory oversight, which enables them to build out proofs-of-concept without incurring impractical compliance costs at the start-up stage.\\n\\n[View source.]',\n",
       " 'https://www.pymnts.com/news/partnerships-acquisitions/2019/amex-digital-payments-firm/',\n",
       " 'Cookies on FT Sites\\n\\nWe use cookies and other data for a number of reasons, such as keeping FT Sites reliable and secure, personalising content and ads, providing social media features and to analyse how our Sites are used.',\n",
       " 'The Chartered Institute of Management Accountants (CIMA) has announced that it will end the practice of charging exemption fees for new students who hold a relevant degree or qualification.\\n\\nTaking effect from 1 August 2019, the change makes the CIMA the first professional body to remove exemption fees in the UK, and is designed to encourage accessibility and social mobility and to encourage students to start their studies and further support their career development.\\n\\nAndrew Harding FCMA, CGMA, Chief Executive of Management Accounting said: “CIMA students come from many different backgrounds and countries with a variety of educational experiences and qualifications, and the Institute believes that students should not be put at a disadvantage for undertaking prior learning in the accounting field.\\n\\n“By removing a significant barrier to entry into CIMA qualifications, we want to offer the opportunity to build a successful and sustainable career to as many individuals as possible and help create a diverse, dynamic and future-ready workforce.\\n\\n“We are setting a new standard for the accounting profession, and hope that other professional bodies will join us in delivering greater accessibility and equity in to the profession.”\\n\\nAny students who have been awarded and already paid for exemptions between 1 January and 31 July 2019, and who will be taking an exam between 1 August and 31 December 2019 will also be reimbursed by the CIMA, with the difference between the previous and new 2019 exam fees being credited to these student’s accounts.\\n\\nCIMA was founded over 100 years ago and claims to be the largest professional body for managing accountants and offers a training and qualifications in management accounting and other related subjects.\\n\\nThe body currently boasts over 117,000 students across 156 counties who are working towards their CIMA professional qualification and earning the Chartered Global Management Accountant (CGMA) designation.',\n",
       " 'LONDON (Reuters) - A pool of ten investment banks working on the London Stock Exchange Group’s $27 billion purchase of financial-data business Refinitiv could reap advisory fees of up to $100 million, according to industry estimates.\\n\\nFILE PHOTO: The Refinitiv logo is seen on a screen in offices in Canary Wharf in London, Britain August 1, 2019. REUTERS/Toby Melville\\n\\nThe acquisition ranks as Britain’s biggest deal so far this year and Europe’s second biggest after Novartis’s spinoff of its eyecare division Alcon in April, according to Refinitiv data.\\n\\nThe LSE said the transaction would be a “defining moment” in its history as it will transform the exchange operator into a major distributor as well as creator of market data competing with Michael Bloomberg’s financial data empire.\\n\\nInvestment bank boutiques have played a key role in engineering the deal.\\n\\nThey will potentially share an overall fee pot of $80-100 million along with some Wall Street banks, Freeman Consulting estimated.\\n\\nCanson Capital Partners, led by 50-year old Italian banker Matteo Canonaco, worked on the deal on behalf of Refinitiv’s majority owner Blackstone Group Inc, according to the LSE statement.\\n\\nCanonaco has worked closely with Refinitiv’s boss David Craig since 2013 and was recently joined by Evercore and Jefferies in shaping the deal when talks gained traction in May, four familiar with the matter sources said.\\n\\nEvercore and Jefferies were mentioned in the LSE statement as Refinitiv’s advisers.\\n\\nThomson Reuters Corp, which owns a minority stake in Refinitiv and is the parent company of Reuters, drafted in its long-term adviser Guggenheim Securities with 56-year old senior managing director Fares Noujaim leading the talks, the sources said.\\n\\nNoujaim, who worked at Bear Stearns for more than two decades and later became Bank of America Corp’s executive vice chairman of global corporate and investment banking, previously led the merger between Thomson Corporation and Reuters Group Plc back in 2008. Most recently he represented the Toronto-based firm when it sold Refinitiv to Blackstone in a deal that completed in October.\\n\\nAnother U.S. investment bank boutique, Centerview, has been involved in the deal on behalf of Thomson Reuters alongside Canada’s Toronto-Dominion Bank, the sources said.\\n\\nLSE tapped another independent advisory firm, Robey Warshaw, to handle the deal alongside Goldman Sachs and Morgan Stanley. Its corporate broker Barclays also acted as financial adviser and sponsor, according to the LSE statement.\\n\\nRobey Warshaw was previously involved in negotiating a failed merger between the LSE and Deutsche Boerse back in 2016.\\n\\nThe four banks working with LSE could share a pool of $40-50 million, Freeman estimated, and a similar windfall would go to the six banks representing Refinitiv’s shareholders.\\n\\nBlackstone and other minority investors, including Canada Pension Plan Investment Board and Singapore state fund GIC, will control 22% of the combined firm and get two board seats, while Thomson Reuters will have a 15% stake in LSE and one board seat.\\n\\nBlackstone and Thomson Reuters will be paid with LSE shares and will have to remain fully invested for at least the first two years as part of a lock-up arrangement which will come to an end on the fourth anniversary of completion.',\n",
       " 'Illustration by Christian Northeast\\n\\nA version of this article appeared in the Winter 2019 issue of strategy+business.\\n\\nJames Zhu knew the time had come to join Fanli as full-time chief operating officer in 2010, when the Shanghai-based startup first began to raise money. At the time, Fanli was an online shopping rebates service cofounded by an acquaintance, Gary Ge Yongchang, who ran it from his apartment’s living room. The startup period was difficult; China’s e-commerce market was still immature. The company had just two servers, one for the website and one for the database. Online speed was glacially slow. Fanli’s employees walked up and down Shanghai’s streets handing out cards to drum up interest. Ge initially paid out rebates using his personal credit cards.\\n\\nZhu was only helping out Fanli part-time; he had a senior role in the Shanghai office of Corel, a Canadian software company. “I had a great job,” he recalls. “I had a driver, oversaw a team of 200 people, and was paid quite a bit.” But institutional investors convinced him to come onboard as Fanli’s full-time chief operating officer. “They wanted me to have skin in the game,” he says. Within a year, he joined, and Fanli raised US$10 million in Series A funding (its first round of venture capital finance).\\n\\nNine years later, Fanli has grown into one of China’s largest e-commerce websites — an online directory and “flash event” company that matches Chinese shoppers with marketers from around the world, helping people find their most-desired goal (as Ge has been known to state it): “value for money: the best products at the lowest prices.” Fanli’s story is typical of about 200 rapidly growing Chinese “unicorns,” enabled by leading-edge digital technology, the burgeoning Chinese middle class, new capital-raising opportunities in Shanghai and elsewhere, and the enthusiastic entrepreneurialism of their founders.\\n\\nThe standard definition of a unicorn is a privately held startup valued at more than $1 billion. Currently, when people think of Chinese unicorns, they think of the handful of companies that have risen to global status in two decades or less: companies such as Alibaba, Baidu, JD.com, and Tencent. Since these few are already valued at $10 billion or more, they are now known as “superunicorns.” Many more Chinese unicorns are coming up behind them, still relatively unknown because they currently operate only within China, which is large enough to sustain them for some time. But sooner or later, many of this second wave of Chinese unicorns will grow into global industry giants.\\n\\nWhy Chinese unicorns grow\\n\\nCompanies like Fanli were once as elusive as their mythical namesakes. Just 39 unicorns existed in the United States in 2013, when Aileen Lee, founder of Silicon Valley investor Cowboy Ventures, coined the term. Now there are at least 334 around the world, with a combined valuation of more than $1 trillion. In China, as the Internet era has transformed business, unicorns have been created at an accelerating rate. Only the U.S. has as many as China. According to the May 2019 Greater China Unicorn Index from Shanghai-based research firm Hurun, there are currently more than 200 such companies in China (by comparison, the U.S. has more than 300), 21 of them having entered the ranks in the first quarter of 2019 — almost one per week. Hurun estimates that one-fifth of today’s Chinese unicorns will fail, one-tenth will be acquired, and most of the rest will go public successfully.\\n\\nIn mid-2018, to shed light on the unicorn phenomenon and its impact, PwC surveyed the chief executives of 101 young, successful Chinese companies — companies that either are unicorns now or are likely to become unicorns soon. These executives described the factors affecting their fast-growth businesses and their own prescriptions for success. Augmented since then with follow-up research, including in-depth interviews with the leaders of several of these companies, these results shed light on the nature of this new phenomenon, and the impact that Chinese unicorns are likely to have, in China and around the world.\\n\\nGet the strategy+business newsletter delivered to your inbox (sample) Email\\n\\nUnicorns are prevalent in at least 13 industrial sectors, with the largest numbers in four industries significantly shaped by technology: enterprise services, media and entertainment, transportation and automotive, and fintech (digital financial technology services). Examples in these sectors include ManBang Group, a pioneer in truck hailing; Meicai, a B2B platform for the agriculture industry; ByteDance, the developer of the content platform Toutiao and the popular 15-second video app TikTok; Yitu, which provides artificial intelligence (AI) services to business; Tuhu, which connects people to car-related services online; and the online brokerage Tiger Brokers. Close behind in the sector rankings are e-commerce startups, online-to-offline (O2O) businesses enabling online purchasers to pick up products in person or receive goods and services delivered instantly, and healthcare enterprises, with an emphasis on biotech.\\n\\nThe survey also seems to confirm the rapid growth rates of these companies. Of those leaders who disclosed financial information, 83 percent said revenues had increased by more than 50 percent in the previous fiscal year; more than half of that group said revenues had more than doubled. Most unicorns, of course, are privately held businesses, a model that can be conducive to rapid growth. As with industry everywhere, Chinese unicorns gravitate to large cities with skilled talent; 80 percent are headquartered in Beijing, Shanghai, Shenzhen, or Hangzhou. Like many of their Silicon Valley counterparts, they are tapping into new types of venture capital and other financial resources that might not have been available in the past.\\n\\nOne major advantage that Chinese unicorns enjoy is their near-exclusive access to a huge and vital domestic market. China is full of newly prosperous consumers with improving standards of living who are largely out of reach for companies from other economies. Consumer expenditures accounted for nearly 80 percent of overall economic growth in China in 2018, up from 58 percent in 2017, according to the National Bureau of Statistics. China’s consumers are also relatively technologically advanced. Online retail sales there have ranked first in the world since 2013, with the U.S. in the second position; in 2018, China’s online sales reached $1.33 trillion (just over ¥9 trillion), an increase of almost 24 percent over 2017. The mobile Internet is particularly important in China, where 800 million people, out of a total population of 1.4 billion, use handheld phones or devices to connect.\\n\\nThe rise of startups with $1 billion-plus valuations is regarded as an indicator of the continued strength of China’s domestic consumer economy, regardless of what happens to overseas trade or economic policy. Technological innovation is transforming the way people shop, travel, invest, eat, and choose entertainment. The generation born in the 1980s and 1990s is China’s most influential buying group, creating demand that fuels new business opportunities. Consumers are technologically adept and are interested in personalized, convenient, and AI-enhanced products and services.\\n\\n“The market is big,” says Zhu. “It has so much imagination and so much possibility…it is going to be able to support much bigger businesses.”\\n\\nIn Beijing, Shanghai, and other major Chinese cities, it is often significantly cheaper to have food delivered than to get it yourself, especially with O2O unicorn companies such as China Internet Plus (formerly Meituan-Dianping), Ele.me (purchased in 2018 by Alibaba), and Luckin Coffee (which delivers hot drinks to homes and offices). In many cities, electronics and groceries can arrive within hours of an order. Millions of Chinese people are becoming sophisticated consumers who can have a wide range of products or service providers, such as barbers, arrive at their door.\\n\\nMore PwC insights The New Chinese Unicorns: Seizing opportunity in China’s burgeoning economy\\n\\nThe mastery of digital technology is another key factor in these companies’ growth. Of the executive respondents, 76 percent identified big data as one ofthe most influential emerging technologies for business development and product innovation. AI ranked second, with 67 percent. Other emerging technologies that scored high were cloud computing (42 percent), the Internet of Things (37 percent), and 5G wireless transmission (34 percent). Blockchain, robotics, bioscience, virtual and artificial reality, and quantum science were all cited by fewer than 20 percent of respondents, and unmanned aerial vehicle technology was named by only 4 percent.\\n\\nSome unicorns, such as the facial recognition software maker SenseTime, are breaking new ground technologically. SenseTime, which has been called the world’s most valuable AI startup, was developed “out of the computer vision lab at the Chinese University of Hong Kong,” writes Rebecca Fannin in her forthcoming book, Tech Titans of China. “In China, about one-third of its customers are in the public security sector.… The client list also includes Chinese smartphone makers Xiaomi and OPPO, social networking service Weibo, Hainan Airlines, and payment systems China UnionPay. Outside of Mainland China, SenseTime has established a subsidiary in Japan to work with Honda to develop autonomous driving.” Fannin quotes CEO Xu Li, from a talk he gave at an entrepreneurial summit: “The world is facing East…. [In the past] we relied on the West for advanced technology and industrial modes. Now we must embark on a treasure voyage to better service other industries with advanced technology.”\\n\\nLong-range aspirations\\n\\nMany Chinese unicorns aim to go international over the next decade. More than 70 percent of the leaders of Chinese unicorn companies say they already have plans or strategies for overseas expansion. This is in part thanks to government encouragement: China’s Belt and Road Initiative emphasizes international “innovation-based open cooperation,” and China has introduced a series of measures to create a favorable environment for innovation. At first, most unicorns will probably stay rather close to home; their preferred locations are the Asia-Pacific region (31 percent), regions covered by the Belt and Road Initiative (19 percent), and North America (18 percent). But many may attempt to become full-scale global enterprises, either on their own or in partnership with companies from other regions.\\n\\nWhen it comes to growth, in fact, most of the unicorn leaders say they value independent, long-term development over flipping their companies for immediate gain. They want to create tomorrow’s great global enterprises; they’ll countenance an initial public offering (IPO) or alliance if it furthers those goals. For example, nearly half of the companies, 48 percent, planned to acquire outside businesses, but only 6 percent planned to be taken over by other companies.\\n\\nRaising capital to keep up with rapid growth requirements is thus a priority for nearly all the unicorns. Of the 101 survey respondents, 80 percent said they expected to undertake a new round of financing during the next two years. Within this group, nearly one-third — representing a quarter of the survey’s total respondents — said their plans for financing were urgent. Many will seek private equity funding or venture capital.\\n\\nAsked to name the most important factor when choosing investors, only 20 percent of the unicorn leaders said valuation. More respondents named the investors’ brand value (24 percent) or the business and traffic they brought in (22 percent). The top 10 institutional investors providing capital to Chinese unicorns, ranked by the number of these companies they invested in, are Sequoia, Tencent, IDG, Matrix, Alibaba, Shunwei, Warburg Pincus, Qiming, Morningside, and Baidu. This is a diverse group, and it includes three institutional investors (Baidu, Alibaba, and Tencent [BAT]) that are first-generation superunicorns themselves. The BAT investments are noteworthy: 23 percent of the Chinese unicorns have received funds from at least one of these three superunicorns.\\n\\nAs for public financing, PwC’s survey found few companies had immediate plans for an IPO. Of the enterprises that disclosed information in the survey, nearly two-thirds had plans to list within two years. But within this group, only 21 percent said their IPO would happen as soon as possible. Another 44 percent had plans to list but without the same urgency, and the remaining disclosing companies had no plans to list. The survey, conducted in 2018, identified Hong Kong as the most desirable destination to list, with 43 percent of the vote, and the U.S. and the Chinese Series A market trailed with 25 percent and 23 percent, respectively.\\n\\nFortunately for the companies that want to go public, China’s capital market system is evolving to accommodate them. For example, the Hong Kong Stock Exchange (HKEX) has developed an option for weighted voting rights, which are friendlier to startups, along with new rules designed to open doors to biotech companies that may not see direct revenues for several years.\\n\\nThe Chinese government has also signaled strong interest in luring technology-oriented businesses back to stock exchanges in mainland China, even if this means relaxing some of its vetting practices. Additionally, China launched a Nasdaq-style exchange, the Science and Technology Innovation Board, in July 2019, focusing on four sectors: biomedicine, materials, energy, and IT. On the first day, the 25 companies that listed IPOs gained, on average, 140 percent of their initial share price.\\n\\nOne of the most critical questions in financing is how long the investors must wait for companies to become self-sustaining businesses. Thirty-five percent of the unicorns surveyed had already made profits, and another 27 percent expected to start turning a profit within one to three years. Twenty-five percent did not disclose this information.\\n\\nEntrepreneurial spirit\\n\\nThough China is not always viewed in the West as an entrepreneurial culture, the unicorn leaders are tapping into a way of thinking that has been present for most of its history. “Traditionally, Chinese people have been starting their own businesses since ancient times,” says Shen Haiyin, founder of Singulato, a startup automaker. “In Japan, after graduating from college, most students prefer to work for big companies, such as Sony and Toshiba. But a bigger proportion in China join startups or start their own businesses.” Ambitious tech entrepreneurs see other companies reach a billion-dollar valuation and think “Why not me?”\\n\\nThe leaders of China’s unicorn companies cultivate an energetic, entrepreneurial frame of mind. Figures like Alibaba’s Jack Ma and Xiaomi’s Lei Jun are continually profiled and widely admired; startup experience is highly valued by investors and talent recruiters. Fully 70 percent of the founding members of unicorns have two or more startups already under their belt. As in Silicon Valley, unicorns favor the young: 88 percent of the survey respondents were in their 30s and 40s, and for 72 percent of the surveyed companies, the average employee age was under 30. The ability to manage and motivate younger employees is thus at a premium.\\n\\nThe companies are growing fast, in part, because their leaders feel they don’t have time to grow slowly. Three-quarters of the responding companies in PwC’s survey had been in business for less than eight years, and one-quarter of the respondents said their company was less than four years old. These leaders build their businesses around engaging user experience. Like tech companies everywhere, they emphasize speed and rapid, continuous improvement. They release products before they are fully tested, change their business models quickly as they learn from customer data (an app will typically have millions of users), lock up distribution partnerships early on, and use social media strategically. They do not hide their ambition to become champions of their market sectors, and in many cases they feel driven to launch entrepreneurial businesses just to survive in the high-pressure world of the Chinese middle class.\\n\\nLike tech companies everywhere, Chinese unicorns release products before they are fully tested, change their business models quickly, and use social media strategically.\\n\\n“The restlessness comes from social competition,” says Zhu at Fanli. “People here are very anxious. They tend to feel, ‘If I’m just going to work the way that was planned out for me, I’m not going to get where I want to go. So I want to take shortcuts. I want to try new things.’”\\n\\nAlthough the automotive industry is generally more mature elsewhere, in China it is the domain of startups. By some estimates, new Chinese auto manufacturers have raised a combined $18 billion since 2011; the companies include Aiways Auto, Leap Motors, NIO, Singulato, WM Motor, and Xpeng Motors. Government support for the electric vehicle (EV) sector — through subsidies for automakers and buyers, favorable lending, and tax breaks — has created a significant tailwind for these companies. China recently announced cuts to these subsidies, but it is still under pressure to combat smog, boost its own auto industry, and reduce its reliance on imported oil.\\n\\nSingulato, founded in 2014 in Beijing, is typical of the group in its stated ambition: to build a car for China’s smartphone generation. The company, whose name combines singularity (referring to an evolutionary threshold anticipated by some AI pioneers) and auto, is one of the biggest fundraisers in the crowded EV market. The company’s EVs are aimed mainly at young, tech-savvy consumers in Beijing, Shanghai, Shenzhen, and other large cities where buying a gasoline-powered car is becoming more difficult because of purchase restrictions imposed by the government. The first offering is a connected electric sport utility vehicle, and Singulato plans to evolve, in part through software-driven upgrades, toward autonomous vehicles.\\n\\nShen, Singulato’s founder, had never worked in the auto industry before launching the company. A fluent Japanese speaker, he cofounded JWord, a Japanese-language keyword-based Internet guide site, which he sold to Yahoo Japan in 2007. He then joined Kingsoft, one of the oldest Chinese software companies, before launching Singulato.\\n\\n“Singulato is trying to seize the historical opportunity, like when China started shifting from functional phones to smartphones,” says Shen. “We’re trying to build a smart EV to lead the industry from the traditional functional car to a truly smart car.”\\n\\nLiving with Chinese unicorns\\n\\nSome observers are skeptical about the future of Chinese unicorns. A recent article cited trade tensions and fluctuating investment levels to argue that many of these fast-growth tech companies may falter. Nonetheless, the overall impact — as with all issues related to Chinese commerce — could be far greater than expected, because of the scale of activity.\\n\\nFor example, Chinese unicorns will compete for talent. Competing for skilled employees is already a priority for 77 percent of the companies surveyed, and as they grow, that will increase, particularly in emerging technologies such as AI and blockchain. As the Singulato example suggests, unicorn leaders are increasingly interested in global opportunity in a variety of industries — as opposed to primarily producing online systems and apps for the Chinese market.\\n\\nWhen a large number of companies attract valuations of more than $1 billion after just a few years, it changes the nature of the economy. Unicorns will develop in other places; India already has a number of rapidly growing startups, and the United States is not expected to lose momentum.\\n\\nChina’s new unicorns will face numerous challenges, particularly as they grow and their need for talent and other resources scales up. They will increasingly find success by relying on managerial skill and effective use of the resources they possess. Not every Chinese unicorn will succeed; rivals may emerge to challenge or compete with them. But their rapid growth and global ambition suggest that they will not be unknown for long.',\n",
       " 'Universities that fail to deliver in the best interests of students could now face financial penalties of up to £500,000 as the final suite of powers for the sector regulator came into force today (1 August).\\n\\nSince launching in 2018, the OfS has already taken great strides in highlighting and tackling issues in the higher education sector, such as the rising proportions of Firsts awarded, levels of senior staff remuneration and increasing numbers of unconditional offers.\\n\\nIt now has statutory powers to impose financial penalties of up to £500,000 or two per cent of a university’s income from tuition fees and grants (whichever is highest) to ensure high standards and quality in higher education.\\n\\nIn addition to these powers, the OfS can already impose registration conditions on universities to ensure improvements are made in specific areas, such as eliminating gaps in access and attainment for disadvantaged groups. The regulator has already placed conditions on providers which they must meet, such as demanding greater evidence on the support, including financial support, they provide for disadvantaged students or requesting an action plan if student outcomes are poor.\\n\\nThe regulations in force today mean the thousands of students opening their A Level results in two weeks and starting university in September, will be the first of a new generation to receive the greatest protections of high-quality education.\\n\\nUniversities Minister Jo Johnson said:\\n\\nToday marks an important milestone for future students and our world-class higher education – one which I am pleased to see, having worked hard to drive through these reforms two years ago. Our vision for the OfS was for it to be a regulator with teeth and it has already made a significant impact on the sector. Now I expect it to use its full range of powers to ensure students up and down the country are at the heart of the system and receive value for money from our universities. For the thousands of young people collecting their A Level results this month and starting university in September, they can be confident that the OfS will be a champion for students which is able to take strong action. Our universities are world-leading and this reputation must be protected. I look forward to getting back to work to drive a focus on ensuring all students have a high-quality higher education which leads to a successful, fulfilling career.\\n\\nFrom today, the regulator also has the power to refuse to renew a university’s plan for widening access and participation among disadvantaged groups, which providers are submitting to the OfS over the summer for implementation in 2020-21.\\n\\nUniversities that wish to charge higher tuition fees must have an ‘access and participation plan’ which sets out how they will improve equality of opportunity for underrepresented groups to succeed in higher education. If institutions don’t meet these requirements (set out) the OfS will intervene and take appropriate action.\\n\\nWhere the OfS finds universities are not working in students’ interests, it can take action by placing additional conditions on an institution’s registration, refuse its registration, and in the most serious cases, remove an institution’s powers to award degrees.\\n\\nToday’s move will strengthen its ability to enhance the student experience, help universities maintain their global standing, and challenge providers who are not acting in students’ best interests.\\n\\nSir Michael Barber, chair of the Office for Students, said:',\n",
       " 'Cookies on FT Sites\\n\\nWe use cookies and other data for a number of reasons, such as keeping FT Sites reliable and secure, personalising content and ads, providing social media features and to analyse how our Sites are used.',\n",
       " 'Thanks in no small part to a barrage of news stories about smartphone spyware and misbehaving smart devices, there’s a growing awareness that the cameras and microphones in our digital companions can be hijacked by sophisticated threat actors to remotely spy and eavesdrop on users. But while it’s relatively straightforward for users of these devices to prevent illicit image capture by blocking built-in cameras, the complexities associated with blocking sound preclude a simple equivalent for microphones. To solve this gap in protection, sophisticated products have started to emerge that add noise near a device’s microphones to mask sound in vicinity of the device.\\n\\nThis article will explore why on-device audio masking is being used to fight digital eavesdropping and look at some considerations for maximizing the effectiveness of this technique.\\n\\nWhy audio data matters\\n\\nBefore discussing the ins and outs of preventing illicit audio capture, it’s helpful to look at why threat actors seek audio data in the first place.\\n\\nSensitive and confidential conversations, of course, are digital eavesdropping’s version of gold, as the information revealed in these discussions is often too sensitive or too fresh to be written down or recorded and therefore unavailable through other modes of hacking. Think of the foreign intelligence service learning about an adversary’s strategic moves well in advance or the corporate spy learning about a competitor’s product development while it’s still in the early stages.\\n\\nBut it’s not just long, uninterrupted sequences of dialogue that can be valuable to an eavesdropper. Random audio snippets, for example, can be pieced together to draw important conclusions, especially when the audio is accompanied with other data points. After the audio recordings of an Amazon Alexa user in Germany were mistakenly sent to another user, a neutral party listening to the audio files was able “to piece together a detailed picture of the customer concerned and his personal habits,” Gizmodo reported.\\n\\nAnd soon, eavesdroppers will be able to pick up information just from a person’s vocal characteristics. A team at Carnegie Mellon University, for example, is developing machine learning-fueled voice forensics technology that can potentially yield a person’s age, height, health status and much more from a voice sample. In fact, we’re already seeing artificial intelligence that reconstructs a person’s face like based on a single sound bite. These kinds of inferences will prove to be invaluable to spies the world over.\\n\\nSmartphone users might think, “I’ll just tape the microphones on my smartphone and laptop and that should keep the bad guys from listening.” Facebook CEO Mark Zuckerberg famously had a similar notion. Unfortunately, while providing a physical barrier over a microphone can muffle sound, the sound won’t be stopped completely. Plus, if hackers have the tools to remotely install spyware on a smartphone or tap into a smart speaker, they likely have access to audio forensics technology for deciphering conversations distorted by a piece of tape.\\n\\nExacerbating the problem is the fact that turning off the microphones in devices is impossible or impractical. With today’s popular smartphone models, users can disallow microphone access to any given app, but there’s no way to completely disable the microphones from use, short of removing them from the device. And while some smart speakers -- like the Amazon Echo and Google Home -- have buttons or switches for shutting off their microphones, manually switching these back on requires touching the device, defeating the purpose of having voice-activated technology in the first place.\\n\\nBring on the noise\\n\\nEnter audio masking. Similar to how white noise machines drown out the audio in a room, on-device audio masking -- whether delivered through an anti-surveillance smartphone case or smart speaker gatekeeper -- adds noise at the locations of the microphones. At the proper volume levels, the end result is that the device is essentially deafened, burying any valuable audio content beneath the noise floor of the masking signal and rendering recordings useless to eavesdroppers.\\n\\nBut not any noise will do. To prevent a conversation or audio snippet from being successfully deciphered using advanced audio forensics, the noise added to the audio mix must have the following three characteristics:\\n\\nRandom: The noise must be random, ideally generated using a true random number generator based on a source with high entropy. If the noise is repetitive or even pseudo-random, a recorded audio signal can be processed -- using two-channel adaptive filtering -- to essentially “subtract” the noise profile found in a reference file from the audio in a target file, delivering a version of the target file with significantly improved speech intelligibility. To help synchronize the timing of the two files, additional signal processing -- using fast Fourier transform analysis -- can help determine the repetition rate of the noise profile. Microphone-specific: The audio masking must occur independently for each microphone, whether for the four microphones found in the iPhone XR or the seven found in the second-generation Amazon Echo. Doing so prevents an eavesdropper from using cross-correlation or known pseudo-random patterns to extract the audio from the masked output. Adaptive: The level of audio masking must adapt to the volume of the audio being masked throughout the range of human speech (from a whisper to a shout). After all, if the level of audio masking were at maximum volume the entire time, the noise would be unbearable for the user, and if the level of audio masking stayed within a moderate range, it wouldn’t be able to adequately mask louder speech and sounds.\\n\\nWith these three characteristics, a conversation’s content (the words spoken) and context (accents, tones, number of participants, etc.) will be unidentifiable to an eavesdropper, as the final audio output will be indistinguishable from a recording of noise alone.\\n\\nOf course, having the best audio masking in the world is meaningless if it gets in the user’s way. Even though we may only want our microphones to be actively listening to us only a fraction of the time, we don’t want any hiccups when it comes to making phone calls, recording audio messages or using a device’s virtual assistant. For an audio-masking add-on for smartphones or other handheld devices, the solution is rather simple, as a physical mechanism can give the user control of when masking occurs. But a similar add-on for smart speakers requires some creativity; one novel solution allows the user to temporarily stop audio masking by speaking a custom wake word to the add-on, which then triggers the speaker by whispering the standard wake word.\\n\\nBecause our smartphones, smart speakers and other smart devices act as witnesses to our most private conversations and personal behaviors, limiting the exposure of these details while leveraging the powerful technology at our disposal is a challenging balancing act. On-device audio masking in an exciting development that promises to help us achieve that balance.',\n",
       " 'NEW DELHI : Bharti Airtel Ltd posted its first quarterly loss in 14 years amid a brutal price war unleashed by Reliance Jio Infocomm Ltd that has ravaged its rivals and reshaped India’s telecom market .\\n\\nNew Delhi-based Bharti Airtel swung to a ₹2,866 crore loss in the quarter ended 30 June from a net profit of ₹97 crore in the year earlier as finance costs rose and it incurred a one-time loss of ₹1,445 crore.\\n\\nView Full Image\\n\\nBharti Airtel, which was till last year India’s biggest telecom operator, has been struggling to raise prices and add subscribers because of the tariff war, although a wave of consolidation in India’s telecom market has wiped out smaller telcos and forced Vodafone India Ltd and Idea Cellular Ltd to merge.\\n\\n“The pressure on Airtel will continue as it has to incur the cost of managing multiple networks given its users are also on 2G and 3G. This hurts Airtel’s economics in the short run,\" said Mahesh Uppal, director at communications consulting firm ComFirst India.\\n\\nBharti Airtel’s consolidated revenue from operations grew 4.7% to ₹20,738 crore in the June quarter from ₹19,799 crore a year ago. Revenue from the India wireless business grew 4.1% year-on-year to ₹10,724 crore.\\n\\nReliance Jio generated ₹11,679 crore in operating revenue in the June quarter, beating Bharti Airtel on this metric. Last week, Jio surpassed Vodafone Idea Ltd, which posted revenue of ₹11,269.9 crore despite having more users.\\n\\nWith this, Reliance Jio is now the number one telco in terms of revenue, achieving the rare feat of market leadership in the telecom industry in less than three years of starting its operations in September 2016.\\n\\nThe results also underscore the sustained struggle of Bharti Airtel and other Indian telecom operators to stay profitable despite recording higher data and voice consumption. An average Airtel user consumed 12GB of data a month in the June quarter, compared to 7.8GB in the year-ago period.\\n\\nConsolidated operating profit rose 24.2% to ₹8,493 crore from a year earlier. The company’s India wireless business posted a loss of ₹1,242 crore in the June quarter. Airtel’s consolidated net debt was ₹1.16 trillion as of June-end.\\n\\nThe silver lining for the firm is that its average monthly revenue per user (Arpu) from India mobile services rose to ₹129 in the June quarter from ₹123 in the preceding three months. This is also due to the fact that its subscriber base has shrunk.\\n\\nAirtel’s Arpu is the highest across telcos in the June quarter, with Jio at ₹122 and Vodafone Idea at ₹108.\\n\\n“The India business revenue is stable, Arpu is up and 4G base has also increased. These are positive factors,\" said a Mumbai-based fundamental analyst, requesting anonymity.\\n\\nThe launch of low-cost tariff plans by Reliance Jio, a unit of Reliance Industries Ltd, forced rivals to drop their rates, hurting profit margins. Smaller companies were forced to either shut shop or get acquired, leaving just Airtel, Jio and the merged entity of Vodafone and Idea to compete in the Indian market.\\n\\nThe performance of the firm’s Africa unit has proved to be a beacon of hope. Airtel Africa posted revenue of $795.9 million, a 6.9% rise from $744.5 million a year earlier, largely driven by growth in Nigeria and East Africa.\\n\\nThe Africa operations posted a profit of $132.2 million in the June quarter.\\n\\n\\n\\n\\n\\nSubscribe to Mint Newsletters * Enter a valid email * Thank you for subscribing to our newsletter.\\n\\nTopics',\n",
       " 'https://www.forbes.com/sites/suzannerowankelleher/2019/08/01/everyones-social-security-number-has-been-compromised-heres-how-to-protect-yourself/',\n",
       " 'SANTIAGO (Reuters) - Chile’s state-owned Codelco [COBRE.UL], the world’s top copper miner, said on Thursday that it signed a non-binding agreement with foreign-backed miner Salar Blanco to develop a joint lithium project at the Salar de Maricunga in the country’s north.\\n\\nThe memorandum of understanding with Salar Blanco, which is 50% owned by Australia’s Lithium Power International with smaller stakes held by Canada’s Bearing Lithium, comes after a disagreement over adjoining lithium deposits in the Maricunga salt flat.\\n\\nIn May, Chile’s constitutional court declined to weigh in on Salar Blanco’s lawsuit alleging that Codelco was constitutionally barred from mining lithium.\\n\\n“The companies will negotiate the definitive terms of the association that allow them to carry out this initiative, combining the experience that both have in the area in order to maximize the value for Codelco and MSB,” Codelco said in a statement.\\n\\nConstruction on the project is expected to begin in 2020 or early 2021 after the permits and financial structure are finalized, Codelco said.\\n\\nLithium is a key ingredient in the rechargeable batteries that power everything from cell phones to electric vehicles. Chile possesses the world’s largest reserves of the “white gold” and sits atop the so-called Lithium Triangle, yet the government has not capitalized fully due to a national lithium policy that has been criticized as confusing and uninviting to newly arrived private miners.\\n\\nMaricunga’s 90 square miles (145 square km) make it less than 5 percent the size of the sprawling Salar de Atacama in northern Chile, home to top lithium producers Albemarle and SQM, but Salar Blanco has described it as one of the “highest-grade lithium brine salars globally.”\\n\\nUntil now, Codelco had delayed plans to develop its lithium reserves to concentrate on its key copper production business.',\n",
       " \"U.S. President Donald Trump speaks to the news media after returning from a quick trip to Williamsburg, Virginia, in Washington, U.S., July 30, 2019. REUTERS/Leah Millis\\n\\nWASHINGTON (Reuters) - U.S. President Donald Trump said on Thursday he would impose an additional 10% tariff on $300 billion worth of Chinese imports starting Sept. 1, as talks aimed at easing tensions between the world’s two largest economies continue.\\n\\n“Trade talks are continuing, and during the talks the U.S. will start, on September 1st, putting a small additional Tariff of 10% on the remaining 300 Billion Dollars of goods and products coming from China into our Country. This does not include the 250 Billion Dollars already Tariffed at 25%,” Trump tweeted.\\n\\nIn a string of tweets, Trump also faulted China for not following through on promises to buy more American agricultural products and personally criticized Chinese President Xi Jinping for failing to do more to stem sales of the synthetic opioid fentanyl.\\n\\nU.S. stock prices fell after Trump's announcement, with the Dow Jones Industrial Average .DJI falling into negative territory.\\n\\nU.S. and Chinese negotiators ended two days of talks in Shanghai on Wednesday with little sign of progress, although both countries described the negotiations as constructive. Another round of meetings between the negotiators has been scheduled for September.\\n\\nThe United States and China have been locked in a trade war marked by tit-for-tat tariffs since last year. The tensions have disrupted global supply chains and roiled financial markets.\",\n",
       " \"NEW YORK (Reuters) - A former chief executive officer and former chief financial officer of Brixmor Property Group Inc were charged on Thursday with accounting fraud for manipulating a key financial metric for the large shopping center owner and operator.\\n\\nFILE PHOTO: Michael Carroll, CEO of Brixmor Property Group awaits the company's IPO on the floor of the New York Stock Exchange, October 30, 2013. REUTERS/Brendan McDermid\\n\\nThe fraud and conspiracy charges against former CEO Michael Carroll and former CFO Michael Pappagallo follow guilty pleas to those charges last month by two other former Brixmor officials, chief accounting officer Steven Splain and senior vice president of accounting Michael Mortimer.\\n\\nBrixmor, a New York-based real estate investment trust with about 421 shopping centers, said it will pay a $7 million fine and hire an independent consultant for its financial reporting to settle a related U.S. Securities and Exchange Commission civil lawsuit, without admitting wrongdoing.\\n\\nThe SEC also filed civil charges against the four individual defendants, all of whom resigned from Brixmor in February 2016.\\n\\nLawyers for those defendants did not immediately respond to requests for comment.\\n\\nInvestigators began examining Brixmor in February 2016 after the REIT said it had uncovered “smoothing” in same property net operating income (“SP-NOI”), a key measure for investors of a REIT’s financial performance.\\n\\nBrixmor’s share price fell 20.1 percent, wiping out about $1.6 billion of market value, on the first trading day after the disclosure, according to Reuters data.\\n\\nProsecutors said Carroll and Pappagallo falsely touted the consistency of Brixmor’s SP-NOI growth rate, with Carroll even describing it at an industry conference as the REIT’s “secret sauce,” when in fact the rate fluctuated significantly.\\n\\nThe defendants concealed the volatility through a variety of means, including by squirreling away extra income for future use in so-called “cookie jar” accounting, prosecutors said.\\n\\nAccording to the indictment, Pappagallo once expressed concern after a Brixmor investor relations employee questioned one of the suspect accounting tactics.\\n\\n“How did she find out?” the indictment quoted him as saying. “She must not be given access to how we make the sausage.”\\n\\nCarroll, 51, of Manhattan, and Pappagallo, 60, of Trumbull, Connecticut, each faces six criminal charges, five of which carry maximum 20-year prison terms.\\n\\nSplain, 57, lives in Cheshire, Connecticut, and Mortimer, 49, in Yardley, Pennsylvania.\\n\\nBrixmor’s market value is now about $5.6 billion. Its shares closed down 11 cents at $18.87 on Thursday.\\n\\nThe criminal case is U.S. v. Carroll et al, U.S. District Court, Southern District of New York, 19-cr-00545.\",\n",
       " 'Since 1988, the stock market\\'s average return has been 10% per year. But stock fund investors have earned only 4.1% per year, according to Dalbar\\'s Quantitative Analysis of Investor Behavior. So, why are investors missing out on 60% of the market\\'s profits? Because your brain gets in the way. Survival instincts have evolved into \"behavior biases\" that cause us to make bad financial and investment decisions. Understanding them can help you avoid costly mistakes. Let\\'s look at five of the most important biases researchers have identified.\\n\\n1. Herd mentality bias\\n\\nHumans seek comfort in groups. So you tend to buy and sell stocks when everyone else does. The problem is that most people buy when prices are rising and sell when prices are falling. It\\'s a bad idea to follow the crowd.\\n\\nNet mutual fund net cash flows are from the Investment Company Institure for U.S. equity mutual funds Bloomberg\\n\\n2. Overconfidence bias\\n\\nAre you a better-than-average driver? Well, 75% of Americans say so. Obviously, only half can be better than average — meaning lots of people aren\\'t as good as they think they are. Hubris applies to investing, too: Are you sure you\\'re as good at picking investments as you think you are?\\n\\n3. Recency bias\\n\\nIs the stock market risky, volatile and unpredictable? If you believe it is, that\\'s because your view of the market matches the chart below. It shows the monthly performance of the S&P 500 Stock Index since 1926.\\n\\nMonthly performance of the S&P 500 stock index, 1926-2018 Ibbotson Associates\\n\\nBut do you hold your investments for just 30 days? Unlikely. If you\\'re investing to achieve long-term goals, such as paying for college or saving for retirement, monthly returns don\\'t matter. The below chart, showing the market\\'s returns over 20-year intervals since 1926, reveals that the stock market\\'s returns are remarkably consistent over long periods.\\n\\n20-year rolling intervals of the S&P 500 stock index, 1926-2017 MorningStar\\n\\nIgnore the daily movements of the market, and stay focused on your long-term goals.\\n\\n4. Action bias\\n\\nHumans are wired for action. Soccer goalies prove it. A study of thousands of penalty kicks from professional matches showed that goals were scored 80% of the time. And while the ball went down the middle 29% of the time, goalies stayed there only 6%.\\n\\nJournal of Economic Psychology\\n\\nWhy? With such low odds of stopping the ball, goalies would rather look like they tried by diving left or right, instead of looking stupid by standing still. But if a goalie stood still five times more often, they would stop five times as many shots. Whether or not you are a soccer fan, you should know this applies to investing, as well: The less often you change your investments, the better off you\\'ll be. So, when tempted to do something, don\\'t. Instead, just stand there.\\n\\n5. Availability bias\\n\\nWhat kills more people annually: lightning strikes or shark attacks? Lightning. But you\\'re forgiven if you thought sharks, because the media cover shark attacks more than lightning strikes. The availability of information causes us to act on it. Don\\'t be so sure that the facts you\\'re hearing about are the only facts that matter.\\n\\nSources: International Shark Attack File, Flordia Museum of Natural Hostory, Univeristy of Florida, NOAA. National Weather Service, Google news sources, 2001-2012',\n",
       " 'You see them in films like Will Smith\\'s \"I, Robot\" and Eve from \"Wall-E.\" Real-life examples include Honda\\'s Asimo , UBTECH\\'s Walker , Boston Dynamics\\' Atlas , and even NASA\\'s Valkyrie robot.All made of shiny white material. And some real-life humanoid robots are modeled after white celebrities, such as Audrey Hepburn and Scarlett Johansson\\n\\nThe reason for these shades of technological white may be racism, according to new research.\\n\\nThese colors have been found to trigger social cues that determine how humans react to and behave toward other people and also, apparently, robots.\\n\\n\"The bias against black robots is a result of bias against African-Americans,\" lead researcher Christoph Bartneck explained to The Next Web . He told CNN, \"It is amazing to see how people who had no prior interaction with robots show racial bias towards them.\"\\n\\nThe researchers think this is an issue that needs to be addressed. \"If robots are supposed to function as teachers, friends, or carers, for instance, then it will be a serious problem if all of these roles are only ever occupied by robots that are racialized as White,\" according to the study.\\n\\nSophia, robot and public figure, was modeled after the British actress Audrey Hepburn.\\n\\nThe robots used in the study are clearly robots but have human-like limbs and a head, with exterior complexions that are white -- which is to say, pinkish -- or black -- really, a deep brown. In the \"shooter bias\" test, black and white people and robots appeared on a screen for less than a second, and participants were told to \"shoot\" those holding a weapon. Black robots that were not holding weapons were shot more than the white ones not carrying guns.\\n\\nRun a simple Google Image search on the term \"robot.\" You won\\'t see a lot of color, as pointed out in the study. The researchers see this overrepresentation of white robots as potentially harmful to the perception of other races.\\n\\nRobot designers come from all corners of the world, Bartneck pointed out, yet they still idealize white robots.\\n\\n\"Human-shaped robots should represent the diversity of humans,\" Bartneck told The Next Web.\\n\\n\"Imagine a world in which all Barbie dolls are white. Imagine a world in which all the robots working in Africa or India are white. Further imagine that these robots take over roles that involve authority. Clearly, this would raise concerns about imperialism and white supremacy,\" Bartneck told CNN. \"Robots are not just machines, but they represent humans.\"\\n\\nIn a second study, the HIT Lab NZ team added lighter brown robots, finding that as they increased the racial diversity, participants\\' racial bias toward the robots disappeared altogether. This \"potentially means that diversification of robots might lead to a reduction in racial bias towards them,\" according to that study\\n\\n\"This leads me to believe that we have everything to win by offering racial options and nothing to lose,\" Bartneck told CNN.\\n\\n\"In the same way that we do want Barbie dolls in all colors and shapes, we also want robots in more than just white.\"',\n",
       " 'Hot foil stamping is the method of using pressure and heat to apply holograms to materials such as carton board, light papers, corrugated board, laminated board, plastics. It also used for the stamping of metallic or pigmented foil on the solid surfaces. The machine which is used in this type of printing is known as hot foil printing machine. The machine consists of the printing die in the form of letters, which are hot stamped on to the solid surface.\\n\\nThe hot foil printing machine market is anticipated to register significant growth rate over the forecast period. This process is used on a wide range of products to create anti-counterfeiting measures and decorative finishes. It has various applications in packaging industries such as luxury goods packaging, food, and tobacco, as well as labels for products such as wine and beer. Hot foil packaging is also used on bank notes and commercial printing applications. It is anticipated that demand for hot foil printing machine is expected to be high during the forecast period.\\n\\nGlobal Hot foil printing Machine Market: Dynamics\\n\\nThe hot foil printing machine market penetrates various industries, it is used for anti-counterfeiting majors in packaging industry. It is used for packing of food products, and pharmaceuticals, among others. Hence, the hot foil printing machine market growth is proportional to packaging industry, such as food & beverages, confectionary and pharmaceutical and healthcare.\\n\\nThe hot foil printing machine is not just used in packaging industry, but it also finds application in currency printing which is one of the premier tasks of every nation, it is expected to drive the global hot foil printing machine market growth. Hot foil printing machine is used for commercial printing applications which might boost the global hot foil printing machine market. These machines can be modified as per the requirement of customers, and ongoing R&D efforts are expected to boost growth of the global hot foil printing machine market, as well as enable technology integration.\\n\\nAre you a start-up willing to make it big in the business? Grab an exclusive PDF Brochure of this report here\\n\\nHowever, the availability of cold foil printing machine in the market and its growing popularity might hamper the overall growth of hot foil printing machine market. Cost is a major concern regarding use of hot foil printing machine, and leads to increased preference for cold foil printing machine in the market. The cost of cold foil printing machine is almost half of that of the hot foil printing machine, which hinders the global hot foil printing machine market growth.\\n\\nThe North America and Western Europe market for hot foil printing machine is expected to witness moderate growth, over the forecast period. APEJ is expected to drive the overall hot foil printing machine market growth due to increased printing applications in the food & beverages, and pharmaceuticals industry, coupled with shifting preference of consumers toward personal care products. The Latin America and Middle East Africa are expected to witness steady growth over the forecast period.\\n\\nShare this: Twitter\\n\\nFacebook\\n\\n\\n\\nLike this: Like Loading...']"
      ]
     },
     "execution_count": 18,
     "metadata": {},
     "output_type": "execute_result"
    }
   ],
   "source": [
    "df_final[0][0]"
   ]
  },
  {
   "cell_type": "code",
   "execution_count": 78,
   "id": "95949094",
   "metadata": {},
   "outputs": [
    {
     "data": {
      "text/plain": [
       "'The UK has become something of a laboratory for newfangled digital banks, which are attracting thousands of new customers each day. But there are some big questions: Will bigger legacy banks eventually learn the fintech firms’ tricks? And will the so-called neobanks ever become profitable?\\n\\nTalking about profit when these companies are growing so quickly may seem gauche to some investors, but there’s a lot of venture capital money riding on the answers to these questions. London-based Monzo raised about $145 million last month, while Revolut is looking to take in $500 million or more from investors this year. Berlin-based N26, which also operates in the UK, has raised $470 million so far this year.\\n\\nLondon’s business circles were atwitter after an N26 executive told the Financial Times (paywall) that profitability isn’t a “core metric.” Young fintech firms are bleeding cash now as they spend on marketing and licenses for new markets, but some could potentially be profitable on a per-user basis if they weren’t spending so much on customer acquisition. Instead, they’re aiming to become big, global challenger banks.\\n\\nProfits aside, heady valuations suggest that investors are counting on rapid user growth to continue:\\n\\nMonzo $2.45 billion 2 million $1,225 per user N26 3.5 3.5 1,000 Revolut* 1.7 1.8 944 Facebook* 566 2,400 236 *Monthly active users\\n\\nCritics argue that digital upstarts are surging thanks to a small number of novel features—things like freezing and unfreezing a card if it’s misplaced—that older banks will copy, if they haven’t already. Traditional banks are also adding thousands of customers to their own apps: Barclays UK says it has 7.6 million (pdf) active mobile users as of April, up from 7.3 million at the end of 2018.\\n\\nBig banks have been slow to catch up, but they’re getting there. And when they do, the thinking goes, these institutions will roll out whizzy features inspired by fintech competitors to their millions of customers.\\n\\n“If they can do it before the challenger banks get to the mass market, then there will be less incentive for people to leave if the features are the same,” said Deborah O’Neill, a partner and UK head of digital at consulting firm Oliver Wyman.\\n\\nWill Sorby, the UK general manager at N26, points out that the digital bank is still launching new features, like making its savings product called Spaces more versatile and sophisticated. Likewise, rival Revolut began rolling out commission-free stock brokerage to European customers today.\\n\\nDeath by COBOL\\n\\nThe entrepreneurs behind the digital banks counter that older rivals rely on obsolete tech that may well run on COBOL, a programming language that made its debut in 1959. Even if the banks catch up to where the fintechs were years ago, the upstarts say, their tech will be too clunky to make the leap when the next round of innovation comes along. N26 claims its costs are one-sixth of the incumbent banks because its tech is more efficient and it doesn’t have to support the cost of bank branches. (The COBOL issue is a real problem, O’Neill said.)\\n\\n“I’ve heard of situations where core banking platforms are written in COBOL and the coders are starting to die out,” said Michael Kent, CEO of money transfer startup Azimo and a founder of Tandem, a neobank. “They’re spending billions and billion and billions to try to fix that huge technical debt.”\\n\\nFor institutions running on older technology, there are also startups that want to sell them neobank-style systems to help them catch up. ”Some of them are big bags of poorly designed spaghetti code that are going to cause their customers all sorts of headaches,” said Kent. “Some of them are fantastic, and they’re going to make a big difference to those banks who cant afford to build the technology themselves.”\\n\\nZeta, an Indian startup that was recently valued at $300 million (pdf), is one of the companies that sells this tech. Founder Bhavin Turakhia thinks shifts in digital banking will resemble the evolution of the internet, where banks are sort of like ISPs (providing lending and other core services involving the measurement of financial risk), and new fintechs provide an over-the-top service with a slick user interface, becoming more like a Facebook for money.\\n\\nAutomatic money\\n\\nThe holy grail for fintechs like N26 and Revolut is a kind of automated money, in which apps anticipate their users’ financial needs, notifying them when it’s time to refinance a mortgage, when they are overspending on their mobile phone bill, or not saving enough for retirement.\\n\\nIt may sound starry-eyed, but people who work in the industry say it is only a matter of time. For startups burning through cash to acquire legions of customers, this could help provide a path to profitability, whether that’s through a subscription service, broker-style fees for making recommendations, or some other way of making money based on the reams of data that their systems could collect. The trick is getting there before the venture capital money runs out, or someone else does it first.\\n\\n“AI in financial services is not bullshit,” Kent said. “If you’re not doing it you’re going to miss the boat.”'"
      ]
     },
     "execution_count": 78,
     "metadata": {},
     "output_type": "execute_result"
    }
   ],
   "source": [
    "for i in df_final[0][i][j]"
   ]
  }
 ],
 "metadata": {
  "kernelspec": {
   "display_name": "Python 3",
   "language": "python",
   "name": "python3"
  },
  "language_info": {
   "codemirror_mode": {
    "name": "ipython",
    "version": 3
   },
   "file_extension": ".py",
   "mimetype": "text/x-python",
   "name": "python",
   "nbconvert_exporter": "python",
   "pygments_lexer": "ipython3",
   "version": "3.9.12"
  }
 },
 "nbformat": 4,
 "nbformat_minor": 5
}
