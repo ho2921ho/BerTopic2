{
 "cells": [
  {
   "cell_type": "code",
   "execution_count": 1,
   "id": "258413b9",
   "metadata": {
    "scrolled": true
   },
   "outputs": [
    {
     "name": "stdout",
     "output_type": "stream",
     "text": [
      "Python 3.9.12\n"
     ]
    }
   ],
   "source": [
    "!python --version"
   ]
  },
  {
   "cell_type": "code",
   "execution_count": null,
   "id": "db7af086",
   "metadata": {},
   "outputs": [],
   "source": [
    "!pip install pandas\n",
    "!pip install konlpy\n",
    "!pip install umap\n",
    "!pip install -U scikit-learn\n",
    "!pip install --upgrade pip\n",
    "!pip install matplotlib\n",
    "!pip3 install plotly"
   ]
  },
  {
   "cell_type": "code",
   "execution_count": 1,
   "id": "d2d8cca0",
   "metadata": {},
   "outputs": [],
   "source": [
    "from datetime import datetime\n",
    "\n",
    "import logging\n",
    "import re\n",
    "\n",
    "import numpy as np\n",
    "import pandas as pd"
   ]
  },
  {
   "cell_type": "code",
   "execution_count": 2,
   "id": "e25d485b",
   "metadata": {},
   "outputs": [],
   "source": [
    "import os\n",
    "os.getcwd()\n",
    "import pandas as pd\n",
    "path = \"C:/Users/User-Pc/BerTopic/data/\"\n",
    "file_list = os.listdir(path)\n",
    "dfs = []"
   ]
  },
  {
   "cell_type": "code",
   "execution_count": 3,
   "id": "0448683d",
   "metadata": {},
   "outputs": [],
   "source": [
    "def data_pro(data,from_date,to_date):\n",
    "\n",
    "    df = data[['일자','키워드']]\n",
    "    df['일자'] = [str(x)[0:6] for x in df['일자']] \n",
    "\n",
    "    datelist = pd.date_range(start=from_date, end=to_date, freq = 'M').tolist()\n",
    "    dtlst = []\n",
    "\n",
    "    for d_t in datelist:\n",
    "        d_t = str(d_t)[0:-9]\n",
    "        d = datetime.strptime(d_t, '%Y-%m-%d')\n",
    "        d = d.strftime('%Y%m')\n",
    "        dtlst.append(d)\n",
    "\n",
    "    # 키워드 사전 \n",
    "    keyword_vocab = []\n",
    "    for i in df['키워드']:\n",
    "        keyword_vocab.extend(i)\n",
    "    keyword_vocab = list(set(keyword_vocab))\n",
    "\n",
    "    # 월별 카운팅 후 병합\n",
    "    from collections import Counter\n",
    "\n",
    "    tmp_df_list = []\n",
    "    for dt in dtlst:\n",
    "        tmp = []\n",
    "        for i in df[df['일자']== dt]['키워드']:\n",
    "            tmp.extend(i)\n",
    "        tmp_df = pd.DataFrame(pd.Series(Counter(tmp)))\n",
    "        tmp_df = tmp_df.reset_index()\n",
    "        tmp_df = tmp_df.rename(columns = {0:'cnt','index':'keyword'})\n",
    "        tmp_df_list.append(tmp_df)\n",
    "\n",
    "    df = tmp_df_list[0].merge(tmp_df_list[1], on = 'keyword', how = 'outer')\n",
    "    for i in range(len(tmp_df_list)):\n",
    "        if i > 1:\n",
    "            df = df.merge(tmp_df_list[i], on = 'keyword', how = 'outer')\n",
    "    col = ['keyword'] + dtlst\n",
    "    df.columns = col\n",
    "\n",
    "    # 합산 값 만들기\n",
    "    df.index = df['keyword']\n",
    "    df = df.drop('keyword', axis = 1)\n",
    "    df['tot_cnt'] = df.sum(axis = 1)\n",
    "    df = df.T\n",
    "    df['year_cnt'] = df.sum(axis = 1)\n",
    "    df = df.T\n",
    "    df\n",
    "\n",
    "    # 결측치 처리\n",
    "    df =df.fillna(0)\n",
    "    return df"
   ]
  },
  {
   "cell_type": "code",
   "execution_count": 4,
   "id": "83bd32f9",
   "metadata": {
    "scrolled": true
   },
   "outputs": [
    {
     "name": "stderr",
     "output_type": "stream",
     "text": [
      "C:\\Users\\User-Pc\\miniconda3\\lib\\site-packages\\openpyxl\\styles\\stylesheet.py:226: UserWarning: Workbook contains no default style, apply openpyxl's default\n",
      "  warn(\"Workbook contains no default style, apply openpyxl's default\")\n"
     ]
    },
    {
     "name": "stdout",
     "output_type": "stream",
     "text": [
      "NewsResult_20180101-20181213.xlsx\n"
     ]
    },
    {
     "name": "stderr",
     "output_type": "stream",
     "text": [
      "C:\\Users\\User-Pc\\miniconda3\\lib\\site-packages\\openpyxl\\styles\\stylesheet.py:226: UserWarning: Workbook contains no default style, apply openpyxl's default\n",
      "  warn(\"Workbook contains no default style, apply openpyxl's default\")\n"
     ]
    },
    {
     "name": "stdout",
     "output_type": "stream",
     "text": [
      "NewsResult_20190101-20191231.xlsx\n"
     ]
    },
    {
     "name": "stderr",
     "output_type": "stream",
     "text": [
      "C:\\Users\\User-Pc\\miniconda3\\lib\\site-packages\\openpyxl\\styles\\stylesheet.py:226: UserWarning: Workbook contains no default style, apply openpyxl's default\n",
      "  warn(\"Workbook contains no default style, apply openpyxl's default\")\n"
     ]
    },
    {
     "name": "stdout",
     "output_type": "stream",
     "text": [
      "NewsResult_20200101-20201231.xlsx\n"
     ]
    },
    {
     "name": "stderr",
     "output_type": "stream",
     "text": [
      "C:\\Users\\User-Pc\\miniconda3\\lib\\site-packages\\openpyxl\\styles\\stylesheet.py:226: UserWarning: Workbook contains no default style, apply openpyxl's default\n",
      "  warn(\"Workbook contains no default style, apply openpyxl's default\")\n"
     ]
    },
    {
     "name": "stdout",
     "output_type": "stream",
     "text": [
      "NewsResult_20210101-20211231.xlsx\n"
     ]
    },
    {
     "name": "stderr",
     "output_type": "stream",
     "text": [
      "C:\\Users\\User-Pc\\miniconda3\\lib\\site-packages\\openpyxl\\styles\\stylesheet.py:226: UserWarning: Workbook contains no default style, apply openpyxl's default\n",
      "  warn(\"Workbook contains no default style, apply openpyxl's default\")\n"
     ]
    },
    {
     "name": "stdout",
     "output_type": "stream",
     "text": [
      "NewsResult_20220101-20220812.xlsx\n"
     ]
    }
   ],
   "source": [
    "for i in file_list:\n",
    "    df = pd.read_excel(path+i)\n",
    "    dfs.append(df)\n",
    "    print(i)"
   ]
  },
  {
   "cell_type": "code",
   "execution_count": 5,
   "id": "62d4e991",
   "metadata": {},
   "outputs": [],
   "source": [
    "data = pd.concat(dfs)"
   ]
  },
  {
   "cell_type": "code",
   "execution_count": 6,
   "id": "db4c6c6c",
   "metadata": {
    "scrolled": true
   },
   "outputs": [
    {
     "name": "stderr",
     "output_type": "stream",
     "text": [
      "<ipython-input-6-233fab3f1b12>:11: SettingWithCopyWarning: \n",
      "A value is trying to be set on a copy of a slice from a DataFrame.\n",
      "Try using .loc[row_indexer,col_indexer] = value instead\n",
      "\n",
      "See the caveats in the documentation: https://pandas.pydata.org/pandas-docs/stable/user_guide/indexing.html#returning-a-view-versus-a-copy\n",
      "  df['키워드'] = corpus\n",
      "<ipython-input-3-c3ba82095b7f>:37: FutureWarning: Passing 'suffixes' which cause duplicate columns {'cnt_x'} in the result is deprecated and will raise a MergeError in a future version.\n",
      "  df = df.merge(tmp_df_list[i], on = 'keyword', how = 'outer')\n",
      "<ipython-input-3-c3ba82095b7f>:37: FutureWarning: Passing 'suffixes' which cause duplicate columns {'cnt_x'} in the result is deprecated and will raise a MergeError in a future version.\n",
      "  df = df.merge(tmp_df_list[i], on = 'keyword', how = 'outer')\n",
      "<ipython-input-3-c3ba82095b7f>:37: FutureWarning: Passing 'suffixes' which cause duplicate columns {'cnt_x'} in the result is deprecated and will raise a MergeError in a future version.\n",
      "  df = df.merge(tmp_df_list[i], on = 'keyword', how = 'outer')\n",
      "<ipython-input-3-c3ba82095b7f>:37: FutureWarning: Passing 'suffixes' which cause duplicate columns {'cnt_x'} in the result is deprecated and will raise a MergeError in a future version.\n",
      "  df = df.merge(tmp_df_list[i], on = 'keyword', how = 'outer')\n",
      "<ipython-input-3-c3ba82095b7f>:37: FutureWarning: Passing 'suffixes' which cause duplicate columns {'cnt_x'} in the result is deprecated and will raise a MergeError in a future version.\n",
      "  df = df.merge(tmp_df_list[i], on = 'keyword', how = 'outer')\n",
      "<ipython-input-3-c3ba82095b7f>:37: FutureWarning: Passing 'suffixes' which cause duplicate columns {'cnt_x'} in the result is deprecated and will raise a MergeError in a future version.\n",
      "  df = df.merge(tmp_df_list[i], on = 'keyword', how = 'outer')\n",
      "<ipython-input-3-c3ba82095b7f>:37: FutureWarning: Passing 'suffixes' which cause duplicate columns {'cnt_x'} in the result is deprecated and will raise a MergeError in a future version.\n",
      "  df = df.merge(tmp_df_list[i], on = 'keyword', how = 'outer')\n",
      "<ipython-input-3-c3ba82095b7f>:37: FutureWarning: Passing 'suffixes' which cause duplicate columns {'cnt_x'} in the result is deprecated and will raise a MergeError in a future version.\n",
      "  df = df.merge(tmp_df_list[i], on = 'keyword', how = 'outer')\n",
      "<ipython-input-3-c3ba82095b7f>:37: FutureWarning: Passing 'suffixes' which cause duplicate columns {'cnt_x'} in the result is deprecated and will raise a MergeError in a future version.\n",
      "  df = df.merge(tmp_df_list[i], on = 'keyword', how = 'outer')\n",
      "<ipython-input-3-c3ba82095b7f>:37: FutureWarning: Passing 'suffixes' which cause duplicate columns {'cnt_x'} in the result is deprecated and will raise a MergeError in a future version.\n",
      "  df = df.merge(tmp_df_list[i], on = 'keyword', how = 'outer')\n",
      "<ipython-input-3-c3ba82095b7f>:37: FutureWarning: Passing 'suffixes' which cause duplicate columns {'cnt_x'} in the result is deprecated and will raise a MergeError in a future version.\n",
      "  df = df.merge(tmp_df_list[i], on = 'keyword', how = 'outer')\n",
      "<ipython-input-3-c3ba82095b7f>:37: FutureWarning: Passing 'suffixes' which cause duplicate columns {'cnt_x'} in the result is deprecated and will raise a MergeError in a future version.\n",
      "  df = df.merge(tmp_df_list[i], on = 'keyword', how = 'outer')\n",
      "<ipython-input-3-c3ba82095b7f>:37: FutureWarning: Passing 'suffixes' which cause duplicate columns {'cnt_x'} in the result is deprecated and will raise a MergeError in a future version.\n",
      "  df = df.merge(tmp_df_list[i], on = 'keyword', how = 'outer')\n",
      "<ipython-input-3-c3ba82095b7f>:37: FutureWarning: Passing 'suffixes' which cause duplicate columns {'cnt_x'} in the result is deprecated and will raise a MergeError in a future version.\n",
      "  df = df.merge(tmp_df_list[i], on = 'keyword', how = 'outer')\n",
      "<ipython-input-3-c3ba82095b7f>:37: FutureWarning: Passing 'suffixes' which cause duplicate columns {'cnt_x'} in the result is deprecated and will raise a MergeError in a future version.\n",
      "  df = df.merge(tmp_df_list[i], on = 'keyword', how = 'outer')\n",
      "<ipython-input-3-c3ba82095b7f>:37: FutureWarning: Passing 'suffixes' which cause duplicate columns {'cnt_x'} in the result is deprecated and will raise a MergeError in a future version.\n",
      "  df = df.merge(tmp_df_list[i], on = 'keyword', how = 'outer')\n",
      "<ipython-input-3-c3ba82095b7f>:37: FutureWarning: Passing 'suffixes' which cause duplicate columns {'cnt_x'} in the result is deprecated and will raise a MergeError in a future version.\n",
      "  df = df.merge(tmp_df_list[i], on = 'keyword', how = 'outer')\n",
      "<ipython-input-3-c3ba82095b7f>:37: FutureWarning: Passing 'suffixes' which cause duplicate columns {'cnt_x'} in the result is deprecated and will raise a MergeError in a future version.\n",
      "  df = df.merge(tmp_df_list[i], on = 'keyword', how = 'outer')\n",
      "<ipython-input-3-c3ba82095b7f>:37: FutureWarning: Passing 'suffixes' which cause duplicate columns {'cnt_x'} in the result is deprecated and will raise a MergeError in a future version.\n",
      "  df = df.merge(tmp_df_list[i], on = 'keyword', how = 'outer')\n",
      "<ipython-input-3-c3ba82095b7f>:37: FutureWarning: Passing 'suffixes' which cause duplicate columns {'cnt_x'} in the result is deprecated and will raise a MergeError in a future version.\n",
      "  df = df.merge(tmp_df_list[i], on = 'keyword', how = 'outer')\n",
      "<ipython-input-3-c3ba82095b7f>:37: FutureWarning: Passing 'suffixes' which cause duplicate columns {'cnt_x'} in the result is deprecated and will raise a MergeError in a future version.\n",
      "  df = df.merge(tmp_df_list[i], on = 'keyword', how = 'outer')\n",
      "<ipython-input-3-c3ba82095b7f>:37: FutureWarning: Passing 'suffixes' which cause duplicate columns {'cnt_x'} in the result is deprecated and will raise a MergeError in a future version.\n",
      "  df = df.merge(tmp_df_list[i], on = 'keyword', how = 'outer')\n",
      "<ipython-input-3-c3ba82095b7f>:37: FutureWarning: Passing 'suffixes' which cause duplicate columns {'cnt_x'} in the result is deprecated and will raise a MergeError in a future version.\n",
      "  df = df.merge(tmp_df_list[i], on = 'keyword', how = 'outer')\n"
     ]
    }
   ],
   "source": [
    "## 데이터 전처리\n",
    "data = pd.concat(dfs)\n",
    "data = data[['뉴스 식별자','일자','제목','키워드','특성추출(가중치순 상위 50개)']]\n",
    "cluster_mode = '특성추출(가중치순 상위 50개)'\n",
    "corpus = data[cluster_mode].values.tolist()\n",
    "\n",
    "df = data[['일자']]\n",
    "\n",
    "for i, cp in enumerate(corpus):\n",
    "    corpus[i] = cp.split(',')\n",
    "df['키워드'] = corpus\n",
    "\n",
    "df_k = data_pro(df,'20180801','20220731')"
   ]
  },
  {
   "cell_type": "code",
   "execution_count": 7,
   "id": "9cb2fa17",
   "metadata": {},
   "outputs": [],
   "source": [
    "data_e = pd.read_csv('C:/Users/User-Pc/Desktop/news_english.csv')"
   ]
  },
  {
   "cell_type": "code",
   "execution_count": 8,
   "id": "c902ced4",
   "metadata": {},
   "outputs": [],
   "source": [
    "data_e = data_e.rename({'kwd':'키워드'},axis = 1)"
   ]
  },
  {
   "cell_type": "code",
   "execution_count": 9,
   "id": "e0ec6f55",
   "metadata": {},
   "outputs": [],
   "source": [
    "tmp = []\n",
    "for i in data_e['키워드']:\n",
    "    i = i.replace('[','').replace(']','').replace('\\'','').replace(' ','').split(',')\n",
    "    tmp.append(i)"
   ]
  },
  {
   "cell_type": "code",
   "execution_count": 10,
   "id": "aaf0dc56",
   "metadata": {},
   "outputs": [
    {
     "name": "stderr",
     "output_type": "stream",
     "text": [
      "<ipython-input-10-53f16d203765>:2: SettingWithCopyWarning: \n",
      "A value is trying to be set on a copy of a slice from a DataFrame.\n",
      "Try using .loc[row_indexer,col_indexer] = value instead\n",
      "\n",
      "See the caveats in the documentation: https://pandas.pydata.org/pandas-docs/stable/user_guide/indexing.html#returning-a-view-versus-a-copy\n",
      "  df_e['키워드'] = tmp\n"
     ]
    }
   ],
   "source": [
    "df_e = data_e[['일자','키워드']]\n",
    "df_e['키워드'] = tmp"
   ]
  },
  {
   "cell_type": "code",
   "execution_count": 11,
   "id": "4c5408d9",
   "metadata": {
    "scrolled": true
   },
   "outputs": [
    {
     "name": "stderr",
     "output_type": "stream",
     "text": [
      "<ipython-input-3-c3ba82095b7f>:37: FutureWarning: Passing 'suffixes' which cause duplicate columns {'cnt_x'} in the result is deprecated and will raise a MergeError in a future version.\n",
      "  df = df.merge(tmp_df_list[i], on = 'keyword', how = 'outer')\n",
      "<ipython-input-3-c3ba82095b7f>:37: FutureWarning: Passing 'suffixes' which cause duplicate columns {'cnt_x'} in the result is deprecated and will raise a MergeError in a future version.\n",
      "  df = df.merge(tmp_df_list[i], on = 'keyword', how = 'outer')\n",
      "<ipython-input-3-c3ba82095b7f>:37: FutureWarning: Passing 'suffixes' which cause duplicate columns {'cnt_x'} in the result is deprecated and will raise a MergeError in a future version.\n",
      "  df = df.merge(tmp_df_list[i], on = 'keyword', how = 'outer')\n",
      "<ipython-input-3-c3ba82095b7f>:37: FutureWarning: Passing 'suffixes' which cause duplicate columns {'cnt_x'} in the result is deprecated and will raise a MergeError in a future version.\n",
      "  df = df.merge(tmp_df_list[i], on = 'keyword', how = 'outer')\n",
      "<ipython-input-3-c3ba82095b7f>:37: FutureWarning: Passing 'suffixes' which cause duplicate columns {'cnt_x'} in the result is deprecated and will raise a MergeError in a future version.\n",
      "  df = df.merge(tmp_df_list[i], on = 'keyword', how = 'outer')\n",
      "<ipython-input-3-c3ba82095b7f>:37: FutureWarning: Passing 'suffixes' which cause duplicate columns {'cnt_x'} in the result is deprecated and will raise a MergeError in a future version.\n",
      "  df = df.merge(tmp_df_list[i], on = 'keyword', how = 'outer')\n",
      "<ipython-input-3-c3ba82095b7f>:37: FutureWarning: Passing 'suffixes' which cause duplicate columns {'cnt_x'} in the result is deprecated and will raise a MergeError in a future version.\n",
      "  df = df.merge(tmp_df_list[i], on = 'keyword', how = 'outer')\n",
      "<ipython-input-3-c3ba82095b7f>:37: FutureWarning: Passing 'suffixes' which cause duplicate columns {'cnt_x'} in the result is deprecated and will raise a MergeError in a future version.\n",
      "  df = df.merge(tmp_df_list[i], on = 'keyword', how = 'outer')\n",
      "<ipython-input-3-c3ba82095b7f>:37: FutureWarning: Passing 'suffixes' which cause duplicate columns {'cnt_x'} in the result is deprecated and will raise a MergeError in a future version.\n",
      "  df = df.merge(tmp_df_list[i], on = 'keyword', how = 'outer')\n",
      "<ipython-input-3-c3ba82095b7f>:37: FutureWarning: Passing 'suffixes' which cause duplicate columns {'cnt_x'} in the result is deprecated and will raise a MergeError in a future version.\n",
      "  df = df.merge(tmp_df_list[i], on = 'keyword', how = 'outer')\n",
      "<ipython-input-3-c3ba82095b7f>:37: FutureWarning: Passing 'suffixes' which cause duplicate columns {'cnt_x'} in the result is deprecated and will raise a MergeError in a future version.\n",
      "  df = df.merge(tmp_df_list[i], on = 'keyword', how = 'outer')\n",
      "<ipython-input-3-c3ba82095b7f>:37: FutureWarning: Passing 'suffixes' which cause duplicate columns {'cnt_x'} in the result is deprecated and will raise a MergeError in a future version.\n",
      "  df = df.merge(tmp_df_list[i], on = 'keyword', how = 'outer')\n",
      "<ipython-input-3-c3ba82095b7f>:37: FutureWarning: Passing 'suffixes' which cause duplicate columns {'cnt_x'} in the result is deprecated and will raise a MergeError in a future version.\n",
      "  df = df.merge(tmp_df_list[i], on = 'keyword', how = 'outer')\n",
      "<ipython-input-3-c3ba82095b7f>:37: FutureWarning: Passing 'suffixes' which cause duplicate columns {'cnt_x'} in the result is deprecated and will raise a MergeError in a future version.\n",
      "  df = df.merge(tmp_df_list[i], on = 'keyword', how = 'outer')\n",
      "<ipython-input-3-c3ba82095b7f>:37: FutureWarning: Passing 'suffixes' which cause duplicate columns {'cnt_x'} in the result is deprecated and will raise a MergeError in a future version.\n",
      "  df = df.merge(tmp_df_list[i], on = 'keyword', how = 'outer')\n",
      "<ipython-input-3-c3ba82095b7f>:37: FutureWarning: Passing 'suffixes' which cause duplicate columns {'cnt_x'} in the result is deprecated and will raise a MergeError in a future version.\n",
      "  df = df.merge(tmp_df_list[i], on = 'keyword', how = 'outer')\n",
      "<ipython-input-3-c3ba82095b7f>:37: FutureWarning: Passing 'suffixes' which cause duplicate columns {'cnt_x'} in the result is deprecated and will raise a MergeError in a future version.\n",
      "  df = df.merge(tmp_df_list[i], on = 'keyword', how = 'outer')\n"
     ]
    }
   ],
   "source": [
    "df_e = data_pro(df_e,'20190801','20220731')"
   ]
  },
  {
   "cell_type": "code",
   "execution_count": 19,
   "id": "f3f49fee",
   "metadata": {
    "scrolled": true
   },
   "outputs": [
    {
     "data": {
      "text/html": [
       "<div>\n",
       "<style scoped>\n",
       "    .dataframe tbody tr th:only-of-type {\n",
       "        vertical-align: middle;\n",
       "    }\n",
       "\n",
       "    .dataframe tbody tr th {\n",
       "        vertical-align: top;\n",
       "    }\n",
       "\n",
       "    .dataframe thead th {\n",
       "        text-align: right;\n",
       "    }\n",
       "</style>\n",
       "<table border=\"1\" class=\"dataframe\">\n",
       "  <thead>\n",
       "    <tr style=\"text-align: right;\">\n",
       "      <th></th>\n",
       "      <th>201908</th>\n",
       "      <th>201909</th>\n",
       "      <th>201910</th>\n",
       "      <th>201911</th>\n",
       "      <th>201912</th>\n",
       "      <th>202001</th>\n",
       "      <th>202002</th>\n",
       "      <th>202003</th>\n",
       "      <th>202004</th>\n",
       "      <th>202005</th>\n",
       "      <th>...</th>\n",
       "      <th>202111</th>\n",
       "      <th>202112</th>\n",
       "      <th>202201</th>\n",
       "      <th>202202</th>\n",
       "      <th>202203</th>\n",
       "      <th>202204</th>\n",
       "      <th>202205</th>\n",
       "      <th>202206</th>\n",
       "      <th>202207</th>\n",
       "      <th>tot_cnt</th>\n",
       "    </tr>\n",
       "    <tr>\n",
       "      <th>keyword</th>\n",
       "      <th></th>\n",
       "      <th></th>\n",
       "      <th></th>\n",
       "      <th></th>\n",
       "      <th></th>\n",
       "      <th></th>\n",
       "      <th></th>\n",
       "      <th></th>\n",
       "      <th></th>\n",
       "      <th></th>\n",
       "      <th></th>\n",
       "      <th></th>\n",
       "      <th></th>\n",
       "      <th></th>\n",
       "      <th></th>\n",
       "      <th></th>\n",
       "      <th></th>\n",
       "      <th></th>\n",
       "      <th></th>\n",
       "      <th></th>\n",
       "      <th></th>\n",
       "    </tr>\n",
       "  </thead>\n",
       "  <tbody>\n",
       "    <tr>\n",
       "      <th>metaverse</th>\n",
       "      <td>0.0</td>\n",
       "      <td>0.0</td>\n",
       "      <td>0.0</td>\n",
       "      <td>0.0</td>\n",
       "      <td>0.0</td>\n",
       "      <td>0.0</td>\n",
       "      <td>0.0</td>\n",
       "      <td>0.0</td>\n",
       "      <td>0.0</td>\n",
       "      <td>0.0</td>\n",
       "      <td>...</td>\n",
       "      <td>11.0</td>\n",
       "      <td>8.0</td>\n",
       "      <td>7.0</td>\n",
       "      <td>16.0</td>\n",
       "      <td>17.0</td>\n",
       "      <td>15.0</td>\n",
       "      <td>11.0</td>\n",
       "      <td>17.0</td>\n",
       "      <td>69.0</td>\n",
       "      <td>188.0</td>\n",
       "    </tr>\n",
       "  </tbody>\n",
       "</table>\n",
       "<p>1 rows × 37 columns</p>\n",
       "</div>"
      ],
      "text/plain": [
       "           201908  201909  201910  201911  201912  202001  202002  202003  \\\n",
       "keyword                                                                     \n",
       "metaverse     0.0     0.0     0.0     0.0     0.0     0.0     0.0     0.0   \n",
       "\n",
       "           202004  202005  ...  202111  202112  202201  202202  202203  \\\n",
       "keyword                    ...                                           \n",
       "metaverse     0.0     0.0  ...    11.0     8.0     7.0    16.0    17.0   \n",
       "\n",
       "           202204  202205  202206  202207  tot_cnt  \n",
       "keyword                                             \n",
       "metaverse    15.0    11.0    17.0    69.0    188.0  \n",
       "\n",
       "[1 rows x 37 columns]"
      ]
     },
     "execution_count": 19,
     "metadata": {},
     "output_type": "execute_result"
    }
   ],
   "source": [
    "# 데이터 확인\n",
    "key = 'metaverse'\n",
    "df_e[df_e.index == key]"
   ]
  },
  {
   "cell_type": "code",
   "execution_count": 13,
   "id": "cf31075e",
   "metadata": {
    "scrolled": false
   },
   "outputs": [],
   "source": [
    "df_k = df_k[df_k['tot_cnt'] > 6]"
   ]
  },
  {
   "cell_type": "code",
   "execution_count": 14,
   "id": "c541aaf4",
   "metadata": {},
   "outputs": [],
   "source": [
    "df_e = df_e[df_e['tot_cnt'] > 10]"
   ]
  },
  {
   "cell_type": "code",
   "execution_count": 16,
   "id": "bca29432",
   "metadata": {},
   "outputs": [],
   "source": [
    "# 데이터 비교1 . 회귀선의 기울기\n",
    "# 연도별 건수 보정(normaliae)\n",
    "\n",
    "def get_slop(df2,from_date,to_date):\n",
    "    datelist = pd.date_range(start=from_date, end=to_date, freq = 'M').tolist()\n",
    "    dtlst = []\n",
    "    df = df2.copy()\n",
    "    for d_t in datelist:\n",
    "        d_t = str(d_t)[0:-9]\n",
    "        d = datetime.strptime(d_t, '%Y-%m-%d')\n",
    "        d = d.strftime('%Y%m')\n",
    "        dtlst.append(d)\n",
    "    for dt in dtlst:\n",
    "        df[dt] = df[dt][:-1]*10000 / df[dt][-1]\n",
    "    from scipy import stats\n",
    "\n",
    "    x = [x + 1for x in range(0,len(dtlst))]\n",
    "\n",
    "    slopes = []\n",
    "    for i in list(df.values):\n",
    "        y = i[:-1]\n",
    "        slope, intercept, r, p, std_err = stats.linregress(x, y)\n",
    "        slopes.append(slope)\n",
    "    df['slope'] = slopes\n",
    "    return df"
   ]
  },
  {
   "cell_type": "code",
   "execution_count": 20,
   "id": "4ab5a758",
   "metadata": {},
   "outputs": [],
   "source": [
    "df_ks = get_slop(df_k,'20180801','20220731')"
   ]
  },
  {
   "cell_type": "code",
   "execution_count": 21,
   "id": "d51f72f9",
   "metadata": {
    "scrolled": true
   },
   "outputs": [],
   "source": [
    "df_es = get_slop(df_e,'20190801','20220731')"
   ]
  },
  {
   "cell_type": "code",
   "execution_count": 95,
   "id": "7a2907b2",
   "metadata": {
    "scrolled": true
   },
   "outputs": [
    {
     "data": {
      "text/html": [
       "<div>\n",
       "<style scoped>\n",
       "    .dataframe tbody tr th:only-of-type {\n",
       "        vertical-align: middle;\n",
       "    }\n",
       "\n",
       "    .dataframe tbody tr th {\n",
       "        vertical-align: top;\n",
       "    }\n",
       "\n",
       "    .dataframe thead th {\n",
       "        text-align: right;\n",
       "    }\n",
       "</style>\n",
       "<table border=\"1\" class=\"dataframe\">\n",
       "  <thead>\n",
       "    <tr style=\"text-align: right;\">\n",
       "      <th></th>\n",
       "      <th>201908</th>\n",
       "      <th>201909</th>\n",
       "      <th>201910</th>\n",
       "      <th>201911</th>\n",
       "      <th>201912</th>\n",
       "      <th>202001</th>\n",
       "      <th>202002</th>\n",
       "      <th>202003</th>\n",
       "      <th>202004</th>\n",
       "      <th>202005</th>\n",
       "      <th>...</th>\n",
       "      <th>202112</th>\n",
       "      <th>202201</th>\n",
       "      <th>202202</th>\n",
       "      <th>202203</th>\n",
       "      <th>202204</th>\n",
       "      <th>202205</th>\n",
       "      <th>202206</th>\n",
       "      <th>202207</th>\n",
       "      <th>tot_cnt</th>\n",
       "      <th>slope</th>\n",
       "    </tr>\n",
       "    <tr>\n",
       "      <th>keyword</th>\n",
       "      <th></th>\n",
       "      <th></th>\n",
       "      <th></th>\n",
       "      <th></th>\n",
       "      <th></th>\n",
       "      <th></th>\n",
       "      <th></th>\n",
       "      <th></th>\n",
       "      <th></th>\n",
       "      <th></th>\n",
       "      <th></th>\n",
       "      <th></th>\n",
       "      <th></th>\n",
       "      <th></th>\n",
       "      <th></th>\n",
       "      <th></th>\n",
       "      <th></th>\n",
       "      <th></th>\n",
       "      <th></th>\n",
       "      <th></th>\n",
       "      <th></th>\n",
       "    </tr>\n",
       "  </thead>\n",
       "  <tbody>\n",
       "    <tr>\n",
       "      <th>2022</th>\n",
       "      <td>0.314065</td>\n",
       "      <td>0.761591</td>\n",
       "      <td>0.979268</td>\n",
       "      <td>0.921730</td>\n",
       "      <td>0.367891</td>\n",
       "      <td>0.454126</td>\n",
       "      <td>1.612871</td>\n",
       "      <td>1.260478</td>\n",
       "      <td>1.455463</td>\n",
       "      <td>0.905371</td>\n",
       "      <td>...</td>\n",
       "      <td>7.918154</td>\n",
       "      <td>11.087283</td>\n",
       "      <td>12.871017</td>\n",
       "      <td>15.445823</td>\n",
       "      <td>13.335329</td>\n",
       "      <td>14.599500</td>\n",
       "      <td>15.479174</td>\n",
       "      <td>15.862371</td>\n",
       "      <td>1999.0</td>\n",
       "      <td>0.401038</td>\n",
       "    </tr>\n",
       "    <tr>\n",
       "      <th>digital</th>\n",
       "      <td>20.571285</td>\n",
       "      <td>21.781515</td>\n",
       "      <td>20.564618</td>\n",
       "      <td>22.121515</td>\n",
       "      <td>18.762416</td>\n",
       "      <td>20.587033</td>\n",
       "      <td>19.959275</td>\n",
       "      <td>15.755972</td>\n",
       "      <td>21.185070</td>\n",
       "      <td>19.737080</td>\n",
       "      <td>...</td>\n",
       "      <td>27.273641</td>\n",
       "      <td>29.322946</td>\n",
       "      <td>31.592496</td>\n",
       "      <td>30.774631</td>\n",
       "      <td>31.161126</td>\n",
       "      <td>31.303433</td>\n",
       "      <td>24.778018</td>\n",
       "      <td>24.516398</td>\n",
       "      <td>7759.0</td>\n",
       "      <td>0.325915</td>\n",
       "    </tr>\n",
       "    <tr>\n",
       "      <th>pandemic</th>\n",
       "      <td>0.471098</td>\n",
       "      <td>0.456955</td>\n",
       "      <td>0.419686</td>\n",
       "      <td>0.307243</td>\n",
       "      <td>0.551836</td>\n",
       "      <td>0.151375</td>\n",
       "      <td>0.604827</td>\n",
       "      <td>3.151194</td>\n",
       "      <td>6.468724</td>\n",
       "      <td>5.975446</td>\n",
       "      <td>...</td>\n",
       "      <td>9.300689</td>\n",
       "      <td>11.962595</td>\n",
       "      <td>9.750770</td>\n",
       "      <td>7.722911</td>\n",
       "      <td>7.211964</td>\n",
       "      <td>7.365514</td>\n",
       "      <td>6.633932</td>\n",
       "      <td>6.164238</td>\n",
       "      <td>2299.0</td>\n",
       "      <td>0.228024</td>\n",
       "    </tr>\n",
       "    <tr>\n",
       "      <th>ecosystem</th>\n",
       "      <td>3.454720</td>\n",
       "      <td>5.635777</td>\n",
       "      <td>4.756442</td>\n",
       "      <td>4.915892</td>\n",
       "      <td>4.966522</td>\n",
       "      <td>5.752259</td>\n",
       "      <td>5.846656</td>\n",
       "      <td>4.254112</td>\n",
       "      <td>4.851543</td>\n",
       "      <td>2.716112</td>\n",
       "      <td>...</td>\n",
       "      <td>11.060279</td>\n",
       "      <td>8.607233</td>\n",
       "      <td>9.750770</td>\n",
       "      <td>7.839925</td>\n",
       "      <td>9.117011</td>\n",
       "      <td>8.417730</td>\n",
       "      <td>8.221539</td>\n",
       "      <td>6.304790</td>\n",
       "      <td>2085.0</td>\n",
       "      <td>0.149436</td>\n",
       "    </tr>\n",
       "    <tr>\n",
       "      <th>fintech</th>\n",
       "      <td>5.339112</td>\n",
       "      <td>5.635777</td>\n",
       "      <td>6.015500</td>\n",
       "      <td>5.837622</td>\n",
       "      <td>4.414686</td>\n",
       "      <td>4.692633</td>\n",
       "      <td>4.637003</td>\n",
       "      <td>5.357030</td>\n",
       "      <td>4.689825</td>\n",
       "      <td>4.526853</td>\n",
       "      <td>...</td>\n",
       "      <td>9.929114</td>\n",
       "      <td>7.294265</td>\n",
       "      <td>10.400822</td>\n",
       "      <td>9.946174</td>\n",
       "      <td>11.838506</td>\n",
       "      <td>9.601473</td>\n",
       "      <td>6.520531</td>\n",
       "      <td>5.120132</td>\n",
       "      <td>2150.0</td>\n",
       "      <td>0.140944</td>\n",
       "    </tr>\n",
       "    <tr>\n",
       "      <th>2021</th>\n",
       "      <td>0.000000</td>\n",
       "      <td>0.304637</td>\n",
       "      <td>0.000000</td>\n",
       "      <td>0.153622</td>\n",
       "      <td>0.551836</td>\n",
       "      <td>0.302750</td>\n",
       "      <td>0.604827</td>\n",
       "      <td>0.315119</td>\n",
       "      <td>0.808590</td>\n",
       "      <td>1.267519</td>\n",
       "      <td>...</td>\n",
       "      <td>5.907194</td>\n",
       "      <td>4.814215</td>\n",
       "      <td>3.120246</td>\n",
       "      <td>2.808331</td>\n",
       "      <td>4.354393</td>\n",
       "      <td>2.499014</td>\n",
       "      <td>2.041210</td>\n",
       "      <td>2.489790</td>\n",
       "      <td>838.0</td>\n",
       "      <td>0.136272</td>\n",
       "    </tr>\n",
       "    <tr>\n",
       "      <th>cryptocurrencies</th>\n",
       "      <td>1.099229</td>\n",
       "      <td>1.218546</td>\n",
       "      <td>1.678744</td>\n",
       "      <td>1.689838</td>\n",
       "      <td>0.919726</td>\n",
       "      <td>0.756876</td>\n",
       "      <td>2.016088</td>\n",
       "      <td>0.472679</td>\n",
       "      <td>0.808590</td>\n",
       "      <td>0.905371</td>\n",
       "      <td>...</td>\n",
       "      <td>4.021919</td>\n",
       "      <td>5.835412</td>\n",
       "      <td>5.200411</td>\n",
       "      <td>6.435759</td>\n",
       "      <td>4.490468</td>\n",
       "      <td>4.208865</td>\n",
       "      <td>3.288616</td>\n",
       "      <td>2.790974</td>\n",
       "      <td>926.0</td>\n",
       "      <td>0.136251</td>\n",
       "    </tr>\n",
       "    <tr>\n",
       "      <th>adoption</th>\n",
       "      <td>3.297687</td>\n",
       "      <td>3.655639</td>\n",
       "      <td>4.336756</td>\n",
       "      <td>3.226054</td>\n",
       "      <td>3.494960</td>\n",
       "      <td>4.087132</td>\n",
       "      <td>4.233786</td>\n",
       "      <td>4.096553</td>\n",
       "      <td>5.660133</td>\n",
       "      <td>3.440409</td>\n",
       "      <td>...</td>\n",
       "      <td>7.792469</td>\n",
       "      <td>7.440151</td>\n",
       "      <td>8.710688</td>\n",
       "      <td>8.776036</td>\n",
       "      <td>7.484113</td>\n",
       "      <td>7.760095</td>\n",
       "      <td>6.180330</td>\n",
       "      <td>5.361080</td>\n",
       "      <td>1843.0</td>\n",
       "      <td>0.124951</td>\n",
       "    </tr>\n",
       "    <tr>\n",
       "      <th>enable</th>\n",
       "      <td>5.182079</td>\n",
       "      <td>6.245050</td>\n",
       "      <td>5.595814</td>\n",
       "      <td>5.530379</td>\n",
       "      <td>3.678905</td>\n",
       "      <td>3.481631</td>\n",
       "      <td>4.233786</td>\n",
       "      <td>4.884351</td>\n",
       "      <td>4.689825</td>\n",
       "      <td>4.526853</td>\n",
       "      <td>...</td>\n",
       "      <td>7.289729</td>\n",
       "      <td>8.023692</td>\n",
       "      <td>7.670606</td>\n",
       "      <td>7.839925</td>\n",
       "      <td>7.756263</td>\n",
       "      <td>8.417730</td>\n",
       "      <td>6.917433</td>\n",
       "      <td>5.762659</td>\n",
       "      <td>1959.0</td>\n",
       "      <td>0.093404</td>\n",
       "    </tr>\n",
       "    <tr>\n",
       "      <th>register</th>\n",
       "      <td>1.884393</td>\n",
       "      <td>1.523183</td>\n",
       "      <td>1.119163</td>\n",
       "      <td>1.689838</td>\n",
       "      <td>1.839453</td>\n",
       "      <td>1.362377</td>\n",
       "      <td>1.612871</td>\n",
       "      <td>1.260478</td>\n",
       "      <td>1.617181</td>\n",
       "      <td>0.724297</td>\n",
       "      <td>...</td>\n",
       "      <td>3.519180</td>\n",
       "      <td>3.793018</td>\n",
       "      <td>4.160329</td>\n",
       "      <td>4.329511</td>\n",
       "      <td>2.993645</td>\n",
       "      <td>3.551230</td>\n",
       "      <td>3.005114</td>\n",
       "      <td>2.248842</td>\n",
       "      <td>907.0</td>\n",
       "      <td>0.088211</td>\n",
       "    </tr>\n",
       "    <tr>\n",
       "      <th>banking</th>\n",
       "      <td>4.082850</td>\n",
       "      <td>7.158959</td>\n",
       "      <td>7.414454</td>\n",
       "      <td>5.223135</td>\n",
       "      <td>5.518358</td>\n",
       "      <td>7.568762</td>\n",
       "      <td>6.048265</td>\n",
       "      <td>4.726791</td>\n",
       "      <td>6.630442</td>\n",
       "      <td>5.613298</td>\n",
       "      <td>...</td>\n",
       "      <td>6.912674</td>\n",
       "      <td>9.482545</td>\n",
       "      <td>10.790852</td>\n",
       "      <td>8.424994</td>\n",
       "      <td>8.028412</td>\n",
       "      <td>10.653689</td>\n",
       "      <td>5.726727</td>\n",
       "      <td>4.839027</td>\n",
       "      <td>2178.0</td>\n",
       "      <td>0.082254</td>\n",
       "    </tr>\n",
       "    <tr>\n",
       "      <th>risks</th>\n",
       "      <td>5.810210</td>\n",
       "      <td>5.940413</td>\n",
       "      <td>5.875605</td>\n",
       "      <td>4.915892</td>\n",
       "      <td>5.518358</td>\n",
       "      <td>4.087132</td>\n",
       "      <td>5.645047</td>\n",
       "      <td>5.514590</td>\n",
       "      <td>5.013261</td>\n",
       "      <td>4.889002</td>\n",
       "      <td>...</td>\n",
       "      <td>7.038359</td>\n",
       "      <td>7.586036</td>\n",
       "      <td>9.230729</td>\n",
       "      <td>7.488884</td>\n",
       "      <td>7.892338</td>\n",
       "      <td>8.417730</td>\n",
       "      <td>6.690632</td>\n",
       "      <td>5.782738</td>\n",
       "      <td>1900.0</td>\n",
       "      <td>0.081285</td>\n",
       "    </tr>\n",
       "    <tr>\n",
       "      <th>crypto</th>\n",
       "      <td>0.471098</td>\n",
       "      <td>0.456955</td>\n",
       "      <td>0.559581</td>\n",
       "      <td>0.307243</td>\n",
       "      <td>0.735781</td>\n",
       "      <td>0.302750</td>\n",
       "      <td>0.403218</td>\n",
       "      <td>0.787799</td>\n",
       "      <td>0.161718</td>\n",
       "      <td>0.181074</td>\n",
       "      <td>...</td>\n",
       "      <td>1.633905</td>\n",
       "      <td>2.625935</td>\n",
       "      <td>2.470195</td>\n",
       "      <td>2.925345</td>\n",
       "      <td>3.401870</td>\n",
       "      <td>2.762068</td>\n",
       "      <td>1.927809</td>\n",
       "      <td>2.831132</td>\n",
       "      <td>488.0</td>\n",
       "      <td>0.079567</td>\n",
       "    </tr>\n",
       "    <tr>\n",
       "      <th>cryptocurrency</th>\n",
       "      <td>2.041425</td>\n",
       "      <td>1.218546</td>\n",
       "      <td>0.839372</td>\n",
       "      <td>1.075351</td>\n",
       "      <td>1.471562</td>\n",
       "      <td>0.605501</td>\n",
       "      <td>1.209653</td>\n",
       "      <td>0.787799</td>\n",
       "      <td>0.646872</td>\n",
       "      <td>0.905371</td>\n",
       "      <td>...</td>\n",
       "      <td>2.388015</td>\n",
       "      <td>3.501247</td>\n",
       "      <td>3.510277</td>\n",
       "      <td>3.627428</td>\n",
       "      <td>3.810094</td>\n",
       "      <td>3.025122</td>\n",
       "      <td>2.154610</td>\n",
       "      <td>2.208685</td>\n",
       "      <td>663.0</td>\n",
       "      <td>0.075788</td>\n",
       "    </tr>\n",
       "    <tr>\n",
       "      <th>nfts</th>\n",
       "      <td>0.000000</td>\n",
       "      <td>0.000000</td>\n",
       "      <td>0.000000</td>\n",
       "      <td>0.000000</td>\n",
       "      <td>0.000000</td>\n",
       "      <td>0.000000</td>\n",
       "      <td>0.000000</td>\n",
       "      <td>0.000000</td>\n",
       "      <td>0.000000</td>\n",
       "      <td>0.000000</td>\n",
       "      <td>...</td>\n",
       "      <td>1.256850</td>\n",
       "      <td>1.750624</td>\n",
       "      <td>2.080164</td>\n",
       "      <td>2.574304</td>\n",
       "      <td>1.905047</td>\n",
       "      <td>3.156649</td>\n",
       "      <td>1.474207</td>\n",
       "      <td>1.626395</td>\n",
       "      <td>289.0</td>\n",
       "      <td>0.072699</td>\n",
       "    </tr>\n",
       "    <tr>\n",
       "      <th>cookies</th>\n",
       "      <td>2.512523</td>\n",
       "      <td>2.437093</td>\n",
       "      <td>1.259058</td>\n",
       "      <td>1.228973</td>\n",
       "      <td>2.023398</td>\n",
       "      <td>2.270629</td>\n",
       "      <td>1.612871</td>\n",
       "      <td>1.418037</td>\n",
       "      <td>2.102335</td>\n",
       "      <td>2.716112</td>\n",
       "      <td>...</td>\n",
       "      <td>4.650344</td>\n",
       "      <td>4.230674</td>\n",
       "      <td>2.340185</td>\n",
       "      <td>2.691318</td>\n",
       "      <td>2.585421</td>\n",
       "      <td>4.208865</td>\n",
       "      <td>3.005114</td>\n",
       "      <td>3.252790</td>\n",
       "      <td>908.0</td>\n",
       "      <td>0.072073</td>\n",
       "    </tr>\n",
       "    <tr>\n",
       "      <th>framework</th>\n",
       "      <td>1.884393</td>\n",
       "      <td>1.370865</td>\n",
       "      <td>2.378221</td>\n",
       "      <td>1.843460</td>\n",
       "      <td>1.471562</td>\n",
       "      <td>1.665128</td>\n",
       "      <td>2.620915</td>\n",
       "      <td>2.678515</td>\n",
       "      <td>2.425771</td>\n",
       "      <td>1.448593</td>\n",
       "      <td>...</td>\n",
       "      <td>4.147604</td>\n",
       "      <td>3.501247</td>\n",
       "      <td>4.160329</td>\n",
       "      <td>4.095483</td>\n",
       "      <td>3.401870</td>\n",
       "      <td>4.734973</td>\n",
       "      <td>3.798918</td>\n",
       "      <td>2.991764</td>\n",
       "      <td>876.0</td>\n",
       "      <td>0.070876</td>\n",
       "    </tr>\n",
       "    <tr>\n",
       "      <th>standardsthomson</th>\n",
       "      <td>0.000000</td>\n",
       "      <td>0.000000</td>\n",
       "      <td>0.000000</td>\n",
       "      <td>0.000000</td>\n",
       "      <td>0.000000</td>\n",
       "      <td>0.000000</td>\n",
       "      <td>0.000000</td>\n",
       "      <td>0.000000</td>\n",
       "      <td>0.161718</td>\n",
       "      <td>0.000000</td>\n",
       "      <td>...</td>\n",
       "      <td>2.010960</td>\n",
       "      <td>1.896509</td>\n",
       "      <td>2.470195</td>\n",
       "      <td>2.106249</td>\n",
       "      <td>0.816449</td>\n",
       "      <td>1.052216</td>\n",
       "      <td>1.304106</td>\n",
       "      <td>0.963790</td>\n",
       "      <td>401.0</td>\n",
       "      <td>0.069073</td>\n",
       "    </tr>\n",
       "    <tr>\n",
       "      <th>innovative</th>\n",
       "      <td>1.570327</td>\n",
       "      <td>1.675501</td>\n",
       "      <td>2.238326</td>\n",
       "      <td>2.304324</td>\n",
       "      <td>1.471562</td>\n",
       "      <td>2.270629</td>\n",
       "      <td>1.612871</td>\n",
       "      <td>1.102918</td>\n",
       "      <td>2.102335</td>\n",
       "      <td>1.991815</td>\n",
       "      <td>...</td>\n",
       "      <td>4.776029</td>\n",
       "      <td>2.771821</td>\n",
       "      <td>3.510277</td>\n",
       "      <td>3.627428</td>\n",
       "      <td>3.129720</td>\n",
       "      <td>4.734973</td>\n",
       "      <td>3.742218</td>\n",
       "      <td>2.931527</td>\n",
       "      <td>866.0</td>\n",
       "      <td>0.068444</td>\n",
       "    </tr>\n",
       "    <tr>\n",
       "      <th>trustprinciples</th>\n",
       "      <td>0.000000</td>\n",
       "      <td>0.000000</td>\n",
       "      <td>0.000000</td>\n",
       "      <td>0.000000</td>\n",
       "      <td>0.000000</td>\n",
       "      <td>0.000000</td>\n",
       "      <td>0.000000</td>\n",
       "      <td>0.000000</td>\n",
       "      <td>0.000000</td>\n",
       "      <td>0.000000</td>\n",
       "      <td>...</td>\n",
       "      <td>1.885275</td>\n",
       "      <td>1.750624</td>\n",
       "      <td>2.210175</td>\n",
       "      <td>1.755207</td>\n",
       "      <td>0.680374</td>\n",
       "      <td>1.183743</td>\n",
       "      <td>1.360807</td>\n",
       "      <td>0.963790</td>\n",
       "      <td>377.0</td>\n",
       "      <td>0.066789</td>\n",
       "    </tr>\n",
       "    <tr>\n",
       "      <th>com</th>\n",
       "      <td>2.198458</td>\n",
       "      <td>0.913910</td>\n",
       "      <td>1.119163</td>\n",
       "      <td>1.997081</td>\n",
       "      <td>1.103672</td>\n",
       "      <td>1.362377</td>\n",
       "      <td>1.008044</td>\n",
       "      <td>2.520955</td>\n",
       "      <td>1.455463</td>\n",
       "      <td>1.448593</td>\n",
       "      <td>...</td>\n",
       "      <td>4.273289</td>\n",
       "      <td>2.480050</td>\n",
       "      <td>3.770298</td>\n",
       "      <td>3.627428</td>\n",
       "      <td>2.993645</td>\n",
       "      <td>1.841378</td>\n",
       "      <td>3.402016</td>\n",
       "      <td>3.232711</td>\n",
       "      <td>886.0</td>\n",
       "      <td>0.066278</td>\n",
       "    </tr>\n",
       "    <tr>\n",
       "      <th>review</th>\n",
       "      <td>0.785164</td>\n",
       "      <td>1.066228</td>\n",
       "      <td>1.398954</td>\n",
       "      <td>1.536216</td>\n",
       "      <td>1.839453</td>\n",
       "      <td>1.211002</td>\n",
       "      <td>1.612871</td>\n",
       "      <td>1.260478</td>\n",
       "      <td>0.323436</td>\n",
       "      <td>1.629667</td>\n",
       "      <td>...</td>\n",
       "      <td>3.644865</td>\n",
       "      <td>3.209477</td>\n",
       "      <td>1.430113</td>\n",
       "      <td>1.521179</td>\n",
       "      <td>2.857571</td>\n",
       "      <td>2.499014</td>\n",
       "      <td>2.381411</td>\n",
       "      <td>2.931527</td>\n",
       "      <td>727.0</td>\n",
       "      <td>0.062929</td>\n",
       "    </tr>\n",
       "    <tr>\n",
       "      <th>solutions</th>\n",
       "      <td>3.454720</td>\n",
       "      <td>4.874185</td>\n",
       "      <td>3.917070</td>\n",
       "      <td>4.762271</td>\n",
       "      <td>5.150467</td>\n",
       "      <td>4.844008</td>\n",
       "      <td>2.419306</td>\n",
       "      <td>3.781433</td>\n",
       "      <td>4.204670</td>\n",
       "      <td>2.716112</td>\n",
       "      <td>...</td>\n",
       "      <td>5.655824</td>\n",
       "      <td>6.418953</td>\n",
       "      <td>4.940390</td>\n",
       "      <td>5.616663</td>\n",
       "      <td>5.851216</td>\n",
       "      <td>6.839405</td>\n",
       "      <td>5.386526</td>\n",
       "      <td>4.658317</td>\n",
       "      <td>1544.0</td>\n",
       "      <td>0.061990</td>\n",
       "    </tr>\n",
       "    <tr>\n",
       "      <th>nonfungible</th>\n",
       "      <td>0.000000</td>\n",
       "      <td>0.152318</td>\n",
       "      <td>0.000000</td>\n",
       "      <td>0.000000</td>\n",
       "      <td>0.000000</td>\n",
       "      <td>0.000000</td>\n",
       "      <td>0.000000</td>\n",
       "      <td>0.000000</td>\n",
       "      <td>0.000000</td>\n",
       "      <td>0.000000</td>\n",
       "      <td>...</td>\n",
       "      <td>1.382535</td>\n",
       "      <td>0.729427</td>\n",
       "      <td>1.820144</td>\n",
       "      <td>2.106249</td>\n",
       "      <td>2.449346</td>\n",
       "      <td>2.235959</td>\n",
       "      <td>1.304106</td>\n",
       "      <td>1.144500</td>\n",
       "      <td>252.0</td>\n",
       "      <td>0.061675</td>\n",
       "    </tr>\n",
       "    <tr>\n",
       "      <th>javascript</th>\n",
       "      <td>0.785164</td>\n",
       "      <td>0.609273</td>\n",
       "      <td>0.699477</td>\n",
       "      <td>0.614487</td>\n",
       "      <td>0.735781</td>\n",
       "      <td>0.605501</td>\n",
       "      <td>0.000000</td>\n",
       "      <td>0.472679</td>\n",
       "      <td>0.000000</td>\n",
       "      <td>0.362148</td>\n",
       "      <td>...</td>\n",
       "      <td>2.890755</td>\n",
       "      <td>2.480050</td>\n",
       "      <td>0.910072</td>\n",
       "      <td>1.053124</td>\n",
       "      <td>1.360748</td>\n",
       "      <td>1.709851</td>\n",
       "      <td>1.701008</td>\n",
       "      <td>1.987816</td>\n",
       "      <td>472.0</td>\n",
       "      <td>0.060941</td>\n",
       "    </tr>\n",
       "    <tr>\n",
       "      <th>platform</th>\n",
       "      <td>4.082850</td>\n",
       "      <td>2.589411</td>\n",
       "      <td>3.917070</td>\n",
       "      <td>2.765189</td>\n",
       "      <td>3.494960</td>\n",
       "      <td>2.573379</td>\n",
       "      <td>3.024133</td>\n",
       "      <td>2.836075</td>\n",
       "      <td>2.749208</td>\n",
       "      <td>3.440409</td>\n",
       "      <td>...</td>\n",
       "      <td>5.027399</td>\n",
       "      <td>4.376559</td>\n",
       "      <td>4.680370</td>\n",
       "      <td>4.446525</td>\n",
       "      <td>5.851216</td>\n",
       "      <td>4.208865</td>\n",
       "      <td>4.422621</td>\n",
       "      <td>4.357132</td>\n",
       "      <td>1300.0</td>\n",
       "      <td>0.060761</td>\n",
       "    </tr>\n",
       "    <tr>\n",
       "      <th>access</th>\n",
       "      <td>1.727360</td>\n",
       "      <td>3.046366</td>\n",
       "      <td>4.336756</td>\n",
       "      <td>2.765189</td>\n",
       "      <td>2.759179</td>\n",
       "      <td>2.876130</td>\n",
       "      <td>3.225741</td>\n",
       "      <td>2.363396</td>\n",
       "      <td>2.910926</td>\n",
       "      <td>3.259334</td>\n",
       "      <td>...</td>\n",
       "      <td>5.027399</td>\n",
       "      <td>3.501247</td>\n",
       "      <td>4.810380</td>\n",
       "      <td>4.797566</td>\n",
       "      <td>4.898692</td>\n",
       "      <td>4.734973</td>\n",
       "      <td>4.536022</td>\n",
       "      <td>3.995711</td>\n",
       "      <td>1180.0</td>\n",
       "      <td>0.060730</td>\n",
       "    </tr>\n",
       "    <tr>\n",
       "      <th>cookie</th>\n",
       "      <td>0.785164</td>\n",
       "      <td>0.609273</td>\n",
       "      <td>0.559581</td>\n",
       "      <td>0.614487</td>\n",
       "      <td>0.735781</td>\n",
       "      <td>0.605501</td>\n",
       "      <td>0.000000</td>\n",
       "      <td>0.157560</td>\n",
       "      <td>0.000000</td>\n",
       "      <td>0.362148</td>\n",
       "      <td>...</td>\n",
       "      <td>2.765070</td>\n",
       "      <td>2.188280</td>\n",
       "      <td>0.910072</td>\n",
       "      <td>0.819097</td>\n",
       "      <td>1.496823</td>\n",
       "      <td>1.446797</td>\n",
       "      <td>1.814409</td>\n",
       "      <td>1.927579</td>\n",
       "      <td>460.0</td>\n",
       "      <td>0.060105</td>\n",
       "    </tr>\n",
       "    <tr>\n",
       "      <th>supports</th>\n",
       "      <td>0.628131</td>\n",
       "      <td>0.761591</td>\n",
       "      <td>0.699477</td>\n",
       "      <td>0.768108</td>\n",
       "      <td>1.103672</td>\n",
       "      <td>0.756876</td>\n",
       "      <td>0.604827</td>\n",
       "      <td>0.315119</td>\n",
       "      <td>0.646872</td>\n",
       "      <td>0.543222</td>\n",
       "      <td>...</td>\n",
       "      <td>3.267810</td>\n",
       "      <td>2.334165</td>\n",
       "      <td>1.300103</td>\n",
       "      <td>1.053124</td>\n",
       "      <td>1.496823</td>\n",
       "      <td>1.578324</td>\n",
       "      <td>1.814409</td>\n",
       "      <td>2.248842</td>\n",
       "      <td>548.0</td>\n",
       "      <td>0.060085</td>\n",
       "    </tr>\n",
       "    <tr>\n",
       "      <th>sector</th>\n",
       "      <td>4.082850</td>\n",
       "      <td>5.483458</td>\n",
       "      <td>5.875605</td>\n",
       "      <td>7.834703</td>\n",
       "      <td>4.966522</td>\n",
       "      <td>5.298134</td>\n",
       "      <td>4.838612</td>\n",
       "      <td>4.726791</td>\n",
       "      <td>5.013261</td>\n",
       "      <td>7.061891</td>\n",
       "      <td>...</td>\n",
       "      <td>8.295209</td>\n",
       "      <td>9.190774</td>\n",
       "      <td>6.630524</td>\n",
       "      <td>7.254856</td>\n",
       "      <td>6.123365</td>\n",
       "      <td>8.680784</td>\n",
       "      <td>6.860733</td>\n",
       "      <td>6.445343</td>\n",
       "      <td>1961.0</td>\n",
       "      <td>0.059843</td>\n",
       "    </tr>\n",
       "    <tr>\n",
       "      <th>cookiepolicy</th>\n",
       "      <td>0.628131</td>\n",
       "      <td>0.609273</td>\n",
       "      <td>0.559581</td>\n",
       "      <td>0.614487</td>\n",
       "      <td>0.735781</td>\n",
       "      <td>0.605501</td>\n",
       "      <td>0.000000</td>\n",
       "      <td>0.157560</td>\n",
       "      <td>0.000000</td>\n",
       "      <td>0.362148</td>\n",
       "      <td>...</td>\n",
       "      <td>2.765070</td>\n",
       "      <td>2.042394</td>\n",
       "      <td>0.910072</td>\n",
       "      <td>0.819097</td>\n",
       "      <td>1.496823</td>\n",
       "      <td>1.446797</td>\n",
       "      <td>1.701008</td>\n",
       "      <td>1.907500</td>\n",
       "      <td>451.0</td>\n",
       "      <td>0.059717</td>\n",
       "    </tr>\n",
       "    <tr>\n",
       "      <th>cbdc</th>\n",
       "      <td>0.785164</td>\n",
       "      <td>0.000000</td>\n",
       "      <td>0.139895</td>\n",
       "      <td>0.307243</td>\n",
       "      <td>0.367891</td>\n",
       "      <td>0.454126</td>\n",
       "      <td>0.604827</td>\n",
       "      <td>0.472679</td>\n",
       "      <td>0.323436</td>\n",
       "      <td>1.267519</td>\n",
       "      <td>...</td>\n",
       "      <td>0.879795</td>\n",
       "      <td>1.458853</td>\n",
       "      <td>2.470195</td>\n",
       "      <td>4.095483</td>\n",
       "      <td>2.449346</td>\n",
       "      <td>2.367487</td>\n",
       "      <td>1.360807</td>\n",
       "      <td>0.763000</td>\n",
       "      <td>370.0</td>\n",
       "      <td>0.059053</td>\n",
       "    </tr>\n",
       "    <tr>\n",
       "      <th>policy</th>\n",
       "      <td>1.413294</td>\n",
       "      <td>2.132456</td>\n",
       "      <td>1.119163</td>\n",
       "      <td>1.075351</td>\n",
       "      <td>1.103672</td>\n",
       "      <td>1.513752</td>\n",
       "      <td>1.008044</td>\n",
       "      <td>1.575597</td>\n",
       "      <td>0.323436</td>\n",
       "      <td>1.810741</td>\n",
       "      <td>...</td>\n",
       "      <td>4.147604</td>\n",
       "      <td>2.625935</td>\n",
       "      <td>1.820144</td>\n",
       "      <td>1.872221</td>\n",
       "      <td>2.041122</td>\n",
       "      <td>2.630541</td>\n",
       "      <td>2.664913</td>\n",
       "      <td>2.790974</td>\n",
       "      <td>706.0</td>\n",
       "      <td>0.058497</td>\n",
       "    </tr>\n",
       "    <tr>\n",
       "      <th>javascriptcookies</th>\n",
       "      <td>0.628131</td>\n",
       "      <td>0.609273</td>\n",
       "      <td>0.559581</td>\n",
       "      <td>0.614487</td>\n",
       "      <td>0.735781</td>\n",
       "      <td>0.605501</td>\n",
       "      <td>0.000000</td>\n",
       "      <td>0.157560</td>\n",
       "      <td>0.000000</td>\n",
       "      <td>0.362148</td>\n",
       "      <td>...</td>\n",
       "      <td>2.765070</td>\n",
       "      <td>2.188280</td>\n",
       "      <td>0.910072</td>\n",
       "      <td>0.819097</td>\n",
       "      <td>1.360748</td>\n",
       "      <td>1.446797</td>\n",
       "      <td>1.587608</td>\n",
       "      <td>1.887421</td>\n",
       "      <td>443.0</td>\n",
       "      <td>0.058331</td>\n",
       "    </tr>\n",
       "    <tr>\n",
       "      <th>didhappen</th>\n",
       "      <td>0.628131</td>\n",
       "      <td>0.609273</td>\n",
       "      <td>0.559581</td>\n",
       "      <td>0.614487</td>\n",
       "      <td>0.735781</td>\n",
       "      <td>0.605501</td>\n",
       "      <td>0.000000</td>\n",
       "      <td>0.157560</td>\n",
       "      <td>0.000000</td>\n",
       "      <td>0.362148</td>\n",
       "      <td>...</td>\n",
       "      <td>2.765070</td>\n",
       "      <td>2.042394</td>\n",
       "      <td>0.910072</td>\n",
       "      <td>0.819097</td>\n",
       "      <td>1.360748</td>\n",
       "      <td>1.446797</td>\n",
       "      <td>1.587608</td>\n",
       "      <td>1.867342</td>\n",
       "      <td>443.0</td>\n",
       "      <td>0.058189</td>\n",
       "    </tr>\n",
       "    <tr>\n",
       "      <th>happen</th>\n",
       "      <td>0.942196</td>\n",
       "      <td>0.761591</td>\n",
       "      <td>0.559581</td>\n",
       "      <td>0.921730</td>\n",
       "      <td>0.919726</td>\n",
       "      <td>0.908251</td>\n",
       "      <td>0.201609</td>\n",
       "      <td>0.472679</td>\n",
       "      <td>0.323436</td>\n",
       "      <td>0.362148</td>\n",
       "      <td>...</td>\n",
       "      <td>2.890755</td>\n",
       "      <td>2.334165</td>\n",
       "      <td>1.040082</td>\n",
       "      <td>0.819097</td>\n",
       "      <td>1.905047</td>\n",
       "      <td>1.446797</td>\n",
       "      <td>1.814409</td>\n",
       "      <td>2.208685</td>\n",
       "      <td>515.0</td>\n",
       "      <td>0.057959</td>\n",
       "    </tr>\n",
       "    <tr>\n",
       "      <th>informationreview</th>\n",
       "      <td>0.628131</td>\n",
       "      <td>0.609273</td>\n",
       "      <td>0.559581</td>\n",
       "      <td>0.614487</td>\n",
       "      <td>0.735781</td>\n",
       "      <td>0.605501</td>\n",
       "      <td>0.000000</td>\n",
       "      <td>0.157560</td>\n",
       "      <td>0.000000</td>\n",
       "      <td>0.362148</td>\n",
       "      <td>...</td>\n",
       "      <td>2.765070</td>\n",
       "      <td>2.042394</td>\n",
       "      <td>0.910072</td>\n",
       "      <td>0.819097</td>\n",
       "      <td>1.360748</td>\n",
       "      <td>1.446797</td>\n",
       "      <td>1.587608</td>\n",
       "      <td>1.867342</td>\n",
       "      <td>441.0</td>\n",
       "      <td>0.057809</td>\n",
       "    </tr>\n",
       "    <tr>\n",
       "      <th>supportsjavascript</th>\n",
       "      <td>0.628131</td>\n",
       "      <td>0.609273</td>\n",
       "      <td>0.559581</td>\n",
       "      <td>0.614487</td>\n",
       "      <td>0.735781</td>\n",
       "      <td>0.605501</td>\n",
       "      <td>0.000000</td>\n",
       "      <td>0.157560</td>\n",
       "      <td>0.000000</td>\n",
       "      <td>0.362148</td>\n",
       "      <td>...</td>\n",
       "      <td>2.765070</td>\n",
       "      <td>2.042394</td>\n",
       "      <td>0.910072</td>\n",
       "      <td>0.819097</td>\n",
       "      <td>1.360748</td>\n",
       "      <td>1.446797</td>\n",
       "      <td>1.587608</td>\n",
       "      <td>1.847263</td>\n",
       "      <td>440.0</td>\n",
       "      <td>0.057718</td>\n",
       "    </tr>\n",
       "    <tr>\n",
       "      <th>reviewterms</th>\n",
       "      <td>0.628131</td>\n",
       "      <td>0.609273</td>\n",
       "      <td>0.559581</td>\n",
       "      <td>0.614487</td>\n",
       "      <td>0.735781</td>\n",
       "      <td>0.605501</td>\n",
       "      <td>0.000000</td>\n",
       "      <td>0.157560</td>\n",
       "      <td>0.000000</td>\n",
       "      <td>0.362148</td>\n",
       "      <td>...</td>\n",
       "      <td>2.765070</td>\n",
       "      <td>2.042394</td>\n",
       "      <td>0.910072</td>\n",
       "      <td>0.819097</td>\n",
       "      <td>1.360748</td>\n",
       "      <td>1.446797</td>\n",
       "      <td>1.587608</td>\n",
       "      <td>1.847263</td>\n",
       "      <td>440.0</td>\n",
       "      <td>0.057718</td>\n",
       "    </tr>\n",
       "    <tr>\n",
       "      <th>browsersupports</th>\n",
       "      <td>0.628131</td>\n",
       "      <td>0.609273</td>\n",
       "      <td>0.559581</td>\n",
       "      <td>0.614487</td>\n",
       "      <td>0.735781</td>\n",
       "      <td>0.605501</td>\n",
       "      <td>0.000000</td>\n",
       "      <td>0.157560</td>\n",
       "      <td>0.000000</td>\n",
       "      <td>0.362148</td>\n",
       "      <td>...</td>\n",
       "      <td>2.765070</td>\n",
       "      <td>2.042394</td>\n",
       "      <td>0.910072</td>\n",
       "      <td>0.819097</td>\n",
       "      <td>1.360748</td>\n",
       "      <td>1.446797</td>\n",
       "      <td>1.587608</td>\n",
       "      <td>1.847263</td>\n",
       "      <td>440.0</td>\n",
       "      <td>0.057718</td>\n",
       "    </tr>\n",
       "    <tr>\n",
       "      <th>loadinginformation</th>\n",
       "      <td>0.628131</td>\n",
       "      <td>0.609273</td>\n",
       "      <td>0.559581</td>\n",
       "      <td>0.614487</td>\n",
       "      <td>0.735781</td>\n",
       "      <td>0.605501</td>\n",
       "      <td>0.000000</td>\n",
       "      <td>0.157560</td>\n",
       "      <td>0.000000</td>\n",
       "      <td>0.362148</td>\n",
       "      <td>...</td>\n",
       "      <td>2.765070</td>\n",
       "      <td>2.042394</td>\n",
       "      <td>0.910072</td>\n",
       "      <td>0.819097</td>\n",
       "      <td>1.360748</td>\n",
       "      <td>1.446797</td>\n",
       "      <td>1.587608</td>\n",
       "      <td>1.847263</td>\n",
       "      <td>440.0</td>\n",
       "      <td>0.057718</td>\n",
       "    </tr>\n",
       "    <tr>\n",
       "      <th>blockingloading</th>\n",
       "      <td>0.628131</td>\n",
       "      <td>0.609273</td>\n",
       "      <td>0.559581</td>\n",
       "      <td>0.614487</td>\n",
       "      <td>0.735781</td>\n",
       "      <td>0.605501</td>\n",
       "      <td>0.000000</td>\n",
       "      <td>0.157560</td>\n",
       "      <td>0.000000</td>\n",
       "      <td>0.362148</td>\n",
       "      <td>...</td>\n",
       "      <td>2.765070</td>\n",
       "      <td>2.042394</td>\n",
       "      <td>0.910072</td>\n",
       "      <td>0.819097</td>\n",
       "      <td>1.360748</td>\n",
       "      <td>1.446797</td>\n",
       "      <td>1.587608</td>\n",
       "      <td>1.847263</td>\n",
       "      <td>440.0</td>\n",
       "      <td>0.057718</td>\n",
       "    </tr>\n",
       "    <tr>\n",
       "      <th>surebrowser</th>\n",
       "      <td>0.628131</td>\n",
       "      <td>0.609273</td>\n",
       "      <td>0.559581</td>\n",
       "      <td>0.614487</td>\n",
       "      <td>0.735781</td>\n",
       "      <td>0.605501</td>\n",
       "      <td>0.000000</td>\n",
       "      <td>0.157560</td>\n",
       "      <td>0.000000</td>\n",
       "      <td>0.362148</td>\n",
       "      <td>...</td>\n",
       "      <td>2.765070</td>\n",
       "      <td>2.042394</td>\n",
       "      <td>0.910072</td>\n",
       "      <td>0.819097</td>\n",
       "      <td>1.360748</td>\n",
       "      <td>1.446797</td>\n",
       "      <td>1.587608</td>\n",
       "      <td>1.847263</td>\n",
       "      <td>440.0</td>\n",
       "      <td>0.057718</td>\n",
       "    </tr>\n",
       "    <tr>\n",
       "      <th>servicecookie</th>\n",
       "      <td>0.628131</td>\n",
       "      <td>0.609273</td>\n",
       "      <td>0.559581</td>\n",
       "      <td>0.614487</td>\n",
       "      <td>0.735781</td>\n",
       "      <td>0.605501</td>\n",
       "      <td>0.000000</td>\n",
       "      <td>0.157560</td>\n",
       "      <td>0.000000</td>\n",
       "      <td>0.362148</td>\n",
       "      <td>...</td>\n",
       "      <td>2.765070</td>\n",
       "      <td>2.042394</td>\n",
       "      <td>0.910072</td>\n",
       "      <td>0.819097</td>\n",
       "      <td>1.360748</td>\n",
       "      <td>1.446797</td>\n",
       "      <td>1.587608</td>\n",
       "      <td>1.847263</td>\n",
       "      <td>440.0</td>\n",
       "      <td>0.057718</td>\n",
       "    </tr>\n",
       "    <tr>\n",
       "      <th>cookiesblocking</th>\n",
       "      <td>0.628131</td>\n",
       "      <td>0.609273</td>\n",
       "      <td>0.559581</td>\n",
       "      <td>0.614487</td>\n",
       "      <td>0.735781</td>\n",
       "      <td>0.605501</td>\n",
       "      <td>0.000000</td>\n",
       "      <td>0.157560</td>\n",
       "      <td>0.000000</td>\n",
       "      <td>0.362148</td>\n",
       "      <td>...</td>\n",
       "      <td>2.765070</td>\n",
       "      <td>2.042394</td>\n",
       "      <td>0.910072</td>\n",
       "      <td>0.819097</td>\n",
       "      <td>1.360748</td>\n",
       "      <td>1.446797</td>\n",
       "      <td>1.587608</td>\n",
       "      <td>1.847263</td>\n",
       "      <td>440.0</td>\n",
       "      <td>0.057718</td>\n",
       "    </tr>\n",
       "    <tr>\n",
       "      <th>happenmake</th>\n",
       "      <td>0.628131</td>\n",
       "      <td>0.609273</td>\n",
       "      <td>0.559581</td>\n",
       "      <td>0.768108</td>\n",
       "      <td>0.735781</td>\n",
       "      <td>0.605501</td>\n",
       "      <td>0.000000</td>\n",
       "      <td>0.157560</td>\n",
       "      <td>0.000000</td>\n",
       "      <td>0.362148</td>\n",
       "      <td>...</td>\n",
       "      <td>2.765070</td>\n",
       "      <td>2.042394</td>\n",
       "      <td>0.910072</td>\n",
       "      <td>0.819097</td>\n",
       "      <td>1.360748</td>\n",
       "      <td>1.446797</td>\n",
       "      <td>1.587608</td>\n",
       "      <td>1.847263</td>\n",
       "      <td>441.0</td>\n",
       "      <td>0.057145</td>\n",
       "    </tr>\n",
       "    <tr>\n",
       "      <th>information</th>\n",
       "      <td>3.140654</td>\n",
       "      <td>3.351002</td>\n",
       "      <td>4.336756</td>\n",
       "      <td>3.840541</td>\n",
       "      <td>5.334412</td>\n",
       "      <td>3.633006</td>\n",
       "      <td>4.032177</td>\n",
       "      <td>2.678515</td>\n",
       "      <td>2.749208</td>\n",
       "      <td>3.078260</td>\n",
       "      <td>...</td>\n",
       "      <td>5.781509</td>\n",
       "      <td>4.814215</td>\n",
       "      <td>4.160329</td>\n",
       "      <td>3.627428</td>\n",
       "      <td>5.306917</td>\n",
       "      <td>3.814284</td>\n",
       "      <td>4.876223</td>\n",
       "      <td>5.260685</td>\n",
       "      <td>1386.0</td>\n",
       "      <td>0.057061</td>\n",
       "    </tr>\n",
       "    <tr>\n",
       "      <th>tokens</th>\n",
       "      <td>0.471098</td>\n",
       "      <td>0.152318</td>\n",
       "      <td>0.699477</td>\n",
       "      <td>0.768108</td>\n",
       "      <td>0.735781</td>\n",
       "      <td>0.454126</td>\n",
       "      <td>0.000000</td>\n",
       "      <td>0.315119</td>\n",
       "      <td>0.161718</td>\n",
       "      <td>0.181074</td>\n",
       "      <td>...</td>\n",
       "      <td>1.131165</td>\n",
       "      <td>1.167082</td>\n",
       "      <td>1.950154</td>\n",
       "      <td>1.989235</td>\n",
       "      <td>1.905047</td>\n",
       "      <td>1.972905</td>\n",
       "      <td>1.871109</td>\n",
       "      <td>1.666553</td>\n",
       "      <td>374.0</td>\n",
       "      <td>0.056049</td>\n",
       "    </tr>\n",
       "    <tr>\n",
       "      <th>blocking</th>\n",
       "      <td>0.785164</td>\n",
       "      <td>0.609273</td>\n",
       "      <td>0.699477</td>\n",
       "      <td>0.614487</td>\n",
       "      <td>1.103672</td>\n",
       "      <td>1.059627</td>\n",
       "      <td>0.201609</td>\n",
       "      <td>0.315119</td>\n",
       "      <td>0.000000</td>\n",
       "      <td>0.543222</td>\n",
       "      <td>...</td>\n",
       "      <td>2.765070</td>\n",
       "      <td>2.042394</td>\n",
       "      <td>0.910072</td>\n",
       "      <td>1.053124</td>\n",
       "      <td>1.360748</td>\n",
       "      <td>1.446797</td>\n",
       "      <td>1.757708</td>\n",
       "      <td>2.027974</td>\n",
       "      <td>472.0</td>\n",
       "      <td>0.054803</td>\n",
       "    </tr>\n",
       "    <tr>\n",
       "      <th>browser</th>\n",
       "      <td>1.256262</td>\n",
       "      <td>0.609273</td>\n",
       "      <td>0.839372</td>\n",
       "      <td>0.768108</td>\n",
       "      <td>0.919726</td>\n",
       "      <td>0.756876</td>\n",
       "      <td>0.403218</td>\n",
       "      <td>0.787799</td>\n",
       "      <td>0.000000</td>\n",
       "      <td>0.362148</td>\n",
       "      <td>...</td>\n",
       "      <td>2.890755</td>\n",
       "      <td>2.188280</td>\n",
       "      <td>1.040082</td>\n",
       "      <td>0.936110</td>\n",
       "      <td>1.632897</td>\n",
       "      <td>1.709851</td>\n",
       "      <td>1.757708</td>\n",
       "      <td>2.108290</td>\n",
       "      <td>502.0</td>\n",
       "      <td>0.054800</td>\n",
       "    </tr>\n",
       "  </tbody>\n",
       "</table>\n",
       "<p>50 rows × 38 columns</p>\n",
       "</div>"
      ],
      "text/plain": [
       "                       201908     201909     201910     201911     201912  \\\n",
       "keyword                                                                     \n",
       "2022                 0.314065   0.761591   0.979268   0.921730   0.367891   \n",
       "digital             20.571285  21.781515  20.564618  22.121515  18.762416   \n",
       "pandemic             0.471098   0.456955   0.419686   0.307243   0.551836   \n",
       "ecosystem            3.454720   5.635777   4.756442   4.915892   4.966522   \n",
       "fintech              5.339112   5.635777   6.015500   5.837622   4.414686   \n",
       "2021                 0.000000   0.304637   0.000000   0.153622   0.551836   \n",
       "cryptocurrencies     1.099229   1.218546   1.678744   1.689838   0.919726   \n",
       "adoption             3.297687   3.655639   4.336756   3.226054   3.494960   \n",
       "enable               5.182079   6.245050   5.595814   5.530379   3.678905   \n",
       "register             1.884393   1.523183   1.119163   1.689838   1.839453   \n",
       "banking              4.082850   7.158959   7.414454   5.223135   5.518358   \n",
       "risks                5.810210   5.940413   5.875605   4.915892   5.518358   \n",
       "crypto               0.471098   0.456955   0.559581   0.307243   0.735781   \n",
       "cryptocurrency       2.041425   1.218546   0.839372   1.075351   1.471562   \n",
       "nfts                 0.000000   0.000000   0.000000   0.000000   0.000000   \n",
       "cookies              2.512523   2.437093   1.259058   1.228973   2.023398   \n",
       "framework            1.884393   1.370865   2.378221   1.843460   1.471562   \n",
       "standardsthomson     0.000000   0.000000   0.000000   0.000000   0.000000   \n",
       "innovative           1.570327   1.675501   2.238326   2.304324   1.471562   \n",
       "trustprinciples      0.000000   0.000000   0.000000   0.000000   0.000000   \n",
       "com                  2.198458   0.913910   1.119163   1.997081   1.103672   \n",
       "review               0.785164   1.066228   1.398954   1.536216   1.839453   \n",
       "solutions            3.454720   4.874185   3.917070   4.762271   5.150467   \n",
       "nonfungible          0.000000   0.152318   0.000000   0.000000   0.000000   \n",
       "javascript           0.785164   0.609273   0.699477   0.614487   0.735781   \n",
       "platform             4.082850   2.589411   3.917070   2.765189   3.494960   \n",
       "access               1.727360   3.046366   4.336756   2.765189   2.759179   \n",
       "cookie               0.785164   0.609273   0.559581   0.614487   0.735781   \n",
       "supports             0.628131   0.761591   0.699477   0.768108   1.103672   \n",
       "sector               4.082850   5.483458   5.875605   7.834703   4.966522   \n",
       "cookiepolicy         0.628131   0.609273   0.559581   0.614487   0.735781   \n",
       "cbdc                 0.785164   0.000000   0.139895   0.307243   0.367891   \n",
       "policy               1.413294   2.132456   1.119163   1.075351   1.103672   \n",
       "javascriptcookies    0.628131   0.609273   0.559581   0.614487   0.735781   \n",
       "didhappen            0.628131   0.609273   0.559581   0.614487   0.735781   \n",
       "happen               0.942196   0.761591   0.559581   0.921730   0.919726   \n",
       "informationreview    0.628131   0.609273   0.559581   0.614487   0.735781   \n",
       "supportsjavascript   0.628131   0.609273   0.559581   0.614487   0.735781   \n",
       "reviewterms          0.628131   0.609273   0.559581   0.614487   0.735781   \n",
       "browsersupports      0.628131   0.609273   0.559581   0.614487   0.735781   \n",
       "loadinginformation   0.628131   0.609273   0.559581   0.614487   0.735781   \n",
       "blockingloading      0.628131   0.609273   0.559581   0.614487   0.735781   \n",
       "surebrowser          0.628131   0.609273   0.559581   0.614487   0.735781   \n",
       "servicecookie        0.628131   0.609273   0.559581   0.614487   0.735781   \n",
       "cookiesblocking      0.628131   0.609273   0.559581   0.614487   0.735781   \n",
       "happenmake           0.628131   0.609273   0.559581   0.768108   0.735781   \n",
       "information          3.140654   3.351002   4.336756   3.840541   5.334412   \n",
       "tokens               0.471098   0.152318   0.699477   0.768108   0.735781   \n",
       "blocking             0.785164   0.609273   0.699477   0.614487   1.103672   \n",
       "browser              1.256262   0.609273   0.839372   0.768108   0.919726   \n",
       "\n",
       "                       202001     202002     202003     202004     202005  \\\n",
       "keyword                                                                     \n",
       "2022                 0.454126   1.612871   1.260478   1.455463   0.905371   \n",
       "digital             20.587033  19.959275  15.755972  21.185070  19.737080   \n",
       "pandemic             0.151375   0.604827   3.151194   6.468724   5.975446   \n",
       "ecosystem            5.752259   5.846656   4.254112   4.851543   2.716112   \n",
       "fintech              4.692633   4.637003   5.357030   4.689825   4.526853   \n",
       "2021                 0.302750   0.604827   0.315119   0.808590   1.267519   \n",
       "cryptocurrencies     0.756876   2.016088   0.472679   0.808590   0.905371   \n",
       "adoption             4.087132   4.233786   4.096553   5.660133   3.440409   \n",
       "enable               3.481631   4.233786   4.884351   4.689825   4.526853   \n",
       "register             1.362377   1.612871   1.260478   1.617181   0.724297   \n",
       "banking              7.568762   6.048265   4.726791   6.630442   5.613298   \n",
       "risks                4.087132   5.645047   5.514590   5.013261   4.889002   \n",
       "crypto               0.302750   0.403218   0.787799   0.161718   0.181074   \n",
       "cryptocurrency       0.605501   1.209653   0.787799   0.646872   0.905371   \n",
       "nfts                 0.000000   0.000000   0.000000   0.000000   0.000000   \n",
       "cookies              2.270629   1.612871   1.418037   2.102335   2.716112   \n",
       "framework            1.665128   2.620915   2.678515   2.425771   1.448593   \n",
       "standardsthomson     0.000000   0.000000   0.000000   0.161718   0.000000   \n",
       "innovative           2.270629   1.612871   1.102918   2.102335   1.991815   \n",
       "trustprinciples      0.000000   0.000000   0.000000   0.000000   0.000000   \n",
       "com                  1.362377   1.008044   2.520955   1.455463   1.448593   \n",
       "review               1.211002   1.612871   1.260478   0.323436   1.629667   \n",
       "solutions            4.844008   2.419306   3.781433   4.204670   2.716112   \n",
       "nonfungible          0.000000   0.000000   0.000000   0.000000   0.000000   \n",
       "javascript           0.605501   0.000000   0.472679   0.000000   0.362148   \n",
       "platform             2.573379   3.024133   2.836075   2.749208   3.440409   \n",
       "access               2.876130   3.225741   2.363396   2.910926   3.259334   \n",
       "cookie               0.605501   0.000000   0.157560   0.000000   0.362148   \n",
       "supports             0.756876   0.604827   0.315119   0.646872   0.543222   \n",
       "sector               5.298134   4.838612   4.726791   5.013261   7.061891   \n",
       "cookiepolicy         0.605501   0.000000   0.157560   0.000000   0.362148   \n",
       "cbdc                 0.454126   0.604827   0.472679   0.323436   1.267519   \n",
       "policy               1.513752   1.008044   1.575597   0.323436   1.810741   \n",
       "javascriptcookies    0.605501   0.000000   0.157560   0.000000   0.362148   \n",
       "didhappen            0.605501   0.000000   0.157560   0.000000   0.362148   \n",
       "happen               0.908251   0.201609   0.472679   0.323436   0.362148   \n",
       "informationreview    0.605501   0.000000   0.157560   0.000000   0.362148   \n",
       "supportsjavascript   0.605501   0.000000   0.157560   0.000000   0.362148   \n",
       "reviewterms          0.605501   0.000000   0.157560   0.000000   0.362148   \n",
       "browsersupports      0.605501   0.000000   0.157560   0.000000   0.362148   \n",
       "loadinginformation   0.605501   0.000000   0.157560   0.000000   0.362148   \n",
       "blockingloading      0.605501   0.000000   0.157560   0.000000   0.362148   \n",
       "surebrowser          0.605501   0.000000   0.157560   0.000000   0.362148   \n",
       "servicecookie        0.605501   0.000000   0.157560   0.000000   0.362148   \n",
       "cookiesblocking      0.605501   0.000000   0.157560   0.000000   0.362148   \n",
       "happenmake           0.605501   0.000000   0.157560   0.000000   0.362148   \n",
       "information          3.633006   4.032177   2.678515   2.749208   3.078260   \n",
       "tokens               0.454126   0.000000   0.315119   0.161718   0.181074   \n",
       "blocking             1.059627   0.201609   0.315119   0.000000   0.543222   \n",
       "browser              0.756876   0.403218   0.787799   0.000000   0.362148   \n",
       "\n",
       "                    ...     202112     202201     202202     202203  \\\n",
       "keyword             ...                                               \n",
       "2022                ...   7.918154  11.087283  12.871017  15.445823   \n",
       "digital             ...  27.273641  29.322946  31.592496  30.774631   \n",
       "pandemic            ...   9.300689  11.962595   9.750770   7.722911   \n",
       "ecosystem           ...  11.060279   8.607233   9.750770   7.839925   \n",
       "fintech             ...   9.929114   7.294265  10.400822   9.946174   \n",
       "2021                ...   5.907194   4.814215   3.120246   2.808331   \n",
       "cryptocurrencies    ...   4.021919   5.835412   5.200411   6.435759   \n",
       "adoption            ...   7.792469   7.440151   8.710688   8.776036   \n",
       "enable              ...   7.289729   8.023692   7.670606   7.839925   \n",
       "register            ...   3.519180   3.793018   4.160329   4.329511   \n",
       "banking             ...   6.912674   9.482545  10.790852   8.424994   \n",
       "risks               ...   7.038359   7.586036   9.230729   7.488884   \n",
       "crypto              ...   1.633905   2.625935   2.470195   2.925345   \n",
       "cryptocurrency      ...   2.388015   3.501247   3.510277   3.627428   \n",
       "nfts                ...   1.256850   1.750624   2.080164   2.574304   \n",
       "cookies             ...   4.650344   4.230674   2.340185   2.691318   \n",
       "framework           ...   4.147604   3.501247   4.160329   4.095483   \n",
       "standardsthomson    ...   2.010960   1.896509   2.470195   2.106249   \n",
       "innovative          ...   4.776029   2.771821   3.510277   3.627428   \n",
       "trustprinciples     ...   1.885275   1.750624   2.210175   1.755207   \n",
       "com                 ...   4.273289   2.480050   3.770298   3.627428   \n",
       "review              ...   3.644865   3.209477   1.430113   1.521179   \n",
       "solutions           ...   5.655824   6.418953   4.940390   5.616663   \n",
       "nonfungible         ...   1.382535   0.729427   1.820144   2.106249   \n",
       "javascript          ...   2.890755   2.480050   0.910072   1.053124   \n",
       "platform            ...   5.027399   4.376559   4.680370   4.446525   \n",
       "access              ...   5.027399   3.501247   4.810380   4.797566   \n",
       "cookie              ...   2.765070   2.188280   0.910072   0.819097   \n",
       "supports            ...   3.267810   2.334165   1.300103   1.053124   \n",
       "sector              ...   8.295209   9.190774   6.630524   7.254856   \n",
       "cookiepolicy        ...   2.765070   2.042394   0.910072   0.819097   \n",
       "cbdc                ...   0.879795   1.458853   2.470195   4.095483   \n",
       "policy              ...   4.147604   2.625935   1.820144   1.872221   \n",
       "javascriptcookies   ...   2.765070   2.188280   0.910072   0.819097   \n",
       "didhappen           ...   2.765070   2.042394   0.910072   0.819097   \n",
       "happen              ...   2.890755   2.334165   1.040082   0.819097   \n",
       "informationreview   ...   2.765070   2.042394   0.910072   0.819097   \n",
       "supportsjavascript  ...   2.765070   2.042394   0.910072   0.819097   \n",
       "reviewterms         ...   2.765070   2.042394   0.910072   0.819097   \n",
       "browsersupports     ...   2.765070   2.042394   0.910072   0.819097   \n",
       "loadinginformation  ...   2.765070   2.042394   0.910072   0.819097   \n",
       "blockingloading     ...   2.765070   2.042394   0.910072   0.819097   \n",
       "surebrowser         ...   2.765070   2.042394   0.910072   0.819097   \n",
       "servicecookie       ...   2.765070   2.042394   0.910072   0.819097   \n",
       "cookiesblocking     ...   2.765070   2.042394   0.910072   0.819097   \n",
       "happenmake          ...   2.765070   2.042394   0.910072   0.819097   \n",
       "information         ...   5.781509   4.814215   4.160329   3.627428   \n",
       "tokens              ...   1.131165   1.167082   1.950154   1.989235   \n",
       "blocking            ...   2.765070   2.042394   0.910072   1.053124   \n",
       "browser             ...   2.890755   2.188280   1.040082   0.936110   \n",
       "\n",
       "                       202204     202205     202206     202207  tot_cnt  \\\n",
       "keyword                                                                   \n",
       "2022                13.335329  14.599500  15.479174  15.862371   1999.0   \n",
       "digital             31.161126  31.303433  24.778018  24.516398   7759.0   \n",
       "pandemic             7.211964   7.365514   6.633932   6.164238   2299.0   \n",
       "ecosystem            9.117011   8.417730   8.221539   6.304790   2085.0   \n",
       "fintech             11.838506   9.601473   6.520531   5.120132   2150.0   \n",
       "2021                 4.354393   2.499014   2.041210   2.489790    838.0   \n",
       "cryptocurrencies     4.490468   4.208865   3.288616   2.790974    926.0   \n",
       "adoption             7.484113   7.760095   6.180330   5.361080   1843.0   \n",
       "enable               7.756263   8.417730   6.917433   5.762659   1959.0   \n",
       "register             2.993645   3.551230   3.005114   2.248842    907.0   \n",
       "banking              8.028412  10.653689   5.726727   4.839027   2178.0   \n",
       "risks                7.892338   8.417730   6.690632   5.782738   1900.0   \n",
       "crypto               3.401870   2.762068   1.927809   2.831132    488.0   \n",
       "cryptocurrency       3.810094   3.025122   2.154610   2.208685    663.0   \n",
       "nfts                 1.905047   3.156649   1.474207   1.626395    289.0   \n",
       "cookies              2.585421   4.208865   3.005114   3.252790    908.0   \n",
       "framework            3.401870   4.734973   3.798918   2.991764    876.0   \n",
       "standardsthomson     0.816449   1.052216   1.304106   0.963790    401.0   \n",
       "innovative           3.129720   4.734973   3.742218   2.931527    866.0   \n",
       "trustprinciples      0.680374   1.183743   1.360807   0.963790    377.0   \n",
       "com                  2.993645   1.841378   3.402016   3.232711    886.0   \n",
       "review               2.857571   2.499014   2.381411   2.931527    727.0   \n",
       "solutions            5.851216   6.839405   5.386526   4.658317   1544.0   \n",
       "nonfungible          2.449346   2.235959   1.304106   1.144500    252.0   \n",
       "javascript           1.360748   1.709851   1.701008   1.987816    472.0   \n",
       "platform             5.851216   4.208865   4.422621   4.357132   1300.0   \n",
       "access               4.898692   4.734973   4.536022   3.995711   1180.0   \n",
       "cookie               1.496823   1.446797   1.814409   1.927579    460.0   \n",
       "supports             1.496823   1.578324   1.814409   2.248842    548.0   \n",
       "sector               6.123365   8.680784   6.860733   6.445343   1961.0   \n",
       "cookiepolicy         1.496823   1.446797   1.701008   1.907500    451.0   \n",
       "cbdc                 2.449346   2.367487   1.360807   0.763000    370.0   \n",
       "policy               2.041122   2.630541   2.664913   2.790974    706.0   \n",
       "javascriptcookies    1.360748   1.446797   1.587608   1.887421    443.0   \n",
       "didhappen            1.360748   1.446797   1.587608   1.867342    443.0   \n",
       "happen               1.905047   1.446797   1.814409   2.208685    515.0   \n",
       "informationreview    1.360748   1.446797   1.587608   1.867342    441.0   \n",
       "supportsjavascript   1.360748   1.446797   1.587608   1.847263    440.0   \n",
       "reviewterms          1.360748   1.446797   1.587608   1.847263    440.0   \n",
       "browsersupports      1.360748   1.446797   1.587608   1.847263    440.0   \n",
       "loadinginformation   1.360748   1.446797   1.587608   1.847263    440.0   \n",
       "blockingloading      1.360748   1.446797   1.587608   1.847263    440.0   \n",
       "surebrowser          1.360748   1.446797   1.587608   1.847263    440.0   \n",
       "servicecookie        1.360748   1.446797   1.587608   1.847263    440.0   \n",
       "cookiesblocking      1.360748   1.446797   1.587608   1.847263    440.0   \n",
       "happenmake           1.360748   1.446797   1.587608   1.847263    441.0   \n",
       "information          5.306917   3.814284   4.876223   5.260685   1386.0   \n",
       "tokens               1.905047   1.972905   1.871109   1.666553    374.0   \n",
       "blocking             1.360748   1.446797   1.757708   2.027974    472.0   \n",
       "browser              1.632897   1.709851   1.757708   2.108290    502.0   \n",
       "\n",
       "                       slope  \n",
       "keyword                       \n",
       "2022                0.401038  \n",
       "digital             0.325915  \n",
       "pandemic            0.228024  \n",
       "ecosystem           0.149436  \n",
       "fintech             0.140944  \n",
       "2021                0.136272  \n",
       "cryptocurrencies    0.136251  \n",
       "adoption            0.124951  \n",
       "enable              0.093404  \n",
       "register            0.088211  \n",
       "banking             0.082254  \n",
       "risks               0.081285  \n",
       "crypto              0.079567  \n",
       "cryptocurrency      0.075788  \n",
       "nfts                0.072699  \n",
       "cookies             0.072073  \n",
       "framework           0.070876  \n",
       "standardsthomson    0.069073  \n",
       "innovative          0.068444  \n",
       "trustprinciples     0.066789  \n",
       "com                 0.066278  \n",
       "review              0.062929  \n",
       "solutions           0.061990  \n",
       "nonfungible         0.061675  \n",
       "javascript          0.060941  \n",
       "platform            0.060761  \n",
       "access              0.060730  \n",
       "cookie              0.060105  \n",
       "supports            0.060085  \n",
       "sector              0.059843  \n",
       "cookiepolicy        0.059717  \n",
       "cbdc                0.059053  \n",
       "policy              0.058497  \n",
       "javascriptcookies   0.058331  \n",
       "didhappen           0.058189  \n",
       "happen              0.057959  \n",
       "informationreview   0.057809  \n",
       "supportsjavascript  0.057718  \n",
       "reviewterms         0.057718  \n",
       "browsersupports     0.057718  \n",
       "loadinginformation  0.057718  \n",
       "blockingloading     0.057718  \n",
       "surebrowser         0.057718  \n",
       "servicecookie       0.057718  \n",
       "cookiesblocking     0.057718  \n",
       "happenmake          0.057145  \n",
       "information         0.057061  \n",
       "tokens              0.056049  \n",
       "blocking            0.054803  \n",
       "browser             0.054800  \n",
       "\n",
       "[50 rows x 38 columns]"
      ]
     },
     "execution_count": 95,
     "metadata": {},
     "output_type": "execute_result"
    }
   ],
   "source": [
    "df_es.sort_values(by = 'slope', ascending = False)[0:50]"
   ]
  },
  {
   "cell_type": "code",
   "execution_count": 100,
   "id": "9f73a7e9",
   "metadata": {},
   "outputs": [
    {
     "data": {
      "text/html": [
       "<div>\n",
       "<style scoped>\n",
       "    .dataframe tbody tr th:only-of-type {\n",
       "        vertical-align: middle;\n",
       "    }\n",
       "\n",
       "    .dataframe tbody tr th {\n",
       "        vertical-align: top;\n",
       "    }\n",
       "\n",
       "    .dataframe thead th {\n",
       "        text-align: right;\n",
       "    }\n",
       "</style>\n",
       "<table border=\"1\" class=\"dataframe\">\n",
       "  <thead>\n",
       "    <tr style=\"text-align: right;\">\n",
       "      <th></th>\n",
       "      <th>201908</th>\n",
       "      <th>201909</th>\n",
       "      <th>201910</th>\n",
       "      <th>201911</th>\n",
       "      <th>201912</th>\n",
       "      <th>202001</th>\n",
       "      <th>202002</th>\n",
       "      <th>202003</th>\n",
       "      <th>202004</th>\n",
       "      <th>202005</th>\n",
       "      <th>...</th>\n",
       "      <th>202112</th>\n",
       "      <th>202201</th>\n",
       "      <th>202202</th>\n",
       "      <th>202203</th>\n",
       "      <th>202204</th>\n",
       "      <th>202205</th>\n",
       "      <th>202206</th>\n",
       "      <th>202207</th>\n",
       "      <th>tot_cnt</th>\n",
       "      <th>slope</th>\n",
       "    </tr>\n",
       "    <tr>\n",
       "      <th>keyword</th>\n",
       "      <th></th>\n",
       "      <th></th>\n",
       "      <th></th>\n",
       "      <th></th>\n",
       "      <th></th>\n",
       "      <th></th>\n",
       "      <th></th>\n",
       "      <th></th>\n",
       "      <th></th>\n",
       "      <th></th>\n",
       "      <th></th>\n",
       "      <th></th>\n",
       "      <th></th>\n",
       "      <th></th>\n",
       "      <th></th>\n",
       "      <th></th>\n",
       "      <th></th>\n",
       "      <th></th>\n",
       "      <th></th>\n",
       "      <th></th>\n",
       "      <th></th>\n",
       "    </tr>\n",
       "  </thead>\n",
       "  <tbody>\n",
       "    <tr>\n",
       "      <th>coronavirus</th>\n",
       "      <td>0.000000</td>\n",
       "      <td>0.000000</td>\n",
       "      <td>0.000000</td>\n",
       "      <td>0.000000</td>\n",
       "      <td>0.000000</td>\n",
       "      <td>0.454126</td>\n",
       "      <td>4.032177</td>\n",
       "      <td>20.010084</td>\n",
       "      <td>24.742868</td>\n",
       "      <td>23.177489</td>\n",
       "      <td>...</td>\n",
       "      <td>2.136645</td>\n",
       "      <td>2.042394</td>\n",
       "      <td>1.040082</td>\n",
       "      <td>1.170138</td>\n",
       "      <td>0.816449</td>\n",
       "      <td>1.183743</td>\n",
       "      <td>0.623703</td>\n",
       "      <td>0.903553</td>\n",
       "      <td>1394.0</td>\n",
       "      <td>-0.208918</td>\n",
       "    </tr>\n",
       "    <tr>\n",
       "      <th>reuters</th>\n",
       "      <td>3.768785</td>\n",
       "      <td>6.854323</td>\n",
       "      <td>4.196861</td>\n",
       "      <td>6.298487</td>\n",
       "      <td>6.622029</td>\n",
       "      <td>5.298134</td>\n",
       "      <td>9.072398</td>\n",
       "      <td>7.877986</td>\n",
       "      <td>9.864804</td>\n",
       "      <td>8.329410</td>\n",
       "      <td>...</td>\n",
       "      <td>1.633905</td>\n",
       "      <td>1.750624</td>\n",
       "      <td>2.210175</td>\n",
       "      <td>1.755207</td>\n",
       "      <td>1.224673</td>\n",
       "      <td>2.104432</td>\n",
       "      <td>1.417507</td>\n",
       "      <td>1.586237</td>\n",
       "      <td>1249.0</td>\n",
       "      <td>-0.203602</td>\n",
       "    </tr>\n",
       "    <tr>\n",
       "      <th>2019</th>\n",
       "      <td>5.339112</td>\n",
       "      <td>4.569549</td>\n",
       "      <td>6.155396</td>\n",
       "      <td>6.759352</td>\n",
       "      <td>5.702303</td>\n",
       "      <td>5.298134</td>\n",
       "      <td>5.443439</td>\n",
       "      <td>3.151194</td>\n",
       "      <td>3.719516</td>\n",
       "      <td>2.716112</td>\n",
       "      <td>...</td>\n",
       "      <td>1.382535</td>\n",
       "      <td>2.334165</td>\n",
       "      <td>0.780062</td>\n",
       "      <td>1.053124</td>\n",
       "      <td>1.632897</td>\n",
       "      <td>1.578324</td>\n",
       "      <td>0.963905</td>\n",
       "      <td>0.863395</td>\n",
       "      <td>742.0</td>\n",
       "      <td>-0.130571</td>\n",
       "    </tr>\n",
       "    <tr>\n",
       "      <th>filephoto</th>\n",
       "      <td>2.512523</td>\n",
       "      <td>2.894047</td>\n",
       "      <td>1.538849</td>\n",
       "      <td>1.997081</td>\n",
       "      <td>2.943124</td>\n",
       "      <td>1.816503</td>\n",
       "      <td>2.217697</td>\n",
       "      <td>3.623873</td>\n",
       "      <td>4.366389</td>\n",
       "      <td>3.983631</td>\n",
       "      <td>...</td>\n",
       "      <td>0.125685</td>\n",
       "      <td>0.000000</td>\n",
       "      <td>0.000000</td>\n",
       "      <td>0.117014</td>\n",
       "      <td>0.000000</td>\n",
       "      <td>0.000000</td>\n",
       "      <td>0.170101</td>\n",
       "      <td>0.000000</td>\n",
       "      <td>337.0</td>\n",
       "      <td>-0.115974</td>\n",
       "    </tr>\n",
       "    <tr>\n",
       "      <th>2020</th>\n",
       "      <td>2.826589</td>\n",
       "      <td>4.569549</td>\n",
       "      <td>4.336756</td>\n",
       "      <td>3.840541</td>\n",
       "      <td>6.254139</td>\n",
       "      <td>6.509135</td>\n",
       "      <td>9.475615</td>\n",
       "      <td>8.508225</td>\n",
       "      <td>8.085905</td>\n",
       "      <td>7.786188</td>\n",
       "      <td>...</td>\n",
       "      <td>5.027399</td>\n",
       "      <td>4.814215</td>\n",
       "      <td>3.510277</td>\n",
       "      <td>2.808331</td>\n",
       "      <td>2.177197</td>\n",
       "      <td>3.551230</td>\n",
       "      <td>2.438112</td>\n",
       "      <td>2.329158</td>\n",
       "      <td>1834.0</td>\n",
       "      <td>-0.109291</td>\n",
       "    </tr>\n",
       "    <tr>\n",
       "      <th>file</th>\n",
       "      <td>2.512523</td>\n",
       "      <td>1.066228</td>\n",
       "      <td>1.538849</td>\n",
       "      <td>1.689838</td>\n",
       "      <td>3.311015</td>\n",
       "      <td>1.513752</td>\n",
       "      <td>1.814480</td>\n",
       "      <td>1.890717</td>\n",
       "      <td>5.013261</td>\n",
       "      <td>2.172890</td>\n",
       "      <td>...</td>\n",
       "      <td>0.377055</td>\n",
       "      <td>0.145885</td>\n",
       "      <td>0.260021</td>\n",
       "      <td>0.234028</td>\n",
       "      <td>0.816449</td>\n",
       "      <td>0.131527</td>\n",
       "      <td>0.396902</td>\n",
       "      <td>0.501974</td>\n",
       "      <td>330.0</td>\n",
       "      <td>-0.077725</td>\n",
       "    </tr>\n",
       "    <tr>\n",
       "      <th>mint</th>\n",
       "      <td>2.198458</td>\n",
       "      <td>2.589411</td>\n",
       "      <td>1.678744</td>\n",
       "      <td>1.997081</td>\n",
       "      <td>1.655507</td>\n",
       "      <td>2.270629</td>\n",
       "      <td>2.419306</td>\n",
       "      <td>1.418037</td>\n",
       "      <td>1.293745</td>\n",
       "      <td>1.810741</td>\n",
       "      <td>...</td>\n",
       "      <td>0.251370</td>\n",
       "      <td>0.729427</td>\n",
       "      <td>0.000000</td>\n",
       "      <td>0.468055</td>\n",
       "      <td>0.272150</td>\n",
       "      <td>0.000000</td>\n",
       "      <td>0.113401</td>\n",
       "      <td>0.281105</td>\n",
       "      <td>209.0</td>\n",
       "      <td>-0.066146</td>\n",
       "    </tr>\n",
       "    <tr>\n",
       "      <th>validemail</th>\n",
       "      <td>2.198458</td>\n",
       "      <td>2.741729</td>\n",
       "      <td>1.398954</td>\n",
       "      <td>1.382595</td>\n",
       "      <td>1.103672</td>\n",
       "      <td>1.513752</td>\n",
       "      <td>2.016088</td>\n",
       "      <td>1.733157</td>\n",
       "      <td>1.132027</td>\n",
       "      <td>1.810741</td>\n",
       "      <td>...</td>\n",
       "      <td>0.125685</td>\n",
       "      <td>0.000000</td>\n",
       "      <td>0.000000</td>\n",
       "      <td>0.117014</td>\n",
       "      <td>0.000000</td>\n",
       "      <td>0.000000</td>\n",
       "      <td>0.056700</td>\n",
       "      <td>0.000000</td>\n",
       "      <td>150.0</td>\n",
       "      <td>-0.064624</td>\n",
       "    </tr>\n",
       "    <tr>\n",
       "      <th>subscribing</th>\n",
       "      <td>2.198458</td>\n",
       "      <td>2.284774</td>\n",
       "      <td>0.979268</td>\n",
       "      <td>1.536216</td>\n",
       "      <td>1.471562</td>\n",
       "      <td>1.967878</td>\n",
       "      <td>2.217697</td>\n",
       "      <td>1.102918</td>\n",
       "      <td>1.617181</td>\n",
       "      <td>1.086445</td>\n",
       "      <td>...</td>\n",
       "      <td>0.251370</td>\n",
       "      <td>0.145885</td>\n",
       "      <td>0.000000</td>\n",
       "      <td>0.000000</td>\n",
       "      <td>0.000000</td>\n",
       "      <td>0.000000</td>\n",
       "      <td>0.170101</td>\n",
       "      <td>0.080316</td>\n",
       "      <td>158.0</td>\n",
       "      <td>-0.061767</td>\n",
       "    </tr>\n",
       "    <tr>\n",
       "      <th>2018</th>\n",
       "      <td>2.669556</td>\n",
       "      <td>2.741729</td>\n",
       "      <td>2.098430</td>\n",
       "      <td>2.304324</td>\n",
       "      <td>2.391288</td>\n",
       "      <td>2.270629</td>\n",
       "      <td>2.620915</td>\n",
       "      <td>2.048276</td>\n",
       "      <td>1.293745</td>\n",
       "      <td>0.362148</td>\n",
       "      <td>...</td>\n",
       "      <td>0.879795</td>\n",
       "      <td>0.875312</td>\n",
       "      <td>0.520041</td>\n",
       "      <td>0.234028</td>\n",
       "      <td>0.408224</td>\n",
       "      <td>0.657635</td>\n",
       "      <td>0.680403</td>\n",
       "      <td>0.522053</td>\n",
       "      <td>298.0</td>\n",
       "      <td>-0.058390</td>\n",
       "    </tr>\n",
       "    <tr>\n",
       "      <th>visitbusiness</th>\n",
       "      <td>1.727360</td>\n",
       "      <td>1.370865</td>\n",
       "      <td>0.979268</td>\n",
       "      <td>2.457946</td>\n",
       "      <td>2.207343</td>\n",
       "      <td>1.362377</td>\n",
       "      <td>1.411262</td>\n",
       "      <td>2.048276</td>\n",
       "      <td>1.132027</td>\n",
       "      <td>1.629667</td>\n",
       "      <td>...</td>\n",
       "      <td>0.000000</td>\n",
       "      <td>0.000000</td>\n",
       "      <td>0.000000</td>\n",
       "      <td>0.000000</td>\n",
       "      <td>0.000000</td>\n",
       "      <td>0.000000</td>\n",
       "      <td>0.000000</td>\n",
       "      <td>0.000000</td>\n",
       "      <td>102.0</td>\n",
       "      <td>-0.054774</td>\n",
       "    </tr>\n",
       "    <tr>\n",
       "      <th>libra</th>\n",
       "      <td>1.884393</td>\n",
       "      <td>1.066228</td>\n",
       "      <td>1.818640</td>\n",
       "      <td>2.457946</td>\n",
       "      <td>2.023398</td>\n",
       "      <td>0.756876</td>\n",
       "      <td>1.814480</td>\n",
       "      <td>0.630239</td>\n",
       "      <td>1.293745</td>\n",
       "      <td>0.905371</td>\n",
       "      <td>...</td>\n",
       "      <td>0.125685</td>\n",
       "      <td>0.145885</td>\n",
       "      <td>0.260021</td>\n",
       "      <td>0.234028</td>\n",
       "      <td>0.000000</td>\n",
       "      <td>0.000000</td>\n",
       "      <td>0.000000</td>\n",
       "      <td>0.140553</td>\n",
       "      <td>158.0</td>\n",
       "      <td>-0.049051</td>\n",
       "    </tr>\n",
       "    <tr>\n",
       "      <th>homepagestories</th>\n",
       "      <td>1.413294</td>\n",
       "      <td>1.827819</td>\n",
       "      <td>0.839372</td>\n",
       "      <td>1.536216</td>\n",
       "      <td>1.655507</td>\n",
       "      <td>1.513752</td>\n",
       "      <td>1.209653</td>\n",
       "      <td>1.733157</td>\n",
       "      <td>0.970309</td>\n",
       "      <td>1.267519</td>\n",
       "      <td>...</td>\n",
       "      <td>0.000000</td>\n",
       "      <td>0.000000</td>\n",
       "      <td>0.000000</td>\n",
       "      <td>0.000000</td>\n",
       "      <td>0.000000</td>\n",
       "      <td>0.000000</td>\n",
       "      <td>0.000000</td>\n",
       "      <td>0.000000</td>\n",
       "      <td>88.0</td>\n",
       "      <td>-0.047277</td>\n",
       "    </tr>\n",
       "    <tr>\n",
       "      <th>slideshow</th>\n",
       "      <td>1.099229</td>\n",
       "      <td>1.066228</td>\n",
       "      <td>0.559581</td>\n",
       "      <td>0.921730</td>\n",
       "      <td>0.183945</td>\n",
       "      <td>1.665128</td>\n",
       "      <td>2.419306</td>\n",
       "      <td>0.787799</td>\n",
       "      <td>0.970309</td>\n",
       "      <td>0.724297</td>\n",
       "      <td>...</td>\n",
       "      <td>0.000000</td>\n",
       "      <td>0.000000</td>\n",
       "      <td>0.000000</td>\n",
       "      <td>0.000000</td>\n",
       "      <td>0.000000</td>\n",
       "      <td>0.000000</td>\n",
       "      <td>0.000000</td>\n",
       "      <td>0.000000</td>\n",
       "      <td>133.0</td>\n",
       "      <td>-0.046749</td>\n",
       "    </tr>\n",
       "    <tr>\n",
       "      <th>entervalid</th>\n",
       "      <td>0.942196</td>\n",
       "      <td>1.218546</td>\n",
       "      <td>1.119163</td>\n",
       "      <td>1.536216</td>\n",
       "      <td>0.919726</td>\n",
       "      <td>1.665128</td>\n",
       "      <td>1.612871</td>\n",
       "      <td>0.945358</td>\n",
       "      <td>1.132027</td>\n",
       "      <td>0.905371</td>\n",
       "      <td>...</td>\n",
       "      <td>0.125685</td>\n",
       "      <td>0.000000</td>\n",
       "      <td>0.000000</td>\n",
       "      <td>0.000000</td>\n",
       "      <td>0.000000</td>\n",
       "      <td>0.000000</td>\n",
       "      <td>0.056700</td>\n",
       "      <td>0.000000</td>\n",
       "      <td>104.0</td>\n",
       "      <td>-0.045418</td>\n",
       "    </tr>\n",
       "    <tr>\n",
       "      <th>coverage</th>\n",
       "      <td>1.570327</td>\n",
       "      <td>1.980138</td>\n",
       "      <td>1.538849</td>\n",
       "      <td>2.611568</td>\n",
       "      <td>3.127069</td>\n",
       "      <td>1.967878</td>\n",
       "      <td>1.612871</td>\n",
       "      <td>2.836075</td>\n",
       "      <td>2.102335</td>\n",
       "      <td>1.448593</td>\n",
       "      <td>...</td>\n",
       "      <td>1.131165</td>\n",
       "      <td>0.291771</td>\n",
       "      <td>0.780062</td>\n",
       "      <td>0.585069</td>\n",
       "      <td>0.408224</td>\n",
       "      <td>0.526108</td>\n",
       "      <td>1.077305</td>\n",
       "      <td>0.903553</td>\n",
       "      <td>321.0</td>\n",
       "      <td>-0.045326</td>\n",
       "    </tr>\n",
       "    <tr>\n",
       "      <th>subscribemint</th>\n",
       "      <td>1.099229</td>\n",
       "      <td>1.523183</td>\n",
       "      <td>0.979268</td>\n",
       "      <td>0.153622</td>\n",
       "      <td>0.919726</td>\n",
       "      <td>1.513752</td>\n",
       "      <td>1.612871</td>\n",
       "      <td>1.260478</td>\n",
       "      <td>1.455463</td>\n",
       "      <td>1.267519</td>\n",
       "      <td>...</td>\n",
       "      <td>0.000000</td>\n",
       "      <td>0.000000</td>\n",
       "      <td>0.000000</td>\n",
       "      <td>0.000000</td>\n",
       "      <td>0.000000</td>\n",
       "      <td>0.000000</td>\n",
       "      <td>0.000000</td>\n",
       "      <td>0.000000</td>\n",
       "      <td>92.0</td>\n",
       "      <td>-0.043062</td>\n",
       "    </tr>\n",
       "    <tr>\n",
       "      <th>stories</th>\n",
       "      <td>1.256262</td>\n",
       "      <td>1.523183</td>\n",
       "      <td>0.839372</td>\n",
       "      <td>2.457946</td>\n",
       "      <td>2.023398</td>\n",
       "      <td>1.362377</td>\n",
       "      <td>1.814480</td>\n",
       "      <td>2.048276</td>\n",
       "      <td>1.455463</td>\n",
       "      <td>0.905371</td>\n",
       "      <td>...</td>\n",
       "      <td>0.754110</td>\n",
       "      <td>0.437656</td>\n",
       "      <td>0.130010</td>\n",
       "      <td>0.117014</td>\n",
       "      <td>0.408224</td>\n",
       "      <td>0.263054</td>\n",
       "      <td>0.396902</td>\n",
       "      <td>0.481895</td>\n",
       "      <td>186.0</td>\n",
       "      <td>-0.041578</td>\n",
       "    </tr>\n",
       "    <tr>\n",
       "      <th>insider</th>\n",
       "      <td>1.727360</td>\n",
       "      <td>0.761591</td>\n",
       "      <td>2.238326</td>\n",
       "      <td>2.150703</td>\n",
       "      <td>1.839453</td>\n",
       "      <td>1.059627</td>\n",
       "      <td>0.604827</td>\n",
       "      <td>1.575597</td>\n",
       "      <td>0.808590</td>\n",
       "      <td>0.724297</td>\n",
       "      <td>...</td>\n",
       "      <td>0.000000</td>\n",
       "      <td>0.145885</td>\n",
       "      <td>0.000000</td>\n",
       "      <td>0.234028</td>\n",
       "      <td>0.272150</td>\n",
       "      <td>0.263054</td>\n",
       "      <td>0.283501</td>\n",
       "      <td>0.301184</td>\n",
       "      <td>156.0</td>\n",
       "      <td>-0.041211</td>\n",
       "    </tr>\n",
       "    <tr>\n",
       "      <th>times</th>\n",
       "      <td>2.355491</td>\n",
       "      <td>3.198684</td>\n",
       "      <td>2.797907</td>\n",
       "      <td>2.611568</td>\n",
       "      <td>1.655507</td>\n",
       "      <td>3.178880</td>\n",
       "      <td>3.628959</td>\n",
       "      <td>2.678515</td>\n",
       "      <td>3.557798</td>\n",
       "      <td>3.259334</td>\n",
       "      <td>...</td>\n",
       "      <td>1.633905</td>\n",
       "      <td>1.458853</td>\n",
       "      <td>1.560123</td>\n",
       "      <td>2.457290</td>\n",
       "      <td>1.224673</td>\n",
       "      <td>1.315270</td>\n",
       "      <td>1.984509</td>\n",
       "      <td>2.108290</td>\n",
       "      <td>726.0</td>\n",
       "      <td>-0.040667</td>\n",
       "    </tr>\n",
       "    <tr>\n",
       "      <th>emailthank</th>\n",
       "      <td>1.099229</td>\n",
       "      <td>0.761591</td>\n",
       "      <td>0.839372</td>\n",
       "      <td>0.768108</td>\n",
       "      <td>0.735781</td>\n",
       "      <td>1.816503</td>\n",
       "      <td>1.411262</td>\n",
       "      <td>1.102918</td>\n",
       "      <td>1.455463</td>\n",
       "      <td>1.086445</td>\n",
       "      <td>...</td>\n",
       "      <td>0.125685</td>\n",
       "      <td>0.000000</td>\n",
       "      <td>0.000000</td>\n",
       "      <td>0.000000</td>\n",
       "      <td>0.000000</td>\n",
       "      <td>0.000000</td>\n",
       "      <td>0.056700</td>\n",
       "      <td>0.000000</td>\n",
       "      <td>95.0</td>\n",
       "      <td>-0.040452</td>\n",
       "    </tr>\n",
       "    <tr>\n",
       "      <th>thanksubscribing</th>\n",
       "      <td>0.942196</td>\n",
       "      <td>1.675501</td>\n",
       "      <td>0.279791</td>\n",
       "      <td>1.843460</td>\n",
       "      <td>0.551836</td>\n",
       "      <td>1.665128</td>\n",
       "      <td>1.008044</td>\n",
       "      <td>0.945358</td>\n",
       "      <td>0.323436</td>\n",
       "      <td>1.267519</td>\n",
       "      <td>...</td>\n",
       "      <td>0.000000</td>\n",
       "      <td>0.145885</td>\n",
       "      <td>0.000000</td>\n",
       "      <td>0.000000</td>\n",
       "      <td>0.000000</td>\n",
       "      <td>0.000000</td>\n",
       "      <td>0.000000</td>\n",
       "      <td>0.020079</td>\n",
       "      <td>91.0</td>\n",
       "      <td>-0.040325</td>\n",
       "    </tr>\n",
       "    <tr>\n",
       "      <th>insiders</th>\n",
       "      <td>1.099229</td>\n",
       "      <td>1.370865</td>\n",
       "      <td>0.699477</td>\n",
       "      <td>1.843460</td>\n",
       "      <td>1.287617</td>\n",
       "      <td>1.211002</td>\n",
       "      <td>1.411262</td>\n",
       "      <td>1.575597</td>\n",
       "      <td>0.808590</td>\n",
       "      <td>1.448593</td>\n",
       "      <td>...</td>\n",
       "      <td>0.251370</td>\n",
       "      <td>0.000000</td>\n",
       "      <td>0.000000</td>\n",
       "      <td>0.000000</td>\n",
       "      <td>0.136075</td>\n",
       "      <td>0.000000</td>\n",
       "      <td>0.113401</td>\n",
       "      <td>0.120474</td>\n",
       "      <td>110.0</td>\n",
       "      <td>-0.040234</td>\n",
       "    </tr>\n",
       "    <tr>\n",
       "      <th>billion</th>\n",
       "      <td>8.008668</td>\n",
       "      <td>8.834460</td>\n",
       "      <td>7.554349</td>\n",
       "      <td>9.831784</td>\n",
       "      <td>7.909646</td>\n",
       "      <td>8.931139</td>\n",
       "      <td>8.467571</td>\n",
       "      <td>6.144829</td>\n",
       "      <td>9.379649</td>\n",
       "      <td>8.148336</td>\n",
       "      <td>...</td>\n",
       "      <td>7.289729</td>\n",
       "      <td>5.835412</td>\n",
       "      <td>11.440904</td>\n",
       "      <td>7.371870</td>\n",
       "      <td>5.170842</td>\n",
       "      <td>7.760095</td>\n",
       "      <td>7.257635</td>\n",
       "      <td>6.726448</td>\n",
       "      <td>2482.0</td>\n",
       "      <td>-0.039289</td>\n",
       "    </tr>\n",
       "    <tr>\n",
       "      <th>insidershomepage</th>\n",
       "      <td>1.570327</td>\n",
       "      <td>0.152318</td>\n",
       "      <td>0.559581</td>\n",
       "      <td>2.150703</td>\n",
       "      <td>1.471562</td>\n",
       "      <td>0.908251</td>\n",
       "      <td>1.209653</td>\n",
       "      <td>1.890717</td>\n",
       "      <td>0.808590</td>\n",
       "      <td>0.905371</td>\n",
       "      <td>...</td>\n",
       "      <td>0.000000</td>\n",
       "      <td>0.000000</td>\n",
       "      <td>0.000000</td>\n",
       "      <td>0.000000</td>\n",
       "      <td>0.000000</td>\n",
       "      <td>0.000000</td>\n",
       "      <td>0.000000</td>\n",
       "      <td>0.000000</td>\n",
       "      <td>72.0</td>\n",
       "      <td>-0.038789</td>\n",
       "    </tr>\n",
       "    <tr>\n",
       "      <th>checkproducts</th>\n",
       "      <td>0.785164</td>\n",
       "      <td>1.066228</td>\n",
       "      <td>0.559581</td>\n",
       "      <td>1.536216</td>\n",
       "      <td>1.655507</td>\n",
       "      <td>0.908251</td>\n",
       "      <td>1.209653</td>\n",
       "      <td>2.048276</td>\n",
       "      <td>0.970309</td>\n",
       "      <td>0.543222</td>\n",
       "      <td>...</td>\n",
       "      <td>0.000000</td>\n",
       "      <td>0.000000</td>\n",
       "      <td>0.000000</td>\n",
       "      <td>0.000000</td>\n",
       "      <td>0.000000</td>\n",
       "      <td>0.000000</td>\n",
       "      <td>0.000000</td>\n",
       "      <td>0.000000</td>\n",
       "      <td>69.0</td>\n",
       "      <td>-0.037384</td>\n",
       "    </tr>\n",
       "    <tr>\n",
       "      <th>deal</th>\n",
       "      <td>2.198458</td>\n",
       "      <td>2.437093</td>\n",
       "      <td>2.518116</td>\n",
       "      <td>1.997081</td>\n",
       "      <td>1.471562</td>\n",
       "      <td>1.665128</td>\n",
       "      <td>1.814480</td>\n",
       "      <td>1.733157</td>\n",
       "      <td>1.778899</td>\n",
       "      <td>1.448593</td>\n",
       "      <td>...</td>\n",
       "      <td>1.508220</td>\n",
       "      <td>2.042394</td>\n",
       "      <td>0.650051</td>\n",
       "      <td>0.936110</td>\n",
       "      <td>1.088598</td>\n",
       "      <td>1.183743</td>\n",
       "      <td>1.360807</td>\n",
       "      <td>1.465763</td>\n",
       "      <td>474.0</td>\n",
       "      <td>-0.036489</td>\n",
       "    </tr>\n",
       "    <tr>\n",
       "      <th>startup</th>\n",
       "      <td>6.124276</td>\n",
       "      <td>6.549686</td>\n",
       "      <td>3.917070</td>\n",
       "      <td>4.915892</td>\n",
       "      <td>4.966522</td>\n",
       "      <td>5.298134</td>\n",
       "      <td>3.830568</td>\n",
       "      <td>3.623873</td>\n",
       "      <td>4.851543</td>\n",
       "      <td>4.526853</td>\n",
       "      <td>...</td>\n",
       "      <td>4.901714</td>\n",
       "      <td>3.647133</td>\n",
       "      <td>3.900308</td>\n",
       "      <td>3.276387</td>\n",
       "      <td>4.218318</td>\n",
       "      <td>3.945811</td>\n",
       "      <td>2.268011</td>\n",
       "      <td>2.871290</td>\n",
       "      <td>1238.0</td>\n",
       "      <td>-0.036221</td>\n",
       "    </tr>\n",
       "    <tr>\n",
       "      <th>productsmentioned</th>\n",
       "      <td>0.785164</td>\n",
       "      <td>1.066228</td>\n",
       "      <td>0.419686</td>\n",
       "      <td>1.382595</td>\n",
       "      <td>1.655507</td>\n",
       "      <td>0.908251</td>\n",
       "      <td>1.209653</td>\n",
       "      <td>1.733157</td>\n",
       "      <td>0.970309</td>\n",
       "      <td>0.362148</td>\n",
       "      <td>...</td>\n",
       "      <td>0.000000</td>\n",
       "      <td>0.000000</td>\n",
       "      <td>0.000000</td>\n",
       "      <td>0.000000</td>\n",
       "      <td>0.000000</td>\n",
       "      <td>0.000000</td>\n",
       "      <td>0.000000</td>\n",
       "      <td>0.000000</td>\n",
       "      <td>64.0</td>\n",
       "      <td>-0.035005</td>\n",
       "    </tr>\n",
       "    <tr>\n",
       "      <th>mentionedarticle</th>\n",
       "      <td>0.785164</td>\n",
       "      <td>1.066228</td>\n",
       "      <td>0.559581</td>\n",
       "      <td>1.382595</td>\n",
       "      <td>1.655507</td>\n",
       "      <td>1.059627</td>\n",
       "      <td>1.209653</td>\n",
       "      <td>2.048276</td>\n",
       "      <td>0.970309</td>\n",
       "      <td>0.543222</td>\n",
       "      <td>...</td>\n",
       "      <td>0.125685</td>\n",
       "      <td>0.000000</td>\n",
       "      <td>0.000000</td>\n",
       "      <td>0.117014</td>\n",
       "      <td>0.000000</td>\n",
       "      <td>0.000000</td>\n",
       "      <td>0.056700</td>\n",
       "      <td>0.020079</td>\n",
       "      <td>83.0</td>\n",
       "      <td>-0.034954</td>\n",
       "    </tr>\n",
       "    <tr>\n",
       "      <th>article</th>\n",
       "      <td>3.454720</td>\n",
       "      <td>2.894047</td>\n",
       "      <td>2.937803</td>\n",
       "      <td>1.997081</td>\n",
       "      <td>3.678905</td>\n",
       "      <td>3.784381</td>\n",
       "      <td>2.822524</td>\n",
       "      <td>2.363396</td>\n",
       "      <td>1.940617</td>\n",
       "      <td>2.716112</td>\n",
       "      <td>...</td>\n",
       "      <td>1.382535</td>\n",
       "      <td>3.647133</td>\n",
       "      <td>1.820144</td>\n",
       "      <td>2.340276</td>\n",
       "      <td>0.952524</td>\n",
       "      <td>1.578324</td>\n",
       "      <td>2.551512</td>\n",
       "      <td>2.068132</td>\n",
       "      <td>657.0</td>\n",
       "      <td>-0.034472</td>\n",
       "    </tr>\n",
       "    <tr>\n",
       "      <th>slideshowimages</th>\n",
       "      <td>0.785164</td>\n",
       "      <td>0.609273</td>\n",
       "      <td>0.699477</td>\n",
       "      <td>0.460865</td>\n",
       "      <td>0.183945</td>\n",
       "      <td>1.513752</td>\n",
       "      <td>1.612871</td>\n",
       "      <td>0.787799</td>\n",
       "      <td>0.485154</td>\n",
       "      <td>0.362148</td>\n",
       "      <td>...</td>\n",
       "      <td>0.000000</td>\n",
       "      <td>0.000000</td>\n",
       "      <td>0.000000</td>\n",
       "      <td>0.000000</td>\n",
       "      <td>0.000000</td>\n",
       "      <td>0.000000</td>\n",
       "      <td>0.000000</td>\n",
       "      <td>0.000000</td>\n",
       "      <td>97.0</td>\n",
       "      <td>-0.034340</td>\n",
       "    </tr>\n",
       "    <tr>\n",
       "      <th>homepage</th>\n",
       "      <td>1.884393</td>\n",
       "      <td>0.761591</td>\n",
       "      <td>0.559581</td>\n",
       "      <td>1.536216</td>\n",
       "      <td>0.919726</td>\n",
       "      <td>1.059627</td>\n",
       "      <td>1.008044</td>\n",
       "      <td>0.945358</td>\n",
       "      <td>0.808590</td>\n",
       "      <td>0.362148</td>\n",
       "      <td>...</td>\n",
       "      <td>0.125685</td>\n",
       "      <td>0.000000</td>\n",
       "      <td>0.000000</td>\n",
       "      <td>0.117014</td>\n",
       "      <td>0.000000</td>\n",
       "      <td>0.000000</td>\n",
       "      <td>0.113401</td>\n",
       "      <td>0.020079</td>\n",
       "      <td>71.0</td>\n",
       "      <td>-0.033755</td>\n",
       "    </tr>\n",
       "    <tr>\n",
       "      <th>tech</th>\n",
       "      <td>1.727360</td>\n",
       "      <td>1.675501</td>\n",
       "      <td>0.979268</td>\n",
       "      <td>2.150703</td>\n",
       "      <td>2.575234</td>\n",
       "      <td>2.119253</td>\n",
       "      <td>1.612871</td>\n",
       "      <td>2.048276</td>\n",
       "      <td>0.970309</td>\n",
       "      <td>0.724297</td>\n",
       "      <td>...</td>\n",
       "      <td>1.508220</td>\n",
       "      <td>0.729427</td>\n",
       "      <td>0.260021</td>\n",
       "      <td>0.819097</td>\n",
       "      <td>0.544299</td>\n",
       "      <td>0.657635</td>\n",
       "      <td>0.396902</td>\n",
       "      <td>0.923632</td>\n",
       "      <td>287.0</td>\n",
       "      <td>-0.033108</td>\n",
       "    </tr>\n",
       "    <tr>\n",
       "      <th>economic</th>\n",
       "      <td>2.669556</td>\n",
       "      <td>2.284774</td>\n",
       "      <td>1.958535</td>\n",
       "      <td>1.843460</td>\n",
       "      <td>1.103672</td>\n",
       "      <td>2.119253</td>\n",
       "      <td>2.620915</td>\n",
       "      <td>1.890717</td>\n",
       "      <td>2.102335</td>\n",
       "      <td>1.267519</td>\n",
       "      <td>...</td>\n",
       "      <td>0.628425</td>\n",
       "      <td>1.896509</td>\n",
       "      <td>0.650051</td>\n",
       "      <td>1.521179</td>\n",
       "      <td>0.816449</td>\n",
       "      <td>0.657635</td>\n",
       "      <td>1.530907</td>\n",
       "      <td>1.244895</td>\n",
       "      <td>452.0</td>\n",
       "      <td>-0.032279</td>\n",
       "    </tr>\n",
       "    <tr>\n",
       "      <th>told</th>\n",
       "      <td>1.413294</td>\n",
       "      <td>1.523183</td>\n",
       "      <td>1.119163</td>\n",
       "      <td>1.382595</td>\n",
       "      <td>1.103672</td>\n",
       "      <td>1.665128</td>\n",
       "      <td>1.814480</td>\n",
       "      <td>1.260478</td>\n",
       "      <td>2.749208</td>\n",
       "      <td>1.086445</td>\n",
       "      <td>...</td>\n",
       "      <td>0.502740</td>\n",
       "      <td>0.583541</td>\n",
       "      <td>0.650051</td>\n",
       "      <td>0.585069</td>\n",
       "      <td>0.408224</td>\n",
       "      <td>0.657635</td>\n",
       "      <td>0.737104</td>\n",
       "      <td>0.763000</td>\n",
       "      <td>312.0</td>\n",
       "      <td>-0.032257</td>\n",
       "    </tr>\n",
       "    <tr>\n",
       "      <th>agree</th>\n",
       "      <td>2.198458</td>\n",
       "      <td>2.284774</td>\n",
       "      <td>2.658012</td>\n",
       "      <td>2.918811</td>\n",
       "      <td>2.759179</td>\n",
       "      <td>1.816503</td>\n",
       "      <td>2.016088</td>\n",
       "      <td>2.363396</td>\n",
       "      <td>1.778899</td>\n",
       "      <td>1.991815</td>\n",
       "      <td>...</td>\n",
       "      <td>1.508220</td>\n",
       "      <td>1.458853</td>\n",
       "      <td>1.040082</td>\n",
       "      <td>1.053124</td>\n",
       "      <td>0.952524</td>\n",
       "      <td>0.657635</td>\n",
       "      <td>1.474207</td>\n",
       "      <td>1.184658</td>\n",
       "      <td>471.0</td>\n",
       "      <td>-0.032207</td>\n",
       "    </tr>\n",
       "    <tr>\n",
       "      <th>newslettertopics</th>\n",
       "      <td>0.785164</td>\n",
       "      <td>1.675501</td>\n",
       "      <td>0.559581</td>\n",
       "      <td>0.307243</td>\n",
       "      <td>0.551836</td>\n",
       "      <td>1.513752</td>\n",
       "      <td>0.806435</td>\n",
       "      <td>0.630239</td>\n",
       "      <td>0.808590</td>\n",
       "      <td>1.086445</td>\n",
       "      <td>...</td>\n",
       "      <td>0.000000</td>\n",
       "      <td>0.000000</td>\n",
       "      <td>0.000000</td>\n",
       "      <td>0.000000</td>\n",
       "      <td>0.000000</td>\n",
       "      <td>0.000000</td>\n",
       "      <td>0.000000</td>\n",
       "      <td>0.000000</td>\n",
       "      <td>62.0</td>\n",
       "      <td>-0.031379</td>\n",
       "    </tr>\n",
       "    <tr>\n",
       "      <th>say</th>\n",
       "      <td>2.983621</td>\n",
       "      <td>3.046366</td>\n",
       "      <td>2.797907</td>\n",
       "      <td>1.997081</td>\n",
       "      <td>1.655507</td>\n",
       "      <td>1.816503</td>\n",
       "      <td>2.016088</td>\n",
       "      <td>2.363396</td>\n",
       "      <td>1.940617</td>\n",
       "      <td>1.267519</td>\n",
       "      <td>...</td>\n",
       "      <td>0.754110</td>\n",
       "      <td>1.458853</td>\n",
       "      <td>1.430113</td>\n",
       "      <td>1.872221</td>\n",
       "      <td>1.360748</td>\n",
       "      <td>1.578324</td>\n",
       "      <td>1.134005</td>\n",
       "      <td>1.445684</td>\n",
       "      <td>528.0</td>\n",
       "      <td>-0.030887</td>\n",
       "    </tr>\n",
       "    <tr>\n",
       "      <th>average</th>\n",
       "      <td>6.124276</td>\n",
       "      <td>6.245050</td>\n",
       "      <td>6.714977</td>\n",
       "      <td>6.605730</td>\n",
       "      <td>7.541756</td>\n",
       "      <td>4.844008</td>\n",
       "      <td>5.241830</td>\n",
       "      <td>7.090187</td>\n",
       "      <td>3.557798</td>\n",
       "      <td>9.053707</td>\n",
       "      <td>...</td>\n",
       "      <td>5.655824</td>\n",
       "      <td>5.397756</td>\n",
       "      <td>4.940390</td>\n",
       "      <td>5.148608</td>\n",
       "      <td>5.579066</td>\n",
       "      <td>6.181770</td>\n",
       "      <td>4.876223</td>\n",
       "      <td>4.718553</td>\n",
       "      <td>1712.0</td>\n",
       "      <td>-0.030736</td>\n",
       "    </tr>\n",
       "    <tr>\n",
       "      <th>confirmed</th>\n",
       "      <td>1.727360</td>\n",
       "      <td>0.913910</td>\n",
       "      <td>2.658012</td>\n",
       "      <td>1.997081</td>\n",
       "      <td>2.391288</td>\n",
       "      <td>1.211002</td>\n",
       "      <td>1.209653</td>\n",
       "      <td>2.836075</td>\n",
       "      <td>2.102335</td>\n",
       "      <td>2.353964</td>\n",
       "      <td>...</td>\n",
       "      <td>1.005480</td>\n",
       "      <td>1.312968</td>\n",
       "      <td>1.300103</td>\n",
       "      <td>0.819097</td>\n",
       "      <td>0.680374</td>\n",
       "      <td>1.183743</td>\n",
       "      <td>1.360807</td>\n",
       "      <td>1.445684</td>\n",
       "      <td>447.0</td>\n",
       "      <td>-0.030361</td>\n",
       "    </tr>\n",
       "    <tr>\n",
       "      <th>seen</th>\n",
       "      <td>1.884393</td>\n",
       "      <td>3.046366</td>\n",
       "      <td>2.797907</td>\n",
       "      <td>3.226054</td>\n",
       "      <td>2.391288</td>\n",
       "      <td>2.119253</td>\n",
       "      <td>4.435394</td>\n",
       "      <td>1.890717</td>\n",
       "      <td>1.940617</td>\n",
       "      <td>2.353964</td>\n",
       "      <td>...</td>\n",
       "      <td>2.513700</td>\n",
       "      <td>2.334165</td>\n",
       "      <td>1.690134</td>\n",
       "      <td>1.872221</td>\n",
       "      <td>1.496823</td>\n",
       "      <td>1.183743</td>\n",
       "      <td>1.474207</td>\n",
       "      <td>2.108290</td>\n",
       "      <td>693.0</td>\n",
       "      <td>-0.030306</td>\n",
       "    </tr>\n",
       "    <tr>\n",
       "      <th>subscribingnewsletter</th>\n",
       "      <td>1.256262</td>\n",
       "      <td>0.913910</td>\n",
       "      <td>0.979268</td>\n",
       "      <td>0.153622</td>\n",
       "      <td>0.735781</td>\n",
       "      <td>0.605501</td>\n",
       "      <td>1.008044</td>\n",
       "      <td>0.315119</td>\n",
       "      <td>0.970309</td>\n",
       "      <td>0.724297</td>\n",
       "      <td>...</td>\n",
       "      <td>0.125685</td>\n",
       "      <td>0.000000</td>\n",
       "      <td>0.000000</td>\n",
       "      <td>0.000000</td>\n",
       "      <td>0.000000</td>\n",
       "      <td>0.000000</td>\n",
       "      <td>0.000000</td>\n",
       "      <td>0.000000</td>\n",
       "      <td>66.0</td>\n",
       "      <td>-0.029491</td>\n",
       "    </tr>\n",
       "    <tr>\n",
       "      <th>agreed</th>\n",
       "      <td>2.512523</td>\n",
       "      <td>2.894047</td>\n",
       "      <td>3.217593</td>\n",
       "      <td>3.226054</td>\n",
       "      <td>2.391288</td>\n",
       "      <td>3.027505</td>\n",
       "      <td>2.217697</td>\n",
       "      <td>2.363396</td>\n",
       "      <td>4.366389</td>\n",
       "      <td>2.535038</td>\n",
       "      <td>...</td>\n",
       "      <td>3.267810</td>\n",
       "      <td>1.604738</td>\n",
       "      <td>2.860226</td>\n",
       "      <td>1.989235</td>\n",
       "      <td>1.632897</td>\n",
       "      <td>1.972905</td>\n",
       "      <td>2.211311</td>\n",
       "      <td>2.128369</td>\n",
       "      <td>714.0</td>\n",
       "      <td>-0.029382</td>\n",
       "    </tr>\n",
       "    <tr>\n",
       "      <th>lockdown</th>\n",
       "      <td>0.000000</td>\n",
       "      <td>0.000000</td>\n",
       "      <td>0.000000</td>\n",
       "      <td>0.000000</td>\n",
       "      <td>0.000000</td>\n",
       "      <td>0.000000</td>\n",
       "      <td>0.000000</td>\n",
       "      <td>1.260478</td>\n",
       "      <td>4.851543</td>\n",
       "      <td>3.440409</td>\n",
       "      <td>...</td>\n",
       "      <td>0.754110</td>\n",
       "      <td>0.291771</td>\n",
       "      <td>0.260021</td>\n",
       "      <td>0.117014</td>\n",
       "      <td>0.544299</td>\n",
       "      <td>0.131527</td>\n",
       "      <td>0.113401</td>\n",
       "      <td>0.140553</td>\n",
       "      <td>237.0</td>\n",
       "      <td>-0.028860</td>\n",
       "    </tr>\n",
       "    <tr>\n",
       "      <th>doesnt</th>\n",
       "      <td>2.355491</td>\n",
       "      <td>2.741729</td>\n",
       "      <td>2.098430</td>\n",
       "      <td>3.226054</td>\n",
       "      <td>1.839453</td>\n",
       "      <td>2.270629</td>\n",
       "      <td>2.016088</td>\n",
       "      <td>2.363396</td>\n",
       "      <td>1.617181</td>\n",
       "      <td>1.810741</td>\n",
       "      <td>...</td>\n",
       "      <td>1.005480</td>\n",
       "      <td>1.312968</td>\n",
       "      <td>1.950154</td>\n",
       "      <td>0.702083</td>\n",
       "      <td>1.496823</td>\n",
       "      <td>1.446797</td>\n",
       "      <td>1.247406</td>\n",
       "      <td>1.124421</td>\n",
       "      <td>484.0</td>\n",
       "      <td>-0.028811</td>\n",
       "    </tr>\n",
       "    <tr>\n",
       "      <th>crisis</th>\n",
       "      <td>0.314065</td>\n",
       "      <td>0.456955</td>\n",
       "      <td>0.419686</td>\n",
       "      <td>0.614487</td>\n",
       "      <td>0.551836</td>\n",
       "      <td>0.605501</td>\n",
       "      <td>1.411262</td>\n",
       "      <td>1.890717</td>\n",
       "      <td>2.425771</td>\n",
       "      <td>1.810741</td>\n",
       "      <td>...</td>\n",
       "      <td>0.251370</td>\n",
       "      <td>0.145885</td>\n",
       "      <td>0.130010</td>\n",
       "      <td>0.000000</td>\n",
       "      <td>0.272150</td>\n",
       "      <td>0.263054</td>\n",
       "      <td>0.510302</td>\n",
       "      <td>0.361421</td>\n",
       "      <td>165.0</td>\n",
       "      <td>-0.028469</td>\n",
       "    </tr>\n",
       "    <tr>\n",
       "      <th>firm</th>\n",
       "      <td>1.256262</td>\n",
       "      <td>2.132456</td>\n",
       "      <td>1.958535</td>\n",
       "      <td>1.689838</td>\n",
       "      <td>3.494960</td>\n",
       "      <td>2.270629</td>\n",
       "      <td>1.612871</td>\n",
       "      <td>1.575597</td>\n",
       "      <td>1.778899</td>\n",
       "      <td>1.629667</td>\n",
       "      <td>...</td>\n",
       "      <td>0.879795</td>\n",
       "      <td>1.167082</td>\n",
       "      <td>1.300103</td>\n",
       "      <td>1.053124</td>\n",
       "      <td>0.952524</td>\n",
       "      <td>0.789162</td>\n",
       "      <td>1.701008</td>\n",
       "      <td>0.943711</td>\n",
       "      <td>433.0</td>\n",
       "      <td>-0.027710</td>\n",
       "    </tr>\n",
       "    <tr>\n",
       "      <th>topics</th>\n",
       "      <td>1.727360</td>\n",
       "      <td>1.980138</td>\n",
       "      <td>0.979268</td>\n",
       "      <td>0.307243</td>\n",
       "      <td>0.919726</td>\n",
       "      <td>1.513752</td>\n",
       "      <td>1.814480</td>\n",
       "      <td>1.102918</td>\n",
       "      <td>1.132027</td>\n",
       "      <td>1.267519</td>\n",
       "      <td>...</td>\n",
       "      <td>0.628425</td>\n",
       "      <td>0.145885</td>\n",
       "      <td>0.780062</td>\n",
       "      <td>0.819097</td>\n",
       "      <td>0.680374</td>\n",
       "      <td>0.657635</td>\n",
       "      <td>0.567003</td>\n",
       "      <td>0.401579</td>\n",
       "      <td>212.0</td>\n",
       "      <td>-0.027593</td>\n",
       "    </tr>\n",
       "    <tr>\n",
       "      <th>major</th>\n",
       "      <td>2.669556</td>\n",
       "      <td>3.046366</td>\n",
       "      <td>1.958535</td>\n",
       "      <td>3.226054</td>\n",
       "      <td>3.494960</td>\n",
       "      <td>3.935756</td>\n",
       "      <td>2.620915</td>\n",
       "      <td>2.363396</td>\n",
       "      <td>3.072644</td>\n",
       "      <td>2.716112</td>\n",
       "      <td>...</td>\n",
       "      <td>2.262330</td>\n",
       "      <td>1.458853</td>\n",
       "      <td>1.690134</td>\n",
       "      <td>2.574304</td>\n",
       "      <td>2.993645</td>\n",
       "      <td>2.104432</td>\n",
       "      <td>1.701008</td>\n",
       "      <td>1.947658</td>\n",
       "      <td>693.0</td>\n",
       "      <td>-0.027515</td>\n",
       "    </tr>\n",
       "  </tbody>\n",
       "</table>\n",
       "<p>50 rows × 38 columns</p>\n",
       "</div>"
      ],
      "text/plain": [
       "                         201908    201909    201910    201911    201912  \\\n",
       "keyword                                                                   \n",
       "coronavirus            0.000000  0.000000  0.000000  0.000000  0.000000   \n",
       "reuters                3.768785  6.854323  4.196861  6.298487  6.622029   \n",
       "2019                   5.339112  4.569549  6.155396  6.759352  5.702303   \n",
       "filephoto              2.512523  2.894047  1.538849  1.997081  2.943124   \n",
       "2020                   2.826589  4.569549  4.336756  3.840541  6.254139   \n",
       "file                   2.512523  1.066228  1.538849  1.689838  3.311015   \n",
       "mint                   2.198458  2.589411  1.678744  1.997081  1.655507   \n",
       "validemail             2.198458  2.741729  1.398954  1.382595  1.103672   \n",
       "subscribing            2.198458  2.284774  0.979268  1.536216  1.471562   \n",
       "2018                   2.669556  2.741729  2.098430  2.304324  2.391288   \n",
       "visitbusiness          1.727360  1.370865  0.979268  2.457946  2.207343   \n",
       "libra                  1.884393  1.066228  1.818640  2.457946  2.023398   \n",
       "homepagestories        1.413294  1.827819  0.839372  1.536216  1.655507   \n",
       "slideshow              1.099229  1.066228  0.559581  0.921730  0.183945   \n",
       "entervalid             0.942196  1.218546  1.119163  1.536216  0.919726   \n",
       "coverage               1.570327  1.980138  1.538849  2.611568  3.127069   \n",
       "subscribemint          1.099229  1.523183  0.979268  0.153622  0.919726   \n",
       "stories                1.256262  1.523183  0.839372  2.457946  2.023398   \n",
       "insider                1.727360  0.761591  2.238326  2.150703  1.839453   \n",
       "times                  2.355491  3.198684  2.797907  2.611568  1.655507   \n",
       "emailthank             1.099229  0.761591  0.839372  0.768108  0.735781   \n",
       "thanksubscribing       0.942196  1.675501  0.279791  1.843460  0.551836   \n",
       "insiders               1.099229  1.370865  0.699477  1.843460  1.287617   \n",
       "billion                8.008668  8.834460  7.554349  9.831784  7.909646   \n",
       "insidershomepage       1.570327  0.152318  0.559581  2.150703  1.471562   \n",
       "checkproducts          0.785164  1.066228  0.559581  1.536216  1.655507   \n",
       "deal                   2.198458  2.437093  2.518116  1.997081  1.471562   \n",
       "startup                6.124276  6.549686  3.917070  4.915892  4.966522   \n",
       "productsmentioned      0.785164  1.066228  0.419686  1.382595  1.655507   \n",
       "mentionedarticle       0.785164  1.066228  0.559581  1.382595  1.655507   \n",
       "article                3.454720  2.894047  2.937803  1.997081  3.678905   \n",
       "slideshowimages        0.785164  0.609273  0.699477  0.460865  0.183945   \n",
       "homepage               1.884393  0.761591  0.559581  1.536216  0.919726   \n",
       "tech                   1.727360  1.675501  0.979268  2.150703  2.575234   \n",
       "economic               2.669556  2.284774  1.958535  1.843460  1.103672   \n",
       "told                   1.413294  1.523183  1.119163  1.382595  1.103672   \n",
       "agree                  2.198458  2.284774  2.658012  2.918811  2.759179   \n",
       "newslettertopics       0.785164  1.675501  0.559581  0.307243  0.551836   \n",
       "say                    2.983621  3.046366  2.797907  1.997081  1.655507   \n",
       "average                6.124276  6.245050  6.714977  6.605730  7.541756   \n",
       "confirmed              1.727360  0.913910  2.658012  1.997081  2.391288   \n",
       "seen                   1.884393  3.046366  2.797907  3.226054  2.391288   \n",
       "subscribingnewsletter  1.256262  0.913910  0.979268  0.153622  0.735781   \n",
       "agreed                 2.512523  2.894047  3.217593  3.226054  2.391288   \n",
       "lockdown               0.000000  0.000000  0.000000  0.000000  0.000000   \n",
       "doesnt                 2.355491  2.741729  2.098430  3.226054  1.839453   \n",
       "crisis                 0.314065  0.456955  0.419686  0.614487  0.551836   \n",
       "firm                   1.256262  2.132456  1.958535  1.689838  3.494960   \n",
       "topics                 1.727360  1.980138  0.979268  0.307243  0.919726   \n",
       "major                  2.669556  3.046366  1.958535  3.226054  3.494960   \n",
       "\n",
       "                         202001    202002     202003     202004     202005  \\\n",
       "keyword                                                                      \n",
       "coronavirus            0.454126  4.032177  20.010084  24.742868  23.177489   \n",
       "reuters                5.298134  9.072398   7.877986   9.864804   8.329410   \n",
       "2019                   5.298134  5.443439   3.151194   3.719516   2.716112   \n",
       "filephoto              1.816503  2.217697   3.623873   4.366389   3.983631   \n",
       "2020                   6.509135  9.475615   8.508225   8.085905   7.786188   \n",
       "file                   1.513752  1.814480   1.890717   5.013261   2.172890   \n",
       "mint                   2.270629  2.419306   1.418037   1.293745   1.810741   \n",
       "validemail             1.513752  2.016088   1.733157   1.132027   1.810741   \n",
       "subscribing            1.967878  2.217697   1.102918   1.617181   1.086445   \n",
       "2018                   2.270629  2.620915   2.048276   1.293745   0.362148   \n",
       "visitbusiness          1.362377  1.411262   2.048276   1.132027   1.629667   \n",
       "libra                  0.756876  1.814480   0.630239   1.293745   0.905371   \n",
       "homepagestories        1.513752  1.209653   1.733157   0.970309   1.267519   \n",
       "slideshow              1.665128  2.419306   0.787799   0.970309   0.724297   \n",
       "entervalid             1.665128  1.612871   0.945358   1.132027   0.905371   \n",
       "coverage               1.967878  1.612871   2.836075   2.102335   1.448593   \n",
       "subscribemint          1.513752  1.612871   1.260478   1.455463   1.267519   \n",
       "stories                1.362377  1.814480   2.048276   1.455463   0.905371   \n",
       "insider                1.059627  0.604827   1.575597   0.808590   0.724297   \n",
       "times                  3.178880  3.628959   2.678515   3.557798   3.259334   \n",
       "emailthank             1.816503  1.411262   1.102918   1.455463   1.086445   \n",
       "thanksubscribing       1.665128  1.008044   0.945358   0.323436   1.267519   \n",
       "insiders               1.211002  1.411262   1.575597   0.808590   1.448593   \n",
       "billion                8.931139  8.467571   6.144829   9.379649   8.148336   \n",
       "insidershomepage       0.908251  1.209653   1.890717   0.808590   0.905371   \n",
       "checkproducts          0.908251  1.209653   2.048276   0.970309   0.543222   \n",
       "deal                   1.665128  1.814480   1.733157   1.778899   1.448593   \n",
       "startup                5.298134  3.830568   3.623873   4.851543   4.526853   \n",
       "productsmentioned      0.908251  1.209653   1.733157   0.970309   0.362148   \n",
       "mentionedarticle       1.059627  1.209653   2.048276   0.970309   0.543222   \n",
       "article                3.784381  2.822524   2.363396   1.940617   2.716112   \n",
       "slideshowimages        1.513752  1.612871   0.787799   0.485154   0.362148   \n",
       "homepage               1.059627  1.008044   0.945358   0.808590   0.362148   \n",
       "tech                   2.119253  1.612871   2.048276   0.970309   0.724297   \n",
       "economic               2.119253  2.620915   1.890717   2.102335   1.267519   \n",
       "told                   1.665128  1.814480   1.260478   2.749208   1.086445   \n",
       "agree                  1.816503  2.016088   2.363396   1.778899   1.991815   \n",
       "newslettertopics       1.513752  0.806435   0.630239   0.808590   1.086445   \n",
       "say                    1.816503  2.016088   2.363396   1.940617   1.267519   \n",
       "average                4.844008  5.241830   7.090187   3.557798   9.053707   \n",
       "confirmed              1.211002  1.209653   2.836075   2.102335   2.353964   \n",
       "seen                   2.119253  4.435394   1.890717   1.940617   2.353964   \n",
       "subscribingnewsletter  0.605501  1.008044   0.315119   0.970309   0.724297   \n",
       "agreed                 3.027505  2.217697   2.363396   4.366389   2.535038   \n",
       "lockdown               0.000000  0.000000   1.260478   4.851543   3.440409   \n",
       "doesnt                 2.270629  2.016088   2.363396   1.617181   1.810741   \n",
       "crisis                 0.605501  1.411262   1.890717   2.425771   1.810741   \n",
       "firm                   2.270629  1.612871   1.575597   1.778899   1.629667   \n",
       "topics                 1.513752  1.814480   1.102918   1.132027   1.267519   \n",
       "major                  3.935756  2.620915   2.363396   3.072644   2.716112   \n",
       "\n",
       "                       ...    202112    202201     202202    202203    202204  \\\n",
       "keyword                ...                                                      \n",
       "coronavirus            ...  2.136645  2.042394   1.040082  1.170138  0.816449   \n",
       "reuters                ...  1.633905  1.750624   2.210175  1.755207  1.224673   \n",
       "2019                   ...  1.382535  2.334165   0.780062  1.053124  1.632897   \n",
       "filephoto              ...  0.125685  0.000000   0.000000  0.117014  0.000000   \n",
       "2020                   ...  5.027399  4.814215   3.510277  2.808331  2.177197   \n",
       "file                   ...  0.377055  0.145885   0.260021  0.234028  0.816449   \n",
       "mint                   ...  0.251370  0.729427   0.000000  0.468055  0.272150   \n",
       "validemail             ...  0.125685  0.000000   0.000000  0.117014  0.000000   \n",
       "subscribing            ...  0.251370  0.145885   0.000000  0.000000  0.000000   \n",
       "2018                   ...  0.879795  0.875312   0.520041  0.234028  0.408224   \n",
       "visitbusiness          ...  0.000000  0.000000   0.000000  0.000000  0.000000   \n",
       "libra                  ...  0.125685  0.145885   0.260021  0.234028  0.000000   \n",
       "homepagestories        ...  0.000000  0.000000   0.000000  0.000000  0.000000   \n",
       "slideshow              ...  0.000000  0.000000   0.000000  0.000000  0.000000   \n",
       "entervalid             ...  0.125685  0.000000   0.000000  0.000000  0.000000   \n",
       "coverage               ...  1.131165  0.291771   0.780062  0.585069  0.408224   \n",
       "subscribemint          ...  0.000000  0.000000   0.000000  0.000000  0.000000   \n",
       "stories                ...  0.754110  0.437656   0.130010  0.117014  0.408224   \n",
       "insider                ...  0.000000  0.145885   0.000000  0.234028  0.272150   \n",
       "times                  ...  1.633905  1.458853   1.560123  2.457290  1.224673   \n",
       "emailthank             ...  0.125685  0.000000   0.000000  0.000000  0.000000   \n",
       "thanksubscribing       ...  0.000000  0.145885   0.000000  0.000000  0.000000   \n",
       "insiders               ...  0.251370  0.000000   0.000000  0.000000  0.136075   \n",
       "billion                ...  7.289729  5.835412  11.440904  7.371870  5.170842   \n",
       "insidershomepage       ...  0.000000  0.000000   0.000000  0.000000  0.000000   \n",
       "checkproducts          ...  0.000000  0.000000   0.000000  0.000000  0.000000   \n",
       "deal                   ...  1.508220  2.042394   0.650051  0.936110  1.088598   \n",
       "startup                ...  4.901714  3.647133   3.900308  3.276387  4.218318   \n",
       "productsmentioned      ...  0.000000  0.000000   0.000000  0.000000  0.000000   \n",
       "mentionedarticle       ...  0.125685  0.000000   0.000000  0.117014  0.000000   \n",
       "article                ...  1.382535  3.647133   1.820144  2.340276  0.952524   \n",
       "slideshowimages        ...  0.000000  0.000000   0.000000  0.000000  0.000000   \n",
       "homepage               ...  0.125685  0.000000   0.000000  0.117014  0.000000   \n",
       "tech                   ...  1.508220  0.729427   0.260021  0.819097  0.544299   \n",
       "economic               ...  0.628425  1.896509   0.650051  1.521179  0.816449   \n",
       "told                   ...  0.502740  0.583541   0.650051  0.585069  0.408224   \n",
       "agree                  ...  1.508220  1.458853   1.040082  1.053124  0.952524   \n",
       "newslettertopics       ...  0.000000  0.000000   0.000000  0.000000  0.000000   \n",
       "say                    ...  0.754110  1.458853   1.430113  1.872221  1.360748   \n",
       "average                ...  5.655824  5.397756   4.940390  5.148608  5.579066   \n",
       "confirmed              ...  1.005480  1.312968   1.300103  0.819097  0.680374   \n",
       "seen                   ...  2.513700  2.334165   1.690134  1.872221  1.496823   \n",
       "subscribingnewsletter  ...  0.125685  0.000000   0.000000  0.000000  0.000000   \n",
       "agreed                 ...  3.267810  1.604738   2.860226  1.989235  1.632897   \n",
       "lockdown               ...  0.754110  0.291771   0.260021  0.117014  0.544299   \n",
       "doesnt                 ...  1.005480  1.312968   1.950154  0.702083  1.496823   \n",
       "crisis                 ...  0.251370  0.145885   0.130010  0.000000  0.272150   \n",
       "firm                   ...  0.879795  1.167082   1.300103  1.053124  0.952524   \n",
       "topics                 ...  0.628425  0.145885   0.780062  0.819097  0.680374   \n",
       "major                  ...  2.262330  1.458853   1.690134  2.574304  2.993645   \n",
       "\n",
       "                         202205    202206    202207  tot_cnt     slope  \n",
       "keyword                                                                 \n",
       "coronavirus            1.183743  0.623703  0.903553   1394.0 -0.208918  \n",
       "reuters                2.104432  1.417507  1.586237   1249.0 -0.203602  \n",
       "2019                   1.578324  0.963905  0.863395    742.0 -0.130571  \n",
       "filephoto              0.000000  0.170101  0.000000    337.0 -0.115974  \n",
       "2020                   3.551230  2.438112  2.329158   1834.0 -0.109291  \n",
       "file                   0.131527  0.396902  0.501974    330.0 -0.077725  \n",
       "mint                   0.000000  0.113401  0.281105    209.0 -0.066146  \n",
       "validemail             0.000000  0.056700  0.000000    150.0 -0.064624  \n",
       "subscribing            0.000000  0.170101  0.080316    158.0 -0.061767  \n",
       "2018                   0.657635  0.680403  0.522053    298.0 -0.058390  \n",
       "visitbusiness          0.000000  0.000000  0.000000    102.0 -0.054774  \n",
       "libra                  0.000000  0.000000  0.140553    158.0 -0.049051  \n",
       "homepagestories        0.000000  0.000000  0.000000     88.0 -0.047277  \n",
       "slideshow              0.000000  0.000000  0.000000    133.0 -0.046749  \n",
       "entervalid             0.000000  0.056700  0.000000    104.0 -0.045418  \n",
       "coverage               0.526108  1.077305  0.903553    321.0 -0.045326  \n",
       "subscribemint          0.000000  0.000000  0.000000     92.0 -0.043062  \n",
       "stories                0.263054  0.396902  0.481895    186.0 -0.041578  \n",
       "insider                0.263054  0.283501  0.301184    156.0 -0.041211  \n",
       "times                  1.315270  1.984509  2.108290    726.0 -0.040667  \n",
       "emailthank             0.000000  0.056700  0.000000     95.0 -0.040452  \n",
       "thanksubscribing       0.000000  0.000000  0.020079     91.0 -0.040325  \n",
       "insiders               0.000000  0.113401  0.120474    110.0 -0.040234  \n",
       "billion                7.760095  7.257635  6.726448   2482.0 -0.039289  \n",
       "insidershomepage       0.000000  0.000000  0.000000     72.0 -0.038789  \n",
       "checkproducts          0.000000  0.000000  0.000000     69.0 -0.037384  \n",
       "deal                   1.183743  1.360807  1.465763    474.0 -0.036489  \n",
       "startup                3.945811  2.268011  2.871290   1238.0 -0.036221  \n",
       "productsmentioned      0.000000  0.000000  0.000000     64.0 -0.035005  \n",
       "mentionedarticle       0.000000  0.056700  0.020079     83.0 -0.034954  \n",
       "article                1.578324  2.551512  2.068132    657.0 -0.034472  \n",
       "slideshowimages        0.000000  0.000000  0.000000     97.0 -0.034340  \n",
       "homepage               0.000000  0.113401  0.020079     71.0 -0.033755  \n",
       "tech                   0.657635  0.396902  0.923632    287.0 -0.033108  \n",
       "economic               0.657635  1.530907  1.244895    452.0 -0.032279  \n",
       "told                   0.657635  0.737104  0.763000    312.0 -0.032257  \n",
       "agree                  0.657635  1.474207  1.184658    471.0 -0.032207  \n",
       "newslettertopics       0.000000  0.000000  0.000000     62.0 -0.031379  \n",
       "say                    1.578324  1.134005  1.445684    528.0 -0.030887  \n",
       "average                6.181770  4.876223  4.718553   1712.0 -0.030736  \n",
       "confirmed              1.183743  1.360807  1.445684    447.0 -0.030361  \n",
       "seen                   1.183743  1.474207  2.108290    693.0 -0.030306  \n",
       "subscribingnewsletter  0.000000  0.000000  0.000000     66.0 -0.029491  \n",
       "agreed                 1.972905  2.211311  2.128369    714.0 -0.029382  \n",
       "lockdown               0.131527  0.113401  0.140553    237.0 -0.028860  \n",
       "doesnt                 1.446797  1.247406  1.124421    484.0 -0.028811  \n",
       "crisis                 0.263054  0.510302  0.361421    165.0 -0.028469  \n",
       "firm                   0.789162  1.701008  0.943711    433.0 -0.027710  \n",
       "topics                 0.657635  0.567003  0.401579    212.0 -0.027593  \n",
       "major                  2.104432  1.701008  1.947658    693.0 -0.027515  \n",
       "\n",
       "[50 rows x 38 columns]"
      ]
     },
     "execution_count": 100,
     "metadata": {},
     "output_type": "execute_result"
    }
   ],
   "source": [
    "df_es.sort_values(by = 'slope', ascending = True)[0:50]"
   ]
  },
  {
   "cell_type": "code",
   "execution_count": 22,
   "id": "d8133ac0",
   "metadata": {},
   "outputs": [],
   "source": [
    "import plotly.io as pio\n",
    "import plotly.express as px"
   ]
  },
  {
   "cell_type": "code",
   "execution_count": 23,
   "id": "e7d41659",
   "metadata": {},
   "outputs": [],
   "source": [
    "def Df4plot(df3,srch_wrd):\n",
    "    df3 = df3.iloc[:,:-2]\n",
    "    df3 = df3.loc[srch_wrd,:].reset_index()\n",
    "    df3 = pd.melt(df3, id_vars='keyword', value_vars=list(df3))\n",
    "    df3['variable'] = [x[:4] + '-' + x[4].replace('0','') + x[-1:] for x in df3['variable']]\n",
    "    df3[\"variable\"] = pd.to_datetime(df3.variable)\n",
    "    df3.rename(columns={\"variable\": \"Date\"}, inplace=True)\n",
    "    return df3"
   ]
  },
  {
   "cell_type": "code",
   "execution_count": 102,
   "id": "e39d4744",
   "metadata": {},
   "outputs": [
    {
     "data": {
      "application/vnd.plotly.v1+json": {
       "config": {
        "plotlyServerURL": "https://plot.ly"
       },
       "data": [
        {
         "hovertemplate": "keyword=coronavirus<br>Date=%{x}<br>value=%{y}<extra></extra>",
         "legendgroup": "coronavirus",
         "line": {
          "color": "#636efa",
          "dash": "solid"
         },
         "marker": {
          "symbol": "circle"
         },
         "mode": "lines",
         "name": "coronavirus",
         "orientation": "v",
         "showlegend": true,
         "type": "scatter",
         "x": [
          "2019-08-01T00:00:00",
          "2019-08-01T00:00:00",
          "2019-09-01T00:00:00",
          "2019-09-01T00:00:00",
          "2019-10-01T00:00:00",
          "2019-10-01T00:00:00",
          "2019-11-01T00:00:00",
          "2019-11-01T00:00:00",
          "2019-12-01T00:00:00",
          "2019-12-01T00:00:00",
          "2020-01-01T00:00:00",
          "2020-01-01T00:00:00",
          "2020-02-01T00:00:00",
          "2020-02-01T00:00:00",
          "2020-03-01T00:00:00",
          "2020-03-01T00:00:00",
          "2020-04-01T00:00:00",
          "2020-04-01T00:00:00",
          "2020-05-01T00:00:00",
          "2020-05-01T00:00:00",
          "2020-06-01T00:00:00",
          "2020-06-01T00:00:00",
          "2020-07-01T00:00:00",
          "2020-07-01T00:00:00",
          "2020-08-01T00:00:00",
          "2020-08-01T00:00:00",
          "2020-09-01T00:00:00",
          "2020-09-01T00:00:00",
          "2020-10-01T00:00:00",
          "2020-10-01T00:00:00",
          "2020-11-01T00:00:00",
          "2020-11-01T00:00:00",
          "2020-12-01T00:00:00",
          "2020-12-01T00:00:00",
          "2021-01-01T00:00:00",
          "2021-01-01T00:00:00",
          "2021-02-01T00:00:00",
          "2021-02-01T00:00:00",
          "2021-03-01T00:00:00",
          "2021-03-01T00:00:00",
          "2021-04-01T00:00:00",
          "2021-04-01T00:00:00",
          "2021-05-01T00:00:00",
          "2021-05-01T00:00:00",
          "2021-06-01T00:00:00",
          "2021-06-01T00:00:00",
          "2021-07-01T00:00:00",
          "2021-07-01T00:00:00",
          "2021-08-01T00:00:00",
          "2021-08-01T00:00:00",
          "2021-09-01T00:00:00",
          "2021-09-01T00:00:00",
          "2021-10-01T00:00:00",
          "2021-10-01T00:00:00",
          "2021-11-01T00:00:00",
          "2021-11-01T00:00:00",
          "2021-12-01T00:00:00",
          "2021-12-01T00:00:00",
          "2022-01-01T00:00:00",
          "2022-01-01T00:00:00",
          "2022-02-01T00:00:00",
          "2022-02-01T00:00:00",
          "2022-03-01T00:00:00",
          "2022-03-01T00:00:00",
          "2022-04-01T00:00:00",
          "2022-04-01T00:00:00",
          "2022-05-01T00:00:00",
          "2022-05-01T00:00:00",
          "2022-06-01T00:00:00",
          "2022-06-01T00:00:00",
          "2022-07-01T00:00:00",
          "2022-07-01T00:00:00"
         ],
         "xaxis": "x",
         "y": [
          0,
          0,
          0,
          0,
          0,
          0,
          0,
          0,
          0,
          0,
          0.4541257322777433,
          0.4541257322777433,
          4.032176770629625,
          4.032176770629625,
          20.01008382176845,
          20.01008382176845,
          24.742868232097806,
          24.742868232097806,
          23.177488863940898,
          23.177488863940898,
          15.461797845217534,
          15.461797845217534,
          14.439847489251237,
          14.439847489251237,
          12.718762718762719,
          12.718762718762719,
          10.543687540111854,
          10.543687540111854,
          7.598259307867652,
          7.598259307867652,
          9.082975654063295,
          9.082975654063295,
          11.668136490061732,
          11.668136490061732,
          6.837656575061466,
          6.837656575061466,
          5.275215530234521,
          5.275215530234521,
          5.446925821763248,
          5.446925821763248,
          3.8992942277447784,
          3.8992942277447784,
          4.176702354267894,
          4.176702354267894,
          3.33555703802535,
          3.33555703802535,
          2.033225293322649,
          2.033225293322649,
          2.519177236714489,
          2.519177236714489,
          2.6670222696359516,
          2.6670222696359516,
          3.050826774055769,
          3.050826774055769,
          2.6663111585121984,
          2.6663111585121984,
          2.1366447136896083,
          2.1366447136896083,
          2.0423942696252206,
          2.0423942696252206,
          1.0400821664911528,
          1.0400821664911528,
          1.1701380762930025,
          1.1701380762930025,
          0.8164487202166311,
          0.8164487202166311,
          1.1837432592397739,
          1.1837432592397739,
          0.6237029813002506,
          0.6237029813002506,
          0.9035527694896333,
          0.9035527694896333
         ],
         "yaxis": "y"
        },
        {
         "hovertemplate": "keyword=visitbusiness<br>Date=%{x}<br>value=%{y}<extra></extra>",
         "legendgroup": "visitbusiness",
         "line": {
          "color": "#EF553B",
          "dash": "solid"
         },
         "marker": {
          "symbol": "circle"
         },
         "mode": "lines",
         "name": "visitbusiness",
         "orientation": "v",
         "showlegend": true,
         "type": "scatter",
         "x": [
          "2019-08-01T00:00:00",
          "2019-09-01T00:00:00",
          "2019-10-01T00:00:00",
          "2019-11-01T00:00:00",
          "2019-12-01T00:00:00",
          "2020-01-01T00:00:00",
          "2020-02-01T00:00:00",
          "2020-03-01T00:00:00",
          "2020-04-01T00:00:00",
          "2020-05-01T00:00:00",
          "2020-06-01T00:00:00",
          "2020-07-01T00:00:00",
          "2020-08-01T00:00:00",
          "2020-09-01T00:00:00",
          "2020-10-01T00:00:00",
          "2020-11-01T00:00:00",
          "2020-12-01T00:00:00",
          "2021-01-01T00:00:00",
          "2021-02-01T00:00:00",
          "2021-03-01T00:00:00",
          "2021-04-01T00:00:00",
          "2021-05-01T00:00:00",
          "2021-06-01T00:00:00",
          "2021-07-01T00:00:00",
          "2021-08-01T00:00:00",
          "2021-09-01T00:00:00",
          "2021-10-01T00:00:00",
          "2021-11-01T00:00:00",
          "2021-12-01T00:00:00",
          "2022-01-01T00:00:00",
          "2022-02-01T00:00:00",
          "2022-03-01T00:00:00",
          "2022-04-01T00:00:00",
          "2022-05-01T00:00:00",
          "2022-06-01T00:00:00",
          "2022-07-01T00:00:00"
         ],
         "xaxis": "x",
         "y": [
          1.7273598090482247,
          1.3708645585816122,
          0.9792675079040878,
          2.457946078807896,
          2.2073430946950188,
          1.3623771968332299,
          1.4112618697203685,
          2.0482762967164554,
          1.1320266511417298,
          1.6296671857458442,
          0,
          0,
          0,
          0,
          0,
          0.17809756184437836,
          0,
          0,
          0,
          0,
          0,
          0.1392234118089298,
          0,
          0,
          0,
          0,
          0,
          0,
          0,
          0,
          0,
          0,
          0,
          0,
          0,
          0
         ],
         "yaxis": "y"
        },
        {
         "hovertemplate": "keyword=pandemic<br>Date=%{x}<br>value=%{y}<extra></extra>",
         "legendgroup": "pandemic",
         "line": {
          "color": "#00cc96",
          "dash": "solid"
         },
         "marker": {
          "symbol": "circle"
         },
         "mode": "lines",
         "name": "pandemic",
         "orientation": "v",
         "showlegend": true,
         "type": "scatter",
         "x": [
          "2019-08-01T00:00:00",
          "2019-09-01T00:00:00",
          "2019-10-01T00:00:00",
          "2019-11-01T00:00:00",
          "2019-12-01T00:00:00",
          "2020-01-01T00:00:00",
          "2020-02-01T00:00:00",
          "2020-03-01T00:00:00",
          "2020-04-01T00:00:00",
          "2020-05-01T00:00:00",
          "2020-06-01T00:00:00",
          "2020-07-01T00:00:00",
          "2020-08-01T00:00:00",
          "2020-09-01T00:00:00",
          "2020-10-01T00:00:00",
          "2020-11-01T00:00:00",
          "2020-12-01T00:00:00",
          "2021-01-01T00:00:00",
          "2021-02-01T00:00:00",
          "2021-03-01T00:00:00",
          "2021-04-01T00:00:00",
          "2021-05-01T00:00:00",
          "2021-06-01T00:00:00",
          "2021-07-01T00:00:00",
          "2021-08-01T00:00:00",
          "2021-09-01T00:00:00",
          "2021-10-01T00:00:00",
          "2021-11-01T00:00:00",
          "2021-12-01T00:00:00",
          "2022-01-01T00:00:00",
          "2022-02-01T00:00:00",
          "2022-03-01T00:00:00",
          "2022-04-01T00:00:00",
          "2022-05-01T00:00:00",
          "2022-06-01T00:00:00",
          "2022-07-01T00:00:00"
         ],
         "xaxis": "x",
         "y": [
          0.4710981297404249,
          0.4569548528605374,
          0.4196860748160376,
          0.307243259850987,
          0.5518357736737547,
          0.1513752440925811,
          0.6048265155944437,
          3.1511943026407008,
          6.4687237208098844,
          5.975446347734763,
          7.895386133728103,
          9.410237689624402,
          10.344593677927012,
          10.543687540111854,
          10.22311252331284,
          11.042048834351458,
          11.125432467268164,
          12.802420821391681,
          11.605474166515947,
          11.783145655242944,
          10.918023837685379,
          9.467192003007225,
          10.351728738699363,
          11.003336881510807,
          10.20266780869368,
          9.467929057207627,
          10.250777960827385,
          7.635345590284932,
          9.300688753707707,
          11.962595007804865,
          9.750770310854557,
          7.722911303533817,
          7.211963695246908,
          7.365513613047481,
          6.633931710193575,
          6.164237782962609
         ],
         "yaxis": "y"
        },
        {
         "hovertemplate": "keyword=ecosystem<br>Date=%{x}<br>value=%{y}<extra></extra>",
         "legendgroup": "ecosystem",
         "line": {
          "color": "#ab63fa",
          "dash": "solid"
         },
         "marker": {
          "symbol": "circle"
         },
         "mode": "lines",
         "name": "ecosystem",
         "orientation": "v",
         "showlegend": true,
         "type": "scatter",
         "x": [
          "2019-08-01T00:00:00",
          "2019-09-01T00:00:00",
          "2019-10-01T00:00:00",
          "2019-11-01T00:00:00",
          "2019-12-01T00:00:00",
          "2020-01-01T00:00:00",
          "2020-02-01T00:00:00",
          "2020-03-01T00:00:00",
          "2020-04-01T00:00:00",
          "2020-05-01T00:00:00",
          "2020-06-01T00:00:00",
          "2020-07-01T00:00:00",
          "2020-08-01T00:00:00",
          "2020-09-01T00:00:00",
          "2020-10-01T00:00:00",
          "2020-11-01T00:00:00",
          "2020-12-01T00:00:00",
          "2021-01-01T00:00:00",
          "2021-02-01T00:00:00",
          "2021-03-01T00:00:00",
          "2021-04-01T00:00:00",
          "2021-05-01T00:00:00",
          "2021-06-01T00:00:00",
          "2021-07-01T00:00:00",
          "2021-08-01T00:00:00",
          "2021-09-01T00:00:00",
          "2021-10-01T00:00:00",
          "2021-11-01T00:00:00",
          "2021-12-01T00:00:00",
          "2022-01-01T00:00:00",
          "2022-02-01T00:00:00",
          "2022-03-01T00:00:00",
          "2022-04-01T00:00:00",
          "2022-05-01T00:00:00",
          "2022-06-01T00:00:00",
          "2022-07-01T00:00:00"
         ],
         "xaxis": "x",
         "y": [
          3.4547196180964495,
          5.635776518613294,
          4.756442181248426,
          4.915892157615792,
          4.9665219630637925,
          5.752259275518082,
          5.846656317412956,
          4.254112308564946,
          4.851542790607414,
          2.716111976243074,
          3.7832058557447157,
          5.191855277034152,
          5.257088590421923,
          6.417896763546346,
          6.216757615528079,
          6.411512226397621,
          5.42704022793569,
          5.528318081964589,
          6.179538192560439,
          6.002734579086028,
          8.318494352522194,
          7.796511061300068,
          8.626440615582803,
          8.132901173290596,
          7.053696262800569,
          10.934791305507401,
          7.9321496125449995,
          8.120129437287149,
          11.06027851792268,
          8.607232993420572,
          9.750770310854557,
          7.839925111163117,
          9.117010709085713,
          8.417729843482835,
          8.221539298957849,
          6.30479043599433
         ],
         "yaxis": "y"
        },
        {
         "hovertemplate": "keyword=cryptocurrency<br>Date=%{x}<br>value=%{y}<extra></extra>",
         "legendgroup": "cryptocurrency",
         "line": {
          "color": "#FFA15A",
          "dash": "solid"
         },
         "marker": {
          "symbol": "circle"
         },
         "mode": "lines",
         "name": "cryptocurrency",
         "orientation": "v",
         "showlegend": true,
         "type": "scatter",
         "x": [
          "2019-08-01T00:00:00",
          "2019-09-01T00:00:00",
          "2019-10-01T00:00:00",
          "2019-11-01T00:00:00",
          "2019-12-01T00:00:00",
          "2020-01-01T00:00:00",
          "2020-02-01T00:00:00",
          "2020-03-01T00:00:00",
          "2020-04-01T00:00:00",
          "2020-05-01T00:00:00",
          "2020-06-01T00:00:00",
          "2020-07-01T00:00:00",
          "2020-08-01T00:00:00",
          "2020-09-01T00:00:00",
          "2020-10-01T00:00:00",
          "2020-11-01T00:00:00",
          "2020-12-01T00:00:00",
          "2021-01-01T00:00:00",
          "2021-02-01T00:00:00",
          "2021-03-01T00:00:00",
          "2021-04-01T00:00:00",
          "2021-05-01T00:00:00",
          "2021-06-01T00:00:00",
          "2021-07-01T00:00:00",
          "2021-08-01T00:00:00",
          "2021-09-01T00:00:00",
          "2021-10-01T00:00:00",
          "2021-11-01T00:00:00",
          "2021-12-01T00:00:00",
          "2022-01-01T00:00:00",
          "2022-02-01T00:00:00",
          "2022-03-01T00:00:00",
          "2022-04-01T00:00:00",
          "2022-05-01T00:00:00",
          "2022-06-01T00:00:00",
          "2022-07-01T00:00:00"
         ],
         "xaxis": "x",
         "y": [
          2.0414252288751746,
          1.2185462742947664,
          0.8393721496320752,
          1.0753514094784546,
          1.4715620631300126,
          0.6055009763703244,
          1.2096530311888873,
          0.7877985756601752,
          0.6468723720809885,
          0.9053706587476913,
          0.16448721111933548,
          1.135718341851221,
          1.6958350291683626,
          1.2224565263897802,
          1.795952200041445,
          1.4247804947550269,
          1.4924360626823145,
          2.1822308218281274,
          1.6579248809308496,
          3.223690792472126,
          2.469553010905026,
          3.898255530650034,
          2.8754802051942674,
          2.6312327325351927,
          2.141300651207316,
          3.8671822909721296,
          2.196595277320154,
          3.1510950055144162,
          2.388014680006033,
          3.501247319357521,
          3.510277311907641,
          3.627428036508308,
          3.8100940276776116,
          3.025121662501644,
          2.1546102990372296,
          2.2086845476413255
         ],
         "yaxis": "y"
        },
        {
         "hovertemplate": "keyword=nft<br>Date=%{x}<br>value=%{y}<extra></extra>",
         "legendgroup": "nft",
         "line": {
          "color": "#19d3f3",
          "dash": "solid"
         },
         "marker": {
          "symbol": "circle"
         },
         "mode": "lines",
         "name": "nft",
         "orientation": "v",
         "showlegend": true,
         "type": "scatter",
         "x": [
          "2019-08-01T00:00:00",
          "2019-09-01T00:00:00",
          "2019-10-01T00:00:00",
          "2019-11-01T00:00:00",
          "2019-12-01T00:00:00",
          "2020-01-01T00:00:00",
          "2020-02-01T00:00:00",
          "2020-03-01T00:00:00",
          "2020-04-01T00:00:00",
          "2020-05-01T00:00:00",
          "2020-06-01T00:00:00",
          "2020-07-01T00:00:00",
          "2020-08-01T00:00:00",
          "2020-09-01T00:00:00",
          "2020-10-01T00:00:00",
          "2020-11-01T00:00:00",
          "2020-12-01T00:00:00",
          "2021-01-01T00:00:00",
          "2021-02-01T00:00:00",
          "2021-03-01T00:00:00",
          "2021-04-01T00:00:00",
          "2021-05-01T00:00:00",
          "2021-06-01T00:00:00",
          "2021-07-01T00:00:00",
          "2021-08-01T00:00:00",
          "2021-09-01T00:00:00",
          "2021-10-01T00:00:00",
          "2021-11-01T00:00:00",
          "2021-12-01T00:00:00",
          "2022-01-01T00:00:00",
          "2022-02-01T00:00:00",
          "2022-03-01T00:00:00",
          "2022-04-01T00:00:00",
          "2022-05-01T00:00:00",
          "2022-06-01T00:00:00",
          "2022-07-01T00:00:00"
         ],
         "xaxis": "x",
         "y": [
          0,
          0,
          0,
          0,
          0,
          0,
          0,
          0,
          0,
          0,
          0,
          0,
          0,
          0,
          0.13815016923395732,
          0,
          0,
          0,
          0.3014408874419726,
          1.3339410175746729,
          0.7798588455489557,
          0.4176702354267894,
          0.6901152492466242,
          0.35880446352752626,
          0.5038354473428978,
          0.933457794372583,
          1.098297638660077,
          0.9695676940044358,
          1.005479865265698,
          0.43765591491969014,
          1.170092437302547,
          0.7020828457758015,
          2.0411218005415774,
          0.6576351440220966,
          0.7371035233548416,
          0.7228422155917066
         ],
         "yaxis": "y"
        },
        {
         "hovertemplate": "keyword=esg<br>Date=%{x}<br>value=%{y}<extra></extra>",
         "legendgroup": "esg",
         "line": {
          "color": "#FF6692",
          "dash": "solid"
         },
         "marker": {
          "symbol": "circle"
         },
         "mode": "lines",
         "name": "esg",
         "orientation": "v",
         "showlegend": true,
         "type": "scatter",
         "x": [
          "2019-08-01T00:00:00",
          "2019-09-01T00:00:00",
          "2019-10-01T00:00:00",
          "2019-11-01T00:00:00",
          "2019-12-01T00:00:00",
          "2020-01-01T00:00:00",
          "2020-02-01T00:00:00",
          "2020-03-01T00:00:00",
          "2020-04-01T00:00:00",
          "2020-05-01T00:00:00",
          "2020-06-01T00:00:00",
          "2020-07-01T00:00:00",
          "2020-08-01T00:00:00",
          "2020-09-01T00:00:00",
          "2020-10-01T00:00:00",
          "2020-11-01T00:00:00",
          "2020-12-01T00:00:00",
          "2021-01-01T00:00:00",
          "2021-02-01T00:00:00",
          "2021-03-01T00:00:00",
          "2021-04-01T00:00:00",
          "2021-05-01T00:00:00",
          "2021-06-01T00:00:00",
          "2021-07-01T00:00:00",
          "2021-08-01T00:00:00",
          "2021-09-01T00:00:00",
          "2021-10-01T00:00:00",
          "2021-11-01T00:00:00",
          "2021-12-01T00:00:00",
          "2022-01-01T00:00:00",
          "2022-02-01T00:00:00",
          "2022-03-01T00:00:00",
          "2022-04-01T00:00:00",
          "2022-05-01T00:00:00",
          "2022-06-01T00:00:00",
          "2022-07-01T00:00:00"
         ],
         "xaxis": "x",
         "y": [
          0.15703270991347498,
          0.3046365685736916,
          0.5595814330880501,
          0,
          0.18394525789125157,
          0.6055009763703244,
          0.40321767706296247,
          0.15755971513203504,
          0.32343618604049423,
          0.36214826349907653,
          0,
          0.16224547740731726,
          0.8479175145841813,
          0.30561413159744505,
          0,
          0,
          0.13567600569839225,
          0.2909641095770837,
          0.6028817748839452,
          1.1116175146455607,
          1.1697882683234335,
          0.8353404708535788,
          0.4600768328310828,
          0.7176089270550525,
          1.0076708946857955,
          0.5334044539271903,
          0.6101653548111539,
          0.7271757705033268,
          1.2568498315821226,
          1.3129677447590704,
          1.0400821664911528,
          0.46805523051720105,
          1.0885982936221748,
          2.4990135472839667,
          1.2474059626005012,
          1.2248159764192805
         ],
         "yaxis": "y"
        },
        {
         "hovertemplate": "keyword=cbdc<br>Date=%{x}<br>value=%{y}<extra></extra>",
         "legendgroup": "cbdc",
         "line": {
          "color": "#B6E880",
          "dash": "solid"
         },
         "marker": {
          "symbol": "circle"
         },
         "mode": "lines",
         "name": "cbdc",
         "orientation": "v",
         "showlegend": true,
         "type": "scatter",
         "x": [
          "2019-08-01T00:00:00",
          "2019-09-01T00:00:00",
          "2019-10-01T00:00:00",
          "2019-11-01T00:00:00",
          "2019-12-01T00:00:00",
          "2020-01-01T00:00:00",
          "2020-02-01T00:00:00",
          "2020-03-01T00:00:00",
          "2020-04-01T00:00:00",
          "2020-05-01T00:00:00",
          "2020-06-01T00:00:00",
          "2020-07-01T00:00:00",
          "2020-08-01T00:00:00",
          "2020-09-01T00:00:00",
          "2020-10-01T00:00:00",
          "2020-11-01T00:00:00",
          "2020-12-01T00:00:00",
          "2021-01-01T00:00:00",
          "2021-02-01T00:00:00",
          "2021-03-01T00:00:00",
          "2021-04-01T00:00:00",
          "2021-05-01T00:00:00",
          "2021-06-01T00:00:00",
          "2021-07-01T00:00:00",
          "2021-08-01T00:00:00",
          "2021-09-01T00:00:00",
          "2021-10-01T00:00:00",
          "2021-11-01T00:00:00",
          "2021-12-01T00:00:00",
          "2022-01-01T00:00:00",
          "2022-02-01T00:00:00",
          "2022-03-01T00:00:00",
          "2022-04-01T00:00:00",
          "2022-05-01T00:00:00",
          "2022-06-01T00:00:00",
          "2022-07-01T00:00:00"
         ],
         "xaxis": "x",
         "y": [
          0.7851635495673749,
          0,
          0.13989535827201252,
          0.307243259850987,
          0.36789051578250315,
          0.4541257322777433,
          0.6048265155944437,
          0.4726791453961051,
          0.32343618604049423,
          1.2675189222467678,
          0.4934616333580064,
          1.297963819258538,
          0.3391670058336725,
          0.4584211973961676,
          0.8289010154037438,
          1.4247804947550269,
          0.8140560341903534,
          0.7274102739427092,
          1.2057635497678905,
          1.1116175146455607,
          1.2997647425815928,
          1.949127765325017,
          1.495249706701019,
          2.511631244692684,
          1.5115063420286934,
          1.4668622482997733,
          1.7084629934712308,
          2.302723273260535,
          0.8797948821074858,
          1.4588530497323005,
          2.470195145416488,
          4.095483267025509,
          2.449346160649893,
          2.3674865184795477,
          1.3608065046550923,
          0.7630001164579125
         ],
         "yaxis": "y"
        }
       ],
       "layout": {
        "legend": {
         "title": {
          "text": "keyword"
         },
         "tracegroupgap": 0
        },
        "template": {
         "data": {
          "bar": [
           {
            "error_x": {
             "color": "#2a3f5f"
            },
            "error_y": {
             "color": "#2a3f5f"
            },
            "marker": {
             "line": {
              "color": "#E5ECF6",
              "width": 0.5
             },
             "pattern": {
              "fillmode": "overlay",
              "size": 10,
              "solidity": 0.2
             }
            },
            "type": "bar"
           }
          ],
          "barpolar": [
           {
            "marker": {
             "line": {
              "color": "#E5ECF6",
              "width": 0.5
             },
             "pattern": {
              "fillmode": "overlay",
              "size": 10,
              "solidity": 0.2
             }
            },
            "type": "barpolar"
           }
          ],
          "carpet": [
           {
            "aaxis": {
             "endlinecolor": "#2a3f5f",
             "gridcolor": "white",
             "linecolor": "white",
             "minorgridcolor": "white",
             "startlinecolor": "#2a3f5f"
            },
            "baxis": {
             "endlinecolor": "#2a3f5f",
             "gridcolor": "white",
             "linecolor": "white",
             "minorgridcolor": "white",
             "startlinecolor": "#2a3f5f"
            },
            "type": "carpet"
           }
          ],
          "choropleth": [
           {
            "colorbar": {
             "outlinewidth": 0,
             "ticks": ""
            },
            "type": "choropleth"
           }
          ],
          "contour": [
           {
            "colorbar": {
             "outlinewidth": 0,
             "ticks": ""
            },
            "colorscale": [
             [
              0,
              "#0d0887"
             ],
             [
              0.1111111111111111,
              "#46039f"
             ],
             [
              0.2222222222222222,
              "#7201a8"
             ],
             [
              0.3333333333333333,
              "#9c179e"
             ],
             [
              0.4444444444444444,
              "#bd3786"
             ],
             [
              0.5555555555555556,
              "#d8576b"
             ],
             [
              0.6666666666666666,
              "#ed7953"
             ],
             [
              0.7777777777777778,
              "#fb9f3a"
             ],
             [
              0.8888888888888888,
              "#fdca26"
             ],
             [
              1,
              "#f0f921"
             ]
            ],
            "type": "contour"
           }
          ],
          "contourcarpet": [
           {
            "colorbar": {
             "outlinewidth": 0,
             "ticks": ""
            },
            "type": "contourcarpet"
           }
          ],
          "heatmap": [
           {
            "colorbar": {
             "outlinewidth": 0,
             "ticks": ""
            },
            "colorscale": [
             [
              0,
              "#0d0887"
             ],
             [
              0.1111111111111111,
              "#46039f"
             ],
             [
              0.2222222222222222,
              "#7201a8"
             ],
             [
              0.3333333333333333,
              "#9c179e"
             ],
             [
              0.4444444444444444,
              "#bd3786"
             ],
             [
              0.5555555555555556,
              "#d8576b"
             ],
             [
              0.6666666666666666,
              "#ed7953"
             ],
             [
              0.7777777777777778,
              "#fb9f3a"
             ],
             [
              0.8888888888888888,
              "#fdca26"
             ],
             [
              1,
              "#f0f921"
             ]
            ],
            "type": "heatmap"
           }
          ],
          "heatmapgl": [
           {
            "colorbar": {
             "outlinewidth": 0,
             "ticks": ""
            },
            "colorscale": [
             [
              0,
              "#0d0887"
             ],
             [
              0.1111111111111111,
              "#46039f"
             ],
             [
              0.2222222222222222,
              "#7201a8"
             ],
             [
              0.3333333333333333,
              "#9c179e"
             ],
             [
              0.4444444444444444,
              "#bd3786"
             ],
             [
              0.5555555555555556,
              "#d8576b"
             ],
             [
              0.6666666666666666,
              "#ed7953"
             ],
             [
              0.7777777777777778,
              "#fb9f3a"
             ],
             [
              0.8888888888888888,
              "#fdca26"
             ],
             [
              1,
              "#f0f921"
             ]
            ],
            "type": "heatmapgl"
           }
          ],
          "histogram": [
           {
            "marker": {
             "pattern": {
              "fillmode": "overlay",
              "size": 10,
              "solidity": 0.2
             }
            },
            "type": "histogram"
           }
          ],
          "histogram2d": [
           {
            "colorbar": {
             "outlinewidth": 0,
             "ticks": ""
            },
            "colorscale": [
             [
              0,
              "#0d0887"
             ],
             [
              0.1111111111111111,
              "#46039f"
             ],
             [
              0.2222222222222222,
              "#7201a8"
             ],
             [
              0.3333333333333333,
              "#9c179e"
             ],
             [
              0.4444444444444444,
              "#bd3786"
             ],
             [
              0.5555555555555556,
              "#d8576b"
             ],
             [
              0.6666666666666666,
              "#ed7953"
             ],
             [
              0.7777777777777778,
              "#fb9f3a"
             ],
             [
              0.8888888888888888,
              "#fdca26"
             ],
             [
              1,
              "#f0f921"
             ]
            ],
            "type": "histogram2d"
           }
          ],
          "histogram2dcontour": [
           {
            "colorbar": {
             "outlinewidth": 0,
             "ticks": ""
            },
            "colorscale": [
             [
              0,
              "#0d0887"
             ],
             [
              0.1111111111111111,
              "#46039f"
             ],
             [
              0.2222222222222222,
              "#7201a8"
             ],
             [
              0.3333333333333333,
              "#9c179e"
             ],
             [
              0.4444444444444444,
              "#bd3786"
             ],
             [
              0.5555555555555556,
              "#d8576b"
             ],
             [
              0.6666666666666666,
              "#ed7953"
             ],
             [
              0.7777777777777778,
              "#fb9f3a"
             ],
             [
              0.8888888888888888,
              "#fdca26"
             ],
             [
              1,
              "#f0f921"
             ]
            ],
            "type": "histogram2dcontour"
           }
          ],
          "mesh3d": [
           {
            "colorbar": {
             "outlinewidth": 0,
             "ticks": ""
            },
            "type": "mesh3d"
           }
          ],
          "parcoords": [
           {
            "line": {
             "colorbar": {
              "outlinewidth": 0,
              "ticks": ""
             }
            },
            "type": "parcoords"
           }
          ],
          "pie": [
           {
            "automargin": true,
            "type": "pie"
           }
          ],
          "scatter": [
           {
            "fillpattern": {
             "fillmode": "overlay",
             "size": 10,
             "solidity": 0.2
            },
            "type": "scatter"
           }
          ],
          "scatter3d": [
           {
            "line": {
             "colorbar": {
              "outlinewidth": 0,
              "ticks": ""
             }
            },
            "marker": {
             "colorbar": {
              "outlinewidth": 0,
              "ticks": ""
             }
            },
            "type": "scatter3d"
           }
          ],
          "scattercarpet": [
           {
            "marker": {
             "colorbar": {
              "outlinewidth": 0,
              "ticks": ""
             }
            },
            "type": "scattercarpet"
           }
          ],
          "scattergeo": [
           {
            "marker": {
             "colorbar": {
              "outlinewidth": 0,
              "ticks": ""
             }
            },
            "type": "scattergeo"
           }
          ],
          "scattergl": [
           {
            "marker": {
             "colorbar": {
              "outlinewidth": 0,
              "ticks": ""
             }
            },
            "type": "scattergl"
           }
          ],
          "scattermapbox": [
           {
            "marker": {
             "colorbar": {
              "outlinewidth": 0,
              "ticks": ""
             }
            },
            "type": "scattermapbox"
           }
          ],
          "scatterpolar": [
           {
            "marker": {
             "colorbar": {
              "outlinewidth": 0,
              "ticks": ""
             }
            },
            "type": "scatterpolar"
           }
          ],
          "scatterpolargl": [
           {
            "marker": {
             "colorbar": {
              "outlinewidth": 0,
              "ticks": ""
             }
            },
            "type": "scatterpolargl"
           }
          ],
          "scatterternary": [
           {
            "marker": {
             "colorbar": {
              "outlinewidth": 0,
              "ticks": ""
             }
            },
            "type": "scatterternary"
           }
          ],
          "surface": [
           {
            "colorbar": {
             "outlinewidth": 0,
             "ticks": ""
            },
            "colorscale": [
             [
              0,
              "#0d0887"
             ],
             [
              0.1111111111111111,
              "#46039f"
             ],
             [
              0.2222222222222222,
              "#7201a8"
             ],
             [
              0.3333333333333333,
              "#9c179e"
             ],
             [
              0.4444444444444444,
              "#bd3786"
             ],
             [
              0.5555555555555556,
              "#d8576b"
             ],
             [
              0.6666666666666666,
              "#ed7953"
             ],
             [
              0.7777777777777778,
              "#fb9f3a"
             ],
             [
              0.8888888888888888,
              "#fdca26"
             ],
             [
              1,
              "#f0f921"
             ]
            ],
            "type": "surface"
           }
          ],
          "table": [
           {
            "cells": {
             "fill": {
              "color": "#EBF0F8"
             },
             "line": {
              "color": "white"
             }
            },
            "header": {
             "fill": {
              "color": "#C8D4E3"
             },
             "line": {
              "color": "white"
             }
            },
            "type": "table"
           }
          ]
         },
         "layout": {
          "annotationdefaults": {
           "arrowcolor": "#2a3f5f",
           "arrowhead": 0,
           "arrowwidth": 1
          },
          "autotypenumbers": "strict",
          "coloraxis": {
           "colorbar": {
            "outlinewidth": 0,
            "ticks": ""
           }
          },
          "colorscale": {
           "diverging": [
            [
             0,
             "#8e0152"
            ],
            [
             0.1,
             "#c51b7d"
            ],
            [
             0.2,
             "#de77ae"
            ],
            [
             0.3,
             "#f1b6da"
            ],
            [
             0.4,
             "#fde0ef"
            ],
            [
             0.5,
             "#f7f7f7"
            ],
            [
             0.6,
             "#e6f5d0"
            ],
            [
             0.7,
             "#b8e186"
            ],
            [
             0.8,
             "#7fbc41"
            ],
            [
             0.9,
             "#4d9221"
            ],
            [
             1,
             "#276419"
            ]
           ],
           "sequential": [
            [
             0,
             "#0d0887"
            ],
            [
             0.1111111111111111,
             "#46039f"
            ],
            [
             0.2222222222222222,
             "#7201a8"
            ],
            [
             0.3333333333333333,
             "#9c179e"
            ],
            [
             0.4444444444444444,
             "#bd3786"
            ],
            [
             0.5555555555555556,
             "#d8576b"
            ],
            [
             0.6666666666666666,
             "#ed7953"
            ],
            [
             0.7777777777777778,
             "#fb9f3a"
            ],
            [
             0.8888888888888888,
             "#fdca26"
            ],
            [
             1,
             "#f0f921"
            ]
           ],
           "sequentialminus": [
            [
             0,
             "#0d0887"
            ],
            [
             0.1111111111111111,
             "#46039f"
            ],
            [
             0.2222222222222222,
             "#7201a8"
            ],
            [
             0.3333333333333333,
             "#9c179e"
            ],
            [
             0.4444444444444444,
             "#bd3786"
            ],
            [
             0.5555555555555556,
             "#d8576b"
            ],
            [
             0.6666666666666666,
             "#ed7953"
            ],
            [
             0.7777777777777778,
             "#fb9f3a"
            ],
            [
             0.8888888888888888,
             "#fdca26"
            ],
            [
             1,
             "#f0f921"
            ]
           ]
          },
          "colorway": [
           "#636efa",
           "#EF553B",
           "#00cc96",
           "#ab63fa",
           "#FFA15A",
           "#19d3f3",
           "#FF6692",
           "#B6E880",
           "#FF97FF",
           "#FECB52"
          ],
          "font": {
           "color": "#2a3f5f"
          },
          "geo": {
           "bgcolor": "white",
           "lakecolor": "white",
           "landcolor": "#E5ECF6",
           "showlakes": true,
           "showland": true,
           "subunitcolor": "white"
          },
          "hoverlabel": {
           "align": "left"
          },
          "hovermode": "closest",
          "mapbox": {
           "style": "light"
          },
          "paper_bgcolor": "white",
          "plot_bgcolor": "#E5ECF6",
          "polar": {
           "angularaxis": {
            "gridcolor": "white",
            "linecolor": "white",
            "ticks": ""
           },
           "bgcolor": "#E5ECF6",
           "radialaxis": {
            "gridcolor": "white",
            "linecolor": "white",
            "ticks": ""
           }
          },
          "scene": {
           "xaxis": {
            "backgroundcolor": "#E5ECF6",
            "gridcolor": "white",
            "gridwidth": 2,
            "linecolor": "white",
            "showbackground": true,
            "ticks": "",
            "zerolinecolor": "white"
           },
           "yaxis": {
            "backgroundcolor": "#E5ECF6",
            "gridcolor": "white",
            "gridwidth": 2,
            "linecolor": "white",
            "showbackground": true,
            "ticks": "",
            "zerolinecolor": "white"
           },
           "zaxis": {
            "backgroundcolor": "#E5ECF6",
            "gridcolor": "white",
            "gridwidth": 2,
            "linecolor": "white",
            "showbackground": true,
            "ticks": "",
            "zerolinecolor": "white"
           }
          },
          "shapedefaults": {
           "line": {
            "color": "#2a3f5f"
           }
          },
          "ternary": {
           "aaxis": {
            "gridcolor": "white",
            "linecolor": "white",
            "ticks": ""
           },
           "baxis": {
            "gridcolor": "white",
            "linecolor": "white",
            "ticks": ""
           },
           "bgcolor": "#E5ECF6",
           "caxis": {
            "gridcolor": "white",
            "linecolor": "white",
            "ticks": ""
           }
          },
          "title": {
           "x": 0.05
          },
          "xaxis": {
           "automargin": true,
           "gridcolor": "white",
           "linecolor": "white",
           "ticks": "",
           "title": {
            "standoff": 15
           },
           "zerolinecolor": "white",
           "zerolinewidth": 2
          },
          "yaxis": {
           "automargin": true,
           "gridcolor": "white",
           "linecolor": "white",
           "ticks": "",
           "title": {
            "standoff": 15
           },
           "zerolinecolor": "white",
           "zerolinewidth": 2
          }
         }
        },
        "title": {
         "text": "Key Word (2018.1 - 2022.7)"
        },
        "xaxis": {
         "anchor": "y",
         "domain": [
          0,
          1
         ],
         "title": {
          "text": "Date"
         }
        },
        "yaxis": {
         "anchor": "x",
         "domain": [
          0,
          1
         ],
         "title": {
          "text": "value"
         }
        }
       }
      },
      "text/html": [
       "<div>                            <div id=\"5ef8b726-9d3e-4ae6-87f5-54bc1c426494\" class=\"plotly-graph-div\" style=\"height:525px; width:100%;\"></div>            <script type=\"text/javascript\">                require([\"plotly\"], function(Plotly) {                    window.PLOTLYENV=window.PLOTLYENV || {};                                    if (document.getElementById(\"5ef8b726-9d3e-4ae6-87f5-54bc1c426494\")) {                    Plotly.newPlot(                        \"5ef8b726-9d3e-4ae6-87f5-54bc1c426494\",                        [{\"hovertemplate\":\"keyword=coronavirus<br>Date=%{x}<br>value=%{y}<extra></extra>\",\"legendgroup\":\"coronavirus\",\"line\":{\"color\":\"#636efa\",\"dash\":\"solid\"},\"marker\":{\"symbol\":\"circle\"},\"mode\":\"lines\",\"name\":\"coronavirus\",\"orientation\":\"v\",\"showlegend\":true,\"x\":[\"2019-08-01T00:00:00\",\"2019-08-01T00:00:00\",\"2019-09-01T00:00:00\",\"2019-09-01T00:00:00\",\"2019-10-01T00:00:00\",\"2019-10-01T00:00:00\",\"2019-11-01T00:00:00\",\"2019-11-01T00:00:00\",\"2019-12-01T00:00:00\",\"2019-12-01T00:00:00\",\"2020-01-01T00:00:00\",\"2020-01-01T00:00:00\",\"2020-02-01T00:00:00\",\"2020-02-01T00:00:00\",\"2020-03-01T00:00:00\",\"2020-03-01T00:00:00\",\"2020-04-01T00:00:00\",\"2020-04-01T00:00:00\",\"2020-05-01T00:00:00\",\"2020-05-01T00:00:00\",\"2020-06-01T00:00:00\",\"2020-06-01T00:00:00\",\"2020-07-01T00:00:00\",\"2020-07-01T00:00:00\",\"2020-08-01T00:00:00\",\"2020-08-01T00:00:00\",\"2020-09-01T00:00:00\",\"2020-09-01T00:00:00\",\"2020-10-01T00:00:00\",\"2020-10-01T00:00:00\",\"2020-11-01T00:00:00\",\"2020-11-01T00:00:00\",\"2020-12-01T00:00:00\",\"2020-12-01T00:00:00\",\"2021-01-01T00:00:00\",\"2021-01-01T00:00:00\",\"2021-02-01T00:00:00\",\"2021-02-01T00:00:00\",\"2021-03-01T00:00:00\",\"2021-03-01T00:00:00\",\"2021-04-01T00:00:00\",\"2021-04-01T00:00:00\",\"2021-05-01T00:00:00\",\"2021-05-01T00:00:00\",\"2021-06-01T00:00:00\",\"2021-06-01T00:00:00\",\"2021-07-01T00:00:00\",\"2021-07-01T00:00:00\",\"2021-08-01T00:00:00\",\"2021-08-01T00:00:00\",\"2021-09-01T00:00:00\",\"2021-09-01T00:00:00\",\"2021-10-01T00:00:00\",\"2021-10-01T00:00:00\",\"2021-11-01T00:00:00\",\"2021-11-01T00:00:00\",\"2021-12-01T00:00:00\",\"2021-12-01T00:00:00\",\"2022-01-01T00:00:00\",\"2022-01-01T00:00:00\",\"2022-02-01T00:00:00\",\"2022-02-01T00:00:00\",\"2022-03-01T00:00:00\",\"2022-03-01T00:00:00\",\"2022-04-01T00:00:00\",\"2022-04-01T00:00:00\",\"2022-05-01T00:00:00\",\"2022-05-01T00:00:00\",\"2022-06-01T00:00:00\",\"2022-06-01T00:00:00\",\"2022-07-01T00:00:00\",\"2022-07-01T00:00:00\"],\"xaxis\":\"x\",\"y\":[0.0,0.0,0.0,0.0,0.0,0.0,0.0,0.0,0.0,0.0,0.4541257322777433,0.4541257322777433,4.032176770629625,4.032176770629625,20.01008382176845,20.01008382176845,24.742868232097806,24.742868232097806,23.177488863940898,23.177488863940898,15.461797845217534,15.461797845217534,14.439847489251237,14.439847489251237,12.718762718762719,12.718762718762719,10.543687540111854,10.543687540111854,7.598259307867652,7.598259307867652,9.082975654063295,9.082975654063295,11.668136490061732,11.668136490061732,6.837656575061466,6.837656575061466,5.275215530234521,5.275215530234521,5.446925821763248,5.446925821763248,3.8992942277447784,3.8992942277447784,4.176702354267894,4.176702354267894,3.33555703802535,3.33555703802535,2.033225293322649,2.033225293322649,2.519177236714489,2.519177236714489,2.6670222696359516,2.6670222696359516,3.050826774055769,3.050826774055769,2.6663111585121984,2.6663111585121984,2.1366447136896083,2.1366447136896083,2.0423942696252206,2.0423942696252206,1.0400821664911528,1.0400821664911528,1.1701380762930025,1.1701380762930025,0.8164487202166311,0.8164487202166311,1.1837432592397739,1.1837432592397739,0.6237029813002506,0.6237029813002506,0.9035527694896333,0.9035527694896333],\"yaxis\":\"y\",\"type\":\"scatter\"},{\"hovertemplate\":\"keyword=visitbusiness<br>Date=%{x}<br>value=%{y}<extra></extra>\",\"legendgroup\":\"visitbusiness\",\"line\":{\"color\":\"#EF553B\",\"dash\":\"solid\"},\"marker\":{\"symbol\":\"circle\"},\"mode\":\"lines\",\"name\":\"visitbusiness\",\"orientation\":\"v\",\"showlegend\":true,\"x\":[\"2019-08-01T00:00:00\",\"2019-09-01T00:00:00\",\"2019-10-01T00:00:00\",\"2019-11-01T00:00:00\",\"2019-12-01T00:00:00\",\"2020-01-01T00:00:00\",\"2020-02-01T00:00:00\",\"2020-03-01T00:00:00\",\"2020-04-01T00:00:00\",\"2020-05-01T00:00:00\",\"2020-06-01T00:00:00\",\"2020-07-01T00:00:00\",\"2020-08-01T00:00:00\",\"2020-09-01T00:00:00\",\"2020-10-01T00:00:00\",\"2020-11-01T00:00:00\",\"2020-12-01T00:00:00\",\"2021-01-01T00:00:00\",\"2021-02-01T00:00:00\",\"2021-03-01T00:00:00\",\"2021-04-01T00:00:00\",\"2021-05-01T00:00:00\",\"2021-06-01T00:00:00\",\"2021-07-01T00:00:00\",\"2021-08-01T00:00:00\",\"2021-09-01T00:00:00\",\"2021-10-01T00:00:00\",\"2021-11-01T00:00:00\",\"2021-12-01T00:00:00\",\"2022-01-01T00:00:00\",\"2022-02-01T00:00:00\",\"2022-03-01T00:00:00\",\"2022-04-01T00:00:00\",\"2022-05-01T00:00:00\",\"2022-06-01T00:00:00\",\"2022-07-01T00:00:00\"],\"xaxis\":\"x\",\"y\":[1.7273598090482247,1.3708645585816122,0.9792675079040878,2.457946078807896,2.2073430946950188,1.3623771968332299,1.4112618697203685,2.0482762967164554,1.1320266511417298,1.6296671857458442,0.0,0.0,0.0,0.0,0.0,0.17809756184437836,0.0,0.0,0.0,0.0,0.0,0.1392234118089298,0.0,0.0,0.0,0.0,0.0,0.0,0.0,0.0,0.0,0.0,0.0,0.0,0.0,0.0],\"yaxis\":\"y\",\"type\":\"scatter\"},{\"hovertemplate\":\"keyword=pandemic<br>Date=%{x}<br>value=%{y}<extra></extra>\",\"legendgroup\":\"pandemic\",\"line\":{\"color\":\"#00cc96\",\"dash\":\"solid\"},\"marker\":{\"symbol\":\"circle\"},\"mode\":\"lines\",\"name\":\"pandemic\",\"orientation\":\"v\",\"showlegend\":true,\"x\":[\"2019-08-01T00:00:00\",\"2019-09-01T00:00:00\",\"2019-10-01T00:00:00\",\"2019-11-01T00:00:00\",\"2019-12-01T00:00:00\",\"2020-01-01T00:00:00\",\"2020-02-01T00:00:00\",\"2020-03-01T00:00:00\",\"2020-04-01T00:00:00\",\"2020-05-01T00:00:00\",\"2020-06-01T00:00:00\",\"2020-07-01T00:00:00\",\"2020-08-01T00:00:00\",\"2020-09-01T00:00:00\",\"2020-10-01T00:00:00\",\"2020-11-01T00:00:00\",\"2020-12-01T00:00:00\",\"2021-01-01T00:00:00\",\"2021-02-01T00:00:00\",\"2021-03-01T00:00:00\",\"2021-04-01T00:00:00\",\"2021-05-01T00:00:00\",\"2021-06-01T00:00:00\",\"2021-07-01T00:00:00\",\"2021-08-01T00:00:00\",\"2021-09-01T00:00:00\",\"2021-10-01T00:00:00\",\"2021-11-01T00:00:00\",\"2021-12-01T00:00:00\",\"2022-01-01T00:00:00\",\"2022-02-01T00:00:00\",\"2022-03-01T00:00:00\",\"2022-04-01T00:00:00\",\"2022-05-01T00:00:00\",\"2022-06-01T00:00:00\",\"2022-07-01T00:00:00\"],\"xaxis\":\"x\",\"y\":[0.4710981297404249,0.4569548528605374,0.4196860748160376,0.307243259850987,0.5518357736737547,0.1513752440925811,0.6048265155944437,3.1511943026407008,6.4687237208098844,5.975446347734763,7.895386133728103,9.410237689624402,10.344593677927012,10.543687540111854,10.22311252331284,11.042048834351458,11.125432467268164,12.802420821391681,11.605474166515947,11.783145655242944,10.918023837685379,9.467192003007225,10.351728738699363,11.003336881510807,10.20266780869368,9.467929057207627,10.250777960827385,7.635345590284932,9.300688753707707,11.962595007804865,9.750770310854557,7.722911303533817,7.211963695246908,7.365513613047481,6.633931710193575,6.164237782962609],\"yaxis\":\"y\",\"type\":\"scatter\"},{\"hovertemplate\":\"keyword=ecosystem<br>Date=%{x}<br>value=%{y}<extra></extra>\",\"legendgroup\":\"ecosystem\",\"line\":{\"color\":\"#ab63fa\",\"dash\":\"solid\"},\"marker\":{\"symbol\":\"circle\"},\"mode\":\"lines\",\"name\":\"ecosystem\",\"orientation\":\"v\",\"showlegend\":true,\"x\":[\"2019-08-01T00:00:00\",\"2019-09-01T00:00:00\",\"2019-10-01T00:00:00\",\"2019-11-01T00:00:00\",\"2019-12-01T00:00:00\",\"2020-01-01T00:00:00\",\"2020-02-01T00:00:00\",\"2020-03-01T00:00:00\",\"2020-04-01T00:00:00\",\"2020-05-01T00:00:00\",\"2020-06-01T00:00:00\",\"2020-07-01T00:00:00\",\"2020-08-01T00:00:00\",\"2020-09-01T00:00:00\",\"2020-10-01T00:00:00\",\"2020-11-01T00:00:00\",\"2020-12-01T00:00:00\",\"2021-01-01T00:00:00\",\"2021-02-01T00:00:00\",\"2021-03-01T00:00:00\",\"2021-04-01T00:00:00\",\"2021-05-01T00:00:00\",\"2021-06-01T00:00:00\",\"2021-07-01T00:00:00\",\"2021-08-01T00:00:00\",\"2021-09-01T00:00:00\",\"2021-10-01T00:00:00\",\"2021-11-01T00:00:00\",\"2021-12-01T00:00:00\",\"2022-01-01T00:00:00\",\"2022-02-01T00:00:00\",\"2022-03-01T00:00:00\",\"2022-04-01T00:00:00\",\"2022-05-01T00:00:00\",\"2022-06-01T00:00:00\",\"2022-07-01T00:00:00\"],\"xaxis\":\"x\",\"y\":[3.4547196180964495,5.635776518613294,4.756442181248426,4.915892157615792,4.9665219630637925,5.752259275518082,5.846656317412956,4.254112308564946,4.851542790607414,2.716111976243074,3.7832058557447157,5.191855277034152,5.257088590421923,6.417896763546346,6.216757615528079,6.411512226397621,5.42704022793569,5.528318081964589,6.179538192560439,6.002734579086028,8.318494352522194,7.796511061300068,8.626440615582803,8.132901173290596,7.053696262800569,10.934791305507401,7.9321496125449995,8.120129437287149,11.06027851792268,8.607232993420572,9.750770310854557,7.839925111163117,9.117010709085713,8.417729843482835,8.221539298957849,6.30479043599433],\"yaxis\":\"y\",\"type\":\"scatter\"},{\"hovertemplate\":\"keyword=cryptocurrency<br>Date=%{x}<br>value=%{y}<extra></extra>\",\"legendgroup\":\"cryptocurrency\",\"line\":{\"color\":\"#FFA15A\",\"dash\":\"solid\"},\"marker\":{\"symbol\":\"circle\"},\"mode\":\"lines\",\"name\":\"cryptocurrency\",\"orientation\":\"v\",\"showlegend\":true,\"x\":[\"2019-08-01T00:00:00\",\"2019-09-01T00:00:00\",\"2019-10-01T00:00:00\",\"2019-11-01T00:00:00\",\"2019-12-01T00:00:00\",\"2020-01-01T00:00:00\",\"2020-02-01T00:00:00\",\"2020-03-01T00:00:00\",\"2020-04-01T00:00:00\",\"2020-05-01T00:00:00\",\"2020-06-01T00:00:00\",\"2020-07-01T00:00:00\",\"2020-08-01T00:00:00\",\"2020-09-01T00:00:00\",\"2020-10-01T00:00:00\",\"2020-11-01T00:00:00\",\"2020-12-01T00:00:00\",\"2021-01-01T00:00:00\",\"2021-02-01T00:00:00\",\"2021-03-01T00:00:00\",\"2021-04-01T00:00:00\",\"2021-05-01T00:00:00\",\"2021-06-01T00:00:00\",\"2021-07-01T00:00:00\",\"2021-08-01T00:00:00\",\"2021-09-01T00:00:00\",\"2021-10-01T00:00:00\",\"2021-11-01T00:00:00\",\"2021-12-01T00:00:00\",\"2022-01-01T00:00:00\",\"2022-02-01T00:00:00\",\"2022-03-01T00:00:00\",\"2022-04-01T00:00:00\",\"2022-05-01T00:00:00\",\"2022-06-01T00:00:00\",\"2022-07-01T00:00:00\"],\"xaxis\":\"x\",\"y\":[2.0414252288751746,1.2185462742947664,0.8393721496320752,1.0753514094784546,1.4715620631300126,0.6055009763703244,1.2096530311888873,0.7877985756601752,0.6468723720809885,0.9053706587476913,0.16448721111933548,1.135718341851221,1.6958350291683626,1.2224565263897802,1.795952200041445,1.4247804947550269,1.4924360626823145,2.1822308218281274,1.6579248809308496,3.223690792472126,2.469553010905026,3.898255530650034,2.8754802051942674,2.6312327325351927,2.141300651207316,3.8671822909721296,2.196595277320154,3.1510950055144162,2.388014680006033,3.501247319357521,3.510277311907641,3.627428036508308,3.8100940276776116,3.025121662501644,2.1546102990372296,2.2086845476413255],\"yaxis\":\"y\",\"type\":\"scatter\"},{\"hovertemplate\":\"keyword=nft<br>Date=%{x}<br>value=%{y}<extra></extra>\",\"legendgroup\":\"nft\",\"line\":{\"color\":\"#19d3f3\",\"dash\":\"solid\"},\"marker\":{\"symbol\":\"circle\"},\"mode\":\"lines\",\"name\":\"nft\",\"orientation\":\"v\",\"showlegend\":true,\"x\":[\"2019-08-01T00:00:00\",\"2019-09-01T00:00:00\",\"2019-10-01T00:00:00\",\"2019-11-01T00:00:00\",\"2019-12-01T00:00:00\",\"2020-01-01T00:00:00\",\"2020-02-01T00:00:00\",\"2020-03-01T00:00:00\",\"2020-04-01T00:00:00\",\"2020-05-01T00:00:00\",\"2020-06-01T00:00:00\",\"2020-07-01T00:00:00\",\"2020-08-01T00:00:00\",\"2020-09-01T00:00:00\",\"2020-10-01T00:00:00\",\"2020-11-01T00:00:00\",\"2020-12-01T00:00:00\",\"2021-01-01T00:00:00\",\"2021-02-01T00:00:00\",\"2021-03-01T00:00:00\",\"2021-04-01T00:00:00\",\"2021-05-01T00:00:00\",\"2021-06-01T00:00:00\",\"2021-07-01T00:00:00\",\"2021-08-01T00:00:00\",\"2021-09-01T00:00:00\",\"2021-10-01T00:00:00\",\"2021-11-01T00:00:00\",\"2021-12-01T00:00:00\",\"2022-01-01T00:00:00\",\"2022-02-01T00:00:00\",\"2022-03-01T00:00:00\",\"2022-04-01T00:00:00\",\"2022-05-01T00:00:00\",\"2022-06-01T00:00:00\",\"2022-07-01T00:00:00\"],\"xaxis\":\"x\",\"y\":[0.0,0.0,0.0,0.0,0.0,0.0,0.0,0.0,0.0,0.0,0.0,0.0,0.0,0.0,0.13815016923395732,0.0,0.0,0.0,0.3014408874419726,1.3339410175746729,0.7798588455489557,0.4176702354267894,0.6901152492466242,0.35880446352752626,0.5038354473428978,0.933457794372583,1.098297638660077,0.9695676940044358,1.005479865265698,0.43765591491969014,1.170092437302547,0.7020828457758015,2.0411218005415774,0.6576351440220966,0.7371035233548416,0.7228422155917066],\"yaxis\":\"y\",\"type\":\"scatter\"},{\"hovertemplate\":\"keyword=esg<br>Date=%{x}<br>value=%{y}<extra></extra>\",\"legendgroup\":\"esg\",\"line\":{\"color\":\"#FF6692\",\"dash\":\"solid\"},\"marker\":{\"symbol\":\"circle\"},\"mode\":\"lines\",\"name\":\"esg\",\"orientation\":\"v\",\"showlegend\":true,\"x\":[\"2019-08-01T00:00:00\",\"2019-09-01T00:00:00\",\"2019-10-01T00:00:00\",\"2019-11-01T00:00:00\",\"2019-12-01T00:00:00\",\"2020-01-01T00:00:00\",\"2020-02-01T00:00:00\",\"2020-03-01T00:00:00\",\"2020-04-01T00:00:00\",\"2020-05-01T00:00:00\",\"2020-06-01T00:00:00\",\"2020-07-01T00:00:00\",\"2020-08-01T00:00:00\",\"2020-09-01T00:00:00\",\"2020-10-01T00:00:00\",\"2020-11-01T00:00:00\",\"2020-12-01T00:00:00\",\"2021-01-01T00:00:00\",\"2021-02-01T00:00:00\",\"2021-03-01T00:00:00\",\"2021-04-01T00:00:00\",\"2021-05-01T00:00:00\",\"2021-06-01T00:00:00\",\"2021-07-01T00:00:00\",\"2021-08-01T00:00:00\",\"2021-09-01T00:00:00\",\"2021-10-01T00:00:00\",\"2021-11-01T00:00:00\",\"2021-12-01T00:00:00\",\"2022-01-01T00:00:00\",\"2022-02-01T00:00:00\",\"2022-03-01T00:00:00\",\"2022-04-01T00:00:00\",\"2022-05-01T00:00:00\",\"2022-06-01T00:00:00\",\"2022-07-01T00:00:00\"],\"xaxis\":\"x\",\"y\":[0.15703270991347498,0.3046365685736916,0.5595814330880501,0.0,0.18394525789125157,0.6055009763703244,0.40321767706296247,0.15755971513203504,0.32343618604049423,0.36214826349907653,0.0,0.16224547740731726,0.8479175145841813,0.30561413159744505,0.0,0.0,0.13567600569839225,0.2909641095770837,0.6028817748839452,1.1116175146455607,1.1697882683234335,0.8353404708535788,0.4600768328310828,0.7176089270550525,1.0076708946857955,0.5334044539271903,0.6101653548111539,0.7271757705033268,1.2568498315821226,1.3129677447590704,1.0400821664911528,0.46805523051720105,1.0885982936221748,2.4990135472839667,1.2474059626005012,1.2248159764192805],\"yaxis\":\"y\",\"type\":\"scatter\"},{\"hovertemplate\":\"keyword=cbdc<br>Date=%{x}<br>value=%{y}<extra></extra>\",\"legendgroup\":\"cbdc\",\"line\":{\"color\":\"#B6E880\",\"dash\":\"solid\"},\"marker\":{\"symbol\":\"circle\"},\"mode\":\"lines\",\"name\":\"cbdc\",\"orientation\":\"v\",\"showlegend\":true,\"x\":[\"2019-08-01T00:00:00\",\"2019-09-01T00:00:00\",\"2019-10-01T00:00:00\",\"2019-11-01T00:00:00\",\"2019-12-01T00:00:00\",\"2020-01-01T00:00:00\",\"2020-02-01T00:00:00\",\"2020-03-01T00:00:00\",\"2020-04-01T00:00:00\",\"2020-05-01T00:00:00\",\"2020-06-01T00:00:00\",\"2020-07-01T00:00:00\",\"2020-08-01T00:00:00\",\"2020-09-01T00:00:00\",\"2020-10-01T00:00:00\",\"2020-11-01T00:00:00\",\"2020-12-01T00:00:00\",\"2021-01-01T00:00:00\",\"2021-02-01T00:00:00\",\"2021-03-01T00:00:00\",\"2021-04-01T00:00:00\",\"2021-05-01T00:00:00\",\"2021-06-01T00:00:00\",\"2021-07-01T00:00:00\",\"2021-08-01T00:00:00\",\"2021-09-01T00:00:00\",\"2021-10-01T00:00:00\",\"2021-11-01T00:00:00\",\"2021-12-01T00:00:00\",\"2022-01-01T00:00:00\",\"2022-02-01T00:00:00\",\"2022-03-01T00:00:00\",\"2022-04-01T00:00:00\",\"2022-05-01T00:00:00\",\"2022-06-01T00:00:00\",\"2022-07-01T00:00:00\"],\"xaxis\":\"x\",\"y\":[0.7851635495673749,0.0,0.13989535827201252,0.307243259850987,0.36789051578250315,0.4541257322777433,0.6048265155944437,0.4726791453961051,0.32343618604049423,1.2675189222467678,0.4934616333580064,1.297963819258538,0.3391670058336725,0.4584211973961676,0.8289010154037438,1.4247804947550269,0.8140560341903534,0.7274102739427092,1.2057635497678905,1.1116175146455607,1.2997647425815928,1.949127765325017,1.495249706701019,2.511631244692684,1.5115063420286934,1.4668622482997733,1.7084629934712308,2.302723273260535,0.8797948821074858,1.4588530497323005,2.470195145416488,4.095483267025509,2.449346160649893,2.3674865184795477,1.3608065046550923,0.7630001164579125],\"yaxis\":\"y\",\"type\":\"scatter\"}],                        {\"template\":{\"data\":{\"histogram2dcontour\":[{\"type\":\"histogram2dcontour\",\"colorbar\":{\"outlinewidth\":0,\"ticks\":\"\"},\"colorscale\":[[0.0,\"#0d0887\"],[0.1111111111111111,\"#46039f\"],[0.2222222222222222,\"#7201a8\"],[0.3333333333333333,\"#9c179e\"],[0.4444444444444444,\"#bd3786\"],[0.5555555555555556,\"#d8576b\"],[0.6666666666666666,\"#ed7953\"],[0.7777777777777778,\"#fb9f3a\"],[0.8888888888888888,\"#fdca26\"],[1.0,\"#f0f921\"]]}],\"choropleth\":[{\"type\":\"choropleth\",\"colorbar\":{\"outlinewidth\":0,\"ticks\":\"\"}}],\"histogram2d\":[{\"type\":\"histogram2d\",\"colorbar\":{\"outlinewidth\":0,\"ticks\":\"\"},\"colorscale\":[[0.0,\"#0d0887\"],[0.1111111111111111,\"#46039f\"],[0.2222222222222222,\"#7201a8\"],[0.3333333333333333,\"#9c179e\"],[0.4444444444444444,\"#bd3786\"],[0.5555555555555556,\"#d8576b\"],[0.6666666666666666,\"#ed7953\"],[0.7777777777777778,\"#fb9f3a\"],[0.8888888888888888,\"#fdca26\"],[1.0,\"#f0f921\"]]}],\"heatmap\":[{\"type\":\"heatmap\",\"colorbar\":{\"outlinewidth\":0,\"ticks\":\"\"},\"colorscale\":[[0.0,\"#0d0887\"],[0.1111111111111111,\"#46039f\"],[0.2222222222222222,\"#7201a8\"],[0.3333333333333333,\"#9c179e\"],[0.4444444444444444,\"#bd3786\"],[0.5555555555555556,\"#d8576b\"],[0.6666666666666666,\"#ed7953\"],[0.7777777777777778,\"#fb9f3a\"],[0.8888888888888888,\"#fdca26\"],[1.0,\"#f0f921\"]]}],\"heatmapgl\":[{\"type\":\"heatmapgl\",\"colorbar\":{\"outlinewidth\":0,\"ticks\":\"\"},\"colorscale\":[[0.0,\"#0d0887\"],[0.1111111111111111,\"#46039f\"],[0.2222222222222222,\"#7201a8\"],[0.3333333333333333,\"#9c179e\"],[0.4444444444444444,\"#bd3786\"],[0.5555555555555556,\"#d8576b\"],[0.6666666666666666,\"#ed7953\"],[0.7777777777777778,\"#fb9f3a\"],[0.8888888888888888,\"#fdca26\"],[1.0,\"#f0f921\"]]}],\"contourcarpet\":[{\"type\":\"contourcarpet\",\"colorbar\":{\"outlinewidth\":0,\"ticks\":\"\"}}],\"contour\":[{\"type\":\"contour\",\"colorbar\":{\"outlinewidth\":0,\"ticks\":\"\"},\"colorscale\":[[0.0,\"#0d0887\"],[0.1111111111111111,\"#46039f\"],[0.2222222222222222,\"#7201a8\"],[0.3333333333333333,\"#9c179e\"],[0.4444444444444444,\"#bd3786\"],[0.5555555555555556,\"#d8576b\"],[0.6666666666666666,\"#ed7953\"],[0.7777777777777778,\"#fb9f3a\"],[0.8888888888888888,\"#fdca26\"],[1.0,\"#f0f921\"]]}],\"surface\":[{\"type\":\"surface\",\"colorbar\":{\"outlinewidth\":0,\"ticks\":\"\"},\"colorscale\":[[0.0,\"#0d0887\"],[0.1111111111111111,\"#46039f\"],[0.2222222222222222,\"#7201a8\"],[0.3333333333333333,\"#9c179e\"],[0.4444444444444444,\"#bd3786\"],[0.5555555555555556,\"#d8576b\"],[0.6666666666666666,\"#ed7953\"],[0.7777777777777778,\"#fb9f3a\"],[0.8888888888888888,\"#fdca26\"],[1.0,\"#f0f921\"]]}],\"mesh3d\":[{\"type\":\"mesh3d\",\"colorbar\":{\"outlinewidth\":0,\"ticks\":\"\"}}],\"scatter\":[{\"fillpattern\":{\"fillmode\":\"overlay\",\"size\":10,\"solidity\":0.2},\"type\":\"scatter\"}],\"parcoords\":[{\"type\":\"parcoords\",\"line\":{\"colorbar\":{\"outlinewidth\":0,\"ticks\":\"\"}}}],\"scatterpolargl\":[{\"type\":\"scatterpolargl\",\"marker\":{\"colorbar\":{\"outlinewidth\":0,\"ticks\":\"\"}}}],\"bar\":[{\"error_x\":{\"color\":\"#2a3f5f\"},\"error_y\":{\"color\":\"#2a3f5f\"},\"marker\":{\"line\":{\"color\":\"#E5ECF6\",\"width\":0.5},\"pattern\":{\"fillmode\":\"overlay\",\"size\":10,\"solidity\":0.2}},\"type\":\"bar\"}],\"scattergeo\":[{\"type\":\"scattergeo\",\"marker\":{\"colorbar\":{\"outlinewidth\":0,\"ticks\":\"\"}}}],\"scatterpolar\":[{\"type\":\"scatterpolar\",\"marker\":{\"colorbar\":{\"outlinewidth\":0,\"ticks\":\"\"}}}],\"histogram\":[{\"marker\":{\"pattern\":{\"fillmode\":\"overlay\",\"size\":10,\"solidity\":0.2}},\"type\":\"histogram\"}],\"scattergl\":[{\"type\":\"scattergl\",\"marker\":{\"colorbar\":{\"outlinewidth\":0,\"ticks\":\"\"}}}],\"scatter3d\":[{\"type\":\"scatter3d\",\"line\":{\"colorbar\":{\"outlinewidth\":0,\"ticks\":\"\"}},\"marker\":{\"colorbar\":{\"outlinewidth\":0,\"ticks\":\"\"}}}],\"scattermapbox\":[{\"type\":\"scattermapbox\",\"marker\":{\"colorbar\":{\"outlinewidth\":0,\"ticks\":\"\"}}}],\"scatterternary\":[{\"type\":\"scatterternary\",\"marker\":{\"colorbar\":{\"outlinewidth\":0,\"ticks\":\"\"}}}],\"scattercarpet\":[{\"type\":\"scattercarpet\",\"marker\":{\"colorbar\":{\"outlinewidth\":0,\"ticks\":\"\"}}}],\"carpet\":[{\"aaxis\":{\"endlinecolor\":\"#2a3f5f\",\"gridcolor\":\"white\",\"linecolor\":\"white\",\"minorgridcolor\":\"white\",\"startlinecolor\":\"#2a3f5f\"},\"baxis\":{\"endlinecolor\":\"#2a3f5f\",\"gridcolor\":\"white\",\"linecolor\":\"white\",\"minorgridcolor\":\"white\",\"startlinecolor\":\"#2a3f5f\"},\"type\":\"carpet\"}],\"table\":[{\"cells\":{\"fill\":{\"color\":\"#EBF0F8\"},\"line\":{\"color\":\"white\"}},\"header\":{\"fill\":{\"color\":\"#C8D4E3\"},\"line\":{\"color\":\"white\"}},\"type\":\"table\"}],\"barpolar\":[{\"marker\":{\"line\":{\"color\":\"#E5ECF6\",\"width\":0.5},\"pattern\":{\"fillmode\":\"overlay\",\"size\":10,\"solidity\":0.2}},\"type\":\"barpolar\"}],\"pie\":[{\"automargin\":true,\"type\":\"pie\"}]},\"layout\":{\"autotypenumbers\":\"strict\",\"colorway\":[\"#636efa\",\"#EF553B\",\"#00cc96\",\"#ab63fa\",\"#FFA15A\",\"#19d3f3\",\"#FF6692\",\"#B6E880\",\"#FF97FF\",\"#FECB52\"],\"font\":{\"color\":\"#2a3f5f\"},\"hovermode\":\"closest\",\"hoverlabel\":{\"align\":\"left\"},\"paper_bgcolor\":\"white\",\"plot_bgcolor\":\"#E5ECF6\",\"polar\":{\"bgcolor\":\"#E5ECF6\",\"angularaxis\":{\"gridcolor\":\"white\",\"linecolor\":\"white\",\"ticks\":\"\"},\"radialaxis\":{\"gridcolor\":\"white\",\"linecolor\":\"white\",\"ticks\":\"\"}},\"ternary\":{\"bgcolor\":\"#E5ECF6\",\"aaxis\":{\"gridcolor\":\"white\",\"linecolor\":\"white\",\"ticks\":\"\"},\"baxis\":{\"gridcolor\":\"white\",\"linecolor\":\"white\",\"ticks\":\"\"},\"caxis\":{\"gridcolor\":\"white\",\"linecolor\":\"white\",\"ticks\":\"\"}},\"coloraxis\":{\"colorbar\":{\"outlinewidth\":0,\"ticks\":\"\"}},\"colorscale\":{\"sequential\":[[0.0,\"#0d0887\"],[0.1111111111111111,\"#46039f\"],[0.2222222222222222,\"#7201a8\"],[0.3333333333333333,\"#9c179e\"],[0.4444444444444444,\"#bd3786\"],[0.5555555555555556,\"#d8576b\"],[0.6666666666666666,\"#ed7953\"],[0.7777777777777778,\"#fb9f3a\"],[0.8888888888888888,\"#fdca26\"],[1.0,\"#f0f921\"]],\"sequentialminus\":[[0.0,\"#0d0887\"],[0.1111111111111111,\"#46039f\"],[0.2222222222222222,\"#7201a8\"],[0.3333333333333333,\"#9c179e\"],[0.4444444444444444,\"#bd3786\"],[0.5555555555555556,\"#d8576b\"],[0.6666666666666666,\"#ed7953\"],[0.7777777777777778,\"#fb9f3a\"],[0.8888888888888888,\"#fdca26\"],[1.0,\"#f0f921\"]],\"diverging\":[[0,\"#8e0152\"],[0.1,\"#c51b7d\"],[0.2,\"#de77ae\"],[0.3,\"#f1b6da\"],[0.4,\"#fde0ef\"],[0.5,\"#f7f7f7\"],[0.6,\"#e6f5d0\"],[0.7,\"#b8e186\"],[0.8,\"#7fbc41\"],[0.9,\"#4d9221\"],[1,\"#276419\"]]},\"xaxis\":{\"gridcolor\":\"white\",\"linecolor\":\"white\",\"ticks\":\"\",\"title\":{\"standoff\":15},\"zerolinecolor\":\"white\",\"automargin\":true,\"zerolinewidth\":2},\"yaxis\":{\"gridcolor\":\"white\",\"linecolor\":\"white\",\"ticks\":\"\",\"title\":{\"standoff\":15},\"zerolinecolor\":\"white\",\"automargin\":true,\"zerolinewidth\":2},\"scene\":{\"xaxis\":{\"backgroundcolor\":\"#E5ECF6\",\"gridcolor\":\"white\",\"linecolor\":\"white\",\"showbackground\":true,\"ticks\":\"\",\"zerolinecolor\":\"white\",\"gridwidth\":2},\"yaxis\":{\"backgroundcolor\":\"#E5ECF6\",\"gridcolor\":\"white\",\"linecolor\":\"white\",\"showbackground\":true,\"ticks\":\"\",\"zerolinecolor\":\"white\",\"gridwidth\":2},\"zaxis\":{\"backgroundcolor\":\"#E5ECF6\",\"gridcolor\":\"white\",\"linecolor\":\"white\",\"showbackground\":true,\"ticks\":\"\",\"zerolinecolor\":\"white\",\"gridwidth\":2}},\"shapedefaults\":{\"line\":{\"color\":\"#2a3f5f\"}},\"annotationdefaults\":{\"arrowcolor\":\"#2a3f5f\",\"arrowhead\":0,\"arrowwidth\":1},\"geo\":{\"bgcolor\":\"white\",\"landcolor\":\"#E5ECF6\",\"subunitcolor\":\"white\",\"showland\":true,\"showlakes\":true,\"lakecolor\":\"white\"},\"title\":{\"x\":0.05},\"mapbox\":{\"style\":\"light\"}}},\"xaxis\":{\"anchor\":\"y\",\"domain\":[0.0,1.0],\"title\":{\"text\":\"Date\"}},\"yaxis\":{\"anchor\":\"x\",\"domain\":[0.0,1.0],\"title\":{\"text\":\"value\"}},\"legend\":{\"title\":{\"text\":\"keyword\"},\"tracegroupgap\":0},\"title\":{\"text\":\"Key Word (2018.1 - 2022.7)\"}},                        {\"responsive\": true}                    ).then(function(){\n",
       "                            \n",
       "var gd = document.getElementById('5ef8b726-9d3e-4ae6-87f5-54bc1c426494');\n",
       "var x = new MutationObserver(function (mutations, observer) {{\n",
       "        var display = window.getComputedStyle(gd).display;\n",
       "        if (!display || display === 'none') {{\n",
       "            console.log([gd, 'removed!']);\n",
       "            Plotly.purge(gd);\n",
       "            observer.disconnect();\n",
       "        }}\n",
       "}});\n",
       "\n",
       "// Listen for the removal of the full notebook cells\n",
       "var notebookContainer = gd.closest('#notebook-container');\n",
       "if (notebookContainer) {{\n",
       "    x.observe(notebookContainer, {childList: true});\n",
       "}}\n",
       "\n",
       "// Listen for the clearing of the current output cell\n",
       "var outputEl = gd.closest('.output');\n",
       "if (outputEl) {{\n",
       "    x.observe(outputEl, {childList: true});\n",
       "}}\n",
       "\n",
       "                        })                };                });            </script>        </div>"
      ]
     },
     "metadata": {},
     "output_type": "display_data"
    }
   ],
   "source": [
    "srch_wrd = ['coronavirus','coronavirus','visitbusiness','pandemic','ecosystem','cryptocurrency','nft','esg','cbdc']\n",
    "# 꺽은선 그래프\n",
    "df3 = Df4plot(df_es,srch_wrd)\n",
    "fig = px.line(\n",
    "    df3, x=\"Date\", y='value', color=\"keyword\", title=\"Key Word (2018.1 - 2022.7)\"\n",
    ")\n",
    "fig.show()"
   ]
  },
  {
   "cell_type": "code",
   "execution_count": null,
   "id": "4d02fe85",
   "metadata": {},
   "outputs": [],
   "source": [
    "srch_wrd = ['메타버스','가상자산','가상통화','블록체인','빅테크','핀테크','nft','esg','마이데이터','mz',\n",
    "        '코로나19','가상화폐','공인인증서','오픈뱅킹','인공지능','디지털자산','암호화폐','공동인증서','cbdc']\n",
    "# 꺽은선 그래프\n",
    "df3 = Df4plot(df_es,srch_wrd)\n",
    "fig = px.line(\n",
    "    df3, x=\"Date\", y='value', color=\"keyword\", title=\"Key Word (2018.1 - 2022.7)\"\n",
    ")\n",
    "fig.show()"
   ]
  },
  {
   "cell_type": "code",
   "execution_count": 90,
   "id": "784b5012",
   "metadata": {},
   "outputs": [
    {
     "data": {
      "application/vnd.plotly.v1+json": {
       "config": {
        "plotlyServerURL": "https://plot.ly"
       },
       "data": [
        {
         "hovertemplate": "keyword=cbdc<br>Date=%{x}<br>value=%{y}<extra></extra>",
         "legendgroup": "cbdc",
         "line": {
          "color": "#636efa",
          "dash": "solid"
         },
         "marker": {
          "symbol": "circle"
         },
         "mode": "lines",
         "name": "cbdc",
         "orientation": "v",
         "showlegend": true,
         "type": "scatter",
         "x": [
          "2018-08-01T00:00:00",
          "2018-09-01T00:00:00",
          "2018-10-01T00:00:00",
          "2018-11-01T00:00:00",
          "2018-12-01T00:00:00",
          "2019-01-01T00:00:00",
          "2019-02-01T00:00:00",
          "2019-03-01T00:00:00",
          "2019-04-01T00:00:00",
          "2019-05-01T00:00:00",
          "2019-06-01T00:00:00",
          "2019-07-01T00:00:00",
          "2019-08-01T00:00:00",
          "2019-09-01T00:00:00",
          "2019-10-01T00:00:00",
          "2019-11-01T00:00:00",
          "2019-12-01T00:00:00",
          "2020-01-01T00:00:00",
          "2020-02-01T00:00:00",
          "2020-03-01T00:00:00",
          "2020-04-01T00:00:00",
          "2020-05-01T00:00:00",
          "2020-06-01T00:00:00",
          "2020-07-01T00:00:00",
          "2020-08-01T00:00:00",
          "2020-09-01T00:00:00",
          "2020-10-01T00:00:00",
          "2020-11-01T00:00:00",
          "2020-12-01T00:00:00",
          "2021-01-01T00:00:00",
          "2021-02-01T00:00:00",
          "2021-03-01T00:00:00",
          "2021-04-01T00:00:00",
          "2021-05-01T00:00:00",
          "2021-06-01T00:00:00",
          "2021-07-01T00:00:00",
          "2021-08-01T00:00:00",
          "2021-09-01T00:00:00",
          "2021-10-01T00:00:00",
          "2021-11-01T00:00:00",
          "2021-12-01T00:00:00",
          "2022-01-01T00:00:00",
          "2022-02-01T00:00:00",
          "2022-03-01T00:00:00",
          "2022-04-01T00:00:00",
          "2022-05-01T00:00:00",
          "2022-06-01T00:00:00"
         ],
         "xaxis": "x",
         "y": [
          0,
          1,
          2,
          2,
          0,
          13,
          19,
          2,
          0,
          3,
          0,
          2,
          3,
          8,
          10,
          8,
          15,
          10,
          17,
          18,
          10,
          12,
          14,
          7,
          3,
          1,
          17,
          16,
          26,
          9,
          49,
          22,
          50,
          73,
          26,
          39,
          23,
          10,
          20,
          13,
          11,
          25,
          7,
          12,
          20,
          12,
          5
         ],
         "yaxis": "y"
        }
       ],
       "layout": {
        "legend": {
         "title": {
          "text": "keyword"
         },
         "tracegroupgap": 0
        },
        "template": {
         "data": {
          "bar": [
           {
            "error_x": {
             "color": "#2a3f5f"
            },
            "error_y": {
             "color": "#2a3f5f"
            },
            "marker": {
             "line": {
              "color": "#E5ECF6",
              "width": 0.5
             },
             "pattern": {
              "fillmode": "overlay",
              "size": 10,
              "solidity": 0.2
             }
            },
            "type": "bar"
           }
          ],
          "barpolar": [
           {
            "marker": {
             "line": {
              "color": "#E5ECF6",
              "width": 0.5
             },
             "pattern": {
              "fillmode": "overlay",
              "size": 10,
              "solidity": 0.2
             }
            },
            "type": "barpolar"
           }
          ],
          "carpet": [
           {
            "aaxis": {
             "endlinecolor": "#2a3f5f",
             "gridcolor": "white",
             "linecolor": "white",
             "minorgridcolor": "white",
             "startlinecolor": "#2a3f5f"
            },
            "baxis": {
             "endlinecolor": "#2a3f5f",
             "gridcolor": "white",
             "linecolor": "white",
             "minorgridcolor": "white",
             "startlinecolor": "#2a3f5f"
            },
            "type": "carpet"
           }
          ],
          "choropleth": [
           {
            "colorbar": {
             "outlinewidth": 0,
             "ticks": ""
            },
            "type": "choropleth"
           }
          ],
          "contour": [
           {
            "colorbar": {
             "outlinewidth": 0,
             "ticks": ""
            },
            "colorscale": [
             [
              0,
              "#0d0887"
             ],
             [
              0.1111111111111111,
              "#46039f"
             ],
             [
              0.2222222222222222,
              "#7201a8"
             ],
             [
              0.3333333333333333,
              "#9c179e"
             ],
             [
              0.4444444444444444,
              "#bd3786"
             ],
             [
              0.5555555555555556,
              "#d8576b"
             ],
             [
              0.6666666666666666,
              "#ed7953"
             ],
             [
              0.7777777777777778,
              "#fb9f3a"
             ],
             [
              0.8888888888888888,
              "#fdca26"
             ],
             [
              1,
              "#f0f921"
             ]
            ],
            "type": "contour"
           }
          ],
          "contourcarpet": [
           {
            "colorbar": {
             "outlinewidth": 0,
             "ticks": ""
            },
            "type": "contourcarpet"
           }
          ],
          "heatmap": [
           {
            "colorbar": {
             "outlinewidth": 0,
             "ticks": ""
            },
            "colorscale": [
             [
              0,
              "#0d0887"
             ],
             [
              0.1111111111111111,
              "#46039f"
             ],
             [
              0.2222222222222222,
              "#7201a8"
             ],
             [
              0.3333333333333333,
              "#9c179e"
             ],
             [
              0.4444444444444444,
              "#bd3786"
             ],
             [
              0.5555555555555556,
              "#d8576b"
             ],
             [
              0.6666666666666666,
              "#ed7953"
             ],
             [
              0.7777777777777778,
              "#fb9f3a"
             ],
             [
              0.8888888888888888,
              "#fdca26"
             ],
             [
              1,
              "#f0f921"
             ]
            ],
            "type": "heatmap"
           }
          ],
          "heatmapgl": [
           {
            "colorbar": {
             "outlinewidth": 0,
             "ticks": ""
            },
            "colorscale": [
             [
              0,
              "#0d0887"
             ],
             [
              0.1111111111111111,
              "#46039f"
             ],
             [
              0.2222222222222222,
              "#7201a8"
             ],
             [
              0.3333333333333333,
              "#9c179e"
             ],
             [
              0.4444444444444444,
              "#bd3786"
             ],
             [
              0.5555555555555556,
              "#d8576b"
             ],
             [
              0.6666666666666666,
              "#ed7953"
             ],
             [
              0.7777777777777778,
              "#fb9f3a"
             ],
             [
              0.8888888888888888,
              "#fdca26"
             ],
             [
              1,
              "#f0f921"
             ]
            ],
            "type": "heatmapgl"
           }
          ],
          "histogram": [
           {
            "marker": {
             "pattern": {
              "fillmode": "overlay",
              "size": 10,
              "solidity": 0.2
             }
            },
            "type": "histogram"
           }
          ],
          "histogram2d": [
           {
            "colorbar": {
             "outlinewidth": 0,
             "ticks": ""
            },
            "colorscale": [
             [
              0,
              "#0d0887"
             ],
             [
              0.1111111111111111,
              "#46039f"
             ],
             [
              0.2222222222222222,
              "#7201a8"
             ],
             [
              0.3333333333333333,
              "#9c179e"
             ],
             [
              0.4444444444444444,
              "#bd3786"
             ],
             [
              0.5555555555555556,
              "#d8576b"
             ],
             [
              0.6666666666666666,
              "#ed7953"
             ],
             [
              0.7777777777777778,
              "#fb9f3a"
             ],
             [
              0.8888888888888888,
              "#fdca26"
             ],
             [
              1,
              "#f0f921"
             ]
            ],
            "type": "histogram2d"
           }
          ],
          "histogram2dcontour": [
           {
            "colorbar": {
             "outlinewidth": 0,
             "ticks": ""
            },
            "colorscale": [
             [
              0,
              "#0d0887"
             ],
             [
              0.1111111111111111,
              "#46039f"
             ],
             [
              0.2222222222222222,
              "#7201a8"
             ],
             [
              0.3333333333333333,
              "#9c179e"
             ],
             [
              0.4444444444444444,
              "#bd3786"
             ],
             [
              0.5555555555555556,
              "#d8576b"
             ],
             [
              0.6666666666666666,
              "#ed7953"
             ],
             [
              0.7777777777777778,
              "#fb9f3a"
             ],
             [
              0.8888888888888888,
              "#fdca26"
             ],
             [
              1,
              "#f0f921"
             ]
            ],
            "type": "histogram2dcontour"
           }
          ],
          "mesh3d": [
           {
            "colorbar": {
             "outlinewidth": 0,
             "ticks": ""
            },
            "type": "mesh3d"
           }
          ],
          "parcoords": [
           {
            "line": {
             "colorbar": {
              "outlinewidth": 0,
              "ticks": ""
             }
            },
            "type": "parcoords"
           }
          ],
          "pie": [
           {
            "automargin": true,
            "type": "pie"
           }
          ],
          "scatter": [
           {
            "fillpattern": {
             "fillmode": "overlay",
             "size": 10,
             "solidity": 0.2
            },
            "type": "scatter"
           }
          ],
          "scatter3d": [
           {
            "line": {
             "colorbar": {
              "outlinewidth": 0,
              "ticks": ""
             }
            },
            "marker": {
             "colorbar": {
              "outlinewidth": 0,
              "ticks": ""
             }
            },
            "type": "scatter3d"
           }
          ],
          "scattercarpet": [
           {
            "marker": {
             "colorbar": {
              "outlinewidth": 0,
              "ticks": ""
             }
            },
            "type": "scattercarpet"
           }
          ],
          "scattergeo": [
           {
            "marker": {
             "colorbar": {
              "outlinewidth": 0,
              "ticks": ""
             }
            },
            "type": "scattergeo"
           }
          ],
          "scattergl": [
           {
            "marker": {
             "colorbar": {
              "outlinewidth": 0,
              "ticks": ""
             }
            },
            "type": "scattergl"
           }
          ],
          "scattermapbox": [
           {
            "marker": {
             "colorbar": {
              "outlinewidth": 0,
              "ticks": ""
             }
            },
            "type": "scattermapbox"
           }
          ],
          "scatterpolar": [
           {
            "marker": {
             "colorbar": {
              "outlinewidth": 0,
              "ticks": ""
             }
            },
            "type": "scatterpolar"
           }
          ],
          "scatterpolargl": [
           {
            "marker": {
             "colorbar": {
              "outlinewidth": 0,
              "ticks": ""
             }
            },
            "type": "scatterpolargl"
           }
          ],
          "scatterternary": [
           {
            "marker": {
             "colorbar": {
              "outlinewidth": 0,
              "ticks": ""
             }
            },
            "type": "scatterternary"
           }
          ],
          "surface": [
           {
            "colorbar": {
             "outlinewidth": 0,
             "ticks": ""
            },
            "colorscale": [
             [
              0,
              "#0d0887"
             ],
             [
              0.1111111111111111,
              "#46039f"
             ],
             [
              0.2222222222222222,
              "#7201a8"
             ],
             [
              0.3333333333333333,
              "#9c179e"
             ],
             [
              0.4444444444444444,
              "#bd3786"
             ],
             [
              0.5555555555555556,
              "#d8576b"
             ],
             [
              0.6666666666666666,
              "#ed7953"
             ],
             [
              0.7777777777777778,
              "#fb9f3a"
             ],
             [
              0.8888888888888888,
              "#fdca26"
             ],
             [
              1,
              "#f0f921"
             ]
            ],
            "type": "surface"
           }
          ],
          "table": [
           {
            "cells": {
             "fill": {
              "color": "#EBF0F8"
             },
             "line": {
              "color": "white"
             }
            },
            "header": {
             "fill": {
              "color": "#C8D4E3"
             },
             "line": {
              "color": "white"
             }
            },
            "type": "table"
           }
          ]
         },
         "layout": {
          "annotationdefaults": {
           "arrowcolor": "#2a3f5f",
           "arrowhead": 0,
           "arrowwidth": 1
          },
          "autotypenumbers": "strict",
          "coloraxis": {
           "colorbar": {
            "outlinewidth": 0,
            "ticks": ""
           }
          },
          "colorscale": {
           "diverging": [
            [
             0,
             "#8e0152"
            ],
            [
             0.1,
             "#c51b7d"
            ],
            [
             0.2,
             "#de77ae"
            ],
            [
             0.3,
             "#f1b6da"
            ],
            [
             0.4,
             "#fde0ef"
            ],
            [
             0.5,
             "#f7f7f7"
            ],
            [
             0.6,
             "#e6f5d0"
            ],
            [
             0.7,
             "#b8e186"
            ],
            [
             0.8,
             "#7fbc41"
            ],
            [
             0.9,
             "#4d9221"
            ],
            [
             1,
             "#276419"
            ]
           ],
           "sequential": [
            [
             0,
             "#0d0887"
            ],
            [
             0.1111111111111111,
             "#46039f"
            ],
            [
             0.2222222222222222,
             "#7201a8"
            ],
            [
             0.3333333333333333,
             "#9c179e"
            ],
            [
             0.4444444444444444,
             "#bd3786"
            ],
            [
             0.5555555555555556,
             "#d8576b"
            ],
            [
             0.6666666666666666,
             "#ed7953"
            ],
            [
             0.7777777777777778,
             "#fb9f3a"
            ],
            [
             0.8888888888888888,
             "#fdca26"
            ],
            [
             1,
             "#f0f921"
            ]
           ],
           "sequentialminus": [
            [
             0,
             "#0d0887"
            ],
            [
             0.1111111111111111,
             "#46039f"
            ],
            [
             0.2222222222222222,
             "#7201a8"
            ],
            [
             0.3333333333333333,
             "#9c179e"
            ],
            [
             0.4444444444444444,
             "#bd3786"
            ],
            [
             0.5555555555555556,
             "#d8576b"
            ],
            [
             0.6666666666666666,
             "#ed7953"
            ],
            [
             0.7777777777777778,
             "#fb9f3a"
            ],
            [
             0.8888888888888888,
             "#fdca26"
            ],
            [
             1,
             "#f0f921"
            ]
           ]
          },
          "colorway": [
           "#636efa",
           "#EF553B",
           "#00cc96",
           "#ab63fa",
           "#FFA15A",
           "#19d3f3",
           "#FF6692",
           "#B6E880",
           "#FF97FF",
           "#FECB52"
          ],
          "font": {
           "color": "#2a3f5f"
          },
          "geo": {
           "bgcolor": "white",
           "lakecolor": "white",
           "landcolor": "#E5ECF6",
           "showlakes": true,
           "showland": true,
           "subunitcolor": "white"
          },
          "hoverlabel": {
           "align": "left"
          },
          "hovermode": "closest",
          "mapbox": {
           "style": "light"
          },
          "paper_bgcolor": "white",
          "plot_bgcolor": "#E5ECF6",
          "polar": {
           "angularaxis": {
            "gridcolor": "white",
            "linecolor": "white",
            "ticks": ""
           },
           "bgcolor": "#E5ECF6",
           "radialaxis": {
            "gridcolor": "white",
            "linecolor": "white",
            "ticks": ""
           }
          },
          "scene": {
           "xaxis": {
            "backgroundcolor": "#E5ECF6",
            "gridcolor": "white",
            "gridwidth": 2,
            "linecolor": "white",
            "showbackground": true,
            "ticks": "",
            "zerolinecolor": "white"
           },
           "yaxis": {
            "backgroundcolor": "#E5ECF6",
            "gridcolor": "white",
            "gridwidth": 2,
            "linecolor": "white",
            "showbackground": true,
            "ticks": "",
            "zerolinecolor": "white"
           },
           "zaxis": {
            "backgroundcolor": "#E5ECF6",
            "gridcolor": "white",
            "gridwidth": 2,
            "linecolor": "white",
            "showbackground": true,
            "ticks": "",
            "zerolinecolor": "white"
           }
          },
          "shapedefaults": {
           "line": {
            "color": "#2a3f5f"
           }
          },
          "ternary": {
           "aaxis": {
            "gridcolor": "white",
            "linecolor": "white",
            "ticks": ""
           },
           "baxis": {
            "gridcolor": "white",
            "linecolor": "white",
            "ticks": ""
           },
           "bgcolor": "#E5ECF6",
           "caxis": {
            "gridcolor": "white",
            "linecolor": "white",
            "ticks": ""
           }
          },
          "title": {
           "x": 0.05
          },
          "xaxis": {
           "automargin": true,
           "gridcolor": "white",
           "linecolor": "white",
           "ticks": "",
           "title": {
            "standoff": 15
           },
           "zerolinecolor": "white",
           "zerolinewidth": 2
          },
          "yaxis": {
           "automargin": true,
           "gridcolor": "white",
           "linecolor": "white",
           "ticks": "",
           "title": {
            "standoff": 15
           },
           "zerolinecolor": "white",
           "zerolinewidth": 2
          }
         }
        },
        "title": {
         "text": "Key Word (2018.1 - 2022.7)"
        },
        "xaxis": {
         "anchor": "y",
         "domain": [
          0,
          1
         ],
         "title": {
          "text": "Date"
         }
        },
        "yaxis": {
         "anchor": "x",
         "domain": [
          0,
          1
         ],
         "title": {
          "text": "value"
         }
        }
       }
      },
      "text/html": [
       "<div>                            <div id=\"a908ff2e-0622-419b-9cd5-1098377eb6ac\" class=\"plotly-graph-div\" style=\"height:525px; width:100%;\"></div>            <script type=\"text/javascript\">                require([\"plotly\"], function(Plotly) {                    window.PLOTLYENV=window.PLOTLYENV || {};                                    if (document.getElementById(\"a908ff2e-0622-419b-9cd5-1098377eb6ac\")) {                    Plotly.newPlot(                        \"a908ff2e-0622-419b-9cd5-1098377eb6ac\",                        [{\"hovertemplate\":\"keyword=cbdc<br>Date=%{x}<br>value=%{y}<extra></extra>\",\"legendgroup\":\"cbdc\",\"line\":{\"color\":\"#636efa\",\"dash\":\"solid\"},\"marker\":{\"symbol\":\"circle\"},\"mode\":\"lines\",\"name\":\"cbdc\",\"orientation\":\"v\",\"showlegend\":true,\"x\":[\"2018-08-01T00:00:00\",\"2018-09-01T00:00:00\",\"2018-10-01T00:00:00\",\"2018-11-01T00:00:00\",\"2018-12-01T00:00:00\",\"2019-01-01T00:00:00\",\"2019-02-01T00:00:00\",\"2019-03-01T00:00:00\",\"2019-04-01T00:00:00\",\"2019-05-01T00:00:00\",\"2019-06-01T00:00:00\",\"2019-07-01T00:00:00\",\"2019-08-01T00:00:00\",\"2019-09-01T00:00:00\",\"2019-10-01T00:00:00\",\"2019-11-01T00:00:00\",\"2019-12-01T00:00:00\",\"2020-01-01T00:00:00\",\"2020-02-01T00:00:00\",\"2020-03-01T00:00:00\",\"2020-04-01T00:00:00\",\"2020-05-01T00:00:00\",\"2020-06-01T00:00:00\",\"2020-07-01T00:00:00\",\"2020-08-01T00:00:00\",\"2020-09-01T00:00:00\",\"2020-10-01T00:00:00\",\"2020-11-01T00:00:00\",\"2020-12-01T00:00:00\",\"2021-01-01T00:00:00\",\"2021-02-01T00:00:00\",\"2021-03-01T00:00:00\",\"2021-04-01T00:00:00\",\"2021-05-01T00:00:00\",\"2021-06-01T00:00:00\",\"2021-07-01T00:00:00\",\"2021-08-01T00:00:00\",\"2021-09-01T00:00:00\",\"2021-10-01T00:00:00\",\"2021-11-01T00:00:00\",\"2021-12-01T00:00:00\",\"2022-01-01T00:00:00\",\"2022-02-01T00:00:00\",\"2022-03-01T00:00:00\",\"2022-04-01T00:00:00\",\"2022-05-01T00:00:00\",\"2022-06-01T00:00:00\"],\"xaxis\":\"x\",\"y\":[0.0,1.0,2.0,2.0,0.0,13.0,19.0,2.0,0.0,3.0,0.0,2.0,3.0,8.0,10.0,8.0,15.0,10.0,17.0,18.0,10.0,12.0,14.0,7.0,3.0,1.0,17.0,16.0,26.0,9.0,49.0,22.0,50.0,73.0,26.0,39.0,23.0,10.0,20.0,13.0,11.0,25.0,7.0,12.0,20.0,12.0,5.0],\"yaxis\":\"y\",\"type\":\"scatter\"}],                        {\"template\":{\"data\":{\"histogram2dcontour\":[{\"type\":\"histogram2dcontour\",\"colorbar\":{\"outlinewidth\":0,\"ticks\":\"\"},\"colorscale\":[[0.0,\"#0d0887\"],[0.1111111111111111,\"#46039f\"],[0.2222222222222222,\"#7201a8\"],[0.3333333333333333,\"#9c179e\"],[0.4444444444444444,\"#bd3786\"],[0.5555555555555556,\"#d8576b\"],[0.6666666666666666,\"#ed7953\"],[0.7777777777777778,\"#fb9f3a\"],[0.8888888888888888,\"#fdca26\"],[1.0,\"#f0f921\"]]}],\"choropleth\":[{\"type\":\"choropleth\",\"colorbar\":{\"outlinewidth\":0,\"ticks\":\"\"}}],\"histogram2d\":[{\"type\":\"histogram2d\",\"colorbar\":{\"outlinewidth\":0,\"ticks\":\"\"},\"colorscale\":[[0.0,\"#0d0887\"],[0.1111111111111111,\"#46039f\"],[0.2222222222222222,\"#7201a8\"],[0.3333333333333333,\"#9c179e\"],[0.4444444444444444,\"#bd3786\"],[0.5555555555555556,\"#d8576b\"],[0.6666666666666666,\"#ed7953\"],[0.7777777777777778,\"#fb9f3a\"],[0.8888888888888888,\"#fdca26\"],[1.0,\"#f0f921\"]]}],\"heatmap\":[{\"type\":\"heatmap\",\"colorbar\":{\"outlinewidth\":0,\"ticks\":\"\"},\"colorscale\":[[0.0,\"#0d0887\"],[0.1111111111111111,\"#46039f\"],[0.2222222222222222,\"#7201a8\"],[0.3333333333333333,\"#9c179e\"],[0.4444444444444444,\"#bd3786\"],[0.5555555555555556,\"#d8576b\"],[0.6666666666666666,\"#ed7953\"],[0.7777777777777778,\"#fb9f3a\"],[0.8888888888888888,\"#fdca26\"],[1.0,\"#f0f921\"]]}],\"heatmapgl\":[{\"type\":\"heatmapgl\",\"colorbar\":{\"outlinewidth\":0,\"ticks\":\"\"},\"colorscale\":[[0.0,\"#0d0887\"],[0.1111111111111111,\"#46039f\"],[0.2222222222222222,\"#7201a8\"],[0.3333333333333333,\"#9c179e\"],[0.4444444444444444,\"#bd3786\"],[0.5555555555555556,\"#d8576b\"],[0.6666666666666666,\"#ed7953\"],[0.7777777777777778,\"#fb9f3a\"],[0.8888888888888888,\"#fdca26\"],[1.0,\"#f0f921\"]]}],\"contourcarpet\":[{\"type\":\"contourcarpet\",\"colorbar\":{\"outlinewidth\":0,\"ticks\":\"\"}}],\"contour\":[{\"type\":\"contour\",\"colorbar\":{\"outlinewidth\":0,\"ticks\":\"\"},\"colorscale\":[[0.0,\"#0d0887\"],[0.1111111111111111,\"#46039f\"],[0.2222222222222222,\"#7201a8\"],[0.3333333333333333,\"#9c179e\"],[0.4444444444444444,\"#bd3786\"],[0.5555555555555556,\"#d8576b\"],[0.6666666666666666,\"#ed7953\"],[0.7777777777777778,\"#fb9f3a\"],[0.8888888888888888,\"#fdca26\"],[1.0,\"#f0f921\"]]}],\"surface\":[{\"type\":\"surface\",\"colorbar\":{\"outlinewidth\":0,\"ticks\":\"\"},\"colorscale\":[[0.0,\"#0d0887\"],[0.1111111111111111,\"#46039f\"],[0.2222222222222222,\"#7201a8\"],[0.3333333333333333,\"#9c179e\"],[0.4444444444444444,\"#bd3786\"],[0.5555555555555556,\"#d8576b\"],[0.6666666666666666,\"#ed7953\"],[0.7777777777777778,\"#fb9f3a\"],[0.8888888888888888,\"#fdca26\"],[1.0,\"#f0f921\"]]}],\"mesh3d\":[{\"type\":\"mesh3d\",\"colorbar\":{\"outlinewidth\":0,\"ticks\":\"\"}}],\"scatter\":[{\"fillpattern\":{\"fillmode\":\"overlay\",\"size\":10,\"solidity\":0.2},\"type\":\"scatter\"}],\"parcoords\":[{\"type\":\"parcoords\",\"line\":{\"colorbar\":{\"outlinewidth\":0,\"ticks\":\"\"}}}],\"scatterpolargl\":[{\"type\":\"scatterpolargl\",\"marker\":{\"colorbar\":{\"outlinewidth\":0,\"ticks\":\"\"}}}],\"bar\":[{\"error_x\":{\"color\":\"#2a3f5f\"},\"error_y\":{\"color\":\"#2a3f5f\"},\"marker\":{\"line\":{\"color\":\"#E5ECF6\",\"width\":0.5},\"pattern\":{\"fillmode\":\"overlay\",\"size\":10,\"solidity\":0.2}},\"type\":\"bar\"}],\"scattergeo\":[{\"type\":\"scattergeo\",\"marker\":{\"colorbar\":{\"outlinewidth\":0,\"ticks\":\"\"}}}],\"scatterpolar\":[{\"type\":\"scatterpolar\",\"marker\":{\"colorbar\":{\"outlinewidth\":0,\"ticks\":\"\"}}}],\"histogram\":[{\"marker\":{\"pattern\":{\"fillmode\":\"overlay\",\"size\":10,\"solidity\":0.2}},\"type\":\"histogram\"}],\"scattergl\":[{\"type\":\"scattergl\",\"marker\":{\"colorbar\":{\"outlinewidth\":0,\"ticks\":\"\"}}}],\"scatter3d\":[{\"type\":\"scatter3d\",\"line\":{\"colorbar\":{\"outlinewidth\":0,\"ticks\":\"\"}},\"marker\":{\"colorbar\":{\"outlinewidth\":0,\"ticks\":\"\"}}}],\"scattermapbox\":[{\"type\":\"scattermapbox\",\"marker\":{\"colorbar\":{\"outlinewidth\":0,\"ticks\":\"\"}}}],\"scatterternary\":[{\"type\":\"scatterternary\",\"marker\":{\"colorbar\":{\"outlinewidth\":0,\"ticks\":\"\"}}}],\"scattercarpet\":[{\"type\":\"scattercarpet\",\"marker\":{\"colorbar\":{\"outlinewidth\":0,\"ticks\":\"\"}}}],\"carpet\":[{\"aaxis\":{\"endlinecolor\":\"#2a3f5f\",\"gridcolor\":\"white\",\"linecolor\":\"white\",\"minorgridcolor\":\"white\",\"startlinecolor\":\"#2a3f5f\"},\"baxis\":{\"endlinecolor\":\"#2a3f5f\",\"gridcolor\":\"white\",\"linecolor\":\"white\",\"minorgridcolor\":\"white\",\"startlinecolor\":\"#2a3f5f\"},\"type\":\"carpet\"}],\"table\":[{\"cells\":{\"fill\":{\"color\":\"#EBF0F8\"},\"line\":{\"color\":\"white\"}},\"header\":{\"fill\":{\"color\":\"#C8D4E3\"},\"line\":{\"color\":\"white\"}},\"type\":\"table\"}],\"barpolar\":[{\"marker\":{\"line\":{\"color\":\"#E5ECF6\",\"width\":0.5},\"pattern\":{\"fillmode\":\"overlay\",\"size\":10,\"solidity\":0.2}},\"type\":\"barpolar\"}],\"pie\":[{\"automargin\":true,\"type\":\"pie\"}]},\"layout\":{\"autotypenumbers\":\"strict\",\"colorway\":[\"#636efa\",\"#EF553B\",\"#00cc96\",\"#ab63fa\",\"#FFA15A\",\"#19d3f3\",\"#FF6692\",\"#B6E880\",\"#FF97FF\",\"#FECB52\"],\"font\":{\"color\":\"#2a3f5f\"},\"hovermode\":\"closest\",\"hoverlabel\":{\"align\":\"left\"},\"paper_bgcolor\":\"white\",\"plot_bgcolor\":\"#E5ECF6\",\"polar\":{\"bgcolor\":\"#E5ECF6\",\"angularaxis\":{\"gridcolor\":\"white\",\"linecolor\":\"white\",\"ticks\":\"\"},\"radialaxis\":{\"gridcolor\":\"white\",\"linecolor\":\"white\",\"ticks\":\"\"}},\"ternary\":{\"bgcolor\":\"#E5ECF6\",\"aaxis\":{\"gridcolor\":\"white\",\"linecolor\":\"white\",\"ticks\":\"\"},\"baxis\":{\"gridcolor\":\"white\",\"linecolor\":\"white\",\"ticks\":\"\"},\"caxis\":{\"gridcolor\":\"white\",\"linecolor\":\"white\",\"ticks\":\"\"}},\"coloraxis\":{\"colorbar\":{\"outlinewidth\":0,\"ticks\":\"\"}},\"colorscale\":{\"sequential\":[[0.0,\"#0d0887\"],[0.1111111111111111,\"#46039f\"],[0.2222222222222222,\"#7201a8\"],[0.3333333333333333,\"#9c179e\"],[0.4444444444444444,\"#bd3786\"],[0.5555555555555556,\"#d8576b\"],[0.6666666666666666,\"#ed7953\"],[0.7777777777777778,\"#fb9f3a\"],[0.8888888888888888,\"#fdca26\"],[1.0,\"#f0f921\"]],\"sequentialminus\":[[0.0,\"#0d0887\"],[0.1111111111111111,\"#46039f\"],[0.2222222222222222,\"#7201a8\"],[0.3333333333333333,\"#9c179e\"],[0.4444444444444444,\"#bd3786\"],[0.5555555555555556,\"#d8576b\"],[0.6666666666666666,\"#ed7953\"],[0.7777777777777778,\"#fb9f3a\"],[0.8888888888888888,\"#fdca26\"],[1.0,\"#f0f921\"]],\"diverging\":[[0,\"#8e0152\"],[0.1,\"#c51b7d\"],[0.2,\"#de77ae\"],[0.3,\"#f1b6da\"],[0.4,\"#fde0ef\"],[0.5,\"#f7f7f7\"],[0.6,\"#e6f5d0\"],[0.7,\"#b8e186\"],[0.8,\"#7fbc41\"],[0.9,\"#4d9221\"],[1,\"#276419\"]]},\"xaxis\":{\"gridcolor\":\"white\",\"linecolor\":\"white\",\"ticks\":\"\",\"title\":{\"standoff\":15},\"zerolinecolor\":\"white\",\"automargin\":true,\"zerolinewidth\":2},\"yaxis\":{\"gridcolor\":\"white\",\"linecolor\":\"white\",\"ticks\":\"\",\"title\":{\"standoff\":15},\"zerolinecolor\":\"white\",\"automargin\":true,\"zerolinewidth\":2},\"scene\":{\"xaxis\":{\"backgroundcolor\":\"#E5ECF6\",\"gridcolor\":\"white\",\"linecolor\":\"white\",\"showbackground\":true,\"ticks\":\"\",\"zerolinecolor\":\"white\",\"gridwidth\":2},\"yaxis\":{\"backgroundcolor\":\"#E5ECF6\",\"gridcolor\":\"white\",\"linecolor\":\"white\",\"showbackground\":true,\"ticks\":\"\",\"zerolinecolor\":\"white\",\"gridwidth\":2},\"zaxis\":{\"backgroundcolor\":\"#E5ECF6\",\"gridcolor\":\"white\",\"linecolor\":\"white\",\"showbackground\":true,\"ticks\":\"\",\"zerolinecolor\":\"white\",\"gridwidth\":2}},\"shapedefaults\":{\"line\":{\"color\":\"#2a3f5f\"}},\"annotationdefaults\":{\"arrowcolor\":\"#2a3f5f\",\"arrowhead\":0,\"arrowwidth\":1},\"geo\":{\"bgcolor\":\"white\",\"landcolor\":\"#E5ECF6\",\"subunitcolor\":\"white\",\"showland\":true,\"showlakes\":true,\"lakecolor\":\"white\"},\"title\":{\"x\":0.05},\"mapbox\":{\"style\":\"light\"}}},\"xaxis\":{\"anchor\":\"y\",\"domain\":[0.0,1.0],\"title\":{\"text\":\"Date\"}},\"yaxis\":{\"anchor\":\"x\",\"domain\":[0.0,1.0],\"title\":{\"text\":\"value\"}},\"legend\":{\"title\":{\"text\":\"keyword\"},\"tracegroupgap\":0},\"title\":{\"text\":\"Key Word (2018.1 - 2022.7)\"}},                        {\"responsive\": true}                    ).then(function(){\n",
       "                            \n",
       "var gd = document.getElementById('a908ff2e-0622-419b-9cd5-1098377eb6ac');\n",
       "var x = new MutationObserver(function (mutations, observer) {{\n",
       "        var display = window.getComputedStyle(gd).display;\n",
       "        if (!display || display === 'none') {{\n",
       "            console.log([gd, 'removed!']);\n",
       "            Plotly.purge(gd);\n",
       "            observer.disconnect();\n",
       "        }}\n",
       "}});\n",
       "\n",
       "// Listen for the removal of the full notebook cells\n",
       "var notebookContainer = gd.closest('#notebook-container');\n",
       "if (notebookContainer) {{\n",
       "    x.observe(notebookContainer, {childList: true});\n",
       "}}\n",
       "\n",
       "// Listen for the clearing of the current output cell\n",
       "var outputEl = gd.closest('.output');\n",
       "if (outputEl) {{\n",
       "    x.observe(outputEl, {childList: true});\n",
       "}}\n",
       "\n",
       "                        })                };                });            </script>        </div>"
      ]
     },
     "metadata": {},
     "output_type": "display_data"
    }
   ],
   "source": [
    "# 꺽은선 그래프\n",
    "df3 = Df4plot(df_k,['cbdc'])\n",
    "fig = px.line(\n",
    "    df3, x=\"Date\", y='value', color=\"keyword\", title=\"Key Word (2018.1 - 2022.7)\"\n",
    ")\n",
    "fig.show()"
   ]
  },
  {
   "cell_type": "code",
   "execution_count": 69,
   "id": "2ab92b93",
   "metadata": {},
   "outputs": [],
   "source": [
    "key_k = '메타버스'\n",
    "key_e = 'metaverse'\n",
    "\n",
    "def keyCmp(key_k,key_e,df_ks,df_es):\n",
    "    df_plot_k = Df4plot(df_ks,[key_k])\n",
    "    df_plot_e = Df4plot(df_es,[key_e])\n",
    "\n",
    "    df_plot_k['value'] = df_plot_k['value'] / sum(df_plot_k['value'])\n",
    "    df_plot_e['value'] = df_plot_e['value'] / sum(df_plot_e['value'])\n",
    "    if key_k == key_e:\n",
    "        df_plot_e['keyword'] = df_plot_e['keyword'] + '(en)' \n",
    "    df_plot = pd.concat([df_plot_e,df_plot_k])\n",
    "    fig = px.line(\n",
    "        df_plot, x=\"Date\", y='value', color=\"keyword\", title=\"{} VS {}\".format(key_k,key_e)\n",
    "    )\n",
    "    fig.show()\n"
   ]
  },
  {
   "cell_type": "code",
   "execution_count": 75,
   "id": "4b8a7b72",
   "metadata": {
    "scrolled": true
   },
   "outputs": [
    {
     "data": {
      "application/vnd.plotly.v1+json": {
       "config": {
        "plotlyServerURL": "https://plot.ly"
       },
       "data": [
        {
         "hovertemplate": "keyword=metaverse<br>Date=%{x}<br>value=%{y}<extra></extra>",
         "legendgroup": "metaverse",
         "line": {
          "color": "#636efa",
          "dash": "solid"
         },
         "marker": {
          "symbol": "circle"
         },
         "mode": "lines",
         "name": "metaverse",
         "orientation": "v",
         "showlegend": true,
         "type": "scatter",
         "x": [
          "2019-08-01T00:00:00",
          "2019-09-01T00:00:00",
          "2019-10-01T00:00:00",
          "2019-11-01T00:00:00",
          "2019-12-01T00:00:00",
          "2020-01-01T00:00:00",
          "2020-02-01T00:00:00",
          "2020-03-01T00:00:00",
          "2020-04-01T00:00:00",
          "2020-05-01T00:00:00",
          "2020-06-01T00:00:00",
          "2020-07-01T00:00:00",
          "2020-08-01T00:00:00",
          "2020-09-01T00:00:00",
          "2020-10-01T00:00:00",
          "2020-11-01T00:00:00",
          "2020-12-01T00:00:00",
          "2021-01-01T00:00:00",
          "2021-02-01T00:00:00",
          "2021-03-01T00:00:00",
          "2021-04-01T00:00:00",
          "2021-05-01T00:00:00",
          "2021-06-01T00:00:00",
          "2021-07-01T00:00:00",
          "2021-08-01T00:00:00",
          "2021-09-01T00:00:00",
          "2021-10-01T00:00:00",
          "2021-11-01T00:00:00",
          "2021-12-01T00:00:00",
          "2022-01-01T00:00:00",
          "2022-02-01T00:00:00",
          "2022-03-01T00:00:00",
          "2022-04-01T00:00:00",
          "2022-05-01T00:00:00",
          "2022-06-01T00:00:00",
          "2022-07-01T00:00:00"
         ],
         "xaxis": "x",
         "y": [
          0,
          0,
          0,
          0,
          0,
          0,
          0,
          0,
          0,
          0,
          0,
          0,
          0,
          0,
          0,
          0,
          0,
          0,
          0,
          0.007251296681285111,
          0,
          0,
          0.022508778202194355,
          0.03120734822699058,
          0.01643308178891127,
          0.017397503617861774,
          0.039802269702344704,
          0.0869643245102956,
          0.06558940205637999,
          0.06661467003752303,
          0.13569315457477069,
          0.12976164016591812,
          0.13314633444836518,
          0.09437739549742206,
          0.06287736734166088,
          0.09037543314807661
         ],
         "yaxis": "y"
        },
        {
         "hovertemplate": "keyword=메타버스<br>Date=%{x}<br>value=%{y}<extra></extra>",
         "legendgroup": "메타버스",
         "line": {
          "color": "#EF553B",
          "dash": "solid"
         },
         "marker": {
          "symbol": "circle"
         },
         "mode": "lines",
         "name": "메타버스",
         "orientation": "v",
         "showlegend": true,
         "type": "scatter",
         "x": [
          "2019-08-01T00:00:00",
          "2019-09-01T00:00:00",
          "2019-10-01T00:00:00",
          "2019-11-01T00:00:00",
          "2019-12-01T00:00:00",
          "2020-01-01T00:00:00",
          "2020-02-01T00:00:00",
          "2020-03-01T00:00:00",
          "2020-04-01T00:00:00",
          "2020-05-01T00:00:00",
          "2020-06-01T00:00:00",
          "2020-07-01T00:00:00",
          "2020-08-01T00:00:00",
          "2020-09-01T00:00:00",
          "2020-10-01T00:00:00",
          "2020-11-01T00:00:00",
          "2020-12-01T00:00:00",
          "2021-01-01T00:00:00",
          "2021-02-01T00:00:00",
          "2021-03-01T00:00:00",
          "2021-04-01T00:00:00",
          "2021-05-01T00:00:00",
          "2021-06-01T00:00:00",
          "2021-07-01T00:00:00",
          "2021-08-01T00:00:00",
          "2021-09-01T00:00:00",
          "2021-10-01T00:00:00",
          "2021-11-01T00:00:00",
          "2021-12-01T00:00:00",
          "2022-01-01T00:00:00",
          "2022-02-01T00:00:00",
          "2022-03-01T00:00:00",
          "2022-04-01T00:00:00",
          "2022-05-01T00:00:00",
          "2022-06-01T00:00:00",
          "2022-07-01T00:00:00"
         ],
         "xaxis": "x",
         "y": [
          0,
          0,
          0,
          0,
          0,
          0,
          0,
          0,
          0,
          0,
          0,
          0,
          0,
          0,
          0,
          0,
          0,
          0,
          0.0007471932790302833,
          0.011801890875423474,
          0.00773897284236011,
          0.016339392147511664,
          0.022112467369564584,
          0.04419609767419629,
          0.07548609097360219,
          0.08834477095799109,
          0.08698326282451517,
          0.11227502772820416,
          0.07694321165364053,
          0.09577311774578941,
          0.06806255241835416,
          0.07787797764537312,
          0.06522063334335586,
          0.04277054990752212,
          0.04625215035690991,
          0.06107464025665591
         ],
         "yaxis": "y"
        }
       ],
       "layout": {
        "legend": {
         "title": {
          "text": "keyword"
         },
         "tracegroupgap": 0
        },
        "template": {
         "data": {
          "bar": [
           {
            "error_x": {
             "color": "#2a3f5f"
            },
            "error_y": {
             "color": "#2a3f5f"
            },
            "marker": {
             "line": {
              "color": "#E5ECF6",
              "width": 0.5
             },
             "pattern": {
              "fillmode": "overlay",
              "size": 10,
              "solidity": 0.2
             }
            },
            "type": "bar"
           }
          ],
          "barpolar": [
           {
            "marker": {
             "line": {
              "color": "#E5ECF6",
              "width": 0.5
             },
             "pattern": {
              "fillmode": "overlay",
              "size": 10,
              "solidity": 0.2
             }
            },
            "type": "barpolar"
           }
          ],
          "carpet": [
           {
            "aaxis": {
             "endlinecolor": "#2a3f5f",
             "gridcolor": "white",
             "linecolor": "white",
             "minorgridcolor": "white",
             "startlinecolor": "#2a3f5f"
            },
            "baxis": {
             "endlinecolor": "#2a3f5f",
             "gridcolor": "white",
             "linecolor": "white",
             "minorgridcolor": "white",
             "startlinecolor": "#2a3f5f"
            },
            "type": "carpet"
           }
          ],
          "choropleth": [
           {
            "colorbar": {
             "outlinewidth": 0,
             "ticks": ""
            },
            "type": "choropleth"
           }
          ],
          "contour": [
           {
            "colorbar": {
             "outlinewidth": 0,
             "ticks": ""
            },
            "colorscale": [
             [
              0,
              "#0d0887"
             ],
             [
              0.1111111111111111,
              "#46039f"
             ],
             [
              0.2222222222222222,
              "#7201a8"
             ],
             [
              0.3333333333333333,
              "#9c179e"
             ],
             [
              0.4444444444444444,
              "#bd3786"
             ],
             [
              0.5555555555555556,
              "#d8576b"
             ],
             [
              0.6666666666666666,
              "#ed7953"
             ],
             [
              0.7777777777777778,
              "#fb9f3a"
             ],
             [
              0.8888888888888888,
              "#fdca26"
             ],
             [
              1,
              "#f0f921"
             ]
            ],
            "type": "contour"
           }
          ],
          "contourcarpet": [
           {
            "colorbar": {
             "outlinewidth": 0,
             "ticks": ""
            },
            "type": "contourcarpet"
           }
          ],
          "heatmap": [
           {
            "colorbar": {
             "outlinewidth": 0,
             "ticks": ""
            },
            "colorscale": [
             [
              0,
              "#0d0887"
             ],
             [
              0.1111111111111111,
              "#46039f"
             ],
             [
              0.2222222222222222,
              "#7201a8"
             ],
             [
              0.3333333333333333,
              "#9c179e"
             ],
             [
              0.4444444444444444,
              "#bd3786"
             ],
             [
              0.5555555555555556,
              "#d8576b"
             ],
             [
              0.6666666666666666,
              "#ed7953"
             ],
             [
              0.7777777777777778,
              "#fb9f3a"
             ],
             [
              0.8888888888888888,
              "#fdca26"
             ],
             [
              1,
              "#f0f921"
             ]
            ],
            "type": "heatmap"
           }
          ],
          "heatmapgl": [
           {
            "colorbar": {
             "outlinewidth": 0,
             "ticks": ""
            },
            "colorscale": [
             [
              0,
              "#0d0887"
             ],
             [
              0.1111111111111111,
              "#46039f"
             ],
             [
              0.2222222222222222,
              "#7201a8"
             ],
             [
              0.3333333333333333,
              "#9c179e"
             ],
             [
              0.4444444444444444,
              "#bd3786"
             ],
             [
              0.5555555555555556,
              "#d8576b"
             ],
             [
              0.6666666666666666,
              "#ed7953"
             ],
             [
              0.7777777777777778,
              "#fb9f3a"
             ],
             [
              0.8888888888888888,
              "#fdca26"
             ],
             [
              1,
              "#f0f921"
             ]
            ],
            "type": "heatmapgl"
           }
          ],
          "histogram": [
           {
            "marker": {
             "pattern": {
              "fillmode": "overlay",
              "size": 10,
              "solidity": 0.2
             }
            },
            "type": "histogram"
           }
          ],
          "histogram2d": [
           {
            "colorbar": {
             "outlinewidth": 0,
             "ticks": ""
            },
            "colorscale": [
             [
              0,
              "#0d0887"
             ],
             [
              0.1111111111111111,
              "#46039f"
             ],
             [
              0.2222222222222222,
              "#7201a8"
             ],
             [
              0.3333333333333333,
              "#9c179e"
             ],
             [
              0.4444444444444444,
              "#bd3786"
             ],
             [
              0.5555555555555556,
              "#d8576b"
             ],
             [
              0.6666666666666666,
              "#ed7953"
             ],
             [
              0.7777777777777778,
              "#fb9f3a"
             ],
             [
              0.8888888888888888,
              "#fdca26"
             ],
             [
              1,
              "#f0f921"
             ]
            ],
            "type": "histogram2d"
           }
          ],
          "histogram2dcontour": [
           {
            "colorbar": {
             "outlinewidth": 0,
             "ticks": ""
            },
            "colorscale": [
             [
              0,
              "#0d0887"
             ],
             [
              0.1111111111111111,
              "#46039f"
             ],
             [
              0.2222222222222222,
              "#7201a8"
             ],
             [
              0.3333333333333333,
              "#9c179e"
             ],
             [
              0.4444444444444444,
              "#bd3786"
             ],
             [
              0.5555555555555556,
              "#d8576b"
             ],
             [
              0.6666666666666666,
              "#ed7953"
             ],
             [
              0.7777777777777778,
              "#fb9f3a"
             ],
             [
              0.8888888888888888,
              "#fdca26"
             ],
             [
              1,
              "#f0f921"
             ]
            ],
            "type": "histogram2dcontour"
           }
          ],
          "mesh3d": [
           {
            "colorbar": {
             "outlinewidth": 0,
             "ticks": ""
            },
            "type": "mesh3d"
           }
          ],
          "parcoords": [
           {
            "line": {
             "colorbar": {
              "outlinewidth": 0,
              "ticks": ""
             }
            },
            "type": "parcoords"
           }
          ],
          "pie": [
           {
            "automargin": true,
            "type": "pie"
           }
          ],
          "scatter": [
           {
            "fillpattern": {
             "fillmode": "overlay",
             "size": 10,
             "solidity": 0.2
            },
            "type": "scatter"
           }
          ],
          "scatter3d": [
           {
            "line": {
             "colorbar": {
              "outlinewidth": 0,
              "ticks": ""
             }
            },
            "marker": {
             "colorbar": {
              "outlinewidth": 0,
              "ticks": ""
             }
            },
            "type": "scatter3d"
           }
          ],
          "scattercarpet": [
           {
            "marker": {
             "colorbar": {
              "outlinewidth": 0,
              "ticks": ""
             }
            },
            "type": "scattercarpet"
           }
          ],
          "scattergeo": [
           {
            "marker": {
             "colorbar": {
              "outlinewidth": 0,
              "ticks": ""
             }
            },
            "type": "scattergeo"
           }
          ],
          "scattergl": [
           {
            "marker": {
             "colorbar": {
              "outlinewidth": 0,
              "ticks": ""
             }
            },
            "type": "scattergl"
           }
          ],
          "scattermapbox": [
           {
            "marker": {
             "colorbar": {
              "outlinewidth": 0,
              "ticks": ""
             }
            },
            "type": "scattermapbox"
           }
          ],
          "scatterpolar": [
           {
            "marker": {
             "colorbar": {
              "outlinewidth": 0,
              "ticks": ""
             }
            },
            "type": "scatterpolar"
           }
          ],
          "scatterpolargl": [
           {
            "marker": {
             "colorbar": {
              "outlinewidth": 0,
              "ticks": ""
             }
            },
            "type": "scatterpolargl"
           }
          ],
          "scatterternary": [
           {
            "marker": {
             "colorbar": {
              "outlinewidth": 0,
              "ticks": ""
             }
            },
            "type": "scatterternary"
           }
          ],
          "surface": [
           {
            "colorbar": {
             "outlinewidth": 0,
             "ticks": ""
            },
            "colorscale": [
             [
              0,
              "#0d0887"
             ],
             [
              0.1111111111111111,
              "#46039f"
             ],
             [
              0.2222222222222222,
              "#7201a8"
             ],
             [
              0.3333333333333333,
              "#9c179e"
             ],
             [
              0.4444444444444444,
              "#bd3786"
             ],
             [
              0.5555555555555556,
              "#d8576b"
             ],
             [
              0.6666666666666666,
              "#ed7953"
             ],
             [
              0.7777777777777778,
              "#fb9f3a"
             ],
             [
              0.8888888888888888,
              "#fdca26"
             ],
             [
              1,
              "#f0f921"
             ]
            ],
            "type": "surface"
           }
          ],
          "table": [
           {
            "cells": {
             "fill": {
              "color": "#EBF0F8"
             },
             "line": {
              "color": "white"
             }
            },
            "header": {
             "fill": {
              "color": "#C8D4E3"
             },
             "line": {
              "color": "white"
             }
            },
            "type": "table"
           }
          ]
         },
         "layout": {
          "annotationdefaults": {
           "arrowcolor": "#2a3f5f",
           "arrowhead": 0,
           "arrowwidth": 1
          },
          "autotypenumbers": "strict",
          "coloraxis": {
           "colorbar": {
            "outlinewidth": 0,
            "ticks": ""
           }
          },
          "colorscale": {
           "diverging": [
            [
             0,
             "#8e0152"
            ],
            [
             0.1,
             "#c51b7d"
            ],
            [
             0.2,
             "#de77ae"
            ],
            [
             0.3,
             "#f1b6da"
            ],
            [
             0.4,
             "#fde0ef"
            ],
            [
             0.5,
             "#f7f7f7"
            ],
            [
             0.6,
             "#e6f5d0"
            ],
            [
             0.7,
             "#b8e186"
            ],
            [
             0.8,
             "#7fbc41"
            ],
            [
             0.9,
             "#4d9221"
            ],
            [
             1,
             "#276419"
            ]
           ],
           "sequential": [
            [
             0,
             "#0d0887"
            ],
            [
             0.1111111111111111,
             "#46039f"
            ],
            [
             0.2222222222222222,
             "#7201a8"
            ],
            [
             0.3333333333333333,
             "#9c179e"
            ],
            [
             0.4444444444444444,
             "#bd3786"
            ],
            [
             0.5555555555555556,
             "#d8576b"
            ],
            [
             0.6666666666666666,
             "#ed7953"
            ],
            [
             0.7777777777777778,
             "#fb9f3a"
            ],
            [
             0.8888888888888888,
             "#fdca26"
            ],
            [
             1,
             "#f0f921"
            ]
           ],
           "sequentialminus": [
            [
             0,
             "#0d0887"
            ],
            [
             0.1111111111111111,
             "#46039f"
            ],
            [
             0.2222222222222222,
             "#7201a8"
            ],
            [
             0.3333333333333333,
             "#9c179e"
            ],
            [
             0.4444444444444444,
             "#bd3786"
            ],
            [
             0.5555555555555556,
             "#d8576b"
            ],
            [
             0.6666666666666666,
             "#ed7953"
            ],
            [
             0.7777777777777778,
             "#fb9f3a"
            ],
            [
             0.8888888888888888,
             "#fdca26"
            ],
            [
             1,
             "#f0f921"
            ]
           ]
          },
          "colorway": [
           "#636efa",
           "#EF553B",
           "#00cc96",
           "#ab63fa",
           "#FFA15A",
           "#19d3f3",
           "#FF6692",
           "#B6E880",
           "#FF97FF",
           "#FECB52"
          ],
          "font": {
           "color": "#2a3f5f"
          },
          "geo": {
           "bgcolor": "white",
           "lakecolor": "white",
           "landcolor": "#E5ECF6",
           "showlakes": true,
           "showland": true,
           "subunitcolor": "white"
          },
          "hoverlabel": {
           "align": "left"
          },
          "hovermode": "closest",
          "mapbox": {
           "style": "light"
          },
          "paper_bgcolor": "white",
          "plot_bgcolor": "#E5ECF6",
          "polar": {
           "angularaxis": {
            "gridcolor": "white",
            "linecolor": "white",
            "ticks": ""
           },
           "bgcolor": "#E5ECF6",
           "radialaxis": {
            "gridcolor": "white",
            "linecolor": "white",
            "ticks": ""
           }
          },
          "scene": {
           "xaxis": {
            "backgroundcolor": "#E5ECF6",
            "gridcolor": "white",
            "gridwidth": 2,
            "linecolor": "white",
            "showbackground": true,
            "ticks": "",
            "zerolinecolor": "white"
           },
           "yaxis": {
            "backgroundcolor": "#E5ECF6",
            "gridcolor": "white",
            "gridwidth": 2,
            "linecolor": "white",
            "showbackground": true,
            "ticks": "",
            "zerolinecolor": "white"
           },
           "zaxis": {
            "backgroundcolor": "#E5ECF6",
            "gridcolor": "white",
            "gridwidth": 2,
            "linecolor": "white",
            "showbackground": true,
            "ticks": "",
            "zerolinecolor": "white"
           }
          },
          "shapedefaults": {
           "line": {
            "color": "#2a3f5f"
           }
          },
          "ternary": {
           "aaxis": {
            "gridcolor": "white",
            "linecolor": "white",
            "ticks": ""
           },
           "baxis": {
            "gridcolor": "white",
            "linecolor": "white",
            "ticks": ""
           },
           "bgcolor": "#E5ECF6",
           "caxis": {
            "gridcolor": "white",
            "linecolor": "white",
            "ticks": ""
           }
          },
          "title": {
           "x": 0.05
          },
          "xaxis": {
           "automargin": true,
           "gridcolor": "white",
           "linecolor": "white",
           "ticks": "",
           "title": {
            "standoff": 15
           },
           "zerolinecolor": "white",
           "zerolinewidth": 2
          },
          "yaxis": {
           "automargin": true,
           "gridcolor": "white",
           "linecolor": "white",
           "ticks": "",
           "title": {
            "standoff": 15
           },
           "zerolinecolor": "white",
           "zerolinewidth": 2
          }
         }
        },
        "title": {
         "text": "메타버스 VS metaverse"
        },
        "xaxis": {
         "anchor": "y",
         "domain": [
          0,
          1
         ],
         "title": {
          "text": "Date"
         }
        },
        "yaxis": {
         "anchor": "x",
         "domain": [
          0,
          1
         ],
         "title": {
          "text": "value"
         }
        }
       }
      },
      "text/html": [
       "<div>                            <div id=\"2fbb020d-cd73-4d6c-901f-fddac3f145a9\" class=\"plotly-graph-div\" style=\"height:525px; width:100%;\"></div>            <script type=\"text/javascript\">                require([\"plotly\"], function(Plotly) {                    window.PLOTLYENV=window.PLOTLYENV || {};                                    if (document.getElementById(\"2fbb020d-cd73-4d6c-901f-fddac3f145a9\")) {                    Plotly.newPlot(                        \"2fbb020d-cd73-4d6c-901f-fddac3f145a9\",                        [{\"hovertemplate\":\"keyword=metaverse<br>Date=%{x}<br>value=%{y}<extra></extra>\",\"legendgroup\":\"metaverse\",\"line\":{\"color\":\"#636efa\",\"dash\":\"solid\"},\"marker\":{\"symbol\":\"circle\"},\"mode\":\"lines\",\"name\":\"metaverse\",\"orientation\":\"v\",\"showlegend\":true,\"x\":[\"2019-08-01T00:00:00\",\"2019-09-01T00:00:00\",\"2019-10-01T00:00:00\",\"2019-11-01T00:00:00\",\"2019-12-01T00:00:00\",\"2020-01-01T00:00:00\",\"2020-02-01T00:00:00\",\"2020-03-01T00:00:00\",\"2020-04-01T00:00:00\",\"2020-05-01T00:00:00\",\"2020-06-01T00:00:00\",\"2020-07-01T00:00:00\",\"2020-08-01T00:00:00\",\"2020-09-01T00:00:00\",\"2020-10-01T00:00:00\",\"2020-11-01T00:00:00\",\"2020-12-01T00:00:00\",\"2021-01-01T00:00:00\",\"2021-02-01T00:00:00\",\"2021-03-01T00:00:00\",\"2021-04-01T00:00:00\",\"2021-05-01T00:00:00\",\"2021-06-01T00:00:00\",\"2021-07-01T00:00:00\",\"2021-08-01T00:00:00\",\"2021-09-01T00:00:00\",\"2021-10-01T00:00:00\",\"2021-11-01T00:00:00\",\"2021-12-01T00:00:00\",\"2022-01-01T00:00:00\",\"2022-02-01T00:00:00\",\"2022-03-01T00:00:00\",\"2022-04-01T00:00:00\",\"2022-05-01T00:00:00\",\"2022-06-01T00:00:00\",\"2022-07-01T00:00:00\"],\"xaxis\":\"x\",\"y\":[0.0,0.0,0.0,0.0,0.0,0.0,0.0,0.0,0.0,0.0,0.0,0.0,0.0,0.0,0.0,0.0,0.0,0.0,0.0,0.007251296681285111,0.0,0.0,0.022508778202194355,0.03120734822699058,0.01643308178891127,0.017397503617861774,0.039802269702344704,0.0869643245102956,0.06558940205637999,0.06661467003752303,0.13569315457477069,0.12976164016591812,0.13314633444836518,0.09437739549742206,0.06287736734166088,0.09037543314807661],\"yaxis\":\"y\",\"type\":\"scatter\"},{\"hovertemplate\":\"keyword=\\uba54\\ud0c0\\ubc84\\uc2a4<br>Date=%{x}<br>value=%{y}<extra></extra>\",\"legendgroup\":\"\\uba54\\ud0c0\\ubc84\\uc2a4\",\"line\":{\"color\":\"#EF553B\",\"dash\":\"solid\"},\"marker\":{\"symbol\":\"circle\"},\"mode\":\"lines\",\"name\":\"\\uba54\\ud0c0\\ubc84\\uc2a4\",\"orientation\":\"v\",\"showlegend\":true,\"x\":[\"2019-08-01T00:00:00\",\"2019-09-01T00:00:00\",\"2019-10-01T00:00:00\",\"2019-11-01T00:00:00\",\"2019-12-01T00:00:00\",\"2020-01-01T00:00:00\",\"2020-02-01T00:00:00\",\"2020-03-01T00:00:00\",\"2020-04-01T00:00:00\",\"2020-05-01T00:00:00\",\"2020-06-01T00:00:00\",\"2020-07-01T00:00:00\",\"2020-08-01T00:00:00\",\"2020-09-01T00:00:00\",\"2020-10-01T00:00:00\",\"2020-11-01T00:00:00\",\"2020-12-01T00:00:00\",\"2021-01-01T00:00:00\",\"2021-02-01T00:00:00\",\"2021-03-01T00:00:00\",\"2021-04-01T00:00:00\",\"2021-05-01T00:00:00\",\"2021-06-01T00:00:00\",\"2021-07-01T00:00:00\",\"2021-08-01T00:00:00\",\"2021-09-01T00:00:00\",\"2021-10-01T00:00:00\",\"2021-11-01T00:00:00\",\"2021-12-01T00:00:00\",\"2022-01-01T00:00:00\",\"2022-02-01T00:00:00\",\"2022-03-01T00:00:00\",\"2022-04-01T00:00:00\",\"2022-05-01T00:00:00\",\"2022-06-01T00:00:00\",\"2022-07-01T00:00:00\"],\"xaxis\":\"x\",\"y\":[0.0,0.0,0.0,0.0,0.0,0.0,0.0,0.0,0.0,0.0,0.0,0.0,0.0,0.0,0.0,0.0,0.0,0.0,0.0007471932790302833,0.011801890875423474,0.00773897284236011,0.016339392147511664,0.022112467369564584,0.04419609767419629,0.07548609097360219,0.08834477095799109,0.08698326282451517,0.11227502772820416,0.07694321165364053,0.09577311774578941,0.06806255241835416,0.07787797764537312,0.06522063334335586,0.04277054990752212,0.04625215035690991,0.06107464025665591],\"yaxis\":\"y\",\"type\":\"scatter\"}],                        {\"template\":{\"data\":{\"histogram2dcontour\":[{\"type\":\"histogram2dcontour\",\"colorbar\":{\"outlinewidth\":0,\"ticks\":\"\"},\"colorscale\":[[0.0,\"#0d0887\"],[0.1111111111111111,\"#46039f\"],[0.2222222222222222,\"#7201a8\"],[0.3333333333333333,\"#9c179e\"],[0.4444444444444444,\"#bd3786\"],[0.5555555555555556,\"#d8576b\"],[0.6666666666666666,\"#ed7953\"],[0.7777777777777778,\"#fb9f3a\"],[0.8888888888888888,\"#fdca26\"],[1.0,\"#f0f921\"]]}],\"choropleth\":[{\"type\":\"choropleth\",\"colorbar\":{\"outlinewidth\":0,\"ticks\":\"\"}}],\"histogram2d\":[{\"type\":\"histogram2d\",\"colorbar\":{\"outlinewidth\":0,\"ticks\":\"\"},\"colorscale\":[[0.0,\"#0d0887\"],[0.1111111111111111,\"#46039f\"],[0.2222222222222222,\"#7201a8\"],[0.3333333333333333,\"#9c179e\"],[0.4444444444444444,\"#bd3786\"],[0.5555555555555556,\"#d8576b\"],[0.6666666666666666,\"#ed7953\"],[0.7777777777777778,\"#fb9f3a\"],[0.8888888888888888,\"#fdca26\"],[1.0,\"#f0f921\"]]}],\"heatmap\":[{\"type\":\"heatmap\",\"colorbar\":{\"outlinewidth\":0,\"ticks\":\"\"},\"colorscale\":[[0.0,\"#0d0887\"],[0.1111111111111111,\"#46039f\"],[0.2222222222222222,\"#7201a8\"],[0.3333333333333333,\"#9c179e\"],[0.4444444444444444,\"#bd3786\"],[0.5555555555555556,\"#d8576b\"],[0.6666666666666666,\"#ed7953\"],[0.7777777777777778,\"#fb9f3a\"],[0.8888888888888888,\"#fdca26\"],[1.0,\"#f0f921\"]]}],\"heatmapgl\":[{\"type\":\"heatmapgl\",\"colorbar\":{\"outlinewidth\":0,\"ticks\":\"\"},\"colorscale\":[[0.0,\"#0d0887\"],[0.1111111111111111,\"#46039f\"],[0.2222222222222222,\"#7201a8\"],[0.3333333333333333,\"#9c179e\"],[0.4444444444444444,\"#bd3786\"],[0.5555555555555556,\"#d8576b\"],[0.6666666666666666,\"#ed7953\"],[0.7777777777777778,\"#fb9f3a\"],[0.8888888888888888,\"#fdca26\"],[1.0,\"#f0f921\"]]}],\"contourcarpet\":[{\"type\":\"contourcarpet\",\"colorbar\":{\"outlinewidth\":0,\"ticks\":\"\"}}],\"contour\":[{\"type\":\"contour\",\"colorbar\":{\"outlinewidth\":0,\"ticks\":\"\"},\"colorscale\":[[0.0,\"#0d0887\"],[0.1111111111111111,\"#46039f\"],[0.2222222222222222,\"#7201a8\"],[0.3333333333333333,\"#9c179e\"],[0.4444444444444444,\"#bd3786\"],[0.5555555555555556,\"#d8576b\"],[0.6666666666666666,\"#ed7953\"],[0.7777777777777778,\"#fb9f3a\"],[0.8888888888888888,\"#fdca26\"],[1.0,\"#f0f921\"]]}],\"surface\":[{\"type\":\"surface\",\"colorbar\":{\"outlinewidth\":0,\"ticks\":\"\"},\"colorscale\":[[0.0,\"#0d0887\"],[0.1111111111111111,\"#46039f\"],[0.2222222222222222,\"#7201a8\"],[0.3333333333333333,\"#9c179e\"],[0.4444444444444444,\"#bd3786\"],[0.5555555555555556,\"#d8576b\"],[0.6666666666666666,\"#ed7953\"],[0.7777777777777778,\"#fb9f3a\"],[0.8888888888888888,\"#fdca26\"],[1.0,\"#f0f921\"]]}],\"mesh3d\":[{\"type\":\"mesh3d\",\"colorbar\":{\"outlinewidth\":0,\"ticks\":\"\"}}],\"scatter\":[{\"fillpattern\":{\"fillmode\":\"overlay\",\"size\":10,\"solidity\":0.2},\"type\":\"scatter\"}],\"parcoords\":[{\"type\":\"parcoords\",\"line\":{\"colorbar\":{\"outlinewidth\":0,\"ticks\":\"\"}}}],\"scatterpolargl\":[{\"type\":\"scatterpolargl\",\"marker\":{\"colorbar\":{\"outlinewidth\":0,\"ticks\":\"\"}}}],\"bar\":[{\"error_x\":{\"color\":\"#2a3f5f\"},\"error_y\":{\"color\":\"#2a3f5f\"},\"marker\":{\"line\":{\"color\":\"#E5ECF6\",\"width\":0.5},\"pattern\":{\"fillmode\":\"overlay\",\"size\":10,\"solidity\":0.2}},\"type\":\"bar\"}],\"scattergeo\":[{\"type\":\"scattergeo\",\"marker\":{\"colorbar\":{\"outlinewidth\":0,\"ticks\":\"\"}}}],\"scatterpolar\":[{\"type\":\"scatterpolar\",\"marker\":{\"colorbar\":{\"outlinewidth\":0,\"ticks\":\"\"}}}],\"histogram\":[{\"marker\":{\"pattern\":{\"fillmode\":\"overlay\",\"size\":10,\"solidity\":0.2}},\"type\":\"histogram\"}],\"scattergl\":[{\"type\":\"scattergl\",\"marker\":{\"colorbar\":{\"outlinewidth\":0,\"ticks\":\"\"}}}],\"scatter3d\":[{\"type\":\"scatter3d\",\"line\":{\"colorbar\":{\"outlinewidth\":0,\"ticks\":\"\"}},\"marker\":{\"colorbar\":{\"outlinewidth\":0,\"ticks\":\"\"}}}],\"scattermapbox\":[{\"type\":\"scattermapbox\",\"marker\":{\"colorbar\":{\"outlinewidth\":0,\"ticks\":\"\"}}}],\"scatterternary\":[{\"type\":\"scatterternary\",\"marker\":{\"colorbar\":{\"outlinewidth\":0,\"ticks\":\"\"}}}],\"scattercarpet\":[{\"type\":\"scattercarpet\",\"marker\":{\"colorbar\":{\"outlinewidth\":0,\"ticks\":\"\"}}}],\"carpet\":[{\"aaxis\":{\"endlinecolor\":\"#2a3f5f\",\"gridcolor\":\"white\",\"linecolor\":\"white\",\"minorgridcolor\":\"white\",\"startlinecolor\":\"#2a3f5f\"},\"baxis\":{\"endlinecolor\":\"#2a3f5f\",\"gridcolor\":\"white\",\"linecolor\":\"white\",\"minorgridcolor\":\"white\",\"startlinecolor\":\"#2a3f5f\"},\"type\":\"carpet\"}],\"table\":[{\"cells\":{\"fill\":{\"color\":\"#EBF0F8\"},\"line\":{\"color\":\"white\"}},\"header\":{\"fill\":{\"color\":\"#C8D4E3\"},\"line\":{\"color\":\"white\"}},\"type\":\"table\"}],\"barpolar\":[{\"marker\":{\"line\":{\"color\":\"#E5ECF6\",\"width\":0.5},\"pattern\":{\"fillmode\":\"overlay\",\"size\":10,\"solidity\":0.2}},\"type\":\"barpolar\"}],\"pie\":[{\"automargin\":true,\"type\":\"pie\"}]},\"layout\":{\"autotypenumbers\":\"strict\",\"colorway\":[\"#636efa\",\"#EF553B\",\"#00cc96\",\"#ab63fa\",\"#FFA15A\",\"#19d3f3\",\"#FF6692\",\"#B6E880\",\"#FF97FF\",\"#FECB52\"],\"font\":{\"color\":\"#2a3f5f\"},\"hovermode\":\"closest\",\"hoverlabel\":{\"align\":\"left\"},\"paper_bgcolor\":\"white\",\"plot_bgcolor\":\"#E5ECF6\",\"polar\":{\"bgcolor\":\"#E5ECF6\",\"angularaxis\":{\"gridcolor\":\"white\",\"linecolor\":\"white\",\"ticks\":\"\"},\"radialaxis\":{\"gridcolor\":\"white\",\"linecolor\":\"white\",\"ticks\":\"\"}},\"ternary\":{\"bgcolor\":\"#E5ECF6\",\"aaxis\":{\"gridcolor\":\"white\",\"linecolor\":\"white\",\"ticks\":\"\"},\"baxis\":{\"gridcolor\":\"white\",\"linecolor\":\"white\",\"ticks\":\"\"},\"caxis\":{\"gridcolor\":\"white\",\"linecolor\":\"white\",\"ticks\":\"\"}},\"coloraxis\":{\"colorbar\":{\"outlinewidth\":0,\"ticks\":\"\"}},\"colorscale\":{\"sequential\":[[0.0,\"#0d0887\"],[0.1111111111111111,\"#46039f\"],[0.2222222222222222,\"#7201a8\"],[0.3333333333333333,\"#9c179e\"],[0.4444444444444444,\"#bd3786\"],[0.5555555555555556,\"#d8576b\"],[0.6666666666666666,\"#ed7953\"],[0.7777777777777778,\"#fb9f3a\"],[0.8888888888888888,\"#fdca26\"],[1.0,\"#f0f921\"]],\"sequentialminus\":[[0.0,\"#0d0887\"],[0.1111111111111111,\"#46039f\"],[0.2222222222222222,\"#7201a8\"],[0.3333333333333333,\"#9c179e\"],[0.4444444444444444,\"#bd3786\"],[0.5555555555555556,\"#d8576b\"],[0.6666666666666666,\"#ed7953\"],[0.7777777777777778,\"#fb9f3a\"],[0.8888888888888888,\"#fdca26\"],[1.0,\"#f0f921\"]],\"diverging\":[[0,\"#8e0152\"],[0.1,\"#c51b7d\"],[0.2,\"#de77ae\"],[0.3,\"#f1b6da\"],[0.4,\"#fde0ef\"],[0.5,\"#f7f7f7\"],[0.6,\"#e6f5d0\"],[0.7,\"#b8e186\"],[0.8,\"#7fbc41\"],[0.9,\"#4d9221\"],[1,\"#276419\"]]},\"xaxis\":{\"gridcolor\":\"white\",\"linecolor\":\"white\",\"ticks\":\"\",\"title\":{\"standoff\":15},\"zerolinecolor\":\"white\",\"automargin\":true,\"zerolinewidth\":2},\"yaxis\":{\"gridcolor\":\"white\",\"linecolor\":\"white\",\"ticks\":\"\",\"title\":{\"standoff\":15},\"zerolinecolor\":\"white\",\"automargin\":true,\"zerolinewidth\":2},\"scene\":{\"xaxis\":{\"backgroundcolor\":\"#E5ECF6\",\"gridcolor\":\"white\",\"linecolor\":\"white\",\"showbackground\":true,\"ticks\":\"\",\"zerolinecolor\":\"white\",\"gridwidth\":2},\"yaxis\":{\"backgroundcolor\":\"#E5ECF6\",\"gridcolor\":\"white\",\"linecolor\":\"white\",\"showbackground\":true,\"ticks\":\"\",\"zerolinecolor\":\"white\",\"gridwidth\":2},\"zaxis\":{\"backgroundcolor\":\"#E5ECF6\",\"gridcolor\":\"white\",\"linecolor\":\"white\",\"showbackground\":true,\"ticks\":\"\",\"zerolinecolor\":\"white\",\"gridwidth\":2}},\"shapedefaults\":{\"line\":{\"color\":\"#2a3f5f\"}},\"annotationdefaults\":{\"arrowcolor\":\"#2a3f5f\",\"arrowhead\":0,\"arrowwidth\":1},\"geo\":{\"bgcolor\":\"white\",\"landcolor\":\"#E5ECF6\",\"subunitcolor\":\"white\",\"showland\":true,\"showlakes\":true,\"lakecolor\":\"white\"},\"title\":{\"x\":0.05},\"mapbox\":{\"style\":\"light\"}}},\"xaxis\":{\"anchor\":\"y\",\"domain\":[0.0,1.0],\"title\":{\"text\":\"Date\"}},\"yaxis\":{\"anchor\":\"x\",\"domain\":[0.0,1.0],\"title\":{\"text\":\"value\"}},\"legend\":{\"title\":{\"text\":\"keyword\"},\"tracegroupgap\":0},\"title\":{\"text\":\"\\uba54\\ud0c0\\ubc84\\uc2a4 VS metaverse\"}},                        {\"responsive\": true}                    ).then(function(){\n",
       "                            \n",
       "var gd = document.getElementById('2fbb020d-cd73-4d6c-901f-fddac3f145a9');\n",
       "var x = new MutationObserver(function (mutations, observer) {{\n",
       "        var display = window.getComputedStyle(gd).display;\n",
       "        if (!display || display === 'none') {{\n",
       "            console.log([gd, 'removed!']);\n",
       "            Plotly.purge(gd);\n",
       "            observer.disconnect();\n",
       "        }}\n",
       "}});\n",
       "\n",
       "// Listen for the removal of the full notebook cells\n",
       "var notebookContainer = gd.closest('#notebook-container');\n",
       "if (notebookContainer) {{\n",
       "    x.observe(notebookContainer, {childList: true});\n",
       "}}\n",
       "\n",
       "// Listen for the clearing of the current output cell\n",
       "var outputEl = gd.closest('.output');\n",
       "if (outputEl) {{\n",
       "    x.observe(outputEl, {childList: true});\n",
       "}}\n",
       "\n",
       "                        })                };                });            </script>        </div>"
      ]
     },
     "metadata": {},
     "output_type": "display_data"
    }
   ],
   "source": [
    "key_k = '메타버스'\n",
    "key_e = 'metaverse'\n",
    "keyCmp(key_k,key_e,df_ks.iloc[:,12:],df_es)"
   ]
  },
  {
   "cell_type": "code",
   "execution_count": 99,
   "id": "dd8bbd15",
   "metadata": {
    "scrolled": true
   },
   "outputs": [
    {
     "data": {
      "application/vnd.plotly.v1+json": {
       "config": {
        "plotlyServerURL": "https://plot.ly"
       },
       "data": [
        {
         "hovertemplate": "keyword=nft(en)<br>Date=%{x}<br>value=%{y}<extra></extra>",
         "legendgroup": "nft(en)",
         "line": {
          "color": "#636efa",
          "dash": "solid"
         },
         "marker": {
          "symbol": "circle"
         },
         "mode": "lines",
         "name": "nft(en)",
         "orientation": "v",
         "showlegend": true,
         "type": "scatter",
         "x": [
          "2019-08-01T00:00:00",
          "2019-09-01T00:00:00",
          "2019-10-01T00:00:00",
          "2019-11-01T00:00:00",
          "2019-12-01T00:00:00",
          "2020-01-01T00:00:00",
          "2020-02-01T00:00:00",
          "2020-03-01T00:00:00",
          "2020-04-01T00:00:00",
          "2020-05-01T00:00:00",
          "2020-06-01T00:00:00",
          "2020-07-01T00:00:00",
          "2020-08-01T00:00:00",
          "2020-09-01T00:00:00",
          "2020-10-01T00:00:00",
          "2020-11-01T00:00:00",
          "2020-12-01T00:00:00",
          "2021-01-01T00:00:00",
          "2021-02-01T00:00:00",
          "2021-03-01T00:00:00",
          "2021-04-01T00:00:00",
          "2021-05-01T00:00:00",
          "2021-06-01T00:00:00",
          "2021-07-01T00:00:00",
          "2021-08-01T00:00:00",
          "2021-09-01T00:00:00",
          "2021-10-01T00:00:00",
          "2021-11-01T00:00:00",
          "2021-12-01T00:00:00",
          "2022-01-01T00:00:00",
          "2022-02-01T00:00:00",
          "2022-03-01T00:00:00",
          "2022-04-01T00:00:00",
          "2022-05-01T00:00:00",
          "2022-06-01T00:00:00",
          "2022-07-01T00:00:00"
         ],
         "xaxis": "x",
         "y": [
          0,
          0,
          0,
          0,
          0,
          0,
          0,
          0,
          0,
          0,
          0,
          0,
          0,
          0,
          0.009210531254114439,
          0,
          0,
          0,
          0.02009719373090594,
          0.08893442188051093,
          0.05199352494865204,
          0.027846254395801313,
          0.046010280750091344,
          0.02392164804256881,
          0.033590926166899196,
          0.06223403298844533,
          0.07322397636782796,
          0.06464149554159553,
          0.06703577545915977,
          0.02917870825108642,
          0.0780105664997551,
          0.04680816556253734,
          0.13608246911015395,
          0.043844818152641955,
          0.04914300921253505,
          0.048192201684717606
         ],
         "yaxis": "y"
        },
        {
         "hovertemplate": "keyword=nft<br>Date=%{x}<br>value=%{y}<extra></extra>",
         "legendgroup": "nft",
         "line": {
          "color": "#EF553B",
          "dash": "solid"
         },
         "marker": {
          "symbol": "circle"
         },
         "mode": "lines",
         "name": "nft",
         "orientation": "v",
         "showlegend": true,
         "type": "scatter",
         "x": [
          "2019-08-01T00:00:00",
          "2019-09-01T00:00:00",
          "2019-10-01T00:00:00",
          "2019-11-01T00:00:00",
          "2019-12-01T00:00:00",
          "2020-01-01T00:00:00",
          "2020-02-01T00:00:00",
          "2020-03-01T00:00:00",
          "2020-04-01T00:00:00",
          "2020-05-01T00:00:00",
          "2020-06-01T00:00:00",
          "2020-07-01T00:00:00",
          "2020-08-01T00:00:00",
          "2020-09-01T00:00:00",
          "2020-10-01T00:00:00",
          "2020-11-01T00:00:00",
          "2020-12-01T00:00:00",
          "2021-01-01T00:00:00",
          "2021-02-01T00:00:00",
          "2021-03-01T00:00:00",
          "2021-04-01T00:00:00",
          "2021-05-01T00:00:00",
          "2021-06-01T00:00:00",
          "2021-07-01T00:00:00",
          "2021-08-01T00:00:00",
          "2021-09-01T00:00:00",
          "2021-10-01T00:00:00",
          "2021-11-01T00:00:00",
          "2021-12-01T00:00:00",
          "2022-01-01T00:00:00",
          "2022-02-01T00:00:00",
          "2022-03-01T00:00:00",
          "2022-04-01T00:00:00",
          "2022-05-01T00:00:00",
          "2022-06-01T00:00:00",
          "2022-07-01T00:00:00"
         ],
         "xaxis": "x",
         "y": [
          0,
          0,
          0,
          0,
          0,
          0.0013821643042307068,
          0,
          0,
          0,
          0,
          0.001364191047987592,
          0.001050789365928947,
          0.0017663506428204079,
          0.0011726883077748669,
          0.0029493551800803984,
          0,
          0,
          0.0019620676335270894,
          0,
          0.022808032787340296,
          0.027980149321411307,
          0.03595860216849881,
          0.016034315246079112,
          0.018526420885405077,
          0.024004862381949783,
          0.05875421870399895,
          0.051169297475908905,
          0.11817209230083693,
          0.05726030937479375,
          0.09972937626949141,
          0.08507715213578348,
          0.06973586470234543,
          0.10348853598199165,
          0.06656085590228304,
          0.058022312144794634,
          0.07506999573473758
         ],
         "yaxis": "y"
        }
       ],
       "layout": {
        "legend": {
         "title": {
          "text": "keyword"
         },
         "tracegroupgap": 0
        },
        "template": {
         "data": {
          "bar": [
           {
            "error_x": {
             "color": "#2a3f5f"
            },
            "error_y": {
             "color": "#2a3f5f"
            },
            "marker": {
             "line": {
              "color": "#E5ECF6",
              "width": 0.5
             },
             "pattern": {
              "fillmode": "overlay",
              "size": 10,
              "solidity": 0.2
             }
            },
            "type": "bar"
           }
          ],
          "barpolar": [
           {
            "marker": {
             "line": {
              "color": "#E5ECF6",
              "width": 0.5
             },
             "pattern": {
              "fillmode": "overlay",
              "size": 10,
              "solidity": 0.2
             }
            },
            "type": "barpolar"
           }
          ],
          "carpet": [
           {
            "aaxis": {
             "endlinecolor": "#2a3f5f",
             "gridcolor": "white",
             "linecolor": "white",
             "minorgridcolor": "white",
             "startlinecolor": "#2a3f5f"
            },
            "baxis": {
             "endlinecolor": "#2a3f5f",
             "gridcolor": "white",
             "linecolor": "white",
             "minorgridcolor": "white",
             "startlinecolor": "#2a3f5f"
            },
            "type": "carpet"
           }
          ],
          "choropleth": [
           {
            "colorbar": {
             "outlinewidth": 0,
             "ticks": ""
            },
            "type": "choropleth"
           }
          ],
          "contour": [
           {
            "colorbar": {
             "outlinewidth": 0,
             "ticks": ""
            },
            "colorscale": [
             [
              0,
              "#0d0887"
             ],
             [
              0.1111111111111111,
              "#46039f"
             ],
             [
              0.2222222222222222,
              "#7201a8"
             ],
             [
              0.3333333333333333,
              "#9c179e"
             ],
             [
              0.4444444444444444,
              "#bd3786"
             ],
             [
              0.5555555555555556,
              "#d8576b"
             ],
             [
              0.6666666666666666,
              "#ed7953"
             ],
             [
              0.7777777777777778,
              "#fb9f3a"
             ],
             [
              0.8888888888888888,
              "#fdca26"
             ],
             [
              1,
              "#f0f921"
             ]
            ],
            "type": "contour"
           }
          ],
          "contourcarpet": [
           {
            "colorbar": {
             "outlinewidth": 0,
             "ticks": ""
            },
            "type": "contourcarpet"
           }
          ],
          "heatmap": [
           {
            "colorbar": {
             "outlinewidth": 0,
             "ticks": ""
            },
            "colorscale": [
             [
              0,
              "#0d0887"
             ],
             [
              0.1111111111111111,
              "#46039f"
             ],
             [
              0.2222222222222222,
              "#7201a8"
             ],
             [
              0.3333333333333333,
              "#9c179e"
             ],
             [
              0.4444444444444444,
              "#bd3786"
             ],
             [
              0.5555555555555556,
              "#d8576b"
             ],
             [
              0.6666666666666666,
              "#ed7953"
             ],
             [
              0.7777777777777778,
              "#fb9f3a"
             ],
             [
              0.8888888888888888,
              "#fdca26"
             ],
             [
              1,
              "#f0f921"
             ]
            ],
            "type": "heatmap"
           }
          ],
          "heatmapgl": [
           {
            "colorbar": {
             "outlinewidth": 0,
             "ticks": ""
            },
            "colorscale": [
             [
              0,
              "#0d0887"
             ],
             [
              0.1111111111111111,
              "#46039f"
             ],
             [
              0.2222222222222222,
              "#7201a8"
             ],
             [
              0.3333333333333333,
              "#9c179e"
             ],
             [
              0.4444444444444444,
              "#bd3786"
             ],
             [
              0.5555555555555556,
              "#d8576b"
             ],
             [
              0.6666666666666666,
              "#ed7953"
             ],
             [
              0.7777777777777778,
              "#fb9f3a"
             ],
             [
              0.8888888888888888,
              "#fdca26"
             ],
             [
              1,
              "#f0f921"
             ]
            ],
            "type": "heatmapgl"
           }
          ],
          "histogram": [
           {
            "marker": {
             "pattern": {
              "fillmode": "overlay",
              "size": 10,
              "solidity": 0.2
             }
            },
            "type": "histogram"
           }
          ],
          "histogram2d": [
           {
            "colorbar": {
             "outlinewidth": 0,
             "ticks": ""
            },
            "colorscale": [
             [
              0,
              "#0d0887"
             ],
             [
              0.1111111111111111,
              "#46039f"
             ],
             [
              0.2222222222222222,
              "#7201a8"
             ],
             [
              0.3333333333333333,
              "#9c179e"
             ],
             [
              0.4444444444444444,
              "#bd3786"
             ],
             [
              0.5555555555555556,
              "#d8576b"
             ],
             [
              0.6666666666666666,
              "#ed7953"
             ],
             [
              0.7777777777777778,
              "#fb9f3a"
             ],
             [
              0.8888888888888888,
              "#fdca26"
             ],
             [
              1,
              "#f0f921"
             ]
            ],
            "type": "histogram2d"
           }
          ],
          "histogram2dcontour": [
           {
            "colorbar": {
             "outlinewidth": 0,
             "ticks": ""
            },
            "colorscale": [
             [
              0,
              "#0d0887"
             ],
             [
              0.1111111111111111,
              "#46039f"
             ],
             [
              0.2222222222222222,
              "#7201a8"
             ],
             [
              0.3333333333333333,
              "#9c179e"
             ],
             [
              0.4444444444444444,
              "#bd3786"
             ],
             [
              0.5555555555555556,
              "#d8576b"
             ],
             [
              0.6666666666666666,
              "#ed7953"
             ],
             [
              0.7777777777777778,
              "#fb9f3a"
             ],
             [
              0.8888888888888888,
              "#fdca26"
             ],
             [
              1,
              "#f0f921"
             ]
            ],
            "type": "histogram2dcontour"
           }
          ],
          "mesh3d": [
           {
            "colorbar": {
             "outlinewidth": 0,
             "ticks": ""
            },
            "type": "mesh3d"
           }
          ],
          "parcoords": [
           {
            "line": {
             "colorbar": {
              "outlinewidth": 0,
              "ticks": ""
             }
            },
            "type": "parcoords"
           }
          ],
          "pie": [
           {
            "automargin": true,
            "type": "pie"
           }
          ],
          "scatter": [
           {
            "fillpattern": {
             "fillmode": "overlay",
             "size": 10,
             "solidity": 0.2
            },
            "type": "scatter"
           }
          ],
          "scatter3d": [
           {
            "line": {
             "colorbar": {
              "outlinewidth": 0,
              "ticks": ""
             }
            },
            "marker": {
             "colorbar": {
              "outlinewidth": 0,
              "ticks": ""
             }
            },
            "type": "scatter3d"
           }
          ],
          "scattercarpet": [
           {
            "marker": {
             "colorbar": {
              "outlinewidth": 0,
              "ticks": ""
             }
            },
            "type": "scattercarpet"
           }
          ],
          "scattergeo": [
           {
            "marker": {
             "colorbar": {
              "outlinewidth": 0,
              "ticks": ""
             }
            },
            "type": "scattergeo"
           }
          ],
          "scattergl": [
           {
            "marker": {
             "colorbar": {
              "outlinewidth": 0,
              "ticks": ""
             }
            },
            "type": "scattergl"
           }
          ],
          "scattermapbox": [
           {
            "marker": {
             "colorbar": {
              "outlinewidth": 0,
              "ticks": ""
             }
            },
            "type": "scattermapbox"
           }
          ],
          "scatterpolar": [
           {
            "marker": {
             "colorbar": {
              "outlinewidth": 0,
              "ticks": ""
             }
            },
            "type": "scatterpolar"
           }
          ],
          "scatterpolargl": [
           {
            "marker": {
             "colorbar": {
              "outlinewidth": 0,
              "ticks": ""
             }
            },
            "type": "scatterpolargl"
           }
          ],
          "scatterternary": [
           {
            "marker": {
             "colorbar": {
              "outlinewidth": 0,
              "ticks": ""
             }
            },
            "type": "scatterternary"
           }
          ],
          "surface": [
           {
            "colorbar": {
             "outlinewidth": 0,
             "ticks": ""
            },
            "colorscale": [
             [
              0,
              "#0d0887"
             ],
             [
              0.1111111111111111,
              "#46039f"
             ],
             [
              0.2222222222222222,
              "#7201a8"
             ],
             [
              0.3333333333333333,
              "#9c179e"
             ],
             [
              0.4444444444444444,
              "#bd3786"
             ],
             [
              0.5555555555555556,
              "#d8576b"
             ],
             [
              0.6666666666666666,
              "#ed7953"
             ],
             [
              0.7777777777777778,
              "#fb9f3a"
             ],
             [
              0.8888888888888888,
              "#fdca26"
             ],
             [
              1,
              "#f0f921"
             ]
            ],
            "type": "surface"
           }
          ],
          "table": [
           {
            "cells": {
             "fill": {
              "color": "#EBF0F8"
             },
             "line": {
              "color": "white"
             }
            },
            "header": {
             "fill": {
              "color": "#C8D4E3"
             },
             "line": {
              "color": "white"
             }
            },
            "type": "table"
           }
          ]
         },
         "layout": {
          "annotationdefaults": {
           "arrowcolor": "#2a3f5f",
           "arrowhead": 0,
           "arrowwidth": 1
          },
          "autotypenumbers": "strict",
          "coloraxis": {
           "colorbar": {
            "outlinewidth": 0,
            "ticks": ""
           }
          },
          "colorscale": {
           "diverging": [
            [
             0,
             "#8e0152"
            ],
            [
             0.1,
             "#c51b7d"
            ],
            [
             0.2,
             "#de77ae"
            ],
            [
             0.3,
             "#f1b6da"
            ],
            [
             0.4,
             "#fde0ef"
            ],
            [
             0.5,
             "#f7f7f7"
            ],
            [
             0.6,
             "#e6f5d0"
            ],
            [
             0.7,
             "#b8e186"
            ],
            [
             0.8,
             "#7fbc41"
            ],
            [
             0.9,
             "#4d9221"
            ],
            [
             1,
             "#276419"
            ]
           ],
           "sequential": [
            [
             0,
             "#0d0887"
            ],
            [
             0.1111111111111111,
             "#46039f"
            ],
            [
             0.2222222222222222,
             "#7201a8"
            ],
            [
             0.3333333333333333,
             "#9c179e"
            ],
            [
             0.4444444444444444,
             "#bd3786"
            ],
            [
             0.5555555555555556,
             "#d8576b"
            ],
            [
             0.6666666666666666,
             "#ed7953"
            ],
            [
             0.7777777777777778,
             "#fb9f3a"
            ],
            [
             0.8888888888888888,
             "#fdca26"
            ],
            [
             1,
             "#f0f921"
            ]
           ],
           "sequentialminus": [
            [
             0,
             "#0d0887"
            ],
            [
             0.1111111111111111,
             "#46039f"
            ],
            [
             0.2222222222222222,
             "#7201a8"
            ],
            [
             0.3333333333333333,
             "#9c179e"
            ],
            [
             0.4444444444444444,
             "#bd3786"
            ],
            [
             0.5555555555555556,
             "#d8576b"
            ],
            [
             0.6666666666666666,
             "#ed7953"
            ],
            [
             0.7777777777777778,
             "#fb9f3a"
            ],
            [
             0.8888888888888888,
             "#fdca26"
            ],
            [
             1,
             "#f0f921"
            ]
           ]
          },
          "colorway": [
           "#636efa",
           "#EF553B",
           "#00cc96",
           "#ab63fa",
           "#FFA15A",
           "#19d3f3",
           "#FF6692",
           "#B6E880",
           "#FF97FF",
           "#FECB52"
          ],
          "font": {
           "color": "#2a3f5f"
          },
          "geo": {
           "bgcolor": "white",
           "lakecolor": "white",
           "landcolor": "#E5ECF6",
           "showlakes": true,
           "showland": true,
           "subunitcolor": "white"
          },
          "hoverlabel": {
           "align": "left"
          },
          "hovermode": "closest",
          "mapbox": {
           "style": "light"
          },
          "paper_bgcolor": "white",
          "plot_bgcolor": "#E5ECF6",
          "polar": {
           "angularaxis": {
            "gridcolor": "white",
            "linecolor": "white",
            "ticks": ""
           },
           "bgcolor": "#E5ECF6",
           "radialaxis": {
            "gridcolor": "white",
            "linecolor": "white",
            "ticks": ""
           }
          },
          "scene": {
           "xaxis": {
            "backgroundcolor": "#E5ECF6",
            "gridcolor": "white",
            "gridwidth": 2,
            "linecolor": "white",
            "showbackground": true,
            "ticks": "",
            "zerolinecolor": "white"
           },
           "yaxis": {
            "backgroundcolor": "#E5ECF6",
            "gridcolor": "white",
            "gridwidth": 2,
            "linecolor": "white",
            "showbackground": true,
            "ticks": "",
            "zerolinecolor": "white"
           },
           "zaxis": {
            "backgroundcolor": "#E5ECF6",
            "gridcolor": "white",
            "gridwidth": 2,
            "linecolor": "white",
            "showbackground": true,
            "ticks": "",
            "zerolinecolor": "white"
           }
          },
          "shapedefaults": {
           "line": {
            "color": "#2a3f5f"
           }
          },
          "ternary": {
           "aaxis": {
            "gridcolor": "white",
            "linecolor": "white",
            "ticks": ""
           },
           "baxis": {
            "gridcolor": "white",
            "linecolor": "white",
            "ticks": ""
           },
           "bgcolor": "#E5ECF6",
           "caxis": {
            "gridcolor": "white",
            "linecolor": "white",
            "ticks": ""
           }
          },
          "title": {
           "x": 0.05
          },
          "xaxis": {
           "automargin": true,
           "gridcolor": "white",
           "linecolor": "white",
           "ticks": "",
           "title": {
            "standoff": 15
           },
           "zerolinecolor": "white",
           "zerolinewidth": 2
          },
          "yaxis": {
           "automargin": true,
           "gridcolor": "white",
           "linecolor": "white",
           "ticks": "",
           "title": {
            "standoff": 15
           },
           "zerolinecolor": "white",
           "zerolinewidth": 2
          }
         }
        },
        "title": {
         "text": "nft VS nft"
        },
        "xaxis": {
         "anchor": "y",
         "domain": [
          0,
          1
         ],
         "title": {
          "text": "Date"
         }
        },
        "yaxis": {
         "anchor": "x",
         "domain": [
          0,
          1
         ],
         "title": {
          "text": "value"
         }
        }
       }
      },
      "text/html": [
       "<div>                            <div id=\"9a4b4d12-9cd8-439d-a6b3-ead927ecb235\" class=\"plotly-graph-div\" style=\"height:525px; width:100%;\"></div>            <script type=\"text/javascript\">                require([\"plotly\"], function(Plotly) {                    window.PLOTLYENV=window.PLOTLYENV || {};                                    if (document.getElementById(\"9a4b4d12-9cd8-439d-a6b3-ead927ecb235\")) {                    Plotly.newPlot(                        \"9a4b4d12-9cd8-439d-a6b3-ead927ecb235\",                        [{\"hovertemplate\":\"keyword=nft(en)<br>Date=%{x}<br>value=%{y}<extra></extra>\",\"legendgroup\":\"nft(en)\",\"line\":{\"color\":\"#636efa\",\"dash\":\"solid\"},\"marker\":{\"symbol\":\"circle\"},\"mode\":\"lines\",\"name\":\"nft(en)\",\"orientation\":\"v\",\"showlegend\":true,\"x\":[\"2019-08-01T00:00:00\",\"2019-09-01T00:00:00\",\"2019-10-01T00:00:00\",\"2019-11-01T00:00:00\",\"2019-12-01T00:00:00\",\"2020-01-01T00:00:00\",\"2020-02-01T00:00:00\",\"2020-03-01T00:00:00\",\"2020-04-01T00:00:00\",\"2020-05-01T00:00:00\",\"2020-06-01T00:00:00\",\"2020-07-01T00:00:00\",\"2020-08-01T00:00:00\",\"2020-09-01T00:00:00\",\"2020-10-01T00:00:00\",\"2020-11-01T00:00:00\",\"2020-12-01T00:00:00\",\"2021-01-01T00:00:00\",\"2021-02-01T00:00:00\",\"2021-03-01T00:00:00\",\"2021-04-01T00:00:00\",\"2021-05-01T00:00:00\",\"2021-06-01T00:00:00\",\"2021-07-01T00:00:00\",\"2021-08-01T00:00:00\",\"2021-09-01T00:00:00\",\"2021-10-01T00:00:00\",\"2021-11-01T00:00:00\",\"2021-12-01T00:00:00\",\"2022-01-01T00:00:00\",\"2022-02-01T00:00:00\",\"2022-03-01T00:00:00\",\"2022-04-01T00:00:00\",\"2022-05-01T00:00:00\",\"2022-06-01T00:00:00\",\"2022-07-01T00:00:00\"],\"xaxis\":\"x\",\"y\":[0.0,0.0,0.0,0.0,0.0,0.0,0.0,0.0,0.0,0.0,0.0,0.0,0.0,0.0,0.009210531254114439,0.0,0.0,0.0,0.02009719373090594,0.08893442188051093,0.05199352494865204,0.027846254395801313,0.046010280750091344,0.02392164804256881,0.033590926166899196,0.06223403298844533,0.07322397636782796,0.06464149554159553,0.06703577545915977,0.02917870825108642,0.0780105664997551,0.04680816556253734,0.13608246911015395,0.043844818152641955,0.04914300921253505,0.048192201684717606],\"yaxis\":\"y\",\"type\":\"scatter\"},{\"hovertemplate\":\"keyword=nft<br>Date=%{x}<br>value=%{y}<extra></extra>\",\"legendgroup\":\"nft\",\"line\":{\"color\":\"#EF553B\",\"dash\":\"solid\"},\"marker\":{\"symbol\":\"circle\"},\"mode\":\"lines\",\"name\":\"nft\",\"orientation\":\"v\",\"showlegend\":true,\"x\":[\"2019-08-01T00:00:00\",\"2019-09-01T00:00:00\",\"2019-10-01T00:00:00\",\"2019-11-01T00:00:00\",\"2019-12-01T00:00:00\",\"2020-01-01T00:00:00\",\"2020-02-01T00:00:00\",\"2020-03-01T00:00:00\",\"2020-04-01T00:00:00\",\"2020-05-01T00:00:00\",\"2020-06-01T00:00:00\",\"2020-07-01T00:00:00\",\"2020-08-01T00:00:00\",\"2020-09-01T00:00:00\",\"2020-10-01T00:00:00\",\"2020-11-01T00:00:00\",\"2020-12-01T00:00:00\",\"2021-01-01T00:00:00\",\"2021-02-01T00:00:00\",\"2021-03-01T00:00:00\",\"2021-04-01T00:00:00\",\"2021-05-01T00:00:00\",\"2021-06-01T00:00:00\",\"2021-07-01T00:00:00\",\"2021-08-01T00:00:00\",\"2021-09-01T00:00:00\",\"2021-10-01T00:00:00\",\"2021-11-01T00:00:00\",\"2021-12-01T00:00:00\",\"2022-01-01T00:00:00\",\"2022-02-01T00:00:00\",\"2022-03-01T00:00:00\",\"2022-04-01T00:00:00\",\"2022-05-01T00:00:00\",\"2022-06-01T00:00:00\",\"2022-07-01T00:00:00\"],\"xaxis\":\"x\",\"y\":[0.0,0.0,0.0,0.0,0.0,0.0013821643042307068,0.0,0.0,0.0,0.0,0.001364191047987592,0.001050789365928947,0.0017663506428204079,0.0011726883077748669,0.0029493551800803984,0.0,0.0,0.0019620676335270894,0.0,0.022808032787340296,0.027980149321411307,0.03595860216849881,0.016034315246079112,0.018526420885405077,0.024004862381949783,0.05875421870399895,0.051169297475908905,0.11817209230083693,0.05726030937479375,0.09972937626949141,0.08507715213578348,0.06973586470234543,0.10348853598199165,0.06656085590228304,0.058022312144794634,0.07506999573473758],\"yaxis\":\"y\",\"type\":\"scatter\"}],                        {\"template\":{\"data\":{\"histogram2dcontour\":[{\"type\":\"histogram2dcontour\",\"colorbar\":{\"outlinewidth\":0,\"ticks\":\"\"},\"colorscale\":[[0.0,\"#0d0887\"],[0.1111111111111111,\"#46039f\"],[0.2222222222222222,\"#7201a8\"],[0.3333333333333333,\"#9c179e\"],[0.4444444444444444,\"#bd3786\"],[0.5555555555555556,\"#d8576b\"],[0.6666666666666666,\"#ed7953\"],[0.7777777777777778,\"#fb9f3a\"],[0.8888888888888888,\"#fdca26\"],[1.0,\"#f0f921\"]]}],\"choropleth\":[{\"type\":\"choropleth\",\"colorbar\":{\"outlinewidth\":0,\"ticks\":\"\"}}],\"histogram2d\":[{\"type\":\"histogram2d\",\"colorbar\":{\"outlinewidth\":0,\"ticks\":\"\"},\"colorscale\":[[0.0,\"#0d0887\"],[0.1111111111111111,\"#46039f\"],[0.2222222222222222,\"#7201a8\"],[0.3333333333333333,\"#9c179e\"],[0.4444444444444444,\"#bd3786\"],[0.5555555555555556,\"#d8576b\"],[0.6666666666666666,\"#ed7953\"],[0.7777777777777778,\"#fb9f3a\"],[0.8888888888888888,\"#fdca26\"],[1.0,\"#f0f921\"]]}],\"heatmap\":[{\"type\":\"heatmap\",\"colorbar\":{\"outlinewidth\":0,\"ticks\":\"\"},\"colorscale\":[[0.0,\"#0d0887\"],[0.1111111111111111,\"#46039f\"],[0.2222222222222222,\"#7201a8\"],[0.3333333333333333,\"#9c179e\"],[0.4444444444444444,\"#bd3786\"],[0.5555555555555556,\"#d8576b\"],[0.6666666666666666,\"#ed7953\"],[0.7777777777777778,\"#fb9f3a\"],[0.8888888888888888,\"#fdca26\"],[1.0,\"#f0f921\"]]}],\"heatmapgl\":[{\"type\":\"heatmapgl\",\"colorbar\":{\"outlinewidth\":0,\"ticks\":\"\"},\"colorscale\":[[0.0,\"#0d0887\"],[0.1111111111111111,\"#46039f\"],[0.2222222222222222,\"#7201a8\"],[0.3333333333333333,\"#9c179e\"],[0.4444444444444444,\"#bd3786\"],[0.5555555555555556,\"#d8576b\"],[0.6666666666666666,\"#ed7953\"],[0.7777777777777778,\"#fb9f3a\"],[0.8888888888888888,\"#fdca26\"],[1.0,\"#f0f921\"]]}],\"contourcarpet\":[{\"type\":\"contourcarpet\",\"colorbar\":{\"outlinewidth\":0,\"ticks\":\"\"}}],\"contour\":[{\"type\":\"contour\",\"colorbar\":{\"outlinewidth\":0,\"ticks\":\"\"},\"colorscale\":[[0.0,\"#0d0887\"],[0.1111111111111111,\"#46039f\"],[0.2222222222222222,\"#7201a8\"],[0.3333333333333333,\"#9c179e\"],[0.4444444444444444,\"#bd3786\"],[0.5555555555555556,\"#d8576b\"],[0.6666666666666666,\"#ed7953\"],[0.7777777777777778,\"#fb9f3a\"],[0.8888888888888888,\"#fdca26\"],[1.0,\"#f0f921\"]]}],\"surface\":[{\"type\":\"surface\",\"colorbar\":{\"outlinewidth\":0,\"ticks\":\"\"},\"colorscale\":[[0.0,\"#0d0887\"],[0.1111111111111111,\"#46039f\"],[0.2222222222222222,\"#7201a8\"],[0.3333333333333333,\"#9c179e\"],[0.4444444444444444,\"#bd3786\"],[0.5555555555555556,\"#d8576b\"],[0.6666666666666666,\"#ed7953\"],[0.7777777777777778,\"#fb9f3a\"],[0.8888888888888888,\"#fdca26\"],[1.0,\"#f0f921\"]]}],\"mesh3d\":[{\"type\":\"mesh3d\",\"colorbar\":{\"outlinewidth\":0,\"ticks\":\"\"}}],\"scatter\":[{\"fillpattern\":{\"fillmode\":\"overlay\",\"size\":10,\"solidity\":0.2},\"type\":\"scatter\"}],\"parcoords\":[{\"type\":\"parcoords\",\"line\":{\"colorbar\":{\"outlinewidth\":0,\"ticks\":\"\"}}}],\"scatterpolargl\":[{\"type\":\"scatterpolargl\",\"marker\":{\"colorbar\":{\"outlinewidth\":0,\"ticks\":\"\"}}}],\"bar\":[{\"error_x\":{\"color\":\"#2a3f5f\"},\"error_y\":{\"color\":\"#2a3f5f\"},\"marker\":{\"line\":{\"color\":\"#E5ECF6\",\"width\":0.5},\"pattern\":{\"fillmode\":\"overlay\",\"size\":10,\"solidity\":0.2}},\"type\":\"bar\"}],\"scattergeo\":[{\"type\":\"scattergeo\",\"marker\":{\"colorbar\":{\"outlinewidth\":0,\"ticks\":\"\"}}}],\"scatterpolar\":[{\"type\":\"scatterpolar\",\"marker\":{\"colorbar\":{\"outlinewidth\":0,\"ticks\":\"\"}}}],\"histogram\":[{\"marker\":{\"pattern\":{\"fillmode\":\"overlay\",\"size\":10,\"solidity\":0.2}},\"type\":\"histogram\"}],\"scattergl\":[{\"type\":\"scattergl\",\"marker\":{\"colorbar\":{\"outlinewidth\":0,\"ticks\":\"\"}}}],\"scatter3d\":[{\"type\":\"scatter3d\",\"line\":{\"colorbar\":{\"outlinewidth\":0,\"ticks\":\"\"}},\"marker\":{\"colorbar\":{\"outlinewidth\":0,\"ticks\":\"\"}}}],\"scattermapbox\":[{\"type\":\"scattermapbox\",\"marker\":{\"colorbar\":{\"outlinewidth\":0,\"ticks\":\"\"}}}],\"scatterternary\":[{\"type\":\"scatterternary\",\"marker\":{\"colorbar\":{\"outlinewidth\":0,\"ticks\":\"\"}}}],\"scattercarpet\":[{\"type\":\"scattercarpet\",\"marker\":{\"colorbar\":{\"outlinewidth\":0,\"ticks\":\"\"}}}],\"carpet\":[{\"aaxis\":{\"endlinecolor\":\"#2a3f5f\",\"gridcolor\":\"white\",\"linecolor\":\"white\",\"minorgridcolor\":\"white\",\"startlinecolor\":\"#2a3f5f\"},\"baxis\":{\"endlinecolor\":\"#2a3f5f\",\"gridcolor\":\"white\",\"linecolor\":\"white\",\"minorgridcolor\":\"white\",\"startlinecolor\":\"#2a3f5f\"},\"type\":\"carpet\"}],\"table\":[{\"cells\":{\"fill\":{\"color\":\"#EBF0F8\"},\"line\":{\"color\":\"white\"}},\"header\":{\"fill\":{\"color\":\"#C8D4E3\"},\"line\":{\"color\":\"white\"}},\"type\":\"table\"}],\"barpolar\":[{\"marker\":{\"line\":{\"color\":\"#E5ECF6\",\"width\":0.5},\"pattern\":{\"fillmode\":\"overlay\",\"size\":10,\"solidity\":0.2}},\"type\":\"barpolar\"}],\"pie\":[{\"automargin\":true,\"type\":\"pie\"}]},\"layout\":{\"autotypenumbers\":\"strict\",\"colorway\":[\"#636efa\",\"#EF553B\",\"#00cc96\",\"#ab63fa\",\"#FFA15A\",\"#19d3f3\",\"#FF6692\",\"#B6E880\",\"#FF97FF\",\"#FECB52\"],\"font\":{\"color\":\"#2a3f5f\"},\"hovermode\":\"closest\",\"hoverlabel\":{\"align\":\"left\"},\"paper_bgcolor\":\"white\",\"plot_bgcolor\":\"#E5ECF6\",\"polar\":{\"bgcolor\":\"#E5ECF6\",\"angularaxis\":{\"gridcolor\":\"white\",\"linecolor\":\"white\",\"ticks\":\"\"},\"radialaxis\":{\"gridcolor\":\"white\",\"linecolor\":\"white\",\"ticks\":\"\"}},\"ternary\":{\"bgcolor\":\"#E5ECF6\",\"aaxis\":{\"gridcolor\":\"white\",\"linecolor\":\"white\",\"ticks\":\"\"},\"baxis\":{\"gridcolor\":\"white\",\"linecolor\":\"white\",\"ticks\":\"\"},\"caxis\":{\"gridcolor\":\"white\",\"linecolor\":\"white\",\"ticks\":\"\"}},\"coloraxis\":{\"colorbar\":{\"outlinewidth\":0,\"ticks\":\"\"}},\"colorscale\":{\"sequential\":[[0.0,\"#0d0887\"],[0.1111111111111111,\"#46039f\"],[0.2222222222222222,\"#7201a8\"],[0.3333333333333333,\"#9c179e\"],[0.4444444444444444,\"#bd3786\"],[0.5555555555555556,\"#d8576b\"],[0.6666666666666666,\"#ed7953\"],[0.7777777777777778,\"#fb9f3a\"],[0.8888888888888888,\"#fdca26\"],[1.0,\"#f0f921\"]],\"sequentialminus\":[[0.0,\"#0d0887\"],[0.1111111111111111,\"#46039f\"],[0.2222222222222222,\"#7201a8\"],[0.3333333333333333,\"#9c179e\"],[0.4444444444444444,\"#bd3786\"],[0.5555555555555556,\"#d8576b\"],[0.6666666666666666,\"#ed7953\"],[0.7777777777777778,\"#fb9f3a\"],[0.8888888888888888,\"#fdca26\"],[1.0,\"#f0f921\"]],\"diverging\":[[0,\"#8e0152\"],[0.1,\"#c51b7d\"],[0.2,\"#de77ae\"],[0.3,\"#f1b6da\"],[0.4,\"#fde0ef\"],[0.5,\"#f7f7f7\"],[0.6,\"#e6f5d0\"],[0.7,\"#b8e186\"],[0.8,\"#7fbc41\"],[0.9,\"#4d9221\"],[1,\"#276419\"]]},\"xaxis\":{\"gridcolor\":\"white\",\"linecolor\":\"white\",\"ticks\":\"\",\"title\":{\"standoff\":15},\"zerolinecolor\":\"white\",\"automargin\":true,\"zerolinewidth\":2},\"yaxis\":{\"gridcolor\":\"white\",\"linecolor\":\"white\",\"ticks\":\"\",\"title\":{\"standoff\":15},\"zerolinecolor\":\"white\",\"automargin\":true,\"zerolinewidth\":2},\"scene\":{\"xaxis\":{\"backgroundcolor\":\"#E5ECF6\",\"gridcolor\":\"white\",\"linecolor\":\"white\",\"showbackground\":true,\"ticks\":\"\",\"zerolinecolor\":\"white\",\"gridwidth\":2},\"yaxis\":{\"backgroundcolor\":\"#E5ECF6\",\"gridcolor\":\"white\",\"linecolor\":\"white\",\"showbackground\":true,\"ticks\":\"\",\"zerolinecolor\":\"white\",\"gridwidth\":2},\"zaxis\":{\"backgroundcolor\":\"#E5ECF6\",\"gridcolor\":\"white\",\"linecolor\":\"white\",\"showbackground\":true,\"ticks\":\"\",\"zerolinecolor\":\"white\",\"gridwidth\":2}},\"shapedefaults\":{\"line\":{\"color\":\"#2a3f5f\"}},\"annotationdefaults\":{\"arrowcolor\":\"#2a3f5f\",\"arrowhead\":0,\"arrowwidth\":1},\"geo\":{\"bgcolor\":\"white\",\"landcolor\":\"#E5ECF6\",\"subunitcolor\":\"white\",\"showland\":true,\"showlakes\":true,\"lakecolor\":\"white\"},\"title\":{\"x\":0.05},\"mapbox\":{\"style\":\"light\"}}},\"xaxis\":{\"anchor\":\"y\",\"domain\":[0.0,1.0],\"title\":{\"text\":\"Date\"}},\"yaxis\":{\"anchor\":\"x\",\"domain\":[0.0,1.0],\"title\":{\"text\":\"value\"}},\"legend\":{\"title\":{\"text\":\"keyword\"},\"tracegroupgap\":0},\"title\":{\"text\":\"nft VS nft\"}},                        {\"responsive\": true}                    ).then(function(){\n",
       "                            \n",
       "var gd = document.getElementById('9a4b4d12-9cd8-439d-a6b3-ead927ecb235');\n",
       "var x = new MutationObserver(function (mutations, observer) {{\n",
       "        var display = window.getComputedStyle(gd).display;\n",
       "        if (!display || display === 'none') {{\n",
       "            console.log([gd, 'removed!']);\n",
       "            Plotly.purge(gd);\n",
       "            observer.disconnect();\n",
       "        }}\n",
       "}});\n",
       "\n",
       "// Listen for the removal of the full notebook cells\n",
       "var notebookContainer = gd.closest('#notebook-container');\n",
       "if (notebookContainer) {{\n",
       "    x.observe(notebookContainer, {childList: true});\n",
       "}}\n",
       "\n",
       "// Listen for the clearing of the current output cell\n",
       "var outputEl = gd.closest('.output');\n",
       "if (outputEl) {{\n",
       "    x.observe(outputEl, {childList: true});\n",
       "}}\n",
       "\n",
       "                        })                };                });            </script>        </div>"
      ]
     },
     "metadata": {},
     "output_type": "display_data"
    }
   ],
   "source": [
    "key_k = 'nft'\n",
    "key_e = 'nft'\n",
    "keyCmp(key_k,key_e,df_ks.iloc[:,12:],df_es)"
   ]
  },
  {
   "cell_type": "code",
   "execution_count": 103,
   "id": "96b8b529",
   "metadata": {},
   "outputs": [
    {
     "data": {
      "application/vnd.plotly.v1+json": {
       "config": {
        "plotlyServerURL": "https://plot.ly"
       },
       "data": [
        {
         "hovertemplate": "keyword=coronavirus<br>Date=%{x}<br>value=%{y}<extra></extra>",
         "legendgroup": "coronavirus",
         "line": {
          "color": "#636efa",
          "dash": "solid"
         },
         "marker": {
          "symbol": "circle"
         },
         "mode": "lines",
         "name": "coronavirus",
         "orientation": "v",
         "showlegend": true,
         "type": "scatter",
         "x": [
          "2019-08-01T00:00:00",
          "2019-09-01T00:00:00",
          "2019-10-01T00:00:00",
          "2019-11-01T00:00:00",
          "2019-12-01T00:00:00",
          "2020-01-01T00:00:00",
          "2020-02-01T00:00:00",
          "2020-03-01T00:00:00",
          "2020-04-01T00:00:00",
          "2020-05-01T00:00:00",
          "2020-06-01T00:00:00",
          "2020-07-01T00:00:00",
          "2020-08-01T00:00:00",
          "2020-09-01T00:00:00",
          "2020-10-01T00:00:00",
          "2020-11-01T00:00:00",
          "2020-12-01T00:00:00",
          "2021-01-01T00:00:00",
          "2021-02-01T00:00:00",
          "2021-03-01T00:00:00",
          "2021-04-01T00:00:00",
          "2021-05-01T00:00:00",
          "2021-06-01T00:00:00",
          "2021-07-01T00:00:00",
          "2021-08-01T00:00:00",
          "2021-09-01T00:00:00",
          "2021-10-01T00:00:00",
          "2021-11-01T00:00:00",
          "2021-12-01T00:00:00",
          "2022-01-01T00:00:00",
          "2022-02-01T00:00:00",
          "2022-03-01T00:00:00",
          "2022-04-01T00:00:00",
          "2022-05-01T00:00:00",
          "2022-06-01T00:00:00",
          "2022-07-01T00:00:00"
         ],
         "xaxis": "x",
         "y": [
          0,
          0,
          0,
          0,
          0,
          0.002207120622742177,
          0.019596996762023748,
          0.09725207255776828,
          0.12025412976918816,
          0.1126461462520569,
          0.07514670599634439,
          0.07017987072198381,
          0.06181513509826133,
          0.05124393654772672,
          0.03692870415253346,
          0.0441446530268127,
          0.05670893068978361,
          0.03323205836047367,
          0.02563835554482418,
          0.026472893864573778,
          0.01895116724839427,
          0.02029941323721873,
          0.016211318151986988,
          0.009881786378995214,
          0.01224358726295348,
          0.01296213677014455,
          0.014827485453553294,
          0.01295868066115371,
          0.01038442060396874,
          0.009926349008347525,
          0.005054958650977754,
          0.0056870502948346575,
          0.003968065845472682,
          0.005753173568024634,
          0.0030312920291679056,
          0.004391404867708961
         ],
         "yaxis": "y"
        },
        {
         "hovertemplate": "keyword=코로나19<br>Date=%{x}<br>value=%{y}<extra></extra>",
         "legendgroup": "코로나19",
         "line": {
          "color": "#EF553B",
          "dash": "solid"
         },
         "marker": {
          "symbol": "circle"
         },
         "mode": "lines",
         "name": "코로나19",
         "orientation": "v",
         "showlegend": true,
         "type": "scatter",
         "x": [
          "2019-08-01T00:00:00",
          "2019-09-01T00:00:00",
          "2019-10-01T00:00:00",
          "2019-11-01T00:00:00",
          "2019-12-01T00:00:00",
          "2020-01-01T00:00:00",
          "2020-02-01T00:00:00",
          "2020-03-01T00:00:00",
          "2020-04-01T00:00:00",
          "2020-05-01T00:00:00",
          "2020-06-01T00:00:00",
          "2020-07-01T00:00:00",
          "2020-08-01T00:00:00",
          "2020-09-01T00:00:00",
          "2020-10-01T00:00:00",
          "2020-11-01T00:00:00",
          "2020-12-01T00:00:00",
          "2021-01-01T00:00:00",
          "2021-02-01T00:00:00",
          "2021-03-01T00:00:00",
          "2021-04-01T00:00:00",
          "2021-05-01T00:00:00",
          "2021-06-01T00:00:00",
          "2021-07-01T00:00:00",
          "2021-08-01T00:00:00",
          "2021-09-01T00:00:00",
          "2021-10-01T00:00:00",
          "2021-11-01T00:00:00",
          "2021-12-01T00:00:00",
          "2022-01-01T00:00:00",
          "2022-02-01T00:00:00",
          "2022-03-01T00:00:00",
          "2022-04-01T00:00:00",
          "2022-05-01T00:00:00",
          "2022-06-01T00:00:00",
          "2022-07-01T00:00:00"
         ],
         "xaxis": "x",
         "y": [
          0,
          0,
          0,
          0,
          0,
          0,
          0.00912859070417463,
          0.037515153300074225,
          0.07940815311228802,
          0.07735883009405084,
          0.06521969835451778,
          0.04769929043092787,
          0.048791182687561656,
          0.05074099750485588,
          0.046573966321306004,
          0.04140275727561685,
          0.0439307401941343,
          0.0461435847866855,
          0.03618769327807792,
          0.03744856164259389,
          0.022206616248519793,
          0.02344255617281733,
          0.02168087697779706,
          0.026839917516027167,
          0.030719453859903406,
          0.0280894118648771,
          0.02456053112063731,
          0.018517585784535797,
          0.017322986721761708,
          0.028012654106704605,
          0.0197207113878909,
          0.02101866669015289,
          0.01563348721278895,
          0.01178579069793301,
          0.00999621605336354,
          0.012903337897423867
         ],
         "yaxis": "y"
        }
       ],
       "layout": {
        "legend": {
         "title": {
          "text": "keyword"
         },
         "tracegroupgap": 0
        },
        "template": {
         "data": {
          "bar": [
           {
            "error_x": {
             "color": "#2a3f5f"
            },
            "error_y": {
             "color": "#2a3f5f"
            },
            "marker": {
             "line": {
              "color": "#E5ECF6",
              "width": 0.5
             },
             "pattern": {
              "fillmode": "overlay",
              "size": 10,
              "solidity": 0.2
             }
            },
            "type": "bar"
           }
          ],
          "barpolar": [
           {
            "marker": {
             "line": {
              "color": "#E5ECF6",
              "width": 0.5
             },
             "pattern": {
              "fillmode": "overlay",
              "size": 10,
              "solidity": 0.2
             }
            },
            "type": "barpolar"
           }
          ],
          "carpet": [
           {
            "aaxis": {
             "endlinecolor": "#2a3f5f",
             "gridcolor": "white",
             "linecolor": "white",
             "minorgridcolor": "white",
             "startlinecolor": "#2a3f5f"
            },
            "baxis": {
             "endlinecolor": "#2a3f5f",
             "gridcolor": "white",
             "linecolor": "white",
             "minorgridcolor": "white",
             "startlinecolor": "#2a3f5f"
            },
            "type": "carpet"
           }
          ],
          "choropleth": [
           {
            "colorbar": {
             "outlinewidth": 0,
             "ticks": ""
            },
            "type": "choropleth"
           }
          ],
          "contour": [
           {
            "colorbar": {
             "outlinewidth": 0,
             "ticks": ""
            },
            "colorscale": [
             [
              0,
              "#0d0887"
             ],
             [
              0.1111111111111111,
              "#46039f"
             ],
             [
              0.2222222222222222,
              "#7201a8"
             ],
             [
              0.3333333333333333,
              "#9c179e"
             ],
             [
              0.4444444444444444,
              "#bd3786"
             ],
             [
              0.5555555555555556,
              "#d8576b"
             ],
             [
              0.6666666666666666,
              "#ed7953"
             ],
             [
              0.7777777777777778,
              "#fb9f3a"
             ],
             [
              0.8888888888888888,
              "#fdca26"
             ],
             [
              1,
              "#f0f921"
             ]
            ],
            "type": "contour"
           }
          ],
          "contourcarpet": [
           {
            "colorbar": {
             "outlinewidth": 0,
             "ticks": ""
            },
            "type": "contourcarpet"
           }
          ],
          "heatmap": [
           {
            "colorbar": {
             "outlinewidth": 0,
             "ticks": ""
            },
            "colorscale": [
             [
              0,
              "#0d0887"
             ],
             [
              0.1111111111111111,
              "#46039f"
             ],
             [
              0.2222222222222222,
              "#7201a8"
             ],
             [
              0.3333333333333333,
              "#9c179e"
             ],
             [
              0.4444444444444444,
              "#bd3786"
             ],
             [
              0.5555555555555556,
              "#d8576b"
             ],
             [
              0.6666666666666666,
              "#ed7953"
             ],
             [
              0.7777777777777778,
              "#fb9f3a"
             ],
             [
              0.8888888888888888,
              "#fdca26"
             ],
             [
              1,
              "#f0f921"
             ]
            ],
            "type": "heatmap"
           }
          ],
          "heatmapgl": [
           {
            "colorbar": {
             "outlinewidth": 0,
             "ticks": ""
            },
            "colorscale": [
             [
              0,
              "#0d0887"
             ],
             [
              0.1111111111111111,
              "#46039f"
             ],
             [
              0.2222222222222222,
              "#7201a8"
             ],
             [
              0.3333333333333333,
              "#9c179e"
             ],
             [
              0.4444444444444444,
              "#bd3786"
             ],
             [
              0.5555555555555556,
              "#d8576b"
             ],
             [
              0.6666666666666666,
              "#ed7953"
             ],
             [
              0.7777777777777778,
              "#fb9f3a"
             ],
             [
              0.8888888888888888,
              "#fdca26"
             ],
             [
              1,
              "#f0f921"
             ]
            ],
            "type": "heatmapgl"
           }
          ],
          "histogram": [
           {
            "marker": {
             "pattern": {
              "fillmode": "overlay",
              "size": 10,
              "solidity": 0.2
             }
            },
            "type": "histogram"
           }
          ],
          "histogram2d": [
           {
            "colorbar": {
             "outlinewidth": 0,
             "ticks": ""
            },
            "colorscale": [
             [
              0,
              "#0d0887"
             ],
             [
              0.1111111111111111,
              "#46039f"
             ],
             [
              0.2222222222222222,
              "#7201a8"
             ],
             [
              0.3333333333333333,
              "#9c179e"
             ],
             [
              0.4444444444444444,
              "#bd3786"
             ],
             [
              0.5555555555555556,
              "#d8576b"
             ],
             [
              0.6666666666666666,
              "#ed7953"
             ],
             [
              0.7777777777777778,
              "#fb9f3a"
             ],
             [
              0.8888888888888888,
              "#fdca26"
             ],
             [
              1,
              "#f0f921"
             ]
            ],
            "type": "histogram2d"
           }
          ],
          "histogram2dcontour": [
           {
            "colorbar": {
             "outlinewidth": 0,
             "ticks": ""
            },
            "colorscale": [
             [
              0,
              "#0d0887"
             ],
             [
              0.1111111111111111,
              "#46039f"
             ],
             [
              0.2222222222222222,
              "#7201a8"
             ],
             [
              0.3333333333333333,
              "#9c179e"
             ],
             [
              0.4444444444444444,
              "#bd3786"
             ],
             [
              0.5555555555555556,
              "#d8576b"
             ],
             [
              0.6666666666666666,
              "#ed7953"
             ],
             [
              0.7777777777777778,
              "#fb9f3a"
             ],
             [
              0.8888888888888888,
              "#fdca26"
             ],
             [
              1,
              "#f0f921"
             ]
            ],
            "type": "histogram2dcontour"
           }
          ],
          "mesh3d": [
           {
            "colorbar": {
             "outlinewidth": 0,
             "ticks": ""
            },
            "type": "mesh3d"
           }
          ],
          "parcoords": [
           {
            "line": {
             "colorbar": {
              "outlinewidth": 0,
              "ticks": ""
             }
            },
            "type": "parcoords"
           }
          ],
          "pie": [
           {
            "automargin": true,
            "type": "pie"
           }
          ],
          "scatter": [
           {
            "fillpattern": {
             "fillmode": "overlay",
             "size": 10,
             "solidity": 0.2
            },
            "type": "scatter"
           }
          ],
          "scatter3d": [
           {
            "line": {
             "colorbar": {
              "outlinewidth": 0,
              "ticks": ""
             }
            },
            "marker": {
             "colorbar": {
              "outlinewidth": 0,
              "ticks": ""
             }
            },
            "type": "scatter3d"
           }
          ],
          "scattercarpet": [
           {
            "marker": {
             "colorbar": {
              "outlinewidth": 0,
              "ticks": ""
             }
            },
            "type": "scattercarpet"
           }
          ],
          "scattergeo": [
           {
            "marker": {
             "colorbar": {
              "outlinewidth": 0,
              "ticks": ""
             }
            },
            "type": "scattergeo"
           }
          ],
          "scattergl": [
           {
            "marker": {
             "colorbar": {
              "outlinewidth": 0,
              "ticks": ""
             }
            },
            "type": "scattergl"
           }
          ],
          "scattermapbox": [
           {
            "marker": {
             "colorbar": {
              "outlinewidth": 0,
              "ticks": ""
             }
            },
            "type": "scattermapbox"
           }
          ],
          "scatterpolar": [
           {
            "marker": {
             "colorbar": {
              "outlinewidth": 0,
              "ticks": ""
             }
            },
            "type": "scatterpolar"
           }
          ],
          "scatterpolargl": [
           {
            "marker": {
             "colorbar": {
              "outlinewidth": 0,
              "ticks": ""
             }
            },
            "type": "scatterpolargl"
           }
          ],
          "scatterternary": [
           {
            "marker": {
             "colorbar": {
              "outlinewidth": 0,
              "ticks": ""
             }
            },
            "type": "scatterternary"
           }
          ],
          "surface": [
           {
            "colorbar": {
             "outlinewidth": 0,
             "ticks": ""
            },
            "colorscale": [
             [
              0,
              "#0d0887"
             ],
             [
              0.1111111111111111,
              "#46039f"
             ],
             [
              0.2222222222222222,
              "#7201a8"
             ],
             [
              0.3333333333333333,
              "#9c179e"
             ],
             [
              0.4444444444444444,
              "#bd3786"
             ],
             [
              0.5555555555555556,
              "#d8576b"
             ],
             [
              0.6666666666666666,
              "#ed7953"
             ],
             [
              0.7777777777777778,
              "#fb9f3a"
             ],
             [
              0.8888888888888888,
              "#fdca26"
             ],
             [
              1,
              "#f0f921"
             ]
            ],
            "type": "surface"
           }
          ],
          "table": [
           {
            "cells": {
             "fill": {
              "color": "#EBF0F8"
             },
             "line": {
              "color": "white"
             }
            },
            "header": {
             "fill": {
              "color": "#C8D4E3"
             },
             "line": {
              "color": "white"
             }
            },
            "type": "table"
           }
          ]
         },
         "layout": {
          "annotationdefaults": {
           "arrowcolor": "#2a3f5f",
           "arrowhead": 0,
           "arrowwidth": 1
          },
          "autotypenumbers": "strict",
          "coloraxis": {
           "colorbar": {
            "outlinewidth": 0,
            "ticks": ""
           }
          },
          "colorscale": {
           "diverging": [
            [
             0,
             "#8e0152"
            ],
            [
             0.1,
             "#c51b7d"
            ],
            [
             0.2,
             "#de77ae"
            ],
            [
             0.3,
             "#f1b6da"
            ],
            [
             0.4,
             "#fde0ef"
            ],
            [
             0.5,
             "#f7f7f7"
            ],
            [
             0.6,
             "#e6f5d0"
            ],
            [
             0.7,
             "#b8e186"
            ],
            [
             0.8,
             "#7fbc41"
            ],
            [
             0.9,
             "#4d9221"
            ],
            [
             1,
             "#276419"
            ]
           ],
           "sequential": [
            [
             0,
             "#0d0887"
            ],
            [
             0.1111111111111111,
             "#46039f"
            ],
            [
             0.2222222222222222,
             "#7201a8"
            ],
            [
             0.3333333333333333,
             "#9c179e"
            ],
            [
             0.4444444444444444,
             "#bd3786"
            ],
            [
             0.5555555555555556,
             "#d8576b"
            ],
            [
             0.6666666666666666,
             "#ed7953"
            ],
            [
             0.7777777777777778,
             "#fb9f3a"
            ],
            [
             0.8888888888888888,
             "#fdca26"
            ],
            [
             1,
             "#f0f921"
            ]
           ],
           "sequentialminus": [
            [
             0,
             "#0d0887"
            ],
            [
             0.1111111111111111,
             "#46039f"
            ],
            [
             0.2222222222222222,
             "#7201a8"
            ],
            [
             0.3333333333333333,
             "#9c179e"
            ],
            [
             0.4444444444444444,
             "#bd3786"
            ],
            [
             0.5555555555555556,
             "#d8576b"
            ],
            [
             0.6666666666666666,
             "#ed7953"
            ],
            [
             0.7777777777777778,
             "#fb9f3a"
            ],
            [
             0.8888888888888888,
             "#fdca26"
            ],
            [
             1,
             "#f0f921"
            ]
           ]
          },
          "colorway": [
           "#636efa",
           "#EF553B",
           "#00cc96",
           "#ab63fa",
           "#FFA15A",
           "#19d3f3",
           "#FF6692",
           "#B6E880",
           "#FF97FF",
           "#FECB52"
          ],
          "font": {
           "color": "#2a3f5f"
          },
          "geo": {
           "bgcolor": "white",
           "lakecolor": "white",
           "landcolor": "#E5ECF6",
           "showlakes": true,
           "showland": true,
           "subunitcolor": "white"
          },
          "hoverlabel": {
           "align": "left"
          },
          "hovermode": "closest",
          "mapbox": {
           "style": "light"
          },
          "paper_bgcolor": "white",
          "plot_bgcolor": "#E5ECF6",
          "polar": {
           "angularaxis": {
            "gridcolor": "white",
            "linecolor": "white",
            "ticks": ""
           },
           "bgcolor": "#E5ECF6",
           "radialaxis": {
            "gridcolor": "white",
            "linecolor": "white",
            "ticks": ""
           }
          },
          "scene": {
           "xaxis": {
            "backgroundcolor": "#E5ECF6",
            "gridcolor": "white",
            "gridwidth": 2,
            "linecolor": "white",
            "showbackground": true,
            "ticks": "",
            "zerolinecolor": "white"
           },
           "yaxis": {
            "backgroundcolor": "#E5ECF6",
            "gridcolor": "white",
            "gridwidth": 2,
            "linecolor": "white",
            "showbackground": true,
            "ticks": "",
            "zerolinecolor": "white"
           },
           "zaxis": {
            "backgroundcolor": "#E5ECF6",
            "gridcolor": "white",
            "gridwidth": 2,
            "linecolor": "white",
            "showbackground": true,
            "ticks": "",
            "zerolinecolor": "white"
           }
          },
          "shapedefaults": {
           "line": {
            "color": "#2a3f5f"
           }
          },
          "ternary": {
           "aaxis": {
            "gridcolor": "white",
            "linecolor": "white",
            "ticks": ""
           },
           "baxis": {
            "gridcolor": "white",
            "linecolor": "white",
            "ticks": ""
           },
           "bgcolor": "#E5ECF6",
           "caxis": {
            "gridcolor": "white",
            "linecolor": "white",
            "ticks": ""
           }
          },
          "title": {
           "x": 0.05
          },
          "xaxis": {
           "automargin": true,
           "gridcolor": "white",
           "linecolor": "white",
           "ticks": "",
           "title": {
            "standoff": 15
           },
           "zerolinecolor": "white",
           "zerolinewidth": 2
          },
          "yaxis": {
           "automargin": true,
           "gridcolor": "white",
           "linecolor": "white",
           "ticks": "",
           "title": {
            "standoff": 15
           },
           "zerolinecolor": "white",
           "zerolinewidth": 2
          }
         }
        },
        "title": {
         "text": "코로나19 VS coronavirus"
        },
        "xaxis": {
         "anchor": "y",
         "domain": [
          0,
          1
         ],
         "title": {
          "text": "Date"
         }
        },
        "yaxis": {
         "anchor": "x",
         "domain": [
          0,
          1
         ],
         "title": {
          "text": "value"
         }
        }
       }
      },
      "text/html": [
       "<div>                            <div id=\"f2060d71-e10f-447a-977a-c2b748a8a454\" class=\"plotly-graph-div\" style=\"height:525px; width:100%;\"></div>            <script type=\"text/javascript\">                require([\"plotly\"], function(Plotly) {                    window.PLOTLYENV=window.PLOTLYENV || {};                                    if (document.getElementById(\"f2060d71-e10f-447a-977a-c2b748a8a454\")) {                    Plotly.newPlot(                        \"f2060d71-e10f-447a-977a-c2b748a8a454\",                        [{\"hovertemplate\":\"keyword=coronavirus<br>Date=%{x}<br>value=%{y}<extra></extra>\",\"legendgroup\":\"coronavirus\",\"line\":{\"color\":\"#636efa\",\"dash\":\"solid\"},\"marker\":{\"symbol\":\"circle\"},\"mode\":\"lines\",\"name\":\"coronavirus\",\"orientation\":\"v\",\"showlegend\":true,\"x\":[\"2019-08-01T00:00:00\",\"2019-09-01T00:00:00\",\"2019-10-01T00:00:00\",\"2019-11-01T00:00:00\",\"2019-12-01T00:00:00\",\"2020-01-01T00:00:00\",\"2020-02-01T00:00:00\",\"2020-03-01T00:00:00\",\"2020-04-01T00:00:00\",\"2020-05-01T00:00:00\",\"2020-06-01T00:00:00\",\"2020-07-01T00:00:00\",\"2020-08-01T00:00:00\",\"2020-09-01T00:00:00\",\"2020-10-01T00:00:00\",\"2020-11-01T00:00:00\",\"2020-12-01T00:00:00\",\"2021-01-01T00:00:00\",\"2021-02-01T00:00:00\",\"2021-03-01T00:00:00\",\"2021-04-01T00:00:00\",\"2021-05-01T00:00:00\",\"2021-06-01T00:00:00\",\"2021-07-01T00:00:00\",\"2021-08-01T00:00:00\",\"2021-09-01T00:00:00\",\"2021-10-01T00:00:00\",\"2021-11-01T00:00:00\",\"2021-12-01T00:00:00\",\"2022-01-01T00:00:00\",\"2022-02-01T00:00:00\",\"2022-03-01T00:00:00\",\"2022-04-01T00:00:00\",\"2022-05-01T00:00:00\",\"2022-06-01T00:00:00\",\"2022-07-01T00:00:00\"],\"xaxis\":\"x\",\"y\":[0.0,0.0,0.0,0.0,0.0,0.002207120622742177,0.019596996762023748,0.09725207255776828,0.12025412976918816,0.1126461462520569,0.07514670599634439,0.07017987072198381,0.06181513509826133,0.05124393654772672,0.03692870415253346,0.0441446530268127,0.05670893068978361,0.03323205836047367,0.02563835554482418,0.026472893864573778,0.01895116724839427,0.02029941323721873,0.016211318151986988,0.009881786378995214,0.01224358726295348,0.01296213677014455,0.014827485453553294,0.01295868066115371,0.01038442060396874,0.009926349008347525,0.005054958650977754,0.0056870502948346575,0.003968065845472682,0.005753173568024634,0.0030312920291679056,0.004391404867708961],\"yaxis\":\"y\",\"type\":\"scatter\"},{\"hovertemplate\":\"keyword=\\ucf54\\ub85c\\ub09819<br>Date=%{x}<br>value=%{y}<extra></extra>\",\"legendgroup\":\"\\ucf54\\ub85c\\ub09819\",\"line\":{\"color\":\"#EF553B\",\"dash\":\"solid\"},\"marker\":{\"symbol\":\"circle\"},\"mode\":\"lines\",\"name\":\"\\ucf54\\ub85c\\ub09819\",\"orientation\":\"v\",\"showlegend\":true,\"x\":[\"2019-08-01T00:00:00\",\"2019-09-01T00:00:00\",\"2019-10-01T00:00:00\",\"2019-11-01T00:00:00\",\"2019-12-01T00:00:00\",\"2020-01-01T00:00:00\",\"2020-02-01T00:00:00\",\"2020-03-01T00:00:00\",\"2020-04-01T00:00:00\",\"2020-05-01T00:00:00\",\"2020-06-01T00:00:00\",\"2020-07-01T00:00:00\",\"2020-08-01T00:00:00\",\"2020-09-01T00:00:00\",\"2020-10-01T00:00:00\",\"2020-11-01T00:00:00\",\"2020-12-01T00:00:00\",\"2021-01-01T00:00:00\",\"2021-02-01T00:00:00\",\"2021-03-01T00:00:00\",\"2021-04-01T00:00:00\",\"2021-05-01T00:00:00\",\"2021-06-01T00:00:00\",\"2021-07-01T00:00:00\",\"2021-08-01T00:00:00\",\"2021-09-01T00:00:00\",\"2021-10-01T00:00:00\",\"2021-11-01T00:00:00\",\"2021-12-01T00:00:00\",\"2022-01-01T00:00:00\",\"2022-02-01T00:00:00\",\"2022-03-01T00:00:00\",\"2022-04-01T00:00:00\",\"2022-05-01T00:00:00\",\"2022-06-01T00:00:00\",\"2022-07-01T00:00:00\"],\"xaxis\":\"x\",\"y\":[0.0,0.0,0.0,0.0,0.0,0.0,0.00912859070417463,0.037515153300074225,0.07940815311228802,0.07735883009405084,0.06521969835451778,0.04769929043092787,0.048791182687561656,0.05074099750485588,0.046573966321306004,0.04140275727561685,0.0439307401941343,0.0461435847866855,0.03618769327807792,0.03744856164259389,0.022206616248519793,0.02344255617281733,0.02168087697779706,0.026839917516027167,0.030719453859903406,0.0280894118648771,0.02456053112063731,0.018517585784535797,0.017322986721761708,0.028012654106704605,0.0197207113878909,0.02101866669015289,0.01563348721278895,0.01178579069793301,0.00999621605336354,0.012903337897423867],\"yaxis\":\"y\",\"type\":\"scatter\"}],                        {\"template\":{\"data\":{\"histogram2dcontour\":[{\"type\":\"histogram2dcontour\",\"colorbar\":{\"outlinewidth\":0,\"ticks\":\"\"},\"colorscale\":[[0.0,\"#0d0887\"],[0.1111111111111111,\"#46039f\"],[0.2222222222222222,\"#7201a8\"],[0.3333333333333333,\"#9c179e\"],[0.4444444444444444,\"#bd3786\"],[0.5555555555555556,\"#d8576b\"],[0.6666666666666666,\"#ed7953\"],[0.7777777777777778,\"#fb9f3a\"],[0.8888888888888888,\"#fdca26\"],[1.0,\"#f0f921\"]]}],\"choropleth\":[{\"type\":\"choropleth\",\"colorbar\":{\"outlinewidth\":0,\"ticks\":\"\"}}],\"histogram2d\":[{\"type\":\"histogram2d\",\"colorbar\":{\"outlinewidth\":0,\"ticks\":\"\"},\"colorscale\":[[0.0,\"#0d0887\"],[0.1111111111111111,\"#46039f\"],[0.2222222222222222,\"#7201a8\"],[0.3333333333333333,\"#9c179e\"],[0.4444444444444444,\"#bd3786\"],[0.5555555555555556,\"#d8576b\"],[0.6666666666666666,\"#ed7953\"],[0.7777777777777778,\"#fb9f3a\"],[0.8888888888888888,\"#fdca26\"],[1.0,\"#f0f921\"]]}],\"heatmap\":[{\"type\":\"heatmap\",\"colorbar\":{\"outlinewidth\":0,\"ticks\":\"\"},\"colorscale\":[[0.0,\"#0d0887\"],[0.1111111111111111,\"#46039f\"],[0.2222222222222222,\"#7201a8\"],[0.3333333333333333,\"#9c179e\"],[0.4444444444444444,\"#bd3786\"],[0.5555555555555556,\"#d8576b\"],[0.6666666666666666,\"#ed7953\"],[0.7777777777777778,\"#fb9f3a\"],[0.8888888888888888,\"#fdca26\"],[1.0,\"#f0f921\"]]}],\"heatmapgl\":[{\"type\":\"heatmapgl\",\"colorbar\":{\"outlinewidth\":0,\"ticks\":\"\"},\"colorscale\":[[0.0,\"#0d0887\"],[0.1111111111111111,\"#46039f\"],[0.2222222222222222,\"#7201a8\"],[0.3333333333333333,\"#9c179e\"],[0.4444444444444444,\"#bd3786\"],[0.5555555555555556,\"#d8576b\"],[0.6666666666666666,\"#ed7953\"],[0.7777777777777778,\"#fb9f3a\"],[0.8888888888888888,\"#fdca26\"],[1.0,\"#f0f921\"]]}],\"contourcarpet\":[{\"type\":\"contourcarpet\",\"colorbar\":{\"outlinewidth\":0,\"ticks\":\"\"}}],\"contour\":[{\"type\":\"contour\",\"colorbar\":{\"outlinewidth\":0,\"ticks\":\"\"},\"colorscale\":[[0.0,\"#0d0887\"],[0.1111111111111111,\"#46039f\"],[0.2222222222222222,\"#7201a8\"],[0.3333333333333333,\"#9c179e\"],[0.4444444444444444,\"#bd3786\"],[0.5555555555555556,\"#d8576b\"],[0.6666666666666666,\"#ed7953\"],[0.7777777777777778,\"#fb9f3a\"],[0.8888888888888888,\"#fdca26\"],[1.0,\"#f0f921\"]]}],\"surface\":[{\"type\":\"surface\",\"colorbar\":{\"outlinewidth\":0,\"ticks\":\"\"},\"colorscale\":[[0.0,\"#0d0887\"],[0.1111111111111111,\"#46039f\"],[0.2222222222222222,\"#7201a8\"],[0.3333333333333333,\"#9c179e\"],[0.4444444444444444,\"#bd3786\"],[0.5555555555555556,\"#d8576b\"],[0.6666666666666666,\"#ed7953\"],[0.7777777777777778,\"#fb9f3a\"],[0.8888888888888888,\"#fdca26\"],[1.0,\"#f0f921\"]]}],\"mesh3d\":[{\"type\":\"mesh3d\",\"colorbar\":{\"outlinewidth\":0,\"ticks\":\"\"}}],\"scatter\":[{\"fillpattern\":{\"fillmode\":\"overlay\",\"size\":10,\"solidity\":0.2},\"type\":\"scatter\"}],\"parcoords\":[{\"type\":\"parcoords\",\"line\":{\"colorbar\":{\"outlinewidth\":0,\"ticks\":\"\"}}}],\"scatterpolargl\":[{\"type\":\"scatterpolargl\",\"marker\":{\"colorbar\":{\"outlinewidth\":0,\"ticks\":\"\"}}}],\"bar\":[{\"error_x\":{\"color\":\"#2a3f5f\"},\"error_y\":{\"color\":\"#2a3f5f\"},\"marker\":{\"line\":{\"color\":\"#E5ECF6\",\"width\":0.5},\"pattern\":{\"fillmode\":\"overlay\",\"size\":10,\"solidity\":0.2}},\"type\":\"bar\"}],\"scattergeo\":[{\"type\":\"scattergeo\",\"marker\":{\"colorbar\":{\"outlinewidth\":0,\"ticks\":\"\"}}}],\"scatterpolar\":[{\"type\":\"scatterpolar\",\"marker\":{\"colorbar\":{\"outlinewidth\":0,\"ticks\":\"\"}}}],\"histogram\":[{\"marker\":{\"pattern\":{\"fillmode\":\"overlay\",\"size\":10,\"solidity\":0.2}},\"type\":\"histogram\"}],\"scattergl\":[{\"type\":\"scattergl\",\"marker\":{\"colorbar\":{\"outlinewidth\":0,\"ticks\":\"\"}}}],\"scatter3d\":[{\"type\":\"scatter3d\",\"line\":{\"colorbar\":{\"outlinewidth\":0,\"ticks\":\"\"}},\"marker\":{\"colorbar\":{\"outlinewidth\":0,\"ticks\":\"\"}}}],\"scattermapbox\":[{\"type\":\"scattermapbox\",\"marker\":{\"colorbar\":{\"outlinewidth\":0,\"ticks\":\"\"}}}],\"scatterternary\":[{\"type\":\"scatterternary\",\"marker\":{\"colorbar\":{\"outlinewidth\":0,\"ticks\":\"\"}}}],\"scattercarpet\":[{\"type\":\"scattercarpet\",\"marker\":{\"colorbar\":{\"outlinewidth\":0,\"ticks\":\"\"}}}],\"carpet\":[{\"aaxis\":{\"endlinecolor\":\"#2a3f5f\",\"gridcolor\":\"white\",\"linecolor\":\"white\",\"minorgridcolor\":\"white\",\"startlinecolor\":\"#2a3f5f\"},\"baxis\":{\"endlinecolor\":\"#2a3f5f\",\"gridcolor\":\"white\",\"linecolor\":\"white\",\"minorgridcolor\":\"white\",\"startlinecolor\":\"#2a3f5f\"},\"type\":\"carpet\"}],\"table\":[{\"cells\":{\"fill\":{\"color\":\"#EBF0F8\"},\"line\":{\"color\":\"white\"}},\"header\":{\"fill\":{\"color\":\"#C8D4E3\"},\"line\":{\"color\":\"white\"}},\"type\":\"table\"}],\"barpolar\":[{\"marker\":{\"line\":{\"color\":\"#E5ECF6\",\"width\":0.5},\"pattern\":{\"fillmode\":\"overlay\",\"size\":10,\"solidity\":0.2}},\"type\":\"barpolar\"}],\"pie\":[{\"automargin\":true,\"type\":\"pie\"}]},\"layout\":{\"autotypenumbers\":\"strict\",\"colorway\":[\"#636efa\",\"#EF553B\",\"#00cc96\",\"#ab63fa\",\"#FFA15A\",\"#19d3f3\",\"#FF6692\",\"#B6E880\",\"#FF97FF\",\"#FECB52\"],\"font\":{\"color\":\"#2a3f5f\"},\"hovermode\":\"closest\",\"hoverlabel\":{\"align\":\"left\"},\"paper_bgcolor\":\"white\",\"plot_bgcolor\":\"#E5ECF6\",\"polar\":{\"bgcolor\":\"#E5ECF6\",\"angularaxis\":{\"gridcolor\":\"white\",\"linecolor\":\"white\",\"ticks\":\"\"},\"radialaxis\":{\"gridcolor\":\"white\",\"linecolor\":\"white\",\"ticks\":\"\"}},\"ternary\":{\"bgcolor\":\"#E5ECF6\",\"aaxis\":{\"gridcolor\":\"white\",\"linecolor\":\"white\",\"ticks\":\"\"},\"baxis\":{\"gridcolor\":\"white\",\"linecolor\":\"white\",\"ticks\":\"\"},\"caxis\":{\"gridcolor\":\"white\",\"linecolor\":\"white\",\"ticks\":\"\"}},\"coloraxis\":{\"colorbar\":{\"outlinewidth\":0,\"ticks\":\"\"}},\"colorscale\":{\"sequential\":[[0.0,\"#0d0887\"],[0.1111111111111111,\"#46039f\"],[0.2222222222222222,\"#7201a8\"],[0.3333333333333333,\"#9c179e\"],[0.4444444444444444,\"#bd3786\"],[0.5555555555555556,\"#d8576b\"],[0.6666666666666666,\"#ed7953\"],[0.7777777777777778,\"#fb9f3a\"],[0.8888888888888888,\"#fdca26\"],[1.0,\"#f0f921\"]],\"sequentialminus\":[[0.0,\"#0d0887\"],[0.1111111111111111,\"#46039f\"],[0.2222222222222222,\"#7201a8\"],[0.3333333333333333,\"#9c179e\"],[0.4444444444444444,\"#bd3786\"],[0.5555555555555556,\"#d8576b\"],[0.6666666666666666,\"#ed7953\"],[0.7777777777777778,\"#fb9f3a\"],[0.8888888888888888,\"#fdca26\"],[1.0,\"#f0f921\"]],\"diverging\":[[0,\"#8e0152\"],[0.1,\"#c51b7d\"],[0.2,\"#de77ae\"],[0.3,\"#f1b6da\"],[0.4,\"#fde0ef\"],[0.5,\"#f7f7f7\"],[0.6,\"#e6f5d0\"],[0.7,\"#b8e186\"],[0.8,\"#7fbc41\"],[0.9,\"#4d9221\"],[1,\"#276419\"]]},\"xaxis\":{\"gridcolor\":\"white\",\"linecolor\":\"white\",\"ticks\":\"\",\"title\":{\"standoff\":15},\"zerolinecolor\":\"white\",\"automargin\":true,\"zerolinewidth\":2},\"yaxis\":{\"gridcolor\":\"white\",\"linecolor\":\"white\",\"ticks\":\"\",\"title\":{\"standoff\":15},\"zerolinecolor\":\"white\",\"automargin\":true,\"zerolinewidth\":2},\"scene\":{\"xaxis\":{\"backgroundcolor\":\"#E5ECF6\",\"gridcolor\":\"white\",\"linecolor\":\"white\",\"showbackground\":true,\"ticks\":\"\",\"zerolinecolor\":\"white\",\"gridwidth\":2},\"yaxis\":{\"backgroundcolor\":\"#E5ECF6\",\"gridcolor\":\"white\",\"linecolor\":\"white\",\"showbackground\":true,\"ticks\":\"\",\"zerolinecolor\":\"white\",\"gridwidth\":2},\"zaxis\":{\"backgroundcolor\":\"#E5ECF6\",\"gridcolor\":\"white\",\"linecolor\":\"white\",\"showbackground\":true,\"ticks\":\"\",\"zerolinecolor\":\"white\",\"gridwidth\":2}},\"shapedefaults\":{\"line\":{\"color\":\"#2a3f5f\"}},\"annotationdefaults\":{\"arrowcolor\":\"#2a3f5f\",\"arrowhead\":0,\"arrowwidth\":1},\"geo\":{\"bgcolor\":\"white\",\"landcolor\":\"#E5ECF6\",\"subunitcolor\":\"white\",\"showland\":true,\"showlakes\":true,\"lakecolor\":\"white\"},\"title\":{\"x\":0.05},\"mapbox\":{\"style\":\"light\"}}},\"xaxis\":{\"anchor\":\"y\",\"domain\":[0.0,1.0],\"title\":{\"text\":\"Date\"}},\"yaxis\":{\"anchor\":\"x\",\"domain\":[0.0,1.0],\"title\":{\"text\":\"value\"}},\"legend\":{\"title\":{\"text\":\"keyword\"},\"tracegroupgap\":0},\"title\":{\"text\":\"\\ucf54\\ub85c\\ub09819 VS coronavirus\"}},                        {\"responsive\": true}                    ).then(function(){\n",
       "                            \n",
       "var gd = document.getElementById('f2060d71-e10f-447a-977a-c2b748a8a454');\n",
       "var x = new MutationObserver(function (mutations, observer) {{\n",
       "        var display = window.getComputedStyle(gd).display;\n",
       "        if (!display || display === 'none') {{\n",
       "            console.log([gd, 'removed!']);\n",
       "            Plotly.purge(gd);\n",
       "            observer.disconnect();\n",
       "        }}\n",
       "}});\n",
       "\n",
       "// Listen for the removal of the full notebook cells\n",
       "var notebookContainer = gd.closest('#notebook-container');\n",
       "if (notebookContainer) {{\n",
       "    x.observe(notebookContainer, {childList: true});\n",
       "}}\n",
       "\n",
       "// Listen for the clearing of the current output cell\n",
       "var outputEl = gd.closest('.output');\n",
       "if (outputEl) {{\n",
       "    x.observe(outputEl, {childList: true});\n",
       "}}\n",
       "\n",
       "                        })                };                });            </script>        </div>"
      ]
     },
     "metadata": {},
     "output_type": "display_data"
    }
   ],
   "source": [
    "key_k = '코로나19'\n",
    "key_e = 'coronavirus'\n",
    "keyCmp(key_k,key_e,df_ks.iloc[:,12:],df_es)"
   ]
  },
  {
   "cell_type": "code",
   "execution_count": 77,
   "id": "372247bf",
   "metadata": {
    "scrolled": true
   },
   "outputs": [
    {
     "data": {
      "application/vnd.plotly.v1+json": {
       "config": {
        "plotlyServerURL": "https://plot.ly"
       },
       "data": [
        {
         "hovertemplate": "keyword=cbdc(en)<br>Date=%{x}<br>value=%{y}<extra></extra>",
         "legendgroup": "cbdc(en)",
         "line": {
          "color": "#636efa",
          "dash": "solid"
         },
         "marker": {
          "symbol": "circle"
         },
         "mode": "lines",
         "name": "cbdc(en)",
         "orientation": "v",
         "showlegend": true,
         "type": "scatter",
         "x": [
          "2019-08-01T00:00:00",
          "2019-09-01T00:00:00",
          "2019-10-01T00:00:00",
          "2019-11-01T00:00:00",
          "2019-12-01T00:00:00",
          "2020-01-01T00:00:00",
          "2020-02-01T00:00:00",
          "2020-03-01T00:00:00",
          "2020-04-01T00:00:00",
          "2020-05-01T00:00:00",
          "2020-06-01T00:00:00",
          "2020-07-01T00:00:00",
          "2020-08-01T00:00:00",
          "2020-09-01T00:00:00",
          "2020-10-01T00:00:00",
          "2020-11-01T00:00:00",
          "2020-12-01T00:00:00",
          "2021-01-01T00:00:00",
          "2021-02-01T00:00:00",
          "2021-03-01T00:00:00",
          "2021-04-01T00:00:00",
          "2021-05-01T00:00:00",
          "2021-06-01T00:00:00",
          "2021-07-01T00:00:00",
          "2021-08-01T00:00:00",
          "2021-09-01T00:00:00",
          "2021-10-01T00:00:00",
          "2021-11-01T00:00:00",
          "2021-12-01T00:00:00",
          "2022-01-01T00:00:00",
          "2022-02-01T00:00:00",
          "2022-03-01T00:00:00",
          "2022-04-01T00:00:00",
          "2022-05-01T00:00:00",
          "2022-06-01T00:00:00",
          "2022-07-01T00:00:00"
         ],
         "xaxis": "x",
         "y": [
          0.018043674228006238,
          0,
          0.00321490506285125,
          0.007060691103855382,
          0.008454412615066334,
          0.010436165530467282,
          0.013899387736299656,
          0.010862537516672956,
          0.0074328172489402,
          0.029128579037394187,
          0.01134013539120321,
          0.02982822665079686,
          0.007794323826574856,
          0.010534878688123823,
          0.01904879549929403,
          0.03274257332493659,
          0.018707646187048347,
          0.016716458654198834,
          0.027709392138751197,
          0.02554584240628876,
          0.029869613281351376,
          0.04479248488504689,
          0.034362011089410525,
          0.05771925605192372,
          0.034735601320461974,
          0.033709645029071394,
          0.03926181965755401,
          0.05291838700721029,
          0.020218376475782156,
          0.0335255873638136,
          0.05676702198931223,
          0.09411741785157568,
          0.056287895966052,
          0.05440669718070756,
          0.031272400853144,
          0.017534341150812708
         ],
         "yaxis": "y"
        },
        {
         "hovertemplate": "keyword=cbdc<br>Date=%{x}<br>value=%{y}<extra></extra>",
         "legendgroup": "cbdc",
         "line": {
          "color": "#EF553B",
          "dash": "solid"
         },
         "marker": {
          "symbol": "circle"
         },
         "mode": "lines",
         "name": "cbdc",
         "orientation": "v",
         "showlegend": true,
         "type": "scatter",
         "x": [
          "2019-08-01T00:00:00",
          "2019-09-01T00:00:00",
          "2019-10-01T00:00:00",
          "2019-11-01T00:00:00",
          "2019-12-01T00:00:00",
          "2020-01-01T00:00:00",
          "2020-02-01T00:00:00",
          "2020-03-01T00:00:00",
          "2020-04-01T00:00:00",
          "2020-05-01T00:00:00",
          "2020-06-01T00:00:00",
          "2020-07-01T00:00:00",
          "2020-08-01T00:00:00",
          "2020-09-01T00:00:00",
          "2020-10-01T00:00:00",
          "2020-11-01T00:00:00",
          "2020-12-01T00:00:00",
          "2021-01-01T00:00:00",
          "2021-02-01T00:00:00",
          "2021-03-01T00:00:00",
          "2021-04-01T00:00:00",
          "2021-05-01T00:00:00",
          "2021-06-01T00:00:00",
          "2021-07-01T00:00:00",
          "2021-08-01T00:00:00",
          "2021-09-01T00:00:00",
          "2021-10-01T00:00:00",
          "2021-11-01T00:00:00",
          "2021-12-01T00:00:00",
          "2022-01-01T00:00:00",
          "2022-02-01T00:00:00",
          "2022-03-01T00:00:00",
          "2022-04-01T00:00:00",
          "2022-05-01T00:00:00",
          "2022-06-01T00:00:00",
          "2022-07-01T00:00:00"
         ],
         "xaxis": "x",
         "y": [
          0.008367037263446524,
          0.01901287307568537,
          0.019465570948931473,
          0.016679619891315937,
          0.020419298704026555,
          0.016195712879915253,
          0.04183908203938996,
          0.03919899649450289,
          0.02332690110848341,
          0.023463451979169776,
          0.022379152060649513,
          0.008618944919235124,
          0.00620924178886869,
          0.00137411471792613,
          0.029375576479274208,
          0.022897292675601193,
          0.028108453651180542,
          0.01034586682338739,
          0.07418241837832872,
          0.030945485788114693,
          0.07127423955748986,
          0.10985201459202475,
          0.03757688795126036,
          0.052914725409853064,
          0.04043407107248486,
          0.017211529296861382,
          0.036338408807646924,
          0.018368453698308054,
          0.010853701136898198,
          0.026802605233792264,
          0.01163054670960713,
          0.01690634935710494,
          0.031093387006954947,
          0.017331924173560512,
          0.009187634452148508,
          0.02981842987657069
         ],
         "yaxis": "y"
        }
       ],
       "layout": {
        "legend": {
         "title": {
          "text": "keyword"
         },
         "tracegroupgap": 0
        },
        "template": {
         "data": {
          "bar": [
           {
            "error_x": {
             "color": "#2a3f5f"
            },
            "error_y": {
             "color": "#2a3f5f"
            },
            "marker": {
             "line": {
              "color": "#E5ECF6",
              "width": 0.5
             },
             "pattern": {
              "fillmode": "overlay",
              "size": 10,
              "solidity": 0.2
             }
            },
            "type": "bar"
           }
          ],
          "barpolar": [
           {
            "marker": {
             "line": {
              "color": "#E5ECF6",
              "width": 0.5
             },
             "pattern": {
              "fillmode": "overlay",
              "size": 10,
              "solidity": 0.2
             }
            },
            "type": "barpolar"
           }
          ],
          "carpet": [
           {
            "aaxis": {
             "endlinecolor": "#2a3f5f",
             "gridcolor": "white",
             "linecolor": "white",
             "minorgridcolor": "white",
             "startlinecolor": "#2a3f5f"
            },
            "baxis": {
             "endlinecolor": "#2a3f5f",
             "gridcolor": "white",
             "linecolor": "white",
             "minorgridcolor": "white",
             "startlinecolor": "#2a3f5f"
            },
            "type": "carpet"
           }
          ],
          "choropleth": [
           {
            "colorbar": {
             "outlinewidth": 0,
             "ticks": ""
            },
            "type": "choropleth"
           }
          ],
          "contour": [
           {
            "colorbar": {
             "outlinewidth": 0,
             "ticks": ""
            },
            "colorscale": [
             [
              0,
              "#0d0887"
             ],
             [
              0.1111111111111111,
              "#46039f"
             ],
             [
              0.2222222222222222,
              "#7201a8"
             ],
             [
              0.3333333333333333,
              "#9c179e"
             ],
             [
              0.4444444444444444,
              "#bd3786"
             ],
             [
              0.5555555555555556,
              "#d8576b"
             ],
             [
              0.6666666666666666,
              "#ed7953"
             ],
             [
              0.7777777777777778,
              "#fb9f3a"
             ],
             [
              0.8888888888888888,
              "#fdca26"
             ],
             [
              1,
              "#f0f921"
             ]
            ],
            "type": "contour"
           }
          ],
          "contourcarpet": [
           {
            "colorbar": {
             "outlinewidth": 0,
             "ticks": ""
            },
            "type": "contourcarpet"
           }
          ],
          "heatmap": [
           {
            "colorbar": {
             "outlinewidth": 0,
             "ticks": ""
            },
            "colorscale": [
             [
              0,
              "#0d0887"
             ],
             [
              0.1111111111111111,
              "#46039f"
             ],
             [
              0.2222222222222222,
              "#7201a8"
             ],
             [
              0.3333333333333333,
              "#9c179e"
             ],
             [
              0.4444444444444444,
              "#bd3786"
             ],
             [
              0.5555555555555556,
              "#d8576b"
             ],
             [
              0.6666666666666666,
              "#ed7953"
             ],
             [
              0.7777777777777778,
              "#fb9f3a"
             ],
             [
              0.8888888888888888,
              "#fdca26"
             ],
             [
              1,
              "#f0f921"
             ]
            ],
            "type": "heatmap"
           }
          ],
          "heatmapgl": [
           {
            "colorbar": {
             "outlinewidth": 0,
             "ticks": ""
            },
            "colorscale": [
             [
              0,
              "#0d0887"
             ],
             [
              0.1111111111111111,
              "#46039f"
             ],
             [
              0.2222222222222222,
              "#7201a8"
             ],
             [
              0.3333333333333333,
              "#9c179e"
             ],
             [
              0.4444444444444444,
              "#bd3786"
             ],
             [
              0.5555555555555556,
              "#d8576b"
             ],
             [
              0.6666666666666666,
              "#ed7953"
             ],
             [
              0.7777777777777778,
              "#fb9f3a"
             ],
             [
              0.8888888888888888,
              "#fdca26"
             ],
             [
              1,
              "#f0f921"
             ]
            ],
            "type": "heatmapgl"
           }
          ],
          "histogram": [
           {
            "marker": {
             "pattern": {
              "fillmode": "overlay",
              "size": 10,
              "solidity": 0.2
             }
            },
            "type": "histogram"
           }
          ],
          "histogram2d": [
           {
            "colorbar": {
             "outlinewidth": 0,
             "ticks": ""
            },
            "colorscale": [
             [
              0,
              "#0d0887"
             ],
             [
              0.1111111111111111,
              "#46039f"
             ],
             [
              0.2222222222222222,
              "#7201a8"
             ],
             [
              0.3333333333333333,
              "#9c179e"
             ],
             [
              0.4444444444444444,
              "#bd3786"
             ],
             [
              0.5555555555555556,
              "#d8576b"
             ],
             [
              0.6666666666666666,
              "#ed7953"
             ],
             [
              0.7777777777777778,
              "#fb9f3a"
             ],
             [
              0.8888888888888888,
              "#fdca26"
             ],
             [
              1,
              "#f0f921"
             ]
            ],
            "type": "histogram2d"
           }
          ],
          "histogram2dcontour": [
           {
            "colorbar": {
             "outlinewidth": 0,
             "ticks": ""
            },
            "colorscale": [
             [
              0,
              "#0d0887"
             ],
             [
              0.1111111111111111,
              "#46039f"
             ],
             [
              0.2222222222222222,
              "#7201a8"
             ],
             [
              0.3333333333333333,
              "#9c179e"
             ],
             [
              0.4444444444444444,
              "#bd3786"
             ],
             [
              0.5555555555555556,
              "#d8576b"
             ],
             [
              0.6666666666666666,
              "#ed7953"
             ],
             [
              0.7777777777777778,
              "#fb9f3a"
             ],
             [
              0.8888888888888888,
              "#fdca26"
             ],
             [
              1,
              "#f0f921"
             ]
            ],
            "type": "histogram2dcontour"
           }
          ],
          "mesh3d": [
           {
            "colorbar": {
             "outlinewidth": 0,
             "ticks": ""
            },
            "type": "mesh3d"
           }
          ],
          "parcoords": [
           {
            "line": {
             "colorbar": {
              "outlinewidth": 0,
              "ticks": ""
             }
            },
            "type": "parcoords"
           }
          ],
          "pie": [
           {
            "automargin": true,
            "type": "pie"
           }
          ],
          "scatter": [
           {
            "fillpattern": {
             "fillmode": "overlay",
             "size": 10,
             "solidity": 0.2
            },
            "type": "scatter"
           }
          ],
          "scatter3d": [
           {
            "line": {
             "colorbar": {
              "outlinewidth": 0,
              "ticks": ""
             }
            },
            "marker": {
             "colorbar": {
              "outlinewidth": 0,
              "ticks": ""
             }
            },
            "type": "scatter3d"
           }
          ],
          "scattercarpet": [
           {
            "marker": {
             "colorbar": {
              "outlinewidth": 0,
              "ticks": ""
             }
            },
            "type": "scattercarpet"
           }
          ],
          "scattergeo": [
           {
            "marker": {
             "colorbar": {
              "outlinewidth": 0,
              "ticks": ""
             }
            },
            "type": "scattergeo"
           }
          ],
          "scattergl": [
           {
            "marker": {
             "colorbar": {
              "outlinewidth": 0,
              "ticks": ""
             }
            },
            "type": "scattergl"
           }
          ],
          "scattermapbox": [
           {
            "marker": {
             "colorbar": {
              "outlinewidth": 0,
              "ticks": ""
             }
            },
            "type": "scattermapbox"
           }
          ],
          "scatterpolar": [
           {
            "marker": {
             "colorbar": {
              "outlinewidth": 0,
              "ticks": ""
             }
            },
            "type": "scatterpolar"
           }
          ],
          "scatterpolargl": [
           {
            "marker": {
             "colorbar": {
              "outlinewidth": 0,
              "ticks": ""
             }
            },
            "type": "scatterpolargl"
           }
          ],
          "scatterternary": [
           {
            "marker": {
             "colorbar": {
              "outlinewidth": 0,
              "ticks": ""
             }
            },
            "type": "scatterternary"
           }
          ],
          "surface": [
           {
            "colorbar": {
             "outlinewidth": 0,
             "ticks": ""
            },
            "colorscale": [
             [
              0,
              "#0d0887"
             ],
             [
              0.1111111111111111,
              "#46039f"
             ],
             [
              0.2222222222222222,
              "#7201a8"
             ],
             [
              0.3333333333333333,
              "#9c179e"
             ],
             [
              0.4444444444444444,
              "#bd3786"
             ],
             [
              0.5555555555555556,
              "#d8576b"
             ],
             [
              0.6666666666666666,
              "#ed7953"
             ],
             [
              0.7777777777777778,
              "#fb9f3a"
             ],
             [
              0.8888888888888888,
              "#fdca26"
             ],
             [
              1,
              "#f0f921"
             ]
            ],
            "type": "surface"
           }
          ],
          "table": [
           {
            "cells": {
             "fill": {
              "color": "#EBF0F8"
             },
             "line": {
              "color": "white"
             }
            },
            "header": {
             "fill": {
              "color": "#C8D4E3"
             },
             "line": {
              "color": "white"
             }
            },
            "type": "table"
           }
          ]
         },
         "layout": {
          "annotationdefaults": {
           "arrowcolor": "#2a3f5f",
           "arrowhead": 0,
           "arrowwidth": 1
          },
          "autotypenumbers": "strict",
          "coloraxis": {
           "colorbar": {
            "outlinewidth": 0,
            "ticks": ""
           }
          },
          "colorscale": {
           "diverging": [
            [
             0,
             "#8e0152"
            ],
            [
             0.1,
             "#c51b7d"
            ],
            [
             0.2,
             "#de77ae"
            ],
            [
             0.3,
             "#f1b6da"
            ],
            [
             0.4,
             "#fde0ef"
            ],
            [
             0.5,
             "#f7f7f7"
            ],
            [
             0.6,
             "#e6f5d0"
            ],
            [
             0.7,
             "#b8e186"
            ],
            [
             0.8,
             "#7fbc41"
            ],
            [
             0.9,
             "#4d9221"
            ],
            [
             1,
             "#276419"
            ]
           ],
           "sequential": [
            [
             0,
             "#0d0887"
            ],
            [
             0.1111111111111111,
             "#46039f"
            ],
            [
             0.2222222222222222,
             "#7201a8"
            ],
            [
             0.3333333333333333,
             "#9c179e"
            ],
            [
             0.4444444444444444,
             "#bd3786"
            ],
            [
             0.5555555555555556,
             "#d8576b"
            ],
            [
             0.6666666666666666,
             "#ed7953"
            ],
            [
             0.7777777777777778,
             "#fb9f3a"
            ],
            [
             0.8888888888888888,
             "#fdca26"
            ],
            [
             1,
             "#f0f921"
            ]
           ],
           "sequentialminus": [
            [
             0,
             "#0d0887"
            ],
            [
             0.1111111111111111,
             "#46039f"
            ],
            [
             0.2222222222222222,
             "#7201a8"
            ],
            [
             0.3333333333333333,
             "#9c179e"
            ],
            [
             0.4444444444444444,
             "#bd3786"
            ],
            [
             0.5555555555555556,
             "#d8576b"
            ],
            [
             0.6666666666666666,
             "#ed7953"
            ],
            [
             0.7777777777777778,
             "#fb9f3a"
            ],
            [
             0.8888888888888888,
             "#fdca26"
            ],
            [
             1,
             "#f0f921"
            ]
           ]
          },
          "colorway": [
           "#636efa",
           "#EF553B",
           "#00cc96",
           "#ab63fa",
           "#FFA15A",
           "#19d3f3",
           "#FF6692",
           "#B6E880",
           "#FF97FF",
           "#FECB52"
          ],
          "font": {
           "color": "#2a3f5f"
          },
          "geo": {
           "bgcolor": "white",
           "lakecolor": "white",
           "landcolor": "#E5ECF6",
           "showlakes": true,
           "showland": true,
           "subunitcolor": "white"
          },
          "hoverlabel": {
           "align": "left"
          },
          "hovermode": "closest",
          "mapbox": {
           "style": "light"
          },
          "paper_bgcolor": "white",
          "plot_bgcolor": "#E5ECF6",
          "polar": {
           "angularaxis": {
            "gridcolor": "white",
            "linecolor": "white",
            "ticks": ""
           },
           "bgcolor": "#E5ECF6",
           "radialaxis": {
            "gridcolor": "white",
            "linecolor": "white",
            "ticks": ""
           }
          },
          "scene": {
           "xaxis": {
            "backgroundcolor": "#E5ECF6",
            "gridcolor": "white",
            "gridwidth": 2,
            "linecolor": "white",
            "showbackground": true,
            "ticks": "",
            "zerolinecolor": "white"
           },
           "yaxis": {
            "backgroundcolor": "#E5ECF6",
            "gridcolor": "white",
            "gridwidth": 2,
            "linecolor": "white",
            "showbackground": true,
            "ticks": "",
            "zerolinecolor": "white"
           },
           "zaxis": {
            "backgroundcolor": "#E5ECF6",
            "gridcolor": "white",
            "gridwidth": 2,
            "linecolor": "white",
            "showbackground": true,
            "ticks": "",
            "zerolinecolor": "white"
           }
          },
          "shapedefaults": {
           "line": {
            "color": "#2a3f5f"
           }
          },
          "ternary": {
           "aaxis": {
            "gridcolor": "white",
            "linecolor": "white",
            "ticks": ""
           },
           "baxis": {
            "gridcolor": "white",
            "linecolor": "white",
            "ticks": ""
           },
           "bgcolor": "#E5ECF6",
           "caxis": {
            "gridcolor": "white",
            "linecolor": "white",
            "ticks": ""
           }
          },
          "title": {
           "x": 0.05
          },
          "xaxis": {
           "automargin": true,
           "gridcolor": "white",
           "linecolor": "white",
           "ticks": "",
           "title": {
            "standoff": 15
           },
           "zerolinecolor": "white",
           "zerolinewidth": 2
          },
          "yaxis": {
           "automargin": true,
           "gridcolor": "white",
           "linecolor": "white",
           "ticks": "",
           "title": {
            "standoff": 15
           },
           "zerolinecolor": "white",
           "zerolinewidth": 2
          }
         }
        },
        "title": {
         "text": "cbdc VS cbdc"
        },
        "xaxis": {
         "anchor": "y",
         "domain": [
          0,
          1
         ],
         "title": {
          "text": "Date"
         }
        },
        "yaxis": {
         "anchor": "x",
         "domain": [
          0,
          1
         ],
         "title": {
          "text": "value"
         }
        }
       }
      },
      "text/html": [
       "<div>                            <div id=\"38884ddf-0ff5-4242-8a32-34cc6ee8b6d4\" class=\"plotly-graph-div\" style=\"height:525px; width:100%;\"></div>            <script type=\"text/javascript\">                require([\"plotly\"], function(Plotly) {                    window.PLOTLYENV=window.PLOTLYENV || {};                                    if (document.getElementById(\"38884ddf-0ff5-4242-8a32-34cc6ee8b6d4\")) {                    Plotly.newPlot(                        \"38884ddf-0ff5-4242-8a32-34cc6ee8b6d4\",                        [{\"hovertemplate\":\"keyword=cbdc(en)<br>Date=%{x}<br>value=%{y}<extra></extra>\",\"legendgroup\":\"cbdc(en)\",\"line\":{\"color\":\"#636efa\",\"dash\":\"solid\"},\"marker\":{\"symbol\":\"circle\"},\"mode\":\"lines\",\"name\":\"cbdc(en)\",\"orientation\":\"v\",\"showlegend\":true,\"x\":[\"2019-08-01T00:00:00\",\"2019-09-01T00:00:00\",\"2019-10-01T00:00:00\",\"2019-11-01T00:00:00\",\"2019-12-01T00:00:00\",\"2020-01-01T00:00:00\",\"2020-02-01T00:00:00\",\"2020-03-01T00:00:00\",\"2020-04-01T00:00:00\",\"2020-05-01T00:00:00\",\"2020-06-01T00:00:00\",\"2020-07-01T00:00:00\",\"2020-08-01T00:00:00\",\"2020-09-01T00:00:00\",\"2020-10-01T00:00:00\",\"2020-11-01T00:00:00\",\"2020-12-01T00:00:00\",\"2021-01-01T00:00:00\",\"2021-02-01T00:00:00\",\"2021-03-01T00:00:00\",\"2021-04-01T00:00:00\",\"2021-05-01T00:00:00\",\"2021-06-01T00:00:00\",\"2021-07-01T00:00:00\",\"2021-08-01T00:00:00\",\"2021-09-01T00:00:00\",\"2021-10-01T00:00:00\",\"2021-11-01T00:00:00\",\"2021-12-01T00:00:00\",\"2022-01-01T00:00:00\",\"2022-02-01T00:00:00\",\"2022-03-01T00:00:00\",\"2022-04-01T00:00:00\",\"2022-05-01T00:00:00\",\"2022-06-01T00:00:00\",\"2022-07-01T00:00:00\"],\"xaxis\":\"x\",\"y\":[0.018043674228006238,0.0,0.00321490506285125,0.007060691103855382,0.008454412615066334,0.010436165530467282,0.013899387736299656,0.010862537516672956,0.0074328172489402,0.029128579037394187,0.01134013539120321,0.02982822665079686,0.007794323826574856,0.010534878688123823,0.01904879549929403,0.03274257332493659,0.018707646187048347,0.016716458654198834,0.027709392138751197,0.02554584240628876,0.029869613281351376,0.04479248488504689,0.034362011089410525,0.05771925605192372,0.034735601320461974,0.033709645029071394,0.03926181965755401,0.05291838700721029,0.020218376475782156,0.0335255873638136,0.05676702198931223,0.09411741785157568,0.056287895966052,0.05440669718070756,0.031272400853144,0.017534341150812708],\"yaxis\":\"y\",\"type\":\"scatter\"},{\"hovertemplate\":\"keyword=cbdc<br>Date=%{x}<br>value=%{y}<extra></extra>\",\"legendgroup\":\"cbdc\",\"line\":{\"color\":\"#EF553B\",\"dash\":\"solid\"},\"marker\":{\"symbol\":\"circle\"},\"mode\":\"lines\",\"name\":\"cbdc\",\"orientation\":\"v\",\"showlegend\":true,\"x\":[\"2019-08-01T00:00:00\",\"2019-09-01T00:00:00\",\"2019-10-01T00:00:00\",\"2019-11-01T00:00:00\",\"2019-12-01T00:00:00\",\"2020-01-01T00:00:00\",\"2020-02-01T00:00:00\",\"2020-03-01T00:00:00\",\"2020-04-01T00:00:00\",\"2020-05-01T00:00:00\",\"2020-06-01T00:00:00\",\"2020-07-01T00:00:00\",\"2020-08-01T00:00:00\",\"2020-09-01T00:00:00\",\"2020-10-01T00:00:00\",\"2020-11-01T00:00:00\",\"2020-12-01T00:00:00\",\"2021-01-01T00:00:00\",\"2021-02-01T00:00:00\",\"2021-03-01T00:00:00\",\"2021-04-01T00:00:00\",\"2021-05-01T00:00:00\",\"2021-06-01T00:00:00\",\"2021-07-01T00:00:00\",\"2021-08-01T00:00:00\",\"2021-09-01T00:00:00\",\"2021-10-01T00:00:00\",\"2021-11-01T00:00:00\",\"2021-12-01T00:00:00\",\"2022-01-01T00:00:00\",\"2022-02-01T00:00:00\",\"2022-03-01T00:00:00\",\"2022-04-01T00:00:00\",\"2022-05-01T00:00:00\",\"2022-06-01T00:00:00\",\"2022-07-01T00:00:00\"],\"xaxis\":\"x\",\"y\":[0.008367037263446524,0.01901287307568537,0.019465570948931473,0.016679619891315937,0.020419298704026555,0.016195712879915253,0.04183908203938996,0.03919899649450289,0.02332690110848341,0.023463451979169776,0.022379152060649513,0.008618944919235124,0.00620924178886869,0.00137411471792613,0.029375576479274208,0.022897292675601193,0.028108453651180542,0.01034586682338739,0.07418241837832872,0.030945485788114693,0.07127423955748986,0.10985201459202475,0.03757688795126036,0.052914725409853064,0.04043407107248486,0.017211529296861382,0.036338408807646924,0.018368453698308054,0.010853701136898198,0.026802605233792264,0.01163054670960713,0.01690634935710494,0.031093387006954947,0.017331924173560512,0.009187634452148508,0.02981842987657069],\"yaxis\":\"y\",\"type\":\"scatter\"}],                        {\"template\":{\"data\":{\"histogram2dcontour\":[{\"type\":\"histogram2dcontour\",\"colorbar\":{\"outlinewidth\":0,\"ticks\":\"\"},\"colorscale\":[[0.0,\"#0d0887\"],[0.1111111111111111,\"#46039f\"],[0.2222222222222222,\"#7201a8\"],[0.3333333333333333,\"#9c179e\"],[0.4444444444444444,\"#bd3786\"],[0.5555555555555556,\"#d8576b\"],[0.6666666666666666,\"#ed7953\"],[0.7777777777777778,\"#fb9f3a\"],[0.8888888888888888,\"#fdca26\"],[1.0,\"#f0f921\"]]}],\"choropleth\":[{\"type\":\"choropleth\",\"colorbar\":{\"outlinewidth\":0,\"ticks\":\"\"}}],\"histogram2d\":[{\"type\":\"histogram2d\",\"colorbar\":{\"outlinewidth\":0,\"ticks\":\"\"},\"colorscale\":[[0.0,\"#0d0887\"],[0.1111111111111111,\"#46039f\"],[0.2222222222222222,\"#7201a8\"],[0.3333333333333333,\"#9c179e\"],[0.4444444444444444,\"#bd3786\"],[0.5555555555555556,\"#d8576b\"],[0.6666666666666666,\"#ed7953\"],[0.7777777777777778,\"#fb9f3a\"],[0.8888888888888888,\"#fdca26\"],[1.0,\"#f0f921\"]]}],\"heatmap\":[{\"type\":\"heatmap\",\"colorbar\":{\"outlinewidth\":0,\"ticks\":\"\"},\"colorscale\":[[0.0,\"#0d0887\"],[0.1111111111111111,\"#46039f\"],[0.2222222222222222,\"#7201a8\"],[0.3333333333333333,\"#9c179e\"],[0.4444444444444444,\"#bd3786\"],[0.5555555555555556,\"#d8576b\"],[0.6666666666666666,\"#ed7953\"],[0.7777777777777778,\"#fb9f3a\"],[0.8888888888888888,\"#fdca26\"],[1.0,\"#f0f921\"]]}],\"heatmapgl\":[{\"type\":\"heatmapgl\",\"colorbar\":{\"outlinewidth\":0,\"ticks\":\"\"},\"colorscale\":[[0.0,\"#0d0887\"],[0.1111111111111111,\"#46039f\"],[0.2222222222222222,\"#7201a8\"],[0.3333333333333333,\"#9c179e\"],[0.4444444444444444,\"#bd3786\"],[0.5555555555555556,\"#d8576b\"],[0.6666666666666666,\"#ed7953\"],[0.7777777777777778,\"#fb9f3a\"],[0.8888888888888888,\"#fdca26\"],[1.0,\"#f0f921\"]]}],\"contourcarpet\":[{\"type\":\"contourcarpet\",\"colorbar\":{\"outlinewidth\":0,\"ticks\":\"\"}}],\"contour\":[{\"type\":\"contour\",\"colorbar\":{\"outlinewidth\":0,\"ticks\":\"\"},\"colorscale\":[[0.0,\"#0d0887\"],[0.1111111111111111,\"#46039f\"],[0.2222222222222222,\"#7201a8\"],[0.3333333333333333,\"#9c179e\"],[0.4444444444444444,\"#bd3786\"],[0.5555555555555556,\"#d8576b\"],[0.6666666666666666,\"#ed7953\"],[0.7777777777777778,\"#fb9f3a\"],[0.8888888888888888,\"#fdca26\"],[1.0,\"#f0f921\"]]}],\"surface\":[{\"type\":\"surface\",\"colorbar\":{\"outlinewidth\":0,\"ticks\":\"\"},\"colorscale\":[[0.0,\"#0d0887\"],[0.1111111111111111,\"#46039f\"],[0.2222222222222222,\"#7201a8\"],[0.3333333333333333,\"#9c179e\"],[0.4444444444444444,\"#bd3786\"],[0.5555555555555556,\"#d8576b\"],[0.6666666666666666,\"#ed7953\"],[0.7777777777777778,\"#fb9f3a\"],[0.8888888888888888,\"#fdca26\"],[1.0,\"#f0f921\"]]}],\"mesh3d\":[{\"type\":\"mesh3d\",\"colorbar\":{\"outlinewidth\":0,\"ticks\":\"\"}}],\"scatter\":[{\"fillpattern\":{\"fillmode\":\"overlay\",\"size\":10,\"solidity\":0.2},\"type\":\"scatter\"}],\"parcoords\":[{\"type\":\"parcoords\",\"line\":{\"colorbar\":{\"outlinewidth\":0,\"ticks\":\"\"}}}],\"scatterpolargl\":[{\"type\":\"scatterpolargl\",\"marker\":{\"colorbar\":{\"outlinewidth\":0,\"ticks\":\"\"}}}],\"bar\":[{\"error_x\":{\"color\":\"#2a3f5f\"},\"error_y\":{\"color\":\"#2a3f5f\"},\"marker\":{\"line\":{\"color\":\"#E5ECF6\",\"width\":0.5},\"pattern\":{\"fillmode\":\"overlay\",\"size\":10,\"solidity\":0.2}},\"type\":\"bar\"}],\"scattergeo\":[{\"type\":\"scattergeo\",\"marker\":{\"colorbar\":{\"outlinewidth\":0,\"ticks\":\"\"}}}],\"scatterpolar\":[{\"type\":\"scatterpolar\",\"marker\":{\"colorbar\":{\"outlinewidth\":0,\"ticks\":\"\"}}}],\"histogram\":[{\"marker\":{\"pattern\":{\"fillmode\":\"overlay\",\"size\":10,\"solidity\":0.2}},\"type\":\"histogram\"}],\"scattergl\":[{\"type\":\"scattergl\",\"marker\":{\"colorbar\":{\"outlinewidth\":0,\"ticks\":\"\"}}}],\"scatter3d\":[{\"type\":\"scatter3d\",\"line\":{\"colorbar\":{\"outlinewidth\":0,\"ticks\":\"\"}},\"marker\":{\"colorbar\":{\"outlinewidth\":0,\"ticks\":\"\"}}}],\"scattermapbox\":[{\"type\":\"scattermapbox\",\"marker\":{\"colorbar\":{\"outlinewidth\":0,\"ticks\":\"\"}}}],\"scatterternary\":[{\"type\":\"scatterternary\",\"marker\":{\"colorbar\":{\"outlinewidth\":0,\"ticks\":\"\"}}}],\"scattercarpet\":[{\"type\":\"scattercarpet\",\"marker\":{\"colorbar\":{\"outlinewidth\":0,\"ticks\":\"\"}}}],\"carpet\":[{\"aaxis\":{\"endlinecolor\":\"#2a3f5f\",\"gridcolor\":\"white\",\"linecolor\":\"white\",\"minorgridcolor\":\"white\",\"startlinecolor\":\"#2a3f5f\"},\"baxis\":{\"endlinecolor\":\"#2a3f5f\",\"gridcolor\":\"white\",\"linecolor\":\"white\",\"minorgridcolor\":\"white\",\"startlinecolor\":\"#2a3f5f\"},\"type\":\"carpet\"}],\"table\":[{\"cells\":{\"fill\":{\"color\":\"#EBF0F8\"},\"line\":{\"color\":\"white\"}},\"header\":{\"fill\":{\"color\":\"#C8D4E3\"},\"line\":{\"color\":\"white\"}},\"type\":\"table\"}],\"barpolar\":[{\"marker\":{\"line\":{\"color\":\"#E5ECF6\",\"width\":0.5},\"pattern\":{\"fillmode\":\"overlay\",\"size\":10,\"solidity\":0.2}},\"type\":\"barpolar\"}],\"pie\":[{\"automargin\":true,\"type\":\"pie\"}]},\"layout\":{\"autotypenumbers\":\"strict\",\"colorway\":[\"#636efa\",\"#EF553B\",\"#00cc96\",\"#ab63fa\",\"#FFA15A\",\"#19d3f3\",\"#FF6692\",\"#B6E880\",\"#FF97FF\",\"#FECB52\"],\"font\":{\"color\":\"#2a3f5f\"},\"hovermode\":\"closest\",\"hoverlabel\":{\"align\":\"left\"},\"paper_bgcolor\":\"white\",\"plot_bgcolor\":\"#E5ECF6\",\"polar\":{\"bgcolor\":\"#E5ECF6\",\"angularaxis\":{\"gridcolor\":\"white\",\"linecolor\":\"white\",\"ticks\":\"\"},\"radialaxis\":{\"gridcolor\":\"white\",\"linecolor\":\"white\",\"ticks\":\"\"}},\"ternary\":{\"bgcolor\":\"#E5ECF6\",\"aaxis\":{\"gridcolor\":\"white\",\"linecolor\":\"white\",\"ticks\":\"\"},\"baxis\":{\"gridcolor\":\"white\",\"linecolor\":\"white\",\"ticks\":\"\"},\"caxis\":{\"gridcolor\":\"white\",\"linecolor\":\"white\",\"ticks\":\"\"}},\"coloraxis\":{\"colorbar\":{\"outlinewidth\":0,\"ticks\":\"\"}},\"colorscale\":{\"sequential\":[[0.0,\"#0d0887\"],[0.1111111111111111,\"#46039f\"],[0.2222222222222222,\"#7201a8\"],[0.3333333333333333,\"#9c179e\"],[0.4444444444444444,\"#bd3786\"],[0.5555555555555556,\"#d8576b\"],[0.6666666666666666,\"#ed7953\"],[0.7777777777777778,\"#fb9f3a\"],[0.8888888888888888,\"#fdca26\"],[1.0,\"#f0f921\"]],\"sequentialminus\":[[0.0,\"#0d0887\"],[0.1111111111111111,\"#46039f\"],[0.2222222222222222,\"#7201a8\"],[0.3333333333333333,\"#9c179e\"],[0.4444444444444444,\"#bd3786\"],[0.5555555555555556,\"#d8576b\"],[0.6666666666666666,\"#ed7953\"],[0.7777777777777778,\"#fb9f3a\"],[0.8888888888888888,\"#fdca26\"],[1.0,\"#f0f921\"]],\"diverging\":[[0,\"#8e0152\"],[0.1,\"#c51b7d\"],[0.2,\"#de77ae\"],[0.3,\"#f1b6da\"],[0.4,\"#fde0ef\"],[0.5,\"#f7f7f7\"],[0.6,\"#e6f5d0\"],[0.7,\"#b8e186\"],[0.8,\"#7fbc41\"],[0.9,\"#4d9221\"],[1,\"#276419\"]]},\"xaxis\":{\"gridcolor\":\"white\",\"linecolor\":\"white\",\"ticks\":\"\",\"title\":{\"standoff\":15},\"zerolinecolor\":\"white\",\"automargin\":true,\"zerolinewidth\":2},\"yaxis\":{\"gridcolor\":\"white\",\"linecolor\":\"white\",\"ticks\":\"\",\"title\":{\"standoff\":15},\"zerolinecolor\":\"white\",\"automargin\":true,\"zerolinewidth\":2},\"scene\":{\"xaxis\":{\"backgroundcolor\":\"#E5ECF6\",\"gridcolor\":\"white\",\"linecolor\":\"white\",\"showbackground\":true,\"ticks\":\"\",\"zerolinecolor\":\"white\",\"gridwidth\":2},\"yaxis\":{\"backgroundcolor\":\"#E5ECF6\",\"gridcolor\":\"white\",\"linecolor\":\"white\",\"showbackground\":true,\"ticks\":\"\",\"zerolinecolor\":\"white\",\"gridwidth\":2},\"zaxis\":{\"backgroundcolor\":\"#E5ECF6\",\"gridcolor\":\"white\",\"linecolor\":\"white\",\"showbackground\":true,\"ticks\":\"\",\"zerolinecolor\":\"white\",\"gridwidth\":2}},\"shapedefaults\":{\"line\":{\"color\":\"#2a3f5f\"}},\"annotationdefaults\":{\"arrowcolor\":\"#2a3f5f\",\"arrowhead\":0,\"arrowwidth\":1},\"geo\":{\"bgcolor\":\"white\",\"landcolor\":\"#E5ECF6\",\"subunitcolor\":\"white\",\"showland\":true,\"showlakes\":true,\"lakecolor\":\"white\"},\"title\":{\"x\":0.05},\"mapbox\":{\"style\":\"light\"}}},\"xaxis\":{\"anchor\":\"y\",\"domain\":[0.0,1.0],\"title\":{\"text\":\"Date\"}},\"yaxis\":{\"anchor\":\"x\",\"domain\":[0.0,1.0],\"title\":{\"text\":\"value\"}},\"legend\":{\"title\":{\"text\":\"keyword\"},\"tracegroupgap\":0},\"title\":{\"text\":\"cbdc VS cbdc\"}},                        {\"responsive\": true}                    ).then(function(){\n",
       "                            \n",
       "var gd = document.getElementById('38884ddf-0ff5-4242-8a32-34cc6ee8b6d4');\n",
       "var x = new MutationObserver(function (mutations, observer) {{\n",
       "        var display = window.getComputedStyle(gd).display;\n",
       "        if (!display || display === 'none') {{\n",
       "            console.log([gd, 'removed!']);\n",
       "            Plotly.purge(gd);\n",
       "            observer.disconnect();\n",
       "        }}\n",
       "}});\n",
       "\n",
       "// Listen for the removal of the full notebook cells\n",
       "var notebookContainer = gd.closest('#notebook-container');\n",
       "if (notebookContainer) {{\n",
       "    x.observe(notebookContainer, {childList: true});\n",
       "}}\n",
       "\n",
       "// Listen for the clearing of the current output cell\n",
       "var outputEl = gd.closest('.output');\n",
       "if (outputEl) {{\n",
       "    x.observe(outputEl, {childList: true});\n",
       "}}\n",
       "\n",
       "                        })                };                });            </script>        </div>"
      ]
     },
     "metadata": {},
     "output_type": "display_data"
    }
   ],
   "source": [
    "key_k = 'cbdc'\n",
    "key_e = 'cbdc'\n",
    "keyCmp(key_k,key_e,df_ks.iloc[:,12:],df_es)"
   ]
  },
  {
   "cell_type": "code",
   "execution_count": 40,
   "id": "1f9fde5c",
   "metadata": {},
   "outputs": [],
   "source": [
    "def mekko(df_k,srch_wrd):\n",
    "    df3 =Df4plot(df_k,srch_wrd)\n",
    "    df3['Percent'] = df3.groupby(['Date'])['value'].transform(lambda x: x/x.sum())\n",
    "    fig = px.bar(df3, x=\"Date\", y=\"Percent\", color=\"keyword\", text=\"keyword\")\n",
    "    fig.update_layout(bargap =0)\n",
    "    fig.show()"
   ]
  },
  {
   "cell_type": "code",
   "execution_count": null,
   "id": "b1f0befc",
   "metadata": {},
   "outputs": [],
   "source": [
    "# 2020년 3월 5일, 대한민국에서 특정 금융거래정보의 보고 및 이용 등에 관한 법률 개정안 통과\n",
    "# 특금법 개정안은 ▲암호화폐, 가상화폐, 디지털화폐 등 다양하게 사용되던 용어를 '가상자산(Virtual Assets)'으로 통일하"
   ]
  },
  {
   "cell_type": "code",
   "execution_count": 92,
   "id": "dece480d",
   "metadata": {
    "scrolled": false
   },
   "outputs": [
    {
     "data": {
      "application/vnd.plotly.v1+json": {
       "config": {
        "plotlyServerURL": "https://plot.ly"
       },
       "data": [
        {
         "alignmentgroup": "True",
         "hovertemplate": "keyword=%{text}<br>Date=%{x}<br>Percent=%{y}<extra></extra>",
         "legendgroup": "가상자산",
         "marker": {
          "color": "#636efa",
          "pattern": {
           "shape": ""
          }
         },
         "name": "가상자산",
         "offsetgroup": "가상자산",
         "orientation": "v",
         "showlegend": true,
         "text": [
          "가상자산",
          "가상자산",
          "가상자산",
          "가상자산",
          "가상자산",
          "가상자산",
          "가상자산",
          "가상자산",
          "가상자산",
          "가상자산",
          "가상자산",
          "가상자산",
          "가상자산",
          "가상자산",
          "가상자산",
          "가상자산",
          "가상자산",
          "가상자산",
          "가상자산",
          "가상자산",
          "가상자산",
          "가상자산",
          "가상자산",
          "가상자산",
          "가상자산",
          "가상자산",
          "가상자산",
          "가상자산",
          "가상자산",
          "가상자산",
          "가상자산",
          "가상자산",
          "가상자산",
          "가상자산",
          "가상자산",
          "가상자산",
          "가상자산",
          "가상자산",
          "가상자산",
          "가상자산",
          "가상자산",
          "가상자산",
          "가상자산",
          "가상자산",
          "가상자산",
          "가상자산",
          "가상자산"
         ],
         "textposition": "auto",
         "type": "bar",
         "x": [
          "2018-08-01T00:00:00",
          "2018-09-01T00:00:00",
          "2018-10-01T00:00:00",
          "2018-11-01T00:00:00",
          "2018-12-01T00:00:00",
          "2019-01-01T00:00:00",
          "2019-02-01T00:00:00",
          "2019-03-01T00:00:00",
          "2019-04-01T00:00:00",
          "2019-05-01T00:00:00",
          "2019-06-01T00:00:00",
          "2019-07-01T00:00:00",
          "2019-08-01T00:00:00",
          "2019-09-01T00:00:00",
          "2019-10-01T00:00:00",
          "2019-11-01T00:00:00",
          "2019-12-01T00:00:00",
          "2020-01-01T00:00:00",
          "2020-02-01T00:00:00",
          "2020-03-01T00:00:00",
          "2020-04-01T00:00:00",
          "2020-05-01T00:00:00",
          "2020-06-01T00:00:00",
          "2020-07-01T00:00:00",
          "2020-08-01T00:00:00",
          "2020-09-01T00:00:00",
          "2020-10-01T00:00:00",
          "2020-11-01T00:00:00",
          "2020-12-01T00:00:00",
          "2021-01-01T00:00:00",
          "2021-02-01T00:00:00",
          "2021-03-01T00:00:00",
          "2021-04-01T00:00:00",
          "2021-05-01T00:00:00",
          "2021-06-01T00:00:00",
          "2021-07-01T00:00:00",
          "2021-08-01T00:00:00",
          "2021-09-01T00:00:00",
          "2021-10-01T00:00:00",
          "2021-11-01T00:00:00",
          "2021-12-01T00:00:00",
          "2022-01-01T00:00:00",
          "2022-02-01T00:00:00",
          "2022-03-01T00:00:00",
          "2022-04-01T00:00:00",
          "2022-05-01T00:00:00",
          "2022-06-01T00:00:00"
         ],
         "xaxis": "x",
         "y": [
          0,
          0,
          0,
          0,
          0,
          0.014925373134328358,
          0.029411764705882353,
          0,
          0,
          0,
          0,
          0.024096385542168676,
          0,
          0,
          0.1595744680851064,
          0.06382978723404255,
          0.061224489795918366,
          0,
          0.038461538461538464,
          0.3684210526315789,
          0.42105263157894735,
          0.3684210526315789,
          0.5476190476190477,
          0.5,
          0.6,
          0.41935483870967744,
          0.6111111111111112,
          0.6415094339622641,
          0.46875,
          0.5294117647058824,
          0.28,
          0.3898305084745763,
          0.39880952380952384,
          0.42857142857142855,
          0.4690265486725664,
          0.379746835443038,
          0.5753424657534246,
          0.5131578947368421,
          0.5568181818181818,
          0.6814814814814815,
          0.7844827586206896,
          0.7086092715231788,
          0.6588235294117647,
          0.6025641025641025,
          0.6339285714285714,
          0.6772727272727272,
          0.6595744680851063
         ],
         "yaxis": "y"
        },
        {
         "alignmentgroup": "True",
         "hovertemplate": "keyword=%{text}<br>Date=%{x}<br>Percent=%{y}<extra></extra>",
         "legendgroup": "가상통화",
         "marker": {
          "color": "#EF553B",
          "pattern": {
           "shape": ""
          }
         },
         "name": "가상통화",
         "offsetgroup": "가상통화",
         "orientation": "v",
         "showlegend": true,
         "text": [
          "가상통화",
          "가상통화",
          "가상통화",
          "가상통화",
          "가상통화",
          "가상통화",
          "가상통화",
          "가상통화",
          "가상통화",
          "가상통화",
          "가상통화",
          "가상통화",
          "가상통화",
          "가상통화",
          "가상통화",
          "가상통화",
          "가상통화",
          "가상통화",
          "가상통화",
          "가상통화",
          "가상통화",
          "가상통화",
          "가상통화",
          "가상통화",
          "가상통화",
          "가상통화",
          "가상통화",
          "가상통화",
          "가상통화",
          "가상통화",
          "가상통화",
          "가상통화",
          "가상통화",
          "가상통화",
          "가상통화",
          "가상통화",
          "가상통화",
          "가상통화",
          "가상통화",
          "가상통화",
          "가상통화",
          "가상통화",
          "가상통화",
          "가상통화",
          "가상통화",
          "가상통화",
          "가상통화"
         ],
         "textposition": "auto",
         "type": "bar",
         "x": [
          "2018-08-01T00:00:00",
          "2018-09-01T00:00:00",
          "2018-10-01T00:00:00",
          "2018-11-01T00:00:00",
          "2018-12-01T00:00:00",
          "2019-01-01T00:00:00",
          "2019-02-01T00:00:00",
          "2019-03-01T00:00:00",
          "2019-04-01T00:00:00",
          "2019-05-01T00:00:00",
          "2019-06-01T00:00:00",
          "2019-07-01T00:00:00",
          "2019-08-01T00:00:00",
          "2019-09-01T00:00:00",
          "2019-10-01T00:00:00",
          "2019-11-01T00:00:00",
          "2019-12-01T00:00:00",
          "2020-01-01T00:00:00",
          "2020-02-01T00:00:00",
          "2020-03-01T00:00:00",
          "2020-04-01T00:00:00",
          "2020-05-01T00:00:00",
          "2020-06-01T00:00:00",
          "2020-07-01T00:00:00",
          "2020-08-01T00:00:00",
          "2020-09-01T00:00:00",
          "2020-10-01T00:00:00",
          "2020-11-01T00:00:00",
          "2020-12-01T00:00:00",
          "2021-01-01T00:00:00",
          "2021-02-01T00:00:00",
          "2021-03-01T00:00:00",
          "2021-04-01T00:00:00",
          "2021-05-01T00:00:00",
          "2021-06-01T00:00:00",
          "2021-07-01T00:00:00",
          "2021-08-01T00:00:00",
          "2021-09-01T00:00:00",
          "2021-10-01T00:00:00",
          "2021-11-01T00:00:00",
          "2021-12-01T00:00:00",
          "2022-01-01T00:00:00",
          "2022-02-01T00:00:00",
          "2022-03-01T00:00:00",
          "2022-04-01T00:00:00",
          "2022-05-01T00:00:00",
          "2022-06-01T00:00:00"
         ],
         "xaxis": "x",
         "y": [
          0.1724137931034483,
          0.3333333333333333,
          0.08823529411764706,
          0.12698412698412698,
          0.15,
          0.19402985074626866,
          0.08823529411764706,
          0.04,
          0.08571428571428572,
          0.075,
          0.07142857142857142,
          0.0963855421686747,
          0.023255813953488372,
          0.01639344262295082,
          0.031914893617021274,
          0.02127659574468085,
          0,
          0,
          0.038461538461538464,
          0.05263157894736842,
          0,
          0.02631578947368421,
          0,
          0.025,
          0.1,
          0,
          0.027777777777777776,
          0.03773584905660377,
          0.015625,
          0.058823529411764705,
          0.016,
          0.06779661016949153,
          0.017857142857142856,
          0.029411764705882353,
          0.02654867256637168,
          0.012658227848101266,
          0,
          0,
          0,
          0,
          0.008620689655172414,
          0.006622516556291391,
          0,
          0,
          0.008928571428571428,
          0,
          0.0070921985815602835
         ],
         "yaxis": "y"
        },
        {
         "alignmentgroup": "True",
         "hovertemplate": "keyword=%{text}<br>Date=%{x}<br>Percent=%{y}<extra></extra>",
         "legendgroup": "암호화폐",
         "marker": {
          "color": "#00cc96",
          "pattern": {
           "shape": ""
          }
         },
         "name": "암호화폐",
         "offsetgroup": "암호화폐",
         "orientation": "v",
         "showlegend": true,
         "text": [
          "암호화폐",
          "암호화폐",
          "암호화폐",
          "암호화폐",
          "암호화폐",
          "암호화폐",
          "암호화폐",
          "암호화폐",
          "암호화폐",
          "암호화폐",
          "암호화폐",
          "암호화폐",
          "암호화폐",
          "암호화폐",
          "암호화폐",
          "암호화폐",
          "암호화폐",
          "암호화폐",
          "암호화폐",
          "암호화폐",
          "암호화폐",
          "암호화폐",
          "암호화폐",
          "암호화폐",
          "암호화폐",
          "암호화폐",
          "암호화폐",
          "암호화폐",
          "암호화폐",
          "암호화폐",
          "암호화폐",
          "암호화폐",
          "암호화폐",
          "암호화폐",
          "암호화폐",
          "암호화폐",
          "암호화폐",
          "암호화폐",
          "암호화폐",
          "암호화폐",
          "암호화폐",
          "암호화폐",
          "암호화폐",
          "암호화폐",
          "암호화폐",
          "암호화폐",
          "암호화폐"
         ],
         "textposition": "auto",
         "type": "bar",
         "x": [
          "2018-08-01T00:00:00",
          "2018-09-01T00:00:00",
          "2018-10-01T00:00:00",
          "2018-11-01T00:00:00",
          "2018-12-01T00:00:00",
          "2019-01-01T00:00:00",
          "2019-02-01T00:00:00",
          "2019-03-01T00:00:00",
          "2019-04-01T00:00:00",
          "2019-05-01T00:00:00",
          "2019-06-01T00:00:00",
          "2019-07-01T00:00:00",
          "2019-08-01T00:00:00",
          "2019-09-01T00:00:00",
          "2019-10-01T00:00:00",
          "2019-11-01T00:00:00",
          "2019-12-01T00:00:00",
          "2020-01-01T00:00:00",
          "2020-02-01T00:00:00",
          "2020-03-01T00:00:00",
          "2020-04-01T00:00:00",
          "2020-05-01T00:00:00",
          "2020-06-01T00:00:00",
          "2020-07-01T00:00:00",
          "2020-08-01T00:00:00",
          "2020-09-01T00:00:00",
          "2020-10-01T00:00:00",
          "2020-11-01T00:00:00",
          "2020-12-01T00:00:00",
          "2021-01-01T00:00:00",
          "2021-02-01T00:00:00",
          "2021-03-01T00:00:00",
          "2021-04-01T00:00:00",
          "2021-05-01T00:00:00",
          "2021-06-01T00:00:00",
          "2021-07-01T00:00:00",
          "2021-08-01T00:00:00",
          "2021-09-01T00:00:00",
          "2021-10-01T00:00:00",
          "2021-11-01T00:00:00",
          "2021-12-01T00:00:00",
          "2022-01-01T00:00:00",
          "2022-02-01T00:00:00",
          "2022-03-01T00:00:00",
          "2022-04-01T00:00:00",
          "2022-05-01T00:00:00",
          "2022-06-01T00:00:00"
         ],
         "xaxis": "x",
         "y": [
          0.8275862068965517,
          0.6666666666666666,
          0.9117647058823529,
          0.873015873015873,
          0.85,
          0.7910447761194029,
          0.8823529411764706,
          0.96,
          0.9142857142857143,
          0.925,
          0.9285714285714286,
          0.8795180722891566,
          0.9767441860465116,
          0.9836065573770492,
          0.8085106382978723,
          0.9148936170212766,
          0.9387755102040817,
          1,
          0.9230769230769231,
          0.5789473684210527,
          0.5789473684210527,
          0.6052631578947368,
          0.4523809523809524,
          0.475,
          0.3,
          0.5806451612903226,
          0.3611111111111111,
          0.32075471698113206,
          0.515625,
          0.4117647058823529,
          0.704,
          0.5423728813559322,
          0.5833333333333334,
          0.542016806722689,
          0.504424778761062,
          0.6075949367088608,
          0.4246575342465753,
          0.4868421052631579,
          0.4431818181818182,
          0.31851851851851853,
          0.20689655172413793,
          0.2847682119205298,
          0.3411764705882353,
          0.3974358974358974,
          0.35714285714285715,
          0.32272727272727275,
          0.3333333333333333
         ],
         "yaxis": "y"
        }
       ],
       "layout": {
        "bargap": 0,
        "barmode": "relative",
        "legend": {
         "title": {
          "text": "keyword"
         },
         "tracegroupgap": 0
        },
        "margin": {
         "t": 60
        },
        "template": {
         "data": {
          "bar": [
           {
            "error_x": {
             "color": "#2a3f5f"
            },
            "error_y": {
             "color": "#2a3f5f"
            },
            "marker": {
             "line": {
              "color": "#E5ECF6",
              "width": 0.5
             },
             "pattern": {
              "fillmode": "overlay",
              "size": 10,
              "solidity": 0.2
             }
            },
            "type": "bar"
           }
          ],
          "barpolar": [
           {
            "marker": {
             "line": {
              "color": "#E5ECF6",
              "width": 0.5
             },
             "pattern": {
              "fillmode": "overlay",
              "size": 10,
              "solidity": 0.2
             }
            },
            "type": "barpolar"
           }
          ],
          "carpet": [
           {
            "aaxis": {
             "endlinecolor": "#2a3f5f",
             "gridcolor": "white",
             "linecolor": "white",
             "minorgridcolor": "white",
             "startlinecolor": "#2a3f5f"
            },
            "baxis": {
             "endlinecolor": "#2a3f5f",
             "gridcolor": "white",
             "linecolor": "white",
             "minorgridcolor": "white",
             "startlinecolor": "#2a3f5f"
            },
            "type": "carpet"
           }
          ],
          "choropleth": [
           {
            "colorbar": {
             "outlinewidth": 0,
             "ticks": ""
            },
            "type": "choropleth"
           }
          ],
          "contour": [
           {
            "colorbar": {
             "outlinewidth": 0,
             "ticks": ""
            },
            "colorscale": [
             [
              0,
              "#0d0887"
             ],
             [
              0.1111111111111111,
              "#46039f"
             ],
             [
              0.2222222222222222,
              "#7201a8"
             ],
             [
              0.3333333333333333,
              "#9c179e"
             ],
             [
              0.4444444444444444,
              "#bd3786"
             ],
             [
              0.5555555555555556,
              "#d8576b"
             ],
             [
              0.6666666666666666,
              "#ed7953"
             ],
             [
              0.7777777777777778,
              "#fb9f3a"
             ],
             [
              0.8888888888888888,
              "#fdca26"
             ],
             [
              1,
              "#f0f921"
             ]
            ],
            "type": "contour"
           }
          ],
          "contourcarpet": [
           {
            "colorbar": {
             "outlinewidth": 0,
             "ticks": ""
            },
            "type": "contourcarpet"
           }
          ],
          "heatmap": [
           {
            "colorbar": {
             "outlinewidth": 0,
             "ticks": ""
            },
            "colorscale": [
             [
              0,
              "#0d0887"
             ],
             [
              0.1111111111111111,
              "#46039f"
             ],
             [
              0.2222222222222222,
              "#7201a8"
             ],
             [
              0.3333333333333333,
              "#9c179e"
             ],
             [
              0.4444444444444444,
              "#bd3786"
             ],
             [
              0.5555555555555556,
              "#d8576b"
             ],
             [
              0.6666666666666666,
              "#ed7953"
             ],
             [
              0.7777777777777778,
              "#fb9f3a"
             ],
             [
              0.8888888888888888,
              "#fdca26"
             ],
             [
              1,
              "#f0f921"
             ]
            ],
            "type": "heatmap"
           }
          ],
          "heatmapgl": [
           {
            "colorbar": {
             "outlinewidth": 0,
             "ticks": ""
            },
            "colorscale": [
             [
              0,
              "#0d0887"
             ],
             [
              0.1111111111111111,
              "#46039f"
             ],
             [
              0.2222222222222222,
              "#7201a8"
             ],
             [
              0.3333333333333333,
              "#9c179e"
             ],
             [
              0.4444444444444444,
              "#bd3786"
             ],
             [
              0.5555555555555556,
              "#d8576b"
             ],
             [
              0.6666666666666666,
              "#ed7953"
             ],
             [
              0.7777777777777778,
              "#fb9f3a"
             ],
             [
              0.8888888888888888,
              "#fdca26"
             ],
             [
              1,
              "#f0f921"
             ]
            ],
            "type": "heatmapgl"
           }
          ],
          "histogram": [
           {
            "marker": {
             "pattern": {
              "fillmode": "overlay",
              "size": 10,
              "solidity": 0.2
             }
            },
            "type": "histogram"
           }
          ],
          "histogram2d": [
           {
            "colorbar": {
             "outlinewidth": 0,
             "ticks": ""
            },
            "colorscale": [
             [
              0,
              "#0d0887"
             ],
             [
              0.1111111111111111,
              "#46039f"
             ],
             [
              0.2222222222222222,
              "#7201a8"
             ],
             [
              0.3333333333333333,
              "#9c179e"
             ],
             [
              0.4444444444444444,
              "#bd3786"
             ],
             [
              0.5555555555555556,
              "#d8576b"
             ],
             [
              0.6666666666666666,
              "#ed7953"
             ],
             [
              0.7777777777777778,
              "#fb9f3a"
             ],
             [
              0.8888888888888888,
              "#fdca26"
             ],
             [
              1,
              "#f0f921"
             ]
            ],
            "type": "histogram2d"
           }
          ],
          "histogram2dcontour": [
           {
            "colorbar": {
             "outlinewidth": 0,
             "ticks": ""
            },
            "colorscale": [
             [
              0,
              "#0d0887"
             ],
             [
              0.1111111111111111,
              "#46039f"
             ],
             [
              0.2222222222222222,
              "#7201a8"
             ],
             [
              0.3333333333333333,
              "#9c179e"
             ],
             [
              0.4444444444444444,
              "#bd3786"
             ],
             [
              0.5555555555555556,
              "#d8576b"
             ],
             [
              0.6666666666666666,
              "#ed7953"
             ],
             [
              0.7777777777777778,
              "#fb9f3a"
             ],
             [
              0.8888888888888888,
              "#fdca26"
             ],
             [
              1,
              "#f0f921"
             ]
            ],
            "type": "histogram2dcontour"
           }
          ],
          "mesh3d": [
           {
            "colorbar": {
             "outlinewidth": 0,
             "ticks": ""
            },
            "type": "mesh3d"
           }
          ],
          "parcoords": [
           {
            "line": {
             "colorbar": {
              "outlinewidth": 0,
              "ticks": ""
             }
            },
            "type": "parcoords"
           }
          ],
          "pie": [
           {
            "automargin": true,
            "type": "pie"
           }
          ],
          "scatter": [
           {
            "fillpattern": {
             "fillmode": "overlay",
             "size": 10,
             "solidity": 0.2
            },
            "type": "scatter"
           }
          ],
          "scatter3d": [
           {
            "line": {
             "colorbar": {
              "outlinewidth": 0,
              "ticks": ""
             }
            },
            "marker": {
             "colorbar": {
              "outlinewidth": 0,
              "ticks": ""
             }
            },
            "type": "scatter3d"
           }
          ],
          "scattercarpet": [
           {
            "marker": {
             "colorbar": {
              "outlinewidth": 0,
              "ticks": ""
             }
            },
            "type": "scattercarpet"
           }
          ],
          "scattergeo": [
           {
            "marker": {
             "colorbar": {
              "outlinewidth": 0,
              "ticks": ""
             }
            },
            "type": "scattergeo"
           }
          ],
          "scattergl": [
           {
            "marker": {
             "colorbar": {
              "outlinewidth": 0,
              "ticks": ""
             }
            },
            "type": "scattergl"
           }
          ],
          "scattermapbox": [
           {
            "marker": {
             "colorbar": {
              "outlinewidth": 0,
              "ticks": ""
             }
            },
            "type": "scattermapbox"
           }
          ],
          "scatterpolar": [
           {
            "marker": {
             "colorbar": {
              "outlinewidth": 0,
              "ticks": ""
             }
            },
            "type": "scatterpolar"
           }
          ],
          "scatterpolargl": [
           {
            "marker": {
             "colorbar": {
              "outlinewidth": 0,
              "ticks": ""
             }
            },
            "type": "scatterpolargl"
           }
          ],
          "scatterternary": [
           {
            "marker": {
             "colorbar": {
              "outlinewidth": 0,
              "ticks": ""
             }
            },
            "type": "scatterternary"
           }
          ],
          "surface": [
           {
            "colorbar": {
             "outlinewidth": 0,
             "ticks": ""
            },
            "colorscale": [
             [
              0,
              "#0d0887"
             ],
             [
              0.1111111111111111,
              "#46039f"
             ],
             [
              0.2222222222222222,
              "#7201a8"
             ],
             [
              0.3333333333333333,
              "#9c179e"
             ],
             [
              0.4444444444444444,
              "#bd3786"
             ],
             [
              0.5555555555555556,
              "#d8576b"
             ],
             [
              0.6666666666666666,
              "#ed7953"
             ],
             [
              0.7777777777777778,
              "#fb9f3a"
             ],
             [
              0.8888888888888888,
              "#fdca26"
             ],
             [
              1,
              "#f0f921"
             ]
            ],
            "type": "surface"
           }
          ],
          "table": [
           {
            "cells": {
             "fill": {
              "color": "#EBF0F8"
             },
             "line": {
              "color": "white"
             }
            },
            "header": {
             "fill": {
              "color": "#C8D4E3"
             },
             "line": {
              "color": "white"
             }
            },
            "type": "table"
           }
          ]
         },
         "layout": {
          "annotationdefaults": {
           "arrowcolor": "#2a3f5f",
           "arrowhead": 0,
           "arrowwidth": 1
          },
          "autotypenumbers": "strict",
          "coloraxis": {
           "colorbar": {
            "outlinewidth": 0,
            "ticks": ""
           }
          },
          "colorscale": {
           "diverging": [
            [
             0,
             "#8e0152"
            ],
            [
             0.1,
             "#c51b7d"
            ],
            [
             0.2,
             "#de77ae"
            ],
            [
             0.3,
             "#f1b6da"
            ],
            [
             0.4,
             "#fde0ef"
            ],
            [
             0.5,
             "#f7f7f7"
            ],
            [
             0.6,
             "#e6f5d0"
            ],
            [
             0.7,
             "#b8e186"
            ],
            [
             0.8,
             "#7fbc41"
            ],
            [
             0.9,
             "#4d9221"
            ],
            [
             1,
             "#276419"
            ]
           ],
           "sequential": [
            [
             0,
             "#0d0887"
            ],
            [
             0.1111111111111111,
             "#46039f"
            ],
            [
             0.2222222222222222,
             "#7201a8"
            ],
            [
             0.3333333333333333,
             "#9c179e"
            ],
            [
             0.4444444444444444,
             "#bd3786"
            ],
            [
             0.5555555555555556,
             "#d8576b"
            ],
            [
             0.6666666666666666,
             "#ed7953"
            ],
            [
             0.7777777777777778,
             "#fb9f3a"
            ],
            [
             0.8888888888888888,
             "#fdca26"
            ],
            [
             1,
             "#f0f921"
            ]
           ],
           "sequentialminus": [
            [
             0,
             "#0d0887"
            ],
            [
             0.1111111111111111,
             "#46039f"
            ],
            [
             0.2222222222222222,
             "#7201a8"
            ],
            [
             0.3333333333333333,
             "#9c179e"
            ],
            [
             0.4444444444444444,
             "#bd3786"
            ],
            [
             0.5555555555555556,
             "#d8576b"
            ],
            [
             0.6666666666666666,
             "#ed7953"
            ],
            [
             0.7777777777777778,
             "#fb9f3a"
            ],
            [
             0.8888888888888888,
             "#fdca26"
            ],
            [
             1,
             "#f0f921"
            ]
           ]
          },
          "colorway": [
           "#636efa",
           "#EF553B",
           "#00cc96",
           "#ab63fa",
           "#FFA15A",
           "#19d3f3",
           "#FF6692",
           "#B6E880",
           "#FF97FF",
           "#FECB52"
          ],
          "font": {
           "color": "#2a3f5f"
          },
          "geo": {
           "bgcolor": "white",
           "lakecolor": "white",
           "landcolor": "#E5ECF6",
           "showlakes": true,
           "showland": true,
           "subunitcolor": "white"
          },
          "hoverlabel": {
           "align": "left"
          },
          "hovermode": "closest",
          "mapbox": {
           "style": "light"
          },
          "paper_bgcolor": "white",
          "plot_bgcolor": "#E5ECF6",
          "polar": {
           "angularaxis": {
            "gridcolor": "white",
            "linecolor": "white",
            "ticks": ""
           },
           "bgcolor": "#E5ECF6",
           "radialaxis": {
            "gridcolor": "white",
            "linecolor": "white",
            "ticks": ""
           }
          },
          "scene": {
           "xaxis": {
            "backgroundcolor": "#E5ECF6",
            "gridcolor": "white",
            "gridwidth": 2,
            "linecolor": "white",
            "showbackground": true,
            "ticks": "",
            "zerolinecolor": "white"
           },
           "yaxis": {
            "backgroundcolor": "#E5ECF6",
            "gridcolor": "white",
            "gridwidth": 2,
            "linecolor": "white",
            "showbackground": true,
            "ticks": "",
            "zerolinecolor": "white"
           },
           "zaxis": {
            "backgroundcolor": "#E5ECF6",
            "gridcolor": "white",
            "gridwidth": 2,
            "linecolor": "white",
            "showbackground": true,
            "ticks": "",
            "zerolinecolor": "white"
           }
          },
          "shapedefaults": {
           "line": {
            "color": "#2a3f5f"
           }
          },
          "ternary": {
           "aaxis": {
            "gridcolor": "white",
            "linecolor": "white",
            "ticks": ""
           },
           "baxis": {
            "gridcolor": "white",
            "linecolor": "white",
            "ticks": ""
           },
           "bgcolor": "#E5ECF6",
           "caxis": {
            "gridcolor": "white",
            "linecolor": "white",
            "ticks": ""
           }
          },
          "title": {
           "x": 0.05
          },
          "xaxis": {
           "automargin": true,
           "gridcolor": "white",
           "linecolor": "white",
           "ticks": "",
           "title": {
            "standoff": 15
           },
           "zerolinecolor": "white",
           "zerolinewidth": 2
          },
          "yaxis": {
           "automargin": true,
           "gridcolor": "white",
           "linecolor": "white",
           "ticks": "",
           "title": {
            "standoff": 15
           },
           "zerolinecolor": "white",
           "zerolinewidth": 2
          }
         }
        },
        "xaxis": {
         "anchor": "y",
         "domain": [
          0,
          1
         ],
         "title": {
          "text": "Date"
         }
        },
        "yaxis": {
         "anchor": "x",
         "domain": [
          0,
          1
         ],
         "title": {
          "text": "Percent"
         }
        }
       }
      },
      "text/html": [
       "<div>                            <div id=\"f9c320f9-9a05-425e-b62d-5b90aa5ee964\" class=\"plotly-graph-div\" style=\"height:525px; width:100%;\"></div>            <script type=\"text/javascript\">                require([\"plotly\"], function(Plotly) {                    window.PLOTLYENV=window.PLOTLYENV || {};                                    if (document.getElementById(\"f9c320f9-9a05-425e-b62d-5b90aa5ee964\")) {                    Plotly.newPlot(                        \"f9c320f9-9a05-425e-b62d-5b90aa5ee964\",                        [{\"alignmentgroup\":\"True\",\"hovertemplate\":\"keyword=%{text}<br>Date=%{x}<br>Percent=%{y}<extra></extra>\",\"legendgroup\":\"\\uac00\\uc0c1\\uc790\\uc0b0\",\"marker\":{\"color\":\"#636efa\",\"pattern\":{\"shape\":\"\"}},\"name\":\"\\uac00\\uc0c1\\uc790\\uc0b0\",\"offsetgroup\":\"\\uac00\\uc0c1\\uc790\\uc0b0\",\"orientation\":\"v\",\"showlegend\":true,\"text\":[\"\\uac00\\uc0c1\\uc790\\uc0b0\",\"\\uac00\\uc0c1\\uc790\\uc0b0\",\"\\uac00\\uc0c1\\uc790\\uc0b0\",\"\\uac00\\uc0c1\\uc790\\uc0b0\",\"\\uac00\\uc0c1\\uc790\\uc0b0\",\"\\uac00\\uc0c1\\uc790\\uc0b0\",\"\\uac00\\uc0c1\\uc790\\uc0b0\",\"\\uac00\\uc0c1\\uc790\\uc0b0\",\"\\uac00\\uc0c1\\uc790\\uc0b0\",\"\\uac00\\uc0c1\\uc790\\uc0b0\",\"\\uac00\\uc0c1\\uc790\\uc0b0\",\"\\uac00\\uc0c1\\uc790\\uc0b0\",\"\\uac00\\uc0c1\\uc790\\uc0b0\",\"\\uac00\\uc0c1\\uc790\\uc0b0\",\"\\uac00\\uc0c1\\uc790\\uc0b0\",\"\\uac00\\uc0c1\\uc790\\uc0b0\",\"\\uac00\\uc0c1\\uc790\\uc0b0\",\"\\uac00\\uc0c1\\uc790\\uc0b0\",\"\\uac00\\uc0c1\\uc790\\uc0b0\",\"\\uac00\\uc0c1\\uc790\\uc0b0\",\"\\uac00\\uc0c1\\uc790\\uc0b0\",\"\\uac00\\uc0c1\\uc790\\uc0b0\",\"\\uac00\\uc0c1\\uc790\\uc0b0\",\"\\uac00\\uc0c1\\uc790\\uc0b0\",\"\\uac00\\uc0c1\\uc790\\uc0b0\",\"\\uac00\\uc0c1\\uc790\\uc0b0\",\"\\uac00\\uc0c1\\uc790\\uc0b0\",\"\\uac00\\uc0c1\\uc790\\uc0b0\",\"\\uac00\\uc0c1\\uc790\\uc0b0\",\"\\uac00\\uc0c1\\uc790\\uc0b0\",\"\\uac00\\uc0c1\\uc790\\uc0b0\",\"\\uac00\\uc0c1\\uc790\\uc0b0\",\"\\uac00\\uc0c1\\uc790\\uc0b0\",\"\\uac00\\uc0c1\\uc790\\uc0b0\",\"\\uac00\\uc0c1\\uc790\\uc0b0\",\"\\uac00\\uc0c1\\uc790\\uc0b0\",\"\\uac00\\uc0c1\\uc790\\uc0b0\",\"\\uac00\\uc0c1\\uc790\\uc0b0\",\"\\uac00\\uc0c1\\uc790\\uc0b0\",\"\\uac00\\uc0c1\\uc790\\uc0b0\",\"\\uac00\\uc0c1\\uc790\\uc0b0\",\"\\uac00\\uc0c1\\uc790\\uc0b0\",\"\\uac00\\uc0c1\\uc790\\uc0b0\",\"\\uac00\\uc0c1\\uc790\\uc0b0\",\"\\uac00\\uc0c1\\uc790\\uc0b0\",\"\\uac00\\uc0c1\\uc790\\uc0b0\",\"\\uac00\\uc0c1\\uc790\\uc0b0\"],\"textposition\":\"auto\",\"x\":[\"2018-08-01T00:00:00\",\"2018-09-01T00:00:00\",\"2018-10-01T00:00:00\",\"2018-11-01T00:00:00\",\"2018-12-01T00:00:00\",\"2019-01-01T00:00:00\",\"2019-02-01T00:00:00\",\"2019-03-01T00:00:00\",\"2019-04-01T00:00:00\",\"2019-05-01T00:00:00\",\"2019-06-01T00:00:00\",\"2019-07-01T00:00:00\",\"2019-08-01T00:00:00\",\"2019-09-01T00:00:00\",\"2019-10-01T00:00:00\",\"2019-11-01T00:00:00\",\"2019-12-01T00:00:00\",\"2020-01-01T00:00:00\",\"2020-02-01T00:00:00\",\"2020-03-01T00:00:00\",\"2020-04-01T00:00:00\",\"2020-05-01T00:00:00\",\"2020-06-01T00:00:00\",\"2020-07-01T00:00:00\",\"2020-08-01T00:00:00\",\"2020-09-01T00:00:00\",\"2020-10-01T00:00:00\",\"2020-11-01T00:00:00\",\"2020-12-01T00:00:00\",\"2021-01-01T00:00:00\",\"2021-02-01T00:00:00\",\"2021-03-01T00:00:00\",\"2021-04-01T00:00:00\",\"2021-05-01T00:00:00\",\"2021-06-01T00:00:00\",\"2021-07-01T00:00:00\",\"2021-08-01T00:00:00\",\"2021-09-01T00:00:00\",\"2021-10-01T00:00:00\",\"2021-11-01T00:00:00\",\"2021-12-01T00:00:00\",\"2022-01-01T00:00:00\",\"2022-02-01T00:00:00\",\"2022-03-01T00:00:00\",\"2022-04-01T00:00:00\",\"2022-05-01T00:00:00\",\"2022-06-01T00:00:00\"],\"xaxis\":\"x\",\"y\":[0.0,0.0,0.0,0.0,0.0,0.014925373134328358,0.029411764705882353,0.0,0.0,0.0,0.0,0.024096385542168676,0.0,0.0,0.1595744680851064,0.06382978723404255,0.061224489795918366,0.0,0.038461538461538464,0.3684210526315789,0.42105263157894735,0.3684210526315789,0.5476190476190477,0.5,0.6,0.41935483870967744,0.6111111111111112,0.6415094339622641,0.46875,0.5294117647058824,0.28,0.3898305084745763,0.39880952380952384,0.42857142857142855,0.4690265486725664,0.379746835443038,0.5753424657534246,0.5131578947368421,0.5568181818181818,0.6814814814814815,0.7844827586206896,0.7086092715231788,0.6588235294117647,0.6025641025641025,0.6339285714285714,0.6772727272727272,0.6595744680851063],\"yaxis\":\"y\",\"type\":\"bar\"},{\"alignmentgroup\":\"True\",\"hovertemplate\":\"keyword=%{text}<br>Date=%{x}<br>Percent=%{y}<extra></extra>\",\"legendgroup\":\"\\uac00\\uc0c1\\ud1b5\\ud654\",\"marker\":{\"color\":\"#EF553B\",\"pattern\":{\"shape\":\"\"}},\"name\":\"\\uac00\\uc0c1\\ud1b5\\ud654\",\"offsetgroup\":\"\\uac00\\uc0c1\\ud1b5\\ud654\",\"orientation\":\"v\",\"showlegend\":true,\"text\":[\"\\uac00\\uc0c1\\ud1b5\\ud654\",\"\\uac00\\uc0c1\\ud1b5\\ud654\",\"\\uac00\\uc0c1\\ud1b5\\ud654\",\"\\uac00\\uc0c1\\ud1b5\\ud654\",\"\\uac00\\uc0c1\\ud1b5\\ud654\",\"\\uac00\\uc0c1\\ud1b5\\ud654\",\"\\uac00\\uc0c1\\ud1b5\\ud654\",\"\\uac00\\uc0c1\\ud1b5\\ud654\",\"\\uac00\\uc0c1\\ud1b5\\ud654\",\"\\uac00\\uc0c1\\ud1b5\\ud654\",\"\\uac00\\uc0c1\\ud1b5\\ud654\",\"\\uac00\\uc0c1\\ud1b5\\ud654\",\"\\uac00\\uc0c1\\ud1b5\\ud654\",\"\\uac00\\uc0c1\\ud1b5\\ud654\",\"\\uac00\\uc0c1\\ud1b5\\ud654\",\"\\uac00\\uc0c1\\ud1b5\\ud654\",\"\\uac00\\uc0c1\\ud1b5\\ud654\",\"\\uac00\\uc0c1\\ud1b5\\ud654\",\"\\uac00\\uc0c1\\ud1b5\\ud654\",\"\\uac00\\uc0c1\\ud1b5\\ud654\",\"\\uac00\\uc0c1\\ud1b5\\ud654\",\"\\uac00\\uc0c1\\ud1b5\\ud654\",\"\\uac00\\uc0c1\\ud1b5\\ud654\",\"\\uac00\\uc0c1\\ud1b5\\ud654\",\"\\uac00\\uc0c1\\ud1b5\\ud654\",\"\\uac00\\uc0c1\\ud1b5\\ud654\",\"\\uac00\\uc0c1\\ud1b5\\ud654\",\"\\uac00\\uc0c1\\ud1b5\\ud654\",\"\\uac00\\uc0c1\\ud1b5\\ud654\",\"\\uac00\\uc0c1\\ud1b5\\ud654\",\"\\uac00\\uc0c1\\ud1b5\\ud654\",\"\\uac00\\uc0c1\\ud1b5\\ud654\",\"\\uac00\\uc0c1\\ud1b5\\ud654\",\"\\uac00\\uc0c1\\ud1b5\\ud654\",\"\\uac00\\uc0c1\\ud1b5\\ud654\",\"\\uac00\\uc0c1\\ud1b5\\ud654\",\"\\uac00\\uc0c1\\ud1b5\\ud654\",\"\\uac00\\uc0c1\\ud1b5\\ud654\",\"\\uac00\\uc0c1\\ud1b5\\ud654\",\"\\uac00\\uc0c1\\ud1b5\\ud654\",\"\\uac00\\uc0c1\\ud1b5\\ud654\",\"\\uac00\\uc0c1\\ud1b5\\ud654\",\"\\uac00\\uc0c1\\ud1b5\\ud654\",\"\\uac00\\uc0c1\\ud1b5\\ud654\",\"\\uac00\\uc0c1\\ud1b5\\ud654\",\"\\uac00\\uc0c1\\ud1b5\\ud654\",\"\\uac00\\uc0c1\\ud1b5\\ud654\"],\"textposition\":\"auto\",\"x\":[\"2018-08-01T00:00:00\",\"2018-09-01T00:00:00\",\"2018-10-01T00:00:00\",\"2018-11-01T00:00:00\",\"2018-12-01T00:00:00\",\"2019-01-01T00:00:00\",\"2019-02-01T00:00:00\",\"2019-03-01T00:00:00\",\"2019-04-01T00:00:00\",\"2019-05-01T00:00:00\",\"2019-06-01T00:00:00\",\"2019-07-01T00:00:00\",\"2019-08-01T00:00:00\",\"2019-09-01T00:00:00\",\"2019-10-01T00:00:00\",\"2019-11-01T00:00:00\",\"2019-12-01T00:00:00\",\"2020-01-01T00:00:00\",\"2020-02-01T00:00:00\",\"2020-03-01T00:00:00\",\"2020-04-01T00:00:00\",\"2020-05-01T00:00:00\",\"2020-06-01T00:00:00\",\"2020-07-01T00:00:00\",\"2020-08-01T00:00:00\",\"2020-09-01T00:00:00\",\"2020-10-01T00:00:00\",\"2020-11-01T00:00:00\",\"2020-12-01T00:00:00\",\"2021-01-01T00:00:00\",\"2021-02-01T00:00:00\",\"2021-03-01T00:00:00\",\"2021-04-01T00:00:00\",\"2021-05-01T00:00:00\",\"2021-06-01T00:00:00\",\"2021-07-01T00:00:00\",\"2021-08-01T00:00:00\",\"2021-09-01T00:00:00\",\"2021-10-01T00:00:00\",\"2021-11-01T00:00:00\",\"2021-12-01T00:00:00\",\"2022-01-01T00:00:00\",\"2022-02-01T00:00:00\",\"2022-03-01T00:00:00\",\"2022-04-01T00:00:00\",\"2022-05-01T00:00:00\",\"2022-06-01T00:00:00\"],\"xaxis\":\"x\",\"y\":[0.1724137931034483,0.3333333333333333,0.08823529411764706,0.12698412698412698,0.15,0.19402985074626866,0.08823529411764706,0.04,0.08571428571428572,0.075,0.07142857142857142,0.0963855421686747,0.023255813953488372,0.01639344262295082,0.031914893617021274,0.02127659574468085,0.0,0.0,0.038461538461538464,0.05263157894736842,0.0,0.02631578947368421,0.0,0.025,0.1,0.0,0.027777777777777776,0.03773584905660377,0.015625,0.058823529411764705,0.016,0.06779661016949153,0.017857142857142856,0.029411764705882353,0.02654867256637168,0.012658227848101266,0.0,0.0,0.0,0.0,0.008620689655172414,0.006622516556291391,0.0,0.0,0.008928571428571428,0.0,0.0070921985815602835],\"yaxis\":\"y\",\"type\":\"bar\"},{\"alignmentgroup\":\"True\",\"hovertemplate\":\"keyword=%{text}<br>Date=%{x}<br>Percent=%{y}<extra></extra>\",\"legendgroup\":\"\\uc554\\ud638\\ud654\\ud3d0\",\"marker\":{\"color\":\"#00cc96\",\"pattern\":{\"shape\":\"\"}},\"name\":\"\\uc554\\ud638\\ud654\\ud3d0\",\"offsetgroup\":\"\\uc554\\ud638\\ud654\\ud3d0\",\"orientation\":\"v\",\"showlegend\":true,\"text\":[\"\\uc554\\ud638\\ud654\\ud3d0\",\"\\uc554\\ud638\\ud654\\ud3d0\",\"\\uc554\\ud638\\ud654\\ud3d0\",\"\\uc554\\ud638\\ud654\\ud3d0\",\"\\uc554\\ud638\\ud654\\ud3d0\",\"\\uc554\\ud638\\ud654\\ud3d0\",\"\\uc554\\ud638\\ud654\\ud3d0\",\"\\uc554\\ud638\\ud654\\ud3d0\",\"\\uc554\\ud638\\ud654\\ud3d0\",\"\\uc554\\ud638\\ud654\\ud3d0\",\"\\uc554\\ud638\\ud654\\ud3d0\",\"\\uc554\\ud638\\ud654\\ud3d0\",\"\\uc554\\ud638\\ud654\\ud3d0\",\"\\uc554\\ud638\\ud654\\ud3d0\",\"\\uc554\\ud638\\ud654\\ud3d0\",\"\\uc554\\ud638\\ud654\\ud3d0\",\"\\uc554\\ud638\\ud654\\ud3d0\",\"\\uc554\\ud638\\ud654\\ud3d0\",\"\\uc554\\ud638\\ud654\\ud3d0\",\"\\uc554\\ud638\\ud654\\ud3d0\",\"\\uc554\\ud638\\ud654\\ud3d0\",\"\\uc554\\ud638\\ud654\\ud3d0\",\"\\uc554\\ud638\\ud654\\ud3d0\",\"\\uc554\\ud638\\ud654\\ud3d0\",\"\\uc554\\ud638\\ud654\\ud3d0\",\"\\uc554\\ud638\\ud654\\ud3d0\",\"\\uc554\\ud638\\ud654\\ud3d0\",\"\\uc554\\ud638\\ud654\\ud3d0\",\"\\uc554\\ud638\\ud654\\ud3d0\",\"\\uc554\\ud638\\ud654\\ud3d0\",\"\\uc554\\ud638\\ud654\\ud3d0\",\"\\uc554\\ud638\\ud654\\ud3d0\",\"\\uc554\\ud638\\ud654\\ud3d0\",\"\\uc554\\ud638\\ud654\\ud3d0\",\"\\uc554\\ud638\\ud654\\ud3d0\",\"\\uc554\\ud638\\ud654\\ud3d0\",\"\\uc554\\ud638\\ud654\\ud3d0\",\"\\uc554\\ud638\\ud654\\ud3d0\",\"\\uc554\\ud638\\ud654\\ud3d0\",\"\\uc554\\ud638\\ud654\\ud3d0\",\"\\uc554\\ud638\\ud654\\ud3d0\",\"\\uc554\\ud638\\ud654\\ud3d0\",\"\\uc554\\ud638\\ud654\\ud3d0\",\"\\uc554\\ud638\\ud654\\ud3d0\",\"\\uc554\\ud638\\ud654\\ud3d0\",\"\\uc554\\ud638\\ud654\\ud3d0\",\"\\uc554\\ud638\\ud654\\ud3d0\"],\"textposition\":\"auto\",\"x\":[\"2018-08-01T00:00:00\",\"2018-09-01T00:00:00\",\"2018-10-01T00:00:00\",\"2018-11-01T00:00:00\",\"2018-12-01T00:00:00\",\"2019-01-01T00:00:00\",\"2019-02-01T00:00:00\",\"2019-03-01T00:00:00\",\"2019-04-01T00:00:00\",\"2019-05-01T00:00:00\",\"2019-06-01T00:00:00\",\"2019-07-01T00:00:00\",\"2019-08-01T00:00:00\",\"2019-09-01T00:00:00\",\"2019-10-01T00:00:00\",\"2019-11-01T00:00:00\",\"2019-12-01T00:00:00\",\"2020-01-01T00:00:00\",\"2020-02-01T00:00:00\",\"2020-03-01T00:00:00\",\"2020-04-01T00:00:00\",\"2020-05-01T00:00:00\",\"2020-06-01T00:00:00\",\"2020-07-01T00:00:00\",\"2020-08-01T00:00:00\",\"2020-09-01T00:00:00\",\"2020-10-01T00:00:00\",\"2020-11-01T00:00:00\",\"2020-12-01T00:00:00\",\"2021-01-01T00:00:00\",\"2021-02-01T00:00:00\",\"2021-03-01T00:00:00\",\"2021-04-01T00:00:00\",\"2021-05-01T00:00:00\",\"2021-06-01T00:00:00\",\"2021-07-01T00:00:00\",\"2021-08-01T00:00:00\",\"2021-09-01T00:00:00\",\"2021-10-01T00:00:00\",\"2021-11-01T00:00:00\",\"2021-12-01T00:00:00\",\"2022-01-01T00:00:00\",\"2022-02-01T00:00:00\",\"2022-03-01T00:00:00\",\"2022-04-01T00:00:00\",\"2022-05-01T00:00:00\",\"2022-06-01T00:00:00\"],\"xaxis\":\"x\",\"y\":[0.8275862068965517,0.6666666666666666,0.9117647058823529,0.873015873015873,0.85,0.7910447761194029,0.8823529411764706,0.96,0.9142857142857143,0.925,0.9285714285714286,0.8795180722891566,0.9767441860465116,0.9836065573770492,0.8085106382978723,0.9148936170212766,0.9387755102040817,1.0,0.9230769230769231,0.5789473684210527,0.5789473684210527,0.6052631578947368,0.4523809523809524,0.475,0.3,0.5806451612903226,0.3611111111111111,0.32075471698113206,0.515625,0.4117647058823529,0.704,0.5423728813559322,0.5833333333333334,0.542016806722689,0.504424778761062,0.6075949367088608,0.4246575342465753,0.4868421052631579,0.4431818181818182,0.31851851851851853,0.20689655172413793,0.2847682119205298,0.3411764705882353,0.3974358974358974,0.35714285714285715,0.32272727272727275,0.3333333333333333],\"yaxis\":\"y\",\"type\":\"bar\"}],                        {\"template\":{\"data\":{\"histogram2dcontour\":[{\"type\":\"histogram2dcontour\",\"colorbar\":{\"outlinewidth\":0,\"ticks\":\"\"},\"colorscale\":[[0.0,\"#0d0887\"],[0.1111111111111111,\"#46039f\"],[0.2222222222222222,\"#7201a8\"],[0.3333333333333333,\"#9c179e\"],[0.4444444444444444,\"#bd3786\"],[0.5555555555555556,\"#d8576b\"],[0.6666666666666666,\"#ed7953\"],[0.7777777777777778,\"#fb9f3a\"],[0.8888888888888888,\"#fdca26\"],[1.0,\"#f0f921\"]]}],\"choropleth\":[{\"type\":\"choropleth\",\"colorbar\":{\"outlinewidth\":0,\"ticks\":\"\"}}],\"histogram2d\":[{\"type\":\"histogram2d\",\"colorbar\":{\"outlinewidth\":0,\"ticks\":\"\"},\"colorscale\":[[0.0,\"#0d0887\"],[0.1111111111111111,\"#46039f\"],[0.2222222222222222,\"#7201a8\"],[0.3333333333333333,\"#9c179e\"],[0.4444444444444444,\"#bd3786\"],[0.5555555555555556,\"#d8576b\"],[0.6666666666666666,\"#ed7953\"],[0.7777777777777778,\"#fb9f3a\"],[0.8888888888888888,\"#fdca26\"],[1.0,\"#f0f921\"]]}],\"heatmap\":[{\"type\":\"heatmap\",\"colorbar\":{\"outlinewidth\":0,\"ticks\":\"\"},\"colorscale\":[[0.0,\"#0d0887\"],[0.1111111111111111,\"#46039f\"],[0.2222222222222222,\"#7201a8\"],[0.3333333333333333,\"#9c179e\"],[0.4444444444444444,\"#bd3786\"],[0.5555555555555556,\"#d8576b\"],[0.6666666666666666,\"#ed7953\"],[0.7777777777777778,\"#fb9f3a\"],[0.8888888888888888,\"#fdca26\"],[1.0,\"#f0f921\"]]}],\"heatmapgl\":[{\"type\":\"heatmapgl\",\"colorbar\":{\"outlinewidth\":0,\"ticks\":\"\"},\"colorscale\":[[0.0,\"#0d0887\"],[0.1111111111111111,\"#46039f\"],[0.2222222222222222,\"#7201a8\"],[0.3333333333333333,\"#9c179e\"],[0.4444444444444444,\"#bd3786\"],[0.5555555555555556,\"#d8576b\"],[0.6666666666666666,\"#ed7953\"],[0.7777777777777778,\"#fb9f3a\"],[0.8888888888888888,\"#fdca26\"],[1.0,\"#f0f921\"]]}],\"contourcarpet\":[{\"type\":\"contourcarpet\",\"colorbar\":{\"outlinewidth\":0,\"ticks\":\"\"}}],\"contour\":[{\"type\":\"contour\",\"colorbar\":{\"outlinewidth\":0,\"ticks\":\"\"},\"colorscale\":[[0.0,\"#0d0887\"],[0.1111111111111111,\"#46039f\"],[0.2222222222222222,\"#7201a8\"],[0.3333333333333333,\"#9c179e\"],[0.4444444444444444,\"#bd3786\"],[0.5555555555555556,\"#d8576b\"],[0.6666666666666666,\"#ed7953\"],[0.7777777777777778,\"#fb9f3a\"],[0.8888888888888888,\"#fdca26\"],[1.0,\"#f0f921\"]]}],\"surface\":[{\"type\":\"surface\",\"colorbar\":{\"outlinewidth\":0,\"ticks\":\"\"},\"colorscale\":[[0.0,\"#0d0887\"],[0.1111111111111111,\"#46039f\"],[0.2222222222222222,\"#7201a8\"],[0.3333333333333333,\"#9c179e\"],[0.4444444444444444,\"#bd3786\"],[0.5555555555555556,\"#d8576b\"],[0.6666666666666666,\"#ed7953\"],[0.7777777777777778,\"#fb9f3a\"],[0.8888888888888888,\"#fdca26\"],[1.0,\"#f0f921\"]]}],\"mesh3d\":[{\"type\":\"mesh3d\",\"colorbar\":{\"outlinewidth\":0,\"ticks\":\"\"}}],\"scatter\":[{\"fillpattern\":{\"fillmode\":\"overlay\",\"size\":10,\"solidity\":0.2},\"type\":\"scatter\"}],\"parcoords\":[{\"type\":\"parcoords\",\"line\":{\"colorbar\":{\"outlinewidth\":0,\"ticks\":\"\"}}}],\"scatterpolargl\":[{\"type\":\"scatterpolargl\",\"marker\":{\"colorbar\":{\"outlinewidth\":0,\"ticks\":\"\"}}}],\"bar\":[{\"error_x\":{\"color\":\"#2a3f5f\"},\"error_y\":{\"color\":\"#2a3f5f\"},\"marker\":{\"line\":{\"color\":\"#E5ECF6\",\"width\":0.5},\"pattern\":{\"fillmode\":\"overlay\",\"size\":10,\"solidity\":0.2}},\"type\":\"bar\"}],\"scattergeo\":[{\"type\":\"scattergeo\",\"marker\":{\"colorbar\":{\"outlinewidth\":0,\"ticks\":\"\"}}}],\"scatterpolar\":[{\"type\":\"scatterpolar\",\"marker\":{\"colorbar\":{\"outlinewidth\":0,\"ticks\":\"\"}}}],\"histogram\":[{\"marker\":{\"pattern\":{\"fillmode\":\"overlay\",\"size\":10,\"solidity\":0.2}},\"type\":\"histogram\"}],\"scattergl\":[{\"type\":\"scattergl\",\"marker\":{\"colorbar\":{\"outlinewidth\":0,\"ticks\":\"\"}}}],\"scatter3d\":[{\"type\":\"scatter3d\",\"line\":{\"colorbar\":{\"outlinewidth\":0,\"ticks\":\"\"}},\"marker\":{\"colorbar\":{\"outlinewidth\":0,\"ticks\":\"\"}}}],\"scattermapbox\":[{\"type\":\"scattermapbox\",\"marker\":{\"colorbar\":{\"outlinewidth\":0,\"ticks\":\"\"}}}],\"scatterternary\":[{\"type\":\"scatterternary\",\"marker\":{\"colorbar\":{\"outlinewidth\":0,\"ticks\":\"\"}}}],\"scattercarpet\":[{\"type\":\"scattercarpet\",\"marker\":{\"colorbar\":{\"outlinewidth\":0,\"ticks\":\"\"}}}],\"carpet\":[{\"aaxis\":{\"endlinecolor\":\"#2a3f5f\",\"gridcolor\":\"white\",\"linecolor\":\"white\",\"minorgridcolor\":\"white\",\"startlinecolor\":\"#2a3f5f\"},\"baxis\":{\"endlinecolor\":\"#2a3f5f\",\"gridcolor\":\"white\",\"linecolor\":\"white\",\"minorgridcolor\":\"white\",\"startlinecolor\":\"#2a3f5f\"},\"type\":\"carpet\"}],\"table\":[{\"cells\":{\"fill\":{\"color\":\"#EBF0F8\"},\"line\":{\"color\":\"white\"}},\"header\":{\"fill\":{\"color\":\"#C8D4E3\"},\"line\":{\"color\":\"white\"}},\"type\":\"table\"}],\"barpolar\":[{\"marker\":{\"line\":{\"color\":\"#E5ECF6\",\"width\":0.5},\"pattern\":{\"fillmode\":\"overlay\",\"size\":10,\"solidity\":0.2}},\"type\":\"barpolar\"}],\"pie\":[{\"automargin\":true,\"type\":\"pie\"}]},\"layout\":{\"autotypenumbers\":\"strict\",\"colorway\":[\"#636efa\",\"#EF553B\",\"#00cc96\",\"#ab63fa\",\"#FFA15A\",\"#19d3f3\",\"#FF6692\",\"#B6E880\",\"#FF97FF\",\"#FECB52\"],\"font\":{\"color\":\"#2a3f5f\"},\"hovermode\":\"closest\",\"hoverlabel\":{\"align\":\"left\"},\"paper_bgcolor\":\"white\",\"plot_bgcolor\":\"#E5ECF6\",\"polar\":{\"bgcolor\":\"#E5ECF6\",\"angularaxis\":{\"gridcolor\":\"white\",\"linecolor\":\"white\",\"ticks\":\"\"},\"radialaxis\":{\"gridcolor\":\"white\",\"linecolor\":\"white\",\"ticks\":\"\"}},\"ternary\":{\"bgcolor\":\"#E5ECF6\",\"aaxis\":{\"gridcolor\":\"white\",\"linecolor\":\"white\",\"ticks\":\"\"},\"baxis\":{\"gridcolor\":\"white\",\"linecolor\":\"white\",\"ticks\":\"\"},\"caxis\":{\"gridcolor\":\"white\",\"linecolor\":\"white\",\"ticks\":\"\"}},\"coloraxis\":{\"colorbar\":{\"outlinewidth\":0,\"ticks\":\"\"}},\"colorscale\":{\"sequential\":[[0.0,\"#0d0887\"],[0.1111111111111111,\"#46039f\"],[0.2222222222222222,\"#7201a8\"],[0.3333333333333333,\"#9c179e\"],[0.4444444444444444,\"#bd3786\"],[0.5555555555555556,\"#d8576b\"],[0.6666666666666666,\"#ed7953\"],[0.7777777777777778,\"#fb9f3a\"],[0.8888888888888888,\"#fdca26\"],[1.0,\"#f0f921\"]],\"sequentialminus\":[[0.0,\"#0d0887\"],[0.1111111111111111,\"#46039f\"],[0.2222222222222222,\"#7201a8\"],[0.3333333333333333,\"#9c179e\"],[0.4444444444444444,\"#bd3786\"],[0.5555555555555556,\"#d8576b\"],[0.6666666666666666,\"#ed7953\"],[0.7777777777777778,\"#fb9f3a\"],[0.8888888888888888,\"#fdca26\"],[1.0,\"#f0f921\"]],\"diverging\":[[0,\"#8e0152\"],[0.1,\"#c51b7d\"],[0.2,\"#de77ae\"],[0.3,\"#f1b6da\"],[0.4,\"#fde0ef\"],[0.5,\"#f7f7f7\"],[0.6,\"#e6f5d0\"],[0.7,\"#b8e186\"],[0.8,\"#7fbc41\"],[0.9,\"#4d9221\"],[1,\"#276419\"]]},\"xaxis\":{\"gridcolor\":\"white\",\"linecolor\":\"white\",\"ticks\":\"\",\"title\":{\"standoff\":15},\"zerolinecolor\":\"white\",\"automargin\":true,\"zerolinewidth\":2},\"yaxis\":{\"gridcolor\":\"white\",\"linecolor\":\"white\",\"ticks\":\"\",\"title\":{\"standoff\":15},\"zerolinecolor\":\"white\",\"automargin\":true,\"zerolinewidth\":2},\"scene\":{\"xaxis\":{\"backgroundcolor\":\"#E5ECF6\",\"gridcolor\":\"white\",\"linecolor\":\"white\",\"showbackground\":true,\"ticks\":\"\",\"zerolinecolor\":\"white\",\"gridwidth\":2},\"yaxis\":{\"backgroundcolor\":\"#E5ECF6\",\"gridcolor\":\"white\",\"linecolor\":\"white\",\"showbackground\":true,\"ticks\":\"\",\"zerolinecolor\":\"white\",\"gridwidth\":2},\"zaxis\":{\"backgroundcolor\":\"#E5ECF6\",\"gridcolor\":\"white\",\"linecolor\":\"white\",\"showbackground\":true,\"ticks\":\"\",\"zerolinecolor\":\"white\",\"gridwidth\":2}},\"shapedefaults\":{\"line\":{\"color\":\"#2a3f5f\"}},\"annotationdefaults\":{\"arrowcolor\":\"#2a3f5f\",\"arrowhead\":0,\"arrowwidth\":1},\"geo\":{\"bgcolor\":\"white\",\"landcolor\":\"#E5ECF6\",\"subunitcolor\":\"white\",\"showland\":true,\"showlakes\":true,\"lakecolor\":\"white\"},\"title\":{\"x\":0.05},\"mapbox\":{\"style\":\"light\"}}},\"xaxis\":{\"anchor\":\"y\",\"domain\":[0.0,1.0],\"title\":{\"text\":\"Date\"}},\"yaxis\":{\"anchor\":\"x\",\"domain\":[0.0,1.0],\"title\":{\"text\":\"Percent\"}},\"legend\":{\"title\":{\"text\":\"keyword\"},\"tracegroupgap\":0},\"margin\":{\"t\":60},\"barmode\":\"relative\",\"bargap\":0},                        {\"responsive\": true}                    ).then(function(){\n",
       "                            \n",
       "var gd = document.getElementById('f9c320f9-9a05-425e-b62d-5b90aa5ee964');\n",
       "var x = new MutationObserver(function (mutations, observer) {{\n",
       "        var display = window.getComputedStyle(gd).display;\n",
       "        if (!display || display === 'none') {{\n",
       "            console.log([gd, 'removed!']);\n",
       "            Plotly.purge(gd);\n",
       "            observer.disconnect();\n",
       "        }}\n",
       "}});\n",
       "\n",
       "// Listen for the removal of the full notebook cells\n",
       "var notebookContainer = gd.closest('#notebook-container');\n",
       "if (notebookContainer) {{\n",
       "    x.observe(notebookContainer, {childList: true});\n",
       "}}\n",
       "\n",
       "// Listen for the clearing of the current output cell\n",
       "var outputEl = gd.closest('.output');\n",
       "if (outputEl) {{\n",
       "    x.observe(outputEl, {childList: true});\n",
       "}}\n",
       "\n",
       "                        })                };                });            </script>        </div>"
      ]
     },
     "metadata": {},
     "output_type": "display_data"
    }
   ],
   "source": [
    "mekko(df_k,['가상자산','가상통화','암호화폐'])"
   ]
  },
  {
   "cell_type": "code",
   "execution_count": 45,
   "id": "2adab4be",
   "metadata": {},
   "outputs": [
    {
     "data": {
      "application/vnd.plotly.v1+json": {
       "config": {
        "plotlyServerURL": "https://plot.ly"
       },
       "data": [
        {
         "alignmentgroup": "True",
         "hovertemplate": "keyword=%{text}<br>Date=%{x}<br>Percent=%{y}<extra></extra>",
         "legendgroup": "virtualassets",
         "marker": {
          "color": "#636efa",
          "pattern": {
           "shape": ""
          }
         },
         "name": "virtualassets",
         "offsetgroup": "virtualassets",
         "orientation": "v",
         "showlegend": true,
         "text": [
          "virtualassets",
          "virtualassets",
          "virtualassets",
          "virtualassets",
          "virtualassets",
          "virtualassets",
          "virtualassets",
          "virtualassets",
          "virtualassets",
          "virtualassets",
          "virtualassets",
          "virtualassets",
          "virtualassets",
          "virtualassets",
          "virtualassets",
          "virtualassets",
          "virtualassets",
          "virtualassets",
          "virtualassets",
          "virtualassets",
          "virtualassets",
          "virtualassets",
          "virtualassets",
          "virtualassets",
          "virtualassets",
          "virtualassets",
          "virtualassets",
          "virtualassets",
          "virtualassets",
          "virtualassets",
          "virtualassets",
          "virtualassets",
          "virtualassets",
          "virtualassets",
          "virtualassets"
         ],
         "textposition": "auto",
         "type": "bar",
         "x": [
          "2019-08-01T00:00:00",
          "2019-09-01T00:00:00",
          "2019-10-01T00:00:00",
          "2019-11-01T00:00:00",
          "2019-12-01T00:00:00",
          "2020-01-01T00:00:00",
          "2020-02-01T00:00:00",
          "2020-03-01T00:00:00",
          "2020-04-01T00:00:00",
          "2020-05-01T00:00:00",
          "2020-06-01T00:00:00",
          "2020-07-01T00:00:00",
          "2020-08-01T00:00:00",
          "2020-09-01T00:00:00",
          "2020-10-01T00:00:00",
          "2020-11-01T00:00:00",
          "2020-12-01T00:00:00",
          "2021-01-01T00:00:00",
          "2021-02-01T00:00:00",
          "2021-03-01T00:00:00",
          "2021-04-01T00:00:00",
          "2021-05-01T00:00:00",
          "2021-06-01T00:00:00",
          "2021-07-01T00:00:00",
          "2021-08-01T00:00:00",
          "2021-09-01T00:00:00",
          "2021-10-01T00:00:00",
          "2021-11-01T00:00:00",
          "2021-12-01T00:00:00",
          "2022-01-01T00:00:00",
          "2022-02-01T00:00:00",
          "2022-03-01T00:00:00",
          "2022-04-01T00:00:00",
          "2022-05-01T00:00:00",
          "2022-06-01T00:00:00"
         ],
         "xaxis": "x",
         "y": [
          0,
          0,
          0,
          0,
          0,
          0,
          0,
          0,
          0,
          0,
          0.3333333333333333,
          0,
          0,
          0,
          0.06666666666666667,
          0,
          0.07142857142857142,
          0,
          0.125,
          0,
          0,
          0.03225806451612903,
          0.07142857142857142,
          0,
          0.05263157894736842,
          0.03333333333333333,
          0,
          0,
          0.047619047619047616,
          0,
          0.11764705882352941,
          0.029411764705882353,
          0.034482758620689655,
          0.07692307692307693,
          0.024390243902439025
         ],
         "yaxis": "y"
        },
        {
         "alignmentgroup": "True",
         "hovertemplate": "keyword=%{text}<br>Date=%{x}<br>Percent=%{y}<extra></extra>",
         "legendgroup": "virtualcurrency",
         "marker": {
          "color": "#EF553B",
          "pattern": {
           "shape": ""
          }
         },
         "name": "virtualcurrency",
         "offsetgroup": "virtualcurrency",
         "orientation": "v",
         "showlegend": true,
         "text": [
          "virtualcurrency",
          "virtualcurrency",
          "virtualcurrency",
          "virtualcurrency",
          "virtualcurrency",
          "virtualcurrency",
          "virtualcurrency",
          "virtualcurrency",
          "virtualcurrency",
          "virtualcurrency",
          "virtualcurrency",
          "virtualcurrency",
          "virtualcurrency",
          "virtualcurrency",
          "virtualcurrency",
          "virtualcurrency",
          "virtualcurrency",
          "virtualcurrency",
          "virtualcurrency",
          "virtualcurrency",
          "virtualcurrency",
          "virtualcurrency",
          "virtualcurrency",
          "virtualcurrency",
          "virtualcurrency",
          "virtualcurrency",
          "virtualcurrency",
          "virtualcurrency",
          "virtualcurrency",
          "virtualcurrency",
          "virtualcurrency",
          "virtualcurrency",
          "virtualcurrency",
          "virtualcurrency",
          "virtualcurrency"
         ],
         "textposition": "auto",
         "type": "bar",
         "x": [
          "2019-08-01T00:00:00",
          "2019-09-01T00:00:00",
          "2019-10-01T00:00:00",
          "2019-11-01T00:00:00",
          "2019-12-01T00:00:00",
          "2020-01-01T00:00:00",
          "2020-02-01T00:00:00",
          "2020-03-01T00:00:00",
          "2020-04-01T00:00:00",
          "2020-05-01T00:00:00",
          "2020-06-01T00:00:00",
          "2020-07-01T00:00:00",
          "2020-08-01T00:00:00",
          "2020-09-01T00:00:00",
          "2020-10-01T00:00:00",
          "2020-11-01T00:00:00",
          "2020-12-01T00:00:00",
          "2021-01-01T00:00:00",
          "2021-02-01T00:00:00",
          "2021-03-01T00:00:00",
          "2021-04-01T00:00:00",
          "2021-05-01T00:00:00",
          "2021-06-01T00:00:00",
          "2021-07-01T00:00:00",
          "2021-08-01T00:00:00",
          "2021-09-01T00:00:00",
          "2021-10-01T00:00:00",
          "2021-11-01T00:00:00",
          "2021-12-01T00:00:00",
          "2022-01-01T00:00:00",
          "2022-02-01T00:00:00",
          "2022-03-01T00:00:00",
          "2022-04-01T00:00:00",
          "2022-05-01T00:00:00",
          "2022-06-01T00:00:00"
         ],
         "xaxis": "x",
         "y": [
          0,
          0.1111111111111111,
          0,
          0.125,
          0,
          0,
          0,
          0,
          0,
          0,
          0.3333333333333333,
          0,
          0,
          0.1111111111111111,
          0.06666666666666667,
          0.1111111111111111,
          0.14285714285714285,
          0.11764705882352941,
          0.1875,
          0.12121212121212122,
          0.05,
          0.06451612903225806,
          0.03571428571428571,
          0.08333333333333333,
          0.05263157894736842,
          0,
          0.05263157894736842,
          0.10344827586206896,
          0.047619047619047616,
          0,
          0.08823529411764706,
          0.058823529411764705,
          0,
          0.038461538461538464,
          0.04878048780487805
         ],
         "yaxis": "y"
        },
        {
         "alignmentgroup": "True",
         "hovertemplate": "keyword=%{text}<br>Date=%{x}<br>Percent=%{y}<extra></extra>",
         "legendgroup": "cryptocurrency",
         "marker": {
          "color": "#00cc96",
          "pattern": {
           "shape": ""
          }
         },
         "name": "cryptocurrency",
         "offsetgroup": "cryptocurrency",
         "orientation": "v",
         "showlegend": true,
         "text": [
          "cryptocurrency",
          "cryptocurrency",
          "cryptocurrency",
          "cryptocurrency",
          "cryptocurrency",
          "cryptocurrency",
          "cryptocurrency",
          "cryptocurrency",
          "cryptocurrency",
          "cryptocurrency",
          "cryptocurrency",
          "cryptocurrency",
          "cryptocurrency",
          "cryptocurrency",
          "cryptocurrency",
          "cryptocurrency",
          "cryptocurrency",
          "cryptocurrency",
          "cryptocurrency",
          "cryptocurrency",
          "cryptocurrency",
          "cryptocurrency",
          "cryptocurrency",
          "cryptocurrency",
          "cryptocurrency",
          "cryptocurrency",
          "cryptocurrency",
          "cryptocurrency",
          "cryptocurrency",
          "cryptocurrency",
          "cryptocurrency",
          "cryptocurrency",
          "cryptocurrency",
          "cryptocurrency",
          "cryptocurrency"
         ],
         "textposition": "auto",
         "type": "bar",
         "x": [
          "2019-08-01T00:00:00",
          "2019-09-01T00:00:00",
          "2019-10-01T00:00:00",
          "2019-11-01T00:00:00",
          "2019-12-01T00:00:00",
          "2020-01-01T00:00:00",
          "2020-02-01T00:00:00",
          "2020-03-01T00:00:00",
          "2020-04-01T00:00:00",
          "2020-05-01T00:00:00",
          "2020-06-01T00:00:00",
          "2020-07-01T00:00:00",
          "2020-08-01T00:00:00",
          "2020-09-01T00:00:00",
          "2020-10-01T00:00:00",
          "2020-11-01T00:00:00",
          "2020-12-01T00:00:00",
          "2021-01-01T00:00:00",
          "2021-02-01T00:00:00",
          "2021-03-01T00:00:00",
          "2021-04-01T00:00:00",
          "2021-05-01T00:00:00",
          "2021-06-01T00:00:00",
          "2021-07-01T00:00:00",
          "2021-08-01T00:00:00",
          "2021-09-01T00:00:00",
          "2021-10-01T00:00:00",
          "2021-11-01T00:00:00",
          "2021-12-01T00:00:00",
          "2022-01-01T00:00:00",
          "2022-02-01T00:00:00",
          "2022-03-01T00:00:00",
          "2022-04-01T00:00:00",
          "2022-05-01T00:00:00",
          "2022-06-01T00:00:00"
         ],
         "xaxis": "x",
         "y": [
          1,
          0.8888888888888888,
          1,
          0.875,
          1,
          1,
          1,
          1,
          1,
          1,
          0.3333333333333333,
          1,
          1,
          0.8888888888888888,
          0.8666666666666667,
          0.8888888888888888,
          0.7857142857142857,
          0.8823529411764706,
          0.6875,
          0.8787878787878788,
          0.95,
          0.9032258064516129,
          0.8928571428571429,
          0.9166666666666666,
          0.8947368421052632,
          0.9666666666666667,
          0.9473684210526315,
          0.896551724137931,
          0.9047619047619048,
          1,
          0.7941176470588235,
          0.9117647058823529,
          0.9655172413793104,
          0.8846153846153846,
          0.926829268292683
         ],
         "yaxis": "y"
        }
       ],
       "layout": {
        "bargap": 0,
        "barmode": "relative",
        "legend": {
         "title": {
          "text": "keyword"
         },
         "tracegroupgap": 0
        },
        "margin": {
         "t": 60
        },
        "template": {
         "data": {
          "bar": [
           {
            "error_x": {
             "color": "#2a3f5f"
            },
            "error_y": {
             "color": "#2a3f5f"
            },
            "marker": {
             "line": {
              "color": "#E5ECF6",
              "width": 0.5
             },
             "pattern": {
              "fillmode": "overlay",
              "size": 10,
              "solidity": 0.2
             }
            },
            "type": "bar"
           }
          ],
          "barpolar": [
           {
            "marker": {
             "line": {
              "color": "#E5ECF6",
              "width": 0.5
             },
             "pattern": {
              "fillmode": "overlay",
              "size": 10,
              "solidity": 0.2
             }
            },
            "type": "barpolar"
           }
          ],
          "carpet": [
           {
            "aaxis": {
             "endlinecolor": "#2a3f5f",
             "gridcolor": "white",
             "linecolor": "white",
             "minorgridcolor": "white",
             "startlinecolor": "#2a3f5f"
            },
            "baxis": {
             "endlinecolor": "#2a3f5f",
             "gridcolor": "white",
             "linecolor": "white",
             "minorgridcolor": "white",
             "startlinecolor": "#2a3f5f"
            },
            "type": "carpet"
           }
          ],
          "choropleth": [
           {
            "colorbar": {
             "outlinewidth": 0,
             "ticks": ""
            },
            "type": "choropleth"
           }
          ],
          "contour": [
           {
            "colorbar": {
             "outlinewidth": 0,
             "ticks": ""
            },
            "colorscale": [
             [
              0,
              "#0d0887"
             ],
             [
              0.1111111111111111,
              "#46039f"
             ],
             [
              0.2222222222222222,
              "#7201a8"
             ],
             [
              0.3333333333333333,
              "#9c179e"
             ],
             [
              0.4444444444444444,
              "#bd3786"
             ],
             [
              0.5555555555555556,
              "#d8576b"
             ],
             [
              0.6666666666666666,
              "#ed7953"
             ],
             [
              0.7777777777777778,
              "#fb9f3a"
             ],
             [
              0.8888888888888888,
              "#fdca26"
             ],
             [
              1,
              "#f0f921"
             ]
            ],
            "type": "contour"
           }
          ],
          "contourcarpet": [
           {
            "colorbar": {
             "outlinewidth": 0,
             "ticks": ""
            },
            "type": "contourcarpet"
           }
          ],
          "heatmap": [
           {
            "colorbar": {
             "outlinewidth": 0,
             "ticks": ""
            },
            "colorscale": [
             [
              0,
              "#0d0887"
             ],
             [
              0.1111111111111111,
              "#46039f"
             ],
             [
              0.2222222222222222,
              "#7201a8"
             ],
             [
              0.3333333333333333,
              "#9c179e"
             ],
             [
              0.4444444444444444,
              "#bd3786"
             ],
             [
              0.5555555555555556,
              "#d8576b"
             ],
             [
              0.6666666666666666,
              "#ed7953"
             ],
             [
              0.7777777777777778,
              "#fb9f3a"
             ],
             [
              0.8888888888888888,
              "#fdca26"
             ],
             [
              1,
              "#f0f921"
             ]
            ],
            "type": "heatmap"
           }
          ],
          "heatmapgl": [
           {
            "colorbar": {
             "outlinewidth": 0,
             "ticks": ""
            },
            "colorscale": [
             [
              0,
              "#0d0887"
             ],
             [
              0.1111111111111111,
              "#46039f"
             ],
             [
              0.2222222222222222,
              "#7201a8"
             ],
             [
              0.3333333333333333,
              "#9c179e"
             ],
             [
              0.4444444444444444,
              "#bd3786"
             ],
             [
              0.5555555555555556,
              "#d8576b"
             ],
             [
              0.6666666666666666,
              "#ed7953"
             ],
             [
              0.7777777777777778,
              "#fb9f3a"
             ],
             [
              0.8888888888888888,
              "#fdca26"
             ],
             [
              1,
              "#f0f921"
             ]
            ],
            "type": "heatmapgl"
           }
          ],
          "histogram": [
           {
            "marker": {
             "pattern": {
              "fillmode": "overlay",
              "size": 10,
              "solidity": 0.2
             }
            },
            "type": "histogram"
           }
          ],
          "histogram2d": [
           {
            "colorbar": {
             "outlinewidth": 0,
             "ticks": ""
            },
            "colorscale": [
             [
              0,
              "#0d0887"
             ],
             [
              0.1111111111111111,
              "#46039f"
             ],
             [
              0.2222222222222222,
              "#7201a8"
             ],
             [
              0.3333333333333333,
              "#9c179e"
             ],
             [
              0.4444444444444444,
              "#bd3786"
             ],
             [
              0.5555555555555556,
              "#d8576b"
             ],
             [
              0.6666666666666666,
              "#ed7953"
             ],
             [
              0.7777777777777778,
              "#fb9f3a"
             ],
             [
              0.8888888888888888,
              "#fdca26"
             ],
             [
              1,
              "#f0f921"
             ]
            ],
            "type": "histogram2d"
           }
          ],
          "histogram2dcontour": [
           {
            "colorbar": {
             "outlinewidth": 0,
             "ticks": ""
            },
            "colorscale": [
             [
              0,
              "#0d0887"
             ],
             [
              0.1111111111111111,
              "#46039f"
             ],
             [
              0.2222222222222222,
              "#7201a8"
             ],
             [
              0.3333333333333333,
              "#9c179e"
             ],
             [
              0.4444444444444444,
              "#bd3786"
             ],
             [
              0.5555555555555556,
              "#d8576b"
             ],
             [
              0.6666666666666666,
              "#ed7953"
             ],
             [
              0.7777777777777778,
              "#fb9f3a"
             ],
             [
              0.8888888888888888,
              "#fdca26"
             ],
             [
              1,
              "#f0f921"
             ]
            ],
            "type": "histogram2dcontour"
           }
          ],
          "mesh3d": [
           {
            "colorbar": {
             "outlinewidth": 0,
             "ticks": ""
            },
            "type": "mesh3d"
           }
          ],
          "parcoords": [
           {
            "line": {
             "colorbar": {
              "outlinewidth": 0,
              "ticks": ""
             }
            },
            "type": "parcoords"
           }
          ],
          "pie": [
           {
            "automargin": true,
            "type": "pie"
           }
          ],
          "scatter": [
           {
            "fillpattern": {
             "fillmode": "overlay",
             "size": 10,
             "solidity": 0.2
            },
            "type": "scatter"
           }
          ],
          "scatter3d": [
           {
            "line": {
             "colorbar": {
              "outlinewidth": 0,
              "ticks": ""
             }
            },
            "marker": {
             "colorbar": {
              "outlinewidth": 0,
              "ticks": ""
             }
            },
            "type": "scatter3d"
           }
          ],
          "scattercarpet": [
           {
            "marker": {
             "colorbar": {
              "outlinewidth": 0,
              "ticks": ""
             }
            },
            "type": "scattercarpet"
           }
          ],
          "scattergeo": [
           {
            "marker": {
             "colorbar": {
              "outlinewidth": 0,
              "ticks": ""
             }
            },
            "type": "scattergeo"
           }
          ],
          "scattergl": [
           {
            "marker": {
             "colorbar": {
              "outlinewidth": 0,
              "ticks": ""
             }
            },
            "type": "scattergl"
           }
          ],
          "scattermapbox": [
           {
            "marker": {
             "colorbar": {
              "outlinewidth": 0,
              "ticks": ""
             }
            },
            "type": "scattermapbox"
           }
          ],
          "scatterpolar": [
           {
            "marker": {
             "colorbar": {
              "outlinewidth": 0,
              "ticks": ""
             }
            },
            "type": "scatterpolar"
           }
          ],
          "scatterpolargl": [
           {
            "marker": {
             "colorbar": {
              "outlinewidth": 0,
              "ticks": ""
             }
            },
            "type": "scatterpolargl"
           }
          ],
          "scatterternary": [
           {
            "marker": {
             "colorbar": {
              "outlinewidth": 0,
              "ticks": ""
             }
            },
            "type": "scatterternary"
           }
          ],
          "surface": [
           {
            "colorbar": {
             "outlinewidth": 0,
             "ticks": ""
            },
            "colorscale": [
             [
              0,
              "#0d0887"
             ],
             [
              0.1111111111111111,
              "#46039f"
             ],
             [
              0.2222222222222222,
              "#7201a8"
             ],
             [
              0.3333333333333333,
              "#9c179e"
             ],
             [
              0.4444444444444444,
              "#bd3786"
             ],
             [
              0.5555555555555556,
              "#d8576b"
             ],
             [
              0.6666666666666666,
              "#ed7953"
             ],
             [
              0.7777777777777778,
              "#fb9f3a"
             ],
             [
              0.8888888888888888,
              "#fdca26"
             ],
             [
              1,
              "#f0f921"
             ]
            ],
            "type": "surface"
           }
          ],
          "table": [
           {
            "cells": {
             "fill": {
              "color": "#EBF0F8"
             },
             "line": {
              "color": "white"
             }
            },
            "header": {
             "fill": {
              "color": "#C8D4E3"
             },
             "line": {
              "color": "white"
             }
            },
            "type": "table"
           }
          ]
         },
         "layout": {
          "annotationdefaults": {
           "arrowcolor": "#2a3f5f",
           "arrowhead": 0,
           "arrowwidth": 1
          },
          "autotypenumbers": "strict",
          "coloraxis": {
           "colorbar": {
            "outlinewidth": 0,
            "ticks": ""
           }
          },
          "colorscale": {
           "diverging": [
            [
             0,
             "#8e0152"
            ],
            [
             0.1,
             "#c51b7d"
            ],
            [
             0.2,
             "#de77ae"
            ],
            [
             0.3,
             "#f1b6da"
            ],
            [
             0.4,
             "#fde0ef"
            ],
            [
             0.5,
             "#f7f7f7"
            ],
            [
             0.6,
             "#e6f5d0"
            ],
            [
             0.7,
             "#b8e186"
            ],
            [
             0.8,
             "#7fbc41"
            ],
            [
             0.9,
             "#4d9221"
            ],
            [
             1,
             "#276419"
            ]
           ],
           "sequential": [
            [
             0,
             "#0d0887"
            ],
            [
             0.1111111111111111,
             "#46039f"
            ],
            [
             0.2222222222222222,
             "#7201a8"
            ],
            [
             0.3333333333333333,
             "#9c179e"
            ],
            [
             0.4444444444444444,
             "#bd3786"
            ],
            [
             0.5555555555555556,
             "#d8576b"
            ],
            [
             0.6666666666666666,
             "#ed7953"
            ],
            [
             0.7777777777777778,
             "#fb9f3a"
            ],
            [
             0.8888888888888888,
             "#fdca26"
            ],
            [
             1,
             "#f0f921"
            ]
           ],
           "sequentialminus": [
            [
             0,
             "#0d0887"
            ],
            [
             0.1111111111111111,
             "#46039f"
            ],
            [
             0.2222222222222222,
             "#7201a8"
            ],
            [
             0.3333333333333333,
             "#9c179e"
            ],
            [
             0.4444444444444444,
             "#bd3786"
            ],
            [
             0.5555555555555556,
             "#d8576b"
            ],
            [
             0.6666666666666666,
             "#ed7953"
            ],
            [
             0.7777777777777778,
             "#fb9f3a"
            ],
            [
             0.8888888888888888,
             "#fdca26"
            ],
            [
             1,
             "#f0f921"
            ]
           ]
          },
          "colorway": [
           "#636efa",
           "#EF553B",
           "#00cc96",
           "#ab63fa",
           "#FFA15A",
           "#19d3f3",
           "#FF6692",
           "#B6E880",
           "#FF97FF",
           "#FECB52"
          ],
          "font": {
           "color": "#2a3f5f"
          },
          "geo": {
           "bgcolor": "white",
           "lakecolor": "white",
           "landcolor": "#E5ECF6",
           "showlakes": true,
           "showland": true,
           "subunitcolor": "white"
          },
          "hoverlabel": {
           "align": "left"
          },
          "hovermode": "closest",
          "mapbox": {
           "style": "light"
          },
          "paper_bgcolor": "white",
          "plot_bgcolor": "#E5ECF6",
          "polar": {
           "angularaxis": {
            "gridcolor": "white",
            "linecolor": "white",
            "ticks": ""
           },
           "bgcolor": "#E5ECF6",
           "radialaxis": {
            "gridcolor": "white",
            "linecolor": "white",
            "ticks": ""
           }
          },
          "scene": {
           "xaxis": {
            "backgroundcolor": "#E5ECF6",
            "gridcolor": "white",
            "gridwidth": 2,
            "linecolor": "white",
            "showbackground": true,
            "ticks": "",
            "zerolinecolor": "white"
           },
           "yaxis": {
            "backgroundcolor": "#E5ECF6",
            "gridcolor": "white",
            "gridwidth": 2,
            "linecolor": "white",
            "showbackground": true,
            "ticks": "",
            "zerolinecolor": "white"
           },
           "zaxis": {
            "backgroundcolor": "#E5ECF6",
            "gridcolor": "white",
            "gridwidth": 2,
            "linecolor": "white",
            "showbackground": true,
            "ticks": "",
            "zerolinecolor": "white"
           }
          },
          "shapedefaults": {
           "line": {
            "color": "#2a3f5f"
           }
          },
          "ternary": {
           "aaxis": {
            "gridcolor": "white",
            "linecolor": "white",
            "ticks": ""
           },
           "baxis": {
            "gridcolor": "white",
            "linecolor": "white",
            "ticks": ""
           },
           "bgcolor": "#E5ECF6",
           "caxis": {
            "gridcolor": "white",
            "linecolor": "white",
            "ticks": ""
           }
          },
          "title": {
           "x": 0.05
          },
          "xaxis": {
           "automargin": true,
           "gridcolor": "white",
           "linecolor": "white",
           "ticks": "",
           "title": {
            "standoff": 15
           },
           "zerolinecolor": "white",
           "zerolinewidth": 2
          },
          "yaxis": {
           "automargin": true,
           "gridcolor": "white",
           "linecolor": "white",
           "ticks": "",
           "title": {
            "standoff": 15
           },
           "zerolinecolor": "white",
           "zerolinewidth": 2
          }
         }
        },
        "xaxis": {
         "anchor": "y",
         "domain": [
          0,
          1
         ],
         "title": {
          "text": "Date"
         }
        },
        "yaxis": {
         "anchor": "x",
         "domain": [
          0,
          1
         ],
         "title": {
          "text": "Percent"
         }
        }
       }
      },
      "text/html": [
       "<div>                            <div id=\"21631bfd-e3c2-485d-8751-393defc17372\" class=\"plotly-graph-div\" style=\"height:525px; width:100%;\"></div>            <script type=\"text/javascript\">                require([\"plotly\"], function(Plotly) {                    window.PLOTLYENV=window.PLOTLYENV || {};                                    if (document.getElementById(\"21631bfd-e3c2-485d-8751-393defc17372\")) {                    Plotly.newPlot(                        \"21631bfd-e3c2-485d-8751-393defc17372\",                        [{\"alignmentgroup\":\"True\",\"hovertemplate\":\"keyword=%{text}<br>Date=%{x}<br>Percent=%{y}<extra></extra>\",\"legendgroup\":\"virtualassets\",\"marker\":{\"color\":\"#636efa\",\"pattern\":{\"shape\":\"\"}},\"name\":\"virtualassets\",\"offsetgroup\":\"virtualassets\",\"orientation\":\"v\",\"showlegend\":true,\"text\":[\"virtualassets\",\"virtualassets\",\"virtualassets\",\"virtualassets\",\"virtualassets\",\"virtualassets\",\"virtualassets\",\"virtualassets\",\"virtualassets\",\"virtualassets\",\"virtualassets\",\"virtualassets\",\"virtualassets\",\"virtualassets\",\"virtualassets\",\"virtualassets\",\"virtualassets\",\"virtualassets\",\"virtualassets\",\"virtualassets\",\"virtualassets\",\"virtualassets\",\"virtualassets\",\"virtualassets\",\"virtualassets\",\"virtualassets\",\"virtualassets\",\"virtualassets\",\"virtualassets\",\"virtualassets\",\"virtualassets\",\"virtualassets\",\"virtualassets\",\"virtualassets\",\"virtualassets\"],\"textposition\":\"auto\",\"x\":[\"2019-08-01T00:00:00\",\"2019-09-01T00:00:00\",\"2019-10-01T00:00:00\",\"2019-11-01T00:00:00\",\"2019-12-01T00:00:00\",\"2020-01-01T00:00:00\",\"2020-02-01T00:00:00\",\"2020-03-01T00:00:00\",\"2020-04-01T00:00:00\",\"2020-05-01T00:00:00\",\"2020-06-01T00:00:00\",\"2020-07-01T00:00:00\",\"2020-08-01T00:00:00\",\"2020-09-01T00:00:00\",\"2020-10-01T00:00:00\",\"2020-11-01T00:00:00\",\"2020-12-01T00:00:00\",\"2021-01-01T00:00:00\",\"2021-02-01T00:00:00\",\"2021-03-01T00:00:00\",\"2021-04-01T00:00:00\",\"2021-05-01T00:00:00\",\"2021-06-01T00:00:00\",\"2021-07-01T00:00:00\",\"2021-08-01T00:00:00\",\"2021-09-01T00:00:00\",\"2021-10-01T00:00:00\",\"2021-11-01T00:00:00\",\"2021-12-01T00:00:00\",\"2022-01-01T00:00:00\",\"2022-02-01T00:00:00\",\"2022-03-01T00:00:00\",\"2022-04-01T00:00:00\",\"2022-05-01T00:00:00\",\"2022-06-01T00:00:00\"],\"xaxis\":\"x\",\"y\":[0.0,0.0,0.0,0.0,0.0,0.0,0.0,0.0,0.0,0.0,0.3333333333333333,0.0,0.0,0.0,0.06666666666666667,0.0,0.07142857142857142,0.0,0.125,0.0,0.0,0.03225806451612903,0.07142857142857142,0.0,0.05263157894736842,0.03333333333333333,0.0,0.0,0.047619047619047616,0.0,0.11764705882352941,0.029411764705882353,0.034482758620689655,0.07692307692307693,0.024390243902439025],\"yaxis\":\"y\",\"type\":\"bar\"},{\"alignmentgroup\":\"True\",\"hovertemplate\":\"keyword=%{text}<br>Date=%{x}<br>Percent=%{y}<extra></extra>\",\"legendgroup\":\"virtualcurrency\",\"marker\":{\"color\":\"#EF553B\",\"pattern\":{\"shape\":\"\"}},\"name\":\"virtualcurrency\",\"offsetgroup\":\"virtualcurrency\",\"orientation\":\"v\",\"showlegend\":true,\"text\":[\"virtualcurrency\",\"virtualcurrency\",\"virtualcurrency\",\"virtualcurrency\",\"virtualcurrency\",\"virtualcurrency\",\"virtualcurrency\",\"virtualcurrency\",\"virtualcurrency\",\"virtualcurrency\",\"virtualcurrency\",\"virtualcurrency\",\"virtualcurrency\",\"virtualcurrency\",\"virtualcurrency\",\"virtualcurrency\",\"virtualcurrency\",\"virtualcurrency\",\"virtualcurrency\",\"virtualcurrency\",\"virtualcurrency\",\"virtualcurrency\",\"virtualcurrency\",\"virtualcurrency\",\"virtualcurrency\",\"virtualcurrency\",\"virtualcurrency\",\"virtualcurrency\",\"virtualcurrency\",\"virtualcurrency\",\"virtualcurrency\",\"virtualcurrency\",\"virtualcurrency\",\"virtualcurrency\",\"virtualcurrency\"],\"textposition\":\"auto\",\"x\":[\"2019-08-01T00:00:00\",\"2019-09-01T00:00:00\",\"2019-10-01T00:00:00\",\"2019-11-01T00:00:00\",\"2019-12-01T00:00:00\",\"2020-01-01T00:00:00\",\"2020-02-01T00:00:00\",\"2020-03-01T00:00:00\",\"2020-04-01T00:00:00\",\"2020-05-01T00:00:00\",\"2020-06-01T00:00:00\",\"2020-07-01T00:00:00\",\"2020-08-01T00:00:00\",\"2020-09-01T00:00:00\",\"2020-10-01T00:00:00\",\"2020-11-01T00:00:00\",\"2020-12-01T00:00:00\",\"2021-01-01T00:00:00\",\"2021-02-01T00:00:00\",\"2021-03-01T00:00:00\",\"2021-04-01T00:00:00\",\"2021-05-01T00:00:00\",\"2021-06-01T00:00:00\",\"2021-07-01T00:00:00\",\"2021-08-01T00:00:00\",\"2021-09-01T00:00:00\",\"2021-10-01T00:00:00\",\"2021-11-01T00:00:00\",\"2021-12-01T00:00:00\",\"2022-01-01T00:00:00\",\"2022-02-01T00:00:00\",\"2022-03-01T00:00:00\",\"2022-04-01T00:00:00\",\"2022-05-01T00:00:00\",\"2022-06-01T00:00:00\"],\"xaxis\":\"x\",\"y\":[0.0,0.1111111111111111,0.0,0.125,0.0,0.0,0.0,0.0,0.0,0.0,0.3333333333333333,0.0,0.0,0.1111111111111111,0.06666666666666667,0.1111111111111111,0.14285714285714285,0.11764705882352941,0.1875,0.12121212121212122,0.05,0.06451612903225806,0.03571428571428571,0.08333333333333333,0.05263157894736842,0.0,0.05263157894736842,0.10344827586206896,0.047619047619047616,0.0,0.08823529411764706,0.058823529411764705,0.0,0.038461538461538464,0.04878048780487805],\"yaxis\":\"y\",\"type\":\"bar\"},{\"alignmentgroup\":\"True\",\"hovertemplate\":\"keyword=%{text}<br>Date=%{x}<br>Percent=%{y}<extra></extra>\",\"legendgroup\":\"cryptocurrency\",\"marker\":{\"color\":\"#00cc96\",\"pattern\":{\"shape\":\"\"}},\"name\":\"cryptocurrency\",\"offsetgroup\":\"cryptocurrency\",\"orientation\":\"v\",\"showlegend\":true,\"text\":[\"cryptocurrency\",\"cryptocurrency\",\"cryptocurrency\",\"cryptocurrency\",\"cryptocurrency\",\"cryptocurrency\",\"cryptocurrency\",\"cryptocurrency\",\"cryptocurrency\",\"cryptocurrency\",\"cryptocurrency\",\"cryptocurrency\",\"cryptocurrency\",\"cryptocurrency\",\"cryptocurrency\",\"cryptocurrency\",\"cryptocurrency\",\"cryptocurrency\",\"cryptocurrency\",\"cryptocurrency\",\"cryptocurrency\",\"cryptocurrency\",\"cryptocurrency\",\"cryptocurrency\",\"cryptocurrency\",\"cryptocurrency\",\"cryptocurrency\",\"cryptocurrency\",\"cryptocurrency\",\"cryptocurrency\",\"cryptocurrency\",\"cryptocurrency\",\"cryptocurrency\",\"cryptocurrency\",\"cryptocurrency\"],\"textposition\":\"auto\",\"x\":[\"2019-08-01T00:00:00\",\"2019-09-01T00:00:00\",\"2019-10-01T00:00:00\",\"2019-11-01T00:00:00\",\"2019-12-01T00:00:00\",\"2020-01-01T00:00:00\",\"2020-02-01T00:00:00\",\"2020-03-01T00:00:00\",\"2020-04-01T00:00:00\",\"2020-05-01T00:00:00\",\"2020-06-01T00:00:00\",\"2020-07-01T00:00:00\",\"2020-08-01T00:00:00\",\"2020-09-01T00:00:00\",\"2020-10-01T00:00:00\",\"2020-11-01T00:00:00\",\"2020-12-01T00:00:00\",\"2021-01-01T00:00:00\",\"2021-02-01T00:00:00\",\"2021-03-01T00:00:00\",\"2021-04-01T00:00:00\",\"2021-05-01T00:00:00\",\"2021-06-01T00:00:00\",\"2021-07-01T00:00:00\",\"2021-08-01T00:00:00\",\"2021-09-01T00:00:00\",\"2021-10-01T00:00:00\",\"2021-11-01T00:00:00\",\"2021-12-01T00:00:00\",\"2022-01-01T00:00:00\",\"2022-02-01T00:00:00\",\"2022-03-01T00:00:00\",\"2022-04-01T00:00:00\",\"2022-05-01T00:00:00\",\"2022-06-01T00:00:00\"],\"xaxis\":\"x\",\"y\":[1.0,0.8888888888888888,1.0,0.875,1.0,1.0,1.0,1.0,1.0,1.0,0.3333333333333333,1.0,1.0,0.8888888888888888,0.8666666666666667,0.8888888888888888,0.7857142857142857,0.8823529411764706,0.6875,0.8787878787878788,0.95,0.9032258064516129,0.8928571428571429,0.9166666666666666,0.8947368421052632,0.9666666666666667,0.9473684210526315,0.896551724137931,0.9047619047619048,1.0,0.7941176470588235,0.9117647058823529,0.9655172413793104,0.8846153846153846,0.926829268292683],\"yaxis\":\"y\",\"type\":\"bar\"}],                        {\"template\":{\"data\":{\"histogram2dcontour\":[{\"type\":\"histogram2dcontour\",\"colorbar\":{\"outlinewidth\":0,\"ticks\":\"\"},\"colorscale\":[[0.0,\"#0d0887\"],[0.1111111111111111,\"#46039f\"],[0.2222222222222222,\"#7201a8\"],[0.3333333333333333,\"#9c179e\"],[0.4444444444444444,\"#bd3786\"],[0.5555555555555556,\"#d8576b\"],[0.6666666666666666,\"#ed7953\"],[0.7777777777777778,\"#fb9f3a\"],[0.8888888888888888,\"#fdca26\"],[1.0,\"#f0f921\"]]}],\"choropleth\":[{\"type\":\"choropleth\",\"colorbar\":{\"outlinewidth\":0,\"ticks\":\"\"}}],\"histogram2d\":[{\"type\":\"histogram2d\",\"colorbar\":{\"outlinewidth\":0,\"ticks\":\"\"},\"colorscale\":[[0.0,\"#0d0887\"],[0.1111111111111111,\"#46039f\"],[0.2222222222222222,\"#7201a8\"],[0.3333333333333333,\"#9c179e\"],[0.4444444444444444,\"#bd3786\"],[0.5555555555555556,\"#d8576b\"],[0.6666666666666666,\"#ed7953\"],[0.7777777777777778,\"#fb9f3a\"],[0.8888888888888888,\"#fdca26\"],[1.0,\"#f0f921\"]]}],\"heatmap\":[{\"type\":\"heatmap\",\"colorbar\":{\"outlinewidth\":0,\"ticks\":\"\"},\"colorscale\":[[0.0,\"#0d0887\"],[0.1111111111111111,\"#46039f\"],[0.2222222222222222,\"#7201a8\"],[0.3333333333333333,\"#9c179e\"],[0.4444444444444444,\"#bd3786\"],[0.5555555555555556,\"#d8576b\"],[0.6666666666666666,\"#ed7953\"],[0.7777777777777778,\"#fb9f3a\"],[0.8888888888888888,\"#fdca26\"],[1.0,\"#f0f921\"]]}],\"heatmapgl\":[{\"type\":\"heatmapgl\",\"colorbar\":{\"outlinewidth\":0,\"ticks\":\"\"},\"colorscale\":[[0.0,\"#0d0887\"],[0.1111111111111111,\"#46039f\"],[0.2222222222222222,\"#7201a8\"],[0.3333333333333333,\"#9c179e\"],[0.4444444444444444,\"#bd3786\"],[0.5555555555555556,\"#d8576b\"],[0.6666666666666666,\"#ed7953\"],[0.7777777777777778,\"#fb9f3a\"],[0.8888888888888888,\"#fdca26\"],[1.0,\"#f0f921\"]]}],\"contourcarpet\":[{\"type\":\"contourcarpet\",\"colorbar\":{\"outlinewidth\":0,\"ticks\":\"\"}}],\"contour\":[{\"type\":\"contour\",\"colorbar\":{\"outlinewidth\":0,\"ticks\":\"\"},\"colorscale\":[[0.0,\"#0d0887\"],[0.1111111111111111,\"#46039f\"],[0.2222222222222222,\"#7201a8\"],[0.3333333333333333,\"#9c179e\"],[0.4444444444444444,\"#bd3786\"],[0.5555555555555556,\"#d8576b\"],[0.6666666666666666,\"#ed7953\"],[0.7777777777777778,\"#fb9f3a\"],[0.8888888888888888,\"#fdca26\"],[1.0,\"#f0f921\"]]}],\"surface\":[{\"type\":\"surface\",\"colorbar\":{\"outlinewidth\":0,\"ticks\":\"\"},\"colorscale\":[[0.0,\"#0d0887\"],[0.1111111111111111,\"#46039f\"],[0.2222222222222222,\"#7201a8\"],[0.3333333333333333,\"#9c179e\"],[0.4444444444444444,\"#bd3786\"],[0.5555555555555556,\"#d8576b\"],[0.6666666666666666,\"#ed7953\"],[0.7777777777777778,\"#fb9f3a\"],[0.8888888888888888,\"#fdca26\"],[1.0,\"#f0f921\"]]}],\"mesh3d\":[{\"type\":\"mesh3d\",\"colorbar\":{\"outlinewidth\":0,\"ticks\":\"\"}}],\"scatter\":[{\"fillpattern\":{\"fillmode\":\"overlay\",\"size\":10,\"solidity\":0.2},\"type\":\"scatter\"}],\"parcoords\":[{\"type\":\"parcoords\",\"line\":{\"colorbar\":{\"outlinewidth\":0,\"ticks\":\"\"}}}],\"scatterpolargl\":[{\"type\":\"scatterpolargl\",\"marker\":{\"colorbar\":{\"outlinewidth\":0,\"ticks\":\"\"}}}],\"bar\":[{\"error_x\":{\"color\":\"#2a3f5f\"},\"error_y\":{\"color\":\"#2a3f5f\"},\"marker\":{\"line\":{\"color\":\"#E5ECF6\",\"width\":0.5},\"pattern\":{\"fillmode\":\"overlay\",\"size\":10,\"solidity\":0.2}},\"type\":\"bar\"}],\"scattergeo\":[{\"type\":\"scattergeo\",\"marker\":{\"colorbar\":{\"outlinewidth\":0,\"ticks\":\"\"}}}],\"scatterpolar\":[{\"type\":\"scatterpolar\",\"marker\":{\"colorbar\":{\"outlinewidth\":0,\"ticks\":\"\"}}}],\"histogram\":[{\"marker\":{\"pattern\":{\"fillmode\":\"overlay\",\"size\":10,\"solidity\":0.2}},\"type\":\"histogram\"}],\"scattergl\":[{\"type\":\"scattergl\",\"marker\":{\"colorbar\":{\"outlinewidth\":0,\"ticks\":\"\"}}}],\"scatter3d\":[{\"type\":\"scatter3d\",\"line\":{\"colorbar\":{\"outlinewidth\":0,\"ticks\":\"\"}},\"marker\":{\"colorbar\":{\"outlinewidth\":0,\"ticks\":\"\"}}}],\"scattermapbox\":[{\"type\":\"scattermapbox\",\"marker\":{\"colorbar\":{\"outlinewidth\":0,\"ticks\":\"\"}}}],\"scatterternary\":[{\"type\":\"scatterternary\",\"marker\":{\"colorbar\":{\"outlinewidth\":0,\"ticks\":\"\"}}}],\"scattercarpet\":[{\"type\":\"scattercarpet\",\"marker\":{\"colorbar\":{\"outlinewidth\":0,\"ticks\":\"\"}}}],\"carpet\":[{\"aaxis\":{\"endlinecolor\":\"#2a3f5f\",\"gridcolor\":\"white\",\"linecolor\":\"white\",\"minorgridcolor\":\"white\",\"startlinecolor\":\"#2a3f5f\"},\"baxis\":{\"endlinecolor\":\"#2a3f5f\",\"gridcolor\":\"white\",\"linecolor\":\"white\",\"minorgridcolor\":\"white\",\"startlinecolor\":\"#2a3f5f\"},\"type\":\"carpet\"}],\"table\":[{\"cells\":{\"fill\":{\"color\":\"#EBF0F8\"},\"line\":{\"color\":\"white\"}},\"header\":{\"fill\":{\"color\":\"#C8D4E3\"},\"line\":{\"color\":\"white\"}},\"type\":\"table\"}],\"barpolar\":[{\"marker\":{\"line\":{\"color\":\"#E5ECF6\",\"width\":0.5},\"pattern\":{\"fillmode\":\"overlay\",\"size\":10,\"solidity\":0.2}},\"type\":\"barpolar\"}],\"pie\":[{\"automargin\":true,\"type\":\"pie\"}]},\"layout\":{\"autotypenumbers\":\"strict\",\"colorway\":[\"#636efa\",\"#EF553B\",\"#00cc96\",\"#ab63fa\",\"#FFA15A\",\"#19d3f3\",\"#FF6692\",\"#B6E880\",\"#FF97FF\",\"#FECB52\"],\"font\":{\"color\":\"#2a3f5f\"},\"hovermode\":\"closest\",\"hoverlabel\":{\"align\":\"left\"},\"paper_bgcolor\":\"white\",\"plot_bgcolor\":\"#E5ECF6\",\"polar\":{\"bgcolor\":\"#E5ECF6\",\"angularaxis\":{\"gridcolor\":\"white\",\"linecolor\":\"white\",\"ticks\":\"\"},\"radialaxis\":{\"gridcolor\":\"white\",\"linecolor\":\"white\",\"ticks\":\"\"}},\"ternary\":{\"bgcolor\":\"#E5ECF6\",\"aaxis\":{\"gridcolor\":\"white\",\"linecolor\":\"white\",\"ticks\":\"\"},\"baxis\":{\"gridcolor\":\"white\",\"linecolor\":\"white\",\"ticks\":\"\"},\"caxis\":{\"gridcolor\":\"white\",\"linecolor\":\"white\",\"ticks\":\"\"}},\"coloraxis\":{\"colorbar\":{\"outlinewidth\":0,\"ticks\":\"\"}},\"colorscale\":{\"sequential\":[[0.0,\"#0d0887\"],[0.1111111111111111,\"#46039f\"],[0.2222222222222222,\"#7201a8\"],[0.3333333333333333,\"#9c179e\"],[0.4444444444444444,\"#bd3786\"],[0.5555555555555556,\"#d8576b\"],[0.6666666666666666,\"#ed7953\"],[0.7777777777777778,\"#fb9f3a\"],[0.8888888888888888,\"#fdca26\"],[1.0,\"#f0f921\"]],\"sequentialminus\":[[0.0,\"#0d0887\"],[0.1111111111111111,\"#46039f\"],[0.2222222222222222,\"#7201a8\"],[0.3333333333333333,\"#9c179e\"],[0.4444444444444444,\"#bd3786\"],[0.5555555555555556,\"#d8576b\"],[0.6666666666666666,\"#ed7953\"],[0.7777777777777778,\"#fb9f3a\"],[0.8888888888888888,\"#fdca26\"],[1.0,\"#f0f921\"]],\"diverging\":[[0,\"#8e0152\"],[0.1,\"#c51b7d\"],[0.2,\"#de77ae\"],[0.3,\"#f1b6da\"],[0.4,\"#fde0ef\"],[0.5,\"#f7f7f7\"],[0.6,\"#e6f5d0\"],[0.7,\"#b8e186\"],[0.8,\"#7fbc41\"],[0.9,\"#4d9221\"],[1,\"#276419\"]]},\"xaxis\":{\"gridcolor\":\"white\",\"linecolor\":\"white\",\"ticks\":\"\",\"title\":{\"standoff\":15},\"zerolinecolor\":\"white\",\"automargin\":true,\"zerolinewidth\":2},\"yaxis\":{\"gridcolor\":\"white\",\"linecolor\":\"white\",\"ticks\":\"\",\"title\":{\"standoff\":15},\"zerolinecolor\":\"white\",\"automargin\":true,\"zerolinewidth\":2},\"scene\":{\"xaxis\":{\"backgroundcolor\":\"#E5ECF6\",\"gridcolor\":\"white\",\"linecolor\":\"white\",\"showbackground\":true,\"ticks\":\"\",\"zerolinecolor\":\"white\",\"gridwidth\":2},\"yaxis\":{\"backgroundcolor\":\"#E5ECF6\",\"gridcolor\":\"white\",\"linecolor\":\"white\",\"showbackground\":true,\"ticks\":\"\",\"zerolinecolor\":\"white\",\"gridwidth\":2},\"zaxis\":{\"backgroundcolor\":\"#E5ECF6\",\"gridcolor\":\"white\",\"linecolor\":\"white\",\"showbackground\":true,\"ticks\":\"\",\"zerolinecolor\":\"white\",\"gridwidth\":2}},\"shapedefaults\":{\"line\":{\"color\":\"#2a3f5f\"}},\"annotationdefaults\":{\"arrowcolor\":\"#2a3f5f\",\"arrowhead\":0,\"arrowwidth\":1},\"geo\":{\"bgcolor\":\"white\",\"landcolor\":\"#E5ECF6\",\"subunitcolor\":\"white\",\"showland\":true,\"showlakes\":true,\"lakecolor\":\"white\"},\"title\":{\"x\":0.05},\"mapbox\":{\"style\":\"light\"}}},\"xaxis\":{\"anchor\":\"y\",\"domain\":[0.0,1.0],\"title\":{\"text\":\"Date\"}},\"yaxis\":{\"anchor\":\"x\",\"domain\":[0.0,1.0],\"title\":{\"text\":\"Percent\"}},\"legend\":{\"title\":{\"text\":\"keyword\"},\"tracegroupgap\":0},\"margin\":{\"t\":60},\"barmode\":\"relative\",\"bargap\":0},                        {\"responsive\": true}                    ).then(function(){\n",
       "                            \n",
       "var gd = document.getElementById('21631bfd-e3c2-485d-8751-393defc17372');\n",
       "var x = new MutationObserver(function (mutations, observer) {{\n",
       "        var display = window.getComputedStyle(gd).display;\n",
       "        if (!display || display === 'none') {{\n",
       "            console.log([gd, 'removed!']);\n",
       "            Plotly.purge(gd);\n",
       "            observer.disconnect();\n",
       "        }}\n",
       "}});\n",
       "\n",
       "// Listen for the removal of the full notebook cells\n",
       "var notebookContainer = gd.closest('#notebook-container');\n",
       "if (notebookContainer) {{\n",
       "    x.observe(notebookContainer, {childList: true});\n",
       "}}\n",
       "\n",
       "// Listen for the clearing of the current output cell\n",
       "var outputEl = gd.closest('.output');\n",
       "if (outputEl) {{\n",
       "    x.observe(outputEl, {childList: true});\n",
       "}}\n",
       "\n",
       "                        })                };                });            </script>        </div>"
      ]
     },
     "metadata": {},
     "output_type": "display_data"
    }
   ],
   "source": [
    "mekko(df_e,['virtualassets','virtualcurrency','cryptocurrency'])"
   ]
  },
  {
   "cell_type": "code",
   "execution_count": 82,
   "id": "c8529623",
   "metadata": {},
   "outputs": [
    {
     "data": {
      "application/vnd.plotly.v1+json": {
       "config": {
        "plotlyServerURL": "https://plot.ly"
       },
       "data": [
        {
         "alignmentgroup": "True",
         "hovertemplate": "keyword=%{text}<br>Date=%{x}<br>Percent=%{y}<extra></extra>",
         "legendgroup": "핀테크",
         "marker": {
          "color": "#636efa",
          "pattern": {
           "shape": ""
          }
         },
         "name": "핀테크",
         "offsetgroup": "핀테크",
         "orientation": "v",
         "showlegend": true,
         "text": [
          "핀테크",
          "핀테크",
          "핀테크",
          "핀테크",
          "핀테크",
          "핀테크",
          "핀테크",
          "핀테크",
          "핀테크",
          "핀테크",
          "핀테크",
          "핀테크",
          "핀테크",
          "핀테크",
          "핀테크",
          "핀테크",
          "핀테크",
          "핀테크",
          "핀테크",
          "핀테크",
          "핀테크",
          "핀테크",
          "핀테크",
          "핀테크",
          "핀테크",
          "핀테크",
          "핀테크",
          "핀테크",
          "핀테크",
          "핀테크",
          "핀테크",
          "핀테크",
          "핀테크",
          "핀테크",
          "핀테크",
          "핀테크",
          "핀테크",
          "핀테크",
          "핀테크",
          "핀테크",
          "핀테크",
          "핀테크",
          "핀테크",
          "핀테크",
          "핀테크",
          "핀테크",
          "핀테크"
         ],
         "textposition": "auto",
         "type": "bar",
         "x": [
          "2018-08-01T00:00:00",
          "2018-09-01T00:00:00",
          "2018-10-01T00:00:00",
          "2018-11-01T00:00:00",
          "2018-12-01T00:00:00",
          "2019-01-01T00:00:00",
          "2019-02-01T00:00:00",
          "2019-03-01T00:00:00",
          "2019-04-01T00:00:00",
          "2019-05-01T00:00:00",
          "2019-06-01T00:00:00",
          "2019-07-01T00:00:00",
          "2019-08-01T00:00:00",
          "2019-09-01T00:00:00",
          "2019-10-01T00:00:00",
          "2019-11-01T00:00:00",
          "2019-12-01T00:00:00",
          "2020-01-01T00:00:00",
          "2020-02-01T00:00:00",
          "2020-03-01T00:00:00",
          "2020-04-01T00:00:00",
          "2020-05-01T00:00:00",
          "2020-06-01T00:00:00",
          "2020-07-01T00:00:00",
          "2020-08-01T00:00:00",
          "2020-09-01T00:00:00",
          "2020-10-01T00:00:00",
          "2020-11-01T00:00:00",
          "2020-12-01T00:00:00",
          "2021-01-01T00:00:00",
          "2021-02-01T00:00:00",
          "2021-03-01T00:00:00",
          "2021-04-01T00:00:00",
          "2021-05-01T00:00:00",
          "2021-06-01T00:00:00",
          "2021-07-01T00:00:00",
          "2021-08-01T00:00:00",
          "2021-09-01T00:00:00",
          "2021-10-01T00:00:00",
          "2021-11-01T00:00:00",
          "2021-12-01T00:00:00",
          "2022-01-01T00:00:00",
          "2022-02-01T00:00:00",
          "2022-03-01T00:00:00",
          "2022-04-01T00:00:00",
          "2022-05-01T00:00:00",
          "2022-06-01T00:00:00"
         ],
         "xaxis": "x",
         "y": [
          0.9830508474576272,
          0.9852941176470589,
          0.96,
          0.967032967032967,
          1,
          0.9903846153846154,
          0.9880239520958084,
          0.9736842105263158,
          0.9507389162561576,
          0.9829787234042553,
          0.9932432432432432,
          0.93048128342246,
          1,
          0.9342105263157895,
          0.96875,
          0.930635838150289,
          0.896774193548387,
          0.8083333333333333,
          0.8548387096774194,
          0.8860759493670886,
          0.8440366972477065,
          0.8503401360544217,
          0.7407407407407407,
          0.5592105263157895,
          0.49324324324324326,
          0.6153846153846154,
          0.6714975845410628,
          0.6209677419354839,
          0.6513409961685823,
          0.5156794425087108,
          0.5882352941176471,
          0.7,
          0.6813725490196079,
          0.7156398104265402,
          0.6454183266932271,
          0.6633165829145728,
          0.578125,
          0.5947368421052631,
          0.5078534031413613,
          0.6333333333333333,
          0.551094890510949,
          0.45977011494252873,
          0.5726495726495726,
          0.5977653631284916,
          0.5796460176991151,
          0.6560509554140127,
          0.6513157894736842
         ],
         "yaxis": "y"
        },
        {
         "alignmentgroup": "True",
         "hovertemplate": "keyword=%{text}<br>Date=%{x}<br>Percent=%{y}<extra></extra>",
         "legendgroup": "빅테크",
         "marker": {
          "color": "#EF553B",
          "pattern": {
           "shape": ""
          }
         },
         "name": "빅테크",
         "offsetgroup": "빅테크",
         "orientation": "v",
         "showlegend": true,
         "text": [
          "빅테크",
          "빅테크",
          "빅테크",
          "빅테크",
          "빅테크",
          "빅테크",
          "빅테크",
          "빅테크",
          "빅테크",
          "빅테크",
          "빅테크",
          "빅테크",
          "빅테크",
          "빅테크",
          "빅테크",
          "빅테크",
          "빅테크",
          "빅테크",
          "빅테크",
          "빅테크",
          "빅테크",
          "빅테크",
          "빅테크",
          "빅테크",
          "빅테크",
          "빅테크",
          "빅테크",
          "빅테크",
          "빅테크",
          "빅테크",
          "빅테크",
          "빅테크",
          "빅테크",
          "빅테크",
          "빅테크",
          "빅테크",
          "빅테크",
          "빅테크",
          "빅테크",
          "빅테크",
          "빅테크",
          "빅테크",
          "빅테크",
          "빅테크",
          "빅테크",
          "빅테크",
          "빅테크"
         ],
         "textposition": "auto",
         "type": "bar",
         "x": [
          "2018-08-01T00:00:00",
          "2018-09-01T00:00:00",
          "2018-10-01T00:00:00",
          "2018-11-01T00:00:00",
          "2018-12-01T00:00:00",
          "2019-01-01T00:00:00",
          "2019-02-01T00:00:00",
          "2019-03-01T00:00:00",
          "2019-04-01T00:00:00",
          "2019-05-01T00:00:00",
          "2019-06-01T00:00:00",
          "2019-07-01T00:00:00",
          "2019-08-01T00:00:00",
          "2019-09-01T00:00:00",
          "2019-10-01T00:00:00",
          "2019-11-01T00:00:00",
          "2019-12-01T00:00:00",
          "2020-01-01T00:00:00",
          "2020-02-01T00:00:00",
          "2020-03-01T00:00:00",
          "2020-04-01T00:00:00",
          "2020-05-01T00:00:00",
          "2020-06-01T00:00:00",
          "2020-07-01T00:00:00",
          "2020-08-01T00:00:00",
          "2020-09-01T00:00:00",
          "2020-10-01T00:00:00",
          "2020-11-01T00:00:00",
          "2020-12-01T00:00:00",
          "2021-01-01T00:00:00",
          "2021-02-01T00:00:00",
          "2021-03-01T00:00:00",
          "2021-04-01T00:00:00",
          "2021-05-01T00:00:00",
          "2021-06-01T00:00:00",
          "2021-07-01T00:00:00",
          "2021-08-01T00:00:00",
          "2021-09-01T00:00:00",
          "2021-10-01T00:00:00",
          "2021-11-01T00:00:00",
          "2021-12-01T00:00:00",
          "2022-01-01T00:00:00",
          "2022-02-01T00:00:00",
          "2022-03-01T00:00:00",
          "2022-04-01T00:00:00",
          "2022-05-01T00:00:00",
          "2022-06-01T00:00:00"
         ],
         "xaxis": "x",
         "y": [
          0.01694915254237288,
          0.014705882352941176,
          0,
          0,
          0,
          0,
          0.011976047904191617,
          0.019736842105263157,
          0.009852216748768473,
          0.01276595744680851,
          0.006756756756756757,
          0.0374331550802139,
          0,
          0.02631578947368421,
          0.0078125,
          0.04046242774566474,
          0.03870967741935484,
          0.10833333333333334,
          0.024193548387096774,
          0.02531645569620253,
          0.11926605504587157,
          0.034013605442176874,
          0.16296296296296298,
          0.4144736842105263,
          0.36486486486486486,
          0.36713286713286714,
          0.30434782608695654,
          0.3548387096774194,
          0.34099616858237547,
          0.46689895470383275,
          0.4019607843137255,
          0.24705882352941178,
          0.28431372549019607,
          0.2796208530805687,
          0.3466135458167331,
          0.3316582914572864,
          0.4010416666666667,
          0.4052631578947368,
          0.450261780104712,
          0.35,
          0.4416058394160584,
          0.5402298850574713,
          0.42735042735042733,
          0.4022346368715084,
          0.41150442477876104,
          0.34394904458598724,
          0.3223684210526316
         ],
         "yaxis": "y"
        },
        {
         "alignmentgroup": "True",
         "hovertemplate": "keyword=%{text}<br>Date=%{x}<br>Percent=%{y}<extra></extra>",
         "legendgroup": "테크핀",
         "marker": {
          "color": "#00cc96",
          "pattern": {
           "shape": ""
          }
         },
         "name": "테크핀",
         "offsetgroup": "테크핀",
         "orientation": "v",
         "showlegend": true,
         "text": [
          "테크핀",
          "테크핀",
          "테크핀",
          "테크핀",
          "테크핀",
          "테크핀",
          "테크핀",
          "테크핀",
          "테크핀",
          "테크핀",
          "테크핀",
          "테크핀",
          "테크핀",
          "테크핀",
          "테크핀",
          "테크핀",
          "테크핀",
          "테크핀",
          "테크핀",
          "테크핀",
          "테크핀",
          "테크핀",
          "테크핀",
          "테크핀",
          "테크핀",
          "테크핀",
          "테크핀",
          "테크핀",
          "테크핀",
          "테크핀",
          "테크핀",
          "테크핀",
          "테크핀",
          "테크핀",
          "테크핀",
          "테크핀",
          "테크핀",
          "테크핀",
          "테크핀",
          "테크핀",
          "테크핀",
          "테크핀",
          "테크핀",
          "테크핀",
          "테크핀",
          "테크핀",
          "테크핀"
         ],
         "textposition": "auto",
         "type": "bar",
         "x": [
          "2018-08-01T00:00:00",
          "2018-09-01T00:00:00",
          "2018-10-01T00:00:00",
          "2018-11-01T00:00:00",
          "2018-12-01T00:00:00",
          "2019-01-01T00:00:00",
          "2019-02-01T00:00:00",
          "2019-03-01T00:00:00",
          "2019-04-01T00:00:00",
          "2019-05-01T00:00:00",
          "2019-06-01T00:00:00",
          "2019-07-01T00:00:00",
          "2019-08-01T00:00:00",
          "2019-09-01T00:00:00",
          "2019-10-01T00:00:00",
          "2019-11-01T00:00:00",
          "2019-12-01T00:00:00",
          "2020-01-01T00:00:00",
          "2020-02-01T00:00:00",
          "2020-03-01T00:00:00",
          "2020-04-01T00:00:00",
          "2020-05-01T00:00:00",
          "2020-06-01T00:00:00",
          "2020-07-01T00:00:00",
          "2020-08-01T00:00:00",
          "2020-09-01T00:00:00",
          "2020-10-01T00:00:00",
          "2020-11-01T00:00:00",
          "2020-12-01T00:00:00",
          "2021-01-01T00:00:00",
          "2021-02-01T00:00:00",
          "2021-03-01T00:00:00",
          "2021-04-01T00:00:00",
          "2021-05-01T00:00:00",
          "2021-06-01T00:00:00",
          "2021-07-01T00:00:00",
          "2021-08-01T00:00:00",
          "2021-09-01T00:00:00",
          "2021-10-01T00:00:00",
          "2021-11-01T00:00:00",
          "2021-12-01T00:00:00",
          "2022-01-01T00:00:00",
          "2022-02-01T00:00:00",
          "2022-03-01T00:00:00",
          "2022-04-01T00:00:00",
          "2022-05-01T00:00:00",
          "2022-06-01T00:00:00"
         ],
         "xaxis": "x",
         "y": [
          0,
          0,
          0.04,
          0.03296703296703297,
          0,
          0.009615384615384616,
          0,
          0.006578947368421052,
          0.03940886699507389,
          0.00425531914893617,
          0,
          0.03208556149732621,
          0,
          0.039473684210526314,
          0.0234375,
          0.028901734104046242,
          0.06451612903225806,
          0.08333333333333333,
          0.12096774193548387,
          0.08860759493670886,
          0.03669724770642202,
          0.11564625850340136,
          0.0962962962962963,
          0.02631578947368421,
          0.14189189189189189,
          0.017482517482517484,
          0.024154589371980676,
          0.024193548387096774,
          0.007662835249042145,
          0.017421602787456445,
          0.00980392156862745,
          0.052941176470588235,
          0.03431372549019608,
          0.004739336492890996,
          0.00796812749003984,
          0.005025125628140704,
          0.020833333333333332,
          0,
          0.041884816753926704,
          0.016666666666666666,
          0.0072992700729927005,
          0,
          0,
          0,
          0.008849557522123894,
          0,
          0.02631578947368421
         ],
         "yaxis": "y"
        }
       ],
       "layout": {
        "bargap": 0,
        "barmode": "relative",
        "legend": {
         "title": {
          "text": "keyword"
         },
         "tracegroupgap": 0
        },
        "margin": {
         "t": 60
        },
        "template": {
         "data": {
          "bar": [
           {
            "error_x": {
             "color": "#2a3f5f"
            },
            "error_y": {
             "color": "#2a3f5f"
            },
            "marker": {
             "line": {
              "color": "#E5ECF6",
              "width": 0.5
             },
             "pattern": {
              "fillmode": "overlay",
              "size": 10,
              "solidity": 0.2
             }
            },
            "type": "bar"
           }
          ],
          "barpolar": [
           {
            "marker": {
             "line": {
              "color": "#E5ECF6",
              "width": 0.5
             },
             "pattern": {
              "fillmode": "overlay",
              "size": 10,
              "solidity": 0.2
             }
            },
            "type": "barpolar"
           }
          ],
          "carpet": [
           {
            "aaxis": {
             "endlinecolor": "#2a3f5f",
             "gridcolor": "white",
             "linecolor": "white",
             "minorgridcolor": "white",
             "startlinecolor": "#2a3f5f"
            },
            "baxis": {
             "endlinecolor": "#2a3f5f",
             "gridcolor": "white",
             "linecolor": "white",
             "minorgridcolor": "white",
             "startlinecolor": "#2a3f5f"
            },
            "type": "carpet"
           }
          ],
          "choropleth": [
           {
            "colorbar": {
             "outlinewidth": 0,
             "ticks": ""
            },
            "type": "choropleth"
           }
          ],
          "contour": [
           {
            "colorbar": {
             "outlinewidth": 0,
             "ticks": ""
            },
            "colorscale": [
             [
              0,
              "#0d0887"
             ],
             [
              0.1111111111111111,
              "#46039f"
             ],
             [
              0.2222222222222222,
              "#7201a8"
             ],
             [
              0.3333333333333333,
              "#9c179e"
             ],
             [
              0.4444444444444444,
              "#bd3786"
             ],
             [
              0.5555555555555556,
              "#d8576b"
             ],
             [
              0.6666666666666666,
              "#ed7953"
             ],
             [
              0.7777777777777778,
              "#fb9f3a"
             ],
             [
              0.8888888888888888,
              "#fdca26"
             ],
             [
              1,
              "#f0f921"
             ]
            ],
            "type": "contour"
           }
          ],
          "contourcarpet": [
           {
            "colorbar": {
             "outlinewidth": 0,
             "ticks": ""
            },
            "type": "contourcarpet"
           }
          ],
          "heatmap": [
           {
            "colorbar": {
             "outlinewidth": 0,
             "ticks": ""
            },
            "colorscale": [
             [
              0,
              "#0d0887"
             ],
             [
              0.1111111111111111,
              "#46039f"
             ],
             [
              0.2222222222222222,
              "#7201a8"
             ],
             [
              0.3333333333333333,
              "#9c179e"
             ],
             [
              0.4444444444444444,
              "#bd3786"
             ],
             [
              0.5555555555555556,
              "#d8576b"
             ],
             [
              0.6666666666666666,
              "#ed7953"
             ],
             [
              0.7777777777777778,
              "#fb9f3a"
             ],
             [
              0.8888888888888888,
              "#fdca26"
             ],
             [
              1,
              "#f0f921"
             ]
            ],
            "type": "heatmap"
           }
          ],
          "heatmapgl": [
           {
            "colorbar": {
             "outlinewidth": 0,
             "ticks": ""
            },
            "colorscale": [
             [
              0,
              "#0d0887"
             ],
             [
              0.1111111111111111,
              "#46039f"
             ],
             [
              0.2222222222222222,
              "#7201a8"
             ],
             [
              0.3333333333333333,
              "#9c179e"
             ],
             [
              0.4444444444444444,
              "#bd3786"
             ],
             [
              0.5555555555555556,
              "#d8576b"
             ],
             [
              0.6666666666666666,
              "#ed7953"
             ],
             [
              0.7777777777777778,
              "#fb9f3a"
             ],
             [
              0.8888888888888888,
              "#fdca26"
             ],
             [
              1,
              "#f0f921"
             ]
            ],
            "type": "heatmapgl"
           }
          ],
          "histogram": [
           {
            "marker": {
             "pattern": {
              "fillmode": "overlay",
              "size": 10,
              "solidity": 0.2
             }
            },
            "type": "histogram"
           }
          ],
          "histogram2d": [
           {
            "colorbar": {
             "outlinewidth": 0,
             "ticks": ""
            },
            "colorscale": [
             [
              0,
              "#0d0887"
             ],
             [
              0.1111111111111111,
              "#46039f"
             ],
             [
              0.2222222222222222,
              "#7201a8"
             ],
             [
              0.3333333333333333,
              "#9c179e"
             ],
             [
              0.4444444444444444,
              "#bd3786"
             ],
             [
              0.5555555555555556,
              "#d8576b"
             ],
             [
              0.6666666666666666,
              "#ed7953"
             ],
             [
              0.7777777777777778,
              "#fb9f3a"
             ],
             [
              0.8888888888888888,
              "#fdca26"
             ],
             [
              1,
              "#f0f921"
             ]
            ],
            "type": "histogram2d"
           }
          ],
          "histogram2dcontour": [
           {
            "colorbar": {
             "outlinewidth": 0,
             "ticks": ""
            },
            "colorscale": [
             [
              0,
              "#0d0887"
             ],
             [
              0.1111111111111111,
              "#46039f"
             ],
             [
              0.2222222222222222,
              "#7201a8"
             ],
             [
              0.3333333333333333,
              "#9c179e"
             ],
             [
              0.4444444444444444,
              "#bd3786"
             ],
             [
              0.5555555555555556,
              "#d8576b"
             ],
             [
              0.6666666666666666,
              "#ed7953"
             ],
             [
              0.7777777777777778,
              "#fb9f3a"
             ],
             [
              0.8888888888888888,
              "#fdca26"
             ],
             [
              1,
              "#f0f921"
             ]
            ],
            "type": "histogram2dcontour"
           }
          ],
          "mesh3d": [
           {
            "colorbar": {
             "outlinewidth": 0,
             "ticks": ""
            },
            "type": "mesh3d"
           }
          ],
          "parcoords": [
           {
            "line": {
             "colorbar": {
              "outlinewidth": 0,
              "ticks": ""
             }
            },
            "type": "parcoords"
           }
          ],
          "pie": [
           {
            "automargin": true,
            "type": "pie"
           }
          ],
          "scatter": [
           {
            "fillpattern": {
             "fillmode": "overlay",
             "size": 10,
             "solidity": 0.2
            },
            "type": "scatter"
           }
          ],
          "scatter3d": [
           {
            "line": {
             "colorbar": {
              "outlinewidth": 0,
              "ticks": ""
             }
            },
            "marker": {
             "colorbar": {
              "outlinewidth": 0,
              "ticks": ""
             }
            },
            "type": "scatter3d"
           }
          ],
          "scattercarpet": [
           {
            "marker": {
             "colorbar": {
              "outlinewidth": 0,
              "ticks": ""
             }
            },
            "type": "scattercarpet"
           }
          ],
          "scattergeo": [
           {
            "marker": {
             "colorbar": {
              "outlinewidth": 0,
              "ticks": ""
             }
            },
            "type": "scattergeo"
           }
          ],
          "scattergl": [
           {
            "marker": {
             "colorbar": {
              "outlinewidth": 0,
              "ticks": ""
             }
            },
            "type": "scattergl"
           }
          ],
          "scattermapbox": [
           {
            "marker": {
             "colorbar": {
              "outlinewidth": 0,
              "ticks": ""
             }
            },
            "type": "scattermapbox"
           }
          ],
          "scatterpolar": [
           {
            "marker": {
             "colorbar": {
              "outlinewidth": 0,
              "ticks": ""
             }
            },
            "type": "scatterpolar"
           }
          ],
          "scatterpolargl": [
           {
            "marker": {
             "colorbar": {
              "outlinewidth": 0,
              "ticks": ""
             }
            },
            "type": "scatterpolargl"
           }
          ],
          "scatterternary": [
           {
            "marker": {
             "colorbar": {
              "outlinewidth": 0,
              "ticks": ""
             }
            },
            "type": "scatterternary"
           }
          ],
          "surface": [
           {
            "colorbar": {
             "outlinewidth": 0,
             "ticks": ""
            },
            "colorscale": [
             [
              0,
              "#0d0887"
             ],
             [
              0.1111111111111111,
              "#46039f"
             ],
             [
              0.2222222222222222,
              "#7201a8"
             ],
             [
              0.3333333333333333,
              "#9c179e"
             ],
             [
              0.4444444444444444,
              "#bd3786"
             ],
             [
              0.5555555555555556,
              "#d8576b"
             ],
             [
              0.6666666666666666,
              "#ed7953"
             ],
             [
              0.7777777777777778,
              "#fb9f3a"
             ],
             [
              0.8888888888888888,
              "#fdca26"
             ],
             [
              1,
              "#f0f921"
             ]
            ],
            "type": "surface"
           }
          ],
          "table": [
           {
            "cells": {
             "fill": {
              "color": "#EBF0F8"
             },
             "line": {
              "color": "white"
             }
            },
            "header": {
             "fill": {
              "color": "#C8D4E3"
             },
             "line": {
              "color": "white"
             }
            },
            "type": "table"
           }
          ]
         },
         "layout": {
          "annotationdefaults": {
           "arrowcolor": "#2a3f5f",
           "arrowhead": 0,
           "arrowwidth": 1
          },
          "autotypenumbers": "strict",
          "coloraxis": {
           "colorbar": {
            "outlinewidth": 0,
            "ticks": ""
           }
          },
          "colorscale": {
           "diverging": [
            [
             0,
             "#8e0152"
            ],
            [
             0.1,
             "#c51b7d"
            ],
            [
             0.2,
             "#de77ae"
            ],
            [
             0.3,
             "#f1b6da"
            ],
            [
             0.4,
             "#fde0ef"
            ],
            [
             0.5,
             "#f7f7f7"
            ],
            [
             0.6,
             "#e6f5d0"
            ],
            [
             0.7,
             "#b8e186"
            ],
            [
             0.8,
             "#7fbc41"
            ],
            [
             0.9,
             "#4d9221"
            ],
            [
             1,
             "#276419"
            ]
           ],
           "sequential": [
            [
             0,
             "#0d0887"
            ],
            [
             0.1111111111111111,
             "#46039f"
            ],
            [
             0.2222222222222222,
             "#7201a8"
            ],
            [
             0.3333333333333333,
             "#9c179e"
            ],
            [
             0.4444444444444444,
             "#bd3786"
            ],
            [
             0.5555555555555556,
             "#d8576b"
            ],
            [
             0.6666666666666666,
             "#ed7953"
            ],
            [
             0.7777777777777778,
             "#fb9f3a"
            ],
            [
             0.8888888888888888,
             "#fdca26"
            ],
            [
             1,
             "#f0f921"
            ]
           ],
           "sequentialminus": [
            [
             0,
             "#0d0887"
            ],
            [
             0.1111111111111111,
             "#46039f"
            ],
            [
             0.2222222222222222,
             "#7201a8"
            ],
            [
             0.3333333333333333,
             "#9c179e"
            ],
            [
             0.4444444444444444,
             "#bd3786"
            ],
            [
             0.5555555555555556,
             "#d8576b"
            ],
            [
             0.6666666666666666,
             "#ed7953"
            ],
            [
             0.7777777777777778,
             "#fb9f3a"
            ],
            [
             0.8888888888888888,
             "#fdca26"
            ],
            [
             1,
             "#f0f921"
            ]
           ]
          },
          "colorway": [
           "#636efa",
           "#EF553B",
           "#00cc96",
           "#ab63fa",
           "#FFA15A",
           "#19d3f3",
           "#FF6692",
           "#B6E880",
           "#FF97FF",
           "#FECB52"
          ],
          "font": {
           "color": "#2a3f5f"
          },
          "geo": {
           "bgcolor": "white",
           "lakecolor": "white",
           "landcolor": "#E5ECF6",
           "showlakes": true,
           "showland": true,
           "subunitcolor": "white"
          },
          "hoverlabel": {
           "align": "left"
          },
          "hovermode": "closest",
          "mapbox": {
           "style": "light"
          },
          "paper_bgcolor": "white",
          "plot_bgcolor": "#E5ECF6",
          "polar": {
           "angularaxis": {
            "gridcolor": "white",
            "linecolor": "white",
            "ticks": ""
           },
           "bgcolor": "#E5ECF6",
           "radialaxis": {
            "gridcolor": "white",
            "linecolor": "white",
            "ticks": ""
           }
          },
          "scene": {
           "xaxis": {
            "backgroundcolor": "#E5ECF6",
            "gridcolor": "white",
            "gridwidth": 2,
            "linecolor": "white",
            "showbackground": true,
            "ticks": "",
            "zerolinecolor": "white"
           },
           "yaxis": {
            "backgroundcolor": "#E5ECF6",
            "gridcolor": "white",
            "gridwidth": 2,
            "linecolor": "white",
            "showbackground": true,
            "ticks": "",
            "zerolinecolor": "white"
           },
           "zaxis": {
            "backgroundcolor": "#E5ECF6",
            "gridcolor": "white",
            "gridwidth": 2,
            "linecolor": "white",
            "showbackground": true,
            "ticks": "",
            "zerolinecolor": "white"
           }
          },
          "shapedefaults": {
           "line": {
            "color": "#2a3f5f"
           }
          },
          "ternary": {
           "aaxis": {
            "gridcolor": "white",
            "linecolor": "white",
            "ticks": ""
           },
           "baxis": {
            "gridcolor": "white",
            "linecolor": "white",
            "ticks": ""
           },
           "bgcolor": "#E5ECF6",
           "caxis": {
            "gridcolor": "white",
            "linecolor": "white",
            "ticks": ""
           }
          },
          "title": {
           "x": 0.05
          },
          "xaxis": {
           "automargin": true,
           "gridcolor": "white",
           "linecolor": "white",
           "ticks": "",
           "title": {
            "standoff": 15
           },
           "zerolinecolor": "white",
           "zerolinewidth": 2
          },
          "yaxis": {
           "automargin": true,
           "gridcolor": "white",
           "linecolor": "white",
           "ticks": "",
           "title": {
            "standoff": 15
           },
           "zerolinecolor": "white",
           "zerolinewidth": 2
          }
         }
        },
        "xaxis": {
         "anchor": "y",
         "domain": [
          0,
          1
         ],
         "title": {
          "text": "Date"
         }
        },
        "yaxis": {
         "anchor": "x",
         "domain": [
          0,
          1
         ],
         "title": {
          "text": "Percent"
         }
        }
       }
      },
      "text/html": [
       "<div>                            <div id=\"adab927c-5c08-4c92-890c-982ed60c8d4e\" class=\"plotly-graph-div\" style=\"height:525px; width:100%;\"></div>            <script type=\"text/javascript\">                require([\"plotly\"], function(Plotly) {                    window.PLOTLYENV=window.PLOTLYENV || {};                                    if (document.getElementById(\"adab927c-5c08-4c92-890c-982ed60c8d4e\")) {                    Plotly.newPlot(                        \"adab927c-5c08-4c92-890c-982ed60c8d4e\",                        [{\"alignmentgroup\":\"True\",\"hovertemplate\":\"keyword=%{text}<br>Date=%{x}<br>Percent=%{y}<extra></extra>\",\"legendgroup\":\"\\ud540\\ud14c\\ud06c\",\"marker\":{\"color\":\"#636efa\",\"pattern\":{\"shape\":\"\"}},\"name\":\"\\ud540\\ud14c\\ud06c\",\"offsetgroup\":\"\\ud540\\ud14c\\ud06c\",\"orientation\":\"v\",\"showlegend\":true,\"text\":[\"\\ud540\\ud14c\\ud06c\",\"\\ud540\\ud14c\\ud06c\",\"\\ud540\\ud14c\\ud06c\",\"\\ud540\\ud14c\\ud06c\",\"\\ud540\\ud14c\\ud06c\",\"\\ud540\\ud14c\\ud06c\",\"\\ud540\\ud14c\\ud06c\",\"\\ud540\\ud14c\\ud06c\",\"\\ud540\\ud14c\\ud06c\",\"\\ud540\\ud14c\\ud06c\",\"\\ud540\\ud14c\\ud06c\",\"\\ud540\\ud14c\\ud06c\",\"\\ud540\\ud14c\\ud06c\",\"\\ud540\\ud14c\\ud06c\",\"\\ud540\\ud14c\\ud06c\",\"\\ud540\\ud14c\\ud06c\",\"\\ud540\\ud14c\\ud06c\",\"\\ud540\\ud14c\\ud06c\",\"\\ud540\\ud14c\\ud06c\",\"\\ud540\\ud14c\\ud06c\",\"\\ud540\\ud14c\\ud06c\",\"\\ud540\\ud14c\\ud06c\",\"\\ud540\\ud14c\\ud06c\",\"\\ud540\\ud14c\\ud06c\",\"\\ud540\\ud14c\\ud06c\",\"\\ud540\\ud14c\\ud06c\",\"\\ud540\\ud14c\\ud06c\",\"\\ud540\\ud14c\\ud06c\",\"\\ud540\\ud14c\\ud06c\",\"\\ud540\\ud14c\\ud06c\",\"\\ud540\\ud14c\\ud06c\",\"\\ud540\\ud14c\\ud06c\",\"\\ud540\\ud14c\\ud06c\",\"\\ud540\\ud14c\\ud06c\",\"\\ud540\\ud14c\\ud06c\",\"\\ud540\\ud14c\\ud06c\",\"\\ud540\\ud14c\\ud06c\",\"\\ud540\\ud14c\\ud06c\",\"\\ud540\\ud14c\\ud06c\",\"\\ud540\\ud14c\\ud06c\",\"\\ud540\\ud14c\\ud06c\",\"\\ud540\\ud14c\\ud06c\",\"\\ud540\\ud14c\\ud06c\",\"\\ud540\\ud14c\\ud06c\",\"\\ud540\\ud14c\\ud06c\",\"\\ud540\\ud14c\\ud06c\",\"\\ud540\\ud14c\\ud06c\"],\"textposition\":\"auto\",\"x\":[\"2018-08-01T00:00:00\",\"2018-09-01T00:00:00\",\"2018-10-01T00:00:00\",\"2018-11-01T00:00:00\",\"2018-12-01T00:00:00\",\"2019-01-01T00:00:00\",\"2019-02-01T00:00:00\",\"2019-03-01T00:00:00\",\"2019-04-01T00:00:00\",\"2019-05-01T00:00:00\",\"2019-06-01T00:00:00\",\"2019-07-01T00:00:00\",\"2019-08-01T00:00:00\",\"2019-09-01T00:00:00\",\"2019-10-01T00:00:00\",\"2019-11-01T00:00:00\",\"2019-12-01T00:00:00\",\"2020-01-01T00:00:00\",\"2020-02-01T00:00:00\",\"2020-03-01T00:00:00\",\"2020-04-01T00:00:00\",\"2020-05-01T00:00:00\",\"2020-06-01T00:00:00\",\"2020-07-01T00:00:00\",\"2020-08-01T00:00:00\",\"2020-09-01T00:00:00\",\"2020-10-01T00:00:00\",\"2020-11-01T00:00:00\",\"2020-12-01T00:00:00\",\"2021-01-01T00:00:00\",\"2021-02-01T00:00:00\",\"2021-03-01T00:00:00\",\"2021-04-01T00:00:00\",\"2021-05-01T00:00:00\",\"2021-06-01T00:00:00\",\"2021-07-01T00:00:00\",\"2021-08-01T00:00:00\",\"2021-09-01T00:00:00\",\"2021-10-01T00:00:00\",\"2021-11-01T00:00:00\",\"2021-12-01T00:00:00\",\"2022-01-01T00:00:00\",\"2022-02-01T00:00:00\",\"2022-03-01T00:00:00\",\"2022-04-01T00:00:00\",\"2022-05-01T00:00:00\",\"2022-06-01T00:00:00\"],\"xaxis\":\"x\",\"y\":[0.9830508474576272,0.9852941176470589,0.96,0.967032967032967,1.0,0.9903846153846154,0.9880239520958084,0.9736842105263158,0.9507389162561576,0.9829787234042553,0.9932432432432432,0.93048128342246,1.0,0.9342105263157895,0.96875,0.930635838150289,0.896774193548387,0.8083333333333333,0.8548387096774194,0.8860759493670886,0.8440366972477065,0.8503401360544217,0.7407407407407407,0.5592105263157895,0.49324324324324326,0.6153846153846154,0.6714975845410628,0.6209677419354839,0.6513409961685823,0.5156794425087108,0.5882352941176471,0.7,0.6813725490196079,0.7156398104265402,0.6454183266932271,0.6633165829145728,0.578125,0.5947368421052631,0.5078534031413613,0.6333333333333333,0.551094890510949,0.45977011494252873,0.5726495726495726,0.5977653631284916,0.5796460176991151,0.6560509554140127,0.6513157894736842],\"yaxis\":\"y\",\"type\":\"bar\"},{\"alignmentgroup\":\"True\",\"hovertemplate\":\"keyword=%{text}<br>Date=%{x}<br>Percent=%{y}<extra></extra>\",\"legendgroup\":\"\\ube45\\ud14c\\ud06c\",\"marker\":{\"color\":\"#EF553B\",\"pattern\":{\"shape\":\"\"}},\"name\":\"\\ube45\\ud14c\\ud06c\",\"offsetgroup\":\"\\ube45\\ud14c\\ud06c\",\"orientation\":\"v\",\"showlegend\":true,\"text\":[\"\\ube45\\ud14c\\ud06c\",\"\\ube45\\ud14c\\ud06c\",\"\\ube45\\ud14c\\ud06c\",\"\\ube45\\ud14c\\ud06c\",\"\\ube45\\ud14c\\ud06c\",\"\\ube45\\ud14c\\ud06c\",\"\\ube45\\ud14c\\ud06c\",\"\\ube45\\ud14c\\ud06c\",\"\\ube45\\ud14c\\ud06c\",\"\\ube45\\ud14c\\ud06c\",\"\\ube45\\ud14c\\ud06c\",\"\\ube45\\ud14c\\ud06c\",\"\\ube45\\ud14c\\ud06c\",\"\\ube45\\ud14c\\ud06c\",\"\\ube45\\ud14c\\ud06c\",\"\\ube45\\ud14c\\ud06c\",\"\\ube45\\ud14c\\ud06c\",\"\\ube45\\ud14c\\ud06c\",\"\\ube45\\ud14c\\ud06c\",\"\\ube45\\ud14c\\ud06c\",\"\\ube45\\ud14c\\ud06c\",\"\\ube45\\ud14c\\ud06c\",\"\\ube45\\ud14c\\ud06c\",\"\\ube45\\ud14c\\ud06c\",\"\\ube45\\ud14c\\ud06c\",\"\\ube45\\ud14c\\ud06c\",\"\\ube45\\ud14c\\ud06c\",\"\\ube45\\ud14c\\ud06c\",\"\\ube45\\ud14c\\ud06c\",\"\\ube45\\ud14c\\ud06c\",\"\\ube45\\ud14c\\ud06c\",\"\\ube45\\ud14c\\ud06c\",\"\\ube45\\ud14c\\ud06c\",\"\\ube45\\ud14c\\ud06c\",\"\\ube45\\ud14c\\ud06c\",\"\\ube45\\ud14c\\ud06c\",\"\\ube45\\ud14c\\ud06c\",\"\\ube45\\ud14c\\ud06c\",\"\\ube45\\ud14c\\ud06c\",\"\\ube45\\ud14c\\ud06c\",\"\\ube45\\ud14c\\ud06c\",\"\\ube45\\ud14c\\ud06c\",\"\\ube45\\ud14c\\ud06c\",\"\\ube45\\ud14c\\ud06c\",\"\\ube45\\ud14c\\ud06c\",\"\\ube45\\ud14c\\ud06c\",\"\\ube45\\ud14c\\ud06c\"],\"textposition\":\"auto\",\"x\":[\"2018-08-01T00:00:00\",\"2018-09-01T00:00:00\",\"2018-10-01T00:00:00\",\"2018-11-01T00:00:00\",\"2018-12-01T00:00:00\",\"2019-01-01T00:00:00\",\"2019-02-01T00:00:00\",\"2019-03-01T00:00:00\",\"2019-04-01T00:00:00\",\"2019-05-01T00:00:00\",\"2019-06-01T00:00:00\",\"2019-07-01T00:00:00\",\"2019-08-01T00:00:00\",\"2019-09-01T00:00:00\",\"2019-10-01T00:00:00\",\"2019-11-01T00:00:00\",\"2019-12-01T00:00:00\",\"2020-01-01T00:00:00\",\"2020-02-01T00:00:00\",\"2020-03-01T00:00:00\",\"2020-04-01T00:00:00\",\"2020-05-01T00:00:00\",\"2020-06-01T00:00:00\",\"2020-07-01T00:00:00\",\"2020-08-01T00:00:00\",\"2020-09-01T00:00:00\",\"2020-10-01T00:00:00\",\"2020-11-01T00:00:00\",\"2020-12-01T00:00:00\",\"2021-01-01T00:00:00\",\"2021-02-01T00:00:00\",\"2021-03-01T00:00:00\",\"2021-04-01T00:00:00\",\"2021-05-01T00:00:00\",\"2021-06-01T00:00:00\",\"2021-07-01T00:00:00\",\"2021-08-01T00:00:00\",\"2021-09-01T00:00:00\",\"2021-10-01T00:00:00\",\"2021-11-01T00:00:00\",\"2021-12-01T00:00:00\",\"2022-01-01T00:00:00\",\"2022-02-01T00:00:00\",\"2022-03-01T00:00:00\",\"2022-04-01T00:00:00\",\"2022-05-01T00:00:00\",\"2022-06-01T00:00:00\"],\"xaxis\":\"x\",\"y\":[0.01694915254237288,0.014705882352941176,0.0,0.0,0.0,0.0,0.011976047904191617,0.019736842105263157,0.009852216748768473,0.01276595744680851,0.006756756756756757,0.0374331550802139,0.0,0.02631578947368421,0.0078125,0.04046242774566474,0.03870967741935484,0.10833333333333334,0.024193548387096774,0.02531645569620253,0.11926605504587157,0.034013605442176874,0.16296296296296298,0.4144736842105263,0.36486486486486486,0.36713286713286714,0.30434782608695654,0.3548387096774194,0.34099616858237547,0.46689895470383275,0.4019607843137255,0.24705882352941178,0.28431372549019607,0.2796208530805687,0.3466135458167331,0.3316582914572864,0.4010416666666667,0.4052631578947368,0.450261780104712,0.35,0.4416058394160584,0.5402298850574713,0.42735042735042733,0.4022346368715084,0.41150442477876104,0.34394904458598724,0.3223684210526316],\"yaxis\":\"y\",\"type\":\"bar\"},{\"alignmentgroup\":\"True\",\"hovertemplate\":\"keyword=%{text}<br>Date=%{x}<br>Percent=%{y}<extra></extra>\",\"legendgroup\":\"\\ud14c\\ud06c\\ud540\",\"marker\":{\"color\":\"#00cc96\",\"pattern\":{\"shape\":\"\"}},\"name\":\"\\ud14c\\ud06c\\ud540\",\"offsetgroup\":\"\\ud14c\\ud06c\\ud540\",\"orientation\":\"v\",\"showlegend\":true,\"text\":[\"\\ud14c\\ud06c\\ud540\",\"\\ud14c\\ud06c\\ud540\",\"\\ud14c\\ud06c\\ud540\",\"\\ud14c\\ud06c\\ud540\",\"\\ud14c\\ud06c\\ud540\",\"\\ud14c\\ud06c\\ud540\",\"\\ud14c\\ud06c\\ud540\",\"\\ud14c\\ud06c\\ud540\",\"\\ud14c\\ud06c\\ud540\",\"\\ud14c\\ud06c\\ud540\",\"\\ud14c\\ud06c\\ud540\",\"\\ud14c\\ud06c\\ud540\",\"\\ud14c\\ud06c\\ud540\",\"\\ud14c\\ud06c\\ud540\",\"\\ud14c\\ud06c\\ud540\",\"\\ud14c\\ud06c\\ud540\",\"\\ud14c\\ud06c\\ud540\",\"\\ud14c\\ud06c\\ud540\",\"\\ud14c\\ud06c\\ud540\",\"\\ud14c\\ud06c\\ud540\",\"\\ud14c\\ud06c\\ud540\",\"\\ud14c\\ud06c\\ud540\",\"\\ud14c\\ud06c\\ud540\",\"\\ud14c\\ud06c\\ud540\",\"\\ud14c\\ud06c\\ud540\",\"\\ud14c\\ud06c\\ud540\",\"\\ud14c\\ud06c\\ud540\",\"\\ud14c\\ud06c\\ud540\",\"\\ud14c\\ud06c\\ud540\",\"\\ud14c\\ud06c\\ud540\",\"\\ud14c\\ud06c\\ud540\",\"\\ud14c\\ud06c\\ud540\",\"\\ud14c\\ud06c\\ud540\",\"\\ud14c\\ud06c\\ud540\",\"\\ud14c\\ud06c\\ud540\",\"\\ud14c\\ud06c\\ud540\",\"\\ud14c\\ud06c\\ud540\",\"\\ud14c\\ud06c\\ud540\",\"\\ud14c\\ud06c\\ud540\",\"\\ud14c\\ud06c\\ud540\",\"\\ud14c\\ud06c\\ud540\",\"\\ud14c\\ud06c\\ud540\",\"\\ud14c\\ud06c\\ud540\",\"\\ud14c\\ud06c\\ud540\",\"\\ud14c\\ud06c\\ud540\",\"\\ud14c\\ud06c\\ud540\",\"\\ud14c\\ud06c\\ud540\"],\"textposition\":\"auto\",\"x\":[\"2018-08-01T00:00:00\",\"2018-09-01T00:00:00\",\"2018-10-01T00:00:00\",\"2018-11-01T00:00:00\",\"2018-12-01T00:00:00\",\"2019-01-01T00:00:00\",\"2019-02-01T00:00:00\",\"2019-03-01T00:00:00\",\"2019-04-01T00:00:00\",\"2019-05-01T00:00:00\",\"2019-06-01T00:00:00\",\"2019-07-01T00:00:00\",\"2019-08-01T00:00:00\",\"2019-09-01T00:00:00\",\"2019-10-01T00:00:00\",\"2019-11-01T00:00:00\",\"2019-12-01T00:00:00\",\"2020-01-01T00:00:00\",\"2020-02-01T00:00:00\",\"2020-03-01T00:00:00\",\"2020-04-01T00:00:00\",\"2020-05-01T00:00:00\",\"2020-06-01T00:00:00\",\"2020-07-01T00:00:00\",\"2020-08-01T00:00:00\",\"2020-09-01T00:00:00\",\"2020-10-01T00:00:00\",\"2020-11-01T00:00:00\",\"2020-12-01T00:00:00\",\"2021-01-01T00:00:00\",\"2021-02-01T00:00:00\",\"2021-03-01T00:00:00\",\"2021-04-01T00:00:00\",\"2021-05-01T00:00:00\",\"2021-06-01T00:00:00\",\"2021-07-01T00:00:00\",\"2021-08-01T00:00:00\",\"2021-09-01T00:00:00\",\"2021-10-01T00:00:00\",\"2021-11-01T00:00:00\",\"2021-12-01T00:00:00\",\"2022-01-01T00:00:00\",\"2022-02-01T00:00:00\",\"2022-03-01T00:00:00\",\"2022-04-01T00:00:00\",\"2022-05-01T00:00:00\",\"2022-06-01T00:00:00\"],\"xaxis\":\"x\",\"y\":[0.0,0.0,0.04,0.03296703296703297,0.0,0.009615384615384616,0.0,0.006578947368421052,0.03940886699507389,0.00425531914893617,0.0,0.03208556149732621,0.0,0.039473684210526314,0.0234375,0.028901734104046242,0.06451612903225806,0.08333333333333333,0.12096774193548387,0.08860759493670886,0.03669724770642202,0.11564625850340136,0.0962962962962963,0.02631578947368421,0.14189189189189189,0.017482517482517484,0.024154589371980676,0.024193548387096774,0.007662835249042145,0.017421602787456445,0.00980392156862745,0.052941176470588235,0.03431372549019608,0.004739336492890996,0.00796812749003984,0.005025125628140704,0.020833333333333332,0.0,0.041884816753926704,0.016666666666666666,0.0072992700729927005,0.0,0.0,0.0,0.008849557522123894,0.0,0.02631578947368421],\"yaxis\":\"y\",\"type\":\"bar\"}],                        {\"template\":{\"data\":{\"histogram2dcontour\":[{\"type\":\"histogram2dcontour\",\"colorbar\":{\"outlinewidth\":0,\"ticks\":\"\"},\"colorscale\":[[0.0,\"#0d0887\"],[0.1111111111111111,\"#46039f\"],[0.2222222222222222,\"#7201a8\"],[0.3333333333333333,\"#9c179e\"],[0.4444444444444444,\"#bd3786\"],[0.5555555555555556,\"#d8576b\"],[0.6666666666666666,\"#ed7953\"],[0.7777777777777778,\"#fb9f3a\"],[0.8888888888888888,\"#fdca26\"],[1.0,\"#f0f921\"]]}],\"choropleth\":[{\"type\":\"choropleth\",\"colorbar\":{\"outlinewidth\":0,\"ticks\":\"\"}}],\"histogram2d\":[{\"type\":\"histogram2d\",\"colorbar\":{\"outlinewidth\":0,\"ticks\":\"\"},\"colorscale\":[[0.0,\"#0d0887\"],[0.1111111111111111,\"#46039f\"],[0.2222222222222222,\"#7201a8\"],[0.3333333333333333,\"#9c179e\"],[0.4444444444444444,\"#bd3786\"],[0.5555555555555556,\"#d8576b\"],[0.6666666666666666,\"#ed7953\"],[0.7777777777777778,\"#fb9f3a\"],[0.8888888888888888,\"#fdca26\"],[1.0,\"#f0f921\"]]}],\"heatmap\":[{\"type\":\"heatmap\",\"colorbar\":{\"outlinewidth\":0,\"ticks\":\"\"},\"colorscale\":[[0.0,\"#0d0887\"],[0.1111111111111111,\"#46039f\"],[0.2222222222222222,\"#7201a8\"],[0.3333333333333333,\"#9c179e\"],[0.4444444444444444,\"#bd3786\"],[0.5555555555555556,\"#d8576b\"],[0.6666666666666666,\"#ed7953\"],[0.7777777777777778,\"#fb9f3a\"],[0.8888888888888888,\"#fdca26\"],[1.0,\"#f0f921\"]]}],\"heatmapgl\":[{\"type\":\"heatmapgl\",\"colorbar\":{\"outlinewidth\":0,\"ticks\":\"\"},\"colorscale\":[[0.0,\"#0d0887\"],[0.1111111111111111,\"#46039f\"],[0.2222222222222222,\"#7201a8\"],[0.3333333333333333,\"#9c179e\"],[0.4444444444444444,\"#bd3786\"],[0.5555555555555556,\"#d8576b\"],[0.6666666666666666,\"#ed7953\"],[0.7777777777777778,\"#fb9f3a\"],[0.8888888888888888,\"#fdca26\"],[1.0,\"#f0f921\"]]}],\"contourcarpet\":[{\"type\":\"contourcarpet\",\"colorbar\":{\"outlinewidth\":0,\"ticks\":\"\"}}],\"contour\":[{\"type\":\"contour\",\"colorbar\":{\"outlinewidth\":0,\"ticks\":\"\"},\"colorscale\":[[0.0,\"#0d0887\"],[0.1111111111111111,\"#46039f\"],[0.2222222222222222,\"#7201a8\"],[0.3333333333333333,\"#9c179e\"],[0.4444444444444444,\"#bd3786\"],[0.5555555555555556,\"#d8576b\"],[0.6666666666666666,\"#ed7953\"],[0.7777777777777778,\"#fb9f3a\"],[0.8888888888888888,\"#fdca26\"],[1.0,\"#f0f921\"]]}],\"surface\":[{\"type\":\"surface\",\"colorbar\":{\"outlinewidth\":0,\"ticks\":\"\"},\"colorscale\":[[0.0,\"#0d0887\"],[0.1111111111111111,\"#46039f\"],[0.2222222222222222,\"#7201a8\"],[0.3333333333333333,\"#9c179e\"],[0.4444444444444444,\"#bd3786\"],[0.5555555555555556,\"#d8576b\"],[0.6666666666666666,\"#ed7953\"],[0.7777777777777778,\"#fb9f3a\"],[0.8888888888888888,\"#fdca26\"],[1.0,\"#f0f921\"]]}],\"mesh3d\":[{\"type\":\"mesh3d\",\"colorbar\":{\"outlinewidth\":0,\"ticks\":\"\"}}],\"scatter\":[{\"fillpattern\":{\"fillmode\":\"overlay\",\"size\":10,\"solidity\":0.2},\"type\":\"scatter\"}],\"parcoords\":[{\"type\":\"parcoords\",\"line\":{\"colorbar\":{\"outlinewidth\":0,\"ticks\":\"\"}}}],\"scatterpolargl\":[{\"type\":\"scatterpolargl\",\"marker\":{\"colorbar\":{\"outlinewidth\":0,\"ticks\":\"\"}}}],\"bar\":[{\"error_x\":{\"color\":\"#2a3f5f\"},\"error_y\":{\"color\":\"#2a3f5f\"},\"marker\":{\"line\":{\"color\":\"#E5ECF6\",\"width\":0.5},\"pattern\":{\"fillmode\":\"overlay\",\"size\":10,\"solidity\":0.2}},\"type\":\"bar\"}],\"scattergeo\":[{\"type\":\"scattergeo\",\"marker\":{\"colorbar\":{\"outlinewidth\":0,\"ticks\":\"\"}}}],\"scatterpolar\":[{\"type\":\"scatterpolar\",\"marker\":{\"colorbar\":{\"outlinewidth\":0,\"ticks\":\"\"}}}],\"histogram\":[{\"marker\":{\"pattern\":{\"fillmode\":\"overlay\",\"size\":10,\"solidity\":0.2}},\"type\":\"histogram\"}],\"scattergl\":[{\"type\":\"scattergl\",\"marker\":{\"colorbar\":{\"outlinewidth\":0,\"ticks\":\"\"}}}],\"scatter3d\":[{\"type\":\"scatter3d\",\"line\":{\"colorbar\":{\"outlinewidth\":0,\"ticks\":\"\"}},\"marker\":{\"colorbar\":{\"outlinewidth\":0,\"ticks\":\"\"}}}],\"scattermapbox\":[{\"type\":\"scattermapbox\",\"marker\":{\"colorbar\":{\"outlinewidth\":0,\"ticks\":\"\"}}}],\"scatterternary\":[{\"type\":\"scatterternary\",\"marker\":{\"colorbar\":{\"outlinewidth\":0,\"ticks\":\"\"}}}],\"scattercarpet\":[{\"type\":\"scattercarpet\",\"marker\":{\"colorbar\":{\"outlinewidth\":0,\"ticks\":\"\"}}}],\"carpet\":[{\"aaxis\":{\"endlinecolor\":\"#2a3f5f\",\"gridcolor\":\"white\",\"linecolor\":\"white\",\"minorgridcolor\":\"white\",\"startlinecolor\":\"#2a3f5f\"},\"baxis\":{\"endlinecolor\":\"#2a3f5f\",\"gridcolor\":\"white\",\"linecolor\":\"white\",\"minorgridcolor\":\"white\",\"startlinecolor\":\"#2a3f5f\"},\"type\":\"carpet\"}],\"table\":[{\"cells\":{\"fill\":{\"color\":\"#EBF0F8\"},\"line\":{\"color\":\"white\"}},\"header\":{\"fill\":{\"color\":\"#C8D4E3\"},\"line\":{\"color\":\"white\"}},\"type\":\"table\"}],\"barpolar\":[{\"marker\":{\"line\":{\"color\":\"#E5ECF6\",\"width\":0.5},\"pattern\":{\"fillmode\":\"overlay\",\"size\":10,\"solidity\":0.2}},\"type\":\"barpolar\"}],\"pie\":[{\"automargin\":true,\"type\":\"pie\"}]},\"layout\":{\"autotypenumbers\":\"strict\",\"colorway\":[\"#636efa\",\"#EF553B\",\"#00cc96\",\"#ab63fa\",\"#FFA15A\",\"#19d3f3\",\"#FF6692\",\"#B6E880\",\"#FF97FF\",\"#FECB52\"],\"font\":{\"color\":\"#2a3f5f\"},\"hovermode\":\"closest\",\"hoverlabel\":{\"align\":\"left\"},\"paper_bgcolor\":\"white\",\"plot_bgcolor\":\"#E5ECF6\",\"polar\":{\"bgcolor\":\"#E5ECF6\",\"angularaxis\":{\"gridcolor\":\"white\",\"linecolor\":\"white\",\"ticks\":\"\"},\"radialaxis\":{\"gridcolor\":\"white\",\"linecolor\":\"white\",\"ticks\":\"\"}},\"ternary\":{\"bgcolor\":\"#E5ECF6\",\"aaxis\":{\"gridcolor\":\"white\",\"linecolor\":\"white\",\"ticks\":\"\"},\"baxis\":{\"gridcolor\":\"white\",\"linecolor\":\"white\",\"ticks\":\"\"},\"caxis\":{\"gridcolor\":\"white\",\"linecolor\":\"white\",\"ticks\":\"\"}},\"coloraxis\":{\"colorbar\":{\"outlinewidth\":0,\"ticks\":\"\"}},\"colorscale\":{\"sequential\":[[0.0,\"#0d0887\"],[0.1111111111111111,\"#46039f\"],[0.2222222222222222,\"#7201a8\"],[0.3333333333333333,\"#9c179e\"],[0.4444444444444444,\"#bd3786\"],[0.5555555555555556,\"#d8576b\"],[0.6666666666666666,\"#ed7953\"],[0.7777777777777778,\"#fb9f3a\"],[0.8888888888888888,\"#fdca26\"],[1.0,\"#f0f921\"]],\"sequentialminus\":[[0.0,\"#0d0887\"],[0.1111111111111111,\"#46039f\"],[0.2222222222222222,\"#7201a8\"],[0.3333333333333333,\"#9c179e\"],[0.4444444444444444,\"#bd3786\"],[0.5555555555555556,\"#d8576b\"],[0.6666666666666666,\"#ed7953\"],[0.7777777777777778,\"#fb9f3a\"],[0.8888888888888888,\"#fdca26\"],[1.0,\"#f0f921\"]],\"diverging\":[[0,\"#8e0152\"],[0.1,\"#c51b7d\"],[0.2,\"#de77ae\"],[0.3,\"#f1b6da\"],[0.4,\"#fde0ef\"],[0.5,\"#f7f7f7\"],[0.6,\"#e6f5d0\"],[0.7,\"#b8e186\"],[0.8,\"#7fbc41\"],[0.9,\"#4d9221\"],[1,\"#276419\"]]},\"xaxis\":{\"gridcolor\":\"white\",\"linecolor\":\"white\",\"ticks\":\"\",\"title\":{\"standoff\":15},\"zerolinecolor\":\"white\",\"automargin\":true,\"zerolinewidth\":2},\"yaxis\":{\"gridcolor\":\"white\",\"linecolor\":\"white\",\"ticks\":\"\",\"title\":{\"standoff\":15},\"zerolinecolor\":\"white\",\"automargin\":true,\"zerolinewidth\":2},\"scene\":{\"xaxis\":{\"backgroundcolor\":\"#E5ECF6\",\"gridcolor\":\"white\",\"linecolor\":\"white\",\"showbackground\":true,\"ticks\":\"\",\"zerolinecolor\":\"white\",\"gridwidth\":2},\"yaxis\":{\"backgroundcolor\":\"#E5ECF6\",\"gridcolor\":\"white\",\"linecolor\":\"white\",\"showbackground\":true,\"ticks\":\"\",\"zerolinecolor\":\"white\",\"gridwidth\":2},\"zaxis\":{\"backgroundcolor\":\"#E5ECF6\",\"gridcolor\":\"white\",\"linecolor\":\"white\",\"showbackground\":true,\"ticks\":\"\",\"zerolinecolor\":\"white\",\"gridwidth\":2}},\"shapedefaults\":{\"line\":{\"color\":\"#2a3f5f\"}},\"annotationdefaults\":{\"arrowcolor\":\"#2a3f5f\",\"arrowhead\":0,\"arrowwidth\":1},\"geo\":{\"bgcolor\":\"white\",\"landcolor\":\"#E5ECF6\",\"subunitcolor\":\"white\",\"showland\":true,\"showlakes\":true,\"lakecolor\":\"white\"},\"title\":{\"x\":0.05},\"mapbox\":{\"style\":\"light\"}}},\"xaxis\":{\"anchor\":\"y\",\"domain\":[0.0,1.0],\"title\":{\"text\":\"Date\"}},\"yaxis\":{\"anchor\":\"x\",\"domain\":[0.0,1.0],\"title\":{\"text\":\"Percent\"}},\"legend\":{\"title\":{\"text\":\"keyword\"},\"tracegroupgap\":0},\"margin\":{\"t\":60},\"barmode\":\"relative\",\"bargap\":0},                        {\"responsive\": true}                    ).then(function(){\n",
       "                            \n",
       "var gd = document.getElementById('adab927c-5c08-4c92-890c-982ed60c8d4e');\n",
       "var x = new MutationObserver(function (mutations, observer) {{\n",
       "        var display = window.getComputedStyle(gd).display;\n",
       "        if (!display || display === 'none') {{\n",
       "            console.log([gd, 'removed!']);\n",
       "            Plotly.purge(gd);\n",
       "            observer.disconnect();\n",
       "        }}\n",
       "}});\n",
       "\n",
       "// Listen for the removal of the full notebook cells\n",
       "var notebookContainer = gd.closest('#notebook-container');\n",
       "if (notebookContainer) {{\n",
       "    x.observe(notebookContainer, {childList: true});\n",
       "}}\n",
       "\n",
       "// Listen for the clearing of the current output cell\n",
       "var outputEl = gd.closest('.output');\n",
       "if (outputEl) {{\n",
       "    x.observe(outputEl, {childList: true});\n",
       "}}\n",
       "\n",
       "                        })                };                });            </script>        </div>"
      ]
     },
     "metadata": {},
     "output_type": "display_data"
    }
   ],
   "source": [
    "# 빅테크, 테트핀 라는 용어는 외국에서 디지털 금융 관련 키워드로 등장 빈도가 낮음.\n",
    "\n",
    "mekko(df_k,['핀테크','빅테크','테크핀'])"
   ]
  },
  {
   "cell_type": "code",
   "execution_count": 84,
   "id": "40de8189",
   "metadata": {},
   "outputs": [
    {
     "data": {
      "application/vnd.plotly.v1+json": {
       "config": {
        "plotlyServerURL": "https://plot.ly"
       },
       "data": [
        {
         "alignmentgroup": "True",
         "hovertemplate": "keyword=%{text}<br>Date=%{x}<br>Percent=%{y}<extra></extra>",
         "legendgroup": "fintech",
         "marker": {
          "color": "#636efa",
          "pattern": {
           "shape": ""
          }
         },
         "name": "fintech",
         "offsetgroup": "fintech",
         "orientation": "v",
         "showlegend": true,
         "text": [
          "fintech",
          "fintech",
          "fintech",
          "fintech",
          "fintech",
          "fintech",
          "fintech",
          "fintech",
          "fintech",
          "fintech",
          "fintech",
          "fintech",
          "fintech",
          "fintech",
          "fintech",
          "fintech",
          "fintech",
          "fintech",
          "fintech",
          "fintech",
          "fintech",
          "fintech",
          "fintech",
          "fintech",
          "fintech",
          "fintech",
          "fintech",
          "fintech",
          "fintech",
          "fintech",
          "fintech",
          "fintech",
          "fintech",
          "fintech",
          "fintech"
         ],
         "textposition": "auto",
         "type": "bar",
         "x": [
          "2019-08-01T00:00:00",
          "2019-09-01T00:00:00",
          "2019-10-01T00:00:00",
          "2019-11-01T00:00:00",
          "2019-12-01T00:00:00",
          "2020-01-01T00:00:00",
          "2020-02-01T00:00:00",
          "2020-03-01T00:00:00",
          "2020-04-01T00:00:00",
          "2020-05-01T00:00:00",
          "2020-06-01T00:00:00",
          "2020-07-01T00:00:00",
          "2020-08-01T00:00:00",
          "2020-09-01T00:00:00",
          "2020-10-01T00:00:00",
          "2020-11-01T00:00:00",
          "2020-12-01T00:00:00",
          "2021-01-01T00:00:00",
          "2021-02-01T00:00:00",
          "2021-03-01T00:00:00",
          "2021-04-01T00:00:00",
          "2021-05-01T00:00:00",
          "2021-06-01T00:00:00",
          "2021-07-01T00:00:00",
          "2021-08-01T00:00:00",
          "2021-09-01T00:00:00",
          "2021-10-01T00:00:00",
          "2021-11-01T00:00:00",
          "2021-12-01T00:00:00",
          "2022-01-01T00:00:00",
          "2022-02-01T00:00:00",
          "2022-03-01T00:00:00",
          "2022-04-01T00:00:00",
          "2022-05-01T00:00:00",
          "2022-06-01T00:00:00"
         ],
         "xaxis": "x",
         "y": [
          0.9714285714285714,
          1,
          0.9772727272727273,
          0.9743589743589743,
          0.8571428571428571,
          1,
          0.92,
          0.9714285714285714,
          0.9354838709677419,
          0.9615384615384616,
          0.9642857142857143,
          0.9655172413793104,
          0.9777777777777777,
          0.9607843137254902,
          1,
          0.9318181818181818,
          0.9767441860465116,
          0.9838709677419355,
          1,
          0.974025974025974,
          0.9565217391304348,
          1,
          0.9710144927536232,
          0.9625,
          0.9423076923076923,
          1,
          0.9666666666666667,
          0.9746835443037974,
          1,
          1,
          0.975609756097561,
          0.9883720930232558,
          0.9775280898876404,
          0.9240506329113924,
          0.9583333333333334
         ],
         "yaxis": "y"
        },
        {
         "alignmentgroup": "True",
         "hovertemplate": "keyword=%{text}<br>Date=%{x}<br>Percent=%{y}<extra></extra>",
         "legendgroup": "bigtech",
         "marker": {
          "color": "#EF553B",
          "pattern": {
           "shape": ""
          }
         },
         "name": "bigtech",
         "offsetgroup": "bigtech",
         "orientation": "v",
         "showlegend": true,
         "text": [
          "bigtech",
          "bigtech",
          "bigtech",
          "bigtech",
          "bigtech",
          "bigtech",
          "bigtech",
          "bigtech",
          "bigtech",
          "bigtech",
          "bigtech",
          "bigtech",
          "bigtech",
          "bigtech",
          "bigtech",
          "bigtech",
          "bigtech",
          "bigtech",
          "bigtech",
          "bigtech",
          "bigtech",
          "bigtech",
          "bigtech",
          "bigtech",
          "bigtech",
          "bigtech",
          "bigtech",
          "bigtech",
          "bigtech",
          "bigtech",
          "bigtech",
          "bigtech",
          "bigtech",
          "bigtech",
          "bigtech"
         ],
         "textposition": "auto",
         "type": "bar",
         "x": [
          "2019-08-01T00:00:00",
          "2019-09-01T00:00:00",
          "2019-10-01T00:00:00",
          "2019-11-01T00:00:00",
          "2019-12-01T00:00:00",
          "2020-01-01T00:00:00",
          "2020-02-01T00:00:00",
          "2020-03-01T00:00:00",
          "2020-04-01T00:00:00",
          "2020-05-01T00:00:00",
          "2020-06-01T00:00:00",
          "2020-07-01T00:00:00",
          "2020-08-01T00:00:00",
          "2020-09-01T00:00:00",
          "2020-10-01T00:00:00",
          "2020-11-01T00:00:00",
          "2020-12-01T00:00:00",
          "2021-01-01T00:00:00",
          "2021-02-01T00:00:00",
          "2021-03-01T00:00:00",
          "2021-04-01T00:00:00",
          "2021-05-01T00:00:00",
          "2021-06-01T00:00:00",
          "2021-07-01T00:00:00",
          "2021-08-01T00:00:00",
          "2021-09-01T00:00:00",
          "2021-10-01T00:00:00",
          "2021-11-01T00:00:00",
          "2021-12-01T00:00:00",
          "2022-01-01T00:00:00",
          "2022-02-01T00:00:00",
          "2022-03-01T00:00:00",
          "2022-04-01T00:00:00",
          "2022-05-01T00:00:00",
          "2022-06-01T00:00:00"
         ],
         "xaxis": "x",
         "y": [
          0.02857142857142857,
          0,
          0.022727272727272728,
          0.02564102564102564,
          0.14285714285714285,
          0,
          0.08,
          0.02857142857142857,
          0.06451612903225806,
          0.038461538461538464,
          0.03571428571428571,
          0.034482758620689655,
          0.022222222222222223,
          0.0392156862745098,
          0,
          0.06818181818181818,
          0.023255813953488372,
          0.016129032258064516,
          0,
          0.025974025974025976,
          0.043478260869565216,
          0,
          0.028985507246376812,
          0.0375,
          0.057692307692307696,
          0,
          0.03333333333333333,
          0.02531645569620253,
          0,
          0,
          0.024390243902439025,
          0.011627906976744186,
          0.02247191011235955,
          0.0759493670886076,
          0.041666666666666664
         ],
         "yaxis": "y"
        }
       ],
       "layout": {
        "bargap": 0,
        "barmode": "relative",
        "legend": {
         "title": {
          "text": "keyword"
         },
         "tracegroupgap": 0
        },
        "margin": {
         "t": 60
        },
        "template": {
         "data": {
          "bar": [
           {
            "error_x": {
             "color": "#2a3f5f"
            },
            "error_y": {
             "color": "#2a3f5f"
            },
            "marker": {
             "line": {
              "color": "#E5ECF6",
              "width": 0.5
             },
             "pattern": {
              "fillmode": "overlay",
              "size": 10,
              "solidity": 0.2
             }
            },
            "type": "bar"
           }
          ],
          "barpolar": [
           {
            "marker": {
             "line": {
              "color": "#E5ECF6",
              "width": 0.5
             },
             "pattern": {
              "fillmode": "overlay",
              "size": 10,
              "solidity": 0.2
             }
            },
            "type": "barpolar"
           }
          ],
          "carpet": [
           {
            "aaxis": {
             "endlinecolor": "#2a3f5f",
             "gridcolor": "white",
             "linecolor": "white",
             "minorgridcolor": "white",
             "startlinecolor": "#2a3f5f"
            },
            "baxis": {
             "endlinecolor": "#2a3f5f",
             "gridcolor": "white",
             "linecolor": "white",
             "minorgridcolor": "white",
             "startlinecolor": "#2a3f5f"
            },
            "type": "carpet"
           }
          ],
          "choropleth": [
           {
            "colorbar": {
             "outlinewidth": 0,
             "ticks": ""
            },
            "type": "choropleth"
           }
          ],
          "contour": [
           {
            "colorbar": {
             "outlinewidth": 0,
             "ticks": ""
            },
            "colorscale": [
             [
              0,
              "#0d0887"
             ],
             [
              0.1111111111111111,
              "#46039f"
             ],
             [
              0.2222222222222222,
              "#7201a8"
             ],
             [
              0.3333333333333333,
              "#9c179e"
             ],
             [
              0.4444444444444444,
              "#bd3786"
             ],
             [
              0.5555555555555556,
              "#d8576b"
             ],
             [
              0.6666666666666666,
              "#ed7953"
             ],
             [
              0.7777777777777778,
              "#fb9f3a"
             ],
             [
              0.8888888888888888,
              "#fdca26"
             ],
             [
              1,
              "#f0f921"
             ]
            ],
            "type": "contour"
           }
          ],
          "contourcarpet": [
           {
            "colorbar": {
             "outlinewidth": 0,
             "ticks": ""
            },
            "type": "contourcarpet"
           }
          ],
          "heatmap": [
           {
            "colorbar": {
             "outlinewidth": 0,
             "ticks": ""
            },
            "colorscale": [
             [
              0,
              "#0d0887"
             ],
             [
              0.1111111111111111,
              "#46039f"
             ],
             [
              0.2222222222222222,
              "#7201a8"
             ],
             [
              0.3333333333333333,
              "#9c179e"
             ],
             [
              0.4444444444444444,
              "#bd3786"
             ],
             [
              0.5555555555555556,
              "#d8576b"
             ],
             [
              0.6666666666666666,
              "#ed7953"
             ],
             [
              0.7777777777777778,
              "#fb9f3a"
             ],
             [
              0.8888888888888888,
              "#fdca26"
             ],
             [
              1,
              "#f0f921"
             ]
            ],
            "type": "heatmap"
           }
          ],
          "heatmapgl": [
           {
            "colorbar": {
             "outlinewidth": 0,
             "ticks": ""
            },
            "colorscale": [
             [
              0,
              "#0d0887"
             ],
             [
              0.1111111111111111,
              "#46039f"
             ],
             [
              0.2222222222222222,
              "#7201a8"
             ],
             [
              0.3333333333333333,
              "#9c179e"
             ],
             [
              0.4444444444444444,
              "#bd3786"
             ],
             [
              0.5555555555555556,
              "#d8576b"
             ],
             [
              0.6666666666666666,
              "#ed7953"
             ],
             [
              0.7777777777777778,
              "#fb9f3a"
             ],
             [
              0.8888888888888888,
              "#fdca26"
             ],
             [
              1,
              "#f0f921"
             ]
            ],
            "type": "heatmapgl"
           }
          ],
          "histogram": [
           {
            "marker": {
             "pattern": {
              "fillmode": "overlay",
              "size": 10,
              "solidity": 0.2
             }
            },
            "type": "histogram"
           }
          ],
          "histogram2d": [
           {
            "colorbar": {
             "outlinewidth": 0,
             "ticks": ""
            },
            "colorscale": [
             [
              0,
              "#0d0887"
             ],
             [
              0.1111111111111111,
              "#46039f"
             ],
             [
              0.2222222222222222,
              "#7201a8"
             ],
             [
              0.3333333333333333,
              "#9c179e"
             ],
             [
              0.4444444444444444,
              "#bd3786"
             ],
             [
              0.5555555555555556,
              "#d8576b"
             ],
             [
              0.6666666666666666,
              "#ed7953"
             ],
             [
              0.7777777777777778,
              "#fb9f3a"
             ],
             [
              0.8888888888888888,
              "#fdca26"
             ],
             [
              1,
              "#f0f921"
             ]
            ],
            "type": "histogram2d"
           }
          ],
          "histogram2dcontour": [
           {
            "colorbar": {
             "outlinewidth": 0,
             "ticks": ""
            },
            "colorscale": [
             [
              0,
              "#0d0887"
             ],
             [
              0.1111111111111111,
              "#46039f"
             ],
             [
              0.2222222222222222,
              "#7201a8"
             ],
             [
              0.3333333333333333,
              "#9c179e"
             ],
             [
              0.4444444444444444,
              "#bd3786"
             ],
             [
              0.5555555555555556,
              "#d8576b"
             ],
             [
              0.6666666666666666,
              "#ed7953"
             ],
             [
              0.7777777777777778,
              "#fb9f3a"
             ],
             [
              0.8888888888888888,
              "#fdca26"
             ],
             [
              1,
              "#f0f921"
             ]
            ],
            "type": "histogram2dcontour"
           }
          ],
          "mesh3d": [
           {
            "colorbar": {
             "outlinewidth": 0,
             "ticks": ""
            },
            "type": "mesh3d"
           }
          ],
          "parcoords": [
           {
            "line": {
             "colorbar": {
              "outlinewidth": 0,
              "ticks": ""
             }
            },
            "type": "parcoords"
           }
          ],
          "pie": [
           {
            "automargin": true,
            "type": "pie"
           }
          ],
          "scatter": [
           {
            "fillpattern": {
             "fillmode": "overlay",
             "size": 10,
             "solidity": 0.2
            },
            "type": "scatter"
           }
          ],
          "scatter3d": [
           {
            "line": {
             "colorbar": {
              "outlinewidth": 0,
              "ticks": ""
             }
            },
            "marker": {
             "colorbar": {
              "outlinewidth": 0,
              "ticks": ""
             }
            },
            "type": "scatter3d"
           }
          ],
          "scattercarpet": [
           {
            "marker": {
             "colorbar": {
              "outlinewidth": 0,
              "ticks": ""
             }
            },
            "type": "scattercarpet"
           }
          ],
          "scattergeo": [
           {
            "marker": {
             "colorbar": {
              "outlinewidth": 0,
              "ticks": ""
             }
            },
            "type": "scattergeo"
           }
          ],
          "scattergl": [
           {
            "marker": {
             "colorbar": {
              "outlinewidth": 0,
              "ticks": ""
             }
            },
            "type": "scattergl"
           }
          ],
          "scattermapbox": [
           {
            "marker": {
             "colorbar": {
              "outlinewidth": 0,
              "ticks": ""
             }
            },
            "type": "scattermapbox"
           }
          ],
          "scatterpolar": [
           {
            "marker": {
             "colorbar": {
              "outlinewidth": 0,
              "ticks": ""
             }
            },
            "type": "scatterpolar"
           }
          ],
          "scatterpolargl": [
           {
            "marker": {
             "colorbar": {
              "outlinewidth": 0,
              "ticks": ""
             }
            },
            "type": "scatterpolargl"
           }
          ],
          "scatterternary": [
           {
            "marker": {
             "colorbar": {
              "outlinewidth": 0,
              "ticks": ""
             }
            },
            "type": "scatterternary"
           }
          ],
          "surface": [
           {
            "colorbar": {
             "outlinewidth": 0,
             "ticks": ""
            },
            "colorscale": [
             [
              0,
              "#0d0887"
             ],
             [
              0.1111111111111111,
              "#46039f"
             ],
             [
              0.2222222222222222,
              "#7201a8"
             ],
             [
              0.3333333333333333,
              "#9c179e"
             ],
             [
              0.4444444444444444,
              "#bd3786"
             ],
             [
              0.5555555555555556,
              "#d8576b"
             ],
             [
              0.6666666666666666,
              "#ed7953"
             ],
             [
              0.7777777777777778,
              "#fb9f3a"
             ],
             [
              0.8888888888888888,
              "#fdca26"
             ],
             [
              1,
              "#f0f921"
             ]
            ],
            "type": "surface"
           }
          ],
          "table": [
           {
            "cells": {
             "fill": {
              "color": "#EBF0F8"
             },
             "line": {
              "color": "white"
             }
            },
            "header": {
             "fill": {
              "color": "#C8D4E3"
             },
             "line": {
              "color": "white"
             }
            },
            "type": "table"
           }
          ]
         },
         "layout": {
          "annotationdefaults": {
           "arrowcolor": "#2a3f5f",
           "arrowhead": 0,
           "arrowwidth": 1
          },
          "autotypenumbers": "strict",
          "coloraxis": {
           "colorbar": {
            "outlinewidth": 0,
            "ticks": ""
           }
          },
          "colorscale": {
           "diverging": [
            [
             0,
             "#8e0152"
            ],
            [
             0.1,
             "#c51b7d"
            ],
            [
             0.2,
             "#de77ae"
            ],
            [
             0.3,
             "#f1b6da"
            ],
            [
             0.4,
             "#fde0ef"
            ],
            [
             0.5,
             "#f7f7f7"
            ],
            [
             0.6,
             "#e6f5d0"
            ],
            [
             0.7,
             "#b8e186"
            ],
            [
             0.8,
             "#7fbc41"
            ],
            [
             0.9,
             "#4d9221"
            ],
            [
             1,
             "#276419"
            ]
           ],
           "sequential": [
            [
             0,
             "#0d0887"
            ],
            [
             0.1111111111111111,
             "#46039f"
            ],
            [
             0.2222222222222222,
             "#7201a8"
            ],
            [
             0.3333333333333333,
             "#9c179e"
            ],
            [
             0.4444444444444444,
             "#bd3786"
            ],
            [
             0.5555555555555556,
             "#d8576b"
            ],
            [
             0.6666666666666666,
             "#ed7953"
            ],
            [
             0.7777777777777778,
             "#fb9f3a"
            ],
            [
             0.8888888888888888,
             "#fdca26"
            ],
            [
             1,
             "#f0f921"
            ]
           ],
           "sequentialminus": [
            [
             0,
             "#0d0887"
            ],
            [
             0.1111111111111111,
             "#46039f"
            ],
            [
             0.2222222222222222,
             "#7201a8"
            ],
            [
             0.3333333333333333,
             "#9c179e"
            ],
            [
             0.4444444444444444,
             "#bd3786"
            ],
            [
             0.5555555555555556,
             "#d8576b"
            ],
            [
             0.6666666666666666,
             "#ed7953"
            ],
            [
             0.7777777777777778,
             "#fb9f3a"
            ],
            [
             0.8888888888888888,
             "#fdca26"
            ],
            [
             1,
             "#f0f921"
            ]
           ]
          },
          "colorway": [
           "#636efa",
           "#EF553B",
           "#00cc96",
           "#ab63fa",
           "#FFA15A",
           "#19d3f3",
           "#FF6692",
           "#B6E880",
           "#FF97FF",
           "#FECB52"
          ],
          "font": {
           "color": "#2a3f5f"
          },
          "geo": {
           "bgcolor": "white",
           "lakecolor": "white",
           "landcolor": "#E5ECF6",
           "showlakes": true,
           "showland": true,
           "subunitcolor": "white"
          },
          "hoverlabel": {
           "align": "left"
          },
          "hovermode": "closest",
          "mapbox": {
           "style": "light"
          },
          "paper_bgcolor": "white",
          "plot_bgcolor": "#E5ECF6",
          "polar": {
           "angularaxis": {
            "gridcolor": "white",
            "linecolor": "white",
            "ticks": ""
           },
           "bgcolor": "#E5ECF6",
           "radialaxis": {
            "gridcolor": "white",
            "linecolor": "white",
            "ticks": ""
           }
          },
          "scene": {
           "xaxis": {
            "backgroundcolor": "#E5ECF6",
            "gridcolor": "white",
            "gridwidth": 2,
            "linecolor": "white",
            "showbackground": true,
            "ticks": "",
            "zerolinecolor": "white"
           },
           "yaxis": {
            "backgroundcolor": "#E5ECF6",
            "gridcolor": "white",
            "gridwidth": 2,
            "linecolor": "white",
            "showbackground": true,
            "ticks": "",
            "zerolinecolor": "white"
           },
           "zaxis": {
            "backgroundcolor": "#E5ECF6",
            "gridcolor": "white",
            "gridwidth": 2,
            "linecolor": "white",
            "showbackground": true,
            "ticks": "",
            "zerolinecolor": "white"
           }
          },
          "shapedefaults": {
           "line": {
            "color": "#2a3f5f"
           }
          },
          "ternary": {
           "aaxis": {
            "gridcolor": "white",
            "linecolor": "white",
            "ticks": ""
           },
           "baxis": {
            "gridcolor": "white",
            "linecolor": "white",
            "ticks": ""
           },
           "bgcolor": "#E5ECF6",
           "caxis": {
            "gridcolor": "white",
            "linecolor": "white",
            "ticks": ""
           }
          },
          "title": {
           "x": 0.05
          },
          "xaxis": {
           "automargin": true,
           "gridcolor": "white",
           "linecolor": "white",
           "ticks": "",
           "title": {
            "standoff": 15
           },
           "zerolinecolor": "white",
           "zerolinewidth": 2
          },
          "yaxis": {
           "automargin": true,
           "gridcolor": "white",
           "linecolor": "white",
           "ticks": "",
           "title": {
            "standoff": 15
           },
           "zerolinecolor": "white",
           "zerolinewidth": 2
          }
         }
        },
        "xaxis": {
         "anchor": "y",
         "domain": [
          0,
          1
         ],
         "title": {
          "text": "Date"
         }
        },
        "yaxis": {
         "anchor": "x",
         "domain": [
          0,
          1
         ],
         "title": {
          "text": "Percent"
         }
        }
       }
      },
      "text/html": [
       "<div>                            <div id=\"f7a4c4fe-c3cf-48e7-84f9-114498b9e2a0\" class=\"plotly-graph-div\" style=\"height:525px; width:100%;\"></div>            <script type=\"text/javascript\">                require([\"plotly\"], function(Plotly) {                    window.PLOTLYENV=window.PLOTLYENV || {};                                    if (document.getElementById(\"f7a4c4fe-c3cf-48e7-84f9-114498b9e2a0\")) {                    Plotly.newPlot(                        \"f7a4c4fe-c3cf-48e7-84f9-114498b9e2a0\",                        [{\"alignmentgroup\":\"True\",\"hovertemplate\":\"keyword=%{text}<br>Date=%{x}<br>Percent=%{y}<extra></extra>\",\"legendgroup\":\"fintech\",\"marker\":{\"color\":\"#636efa\",\"pattern\":{\"shape\":\"\"}},\"name\":\"fintech\",\"offsetgroup\":\"fintech\",\"orientation\":\"v\",\"showlegend\":true,\"text\":[\"fintech\",\"fintech\",\"fintech\",\"fintech\",\"fintech\",\"fintech\",\"fintech\",\"fintech\",\"fintech\",\"fintech\",\"fintech\",\"fintech\",\"fintech\",\"fintech\",\"fintech\",\"fintech\",\"fintech\",\"fintech\",\"fintech\",\"fintech\",\"fintech\",\"fintech\",\"fintech\",\"fintech\",\"fintech\",\"fintech\",\"fintech\",\"fintech\",\"fintech\",\"fintech\",\"fintech\",\"fintech\",\"fintech\",\"fintech\",\"fintech\"],\"textposition\":\"auto\",\"x\":[\"2019-08-01T00:00:00\",\"2019-09-01T00:00:00\",\"2019-10-01T00:00:00\",\"2019-11-01T00:00:00\",\"2019-12-01T00:00:00\",\"2020-01-01T00:00:00\",\"2020-02-01T00:00:00\",\"2020-03-01T00:00:00\",\"2020-04-01T00:00:00\",\"2020-05-01T00:00:00\",\"2020-06-01T00:00:00\",\"2020-07-01T00:00:00\",\"2020-08-01T00:00:00\",\"2020-09-01T00:00:00\",\"2020-10-01T00:00:00\",\"2020-11-01T00:00:00\",\"2020-12-01T00:00:00\",\"2021-01-01T00:00:00\",\"2021-02-01T00:00:00\",\"2021-03-01T00:00:00\",\"2021-04-01T00:00:00\",\"2021-05-01T00:00:00\",\"2021-06-01T00:00:00\",\"2021-07-01T00:00:00\",\"2021-08-01T00:00:00\",\"2021-09-01T00:00:00\",\"2021-10-01T00:00:00\",\"2021-11-01T00:00:00\",\"2021-12-01T00:00:00\",\"2022-01-01T00:00:00\",\"2022-02-01T00:00:00\",\"2022-03-01T00:00:00\",\"2022-04-01T00:00:00\",\"2022-05-01T00:00:00\",\"2022-06-01T00:00:00\"],\"xaxis\":\"x\",\"y\":[0.9714285714285714,1.0,0.9772727272727273,0.9743589743589743,0.8571428571428571,1.0,0.92,0.9714285714285714,0.9354838709677419,0.9615384615384616,0.9642857142857143,0.9655172413793104,0.9777777777777777,0.9607843137254902,1.0,0.9318181818181818,0.9767441860465116,0.9838709677419355,1.0,0.974025974025974,0.9565217391304348,1.0,0.9710144927536232,0.9625,0.9423076923076923,1.0,0.9666666666666667,0.9746835443037974,1.0,1.0,0.975609756097561,0.9883720930232558,0.9775280898876404,0.9240506329113924,0.9583333333333334],\"yaxis\":\"y\",\"type\":\"bar\"},{\"alignmentgroup\":\"True\",\"hovertemplate\":\"keyword=%{text}<br>Date=%{x}<br>Percent=%{y}<extra></extra>\",\"legendgroup\":\"bigtech\",\"marker\":{\"color\":\"#EF553B\",\"pattern\":{\"shape\":\"\"}},\"name\":\"bigtech\",\"offsetgroup\":\"bigtech\",\"orientation\":\"v\",\"showlegend\":true,\"text\":[\"bigtech\",\"bigtech\",\"bigtech\",\"bigtech\",\"bigtech\",\"bigtech\",\"bigtech\",\"bigtech\",\"bigtech\",\"bigtech\",\"bigtech\",\"bigtech\",\"bigtech\",\"bigtech\",\"bigtech\",\"bigtech\",\"bigtech\",\"bigtech\",\"bigtech\",\"bigtech\",\"bigtech\",\"bigtech\",\"bigtech\",\"bigtech\",\"bigtech\",\"bigtech\",\"bigtech\",\"bigtech\",\"bigtech\",\"bigtech\",\"bigtech\",\"bigtech\",\"bigtech\",\"bigtech\",\"bigtech\"],\"textposition\":\"auto\",\"x\":[\"2019-08-01T00:00:00\",\"2019-09-01T00:00:00\",\"2019-10-01T00:00:00\",\"2019-11-01T00:00:00\",\"2019-12-01T00:00:00\",\"2020-01-01T00:00:00\",\"2020-02-01T00:00:00\",\"2020-03-01T00:00:00\",\"2020-04-01T00:00:00\",\"2020-05-01T00:00:00\",\"2020-06-01T00:00:00\",\"2020-07-01T00:00:00\",\"2020-08-01T00:00:00\",\"2020-09-01T00:00:00\",\"2020-10-01T00:00:00\",\"2020-11-01T00:00:00\",\"2020-12-01T00:00:00\",\"2021-01-01T00:00:00\",\"2021-02-01T00:00:00\",\"2021-03-01T00:00:00\",\"2021-04-01T00:00:00\",\"2021-05-01T00:00:00\",\"2021-06-01T00:00:00\",\"2021-07-01T00:00:00\",\"2021-08-01T00:00:00\",\"2021-09-01T00:00:00\",\"2021-10-01T00:00:00\",\"2021-11-01T00:00:00\",\"2021-12-01T00:00:00\",\"2022-01-01T00:00:00\",\"2022-02-01T00:00:00\",\"2022-03-01T00:00:00\",\"2022-04-01T00:00:00\",\"2022-05-01T00:00:00\",\"2022-06-01T00:00:00\"],\"xaxis\":\"x\",\"y\":[0.02857142857142857,0.0,0.022727272727272728,0.02564102564102564,0.14285714285714285,0.0,0.08,0.02857142857142857,0.06451612903225806,0.038461538461538464,0.03571428571428571,0.034482758620689655,0.022222222222222223,0.0392156862745098,0.0,0.06818181818181818,0.023255813953488372,0.016129032258064516,0.0,0.025974025974025976,0.043478260869565216,0.0,0.028985507246376812,0.0375,0.057692307692307696,0.0,0.03333333333333333,0.02531645569620253,0.0,0.0,0.024390243902439025,0.011627906976744186,0.02247191011235955,0.0759493670886076,0.041666666666666664],\"yaxis\":\"y\",\"type\":\"bar\"}],                        {\"template\":{\"data\":{\"histogram2dcontour\":[{\"type\":\"histogram2dcontour\",\"colorbar\":{\"outlinewidth\":0,\"ticks\":\"\"},\"colorscale\":[[0.0,\"#0d0887\"],[0.1111111111111111,\"#46039f\"],[0.2222222222222222,\"#7201a8\"],[0.3333333333333333,\"#9c179e\"],[0.4444444444444444,\"#bd3786\"],[0.5555555555555556,\"#d8576b\"],[0.6666666666666666,\"#ed7953\"],[0.7777777777777778,\"#fb9f3a\"],[0.8888888888888888,\"#fdca26\"],[1.0,\"#f0f921\"]]}],\"choropleth\":[{\"type\":\"choropleth\",\"colorbar\":{\"outlinewidth\":0,\"ticks\":\"\"}}],\"histogram2d\":[{\"type\":\"histogram2d\",\"colorbar\":{\"outlinewidth\":0,\"ticks\":\"\"},\"colorscale\":[[0.0,\"#0d0887\"],[0.1111111111111111,\"#46039f\"],[0.2222222222222222,\"#7201a8\"],[0.3333333333333333,\"#9c179e\"],[0.4444444444444444,\"#bd3786\"],[0.5555555555555556,\"#d8576b\"],[0.6666666666666666,\"#ed7953\"],[0.7777777777777778,\"#fb9f3a\"],[0.8888888888888888,\"#fdca26\"],[1.0,\"#f0f921\"]]}],\"heatmap\":[{\"type\":\"heatmap\",\"colorbar\":{\"outlinewidth\":0,\"ticks\":\"\"},\"colorscale\":[[0.0,\"#0d0887\"],[0.1111111111111111,\"#46039f\"],[0.2222222222222222,\"#7201a8\"],[0.3333333333333333,\"#9c179e\"],[0.4444444444444444,\"#bd3786\"],[0.5555555555555556,\"#d8576b\"],[0.6666666666666666,\"#ed7953\"],[0.7777777777777778,\"#fb9f3a\"],[0.8888888888888888,\"#fdca26\"],[1.0,\"#f0f921\"]]}],\"heatmapgl\":[{\"type\":\"heatmapgl\",\"colorbar\":{\"outlinewidth\":0,\"ticks\":\"\"},\"colorscale\":[[0.0,\"#0d0887\"],[0.1111111111111111,\"#46039f\"],[0.2222222222222222,\"#7201a8\"],[0.3333333333333333,\"#9c179e\"],[0.4444444444444444,\"#bd3786\"],[0.5555555555555556,\"#d8576b\"],[0.6666666666666666,\"#ed7953\"],[0.7777777777777778,\"#fb9f3a\"],[0.8888888888888888,\"#fdca26\"],[1.0,\"#f0f921\"]]}],\"contourcarpet\":[{\"type\":\"contourcarpet\",\"colorbar\":{\"outlinewidth\":0,\"ticks\":\"\"}}],\"contour\":[{\"type\":\"contour\",\"colorbar\":{\"outlinewidth\":0,\"ticks\":\"\"},\"colorscale\":[[0.0,\"#0d0887\"],[0.1111111111111111,\"#46039f\"],[0.2222222222222222,\"#7201a8\"],[0.3333333333333333,\"#9c179e\"],[0.4444444444444444,\"#bd3786\"],[0.5555555555555556,\"#d8576b\"],[0.6666666666666666,\"#ed7953\"],[0.7777777777777778,\"#fb9f3a\"],[0.8888888888888888,\"#fdca26\"],[1.0,\"#f0f921\"]]}],\"surface\":[{\"type\":\"surface\",\"colorbar\":{\"outlinewidth\":0,\"ticks\":\"\"},\"colorscale\":[[0.0,\"#0d0887\"],[0.1111111111111111,\"#46039f\"],[0.2222222222222222,\"#7201a8\"],[0.3333333333333333,\"#9c179e\"],[0.4444444444444444,\"#bd3786\"],[0.5555555555555556,\"#d8576b\"],[0.6666666666666666,\"#ed7953\"],[0.7777777777777778,\"#fb9f3a\"],[0.8888888888888888,\"#fdca26\"],[1.0,\"#f0f921\"]]}],\"mesh3d\":[{\"type\":\"mesh3d\",\"colorbar\":{\"outlinewidth\":0,\"ticks\":\"\"}}],\"scatter\":[{\"fillpattern\":{\"fillmode\":\"overlay\",\"size\":10,\"solidity\":0.2},\"type\":\"scatter\"}],\"parcoords\":[{\"type\":\"parcoords\",\"line\":{\"colorbar\":{\"outlinewidth\":0,\"ticks\":\"\"}}}],\"scatterpolargl\":[{\"type\":\"scatterpolargl\",\"marker\":{\"colorbar\":{\"outlinewidth\":0,\"ticks\":\"\"}}}],\"bar\":[{\"error_x\":{\"color\":\"#2a3f5f\"},\"error_y\":{\"color\":\"#2a3f5f\"},\"marker\":{\"line\":{\"color\":\"#E5ECF6\",\"width\":0.5},\"pattern\":{\"fillmode\":\"overlay\",\"size\":10,\"solidity\":0.2}},\"type\":\"bar\"}],\"scattergeo\":[{\"type\":\"scattergeo\",\"marker\":{\"colorbar\":{\"outlinewidth\":0,\"ticks\":\"\"}}}],\"scatterpolar\":[{\"type\":\"scatterpolar\",\"marker\":{\"colorbar\":{\"outlinewidth\":0,\"ticks\":\"\"}}}],\"histogram\":[{\"marker\":{\"pattern\":{\"fillmode\":\"overlay\",\"size\":10,\"solidity\":0.2}},\"type\":\"histogram\"}],\"scattergl\":[{\"type\":\"scattergl\",\"marker\":{\"colorbar\":{\"outlinewidth\":0,\"ticks\":\"\"}}}],\"scatter3d\":[{\"type\":\"scatter3d\",\"line\":{\"colorbar\":{\"outlinewidth\":0,\"ticks\":\"\"}},\"marker\":{\"colorbar\":{\"outlinewidth\":0,\"ticks\":\"\"}}}],\"scattermapbox\":[{\"type\":\"scattermapbox\",\"marker\":{\"colorbar\":{\"outlinewidth\":0,\"ticks\":\"\"}}}],\"scatterternary\":[{\"type\":\"scatterternary\",\"marker\":{\"colorbar\":{\"outlinewidth\":0,\"ticks\":\"\"}}}],\"scattercarpet\":[{\"type\":\"scattercarpet\",\"marker\":{\"colorbar\":{\"outlinewidth\":0,\"ticks\":\"\"}}}],\"carpet\":[{\"aaxis\":{\"endlinecolor\":\"#2a3f5f\",\"gridcolor\":\"white\",\"linecolor\":\"white\",\"minorgridcolor\":\"white\",\"startlinecolor\":\"#2a3f5f\"},\"baxis\":{\"endlinecolor\":\"#2a3f5f\",\"gridcolor\":\"white\",\"linecolor\":\"white\",\"minorgridcolor\":\"white\",\"startlinecolor\":\"#2a3f5f\"},\"type\":\"carpet\"}],\"table\":[{\"cells\":{\"fill\":{\"color\":\"#EBF0F8\"},\"line\":{\"color\":\"white\"}},\"header\":{\"fill\":{\"color\":\"#C8D4E3\"},\"line\":{\"color\":\"white\"}},\"type\":\"table\"}],\"barpolar\":[{\"marker\":{\"line\":{\"color\":\"#E5ECF6\",\"width\":0.5},\"pattern\":{\"fillmode\":\"overlay\",\"size\":10,\"solidity\":0.2}},\"type\":\"barpolar\"}],\"pie\":[{\"automargin\":true,\"type\":\"pie\"}]},\"layout\":{\"autotypenumbers\":\"strict\",\"colorway\":[\"#636efa\",\"#EF553B\",\"#00cc96\",\"#ab63fa\",\"#FFA15A\",\"#19d3f3\",\"#FF6692\",\"#B6E880\",\"#FF97FF\",\"#FECB52\"],\"font\":{\"color\":\"#2a3f5f\"},\"hovermode\":\"closest\",\"hoverlabel\":{\"align\":\"left\"},\"paper_bgcolor\":\"white\",\"plot_bgcolor\":\"#E5ECF6\",\"polar\":{\"bgcolor\":\"#E5ECF6\",\"angularaxis\":{\"gridcolor\":\"white\",\"linecolor\":\"white\",\"ticks\":\"\"},\"radialaxis\":{\"gridcolor\":\"white\",\"linecolor\":\"white\",\"ticks\":\"\"}},\"ternary\":{\"bgcolor\":\"#E5ECF6\",\"aaxis\":{\"gridcolor\":\"white\",\"linecolor\":\"white\",\"ticks\":\"\"},\"baxis\":{\"gridcolor\":\"white\",\"linecolor\":\"white\",\"ticks\":\"\"},\"caxis\":{\"gridcolor\":\"white\",\"linecolor\":\"white\",\"ticks\":\"\"}},\"coloraxis\":{\"colorbar\":{\"outlinewidth\":0,\"ticks\":\"\"}},\"colorscale\":{\"sequential\":[[0.0,\"#0d0887\"],[0.1111111111111111,\"#46039f\"],[0.2222222222222222,\"#7201a8\"],[0.3333333333333333,\"#9c179e\"],[0.4444444444444444,\"#bd3786\"],[0.5555555555555556,\"#d8576b\"],[0.6666666666666666,\"#ed7953\"],[0.7777777777777778,\"#fb9f3a\"],[0.8888888888888888,\"#fdca26\"],[1.0,\"#f0f921\"]],\"sequentialminus\":[[0.0,\"#0d0887\"],[0.1111111111111111,\"#46039f\"],[0.2222222222222222,\"#7201a8\"],[0.3333333333333333,\"#9c179e\"],[0.4444444444444444,\"#bd3786\"],[0.5555555555555556,\"#d8576b\"],[0.6666666666666666,\"#ed7953\"],[0.7777777777777778,\"#fb9f3a\"],[0.8888888888888888,\"#fdca26\"],[1.0,\"#f0f921\"]],\"diverging\":[[0,\"#8e0152\"],[0.1,\"#c51b7d\"],[0.2,\"#de77ae\"],[0.3,\"#f1b6da\"],[0.4,\"#fde0ef\"],[0.5,\"#f7f7f7\"],[0.6,\"#e6f5d0\"],[0.7,\"#b8e186\"],[0.8,\"#7fbc41\"],[0.9,\"#4d9221\"],[1,\"#276419\"]]},\"xaxis\":{\"gridcolor\":\"white\",\"linecolor\":\"white\",\"ticks\":\"\",\"title\":{\"standoff\":15},\"zerolinecolor\":\"white\",\"automargin\":true,\"zerolinewidth\":2},\"yaxis\":{\"gridcolor\":\"white\",\"linecolor\":\"white\",\"ticks\":\"\",\"title\":{\"standoff\":15},\"zerolinecolor\":\"white\",\"automargin\":true,\"zerolinewidth\":2},\"scene\":{\"xaxis\":{\"backgroundcolor\":\"#E5ECF6\",\"gridcolor\":\"white\",\"linecolor\":\"white\",\"showbackground\":true,\"ticks\":\"\",\"zerolinecolor\":\"white\",\"gridwidth\":2},\"yaxis\":{\"backgroundcolor\":\"#E5ECF6\",\"gridcolor\":\"white\",\"linecolor\":\"white\",\"showbackground\":true,\"ticks\":\"\",\"zerolinecolor\":\"white\",\"gridwidth\":2},\"zaxis\":{\"backgroundcolor\":\"#E5ECF6\",\"gridcolor\":\"white\",\"linecolor\":\"white\",\"showbackground\":true,\"ticks\":\"\",\"zerolinecolor\":\"white\",\"gridwidth\":2}},\"shapedefaults\":{\"line\":{\"color\":\"#2a3f5f\"}},\"annotationdefaults\":{\"arrowcolor\":\"#2a3f5f\",\"arrowhead\":0,\"arrowwidth\":1},\"geo\":{\"bgcolor\":\"white\",\"landcolor\":\"#E5ECF6\",\"subunitcolor\":\"white\",\"showland\":true,\"showlakes\":true,\"lakecolor\":\"white\"},\"title\":{\"x\":0.05},\"mapbox\":{\"style\":\"light\"}}},\"xaxis\":{\"anchor\":\"y\",\"domain\":[0.0,1.0],\"title\":{\"text\":\"Date\"}},\"yaxis\":{\"anchor\":\"x\",\"domain\":[0.0,1.0],\"title\":{\"text\":\"Percent\"}},\"legend\":{\"title\":{\"text\":\"keyword\"},\"tracegroupgap\":0},\"margin\":{\"t\":60},\"barmode\":\"relative\",\"bargap\":0},                        {\"responsive\": true}                    ).then(function(){\n",
       "                            \n",
       "var gd = document.getElementById('f7a4c4fe-c3cf-48e7-84f9-114498b9e2a0');\n",
       "var x = new MutationObserver(function (mutations, observer) {{\n",
       "        var display = window.getComputedStyle(gd).display;\n",
       "        if (!display || display === 'none') {{\n",
       "            console.log([gd, 'removed!']);\n",
       "            Plotly.purge(gd);\n",
       "            observer.disconnect();\n",
       "        }}\n",
       "}});\n",
       "\n",
       "// Listen for the removal of the full notebook cells\n",
       "var notebookContainer = gd.closest('#notebook-container');\n",
       "if (notebookContainer) {{\n",
       "    x.observe(notebookContainer, {childList: true});\n",
       "}}\n",
       "\n",
       "// Listen for the clearing of the current output cell\n",
       "var outputEl = gd.closest('.output');\n",
       "if (outputEl) {{\n",
       "    x.observe(outputEl, {childList: true});\n",
       "}}\n",
       "\n",
       "                        })                };                });            </script>        </div>"
      ]
     },
     "metadata": {},
     "output_type": "display_data"
    }
   ],
   "source": [
    "mekko(df_e,['fintech','bigtech'])"
   ]
  },
  {
   "cell_type": "code",
   "execution_count": 14,
   "id": "b0c9d0c3",
   "metadata": {},
   "outputs": [],
   "source": [
    "\n",
    "'''\n",
    "# 시각화 비교 남는 시간 방법\n",
    "x = []\n",
    "y = []\n",
    "keys = []\n",
    "min_cnt = 300\n",
    "for i in keyword_vocab:\n",
    "    word = i\n",
    "    if df['2021'][word] > min_cnt and df['2022'][word] > min_cnt:\n",
    "        conf_2021 = df['2021'][word]/df['2021'][-1]\n",
    "        conf_2022 = df['2022'][word]/df['2022'][-1]\n",
    "        ratio_2022 = conf_2022 / conf_2021\n",
    "        ratio_2021 = conf_2021 / conf_2022\n",
    "        key = word\n",
    "        x.append(ratio_2021)\n",
    "        y.append(ratio_2022)\n",
    "        keys.append(key)\n",
    "df3 = pd.DataFrame({'key2021':x,'key2022':y}, index = keys)\n",
    "df3 = df3.dropna()\n",
    "import numpy as np\n",
    "df3 = df3.dropna()\n",
    "df3 = df3[df3.sum(axis = 1) != np.inf]\n",
    "df2.sum(axis = 1)[0]\n",
    "df3.sort_values(by = 'key2021',ascending = False).head(10)\n",
    "df3.sort_values(by = 'key2022',ascending = False).head(10)\n",
    "# 데이터 확인\n",
    "key = '농협은행'\n",
    "df[df.index == key]\n",
    "'''"
   ]
  }
 ],
 "metadata": {
  "kernelspec": {
   "display_name": "Python 3",
   "language": "python",
   "name": "python3"
  },
  "language_info": {
   "codemirror_mode": {
    "name": "ipython",
    "version": 3
   },
   "file_extension": ".py",
   "mimetype": "text/x-python",
   "name": "python",
   "nbconvert_exporter": "python",
   "pygments_lexer": "ipython3",
   "version": "3.9.5"
  }
 },
 "nbformat": 4,
 "nbformat_minor": 5
}
